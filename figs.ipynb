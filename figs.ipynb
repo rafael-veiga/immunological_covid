{
 "cells": [
  {
   "cell_type": "code",
   "execution_count": 1,
   "id": "99141d3a-56c2-487e-87de-d63fdf8eac19",
   "metadata": {},
   "outputs": [],
   "source": [
    "import plotly.express as px\n",
    "from sklearn.preprocessing import StandardScaler\n",
    "from sklearn.decomposition import PCA\n",
    "from sklearn.discriminant_analysis import LinearDiscriminantAnalysis\n",
    "import umap\n",
    "from plotly.subplots import make_subplots\n",
    "import plotly.graph_objects as go\n",
    "import pickle as pk\n",
    "import pandas as pd\n",
    "import numpy as np\n",
    "from sklearn.metrics import roc_curve,auc,calinski_harabasz_score\n",
    "from sklearn.decomposition import PCA\n",
    "from sklearn.manifold import TSNE\n",
    "import os\n",
    "fold = os.getcwd()"
   ]
  },
  {
   "cell_type": "markdown",
   "id": "b1bbe675-2dab-4392-98f8-2408c7737778",
   "metadata": {},
   "source": [
    "## Fig 1"
   ]
  },
  {
   "cell_type": "code",
   "execution_count": 2,
   "id": "50d86bc6-280d-4c04-971f-28a5bc054d1f",
   "metadata": {},
   "outputs": [
    {
     "name": "stderr",
     "output_type": "stream",
     "text": [
      "C:\\Users\\rafae\\AppData\\Local\\Temp\\ipykernel_13720\\705023574.py:17: SettingWithCopyWarning: \n",
      "A value is trying to be set on a copy of a slice from a DataFrame.\n",
      "Try using .loc[row_indexer,col_indexer] = value instead\n",
      "\n",
      "See the caveats in the documentation: https://pandas.pydata.org/pandas-docs/stable/user_guide/indexing.html#returning-a-view-versus-a-copy\n",
      "  d2_d.loc[d2_d.index,\"cib\"] = d2_d.ci2 -d2_d[\"or\"]\n",
      "C:\\Users\\rafae\\AppData\\Local\\Temp\\ipykernel_13720\\705023574.py:18: SettingWithCopyWarning: \n",
      "A value is trying to be set on a copy of a slice from a DataFrame.\n",
      "Try using .loc[row_indexer,col_indexer] = value instead\n",
      "\n",
      "See the caveats in the documentation: https://pandas.pydata.org/pandas-docs/stable/user_guide/indexing.html#returning-a-view-versus-a-copy\n",
      "  d2_d.loc[d2_d.index,\"cia\"] = d2_d[\"or\"] - d2_d.ci1\n",
      "C:\\Users\\rafae\\AppData\\Local\\Temp\\ipykernel_13720\\705023574.py:21: SettingWithCopyWarning: \n",
      "A value is trying to be set on a copy of a slice from a DataFrame.\n",
      "Try using .loc[row_indexer,col_indexer] = value instead\n",
      "\n",
      "See the caveats in the documentation: https://pandas.pydata.org/pandas-docs/stable/user_guide/indexing.html#returning-a-view-versus-a-copy\n",
      "  d3_p.loc[d3_p.index,\"cib\"] = d3_p.ci2 -d3_p[\"or\"]\n",
      "C:\\Users\\rafae\\AppData\\Local\\Temp\\ipykernel_13720\\705023574.py:22: SettingWithCopyWarning: \n",
      "A value is trying to be set on a copy of a slice from a DataFrame.\n",
      "Try using .loc[row_indexer,col_indexer] = value instead\n",
      "\n",
      "See the caveats in the documentation: https://pandas.pydata.org/pandas-docs/stable/user_guide/indexing.html#returning-a-view-versus-a-copy\n",
      "  d3_p.loc[d3_p.index,\"cia\"] = d3_p[\"or\"] - d3_p.ci1\n"
     ]
    },
    {
     "data": {
      "application/vnd.jupyter.widget-view+json": {
       "model_id": "6d7a499098b44ed2977007dde43fcb75",
       "version_major": 2,
       "version_minor": 0
      },
      "text/plain": [
       "FigureWidget({\n",
       "    'data': [{'error_x': {'array': array([ 0.54973018,  0.44724618,  0.51706428,  2.53968202,  2.48960591,\n",
       "                                           2.71108199,  3.40288882,  5.87866487, 10.97859664, 10.81060984]),\n",
       "                          'arrayminus': array([0.22562748, 0.21261631, 0.23187106, 1.25166478, 1.24846582, 1.34538098,\n",
       "                                               1.50964694, 2.10482277, 2.88260254, 3.23716126]),\n",
       "                          'symmetric': False,\n",
       "                          'type': 'data'},\n",
       "              'marker': {'color': 'black', 'size': 6},\n",
       "              'mode': 'markers',\n",
       "              'type': 'scatter',\n",
       "              'uid': '056ba564-04b7-4328-85f9-9eaf8c115dda',\n",
       "              'x': array([0.3827004 , 0.40528441, 0.42038954, 2.46800309, 2.50430061, 2.67074426,\n",
       "                          2.71342018, 3.27876667, 3.90896166, 4.62083911]),\n",
       "              'xaxis': 'x',\n",
       "              'y': array(['MFI BAFF-R in BAFF-R+ DN1 B Cells',\n",
       "                          '% CD40+ of Non-Classical Monocytes', '% CD38+ of Monocytes',\n",
       "                          '% CD80+ of DN2 B Cells', 'MFI CD80 in CD80+ CD21- B Cells',\n",
       "                          'MFI CD80 in CD80+ CD21- CD27+ B Cells',\n",
       "                          'MFI CD38 in CD38+ CD27- CD4+ T Cells', 'MFI CD57 in CD57+ DN T Cells',\n",
       "                          'MFI CD38 in CD38+ Non-Classical Monocytes',\n",
       "                          'MFI CD80 in CD80+ DN1 B Cells'], dtype=object),\n",
       "              'yaxis': 'y'},\n",
       "             {'error_x': {'array': array([ 0.44595618,  0.56756465,  0.4334745 ,  0.57051841,  0.52478937,\n",
       "                                           0.54654843,  5.48555685,  5.19375846, 11.18658805, 11.74940247]),\n",
       "                          'arrayminus': array([0.10513582, 0.1245153 , 0.12106773, 0.14441761, 0.14780603, 0.16086518,\n",
       "                                               1.96255155, 1.94704996, 2.94409748, 3.405492  ]),\n",
       "                          'symmetric': False,\n",
       "                          'type': 'data'},\n",
       "              'marker': {'color': 'black', 'size': 6},\n",
       "              'mode': 'markers',\n",
       "              'type': 'scatter',\n",
       "              'uid': 'ab94cb9f-0914-437d-9b80-d8636a220f50',\n",
       "              'x': array([0.13756797, 0.15950929, 0.16798539, 0.19336483, 0.20575719, 0.22796067,\n",
       "                          3.05582512, 3.11469516, 3.99568618, 4.79541293]),\n",
       "              'xaxis': 'x2',\n",
       "              'y': array(['MFI HLA-DR in HLA-DR+ DN T Cells',\n",
       "                          'MFI HLA-DR in HLA-DR+ CD4+ T Cells', 'MFI CD11c in CD11c DN T Cells',\n",
       "                          'MFI CD57 in CD57+ CD27+ CD8+ T Cells', '% CD27+ of DN T Cells',\n",
       "                          'MFI HLA-DR in HLA-DR+ CD27- CD4+ T Cells',\n",
       "                          'MFI CD40 in CD40+ DN2 B Cells',\n",
       "                          'MFI CD40 in CD40+ CD11c+ CD21- B Cells', '% CD40+ of pDCs',\n",
       "                          '% Non-Classical of Monocytes'], dtype=object),\n",
       "              'yaxis': 'y2'}],\n",
       "    'layout': {'annotations': [{'font': {'size': 16},\n",
       "                                'showarrow': False,\n",
       "                                'text': 'A',\n",
       "                                'x': -0.4,\n",
       "                                'xanchor': 'center',\n",
       "                                'xref': 'paper',\n",
       "                                'y': 1.01,\n",
       "                                'yanchor': 'bottom',\n",
       "                                'yref': 'paper'},\n",
       "                               {'font': {'size': 16},\n",
       "                                'showarrow': False,\n",
       "                                'text': 'B',\n",
       "                                'x': -0.4,\n",
       "                                'xanchor': 'center',\n",
       "                                'xref': 'paper',\n",
       "                                'y': 0.5,\n",
       "                                'yanchor': 'bottom',\n",
       "                                'yref': 'paper'}],\n",
       "               'font': {'family': 'Arial', 'size': 12},\n",
       "               'height': 800,\n",
       "               'plot_bgcolor': 'white',\n",
       "               'shapes': [{'line': {'color': 'black', 'dash': 'dash'},\n",
       "                           'opacity': 1,\n",
       "                           'type': 'line',\n",
       "                           'x0': 1,\n",
       "                           'x1': 1,\n",
       "                           'xref': 'x',\n",
       "                           'y0': 0,\n",
       "                           'y1': 1,\n",
       "                           'yref': 'y domain'},\n",
       "                          {'line': {'color': 'black', 'dash': 'dash'},\n",
       "                           'opacity': 1,\n",
       "                           'type': 'line',\n",
       "                           'x0': 1,\n",
       "                           'x1': 1,\n",
       "                           'xref': 'x2',\n",
       "                           'y0': 0,\n",
       "                           'y1': 1,\n",
       "                           'yref': 'y2 domain'}],\n",
       "               'showlegend': False,\n",
       "               'template': '...',\n",
       "               'width': 1000,\n",
       "               'xaxis': {'anchor': 'y',\n",
       "                         'domain': [0.0, 1.0],\n",
       "                         'linecolor': 'black',\n",
       "                         'range': [-1, 1.3],\n",
       "                         'tickmode': 'array',\n",
       "                         'ticks': 'outside',\n",
       "                         'tickvals': array([ 0.01,  0.02,  0.03,  0.05,  0.08,  0.1 ,  0.2 ,  0.3 ,  0.6 ,  1.  ,\n",
       "                                             2.  ,  3.  ,  4.  ,  7.  , 10.  ]),\n",
       "                         'title': {'text': 'Odds ration'},\n",
       "                         'type': 'log'},\n",
       "               'xaxis2': {'anchor': 'y2',\n",
       "                          'domain': [0.0, 1.0],\n",
       "                          'linecolor': 'black',\n",
       "                          'range': [-1.5, 1.6],\n",
       "                          'tickmode': 'array',\n",
       "                          'ticks': 'outside',\n",
       "                          'tickvals': array([1.e-02, 2.e-02, 5.e-02, 1.e-01, 3.e-01, 6.e-01, 1.e+00, 3.e+00, 7.e+00,\n",
       "                                             2.e+01]),\n",
       "                          'title': {'text': 'Odds ration'},\n",
       "                          'type': 'log'},\n",
       "               'yaxis': {'anchor': 'x',\n",
       "                         'domain': [0.6, 1],\n",
       "                         'linecolor': 'black',\n",
       "                         'range': [-0.5, 9.5],\n",
       "                         'ticks': 'outside',\n",
       "                         'title': {'text': ''}},\n",
       "               'yaxis2': {'anchor': 'x2',\n",
       "                          'domain': [0.0, 0.475],\n",
       "                          'linecolor': 'black',\n",
       "                          'range': [-0.5, 9.5],\n",
       "                          'ticks': 'outside',\n",
       "                          'title': {'text': ''}}}\n",
       "})"
      ]
     },
     "execution_count": 2,
     "metadata": {},
     "output_type": "execute_result"
    }
   ],
   "source": [
    "file = open(fold + \"/data_aux/feature_a1.pkl\",\"rb\")\n",
    "data = pk.load(file)\n",
    "file.close()\n",
    "d2_d = data[\"d2_d\"]\n",
    "d3_p = data[\"d3_p\"]\n",
    "\n",
    "d2_d_lab =pd.read_csv(\"d2_d_lab.csv\",sep=\"\\t\")\n",
    "d2_d_lab = dict(zip(d2_d_lab['var'],d2_d_lab['Short name']))\n",
    "d3_p_lab =pd.read_csv(\"d3_p_lab.csv\",sep=\"\\t\")\n",
    "d3_p_lab = dict(zip(d3_p_lab['var'],d3_p_lab['Short name']))\n",
    "\n",
    "for k in d2_d_lab.keys():\n",
    "    d2_d.loc[d2_d[\"var\"]==k,\"var\"] = d2_d_lab[k]\n",
    "for k in d3_p_lab.keys():\n",
    "    d3_p.loc[d3_p[\"var\"]==k,\"var\"] = d3_p_lab[k]\n",
    "d2_d = d2_d.loc[d2_d.pvalue<=0.05]\n",
    "d2_d.loc[d2_d.index,\"cib\"] = d2_d.ci2 -d2_d[\"or\"]\n",
    "d2_d.loc[d2_d.index,\"cia\"] = d2_d[\"or\"] - d2_d.ci1\n",
    "d2_d = d2_d.sort_values(by=\"mu\",ascending=False).copy()\n",
    "d3_p = d3_p.loc[d3_p.pvalue<=0.05]\n",
    "d3_p.loc[d3_p.index,\"cib\"] = d3_p.ci2 -d3_p[\"or\"]\n",
    "d3_p.loc[d3_p.index,\"cia\"] = d3_p[\"or\"] - d3_p.ci1\n",
    "d3_p = d3_p.sort_values(by=\"mu\",ascending=False).copy()\n",
    "#10 best\n",
    "#10 best\n",
    "d2_d = d2_d.iloc[0:10,:]\n",
    "d2_d = d2_d.sort_values(by=\"or\",ascending=True).copy()\n",
    "d3_p = d3_p.iloc[0:10,:]\n",
    "d3_p = d3_p.sort_values(by=\"or\",ascending=True).copy()\n",
    "\n",
    "f = go.FigureWidget(make_subplots(rows=2,cols=1,subplot_titles=[\"A\",\"B\"],vertical_spacing=0.05))\n",
    "f.add_trace(go.Scatter(x=d2_d[\"or\"], y=d2_d[\"var\"],error_x=dict(\n",
    "            type='data',\n",
    "            symmetric=False,\n",
    "            array=d2_d.cib,\n",
    "            arrayminus=d2_d.cia),mode='markers'),row=1,col=1)\n",
    "f.update_traces(marker=dict(color=\"black\", size=6),selector=dict(type='scatter'))\n",
    "f.layout.xaxis.type=\"log\"\n",
    "f.update_xaxes(range=[-1,1.3],title=\"Odds ration\",row=1,col=1)\n",
    "f.update_yaxes(range=[-0.5, 9.5],title=\"\",row=1,col=1)\n",
    "f.layout.yaxis.domain = (0.6,1)\n",
    "\n",
    "f.add_trace(go.Scatter(x=d3_p[\"or\"], y=d3_p[\"var\"],error_x=dict(\n",
    "            type='data',\n",
    "            symmetric=False,\n",
    "            array=d3_p.cib,\n",
    "            arrayminus=d3_p.cia),mode='markers'),row=2,col=1)\n",
    "f.update_traces(marker=dict(color=\"black\", size=6),selector=dict(type='scatter'))\n",
    "f.layout.xaxis2.type=\"log\"\n",
    "f.update_xaxes(range=[-1.5,1.6],title=\"Odds ration\",row=2,col=1)\n",
    "f.update_yaxes(range=[-0.5, 9.5],title=\"\",row=2,col=1)\n",
    "#f.layout.yaxis2.domain = (0.6,1)\n",
    "\n",
    "f.update_layout(height=800,width = 1000,showlegend=False,font_size=12,font_family=\"Arial\",plot_bgcolor=\"white\",\n",
    "    xaxis=dict(linecolor=\"black\"),xaxis2=dict(linecolor=\"black\"),\n",
    "    yaxis=dict(linecolor=\"black\"),yaxis2=dict(linecolor=\"black\"))\n",
    "f.add_vline(x=1,line_dash=\"dash\",line_color = \"black\",opacity=1,row=1,col=1)\n",
    "f.add_vline(x=1,line_dash=\"dash\",line_color = \"black\",opacity=1,row=2,col=1)\n",
    "f.update_xaxes(ticks=\"outside\")\n",
    "f.update_yaxes(ticks=\"outside\")\n",
    "\n",
    "f.layout[\"annotations\"][0].x=-0.4\n",
    "f.layout[\"annotations\"][1].x=-0.4\n",
    "f.layout[\"annotations\"][0].y=1.01\n",
    "f.layout[\"annotations\"][1].y=0.5\n",
    "f.update_layout(xaxis={\"tickmode\": \"array\",\"tickvals\": pd.to_numeric([f\"{n:.1g}\" for n in np.geomspace(0.01, 12, 15)])})\n",
    "f.update_layout(xaxis2={\"tickmode\": \"array\",\"tickvals\": pd.to_numeric([f\"{n:.1g}\" for n in np.geomspace(0.01, 15, 10)])})\n",
    "#f.write_image(\"fig1.svg\")\n",
    "f"
   ]
  },
  {
   "cell_type": "markdown",
   "id": "18fac145-ff03-48fe-a693-3bf38a932407",
   "metadata": {},
   "source": [
    "## Fig 3"
   ]
  },
  {
   "cell_type": "code",
   "execution_count": 7,
   "id": "890001eb-4e01-46f7-9b68-aac35783cd03",
   "metadata": {},
   "outputs": [],
   "source": [
    "def d_euclidian(df,ydf):\n",
    "    tam = len(df.columns)\n",
    "    mh = np.ones(tam)\n",
    "    md = np.ones(tam)\n",
    "    mn = np.ones(tam)\n",
    "    hdf =df.loc[ydf ==\"h\"]\n",
    "    ndf =df.loc[ydf ==\"n\"]\n",
    "    ddf =df.loc[ydf ==\"d\"]\n",
    "    for i in range(tam):\n",
    "        mh[i] = np.mean(hdf.iloc[:,i])\n",
    "        mn[i] = np.mean(ndf.iloc[:,i]) \n",
    "        md[i] = np.mean(ddf.iloc[:,i]) \n",
    "    dhn = np.linalg.norm(mh-mn)\n",
    "    dhd = np.linalg.norm(mh-md)\n",
    "    dnd = np.linalg.norm(mn-md)\n",
    "    return dhn,dhd,dnd\n",
    "\n",
    "def Calinski_Harabasz(df,ydf):\n",
    "    dhn = calinski_harabasz_score(df[ydf!=\"d\"],ydf[ydf!=\"d\"])\n",
    "    dhd = calinski_harabasz_score(df[ydf!=\"n\"],ydf[ydf!=\"n\"])\n",
    "    dnd = calinski_harabasz_score(df[ydf!=\"h\"],ydf[ydf!=\"h\"])\n",
    "    return dhn,dhd,dnd\n",
    "\n",
    "def newton(df,ydf,xi,yi,num_itera,f_dist):\n",
    "    dhn,dhd,dnd = f_dist(df,ydf)\n",
    "    def fxy(x,y):\n",
    "        return np.array([x**2 + y**2 - dhd**2, x**2 + dhn**2 - 2*dhn*y + y**2 - dnd**2])\n",
    "    def jxy(x,y):\n",
    "        return np.array([[2*x,2*y],[2*x,2*y - 2*dhn]])\n",
    "    x = xi\n",
    "    y= yi\n",
    "    for i in range(num_itera):\n",
    "        p = np.linalg.solve(jxy(x,y), -fxy(x,y))\n",
    "        x = x+p[0]\n",
    "        y = y+p[1]\n",
    "        print(str(x)+\" \"+str(y))\n",
    "    return x,y,dhn,dhd,dnd\n",
    "\n",
    "def figure_d2_traces(x,y,dhn,dhd,dnd,leg=False):\n",
    "    data = go.Line(x=[0,0,x,0],\n",
    "                      y=[0,dhn,y,0],\n",
    "                      mode='lines',\n",
    "                      line=dict(width=1, dash='dash', color=\"gray\"),\n",
    "                      name='citations',legendgroup='5',showlegend=False)\n",
    "    dist = go.Scatter(x=[0,x/2,x/2],\n",
    "                      y=[dhn/2,y/2,(y-dhn)/2+dhn],\n",
    "                      text=[\"{:.2f}\".format(dhn),\"{:.2f}\".format(dhd),\"{:.2f}\".format(dnd)],\n",
    "                      textposition='top right',\n",
    "                      mode='text',legendgroup='5',showlegend=False)\n",
    "    Hfig = go.Scatter(x=[0],y=[0],mode=\"markers\",\n",
    "                      marker=dict(color=\"#7f7f7f\",symbol=\"cross\",size=12), \n",
    "                      #text=[\"Healthy\"],\n",
    "                      #textposition='middle right',\n",
    "                      #textfont=dict(color='#7f7f7f'),\n",
    "                      name = \"Healthy\",legendgroup='1',showlegend=leg\n",
    "    )\n",
    "    Nfig = go.Scatter(x=[0],y=[dhn],mode=\"markers\",\n",
    "                      marker=dict(color=\"#ff7f0e\",symbol=\"star\",size=12), \n",
    "                      #text=[\"Dose 2 non-responders\"],\n",
    "                      #textposition='middle left',\n",
    "                      #textfont=dict(color='#ff7f0e'),\n",
    "                      name = \"Dose 2 non-responders\",legendgroup='1',showlegend=leg\n",
    "    )\n",
    "    Dfig = go.Scatter(x=[x],y=[y],mode=\"markers\",\n",
    "                      marker=dict(color=\"#1f77b4\",size=12), \n",
    "                      #text=[\"Dose 2 detectable\"],\n",
    "                      #textposition='middle right',\n",
    "                      #textfont=dict(color='#1f77b4'),\n",
    "                      name = \"Dose 2 detectable\",legendgroup='1',showlegend=leg\n",
    "    )\n",
    "    return data,dist,Nfig,Hfig,Dfig\n",
    "\n",
    "def figure_d3_traces(x,y,dhn,dhd,dnd,leg=False):\n",
    "    data = go.Line(x=[0,0,x,0],\n",
    "                      y=[0,dhn,y,0],\n",
    "                      mode='lines',\n",
    "                      line=dict(width=1, dash='dash', color=\"gray\"),\n",
    "                      name='citations',legendgroup='5',showlegend=False)\n",
    "    dist = go.Scatter(x=[0,x/2,x/2],\n",
    "                      y=[dhn/2,y/2,(y-dhn)/2+dhn],\n",
    "                      text=[\"{:.2f}\".format(dhn),\"{:.2f}\".format(dhd),\"{:.2f}\".format(dnd)],\n",
    "                      textposition='top right',\n",
    "                      mode='text',legendgroup='5',showlegend=False)\n",
    "    Hfig = go.Scatter(x=[0],y=[0],mode=\"markers\",\n",
    "                      marker=dict(color=\"#7f7f7f\",symbol=\"cross\",size=12), \n",
    "                      #text=[\"Healthy\"],\n",
    "                      #textposition='middle right',\n",
    "                      #textfont=dict(color='#7f7f7f'),\n",
    "                      name = \"Healthy\",legendgroup='2',showlegend=leg\n",
    "    )\n",
    "    Nfig = go.Scatter(x=[0],y=[dhn],mode=\"markers\",\n",
    "                      marker=dict(color=\"#ffaa00\",symbol=\"star\",size=12), \n",
    "                      #text=[\"Dose 2 non-responders\"],\n",
    "                      #textposition='middle left',\n",
    "                      #textfont=dict(color='#ff7f0e'),\n",
    "                      name = \"Dose 3 non-positives\",legendgroup='2',showlegend=leg\n",
    "    )\n",
    "    Dfig = go.Scatter(x=[x],y=[y],mode=\"markers\",\n",
    "                      marker=dict(color=\"#2ca02c\",size=12), \n",
    "                      #text=[\"Dose 2 detectable\"],\n",
    "                      #textposition='middle right',\n",
    "                      #textfont=dict(color='#1f77b4'),\n",
    "                      name = \"Dose 3 positives\",legendgroup='2',showlegend=leg\n",
    "    )\n",
    "    return data,dist,Nfig,Hfig,Dfig"
   ]
  },
  {
   "cell_type": "code",
   "execution_count": 8,
   "id": "66696cb6-9649-4182-9c05-dadd7b88bcd0",
   "metadata": {},
   "outputs": [
    {
     "name": "stderr",
     "output_type": "stream",
     "text": [
      "C:\\Users\\rafae\\AppData\\Local\\Temp\\ipykernel_13720\\917132213.py:20: SettingWithCopyWarning:\n",
      "\n",
      "\n",
      "A value is trying to be set on a copy of a slice from a DataFrame\n",
      "\n",
      "See the caveats in the documentation: https://pandas.pydata.org/pandas-docs/stable/user_guide/indexing.html#returning-a-view-versus-a-copy\n",
      "\n",
      "C:\\Users\\rafae\\AppData\\Local\\Temp\\ipykernel_13720\\917132213.py:22: SettingWithCopyWarning:\n",
      "\n",
      "\n",
      "A value is trying to be set on a copy of a slice from a DataFrame\n",
      "\n",
      "See the caveats in the documentation: https://pandas.pydata.org/pandas-docs/stable/user_guide/indexing.html#returning-a-view-versus-a-copy\n",
      "\n"
     ]
    },
    {
     "name": "stdout",
     "output_type": "stream",
     "text": [
      "1.9457473868662558 2.9147855945444494\n",
      "1.5008615770647302 2.9147855945444494\n",
      "1.4349249887786069 2.9147855945444494\n",
      "1.4334100546500586 2.9147855945444494\n",
      "1.4334092541026484 2.9147855945444494\n",
      "1.4334092541024248 2.9147855945444494\n",
      "1.4334092541024248 2.9147855945444494\n",
      "1.4334092541024248 2.9147855945444494\n",
      "1.4334092541024248 2.9147855945444494\n",
      "1.4334092541024248 2.9147855945444494\n",
      "16.087428866026602 -2.5056476143086677\n",
      "8.381680101681821 -2.5056476143086677\n",
      "4.839516519986154 -2.5056476143086677\n",
      "3.5432173145102546 -2.5056476143086686\n",
      "3.3060893766843873 -2.5056476143086686\n",
      "3.297585423449774 -2.5056476143086686\n",
      "3.297574458272026 -2.5056476143086686\n",
      "3.297574458253796 -2.505647614308668\n",
      "3.297574458253796 -2.505647614308668\n",
      "3.297574458253796 -2.505647614308668\n",
      "0.4350774330345757 2.1959872265094322\n",
      "0.024175289561129687 2.1959872265094322\n",
      "-3.467831933023349 2.1959872265094322\n",
      "-1.7096564103775604 2.195987226509432\n",
      "-0.80562062000839 2.1959872265094322\n",
      "-0.29838390711249907 2.1959872265094322\n",
      "0.13275375945814266 2.1959872265094322\n",
      "-0.5673382315132531 2.1959872265094322\n",
      "-0.13538356267753965 2.1959872265094322\n",
      "0.5537135191202864 2.1959872265094322\n",
      "3.7718090126205865 0.7080826146846131\n",
      "2.532088801226947 0.7080826146846134\n",
      "2.228602959460029 0.7080826146846132\n",
      "2.2079389699947884 0.708082614684613\n",
      "2.2078422733771683 0.7080826146846132\n",
      "2.207842271259663 0.708082614684613\n",
      "2.207842271259663 0.7080826146846133\n",
      "2.207842271259663 0.7080826146846132\n",
      "2.207842271259663 0.7080826146846131\n",
      "2.207842271259663 0.7080826146846134\n"
     ]
    },
    {
     "name": "stderr",
     "output_type": "stream",
     "text": [
      "C:\\Users\\rafae\\anaconda3\\envs\\ML\\lib\\site-packages\\plotly\\graph_objs\\_deprecations.py:378: DeprecationWarning:\n",
      "\n",
      "plotly.graph_objs.Line is deprecated.\n",
      "Please replace it with one of the following more specific types\n",
      "  - plotly.graph_objs.scatter.Line\n",
      "  - plotly.graph_objs.layout.shape.Line\n",
      "  - etc.\n",
      "\n",
      "\n",
      "C:\\Users\\rafae\\anaconda3\\envs\\ML\\lib\\site-packages\\plotly\\graph_objs\\_deprecations.py:378: DeprecationWarning:\n",
      "\n",
      "plotly.graph_objs.Line is deprecated.\n",
      "Please replace it with one of the following more specific types\n",
      "  - plotly.graph_objs.scatter.Line\n",
      "  - plotly.graph_objs.layout.shape.Line\n",
      "  - etc.\n",
      "\n",
      "\n",
      "C:\\Users\\rafae\\anaconda3\\envs\\ML\\lib\\site-packages\\plotly\\graph_objs\\_deprecations.py:378: DeprecationWarning:\n",
      "\n",
      "plotly.graph_objs.Line is deprecated.\n",
      "Please replace it with one of the following more specific types\n",
      "  - plotly.graph_objs.scatter.Line\n",
      "  - plotly.graph_objs.layout.shape.Line\n",
      "  - etc.\n",
      "\n",
      "\n",
      "C:\\Users\\rafae\\anaconda3\\envs\\ML\\lib\\site-packages\\plotly\\graph_objs\\_deprecations.py:378: DeprecationWarning:\n",
      "\n",
      "plotly.graph_objs.Line is deprecated.\n",
      "Please replace it with one of the following more specific types\n",
      "  - plotly.graph_objs.scatter.Line\n",
      "  - plotly.graph_objs.layout.shape.Line\n",
      "  - etc.\n",
      "\n",
      "\n"
     ]
    },
    {
     "data": {
      "application/vnd.jupyter.widget-view+json": {
       "model_id": "708273eec5a1479194003ee52ff1e653",
       "version_major": 2,
       "version_minor": 0
      },
      "text/plain": [
       "FigureWidget({\n",
       "    'data': [{'legendgroup': '5',\n",
       "              'marker': {'color': '#7f7f7f', 'symbol': 'cross'},\n",
       "              'mode': 'markers',\n",
       "              'name': 'Healthy',\n",
       "              'showlegend': False,\n",
       "              'type': 'scatter',\n",
       "              'uid': '876c908c-e222-4bf2-b0bb-3a0727f92bec',\n",
       "              'x': array([1.9446795, 3.9160595, 0.9220703, 4.0736337, 5.0859036, 0.6504477,\n",
       "                          3.3966906, 5.0423346, 2.1141086, 4.5675416, 2.7497964, 2.888047 ,\n",
       "                          1.2106603, 4.217516 , 4.2946534, 4.1003757, 3.7175035, 4.517564 ,\n",
       "                          2.9334776, 4.320234 ], dtype=float32),\n",
       "              'xaxis': 'x',\n",
       "              'y': array([14.167251 , 12.764854 ,  6.6397166, 13.656216 , 12.848469 ,  7.683568 ,\n",
       "                          14.367285 , 13.523925 , 12.995048 , 12.883372 , 14.046559 , 13.656367 ,\n",
       "                          11.517559 , 10.030347 , 10.806904 ,  8.772421 ,  9.412634 , 10.672532 ,\n",
       "                           9.089388 , 11.634267 ], dtype=float32),\n",
       "              'yaxis': 'y'},\n",
       "             {'legendgroup': '5',\n",
       "              'marker': {'color': '#ff7f0e', 'symbol': 'star'},\n",
       "              'mode': 'markers',\n",
       "              'name': 'Dose 2 non-responders',\n",
       "              'showlegend': False,\n",
       "              'type': 'scatter',\n",
       "              'uid': 'd35d529f-5d07-4481-8454-d6e116318500',\n",
       "              'x': array([ 4.85529   ,  2.8328116 , -0.21202603, -0.5342541 ,  2.8474083 ,\n",
       "                           2.8456771 , -1.0607479 ,  4.167424  ,  1.0449619 ,  0.60557616,\n",
       "                           0.7176291 ,  3.1402154 ,  2.5936983 , -0.25999743,  3.5389977 ,\n",
       "                           3.4893782 ,  2.7218013 ,  2.1341329 ,  3.9944763 ,  0.12984084,\n",
       "                           2.3450434 ,  3.3994749 ,  1.7690424 ,  2.5824275 ,  2.2169092 ,\n",
       "                           1.7924975 , -1.5528213 ,  3.0936656 ,  1.373692  , -0.7872696 ,\n",
       "                           0.30229014, -0.8052866 , -1.172552  ,  1.2146801 , -1.475742  ,\n",
       "                           0.1860967 , -0.42929932,  0.2910603 ,  1.4278718 ,  0.69037473,\n",
       "                           1.7469085 ,  0.7431224 ,  3.3996665 , -0.03550891, -1.4283816 ,\n",
       "                           4.8947315 ,  1.4621005 ,  2.1719491 ,  3.1773474 ], dtype=float32),\n",
       "              'xaxis': 'x',\n",
       "              'y': array([ 9.946359 , 11.625266 , 11.927306 ,  7.568537 ,  6.216133 , 12.952287 ,\n",
       "                           8.637275 , 14.348972 ,  7.832893 ,  6.9312396, 11.3035345, 11.08848  ,\n",
       "                           9.81053  , 10.08047  ,  7.7961583, 14.935887 ,  8.179025 , 10.894717 ,\n",
       "                          10.76827  ,  8.190773 ,  8.88709  ,  7.322    ,  6.374791 , 14.9669695,\n",
       "                           7.16311  , 13.789119 , 12.233708 , 11.875584 ,  8.608805 , 13.583131 ,\n",
       "                          13.878127 , 12.376114 , 13.140332 , 13.513878 , 11.595659 , 13.151353 ,\n",
       "                          13.580396 , 10.4206505, 12.675833 , 12.734033 , 11.1154995,  9.530596 ,\n",
       "                          13.264169 , 13.401598 , 12.434324 , 11.422577 , 10.081469 , 10.52808  ,\n",
       "                          10.141252 ], dtype=float32),\n",
       "              'yaxis': 'y'},\n",
       "             {'legendgroup': '5',\n",
       "              'marker': {'color': '#1f77b4'},\n",
       "              'mode': 'markers',\n",
       "              'name': 'Dose 2 detectable',\n",
       "              'showlegend': False,\n",
       "              'type': 'scatter',\n",
       "              'uid': 'f0fb98bc-357f-4c65-876a-040755daa3a5',\n",
       "              'x': array([ 2.7195454 ,  0.04105597,  1.413154  ,  1.1267861 , -0.17770162,\n",
       "                          -0.5601533 ,  0.24913315, -0.10540562,  5.02955   ,  2.7955205 ,\n",
       "                           4.3189254 ,  2.8386111 ,  2.9856308 ,  1.2300243 ,  4.7095084 ,\n",
       "                           2.4295206 ,  2.3365445 ,  3.7790854 ,  5.356082  ,  0.64466804,\n",
       "                           2.22709   ,  2.3714151 ,  1.2805666 ,  1.0678573 , -0.4314385 ,\n",
       "                          -0.2295402 , -0.1664002 ,  2.066237  ,  1.8782127 ,  4.9736147 ,\n",
       "                           1.359375  ,  1.233702  ,  3.766448  ,  2.0190299 ,  1.4565884 ],\n",
       "                         dtype=float32),\n",
       "              'xaxis': 'x',\n",
       "              'y': array([ 6.981284 ,  9.672786 ,  5.4700546,  5.78228  ,  7.82771  ,  8.299053 ,\n",
       "                          12.349695 ,  8.92142  ,  9.794051 , 10.85047  ,  9.034421 ,  8.967411 ,\n",
       "                          10.37233  , 10.558877 ,  8.828637 ,  7.591632 , 14.606108 , 11.573941 ,\n",
       "                           9.237513 ,  8.566484 ,  8.167383 ,  8.847878 ,  6.8295684, 12.283828 ,\n",
       "                          11.07502  , 12.900824 , 11.769037 , 11.972602 , 12.179749 ,  9.289602 ,\n",
       "                           8.407059 ,  9.314208 , 12.053099 ,  9.102009 ,  9.889455 ],\n",
       "                         dtype=float32),\n",
       "              'yaxis': 'y'},\n",
       "             {'legendgroup': '5',\n",
       "              'line': {'color': 'gray', 'dash': 'dash', 'width': 1},\n",
       "              'mode': 'lines',\n",
       "              'name': 'citations',\n",
       "              'showlegend': False,\n",
       "              'type': 'scatter',\n",
       "              'uid': '78a15e5a-fe35-47e5-917b-e73f38678c7c',\n",
       "              'x': [0, 0, 1.4334092541024248, 0],\n",
       "              'xaxis': 'x2',\n",
       "              'y': [0, 3.1606713369534023, 2.9147855945444494, 0],\n",
       "              'yaxis': 'y2'},\n",
       "             {'legendgroup': '5',\n",
       "              'mode': 'text',\n",
       "              'showlegend': False,\n",
       "              'text': [3.16, 3.25, 1.45],\n",
       "              'textposition': 'top right',\n",
       "              'type': 'scatter',\n",
       "              'uid': 'f9bc8bfc-eb5c-4d48-af6c-687ef4f30b03',\n",
       "              'x': [0, 0.7167046270512124, 0.7167046270512124],\n",
       "              'xaxis': 'x2',\n",
       "              'y': [1.5803356684767011, 1.4573927972722247, 3.037728465748926],\n",
       "              'yaxis': 'y2'},\n",
       "             {'legendgroup': '1',\n",
       "              'marker': {'color': '#ff7f0e', 'size': 12, 'symbol': 'star'},\n",
       "              'mode': 'markers',\n",
       "              'name': 'Dose 2 non-responders',\n",
       "              'showlegend': True,\n",
       "              'type': 'scatter',\n",
       "              'uid': '9bdadedf-e742-464a-9b10-5524bca248c4',\n",
       "              'x': [0],\n",
       "              'xaxis': 'x2',\n",
       "              'y': [3.1606713369534023],\n",
       "              'yaxis': 'y2'},\n",
       "             {'legendgroup': '1',\n",
       "              'marker': {'color': '#7f7f7f', 'size': 12, 'symbol': 'cross'},\n",
       "              'mode': 'markers',\n",
       "              'name': 'Healthy',\n",
       "              'showlegend': True,\n",
       "              'type': 'scatter',\n",
       "              'uid': '30016e8e-fbb4-4d23-9ee8-0d2f14a34452',\n",
       "              'x': [0],\n",
       "              'xaxis': 'x2',\n",
       "              'y': [0],\n",
       "              'yaxis': 'y2'},\n",
       "             {'legendgroup': '1',\n",
       "              'marker': {'color': '#1f77b4', 'size': 12},\n",
       "              'mode': 'markers',\n",
       "              'name': 'Dose 2 detectable',\n",
       "              'showlegend': True,\n",
       "              'type': 'scatter',\n",
       "              'uid': 'b22e9db5-0a33-4ae0-9f9a-6f94595fdd1b',\n",
       "              'x': [1.4334092541024248],\n",
       "              'xaxis': 'x2',\n",
       "              'y': [2.9147855945444494],\n",
       "              'yaxis': 'y2'},\n",
       "             {'legendgroup': '5',\n",
       "              'marker': {'color': '#7f7f7f', 'symbol': 'cross'},\n",
       "              'mode': 'markers',\n",
       "              'name': 'Healthy',\n",
       "              'showlegend': False,\n",
       "              'type': 'scatter',\n",
       "              'uid': '35f06eac-e415-4827-bc6c-865723a06549',\n",
       "              'x': array([ 1.3609742 ,  1.6364621 , -2.4424317 , -0.14942943,  4.2887225 ,\n",
       "                           1.9395865 ,  0.56273866,  1.5419718 ,  1.1363032 ,  4.5010214 ,\n",
       "                           0.5476076 , -0.7145095 , -0.71298707, -0.26520818, -0.24693751,\n",
       "                           0.1682413 , -1.4874207 , -1.7252207 ,  0.31772164,  1.347804  ],\n",
       "                         dtype=float32),\n",
       "              'xaxis': 'x3',\n",
       "              'y': array([-1.241635  ,  1.5840472 ,  5.2355566 , -0.43590522,  2.236824  ,\n",
       "                           0.3898835 ,  1.3697124 ,  0.9166801 , -0.1578851 ,  4.191354  ,\n",
       "                          -0.5716151 ,  0.40075147,  1.1388395 ,  2.6872804 ,  1.8955029 ,\n",
       "                           8.441551  ,  1.377562  , 10.24769   ,  7.60666   ,  6.045498  ],\n",
       "                         dtype=float32),\n",
       "              'yaxis': 'y3'},\n",
       "             {'legendgroup': '5',\n",
       "              'marker': {'color': '#ff7f0e', 'symbol': 'star'},\n",
       "              'mode': 'markers',\n",
       "              'name': 'Dose 2 non-responders',\n",
       "              'showlegend': False,\n",
       "              'type': 'scatter',\n",
       "              'uid': '37153a9f-214c-4265-8a38-50f3db30d852',\n",
       "              'x': array([ 0.78160036,  3.556276  ,  2.8388782 ,  2.333572  , -0.71717745,\n",
       "                           0.2611494 , -1.3051981 ,  0.95248747,  1.2925642 ,  1.5779148 ,\n",
       "                          -0.8913859 , -3.7337337 ,  0.9201937 ,  3.3834932 , -1.066448  ,\n",
       "                          -0.3783433 ,  0.9928407 ,  3.2040153 ,  0.42274   ,  3.1296268 ,\n",
       "                           3.9746096 , -4.084228  , -1.3764067 , -1.3934848 , -1.4247447 ,\n",
       "                           1.5951542 ,  2.2345161 ,  3.720998  ,  2.1830108 ,  5.393561  ,\n",
       "                           0.65647733,  1.827857  ,  4.783035  ,  0.46330693,  0.6456638 ,\n",
       "                           2.4061275 ,  3.02852   ,  0.16346559,  5.264546  ,  4.7477713 ,\n",
       "                          -2.3371134 , -1.0506395 ,  0.35236356,  1.9452493 ,  2.8821979 ,\n",
       "                           1.1197226 , -3.401614  , -1.8257115 , -0.7902033 ], dtype=float32),\n",
       "              'xaxis': 'x3',\n",
       "              'y': array([ 3.790846  ,  3.718175  ,  3.3860931 ,  5.82235   ,  6.8257527 ,\n",
       "                           0.63412935,  7.025857  ,  1.9087862 ,  2.5520906 ,  4.9367757 ,\n",
       "                           4.6596537 ,  9.649508  ,  4.576344  ,  3.0353873 ,  1.8793551 ,\n",
       "                           6.040376  ,  5.3815675 ,  4.198701  ,  8.28228   ,  2.0465057 ,\n",
       "                           2.117811  ,  8.557572  ,  3.1387703 ,  4.120301  ,  5.247962  ,\n",
       "                          -0.6148913 ,  3.4711246 ,  4.526364  ,  2.3804178 ,  3.6940777 ,\n",
       "                           2.2056363 ,  3.7735226 ,  2.5247355 ,  3.0858805 ,  4.7659016 ,\n",
       "                           4.8598576 ,  2.57764   ,  1.4966903 ,  4.540605  ,  2.9674606 ,\n",
       "                           3.6968613 ,  6.249873  , -0.1377729 ,  2.941     ,  5.262767  ,\n",
       "                           6.488282  ,  7.0771585 , 10.64689   ,  2.3835695 ], dtype=float32),\n",
       "              'yaxis': 'y3'},\n",
       "             {'legendgroup': '5',\n",
       "              'marker': {'color': '#1f77b4'},\n",
       "              'mode': 'markers',\n",
       "              'name': 'Dose 2 detectable',\n",
       "              'showlegend': False,\n",
       "              'type': 'scatter',\n",
       "              'uid': 'b0382616-a478-4ea5-afa3-5caca3c19170',\n",
       "              'x': array([-0.09820525, -2.005749  , -2.4884703 , -2.8258567 , -0.9099933 ,\n",
       "                          -3.2591205 ,  2.6720622 , -1.7734196 ,  0.0115341 , -3.162343  ,\n",
       "                          -4.891562  , -4.803661  , -3.7612321 , -3.24784   , -0.5167578 ,\n",
       "                          -4.8999147 ,  1.9683399 ,  1.0371122 , -2.5492144 , -3.3551934 ,\n",
       "                           1.1740999 , -0.9098483 , -1.6664115 , -1.9709616 , -2.9452472 ,\n",
       "                           4.741856  , -2.5276957 , -0.08412547, -0.10563409, -4.1973486 ,\n",
       "                          -4.229129  , -3.78468   , -1.3888412 , -4.495425  , -1.1354522 ],\n",
       "                         dtype=float32),\n",
       "              'xaxis': 'x3',\n",
       "              'y': array([ 4.9670777,  6.504809 ,  7.272081 ,  6.1090145,  7.53961  ,  5.847963 ,\n",
       "                           4.111629 ,  7.562579 ,  6.3073735, 10.0059805,  7.6791677,  9.055035 ,\n",
       "                           6.764923 ,  3.8402414,  9.343137 ,  8.278179 , -0.6305036,  7.564421 ,\n",
       "                          10.300274 ,  3.0988278,  5.7546134, 10.3583355,  4.454379 ,  2.3988338,\n",
       "                           3.2358346,  3.7050164,  4.455347 ,  3.4008167,  4.2544355,  7.845477 ,\n",
       "                           9.225743 ,  7.2164145,  1.6896036,  6.9914365,  9.975913 ],\n",
       "                         dtype=float32),\n",
       "              'yaxis': 'y3'},\n",
       "             {'legendgroup': '5',\n",
       "              'line': {'color': 'gray', 'dash': 'dash', 'width': 1},\n",
       "              'mode': 'lines',\n",
       "              'name': 'citations',\n",
       "              'showlegend': False,\n",
       "              'type': 'scatter',\n",
       "              'uid': '0fe05b88-3266-4ce9-a0ed-219aaf15439e',\n",
       "              'x': [0, 0, 3.297574458253796, 0],\n",
       "              'xaxis': 'x4',\n",
       "              'y': [0, 3.2144417088856487, -2.505647614308668, 0],\n",
       "              'yaxis': 'y4'},\n",
       "             {'legendgroup': '5',\n",
       "              'mode': 'text',\n",
       "              'showlegend': False,\n",
       "              'text': [3.21, 4.14, 6.60],\n",
       "              'textposition': 'top right',\n",
       "              'type': 'scatter',\n",
       "              'uid': '671ed601-a175-4a84-b47b-853c199d047b',\n",
       "              'x': [0, 1.648787229126898, 1.648787229126898],\n",
       "              'xaxis': 'x4',\n",
       "              'y': [1.6072208544428244, -1.252823807154334, 0.3543970472884901],\n",
       "              'yaxis': 'y4'},\n",
       "             {'legendgroup': '1',\n",
       "              'marker': {'color': '#ff7f0e', 'size': 12, 'symbol': 'star'},\n",
       "              'mode': 'markers',\n",
       "              'name': 'Dose 2 non-responders',\n",
       "              'showlegend': False,\n",
       "              'type': 'scatter',\n",
       "              'uid': '77030e45-8fc0-4119-97fd-f9502e61ae1a',\n",
       "              'x': [0],\n",
       "              'xaxis': 'x4',\n",
       "              'y': [3.2144417088856487],\n",
       "              'yaxis': 'y4'},\n",
       "             {'legendgroup': '1',\n",
       "              'marker': {'color': '#7f7f7f', 'size': 12, 'symbol': 'cross'},\n",
       "              'mode': 'markers',\n",
       "              'name': 'Healthy',\n",
       "              'showlegend': False,\n",
       "              'type': 'scatter',\n",
       "              'uid': '35e84ac4-2111-42d6-88ae-9c1b8d6eec76',\n",
       "              'x': [0],\n",
       "              'xaxis': 'x4',\n",
       "              'y': [0],\n",
       "              'yaxis': 'y4'},\n",
       "             {'legendgroup': '1',\n",
       "              'marker': {'color': '#1f77b4', 'size': 12},\n",
       "              'mode': 'markers',\n",
       "              'name': 'Dose 2 detectable',\n",
       "              'showlegend': False,\n",
       "              'type': 'scatter',\n",
       "              'uid': 'd8a39a02-689c-4e00-84c1-57f9b37a2a01',\n",
       "              'x': [3.297574458253796],\n",
       "              'xaxis': 'x4',\n",
       "              'y': [-2.505647614308668],\n",
       "              'yaxis': 'y4'},\n",
       "             {'legendgroup': '5',\n",
       "              'marker': {'color': '#7f7f7f', 'symbol': 'cross'},\n",
       "              'mode': 'markers',\n",
       "              'name': 'Healthy',\n",
       "              'showlegend': False,\n",
       "              'type': 'scatter',\n",
       "              'uid': '432f00a8-b248-4ef0-a503-d3a3b6daf0f6',\n",
       "              'x': array([13.547262, 11.178944, 17.655134, 10.800433, 10.415331, 17.094227,\n",
       "                          12.165473, 10.742727, 14.407287, 11.800032, 12.909543, 13.112823,\n",
       "                          16.78031 , 15.249236, 14.520056, 15.674032, 16.21688 , 14.894853,\n",
       "                          16.73168 , 13.144439], dtype=float32),\n",
       "              'xaxis': 'x5',\n",
       "              'y': array([5.7278004, 3.701759 , 0.3978144, 4.258329 , 2.879773 , 1.054294 ,\n",
       "                          6.0777564, 3.1409183, 5.7554812, 3.0799758, 6.380862 , 5.463484 ,\n",
       "                          4.242358 , 3.4411647, 3.7803557, 3.063203 , 3.1236413, 3.6677728,\n",
       "                          2.784048 , 3.9701545], dtype=float32),\n",
       "              'yaxis': 'y5'},\n",
       "             {'legendgroup': '5',\n",
       "              'marker': {'color': '#ffaa00', 'symbol': 'star'},\n",
       "              'mode': 'markers',\n",
       "              'name': 'Dose 3 non-positives',\n",
       "              'showlegend': False,\n",
       "              'type': 'scatter',\n",
       "              'uid': 'c2a853a8-96ea-4e82-b9b5-a9e04bf248c2',\n",
       "              'x': array([14.053371 , 15.197884 , 18.018763 , 14.849654 , 17.027266 , 13.69593  ,\n",
       "                          14.967935 , 11.345477 , 16.248814 , 15.923712 , 14.779195 , 15.518719 ,\n",
       "                          14.032627 , 16.55397  , 13.8735075, 10.267169 , 14.940252 , 17.384398 ,\n",
       "                          17.304268 , 11.788803 , 17.900175 , 14.316097 , 15.347016 , 16.467241 ,\n",
       "                          17.442621 , 16.817192 , 16.153572 , 14.038419 , 18.462313 , 17.43056  ,\n",
       "                          16.004696 , 17.913248 , 17.02816  , 15.108289 , 18.684183 , 17.215548 ,\n",
       "                          17.637472 , 16.333729 , 13.130099 , 15.045473 , 15.825382 , 15.943394 ,\n",
       "                          18.586187 , 10.573588 , 15.591091 , 16.667019 , 18.633165 , 12.876264 ,\n",
       "                          15.858881 , 17.255026 , 17.768898 , 15.937313 , 16.995113 , 15.952092 ,\n",
       "                          16.950867 ], dtype=float32),\n",
       "              'xaxis': 'x5',\n",
       "              'y': array([ 2.433402  ,  2.6547625 ,  5.4060163 , -0.5899337 ,  0.25933185,\n",
       "                           0.5897549 ,  0.5809074 ,  4.817388  , -0.682407  , -1.0103358 ,\n",
       "                          -0.31810147, -0.05042252, -0.04733901,  4.913293  ,  2.3296852 ,\n",
       "                           3.8435552 ,  1.9546793 ,  1.5358717 ,  2.0005198 ,  4.980683  ,\n",
       "                           2.3191357 ,  3.5110278 ,  0.93601924,  2.214802  ,  1.1354649 ,\n",
       "                          -0.04243363,  1.0491065 ,  4.6108556 ,  2.1617079 ,  7.1148005 ,\n",
       "                           5.718091  ,  5.9788632 ,  7.45947   ,  5.6356745 ,  5.539214  ,\n",
       "                           5.892395  ,  5.0856433 ,  7.5911713 ,  1.100031  ,  6.8080287 ,\n",
       "                           6.9905457 ,  5.962654  ,  2.9333103 ,  4.834265  ,  5.1205707 ,\n",
       "                           6.5081573 ,  6.35903   ,  3.1517627 ,  1.4421903 ,  2.9220679 ,\n",
       "                           3.7948055 ,  4.206528  ,  2.488213  ,  3.6724622 ,  3.649472  ],\n",
       "                         dtype=float32),\n",
       "              'yaxis': 'y5'},\n",
       "             {'legendgroup': '5',\n",
       "              'marker': {'color': '#2ca02c'},\n",
       "              'mode': 'markers',\n",
       "              'name': 'Dose 3 positives',\n",
       "              'showlegend': False,\n",
       "              'type': 'scatter',\n",
       "              'uid': 'd7739838-cce2-4fa3-bbc5-9b90f218901a',\n",
       "              'x': array([18.126368 , 18.385876 , 13.452124 , 14.503989 , 13.677285 , 14.4545555,\n",
       "                          17.46044  , 15.776608 , 12.263093 , 19.117714 , 13.452886 , 16.327383 ,\n",
       "                          15.491997 , 17.509151 , 13.085609 , 16.327728 , 17.338036 , 15.05892  ,\n",
       "                          14.200049 ], dtype=float32),\n",
       "              'xaxis': 'x5',\n",
       "              'y': array([ 0.8580732 ,  1.5917393 ,  1.6969174 ,  2.8647532 ,  2.8596628 ,\n",
       "                           1.4315606 ,  4.2398925 ,  2.6977751 ,  5.369527  ,  2.617204  ,\n",
       "                           3.5545094 ,  1.4903721 ,  1.7581178 , -0.18398823,  4.989923  ,\n",
       "                           6.3111577 ,  6.30837   ,  4.792194  ,  4.4447465 ], dtype=float32),\n",
       "              'yaxis': 'y5'},\n",
       "             {'legendgroup': '5',\n",
       "              'line': {'color': 'gray', 'dash': 'dash', 'width': 1},\n",
       "              'mode': 'lines',\n",
       "              'name': 'citations',\n",
       "              'showlegend': False,\n",
       "              'type': 'scatter',\n",
       "              'uid': 'f6ebd5c9-d136-48cf-9fc0-308c7193ca12',\n",
       "              'x': [0, 0, 0.5537135191202864, 0],\n",
       "              'xaxis': 'x6',\n",
       "              'y': [0, 3.2393660501644783, 2.1959872265094322, 0],\n",
       "              'yaxis': 'y6'},\n",
       "             {'legendgroup': '5',\n",
       "              'mode': 'text',\n",
       "              'showlegend': False,\n",
       "              'text': [3.24, 2.16, 0.96],\n",
       "              'textposition': 'top right',\n",
       "              'type': 'scatter',\n",
       "              'uid': 'bac218ac-09b5-44fc-b86e-24ab0ec352e7',\n",
       "              'x': [0, 0.2768567595601432, 0.2768567595601432],\n",
       "              'xaxis': 'x6',\n",
       "              'y': [1.6196830250822392, 1.0979936132547161, 2.7176766383369553],\n",
       "              'yaxis': 'y6'},\n",
       "             {'legendgroup': '2',\n",
       "              'marker': {'color': '#ffaa00', 'size': 12, 'symbol': 'star'},\n",
       "              'mode': 'markers',\n",
       "              'name': 'Dose 3 non-positives',\n",
       "              'showlegend': True,\n",
       "              'type': 'scatter',\n",
       "              'uid': 'a8946fd7-4270-41e0-b9c7-6c81d1fa7ede',\n",
       "              'x': [0],\n",
       "              'xaxis': 'x6',\n",
       "              'y': [3.2393660501644783],\n",
       "              'yaxis': 'y6'},\n",
       "             {'legendgroup': '2',\n",
       "              'marker': {'color': '#7f7f7f', 'size': 12, 'symbol': 'cross'},\n",
       "              'mode': 'markers',\n",
       "              'name': 'Healthy',\n",
       "              'showlegend': True,\n",
       "              'type': 'scatter',\n",
       "              'uid': '9d19885f-48d0-466c-b5d3-ec21a58367ee',\n",
       "              'x': [0],\n",
       "              'xaxis': 'x6',\n",
       "              'y': [0],\n",
       "              'yaxis': 'y6'},\n",
       "             {'legendgroup': '2',\n",
       "              'marker': {'color': '#2ca02c', 'size': 12},\n",
       "              'mode': 'markers',\n",
       "              'name': 'Dose 3 positives',\n",
       "              'showlegend': True,\n",
       "              'type': 'scatter',\n",
       "              'uid': 'c7a03f2d-b39d-429f-b420-f43806063d65',\n",
       "              'x': [0.5537135191202864],\n",
       "              'xaxis': 'x6',\n",
       "              'y': [2.1959872265094322],\n",
       "              'yaxis': 'y6'},\n",
       "             {'legendgroup': '5',\n",
       "              'marker': {'color': '#7f7f7f', 'symbol': 'cross'},\n",
       "              'mode': 'markers',\n",
       "              'name': 'Healthy',\n",
       "              'showlegend': False,\n",
       "              'type': 'scatter',\n",
       "              'uid': '549a7c17-a153-4b62-8344-25ed8af2ac5c',\n",
       "              'x': array([ 8.151335 ,  4.482246 ,  3.9121153,  3.6971014,  7.71661  ,  7.0894914,\n",
       "                           8.061212 ,  9.081504 ,  6.1563597,  9.045289 ,  8.865161 ,  9.651592 ,\n",
       "                          12.385335 , 12.238321 , 14.082615 ,  9.32588  ,  9.618453 ,  9.080093 ,\n",
       "                          13.384601 , 10.846991 ], dtype=float32),\n",
       "              'xaxis': 'x7',\n",
       "              'y': array([ 5.378612 ,  6.079118 , 10.936642 , 11.04636  ,  5.382492 ,  3.6719096,\n",
       "                           6.380286 ,  7.22254  ,  5.268765 ,  6.4042687,  3.79347  ,  7.9898376,\n",
       "                           8.488651 ,  7.952855 ,  6.5736423, 11.127662 , 10.297503 ,  8.676986 ,\n",
       "                           6.8975277,  7.662813 ], dtype=float32),\n",
       "              'yaxis': 'y7'},\n",
       "             {'legendgroup': '5',\n",
       "              'marker': {'color': '#ffaa00', 'symbol': 'star'},\n",
       "              'mode': 'markers',\n",
       "              'name': 'Dose 3 non-positives',\n",
       "              'showlegend': False,\n",
       "              'type': 'scatter',\n",
       "              'uid': 'd45a7b37-bc90-46ca-a507-90375d7319a4',\n",
       "              'x': array([14.105952 ,  5.9021816,  9.907277 ,  3.5037127,  8.234668 ,  6.7839923,\n",
       "                          10.058584 ,  4.8708963,  5.6384244,  5.4799104,  5.8044972, 10.99613  ,\n",
       "                           5.5691667,  6.909525 ,  6.477577 ,  4.2813444,  3.9813333,  4.5198407,\n",
       "                          13.934471 ,  4.4289594,  7.2310367,  6.702774 ,  7.8522677,  9.491666 ,\n",
       "                          13.375674 ,  6.3617477,  4.0746675,  5.70558  ,  9.384216 ,  6.846607 ,\n",
       "                          10.819744 , 11.442023 ,  7.531237 ,  7.6653395, 10.501776 , 11.59989  ,\n",
       "                           3.3393416,  5.48728  ,  4.8266807,  5.3591213,  9.8329115,  7.9505157,\n",
       "                           9.82851  ,  3.5654862, 11.59392  ,  9.697486 , 11.3330345, 12.603218 ,\n",
       "                          10.867962 ,  9.674809 ,  9.320106 , 14.003024 ,  9.93096  , 12.399316 ,\n",
       "                           9.691085 ], dtype=float32),\n",
       "              'xaxis': 'x7',\n",
       "              'y': array([ 7.716367 ,  9.542605 ,  4.1337366,  7.09942  ,  7.507913 ,  7.9636807,\n",
       "                           7.8002586, 11.338257 ,  7.58581  , 10.993551 , 10.368131 ,  6.669105 ,\n",
       "                           6.1104364,  8.840137 ,  6.7423024, 11.6537695,  6.8597536,  7.174943 ,\n",
       "                           8.620065 , 12.25228  ,  7.4187326,  7.399779 ,  8.281482 ,  2.4824708,\n",
       "                           8.259997 , 10.924058 ,  6.3935113,  8.882721 ,  3.36037  , 10.204309 ,\n",
       "                           3.2576156,  4.051781 ,  9.744289 ,  9.038693 ,  5.8525205,  3.5288367,\n",
       "                           7.4443235,  7.064018 ,  5.972972 ,  8.159727 ,  5.8307633, 10.419269 ,\n",
       "                           2.69235  , 11.840737 ,  9.629344 ,  6.9563465,  3.7843146,  7.5553355,\n",
       "                           8.726895 ,  9.302736 , 10.2567425,  6.876373 , 10.846913 ,  8.982014 ,\n",
       "                          11.440926 ], dtype=float32),\n",
       "              'yaxis': 'y7'},\n",
       "             {'legendgroup': '5',\n",
       "              'marker': {'color': '#2ca02c'},\n",
       "              'mode': 'markers',\n",
       "              'name': 'Dose 3 positives',\n",
       "              'showlegend': False,\n",
       "              'type': 'scatter',\n",
       "              'uid': 'a46e9647-0c51-4104-affb-2701a41bdbec',\n",
       "              'x': array([ 7.5847945,  8.537428 ,  4.6286163, 13.021299 , 11.278119 ,  9.001588 ,\n",
       "                           8.449959 ,  7.8248396,  7.9826274, 10.535407 , 11.16008  ,  7.9592166,\n",
       "                          10.4543915,  6.1479964,  7.408855 , 10.049579 , 10.663956 , 10.985575 ,\n",
       "                          11.039582 ], dtype=float32),\n",
       "              'xaxis': 'x7',\n",
       "              'y': array([ 5.966901 ,  7.870178 ,  7.3621755,  7.936025 ,  7.3238544,  9.207287 ,\n",
       "                           2.9557889,  7.2162027,  3.7803304,  3.786118 ,  8.594522 ,  2.7968564,\n",
       "                          10.671222 ,  8.465133 ,  2.9945142,  5.546895 ,  4.637241 ,  5.2778926,\n",
       "                           9.594715 ], dtype=float32),\n",
       "              'yaxis': 'y7'},\n",
       "             {'legendgroup': '5',\n",
       "              'line': {'color': 'gray', 'dash': 'dash', 'width': 1},\n",
       "              'mode': 'lines',\n",
       "              'name': 'citations',\n",
       "              'showlegend': False,\n",
       "              'type': 'scatter',\n",
       "              'uid': 'ed18d5b4-4b55-4243-b0b2-8d49ca1c443d',\n",
       "              'x': [0, 0, 2.207842271259663, 0],\n",
       "              'xaxis': 'x8',\n",
       "              'y': [0, 4.682668104268037, 0.7080826146846134, 0],\n",
       "              'yaxis': 'y8'},\n",
       "             {'legendgroup': '5',\n",
       "              'mode': 'text',\n",
       "              'showlegend': False,\n",
       "              'text': [4.68, 2.32, 4.55],\n",
       "              'textposition': 'top right',\n",
       "              'type': 'scatter',\n",
       "              'uid': '13afd0be-e26a-44a1-8398-5110d8264bdd',\n",
       "              'x': [0, 1.1039211356298315, 1.1039211356298315],\n",
       "              'xaxis': 'x8',\n",
       "              'y': [2.3413340521340187, 0.3540413073423067, 2.6953753594763254],\n",
       "              'yaxis': 'y8'},\n",
       "             {'legendgroup': '2',\n",
       "              'marker': {'color': '#ffaa00', 'size': 12, 'symbol': 'star'},\n",
       "              'mode': 'markers',\n",
       "              'name': 'Dose 3 non-positives',\n",
       "              'showlegend': False,\n",
       "              'type': 'scatter',\n",
       "              'uid': 'e06ea6cf-eee8-40d0-bb09-45d4f43748b5',\n",
       "              'x': [0],\n",
       "              'xaxis': 'x8',\n",
       "              'y': [4.682668104268037],\n",
       "              'yaxis': 'y8'},\n",
       "             {'legendgroup': '2',\n",
       "              'marker': {'color': '#7f7f7f', 'size': 12, 'symbol': 'cross'},\n",
       "              'mode': 'markers',\n",
       "              'name': 'Healthy',\n",
       "              'showlegend': False,\n",
       "              'type': 'scatter',\n",
       "              'uid': '02ba3181-05ce-417a-8ed8-ef34266da769',\n",
       "              'x': [0],\n",
       "              'xaxis': 'x8',\n",
       "              'y': [0],\n",
       "              'yaxis': 'y8'},\n",
       "             {'legendgroup': '2',\n",
       "              'marker': {'color': '#2ca02c', 'size': 12},\n",
       "              'mode': 'markers',\n",
       "              'name': 'Dose 3 positives',\n",
       "              'showlegend': False,\n",
       "              'type': 'scatter',\n",
       "              'uid': '7f40d194-74f0-4a41-b711-d4de0510472b',\n",
       "              'x': [2.207842271259663],\n",
       "              'xaxis': 'x8',\n",
       "              'y': [0.7080826146846134],\n",
       "              'yaxis': 'y8'}],\n",
       "    'layout': {'annotations': [{'font': {'size': 16},\n",
       "                                'showarrow': False,\n",
       "                                'text': 'All Dose 2',\n",
       "                                'x': 0.175,\n",
       "                                'xanchor': 'center',\n",
       "                                'xref': 'paper',\n",
       "                                'y': 1.0,\n",
       "                                'yanchor': 'bottom',\n",
       "                                'yref': 'paper'},\n",
       "                               {'font': {'size': 16},\n",
       "                                'showarrow': False,\n",
       "                                'text': 'Best 10 Dose 2',\n",
       "                                'x': 0.675,\n",
       "                                'xanchor': 'center',\n",
       "                                'xref': 'paper',\n",
       "                                'y': 1.0,\n",
       "                                'yanchor': 'bottom',\n",
       "                                'yref': 'paper'},\n",
       "                               {'font': {'size': 16},\n",
       "                                'showarrow': False,\n",
       "                                'text': 'All Dose 3',\n",
       "                                'x': 0.175,\n",
       "                                'xanchor': 'center',\n",
       "                                'xref': 'paper',\n",
       "                                'y': 0.45,\n",
       "                                'yanchor': 'bottom',\n",
       "                                'yref': 'paper'},\n",
       "                               {'font': {'size': 16},\n",
       "                                'showarrow': False,\n",
       "                                'text': 'Best 10 Dose 3',\n",
       "                                'x': 0.675,\n",
       "                                'xanchor': 'center',\n",
       "                                'xref': 'paper',\n",
       "                                'y': 0.45,\n",
       "                                'yanchor': 'bottom',\n",
       "                                'yref': 'paper'}],\n",
       "               'height': 600,\n",
       "               'legend': {'tracegroupgap': 180},\n",
       "               'showlegend': True,\n",
       "               'template': '...',\n",
       "               'width': 1000,\n",
       "               'xaxis': {'anchor': 'y',\n",
       "                         'domain': [0.0, 0.35],\n",
       "                         'showgrid': False,\n",
       "                         'showline': False,\n",
       "                         'showticklabels': False,\n",
       "                         'ticks': '',\n",
       "                         'zeroline': False},\n",
       "               'xaxis2': {'anchor': 'y2',\n",
       "                          'domain': [0.35, 0.5],\n",
       "                          'showgrid': False,\n",
       "                          'showline': False,\n",
       "                          'showticklabels': False,\n",
       "                          'ticks': '',\n",
       "                          'zeroline': False},\n",
       "               'xaxis3': {'anchor': 'y3',\n",
       "                          'domain': [0.5, 0.85],\n",
       "                          'showgrid': False,\n",
       "                          'showline': False,\n",
       "                          'showticklabels': False,\n",
       "                          'ticks': '',\n",
       "                          'zeroline': False},\n",
       "               'xaxis4': {'anchor': 'y4',\n",
       "                          'domain': [0.85, 1.0],\n",
       "                          'showgrid': False,\n",
       "                          'showline': False,\n",
       "                          'showticklabels': False,\n",
       "                          'ticks': '',\n",
       "                          'zeroline': False},\n",
       "               'xaxis5': {'anchor': 'y5',\n",
       "                          'domain': [0.0, 0.35],\n",
       "                          'showgrid': False,\n",
       "                          'showline': False,\n",
       "                          'showticklabels': False,\n",
       "                          'ticks': '',\n",
       "                          'zeroline': False},\n",
       "               'xaxis6': {'anchor': 'y6',\n",
       "                          'domain': [0.35, 0.5],\n",
       "                          'showgrid': False,\n",
       "                          'showline': False,\n",
       "                          'showticklabels': False,\n",
       "                          'ticks': '',\n",
       "                          'zeroline': False},\n",
       "               'xaxis7': {'anchor': 'y7',\n",
       "                          'domain': [0.5, 0.85],\n",
       "                          'showgrid': False,\n",
       "                          'showline': False,\n",
       "                          'showticklabels': False,\n",
       "                          'ticks': '',\n",
       "                          'zeroline': False},\n",
       "               'xaxis8': {'anchor': 'y8',\n",
       "                          'domain': [0.85, 1.0],\n",
       "                          'showgrid': False,\n",
       "                          'showline': False,\n",
       "                          'showticklabels': False,\n",
       "                          'ticks': '',\n",
       "                          'zeroline': False},\n",
       "               'yaxis': {'anchor': 'x',\n",
       "                         'domain': [0.55, 1.0],\n",
       "                         'showgrid': False,\n",
       "                         'showline': False,\n",
       "                         'showticklabels': False,\n",
       "                         'ticks': '',\n",
       "                         'zeroline': False},\n",
       "               'yaxis2': {'anchor': 'x2',\n",
       "                          'domain': [0.55, 1.0],\n",
       "                          'scaleanchor': 'x2',\n",
       "                          'scaleratio': 1,\n",
       "                          'showgrid': False,\n",
       "                          'showline': False,\n",
       "                          'showticklabels': False,\n",
       "                          'ticks': '',\n",
       "                          'zeroline': False},\n",
       "               'yaxis3': {'anchor': 'x3',\n",
       "                          'domain': [0.55, 1.0],\n",
       "                          'showgrid': False,\n",
       "                          'showline': False,\n",
       "                          'showticklabels': False,\n",
       "                          'ticks': '',\n",
       "                          'zeroline': False},\n",
       "               'yaxis4': {'anchor': 'x4',\n",
       "                          'domain': [0.55, 1.0],\n",
       "                          'scaleanchor': 'x4',\n",
       "                          'scaleratio': 1,\n",
       "                          'showgrid': False,\n",
       "                          'showline': False,\n",
       "                          'showticklabels': False,\n",
       "                          'ticks': '',\n",
       "                          'zeroline': False},\n",
       "               'yaxis5': {'anchor': 'x5',\n",
       "                          'domain': [0.0, 0.45],\n",
       "                          'showgrid': False,\n",
       "                          'showline': False,\n",
       "                          'showticklabels': False,\n",
       "                          'ticks': '',\n",
       "                          'zeroline': False},\n",
       "               'yaxis6': {'anchor': 'x6',\n",
       "                          'domain': [0.0, 0.45],\n",
       "                          'scaleanchor': 'x6',\n",
       "                          'scaleratio': 1,\n",
       "                          'showgrid': False,\n",
       "                          'showline': False,\n",
       "                          'showticklabels': False,\n",
       "                          'ticks': '',\n",
       "                          'zeroline': False},\n",
       "               'yaxis7': {'anchor': 'x7',\n",
       "                          'domain': [0.0, 0.45],\n",
       "                          'showgrid': False,\n",
       "                          'showline': False,\n",
       "                          'showticklabels': False,\n",
       "                          'ticks': '',\n",
       "                          'zeroline': False},\n",
       "               'yaxis8': {'anchor': 'x8',\n",
       "                          'domain': [0.0, 0.45],\n",
       "                          'scaleanchor': 'x8',\n",
       "                          'scaleratio': 1,\n",
       "                          'showgrid': False,\n",
       "                          'showline': False,\n",
       "                          'showticklabels': False,\n",
       "                          'ticks': '',\n",
       "                          'zeroline': False}}\n",
       "})"
      ]
     },
     "execution_count": 8,
     "metadata": {},
     "output_type": "execute_result"
    }
   ],
   "source": [
    "file = open(fold + \"/data_aux/immune_clean_a2.pkl\",\"rb\")\n",
    "data = pk.load(file)\n",
    "file.close()\n",
    "data.keys()\n",
    "all_x_d2_d = data[\"x_d2_d\"]\n",
    "all_x_d3_p = data[\"x_d3_p\"]\n",
    "\n",
    "y_d2_d = data[\"y_d2_d\"]\n",
    "y_d3_p = data[\"y_d3_p\"]\n",
    "\n",
    "file = open(fold + \"/data_aux/feature_a1.pkl\",\"rb\")\n",
    "data = pk.load(file)\n",
    "file.close()\n",
    "\n",
    "d2_d = data[\"d2_d\"]\n",
    "d3_p = data[\"d3_p\"]\n",
    "d2_d = d2_d.loc[d2_d[\"pvalue\"]<=0.05,:]\n",
    "d3_p = d3_p.loc[d3_p[\"pvalue\"]<=0.05,:]\n",
    "\n",
    "d2_d.sort_values(by=\"mu\",ascending=False,inplace=True)\n",
    "d2_d = d2_d.iloc[0:10,:]\n",
    "d3_p.sort_values(by=\"mu\",ascending=False,inplace=True)\n",
    "d3_p = d3_p.iloc[0:10,:]\n",
    "\n",
    "#f_d2_d = list(d2_d[\"var\"])\n",
    "#f_d3_p = list(d3_p[\"var\"])\n",
    "\n",
    "x_d2_d = all_x_d2_d.loc[:,list(d2_d[\"var\"])].copy()\n",
    "x_d3_p = all_x_d3_p.loc[:,list(d3_p[\"var\"])].copy()\n",
    "\n",
    "\n",
    "np.random.seed(42)\n",
    "re = umap.UMAP(n_neighbors=6,min_dist=0.8)\n",
    "re.fit(all_x_d2_d)\n",
    "trans = re.transform(all_x_d2_d)\n",
    "x1 = [c[0]  for c in trans ]\n",
    "x2 = [c[1]  for c in trans ]\n",
    "df = pd.DataFrame({\"x1\":x1,\"x2\":x2, \"y\":list(y_d2_d)})\n",
    "\n",
    "np.random.seed(42)\n",
    "re.fit(x_d2_d)\n",
    "trans = re.transform(x_d2_d)\n",
    "x1 = [c[0]  for c in trans ]\n",
    "x2 = [c[1]  for c in trans ]\n",
    "df3 = pd.DataFrame({\"x1\":x1,\"x2\":x2, \"y\":list(y_d2_d)})\n",
    "\n",
    "np.random.seed(42)\n",
    "re.fit(all_x_d3_p)\n",
    "trans = re.transform(all_x_d3_p)\n",
    "x1 = [c[0]  for c in trans ]\n",
    "x2 = [c[1]  for c in trans ]\n",
    "df7 = pd.DataFrame({\"x1\":x1,\"x2\":x2, \"y\":list(y_d3_p)})\n",
    "\n",
    "np.random.seed(42)\n",
    "re.fit(x_d3_p)\n",
    "trans = re.transform(x_d3_p)\n",
    "x1 = [c[0]  for c in trans ]\n",
    "x2 = [c[1]  for c in trans ]\n",
    "df9 = pd.DataFrame({\"x1\":x1,\"x2\":x2, \"y\":list(y_d3_p)})\n",
    "\n",
    "#figure\n",
    "f = go.FigureWidget(make_subplots(rows=2,cols=4,subplot_titles=[\"All Dose 2\",\"\",\"Best 10 Dose 2\",\"\",\"All Dose 3\",\"\",\"Best 10 Dose 3\",\"\"],vertical_spacing=0.10,horizontal_spacing=0,column_widths=[0.35,0.15,0.35,0.15]))\n",
    "f.add_trace(go.Scatter(x=df.loc[df.y==\"h\",\"x1\"],y=df.loc[df.y==\"h\",\"x2\"],mode='markers',marker=dict(color=\"#7f7f7f\",symbol=\"cross\"),name = \"Healthy\",legendgroup='5',showlegend=False),row=1,col=1)\n",
    "f.add_trace(go.Scatter(x=df.loc[df.y==\"n\",\"x1\"],y=df.loc[df.y==\"n\",\"x2\"],mode='markers',marker=dict(color=\"#ff7f0e\",symbol=\"star\"),name = \"Dose 2 non-responders\",legendgroup='5',showlegend=False),row=1,col=1)\n",
    "f.add_trace(go.Scatter(x=df.loc[df.y==\"d\",\"x1\"],y=df.loc[df.y==\"d\",\"x2\"],mode='markers',marker=dict(color=\"#1f77b4\"),name = \"Dose 2 detectable\",legendgroup='5',showlegend=False),row=1,col=1)\n",
    "del df\n",
    "\n",
    "x,y,dhn,dhd,dnd = newton(all_x_d2_d,y_d2_d,1,2,10,Calinski_Harabasz)\n",
    "data,dist,Nfig,Hfig,Dfig=figure_d2_traces(x,y,dhn,dhd,dnd,True)\n",
    "f.add_trace(data,row=1,col=2)\n",
    "f.add_trace(dist,row=1,col=2)\n",
    "f.add_trace(Nfig,row=1,col=2)\n",
    "f.add_trace(Hfig,row=1,col=2)\n",
    "f.add_trace(Dfig,row=1,col=2)\n",
    "f.update_yaxes(scaleanchor = \"x2\",scaleratio = 1,showticklabels=False,showline=False,ticks=\"\",showgrid=False,zeroline=False,row=1,col=2)\n",
    "f.update_xaxes(showticklabels=False,showline=False,ticks=\"\",showgrid=False,zeroline=False,row=1,col=2)\n",
    "\n",
    "f.add_trace(go.Scatter(x=df3.loc[df3.y==\"h\",\"x1\"],y=df3.loc[df3.y==\"h\",\"x2\"],mode='markers',marker=dict(color=\"#7f7f7f\",symbol=\"cross\"),name = \"Healthy\",legendgroup='5',showlegend=False),row=1,col=3)\n",
    "f.add_trace(go.Scatter(x=df3.loc[df3.y==\"n\",\"x1\"],y=df3.loc[df3.y==\"n\",\"x2\"],mode='markers',marker=dict(color=\"#ff7f0e\",symbol=\"star\"),name = \"Dose 2 non-responders\",legendgroup='5',showlegend=False),row=1,col=3)\n",
    "f.add_trace(go.Scatter(x=df3.loc[df3.y==\"d\",\"x1\"],y=df3.loc[df3.y==\"d\",\"x2\"],mode='markers',marker=dict(color=\"#1f77b4\"),name = \"Dose 2 detectable\",legendgroup='5',showlegend=False),row=1,col=3)\n",
    "del df3\n",
    "\n",
    "x,y,dhn,dhd,dnd = newton(x_d2_d,y_d2_d,1,2,10,Calinski_Harabasz)\n",
    "data,dist,Nfig,Hfig,Dfig=figure_d2_traces(x,y,dhn,dhd,dnd)\n",
    "f.add_trace(data,row=1,col=4)\n",
    "f.add_trace(dist,row=1,col=4)\n",
    "f.add_trace(Nfig,row=1,col=4)\n",
    "f.add_trace(Hfig,row=1,col=4)\n",
    "f.add_trace(Dfig,row=1,col=4)\n",
    "f.update_yaxes(scaleanchor = \"x4\",scaleratio = 1,showticklabels=False,showline=False,ticks=\"\",showgrid=False,zeroline=False,row=1,col=4)\n",
    "f.update_xaxes(showticklabels=False,showline=False,ticks=\"\",showgrid=False,zeroline=False,row=1,col=4)\n",
    "\n",
    "f.add_trace(go.Scatter(x=df7.loc[df7.y==\"h\",\"x1\"],y=df7.loc[df7.y==\"h\",\"x2\"],mode='markers',marker=dict(color=\"#7f7f7f\",symbol=\"cross\"),name = \"Healthy\",legendgroup='5',showlegend=False),row=2,col=1)\n",
    "f.add_trace(go.Scatter(x=df7.loc[df7.y==\"n\",\"x1\"],y=df7.loc[df7.y==\"n\",\"x2\"],mode='markers',marker=dict(color=\"#ffaa00\",symbol=\"star\"),name = \"Dose 3 non-positives\",legendgroup='5',showlegend=False),row=2,col=1)\n",
    "f.add_trace(go.Scatter(x=df7.loc[df7.y==\"d\",\"x1\"],y=df7.loc[df7.y==\"d\",\"x2\"],mode='markers',marker=dict(color=\"#2ca02c\"),name = \"Dose 3 positives\",legendgroup='5',showlegend=False),row=2,col=1)\n",
    "\n",
    "del df7\n",
    "x,y,dhn,dhd,dnd = newton(all_x_d3_p,y_d3_p,1,2,10,Calinski_Harabasz)\n",
    "data,dist,Nfig,Hfig,Dfig=figure_d3_traces(x,y,dhn,dhd,dnd,True)\n",
    "f.add_trace(data,row=2,col=2)\n",
    "f.add_trace(dist,row=2,col=2)\n",
    "f.add_trace(Nfig,row=2,col=2)\n",
    "f.add_trace(Hfig,row=2,col=2)\n",
    "f.add_trace(Dfig,row=2,col=2)\n",
    "f.update_yaxes(scaleanchor = \"x6\",scaleratio = 1,showticklabels=False,showline=False,ticks=\"\",showgrid=False,zeroline=False,row=2,col=2)\n",
    "f.update_xaxes(showticklabels=False,showline=False,ticks=\"\",showgrid=False,zeroline=False,row=2,col=2)\n",
    "\n",
    "f.add_trace(go.Scatter(x=df9.loc[df9.y==\"h\",\"x1\"],y=df9.loc[df9.y==\"h\",\"x2\"],mode='markers',marker=dict(color=\"#7f7f7f\",symbol=\"cross\"),name = \"Healthy\",legendgroup='5',showlegend=False),row=2,col=3)\n",
    "f.add_trace(go.Scatter(x=df9.loc[df9.y==\"n\",\"x1\"],y=df9.loc[df9.y==\"n\",\"x2\"],mode='markers',marker=dict(color=\"#ffaa00\",symbol=\"star\"),name = \"Dose 3 non-positives\",legendgroup='5',showlegend=False),row=2,col=3)\n",
    "f.add_trace(go.Scatter(x=df9.loc[df9.y==\"d\",\"x1\"],y=df9.loc[df9.y==\"d\",\"x2\"],mode='markers',marker=dict(color=\"#2ca02c\"),name = \"Dose 3 positives\",legendgroup='5',showlegend=False),row=2,col=3)\n",
    "f.update_layout(legend_tracegroupgap=180)\n",
    "\n",
    "x,y,dhn,dhd,dnd = newton(x_d3_p,y_d3_p,1,2,10,Calinski_Harabasz)\n",
    "data,dist,Nfig,Hfig,Dfig=figure_d3_traces(x,y,dhn,dhd,dnd)\n",
    "f.add_trace(data,row=2,col=4)\n",
    "f.add_trace(dist,row=2,col=4)\n",
    "f.add_trace(Nfig,row=2,col=4)\n",
    "f.add_trace(Hfig,row=2,col=4)\n",
    "f.add_trace(Dfig,row=2,col=4)\n",
    "f.update_yaxes(scaleanchor = \"x8\",scaleratio = 1,showticklabels=False,showline=False,ticks=\"\",showgrid=False,zeroline=False,row=2,col=4)\n",
    "f.update_xaxes(showticklabels=False,showline=False,ticks=\"\",showgrid=False,zeroline=False,row=2,col=4)\n",
    "\n",
    "f.update_layout(height = 600,width=1000,template= \"plotly_white\",showlegend=True)\n",
    "f.update_xaxes(showticklabels=False,showline=False,ticks=\"\",showgrid=False,zeroline=False)\n",
    "f.update_yaxes(showticklabels=False,showline=False,ticks=\"\",showgrid=False,zeroline=False)\n",
    "#f.write_image(\"fig3.svg\")\n",
    "f"
   ]
  },
  {
   "cell_type": "code",
   "execution_count": 14,
   "id": "86aff164-e617-455b-9aa4-82477bb4ddcc",
   "metadata": {},
   "outputs": [
    {
     "data": {
      "text/plain": [
       "3.24817443372586"
      ]
     },
     "execution_count": 14,
     "metadata": {},
     "output_type": "execute_result"
    }
   ],
   "source": [
    "y_d2_d[(y_d2_d!=\"n\") & (y_d2_d!=\"d\")]\n",
    "calinski_harabasz_score(all_x_d2_d[y_d2_d!=\"n\"],y_d2_d[y_d2_d!=\"n\"])"
   ]
  },
  {
   "cell_type": "markdown",
   "id": "bcdd6cfa-ddbf-456a-a5b7-03f455394770",
   "metadata": {},
   "source": [
    "### calculate distance"
   ]
  },
  {
   "cell_type": "code",
   "execution_count": 69,
   "id": "f40748b7-642a-4a6a-8f46-2be5d69eae34",
   "metadata": {},
   "outputs": [
    {
     "name": "stdout",
     "output_type": "stream",
     "text": [
      "38.30391367597637 8.69916636745657\n",
      "19.553077694632716 8.69916636745657\n",
      "10.56232300398461 8.699166367456566\n",
      "6.735812970305623 8.69916636745657\n",
      "5.648922709071009 8.69916636745657\n",
      "5.544360255236255 8.69916636745657\n",
      "5.543374270717878 8.69916636745657\n",
      "5.54337418303072 8.69916636745657\n",
      "5.5433741830307195 8.69916636745657\n",
      "5.5433741830307195 8.69916636745657\n"
     ]
    }
   ],
   "source": [
    "x,y,dhn = newton(all_x_d2_d,y_d2_d,1,2,10,d_euclidian)        "
   ]
  },
  {
   "cell_type": "code",
   "execution_count": 25,
   "id": "eb929ae7-ea62-4f60-9f7e-fe064b7b3dad",
   "metadata": {},
   "outputs": [
    {
     "data": {
      "text/plain": [
       "8.69916636745657"
      ]
     },
     "execution_count": 25,
     "metadata": {},
     "output_type": "execute_result"
    }
   ],
   "source": []
  },
  {
   "cell_type": "code",
   "execution_count": 63,
   "id": "df43d9ed-ed98-45dc-a64d-77dae2484ef6",
   "metadata": {},
   "outputs": [],
   "source": []
  },
  {
   "cell_type": "code",
   "execution_count": null,
   "id": "b464e580-0dce-4cf1-90fd-64d667e1a0ad",
   "metadata": {},
   "outputs": [],
   "source": []
  },
  {
   "cell_type": "code",
   "execution_count": 44,
   "id": "64c337c0-4f25-442b-bdfb-decbb2657a62",
   "metadata": {},
   "outputs": [
    {
     "data": {
      "text/plain": [
       "9.830881597203936"
      ]
     },
     "execution_count": 44,
     "metadata": {},
     "output_type": "execute_result"
    }
   ],
   "source": [
    "dhn"
   ]
  },
  {
   "cell_type": "code",
   "execution_count": 60,
   "id": "d2af0ac1-8316-4f83-bfdd-2f5922dbab9a",
   "metadata": {},
   "outputs": [],
   "source": [
    "\n"
   ]
  },
  {
   "cell_type": "code",
   "execution_count": 61,
   "id": "79eb633d-ac12-457c-a9e4-589f70c65dcb",
   "metadata": {},
   "outputs": [
    {
     "name": "stdout",
     "output_type": "stream",
     "text": [
      "4.000000000000002\n",
      "5.0\n"
     ]
    }
   ],
   "source": [
    "print(x)\n",
    "print(y)"
   ]
  },
  {
   "cell_type": "markdown",
   "id": "56725fab-0ac0-4d11-937e-b747169d6500",
   "metadata": {},
   "source": [
    "### send to R for fig 4"
   ]
  },
  {
   "cell_type": "code",
   "execution_count": 17,
   "id": "5e160290-8cf5-4d0d-8201-f2ee553f0dac",
   "metadata": {},
   "outputs": [],
   "source": [
    "file = open(fold + \"/data_aux/immune_clean_a3.pkl\",\"rb\")\n",
    "data = pk.load(file)\n",
    "file.close()\n",
    "d2_d = data[\"d2_d\"]\n",
    "d2_d = d2_d[[\"Sample\",\"batch\",\"type\",\"gr_d2_d\"]+ f_d2_d]\n",
    "d3_d = data[\"d3_d\"]\n",
    "d3_d = d3_d[[\"Sample\",\"batch\",\"type\",\"gr_d3_d\"]+ f_d3_d]\n",
    "d3_p = data[\"d3_p\"]\n",
    "d3_p = d3_p[[\"Sample\",\"batch\",\"type\",\"gr_d3_p\"]+ f_d3_p]\n",
    "d2_d_lab =pd.read_csv(\"d2_d_lab.csv\",sep=\"\\t\")\n",
    "d2_d_lab = dict(zip(d2_d_lab['var'],d2_d_lab['Short name']))\n",
    "d3_p_lab =pd.read_csv(\"d3_p_lab.csv\",sep=\"\\t\")\n",
    "d3_p_lab = dict(zip(d3_p_lab['var'],d3_p_lab['Short name']))\n",
    "col = []\n",
    "for c in d2_d.columns:\n",
    "    col.append(d2_d_lab[c] if c in d2_d_lab else c)\n",
    "d2_d.columns = col\n",
    "col = []\n",
    "for c in d3_p.columns:\n",
    "    col.append(d3_p_lab[c] if c in d3_p_lab else c)\n",
    "d3_p.columns = col\n",
    "d2_d.to_csv(fold + \"/data_aux/heat_d2_d.csv\",index=False)\n",
    "#d3_d.to_csv(fold + \"/data_aux/heat_d3_d.csv\",index=False)\n",
    "d3_p.to_csv(fold + \"/data_aux/heat_d3_p.csv\",index=False)"
   ]
  },
  {
   "cell_type": "markdown",
   "id": "c47bc67c-11eb-45cf-ab99-68855f690052",
   "metadata": {},
   "source": [
    "## Fig 5 "
   ]
  },
  {
   "cell_type": "code",
   "execution_count": 32,
   "id": "fe8332af-48e6-41c7-bd94-b106587d70c5",
   "metadata": {},
   "outputs": [],
   "source": [
    "fold = os.getcwd()\n",
    "file = open(fold + \"/data_aux/feature.dat\",\"rb\")\n",
    "data = pk.load(file)\n",
    "file.close()"
   ]
  },
  {
   "cell_type": "markdown",
   "id": "0b7ec2a6-f136-4fb0-b963-13bcafad26f9",
   "metadata": {},
   "source": [
    "### Best features"
   ]
  },
  {
   "cell_type": "code",
   "execution_count": 33,
   "id": "e1682431-b453-4468-a024-5b836c691e20",
   "metadata": {},
   "outputs": [
    {
     "data": {
      "application/vnd.plotly.v1+json": {
       "config": {
        "plotlyServerURL": "https://plot.ly"
       },
       "data": [
        {
         "alignmentgroup": "True",
         "hovertemplate": "feature importance (permutation)=%{x}<br>=%{y}<extra></extra>",
         "legendgroup": "",
         "marker": {
          "color": "rgba(41, 128, 185, 1.0)",
          "pattern": {
           "shape": ""
          }
         },
         "name": "",
         "offsetgroup": "",
         "orientation": "h",
         "showlegend": false,
         "textposition": "auto",
         "type": "bar",
         "x": [
          0.02484548104956271,
          0.023819241982507226,
          0.021364431486880414,
          0.020524781341107814,
          0.01961516034985417,
          0.017854227405247745,
          0.017224489795918313,
          0.017189504373177792,
          0.016897959183673504,
          0.014728862973760864,
          0.012874635568513102,
          0.011189504373177775,
          0.010816326530612201,
          0.00811661807580173,
          0.007282798833819162,
          0.006588921282798762,
          0.005247813411078729,
          0.004157434402332293,
          0.004128279883381861,
          0.003947521865889151,
          0.003661807580174881,
          0.0033411078717200536,
          0.002658892128279813,
          0.002460641399416833,
          0.002186588921282745,
          0.002163265306122394,
          0.0013061224489796198,
          0.0012069970845480582,
          0.00111953352769674,
          0.0007930029154518281
         ],
         "xaxis": "x",
         "y": [
          "CD40+ B Cells :in: B Cells",
          "CD38+ median  :in:  CD38+ NKT Cells",
          "CD94+ median  :in:  CD94+ NK Cells",
          "CD80+ median  :in:  CD80+ Switched Memory B Cells",
          "CD94+ median  :in:  CD94+ NKT Cells",
          "CD57+ NK Cells :in: NK Cells",
          "CD38+ median  :in:  CD38+ CD27+ CD4+ T Cells",
          "CD11c+ CD27+ CD8+ T Cells :in: CD27+ CD8+ T Cells",
          "CD94+ median  :in:  CD94+ CD16+ NK Cells",
          "CD40+ IgMlow IgD+ Naive B Cells :in: IgMlow IgD+ Naive B Cells",
          "CD86+ CD16- CD56dim NK Cells :in: CD16- CD56dim NK Cells",
          "CD57+ CD16+ NK Cells :in: CD16+ NK Cells",
          "Double Negative B Cells :in: B Cells",
          "CD94+ CD16- CD56bright NK Cells :in: CD16- CD56bright NK Cells",
          "Transitional B Cells :in: Naive B Cells",
          "CD11c+ median  :in:  CD11c+ CD16+ NK Cells",
          "HLA-DR+ IgM+ IgD+ Naive B Cells :in: IgM+ IgD+ Naive B Cells",
          "HLA-DR+ median  :in:  HLA-DR+ CD27- CD4+ T Cells",
          "CD38+ CD27+ CD8+ T Cells :in: CD27+ CD8+ T Cells",
          "HLA-DR+ median  :in:  HLA-DR+ CD4+ T Cells",
          "CD94+ median  :in:  CD94+ CD16- CD56bright NK Cells",
          "CD11c+ median  :in:  CD11c+ CD16- CD56dim NK Cells",
          "CD80+ Memory B Cells :in: Memory B Cells",
          "CD86+ IgMlow IgD+ Naive B Cells :in: IgMlow IgD+ Naive B Cells",
          "Memory B Cells :in: B Cells",
          "Naive B Cells :in: B Cells",
          "CD16+ CD56bright NK Cells :in: NK Cells",
          "CD80+ Double Negative B Cells :in: Double Negative B Cells",
          "CD27+ median  :in:  CD27+ CD4+ T Cells",
          "CD57+ CD27+ CD4+ T Cells :in: CD27+ CD4+ T Cells"
         ],
         "yaxis": "y"
        }
       ],
       "layout": {
        "barmode": "relative",
        "coloraxis": {
         "showscale": false
        },
        "height": 800,
        "legend": {
         "tracegroupgap": 0
        },
        "margin": {
         "t": 60
        },
        "paper_bgcolor": "rgb(222,222,222)",
        "showlegend": false,
        "template": {
         "data": {
          "bar": [
           {
            "error_x": {
             "color": "#2a3f5f"
            },
            "error_y": {
             "color": "#2a3f5f"
            },
            "marker": {
             "line": {
              "color": "#E5ECF6",
              "width": 0.5
             },
             "pattern": {
              "fillmode": "overlay",
              "size": 10,
              "solidity": 0.2
             }
            },
            "type": "bar"
           }
          ],
          "barpolar": [
           {
            "marker": {
             "line": {
              "color": "#E5ECF6",
              "width": 0.5
             },
             "pattern": {
              "fillmode": "overlay",
              "size": 10,
              "solidity": 0.2
             }
            },
            "type": "barpolar"
           }
          ],
          "carpet": [
           {
            "aaxis": {
             "endlinecolor": "#2a3f5f",
             "gridcolor": "white",
             "linecolor": "white",
             "minorgridcolor": "white",
             "startlinecolor": "#2a3f5f"
            },
            "baxis": {
             "endlinecolor": "#2a3f5f",
             "gridcolor": "white",
             "linecolor": "white",
             "minorgridcolor": "white",
             "startlinecolor": "#2a3f5f"
            },
            "type": "carpet"
           }
          ],
          "choropleth": [
           {
            "colorbar": {
             "outlinewidth": 0,
             "ticks": ""
            },
            "type": "choropleth"
           }
          ],
          "contour": [
           {
            "colorbar": {
             "outlinewidth": 0,
             "ticks": ""
            },
            "colorscale": [
             [
              0,
              "#0d0887"
             ],
             [
              0.1111111111111111,
              "#46039f"
             ],
             [
              0.2222222222222222,
              "#7201a8"
             ],
             [
              0.3333333333333333,
              "#9c179e"
             ],
             [
              0.4444444444444444,
              "#bd3786"
             ],
             [
              0.5555555555555556,
              "#d8576b"
             ],
             [
              0.6666666666666666,
              "#ed7953"
             ],
             [
              0.7777777777777778,
              "#fb9f3a"
             ],
             [
              0.8888888888888888,
              "#fdca26"
             ],
             [
              1,
              "#f0f921"
             ]
            ],
            "type": "contour"
           }
          ],
          "contourcarpet": [
           {
            "colorbar": {
             "outlinewidth": 0,
             "ticks": ""
            },
            "type": "contourcarpet"
           }
          ],
          "heatmap": [
           {
            "colorbar": {
             "outlinewidth": 0,
             "ticks": ""
            },
            "colorscale": [
             [
              0,
              "#0d0887"
             ],
             [
              0.1111111111111111,
              "#46039f"
             ],
             [
              0.2222222222222222,
              "#7201a8"
             ],
             [
              0.3333333333333333,
              "#9c179e"
             ],
             [
              0.4444444444444444,
              "#bd3786"
             ],
             [
              0.5555555555555556,
              "#d8576b"
             ],
             [
              0.6666666666666666,
              "#ed7953"
             ],
             [
              0.7777777777777778,
              "#fb9f3a"
             ],
             [
              0.8888888888888888,
              "#fdca26"
             ],
             [
              1,
              "#f0f921"
             ]
            ],
            "type": "heatmap"
           }
          ],
          "heatmapgl": [
           {
            "colorbar": {
             "outlinewidth": 0,
             "ticks": ""
            },
            "colorscale": [
             [
              0,
              "#0d0887"
             ],
             [
              0.1111111111111111,
              "#46039f"
             ],
             [
              0.2222222222222222,
              "#7201a8"
             ],
             [
              0.3333333333333333,
              "#9c179e"
             ],
             [
              0.4444444444444444,
              "#bd3786"
             ],
             [
              0.5555555555555556,
              "#d8576b"
             ],
             [
              0.6666666666666666,
              "#ed7953"
             ],
             [
              0.7777777777777778,
              "#fb9f3a"
             ],
             [
              0.8888888888888888,
              "#fdca26"
             ],
             [
              1,
              "#f0f921"
             ]
            ],
            "type": "heatmapgl"
           }
          ],
          "histogram": [
           {
            "marker": {
             "pattern": {
              "fillmode": "overlay",
              "size": 10,
              "solidity": 0.2
             }
            },
            "type": "histogram"
           }
          ],
          "histogram2d": [
           {
            "colorbar": {
             "outlinewidth": 0,
             "ticks": ""
            },
            "colorscale": [
             [
              0,
              "#0d0887"
             ],
             [
              0.1111111111111111,
              "#46039f"
             ],
             [
              0.2222222222222222,
              "#7201a8"
             ],
             [
              0.3333333333333333,
              "#9c179e"
             ],
             [
              0.4444444444444444,
              "#bd3786"
             ],
             [
              0.5555555555555556,
              "#d8576b"
             ],
             [
              0.6666666666666666,
              "#ed7953"
             ],
             [
              0.7777777777777778,
              "#fb9f3a"
             ],
             [
              0.8888888888888888,
              "#fdca26"
             ],
             [
              1,
              "#f0f921"
             ]
            ],
            "type": "histogram2d"
           }
          ],
          "histogram2dcontour": [
           {
            "colorbar": {
             "outlinewidth": 0,
             "ticks": ""
            },
            "colorscale": [
             [
              0,
              "#0d0887"
             ],
             [
              0.1111111111111111,
              "#46039f"
             ],
             [
              0.2222222222222222,
              "#7201a8"
             ],
             [
              0.3333333333333333,
              "#9c179e"
             ],
             [
              0.4444444444444444,
              "#bd3786"
             ],
             [
              0.5555555555555556,
              "#d8576b"
             ],
             [
              0.6666666666666666,
              "#ed7953"
             ],
             [
              0.7777777777777778,
              "#fb9f3a"
             ],
             [
              0.8888888888888888,
              "#fdca26"
             ],
             [
              1,
              "#f0f921"
             ]
            ],
            "type": "histogram2dcontour"
           }
          ],
          "mesh3d": [
           {
            "colorbar": {
             "outlinewidth": 0,
             "ticks": ""
            },
            "type": "mesh3d"
           }
          ],
          "parcoords": [
           {
            "line": {
             "colorbar": {
              "outlinewidth": 0,
              "ticks": ""
             }
            },
            "type": "parcoords"
           }
          ],
          "pie": [
           {
            "automargin": true,
            "type": "pie"
           }
          ],
          "scatter": [
           {
            "fillpattern": {
             "fillmode": "overlay",
             "size": 10,
             "solidity": 0.2
            },
            "type": "scatter"
           }
          ],
          "scatter3d": [
           {
            "line": {
             "colorbar": {
              "outlinewidth": 0,
              "ticks": ""
             }
            },
            "marker": {
             "colorbar": {
              "outlinewidth": 0,
              "ticks": ""
             }
            },
            "type": "scatter3d"
           }
          ],
          "scattercarpet": [
           {
            "marker": {
             "colorbar": {
              "outlinewidth": 0,
              "ticks": ""
             }
            },
            "type": "scattercarpet"
           }
          ],
          "scattergeo": [
           {
            "marker": {
             "colorbar": {
              "outlinewidth": 0,
              "ticks": ""
             }
            },
            "type": "scattergeo"
           }
          ],
          "scattergl": [
           {
            "marker": {
             "colorbar": {
              "outlinewidth": 0,
              "ticks": ""
             }
            },
            "type": "scattergl"
           }
          ],
          "scattermapbox": [
           {
            "marker": {
             "colorbar": {
              "outlinewidth": 0,
              "ticks": ""
             }
            },
            "type": "scattermapbox"
           }
          ],
          "scatterpolar": [
           {
            "marker": {
             "colorbar": {
              "outlinewidth": 0,
              "ticks": ""
             }
            },
            "type": "scatterpolar"
           }
          ],
          "scatterpolargl": [
           {
            "marker": {
             "colorbar": {
              "outlinewidth": 0,
              "ticks": ""
             }
            },
            "type": "scatterpolargl"
           }
          ],
          "scatterternary": [
           {
            "marker": {
             "colorbar": {
              "outlinewidth": 0,
              "ticks": ""
             }
            },
            "type": "scatterternary"
           }
          ],
          "surface": [
           {
            "colorbar": {
             "outlinewidth": 0,
             "ticks": ""
            },
            "colorscale": [
             [
              0,
              "#0d0887"
             ],
             [
              0.1111111111111111,
              "#46039f"
             ],
             [
              0.2222222222222222,
              "#7201a8"
             ],
             [
              0.3333333333333333,
              "#9c179e"
             ],
             [
              0.4444444444444444,
              "#bd3786"
             ],
             [
              0.5555555555555556,
              "#d8576b"
             ],
             [
              0.6666666666666666,
              "#ed7953"
             ],
             [
              0.7777777777777778,
              "#fb9f3a"
             ],
             [
              0.8888888888888888,
              "#fdca26"
             ],
             [
              1,
              "#f0f921"
             ]
            ],
            "type": "surface"
           }
          ],
          "table": [
           {
            "cells": {
             "fill": {
              "color": "#EBF0F8"
             },
             "line": {
              "color": "white"
             }
            },
            "header": {
             "fill": {
              "color": "#C8D4E3"
             },
             "line": {
              "color": "white"
             }
            },
            "type": "table"
           }
          ]
         },
         "layout": {
          "annotationdefaults": {
           "arrowcolor": "#2a3f5f",
           "arrowhead": 0,
           "arrowwidth": 1
          },
          "autotypenumbers": "strict",
          "coloraxis": {
           "colorbar": {
            "outlinewidth": 0,
            "ticks": ""
           }
          },
          "colorscale": {
           "diverging": [
            [
             0,
             "#8e0152"
            ],
            [
             0.1,
             "#c51b7d"
            ],
            [
             0.2,
             "#de77ae"
            ],
            [
             0.3,
             "#f1b6da"
            ],
            [
             0.4,
             "#fde0ef"
            ],
            [
             0.5,
             "#f7f7f7"
            ],
            [
             0.6,
             "#e6f5d0"
            ],
            [
             0.7,
             "#b8e186"
            ],
            [
             0.8,
             "#7fbc41"
            ],
            [
             0.9,
             "#4d9221"
            ],
            [
             1,
             "#276419"
            ]
           ],
           "sequential": [
            [
             0,
             "#0d0887"
            ],
            [
             0.1111111111111111,
             "#46039f"
            ],
            [
             0.2222222222222222,
             "#7201a8"
            ],
            [
             0.3333333333333333,
             "#9c179e"
            ],
            [
             0.4444444444444444,
             "#bd3786"
            ],
            [
             0.5555555555555556,
             "#d8576b"
            ],
            [
             0.6666666666666666,
             "#ed7953"
            ],
            [
             0.7777777777777778,
             "#fb9f3a"
            ],
            [
             0.8888888888888888,
             "#fdca26"
            ],
            [
             1,
             "#f0f921"
            ]
           ],
           "sequentialminus": [
            [
             0,
             "#0d0887"
            ],
            [
             0.1111111111111111,
             "#46039f"
            ],
            [
             0.2222222222222222,
             "#7201a8"
            ],
            [
             0.3333333333333333,
             "#9c179e"
            ],
            [
             0.4444444444444444,
             "#bd3786"
            ],
            [
             0.5555555555555556,
             "#d8576b"
            ],
            [
             0.6666666666666666,
             "#ed7953"
            ],
            [
             0.7777777777777778,
             "#fb9f3a"
            ],
            [
             0.8888888888888888,
             "#fdca26"
            ],
            [
             1,
             "#f0f921"
            ]
           ]
          },
          "colorway": [
           "#636efa",
           "#EF553B",
           "#00cc96",
           "#ab63fa",
           "#FFA15A",
           "#19d3f3",
           "#FF6692",
           "#B6E880",
           "#FF97FF",
           "#FECB52"
          ],
          "font": {
           "color": "#2a3f5f"
          },
          "geo": {
           "bgcolor": "white",
           "lakecolor": "white",
           "landcolor": "#E5ECF6",
           "showlakes": true,
           "showland": true,
           "subunitcolor": "white"
          },
          "hoverlabel": {
           "align": "left"
          },
          "hovermode": "closest",
          "mapbox": {
           "style": "light"
          },
          "paper_bgcolor": "white",
          "plot_bgcolor": "#E5ECF6",
          "polar": {
           "angularaxis": {
            "gridcolor": "white",
            "linecolor": "white",
            "ticks": ""
           },
           "bgcolor": "#E5ECF6",
           "radialaxis": {
            "gridcolor": "white",
            "linecolor": "white",
            "ticks": ""
           }
          },
          "scene": {
           "xaxis": {
            "backgroundcolor": "#E5ECF6",
            "gridcolor": "white",
            "gridwidth": 2,
            "linecolor": "white",
            "showbackground": true,
            "ticks": "",
            "zerolinecolor": "white"
           },
           "yaxis": {
            "backgroundcolor": "#E5ECF6",
            "gridcolor": "white",
            "gridwidth": 2,
            "linecolor": "white",
            "showbackground": true,
            "ticks": "",
            "zerolinecolor": "white"
           },
           "zaxis": {
            "backgroundcolor": "#E5ECF6",
            "gridcolor": "white",
            "gridwidth": 2,
            "linecolor": "white",
            "showbackground": true,
            "ticks": "",
            "zerolinecolor": "white"
           }
          },
          "shapedefaults": {
           "line": {
            "color": "#2a3f5f"
           }
          },
          "ternary": {
           "aaxis": {
            "gridcolor": "white",
            "linecolor": "white",
            "ticks": ""
           },
           "baxis": {
            "gridcolor": "white",
            "linecolor": "white",
            "ticks": ""
           },
           "bgcolor": "#E5ECF6",
           "caxis": {
            "gridcolor": "white",
            "linecolor": "white",
            "ticks": ""
           }
          },
          "title": {
           "x": 0.05
          },
          "xaxis": {
           "automargin": true,
           "gridcolor": "white",
           "linecolor": "white",
           "ticks": "",
           "title": {
            "standoff": 15
           },
           "zerolinecolor": "white",
           "zerolinewidth": 2
          },
          "yaxis": {
           "automargin": true,
           "gridcolor": "white",
           "linecolor": "white",
           "ticks": "",
           "title": {
            "standoff": 15
           },
           "zerolinecolor": "white",
           "zerolinewidth": 2
          }
         }
        },
        "title": {
         "text": "Dose 2 detectable",
         "x": 0.5,
         "xanchor": "left"
        },
        "width": 1000,
        "xaxis": {
         "anchor": "y",
         "autorange": true,
         "domain": [
          0,
          1
         ],
         "range": [
          0,
          0.026153137946908118
         ],
         "title": {
          "text": "feature importance (permutation)"
         },
         "type": "linear"
        },
        "yaxis": {
         "anchor": "x",
         "autorange": true,
         "categoryorder": "total ascending",
         "domain": [
          0,
          1
         ],
         "range": [
          -0.5,
          29.5
         ],
         "tickfont": {
          "color": "black",
          "family": "Arial, sans-serif",
          "size": 14
         },
         "title": {
          "text": ""
         },
         "type": "category"
        }
       }
      },
      "image/png": "[encoded data removed]",
      "text/html": [
       "<div>                            <div id=\"ed4d093c-2229-4c24-986b-0d188cf86ef5\" class=\"plotly-graph-div\" style=\"height:800px; width:1000px;\"></div>            <script type=\"text/javascript\">                require([\"plotly\"], function(Plotly) {                    window.PLOTLYENV=window.PLOTLYENV || {};                                    if (document.getElementById(\"ed4d093c-2229-4c24-986b-0d188cf86ef5\")) {                    Plotly.newPlot(                        \"ed4d093c-2229-4c24-986b-0d188cf86ef5\",                        [{\"alignmentgroup\":\"True\",\"hovertemplate\":\"feature importance (permutation)=%{x}<br>=%{y}<extra></extra>\",\"legendgroup\":\"\",\"marker\":{\"color\":\"rgba(41, 128, 185, 1.0)\",\"pattern\":{\"shape\":\"\"}},\"name\":\"\",\"offsetgroup\":\"\",\"orientation\":\"h\",\"showlegend\":false,\"textposition\":\"auto\",\"x\":[0.02484548104956271,0.023819241982507226,0.021364431486880414,0.020524781341107814,0.01961516034985417,0.017854227405247745,0.017224489795918313,0.017189504373177792,0.016897959183673504,0.014728862973760864,0.012874635568513102,0.011189504373177775,0.010816326530612201,0.00811661807580173,0.007282798833819162,0.006588921282798762,0.005247813411078729,0.004157434402332293,0.004128279883381861,0.003947521865889151,0.003661807580174881,0.0033411078717200536,0.002658892128279813,0.002460641399416833,0.002186588921282745,0.002163265306122394,0.0013061224489796198,0.0012069970845480582,0.00111953352769674,0.0007930029154518281],\"xaxis\":\"x\",\"y\":[\"CD40+ B Cells :in: B Cells\",\"CD38+ median  :in:  CD38+ NKT Cells\",\"CD94+ median  :in:  CD94+ NK Cells\",\"CD80+ median  :in:  CD80+ Switched Memory B Cells\",\"CD94+ median  :in:  CD94+ NKT Cells\",\"CD57+ NK Cells :in: NK Cells\",\"CD38+ median  :in:  CD38+ CD27+ CD4+ T Cells\",\"CD11c+ CD27+ CD8+ T Cells :in: CD27+ CD8+ T Cells\",\"CD94+ median  :in:  CD94+ CD16+ NK Cells\",\"CD40+ IgMlow IgD+ Naive B Cells :in: IgMlow IgD+ Naive B Cells\",\"CD86+ CD16- CD56dim NK Cells :in: CD16- CD56dim NK Cells\",\"CD57+ CD16+ NK Cells :in: CD16+ NK Cells\",\"Double Negative B Cells :in: B Cells\",\"CD94+ CD16- CD56bright NK Cells :in: CD16- CD56bright NK Cells\",\"Transitional B Cells :in: Naive B Cells\",\"CD11c+ median  :in:  CD11c+ CD16+ NK Cells\",\"HLA-DR+ IgM+ IgD+ Naive B Cells :in: IgM+ IgD+ Naive B Cells\",\"HLA-DR+ median  :in:  HLA-DR+ CD27- CD4+ T Cells\",\"CD38+ CD27+ CD8+ T Cells :in: CD27+ CD8+ T Cells\",\"HLA-DR+ median  :in:  HLA-DR+ CD4+ T Cells\",\"CD94+ median  :in:  CD94+ CD16- CD56bright NK Cells\",\"CD11c+ median  :in:  CD11c+ CD16- CD56dim NK Cells\",\"CD80+ Memory B Cells :in: Memory B Cells\",\"CD86+ IgMlow IgD+ Naive B Cells :in: IgMlow IgD+ Naive B Cells\",\"Memory B Cells :in: B Cells\",\"Naive B Cells :in: B Cells\",\"CD16+ CD56bright NK Cells :in: NK Cells\",\"CD80+ Double Negative B Cells :in: Double Negative B Cells\",\"CD27+ median  :in:  CD27+ CD4+ T Cells\",\"CD57+ CD27+ CD4+ T Cells :in: CD27+ CD4+ T Cells\"],\"yaxis\":\"y\",\"type\":\"bar\"}],                        {\"template\":{\"data\":{\"histogram2dcontour\":[{\"type\":\"histogram2dcontour\",\"colorbar\":{\"outlinewidth\":0,\"ticks\":\"\"},\"colorscale\":[[0.0,\"#0d0887\"],[0.1111111111111111,\"#46039f\"],[0.2222222222222222,\"#7201a8\"],[0.3333333333333333,\"#9c179e\"],[0.4444444444444444,\"#bd3786\"],[0.5555555555555556,\"#d8576b\"],[0.6666666666666666,\"#ed7953\"],[0.7777777777777778,\"#fb9f3a\"],[0.8888888888888888,\"#fdca26\"],[1.0,\"#f0f921\"]]}],\"choropleth\":[{\"type\":\"choropleth\",\"colorbar\":{\"outlinewidth\":0,\"ticks\":\"\"}}],\"histogram2d\":[{\"type\":\"histogram2d\",\"colorbar\":{\"outlinewidth\":0,\"ticks\":\"\"},\"colorscale\":[[0.0,\"#0d0887\"],[0.1111111111111111,\"#46039f\"],[0.2222222222222222,\"#7201a8\"],[0.3333333333333333,\"#9c179e\"],[0.4444444444444444,\"#bd3786\"],[0.5555555555555556,\"#d8576b\"],[0.6666666666666666,\"#ed7953\"],[0.7777777777777778,\"#fb9f3a\"],[0.8888888888888888,\"#fdca26\"],[1.0,\"#f0f921\"]]}],\"heatmap\":[{\"type\":\"heatmap\",\"colorbar\":{\"outlinewidth\":0,\"ticks\":\"\"},\"colorscale\":[[0.0,\"#0d0887\"],[0.1111111111111111,\"#46039f\"],[0.2222222222222222,\"#7201a8\"],[0.3333333333333333,\"#9c179e\"],[0.4444444444444444,\"#bd3786\"],[0.5555555555555556,\"#d8576b\"],[0.6666666666666666,\"#ed7953\"],[0.7777777777777778,\"#fb9f3a\"],[0.8888888888888888,\"#fdca26\"],[1.0,\"#f0f921\"]]}],\"heatmapgl\":[{\"type\":\"heatmapgl\",\"colorbar\":{\"outlinewidth\":0,\"ticks\":\"\"},\"colorscale\":[[0.0,\"#0d0887\"],[0.1111111111111111,\"#46039f\"],[0.2222222222222222,\"#7201a8\"],[0.3333333333333333,\"#9c179e\"],[0.4444444444444444,\"#bd3786\"],[0.5555555555555556,\"#d8576b\"],[0.6666666666666666,\"#ed7953\"],[0.7777777777777778,\"#fb9f3a\"],[0.8888888888888888,\"#fdca26\"],[1.0,\"#f0f921\"]]}],\"contourcarpet\":[{\"type\":\"contourcarpet\",\"colorbar\":{\"outlinewidth\":0,\"ticks\":\"\"}}],\"contour\":[{\"type\":\"contour\",\"colorbar\":{\"outlinewidth\":0,\"ticks\":\"\"},\"colorscale\":[[0.0,\"#0d0887\"],[0.1111111111111111,\"#46039f\"],[0.2222222222222222,\"#7201a8\"],[0.3333333333333333,\"#9c179e\"],[0.4444444444444444,\"#bd3786\"],[0.5555555555555556,\"#d8576b\"],[0.6666666666666666,\"#ed7953\"],[0.7777777777777778,\"#fb9f3a\"],[0.8888888888888888,\"#fdca26\"],[1.0,\"#f0f921\"]]}],\"surface\":[{\"type\":\"surface\",\"colorbar\":{\"outlinewidth\":0,\"ticks\":\"\"},\"colorscale\":[[0.0,\"#0d0887\"],[0.1111111111111111,\"#46039f\"],[0.2222222222222222,\"#7201a8\"],[0.3333333333333333,\"#9c179e\"],[0.4444444444444444,\"#bd3786\"],[0.5555555555555556,\"#d8576b\"],[0.6666666666666666,\"#ed7953\"],[0.7777777777777778,\"#fb9f3a\"],[0.8888888888888888,\"#fdca26\"],[1.0,\"#f0f921\"]]}],\"mesh3d\":[{\"type\":\"mesh3d\",\"colorbar\":{\"outlinewidth\":0,\"ticks\":\"\"}}],\"scatter\":[{\"fillpattern\":{\"fillmode\":\"overlay\",\"size\":10,\"solidity\":0.2},\"type\":\"scatter\"}],\"parcoords\":[{\"type\":\"parcoords\",\"line\":{\"colorbar\":{\"outlinewidth\":0,\"ticks\":\"\"}}}],\"scatterpolargl\":[{\"type\":\"scatterpolargl\",\"marker\":{\"colorbar\":{\"outlinewidth\":0,\"ticks\":\"\"}}}],\"bar\":[{\"error_x\":{\"color\":\"#2a3f5f\"},\"error_y\":{\"color\":\"#2a3f5f\"},\"marker\":{\"line\":{\"color\":\"#E5ECF6\",\"width\":0.5},\"pattern\":{\"fillmode\":\"overlay\",\"size\":10,\"solidity\":0.2}},\"type\":\"bar\"}],\"scattergeo\":[{\"type\":\"scattergeo\",\"marker\":{\"colorbar\":{\"outlinewidth\":0,\"ticks\":\"\"}}}],\"scatterpolar\":[{\"type\":\"scatterpolar\",\"marker\":{\"colorbar\":{\"outlinewidth\":0,\"ticks\":\"\"}}}],\"histogram\":[{\"marker\":{\"pattern\":{\"fillmode\":\"overlay\",\"size\":10,\"solidity\":0.2}},\"type\":\"histogram\"}],\"scattergl\":[{\"type\":\"scattergl\",\"marker\":{\"colorbar\":{\"outlinewidth\":0,\"ticks\":\"\"}}}],\"scatter3d\":[{\"type\":\"scatter3d\",\"line\":{\"colorbar\":{\"outlinewidth\":0,\"ticks\":\"\"}},\"marker\":{\"colorbar\":{\"outlinewidth\":0,\"ticks\":\"\"}}}],\"scattermapbox\":[{\"type\":\"scattermapbox\",\"marker\":{\"colorbar\":{\"outlinewidth\":0,\"ticks\":\"\"}}}],\"scatterternary\":[{\"type\":\"scatterternary\",\"marker\":{\"colorbar\":{\"outlinewidth\":0,\"ticks\":\"\"}}}],\"scattercarpet\":[{\"type\":\"scattercarpet\",\"marker\":{\"colorbar\":{\"outlinewidth\":0,\"ticks\":\"\"}}}],\"carpet\":[{\"aaxis\":{\"endlinecolor\":\"#2a3f5f\",\"gridcolor\":\"white\",\"linecolor\":\"white\",\"minorgridcolor\":\"white\",\"startlinecolor\":\"#2a3f5f\"},\"baxis\":{\"endlinecolor\":\"#2a3f5f\",\"gridcolor\":\"white\",\"linecolor\":\"white\",\"minorgridcolor\":\"white\",\"startlinecolor\":\"#2a3f5f\"},\"type\":\"carpet\"}],\"table\":[{\"cells\":{\"fill\":{\"color\":\"#EBF0F8\"},\"line\":{\"color\":\"white\"}},\"header\":{\"fill\":{\"color\":\"#C8D4E3\"},\"line\":{\"color\":\"white\"}},\"type\":\"table\"}],\"barpolar\":[{\"marker\":{\"line\":{\"color\":\"#E5ECF6\",\"width\":0.5},\"pattern\":{\"fillmode\":\"overlay\",\"size\":10,\"solidity\":0.2}},\"type\":\"barpolar\"}],\"pie\":[{\"automargin\":true,\"type\":\"pie\"}]},\"layout\":{\"autotypenumbers\":\"strict\",\"colorway\":[\"#636efa\",\"#EF553B\",\"#00cc96\",\"#ab63fa\",\"#FFA15A\",\"#19d3f3\",\"#FF6692\",\"#B6E880\",\"#FF97FF\",\"#FECB52\"],\"font\":{\"color\":\"#2a3f5f\"},\"hovermode\":\"closest\",\"hoverlabel\":{\"align\":\"left\"},\"paper_bgcolor\":\"white\",\"plot_bgcolor\":\"#E5ECF6\",\"polar\":{\"bgcolor\":\"#E5ECF6\",\"angularaxis\":{\"gridcolor\":\"white\",\"linecolor\":\"white\",\"ticks\":\"\"},\"radialaxis\":{\"gridcolor\":\"white\",\"linecolor\":\"white\",\"ticks\":\"\"}},\"ternary\":{\"bgcolor\":\"#E5ECF6\",\"aaxis\":{\"gridcolor\":\"white\",\"linecolor\":\"white\",\"ticks\":\"\"},\"baxis\":{\"gridcolor\":\"white\",\"linecolor\":\"white\",\"ticks\":\"\"},\"caxis\":{\"gridcolor\":\"white\",\"linecolor\":\"white\",\"ticks\":\"\"}},\"coloraxis\":{\"colorbar\":{\"outlinewidth\":0,\"ticks\":\"\"}},\"colorscale\":{\"sequential\":[[0.0,\"#0d0887\"],[0.1111111111111111,\"#46039f\"],[0.2222222222222222,\"#7201a8\"],[0.3333333333333333,\"#9c179e\"],[0.4444444444444444,\"#bd3786\"],[0.5555555555555556,\"#d8576b\"],[0.6666666666666666,\"#ed7953\"],[0.7777777777777778,\"#fb9f3a\"],[0.8888888888888888,\"#fdca26\"],[1.0,\"#f0f921\"]],\"sequentialminus\":[[0.0,\"#0d0887\"],[0.1111111111111111,\"#46039f\"],[0.2222222222222222,\"#7201a8\"],[0.3333333333333333,\"#9c179e\"],[0.4444444444444444,\"#bd3786\"],[0.5555555555555556,\"#d8576b\"],[0.6666666666666666,\"#ed7953\"],[0.7777777777777778,\"#fb9f3a\"],[0.8888888888888888,\"#fdca26\"],[1.0,\"#f0f921\"]],\"diverging\":[[0,\"#8e0152\"],[0.1,\"#c51b7d\"],[0.2,\"#de77ae\"],[0.3,\"#f1b6da\"],[0.4,\"#fde0ef\"],[0.5,\"#f7f7f7\"],[0.6,\"#e6f5d0\"],[0.7,\"#b8e186\"],[0.8,\"#7fbc41\"],[0.9,\"#4d9221\"],[1,\"#276419\"]]},\"xaxis\":{\"gridcolor\":\"white\",\"linecolor\":\"white\",\"ticks\":\"\",\"title\":{\"standoff\":15},\"zerolinecolor\":\"white\",\"automargin\":true,\"zerolinewidth\":2},\"yaxis\":{\"gridcolor\":\"white\",\"linecolor\":\"white\",\"ticks\":\"\",\"title\":{\"standoff\":15},\"zerolinecolor\":\"white\",\"automargin\":true,\"zerolinewidth\":2},\"scene\":{\"xaxis\":{\"backgroundcolor\":\"#E5ECF6\",\"gridcolor\":\"white\",\"linecolor\":\"white\",\"showbackground\":true,\"ticks\":\"\",\"zerolinecolor\":\"white\",\"gridwidth\":2},\"yaxis\":{\"backgroundcolor\":\"#E5ECF6\",\"gridcolor\":\"white\",\"linecolor\":\"white\",\"showbackground\":true,\"ticks\":\"\",\"zerolinecolor\":\"white\",\"gridwidth\":2},\"zaxis\":{\"backgroundcolor\":\"#E5ECF6\",\"gridcolor\":\"white\",\"linecolor\":\"white\",\"showbackground\":true,\"ticks\":\"\",\"zerolinecolor\":\"white\",\"gridwidth\":2}},\"shapedefaults\":{\"line\":{\"color\":\"#2a3f5f\"}},\"annotationdefaults\":{\"arrowcolor\":\"#2a3f5f\",\"arrowhead\":0,\"arrowwidth\":1},\"geo\":{\"bgcolor\":\"white\",\"landcolor\":\"#E5ECF6\",\"subunitcolor\":\"white\",\"showland\":true,\"showlakes\":true,\"lakecolor\":\"white\"},\"title\":{\"x\":0.05},\"mapbox\":{\"style\":\"light\"}}},\"xaxis\":{\"anchor\":\"y\",\"domain\":[0.0,1.0],\"title\":{\"text\":\"feature importance (permutation)\"}},\"yaxis\":{\"anchor\":\"x\",\"domain\":[0.0,1.0],\"title\":{\"text\":\"\"},\"categoryorder\":\"total ascending\",\"tickfont\":{\"color\":\"black\",\"family\":\"Arial, sans-serif\",\"size\":14}},\"legend\":{\"tracegroupgap\":0},\"margin\":{\"t\":60},\"barmode\":\"relative\",\"showlegend\":false,\"height\":800,\"width\":1000,\"title\":{\"text\":\"Dose 2 detectable\",\"xanchor\":\"left\",\"x\":0.5},\"paper_bgcolor\":\"rgb(222,222,222)\",\"coloraxis\":{\"showscale\":false}},                        {\"responsive\": true}                    ).then(function(){\n",
       "                            \n",
       "var gd = document.getElementById('ed4d093c-2229-4c24-986b-0d188cf86ef5');\n",
       "var x = new MutationObserver(function (mutations, observer) {{\n",
       "        var display = window.getComputedStyle(gd).display;\n",
       "        if (!display || display === 'none') {{\n",
       "            console.log([gd, 'removed!']);\n",
       "            Plotly.purge(gd);\n",
       "            observer.disconnect();\n",
       "        }}\n",
       "}});\n",
       "\n",
       "// Listen for the removal of the full notebook cells\n",
       "var notebookContainer = gd.closest('#notebook-container');\n",
       "if (notebookContainer) {{\n",
       "    x.observe(notebookContainer, {childList: true});\n",
       "}}\n",
       "\n",
       "// Listen for the clearing of the current output cell\n",
       "var outputEl = gd.closest('.output');\n",
       "if (outputEl) {{\n",
       "    x.observe(outputEl, {childList: true});\n",
       "}}\n",
       "\n",
       "                        })                };                });            </script>        </div>"
      ]
     },
     "metadata": {},
     "output_type": "display_data"
    }
   ],
   "source": [
    "df = data[\"SVM_RFE_d2_d\"][\"df\"]\n",
    "df = df.loc[df[\"var\"]!=\"age\",:]\n",
    "df = df.sort_values(by=\"impor_mean\",ascending=False)\n",
    "fig1 = px.bar(df.iloc[:30,:], x=\"impor_mean\", y=\"var\",orientation='h',labels={\"impor_mean\": \"feature importance (permutation)\",\"var\": \"\"})\n",
    "fig1.update_layout(showlegend=False,height = 800,yaxis={'categoryorder':'total ascending'},width = 1000,title = \"Dose 2 detectable\")\n",
    "fig1.layout.title.xanchor = 'left'\n",
    "fig1.layout.title.x = 0.5\n",
    "fig1.update_traces(marker_color='rgba(41, 128, 185, 1.0)')\n",
    "fig1.layout.yaxis.tickfont = dict(size =14, color='black', family='Arial, sans-serif')\n",
    "fig1.layout.paper_bgcolor = 'rgb(222,222,222)'\n",
    "fig1.update(layout_coloraxis_showscale=False)\n",
    "#fig1.update_yaxes(ticklabelposition=\"inside top\", title=None)\n",
    "fig1.write_image(\"fig_ml_A.svg\")\n",
    "fig1"
   ]
  },
  {
   "cell_type": "code",
   "execution_count": 34,
   "id": "32e6fdd9-e984-4029-aa6e-44559ca417f4",
   "metadata": {},
   "outputs": [
    {
     "data": {
      "application/vnd.plotly.v1+json": {
       "config": {
        "plotlyServerURL": "https://plot.ly"
       },
       "data": [
        {
         "alignmentgroup": "True",
         "hovertemplate": "feature importance (permutation)=%{x}<br>=%{y}<extra></extra>",
         "legendgroup": "",
         "marker": {
          "color": "rgba( 128,41, 185, 1.0)",
          "pattern": {
           "shape": ""
          }
         },
         "name": "",
         "offsetgroup": "",
         "orientation": "h",
         "showlegend": false,
         "textposition": "auto",
         "type": "bar",
         "x": [
          0.2648325358851675,
          0.22190430622009572,
          0.18824880382775125,
          0.17756459330143531,
          0.17190430622009564,
          0.1508133971291866,
          0.1437607655502392,
          0.13742583732057426,
          0.12758851674641153,
          0.11664114832535882,
          0.11376555023923456,
          0.10792344497607655,
          0.09060287081339716,
          0.07832535885167474
         ],
         "xaxis": "x",
         "y": [
          "CD40+ median  :in:  CD40+ Non-Switched Memory B Cells",
          "CD40+ median  :in:  CD40+ IgM+ IgD+ Memory B Cells",
          "CD38+ median  :in:  CD38+ CD16- CD56dim NK Cells",
          "CD40+ median  :in:  CD40+ IgM+ IgD+ Naive B Cells",
          "CD27+ CD16- CD56bright NK Cells :in: CD16- CD56bright NK Cells",
          "CD86+ CD16- CD56dim NK Cells :in: CD16- CD56dim NK Cells",
          "CD57+ CD27- CD4+ T Cells :in: CD27- CD4+ T Cells",
          "CD38+ NK Cells :in: NK Cells",
          "CD57+ CD27+ CD8+ T Cells :in: CD27+ CD8+ T Cells",
          "HLA-DR+ median  :in:  HLA-DR+ CD4+ T Cells",
          "Transitional B Cells :in: Naive B Cells",
          "CD94+ NKT Cells :in: NKT Cells",
          "BAFF-R+ IgMlow IgD+ Naive B Cells :in: IgMlow IgD+ Naive B Cells",
          "CD94+ CD16- CD56bright NK Cells :in: CD16- CD56bright NK Cells"
         ],
         "yaxis": "y"
        }
       ],
       "layout": {
        "barmode": "relative",
        "coloraxis": {
         "showscale": false
        },
        "height": 500,
        "legend": {
         "tracegroupgap": 0
        },
        "margin": {
         "t": 60
        },
        "paper_bgcolor": "rgb(222,222,222)",
        "showlegend": false,
        "template": {
         "data": {
          "bar": [
           {
            "error_x": {
             "color": "#2a3f5f"
            },
            "error_y": {
             "color": "#2a3f5f"
            },
            "marker": {
             "line": {
              "color": "#E5ECF6",
              "width": 0.5
             },
             "pattern": {
              "fillmode": "overlay",
              "size": 10,
              "solidity": 0.2
             }
            },
            "type": "bar"
           }
          ],
          "barpolar": [
           {
            "marker": {
             "line": {
              "color": "#E5ECF6",
              "width": 0.5
             },
             "pattern": {
              "fillmode": "overlay",
              "size": 10,
              "solidity": 0.2
             }
            },
            "type": "barpolar"
           }
          ],
          "carpet": [
           {
            "aaxis": {
             "endlinecolor": "#2a3f5f",
             "gridcolor": "white",
             "linecolor": "white",
             "minorgridcolor": "white",
             "startlinecolor": "#2a3f5f"
            },
            "baxis": {
             "endlinecolor": "#2a3f5f",
             "gridcolor": "white",
             "linecolor": "white",
             "minorgridcolor": "white",
             "startlinecolor": "#2a3f5f"
            },
            "type": "carpet"
           }
          ],
          "choropleth": [
           {
            "colorbar": {
             "outlinewidth": 0,
             "ticks": ""
            },
            "type": "choropleth"
           }
          ],
          "contour": [
           {
            "colorbar": {
             "outlinewidth": 0,
             "ticks": ""
            },
            "colorscale": [
             [
              0,
              "#0d0887"
             ],
             [
              0.1111111111111111,
              "#46039f"
             ],
             [
              0.2222222222222222,
              "#7201a8"
             ],
             [
              0.3333333333333333,
              "#9c179e"
             ],
             [
              0.4444444444444444,
              "#bd3786"
             ],
             [
              0.5555555555555556,
              "#d8576b"
             ],
             [
              0.6666666666666666,
              "#ed7953"
             ],
             [
              0.7777777777777778,
              "#fb9f3a"
             ],
             [
              0.8888888888888888,
              "#fdca26"
             ],
             [
              1,
              "#f0f921"
             ]
            ],
            "type": "contour"
           }
          ],
          "contourcarpet": [
           {
            "colorbar": {
             "outlinewidth": 0,
             "ticks": ""
            },
            "type": "contourcarpet"
           }
          ],
          "heatmap": [
           {
            "colorbar": {
             "outlinewidth": 0,
             "ticks": ""
            },
            "colorscale": [
             [
              0,
              "#0d0887"
             ],
             [
              0.1111111111111111,
              "#46039f"
             ],
             [
              0.2222222222222222,
              "#7201a8"
             ],
             [
              0.3333333333333333,
              "#9c179e"
             ],
             [
              0.4444444444444444,
              "#bd3786"
             ],
             [
              0.5555555555555556,
              "#d8576b"
             ],
             [
              0.6666666666666666,
              "#ed7953"
             ],
             [
              0.7777777777777778,
              "#fb9f3a"
             ],
             [
              0.8888888888888888,
              "#fdca26"
             ],
             [
              1,
              "#f0f921"
             ]
            ],
            "type": "heatmap"
           }
          ],
          "heatmapgl": [
           {
            "colorbar": {
             "outlinewidth": 0,
             "ticks": ""
            },
            "colorscale": [
             [
              0,
              "#0d0887"
             ],
             [
              0.1111111111111111,
              "#46039f"
             ],
             [
              0.2222222222222222,
              "#7201a8"
             ],
             [
              0.3333333333333333,
              "#9c179e"
             ],
             [
              0.4444444444444444,
              "#bd3786"
             ],
             [
              0.5555555555555556,
              "#d8576b"
             ],
             [
              0.6666666666666666,
              "#ed7953"
             ],
             [
              0.7777777777777778,
              "#fb9f3a"
             ],
             [
              0.8888888888888888,
              "#fdca26"
             ],
             [
              1,
              "#f0f921"
             ]
            ],
            "type": "heatmapgl"
           }
          ],
          "histogram": [
           {
            "marker": {
             "pattern": {
              "fillmode": "overlay",
              "size": 10,
              "solidity": 0.2
             }
            },
            "type": "histogram"
           }
          ],
          "histogram2d": [
           {
            "colorbar": {
             "outlinewidth": 0,
             "ticks": ""
            },
            "colorscale": [
             [
              0,
              "#0d0887"
             ],
             [
              0.1111111111111111,
              "#46039f"
             ],
             [
              0.2222222222222222,
              "#7201a8"
             ],
             [
              0.3333333333333333,
              "#9c179e"
             ],
             [
              0.4444444444444444,
              "#bd3786"
             ],
             [
              0.5555555555555556,
              "#d8576b"
             ],
             [
              0.6666666666666666,
              "#ed7953"
             ],
             [
              0.7777777777777778,
              "#fb9f3a"
             ],
             [
              0.8888888888888888,
              "#fdca26"
             ],
             [
              1,
              "#f0f921"
             ]
            ],
            "type": "histogram2d"
           }
          ],
          "histogram2dcontour": [
           {
            "colorbar": {
             "outlinewidth": 0,
             "ticks": ""
            },
            "colorscale": [
             [
              0,
              "#0d0887"
             ],
             [
              0.1111111111111111,
              "#46039f"
             ],
             [
              0.2222222222222222,
              "#7201a8"
             ],
             [
              0.3333333333333333,
              "#9c179e"
             ],
             [
              0.4444444444444444,
              "#bd3786"
             ],
             [
              0.5555555555555556,
              "#d8576b"
             ],
             [
              0.6666666666666666,
              "#ed7953"
             ],
             [
              0.7777777777777778,
              "#fb9f3a"
             ],
             [
              0.8888888888888888,
              "#fdca26"
             ],
             [
              1,
              "#f0f921"
             ]
            ],
            "type": "histogram2dcontour"
           }
          ],
          "mesh3d": [
           {
            "colorbar": {
             "outlinewidth": 0,
             "ticks": ""
            },
            "type": "mesh3d"
           }
          ],
          "parcoords": [
           {
            "line": {
             "colorbar": {
              "outlinewidth": 0,
              "ticks": ""
             }
            },
            "type": "parcoords"
           }
          ],
          "pie": [
           {
            "automargin": true,
            "type": "pie"
           }
          ],
          "scatter": [
           {
            "fillpattern": {
             "fillmode": "overlay",
             "size": 10,
             "solidity": 0.2
            },
            "type": "scatter"
           }
          ],
          "scatter3d": [
           {
            "line": {
             "colorbar": {
              "outlinewidth": 0,
              "ticks": ""
             }
            },
            "marker": {
             "colorbar": {
              "outlinewidth": 0,
              "ticks": ""
             }
            },
            "type": "scatter3d"
           }
          ],
          "scattercarpet": [
           {
            "marker": {
             "colorbar": {
              "outlinewidth": 0,
              "ticks": ""
             }
            },
            "type": "scattercarpet"
           }
          ],
          "scattergeo": [
           {
            "marker": {
             "colorbar": {
              "outlinewidth": 0,
              "ticks": ""
             }
            },
            "type": "scattergeo"
           }
          ],
          "scattergl": [
           {
            "marker": {
             "colorbar": {
              "outlinewidth": 0,
              "ticks": ""
             }
            },
            "type": "scattergl"
           }
          ],
          "scattermapbox": [
           {
            "marker": {
             "colorbar": {
              "outlinewidth": 0,
              "ticks": ""
             }
            },
            "type": "scattermapbox"
           }
          ],
          "scatterpolar": [
           {
            "marker": {
             "colorbar": {
              "outlinewidth": 0,
              "ticks": ""
             }
            },
            "type": "scatterpolar"
           }
          ],
          "scatterpolargl": [
           {
            "marker": {
             "colorbar": {
              "outlinewidth": 0,
              "ticks": ""
             }
            },
            "type": "scatterpolargl"
           }
          ],
          "scatterternary": [
           {
            "marker": {
             "colorbar": {
              "outlinewidth": 0,
              "ticks": ""
             }
            },
            "type": "scatterternary"
           }
          ],
          "surface": [
           {
            "colorbar": {
             "outlinewidth": 0,
             "ticks": ""
            },
            "colorscale": [
             [
              0,
              "#0d0887"
             ],
             [
              0.1111111111111111,
              "#46039f"
             ],
             [
              0.2222222222222222,
              "#7201a8"
             ],
             [
              0.3333333333333333,
              "#9c179e"
             ],
             [
              0.4444444444444444,
              "#bd3786"
             ],
             [
              0.5555555555555556,
              "#d8576b"
             ],
             [
              0.6666666666666666,
              "#ed7953"
             ],
             [
              0.7777777777777778,
              "#fb9f3a"
             ],
             [
              0.8888888888888888,
              "#fdca26"
             ],
             [
              1,
              "#f0f921"
             ]
            ],
            "type": "surface"
           }
          ],
          "table": [
           {
            "cells": {
             "fill": {
              "color": "#EBF0F8"
             },
             "line": {
              "color": "white"
             }
            },
            "header": {
             "fill": {
              "color": "#C8D4E3"
             },
             "line": {
              "color": "white"
             }
            },
            "type": "table"
           }
          ]
         },
         "layout": {
          "annotationdefaults": {
           "arrowcolor": "#2a3f5f",
           "arrowhead": 0,
           "arrowwidth": 1
          },
          "autotypenumbers": "strict",
          "coloraxis": {
           "colorbar": {
            "outlinewidth": 0,
            "ticks": ""
           }
          },
          "colorscale": {
           "diverging": [
            [
             0,
             "#8e0152"
            ],
            [
             0.1,
             "#c51b7d"
            ],
            [
             0.2,
             "#de77ae"
            ],
            [
             0.3,
             "#f1b6da"
            ],
            [
             0.4,
             "#fde0ef"
            ],
            [
             0.5,
             "#f7f7f7"
            ],
            [
             0.6,
             "#e6f5d0"
            ],
            [
             0.7,
             "#b8e186"
            ],
            [
             0.8,
             "#7fbc41"
            ],
            [
             0.9,
             "#4d9221"
            ],
            [
             1,
             "#276419"
            ]
           ],
           "sequential": [
            [
             0,
             "#0d0887"
            ],
            [
             0.1111111111111111,
             "#46039f"
            ],
            [
             0.2222222222222222,
             "#7201a8"
            ],
            [
             0.3333333333333333,
             "#9c179e"
            ],
            [
             0.4444444444444444,
             "#bd3786"
            ],
            [
             0.5555555555555556,
             "#d8576b"
            ],
            [
             0.6666666666666666,
             "#ed7953"
            ],
            [
             0.7777777777777778,
             "#fb9f3a"
            ],
            [
             0.8888888888888888,
             "#fdca26"
            ],
            [
             1,
             "#f0f921"
            ]
           ],
           "sequentialminus": [
            [
             0,
             "#0d0887"
            ],
            [
             0.1111111111111111,
             "#46039f"
            ],
            [
             0.2222222222222222,
             "#7201a8"
            ],
            [
             0.3333333333333333,
             "#9c179e"
            ],
            [
             0.4444444444444444,
             "#bd3786"
            ],
            [
             0.5555555555555556,
             "#d8576b"
            ],
            [
             0.6666666666666666,
             "#ed7953"
            ],
            [
             0.7777777777777778,
             "#fb9f3a"
            ],
            [
             0.8888888888888888,
             "#fdca26"
            ],
            [
             1,
             "#f0f921"
            ]
           ]
          },
          "colorway": [
           "#636efa",
           "#EF553B",
           "#00cc96",
           "#ab63fa",
           "#FFA15A",
           "#19d3f3",
           "#FF6692",
           "#B6E880",
           "#FF97FF",
           "#FECB52"
          ],
          "font": {
           "color": "#2a3f5f"
          },
          "geo": {
           "bgcolor": "white",
           "lakecolor": "white",
           "landcolor": "#E5ECF6",
           "showlakes": true,
           "showland": true,
           "subunitcolor": "white"
          },
          "hoverlabel": {
           "align": "left"
          },
          "hovermode": "closest",
          "mapbox": {
           "style": "light"
          },
          "paper_bgcolor": "white",
          "plot_bgcolor": "#E5ECF6",
          "polar": {
           "angularaxis": {
            "gridcolor": "white",
            "linecolor": "white",
            "ticks": ""
           },
           "bgcolor": "#E5ECF6",
           "radialaxis": {
            "gridcolor": "white",
            "linecolor": "white",
            "ticks": ""
           }
          },
          "scene": {
           "xaxis": {
            "backgroundcolor": "#E5ECF6",
            "gridcolor": "white",
            "gridwidth": 2,
            "linecolor": "white",
            "showbackground": true,
            "ticks": "",
            "zerolinecolor": "white"
           },
           "yaxis": {
            "backgroundcolor": "#E5ECF6",
            "gridcolor": "white",
            "gridwidth": 2,
            "linecolor": "white",
            "showbackground": true,
            "ticks": "",
            "zerolinecolor": "white"
           },
           "zaxis": {
            "backgroundcolor": "#E5ECF6",
            "gridcolor": "white",
            "gridwidth": 2,
            "linecolor": "white",
            "showbackground": true,
            "ticks": "",
            "zerolinecolor": "white"
           }
          },
          "shapedefaults": {
           "line": {
            "color": "#2a3f5f"
           }
          },
          "ternary": {
           "aaxis": {
            "gridcolor": "white",
            "linecolor": "white",
            "ticks": ""
           },
           "baxis": {
            "gridcolor": "white",
            "linecolor": "white",
            "ticks": ""
           },
           "bgcolor": "#E5ECF6",
           "caxis": {
            "gridcolor": "white",
            "linecolor": "white",
            "ticks": ""
           }
          },
          "title": {
           "x": 0.05
          },
          "xaxis": {
           "automargin": true,
           "gridcolor": "white",
           "linecolor": "white",
           "ticks": "",
           "title": {
            "standoff": 15
           },
           "zerolinecolor": "white",
           "zerolinewidth": 2
          },
          "yaxis": {
           "automargin": true,
           "gridcolor": "white",
           "linecolor": "white",
           "ticks": "",
           "title": {
            "standoff": 15
           },
           "zerolinecolor": "white",
           "zerolinewidth": 2
          }
         }
        },
        "title": {
         "text": "Dose 3 positive",
         "x": 0.5,
         "xanchor": "left"
        },
        "width": 1000,
        "xaxis": {
         "anchor": "y",
         "autorange": true,
         "domain": [
          0,
          1
         ],
         "range": [
          0,
          0.27877109040543946
         ],
         "title": {
          "text": "feature importance (permutation)"
         },
         "type": "linear"
        },
        "yaxis": {
         "anchor": "x",
         "autorange": true,
         "categoryorder": "total ascending",
         "domain": [
          0,
          1
         ],
         "range": [
          -0.5,
          13.5
         ],
         "tickfont": {
          "color": "black",
          "family": "Arial, sans-serif",
          "size": 14
         },
         "title": {
          "text": ""
         },
         "type": "category"
        }
       }
      },
      "image/png": "[encoded data removed]",
      "text/html": [
       "<div>                            <div id=\"b5e4ab8c-661d-4cf6-b9aa-28b514c6a45d\" class=\"plotly-graph-div\" style=\"height:500px; width:1000px;\"></div>            <script type=\"text/javascript\">                require([\"plotly\"], function(Plotly) {                    window.PLOTLYENV=window.PLOTLYENV || {};                                    if (document.getElementById(\"b5e4ab8c-661d-4cf6-b9aa-28b514c6a45d\")) {                    Plotly.newPlot(                        \"b5e4ab8c-661d-4cf6-b9aa-28b514c6a45d\",                        [{\"alignmentgroup\":\"True\",\"hovertemplate\":\"feature importance (permutation)=%{x}<br>=%{y}<extra></extra>\",\"legendgroup\":\"\",\"marker\":{\"color\":\"rgba( 128,41, 185, 1.0)\",\"pattern\":{\"shape\":\"\"}},\"name\":\"\",\"offsetgroup\":\"\",\"orientation\":\"h\",\"showlegend\":false,\"textposition\":\"auto\",\"x\":[0.2648325358851675,0.22190430622009572,0.18824880382775125,0.17756459330143531,0.17190430622009564,0.1508133971291866,0.1437607655502392,0.13742583732057426,0.12758851674641153,0.11664114832535882,0.11376555023923456,0.10792344497607655,0.09060287081339716,0.07832535885167474],\"xaxis\":\"x\",\"y\":[\"CD40+ median  :in:  CD40+ Non-Switched Memory B Cells\",\"CD40+ median  :in:  CD40+ IgM+ IgD+ Memory B Cells\",\"CD38+ median  :in:  CD38+ CD16- CD56dim NK Cells\",\"CD40+ median  :in:  CD40+ IgM+ IgD+ Naive B Cells\",\"CD27+ CD16- CD56bright NK Cells :in: CD16- CD56bright NK Cells\",\"CD86+ CD16- CD56dim NK Cells :in: CD16- CD56dim NK Cells\",\"CD57+ CD27- CD4+ T Cells :in: CD27- CD4+ T Cells\",\"CD38+ NK Cells :in: NK Cells\",\"CD57+ CD27+ CD8+ T Cells :in: CD27+ CD8+ T Cells\",\"HLA-DR+ median  :in:  HLA-DR+ CD4+ T Cells\",\"Transitional B Cells :in: Naive B Cells\",\"CD94+ NKT Cells :in: NKT Cells\",\"BAFF-R+ IgMlow IgD+ Naive B Cells :in: IgMlow IgD+ Naive B Cells\",\"CD94+ CD16- CD56bright NK Cells :in: CD16- CD56bright NK Cells\"],\"yaxis\":\"y\",\"type\":\"bar\"}],                        {\"template\":{\"data\":{\"histogram2dcontour\":[{\"type\":\"histogram2dcontour\",\"colorbar\":{\"outlinewidth\":0,\"ticks\":\"\"},\"colorscale\":[[0.0,\"#0d0887\"],[0.1111111111111111,\"#46039f\"],[0.2222222222222222,\"#7201a8\"],[0.3333333333333333,\"#9c179e\"],[0.4444444444444444,\"#bd3786\"],[0.5555555555555556,\"#d8576b\"],[0.6666666666666666,\"#ed7953\"],[0.7777777777777778,\"#fb9f3a\"],[0.8888888888888888,\"#fdca26\"],[1.0,\"#f0f921\"]]}],\"choropleth\":[{\"type\":\"choropleth\",\"colorbar\":{\"outlinewidth\":0,\"ticks\":\"\"}}],\"histogram2d\":[{\"type\":\"histogram2d\",\"colorbar\":{\"outlinewidth\":0,\"ticks\":\"\"},\"colorscale\":[[0.0,\"#0d0887\"],[0.1111111111111111,\"#46039f\"],[0.2222222222222222,\"#7201a8\"],[0.3333333333333333,\"#9c179e\"],[0.4444444444444444,\"#bd3786\"],[0.5555555555555556,\"#d8576b\"],[0.6666666666666666,\"#ed7953\"],[0.7777777777777778,\"#fb9f3a\"],[0.8888888888888888,\"#fdca26\"],[1.0,\"#f0f921\"]]}],\"heatmap\":[{\"type\":\"heatmap\",\"colorbar\":{\"outlinewidth\":0,\"ticks\":\"\"},\"colorscale\":[[0.0,\"#0d0887\"],[0.1111111111111111,\"#46039f\"],[0.2222222222222222,\"#7201a8\"],[0.3333333333333333,\"#9c179e\"],[0.4444444444444444,\"#bd3786\"],[0.5555555555555556,\"#d8576b\"],[0.6666666666666666,\"#ed7953\"],[0.7777777777777778,\"#fb9f3a\"],[0.8888888888888888,\"#fdca26\"],[1.0,\"#f0f921\"]]}],\"heatmapgl\":[{\"type\":\"heatmapgl\",\"colorbar\":{\"outlinewidth\":0,\"ticks\":\"\"},\"colorscale\":[[0.0,\"#0d0887\"],[0.1111111111111111,\"#46039f\"],[0.2222222222222222,\"#7201a8\"],[0.3333333333333333,\"#9c179e\"],[0.4444444444444444,\"#bd3786\"],[0.5555555555555556,\"#d8576b\"],[0.6666666666666666,\"#ed7953\"],[0.7777777777777778,\"#fb9f3a\"],[0.8888888888888888,\"#fdca26\"],[1.0,\"#f0f921\"]]}],\"contourcarpet\":[{\"type\":\"contourcarpet\",\"colorbar\":{\"outlinewidth\":0,\"ticks\":\"\"}}],\"contour\":[{\"type\":\"contour\",\"colorbar\":{\"outlinewidth\":0,\"ticks\":\"\"},\"colorscale\":[[0.0,\"#0d0887\"],[0.1111111111111111,\"#46039f\"],[0.2222222222222222,\"#7201a8\"],[0.3333333333333333,\"#9c179e\"],[0.4444444444444444,\"#bd3786\"],[0.5555555555555556,\"#d8576b\"],[0.6666666666666666,\"#ed7953\"],[0.7777777777777778,\"#fb9f3a\"],[0.8888888888888888,\"#fdca26\"],[1.0,\"#f0f921\"]]}],\"surface\":[{\"type\":\"surface\",\"colorbar\":{\"outlinewidth\":0,\"ticks\":\"\"},\"colorscale\":[[0.0,\"#0d0887\"],[0.1111111111111111,\"#46039f\"],[0.2222222222222222,\"#7201a8\"],[0.3333333333333333,\"#9c179e\"],[0.4444444444444444,\"#bd3786\"],[0.5555555555555556,\"#d8576b\"],[0.6666666666666666,\"#ed7953\"],[0.7777777777777778,\"#fb9f3a\"],[0.8888888888888888,\"#fdca26\"],[1.0,\"#f0f921\"]]}],\"mesh3d\":[{\"type\":\"mesh3d\",\"colorbar\":{\"outlinewidth\":0,\"ticks\":\"\"}}],\"scatter\":[{\"fillpattern\":{\"fillmode\":\"overlay\",\"size\":10,\"solidity\":0.2},\"type\":\"scatter\"}],\"parcoords\":[{\"type\":\"parcoords\",\"line\":{\"colorbar\":{\"outlinewidth\":0,\"ticks\":\"\"}}}],\"scatterpolargl\":[{\"type\":\"scatterpolargl\",\"marker\":{\"colorbar\":{\"outlinewidth\":0,\"ticks\":\"\"}}}],\"bar\":[{\"error_x\":{\"color\":\"#2a3f5f\"},\"error_y\":{\"color\":\"#2a3f5f\"},\"marker\":{\"line\":{\"color\":\"#E5ECF6\",\"width\":0.5},\"pattern\":{\"fillmode\":\"overlay\",\"size\":10,\"solidity\":0.2}},\"type\":\"bar\"}],\"scattergeo\":[{\"type\":\"scattergeo\",\"marker\":{\"colorbar\":{\"outlinewidth\":0,\"ticks\":\"\"}}}],\"scatterpolar\":[{\"type\":\"scatterpolar\",\"marker\":{\"colorbar\":{\"outlinewidth\":0,\"ticks\":\"\"}}}],\"histogram\":[{\"marker\":{\"pattern\":{\"fillmode\":\"overlay\",\"size\":10,\"solidity\":0.2}},\"type\":\"histogram\"}],\"scattergl\":[{\"type\":\"scattergl\",\"marker\":{\"colorbar\":{\"outlinewidth\":0,\"ticks\":\"\"}}}],\"scatter3d\":[{\"type\":\"scatter3d\",\"line\":{\"colorbar\":{\"outlinewidth\":0,\"ticks\":\"\"}},\"marker\":{\"colorbar\":{\"outlinewidth\":0,\"ticks\":\"\"}}}],\"scattermapbox\":[{\"type\":\"scattermapbox\",\"marker\":{\"colorbar\":{\"outlinewidth\":0,\"ticks\":\"\"}}}],\"scatterternary\":[{\"type\":\"scatterternary\",\"marker\":{\"colorbar\":{\"outlinewidth\":0,\"ticks\":\"\"}}}],\"scattercarpet\":[{\"type\":\"scattercarpet\",\"marker\":{\"colorbar\":{\"outlinewidth\":0,\"ticks\":\"\"}}}],\"carpet\":[{\"aaxis\":{\"endlinecolor\":\"#2a3f5f\",\"gridcolor\":\"white\",\"linecolor\":\"white\",\"minorgridcolor\":\"white\",\"startlinecolor\":\"#2a3f5f\"},\"baxis\":{\"endlinecolor\":\"#2a3f5f\",\"gridcolor\":\"white\",\"linecolor\":\"white\",\"minorgridcolor\":\"white\",\"startlinecolor\":\"#2a3f5f\"},\"type\":\"carpet\"}],\"table\":[{\"cells\":{\"fill\":{\"color\":\"#EBF0F8\"},\"line\":{\"color\":\"white\"}},\"header\":{\"fill\":{\"color\":\"#C8D4E3\"},\"line\":{\"color\":\"white\"}},\"type\":\"table\"}],\"barpolar\":[{\"marker\":{\"line\":{\"color\":\"#E5ECF6\",\"width\":0.5},\"pattern\":{\"fillmode\":\"overlay\",\"size\":10,\"solidity\":0.2}},\"type\":\"barpolar\"}],\"pie\":[{\"automargin\":true,\"type\":\"pie\"}]},\"layout\":{\"autotypenumbers\":\"strict\",\"colorway\":[\"#636efa\",\"#EF553B\",\"#00cc96\",\"#ab63fa\",\"#FFA15A\",\"#19d3f3\",\"#FF6692\",\"#B6E880\",\"#FF97FF\",\"#FECB52\"],\"font\":{\"color\":\"#2a3f5f\"},\"hovermode\":\"closest\",\"hoverlabel\":{\"align\":\"left\"},\"paper_bgcolor\":\"white\",\"plot_bgcolor\":\"#E5ECF6\",\"polar\":{\"bgcolor\":\"#E5ECF6\",\"angularaxis\":{\"gridcolor\":\"white\",\"linecolor\":\"white\",\"ticks\":\"\"},\"radialaxis\":{\"gridcolor\":\"white\",\"linecolor\":\"white\",\"ticks\":\"\"}},\"ternary\":{\"bgcolor\":\"#E5ECF6\",\"aaxis\":{\"gridcolor\":\"white\",\"linecolor\":\"white\",\"ticks\":\"\"},\"baxis\":{\"gridcolor\":\"white\",\"linecolor\":\"white\",\"ticks\":\"\"},\"caxis\":{\"gridcolor\":\"white\",\"linecolor\":\"white\",\"ticks\":\"\"}},\"coloraxis\":{\"colorbar\":{\"outlinewidth\":0,\"ticks\":\"\"}},\"colorscale\":{\"sequential\":[[0.0,\"#0d0887\"],[0.1111111111111111,\"#46039f\"],[0.2222222222222222,\"#7201a8\"],[0.3333333333333333,\"#9c179e\"],[0.4444444444444444,\"#bd3786\"],[0.5555555555555556,\"#d8576b\"],[0.6666666666666666,\"#ed7953\"],[0.7777777777777778,\"#fb9f3a\"],[0.8888888888888888,\"#fdca26\"],[1.0,\"#f0f921\"]],\"sequentialminus\":[[0.0,\"#0d0887\"],[0.1111111111111111,\"#46039f\"],[0.2222222222222222,\"#7201a8\"],[0.3333333333333333,\"#9c179e\"],[0.4444444444444444,\"#bd3786\"],[0.5555555555555556,\"#d8576b\"],[0.6666666666666666,\"#ed7953\"],[0.7777777777777778,\"#fb9f3a\"],[0.8888888888888888,\"#fdca26\"],[1.0,\"#f0f921\"]],\"diverging\":[[0,\"#8e0152\"],[0.1,\"#c51b7d\"],[0.2,\"#de77ae\"],[0.3,\"#f1b6da\"],[0.4,\"#fde0ef\"],[0.5,\"#f7f7f7\"],[0.6,\"#e6f5d0\"],[0.7,\"#b8e186\"],[0.8,\"#7fbc41\"],[0.9,\"#4d9221\"],[1,\"#276419\"]]},\"xaxis\":{\"gridcolor\":\"white\",\"linecolor\":\"white\",\"ticks\":\"\",\"title\":{\"standoff\":15},\"zerolinecolor\":\"white\",\"automargin\":true,\"zerolinewidth\":2},\"yaxis\":{\"gridcolor\":\"white\",\"linecolor\":\"white\",\"ticks\":\"\",\"title\":{\"standoff\":15},\"zerolinecolor\":\"white\",\"automargin\":true,\"zerolinewidth\":2},\"scene\":{\"xaxis\":{\"backgroundcolor\":\"#E5ECF6\",\"gridcolor\":\"white\",\"linecolor\":\"white\",\"showbackground\":true,\"ticks\":\"\",\"zerolinecolor\":\"white\",\"gridwidth\":2},\"yaxis\":{\"backgroundcolor\":\"#E5ECF6\",\"gridcolor\":\"white\",\"linecolor\":\"white\",\"showbackground\":true,\"ticks\":\"\",\"zerolinecolor\":\"white\",\"gridwidth\":2},\"zaxis\":{\"backgroundcolor\":\"#E5ECF6\",\"gridcolor\":\"white\",\"linecolor\":\"white\",\"showbackground\":true,\"ticks\":\"\",\"zerolinecolor\":\"white\",\"gridwidth\":2}},\"shapedefaults\":{\"line\":{\"color\":\"#2a3f5f\"}},\"annotationdefaults\":{\"arrowcolor\":\"#2a3f5f\",\"arrowhead\":0,\"arrowwidth\":1},\"geo\":{\"bgcolor\":\"white\",\"landcolor\":\"#E5ECF6\",\"subunitcolor\":\"white\",\"showland\":true,\"showlakes\":true,\"lakecolor\":\"white\"},\"title\":{\"x\":0.05},\"mapbox\":{\"style\":\"light\"}}},\"xaxis\":{\"anchor\":\"y\",\"domain\":[0.0,1.0],\"title\":{\"text\":\"feature importance (permutation)\"}},\"yaxis\":{\"anchor\":\"x\",\"domain\":[0.0,1.0],\"title\":{\"text\":\"\"},\"categoryorder\":\"total ascending\",\"tickfont\":{\"color\":\"black\",\"family\":\"Arial, sans-serif\",\"size\":14}},\"legend\":{\"tracegroupgap\":0},\"margin\":{\"t\":60},\"barmode\":\"relative\",\"showlegend\":false,\"height\":500,\"width\":1000,\"title\":{\"text\":\"Dose 3 positive\",\"xanchor\":\"left\",\"x\":0.5},\"paper_bgcolor\":\"rgb(222,222,222)\",\"coloraxis\":{\"showscale\":false}},                        {\"responsive\": true}                    ).then(function(){\n",
       "                            \n",
       "var gd = document.getElementById('b5e4ab8c-661d-4cf6-b9aa-28b514c6a45d');\n",
       "var x = new MutationObserver(function (mutations, observer) {{\n",
       "        var display = window.getComputedStyle(gd).display;\n",
       "        if (!display || display === 'none') {{\n",
       "            console.log([gd, 'removed!']);\n",
       "            Plotly.purge(gd);\n",
       "            observer.disconnect();\n",
       "        }}\n",
       "}});\n",
       "\n",
       "// Listen for the removal of the full notebook cells\n",
       "var notebookContainer = gd.closest('#notebook-container');\n",
       "if (notebookContainer) {{\n",
       "    x.observe(notebookContainer, {childList: true});\n",
       "}}\n",
       "\n",
       "// Listen for the clearing of the current output cell\n",
       "var outputEl = gd.closest('.output');\n",
       "if (outputEl) {{\n",
       "    x.observe(outputEl, {childList: true});\n",
       "}}\n",
       "\n",
       "                        })                };                });            </script>        </div>"
      ]
     },
     "metadata": {},
     "output_type": "display_data"
    }
   ],
   "source": [
    "df = data[\"SVM_RFE_d3_p\"][\"df\"]\n",
    "df = df.loc[df[\"var\"]!=\"age\",:]\n",
    "df = df.loc[df[\"var\"]!=\"tx_time\",:]\n",
    "df = df.loc[df[\"var\"]!=\"type\",:]\n",
    "df = df.sort_values(by=\"impor_mean\",ascending=False)\n",
    "fig1 = px.bar(df.iloc[:40,:], x=\"impor_mean\", y=\"var\",orientation='h',labels={\"impor_mean\": \"feature importance (permutation)\",\"var\": \"\"})\n",
    "fig1.update_layout(showlegend=False,height = 500,yaxis={'categoryorder':'total ascending'},width = 1000,title = \"Dose 3 positive\")\n",
    "fig1.layout.title.xanchor = 'left'\n",
    "fig1.layout.title.x = 0.5\n",
    "fig1.update_traces(marker_color='rgba( 128,41, 185, 1.0)')\n",
    "fig1.layout.yaxis.tickfont = dict(size =14, color='black', family='Arial, sans-serif')\n",
    "fig1.layout.paper_bgcolor = 'rgb(222,222,222)'\n",
    "fig1.update(layout_coloraxis_showscale=False)\n",
    "#fig1.update_yaxes(ticklabelposition=\"inside top\", title=None)\n",
    "fig1.write_image(\"fig_ml_B.svg\")\n",
    "fig1"
   ]
  },
  {
   "cell_type": "markdown",
   "id": "5db63a04-da91-47d0-b57d-994672056475",
   "metadata": {},
   "source": [
    "### ROC ML"
   ]
  },
  {
   "cell_type": "code",
   "execution_count": 27,
   "id": "a142d8c1-cea0-4a55-8e05-581dfe7955c3",
   "metadata": {},
   "outputs": [],
   "source": [
    "fold = os.getcwd()\n",
    "file = open(fold + \"/data_aux/feature_eval.pkl\",\"rb\")\n",
    "data = pk.load(file)\n",
    "file.close()"
   ]
  },
  {
   "cell_type": "code",
   "execution_count": 28,
   "id": "c2ac59bc-c6dc-4c8a-b665-af97633227ba",
   "metadata": {},
   "outputs": [
    {
     "data": {
      "application/vnd.plotly.v1+json": {
       "config": {
        "plotlyServerURL": "https://plot.ly"
       },
       "data": [
        {
         "hoverinfo": "skip",
         "line": {
          "color": "rgba(52, 152, 219, 0.5)",
          "width": 1
         },
         "name": "SD",
         "showlegend": true,
         "type": "scatter",
         "x": [
          0,
          0.010101010101010102,
          0.020202020202020204,
          0.030303030303030304,
          0.04040404040404041,
          0.05050505050505051,
          0.06060606060606061,
          0.07070707070707072,
          0.08080808080808081,
          0.09090909090909091,
          0.10101010101010102,
          0.11111111111111112,
          0.12121212121212122,
          0.13131313131313133,
          0.14141414141414144,
          0.15151515151515152,
          0.16161616161616163,
          0.17171717171717174,
          0.18181818181818182,
          0.19191919191919193,
          0.20202020202020204,
          0.21212121212121213,
          0.22222222222222224,
          0.23232323232323235,
          0.24242424242424243,
          0.25252525252525254,
          0.26262626262626265,
          0.27272727272727276,
          0.2828282828282829,
          0.29292929292929293,
          0.30303030303030304,
          0.31313131313131315,
          0.32323232323232326,
          0.33333333333333337,
          0.3434343434343435,
          0.3535353535353536,
          0.36363636363636365,
          0.37373737373737376,
          0.38383838383838387,
          0.393939393939394,
          0.4040404040404041,
          0.4141414141414142,
          0.42424242424242425,
          0.43434343434343436,
          0.4444444444444445,
          0.4545454545454546,
          0.4646464646464647,
          0.4747474747474748,
          0.48484848484848486,
          0.494949494949495,
          0.5050505050505051,
          0.5151515151515152,
          0.5252525252525253,
          0.5353535353535354,
          0.5454545454545455,
          0.5555555555555556,
          0.5656565656565657,
          0.5757575757575758,
          0.5858585858585859,
          0.595959595959596,
          0.6060606060606061,
          0.6161616161616162,
          0.6262626262626263,
          0.6363636363636365,
          0.6464646464646465,
          0.6565656565656566,
          0.6666666666666667,
          0.6767676767676768,
          0.686868686868687,
          0.696969696969697,
          0.7070707070707072,
          0.7171717171717172,
          0.7272727272727273,
          0.7373737373737375,
          0.7474747474747475,
          0.7575757575757577,
          0.7676767676767677,
          0.7777777777777778,
          0.787878787878788,
          0.797979797979798,
          0.8080808080808082,
          0.8181818181818182,
          0.8282828282828284,
          0.8383838383838385,
          0.8484848484848485,
          0.8585858585858587,
          0.8686868686868687,
          0.8787878787878789,
          0.888888888888889,
          0.8989898989898991,
          0.9090909090909092,
          0.9191919191919192,
          0.9292929292929294,
          0.9393939393939394,
          0.9494949494949496,
          0.9595959595959597,
          0.9696969696969697,
          0.9797979797979799,
          0.98989898989899,
          1
         ],
         "y": [
          0,
          1,
          1,
          1,
          1,
          1,
          1,
          1,
          1,
          1,
          1,
          1,
          1,
          1,
          1,
          1,
          1,
          1,
          1,
          1,
          1,
          1,
          1,
          1,
          1,
          1,
          1,
          1,
          1,
          1,
          1,
          1,
          1,
          1,
          1,
          1,
          1,
          1,
          1,
          1,
          1,
          1,
          1,
          1,
          1,
          1,
          1,
          1,
          1,
          1,
          1,
          1,
          1,
          1,
          1,
          1,
          1,
          1,
          1,
          1,
          1,
          1,
          1,
          1,
          1,
          1,
          1,
          1,
          1,
          1,
          1,
          1,
          1,
          1,
          1,
          1,
          1,
          1,
          1,
          1,
          1,
          1,
          1,
          1,
          1,
          1,
          1,
          1,
          1,
          1,
          1,
          1,
          1,
          1,
          1,
          1,
          1,
          1,
          1,
          1
         ]
        },
        {
         "fill": "tonexty",
         "fillcolor": "rgba(52, 152, 219, 0.2)",
         "hoverinfo": "skip",
         "line": {
          "color": "rgba(52, 152, 219, 0.5)",
          "width": 1
         },
         "name": "lower",
         "showlegend": false,
         "type": "scatter",
         "x": [
          0,
          0.010101010101010102,
          0.020202020202020204,
          0.030303030303030304,
          0.04040404040404041,
          0.05050505050505051,
          0.06060606060606061,
          0.07070707070707072,
          0.08080808080808081,
          0.09090909090909091,
          0.10101010101010102,
          0.11111111111111112,
          0.12121212121212122,
          0.13131313131313133,
          0.14141414141414144,
          0.15151515151515152,
          0.16161616161616163,
          0.17171717171717174,
          0.18181818181818182,
          0.19191919191919193,
          0.20202020202020204,
          0.21212121212121213,
          0.22222222222222224,
          0.23232323232323235,
          0.24242424242424243,
          0.25252525252525254,
          0.26262626262626265,
          0.27272727272727276,
          0.2828282828282829,
          0.29292929292929293,
          0.30303030303030304,
          0.31313131313131315,
          0.32323232323232326,
          0.33333333333333337,
          0.3434343434343435,
          0.3535353535353536,
          0.36363636363636365,
          0.37373737373737376,
          0.38383838383838387,
          0.393939393939394,
          0.4040404040404041,
          0.4141414141414142,
          0.42424242424242425,
          0.43434343434343436,
          0.4444444444444445,
          0.4545454545454546,
          0.4646464646464647,
          0.4747474747474748,
          0.48484848484848486,
          0.494949494949495,
          0.5050505050505051,
          0.5151515151515152,
          0.5252525252525253,
          0.5353535353535354,
          0.5454545454545455,
          0.5555555555555556,
          0.5656565656565657,
          0.5757575757575758,
          0.5858585858585859,
          0.595959595959596,
          0.6060606060606061,
          0.6161616161616162,
          0.6262626262626263,
          0.6363636363636365,
          0.6464646464646465,
          0.6565656565656566,
          0.6666666666666667,
          0.6767676767676768,
          0.686868686868687,
          0.696969696969697,
          0.7070707070707072,
          0.7171717171717172,
          0.7272727272727273,
          0.7373737373737375,
          0.7474747474747475,
          0.7575757575757577,
          0.7676767676767677,
          0.7777777777777778,
          0.787878787878788,
          0.797979797979798,
          0.8080808080808082,
          0.8181818181818182,
          0.8282828282828284,
          0.8383838383838385,
          0.8484848484848485,
          0.8585858585858587,
          0.8686868686868687,
          0.8787878787878789,
          0.888888888888889,
          0.8989898989898991,
          0.9090909090909092,
          0.9191919191919192,
          0.9292929292929294,
          0.9393939393939394,
          0.9494949494949496,
          0.9595959595959597,
          0.9696969696969697,
          0.9797979797979799,
          0.98989898989899,
          1
         ],
         "y": [
          0,
          0.587975622444535,
          0.587975622444535,
          0.587975622444535,
          0.587975622444535,
          0.587975622444535,
          0.587975622444535,
          0.587975622444535,
          0.587975622444535,
          0.587975622444535,
          0.587975622444535,
          0.587975622444535,
          0.587975622444535,
          0.587975622444535,
          0.587975622444535,
          0.587975622444535,
          0.587975622444535,
          0.587975622444535,
          0.587975622444535,
          0.587975622444535,
          0.7026839553457821,
          0.7026839553457821,
          0.7026839553457821,
          0.7026839553457821,
          0.7026839553457821,
          0.7333333333333332,
          0.7333333333333332,
          0.7333333333333332,
          0.7333333333333332,
          0.7333333333333332,
          0.7333333333333332,
          0.7333333333333332,
          0.7333333333333332,
          0.7333333333333332,
          0.7333333333333332,
          0.7333333333333332,
          0.7333333333333332,
          0.7333333333333332,
          0.7333333333333332,
          0.7333333333333332,
          1,
          1,
          1,
          1,
          1,
          1,
          1,
          1,
          1,
          1,
          1,
          1,
          1,
          1,
          1,
          1,
          1,
          1,
          1,
          1,
          1,
          1,
          1,
          1,
          1,
          1,
          1,
          1,
          1,
          1,
          1,
          1,
          1,
          1,
          1,
          1,
          1,
          1,
          1,
          1,
          1,
          1,
          1,
          1,
          1,
          1,
          1,
          1,
          1,
          1,
          1,
          1,
          1,
          1,
          1,
          1,
          1,
          1,
          1,
          1
         ]
        },
        {
         "hoverinfo": "skip",
         "line": {
          "color": "rgba(41, 128, 185, 1.0)",
          "width": 2
         },
         "name": "AUC: 0.950",
         "showlegend": true,
         "type": "scatter",
         "x": [
          0,
          0.010101010101010102,
          0.020202020202020204,
          0.030303030303030304,
          0.04040404040404041,
          0.05050505050505051,
          0.06060606060606061,
          0.07070707070707072,
          0.08080808080808081,
          0.09090909090909091,
          0.10101010101010102,
          0.11111111111111112,
          0.12121212121212122,
          0.13131313131313133,
          0.14141414141414144,
          0.15151515151515152,
          0.16161616161616163,
          0.17171717171717174,
          0.18181818181818182,
          0.19191919191919193,
          0.20202020202020204,
          0.21212121212121213,
          0.22222222222222224,
          0.23232323232323235,
          0.24242424242424243,
          0.25252525252525254,
          0.26262626262626265,
          0.27272727272727276,
          0.2828282828282829,
          0.29292929292929293,
          0.30303030303030304,
          0.31313131313131315,
          0.32323232323232326,
          0.33333333333333337,
          0.3434343434343435,
          0.3535353535353536,
          0.36363636363636365,
          0.37373737373737376,
          0.38383838383838387,
          0.393939393939394,
          0.4040404040404041,
          0.4141414141414142,
          0.42424242424242425,
          0.43434343434343436,
          0.4444444444444445,
          0.4545454545454546,
          0.4646464646464647,
          0.4747474747474748,
          0.48484848484848486,
          0.494949494949495,
          0.5050505050505051,
          0.5151515151515152,
          0.5252525252525253,
          0.5353535353535354,
          0.5454545454545455,
          0.5555555555555556,
          0.5656565656565657,
          0.5757575757575758,
          0.5858585858585859,
          0.595959595959596,
          0.6060606060606061,
          0.6161616161616162,
          0.6262626262626263,
          0.6363636363636365,
          0.6464646464646465,
          0.6565656565656566,
          0.6666666666666667,
          0.6767676767676768,
          0.686868686868687,
          0.696969696969697,
          0.7070707070707072,
          0.7171717171717172,
          0.7272727272727273,
          0.7373737373737375,
          0.7474747474747475,
          0.7575757575757577,
          0.7676767676767677,
          0.7777777777777778,
          0.787878787878788,
          0.797979797979798,
          0.8080808080808082,
          0.8181818181818182,
          0.8282828282828284,
          0.8383838383838385,
          0.8484848484848485,
          0.8585858585858587,
          0.8686868686868687,
          0.8787878787878789,
          0.888888888888889,
          0.8989898989898991,
          0.9090909090909092,
          0.9191919191919192,
          0.9292929292929294,
          0.9393939393939394,
          0.9494949494949496,
          0.9595959595959597,
          0.9696969696969697,
          0.9797979797979799,
          0.98989898989899,
          1
         ],
         "y": [
          0,
          0.825,
          0.825,
          0.825,
          0.825,
          0.825,
          0.825,
          0.825,
          0.825,
          0.825,
          0.825,
          0.825,
          0.825,
          0.825,
          0.825,
          0.825,
          0.825,
          0.825,
          0.825,
          0.825,
          0.9083333333333332,
          0.9083333333333332,
          0.9083333333333332,
          0.9083333333333332,
          0.9083333333333332,
          0.9333333333333332,
          0.9333333333333332,
          0.9333333333333332,
          0.9333333333333332,
          0.9333333333333332,
          0.9333333333333332,
          0.9333333333333332,
          0.9333333333333332,
          0.9333333333333332,
          0.9333333333333332,
          0.9333333333333332,
          0.9333333333333332,
          0.9333333333333332,
          0.9333333333333332,
          0.9333333333333332,
          1,
          1,
          1,
          1,
          1,
          1,
          1,
          1,
          1,
          1,
          1,
          1,
          1,
          1,
          1,
          1,
          1,
          1,
          1,
          1,
          1,
          1,
          1,
          1,
          1,
          1,
          1,
          1,
          1,
          1,
          1,
          1,
          1,
          1,
          1,
          1,
          1,
          1,
          1,
          1,
          1,
          1,
          1,
          1,
          1,
          1,
          1,
          1,
          1,
          1,
          1,
          1,
          1,
          1,
          1,
          1,
          1,
          1,
          1,
          1
         ]
        }
       ],
       "layout": {
        "height": 500,
        "legend": {
         "x": 0.95,
         "xanchor": "right",
         "y": 0.01,
         "yanchor": "bottom"
        },
        "shapes": [
         {
          "line": {
           "dash": "dash"
          },
          "type": "line",
          "x0": 0,
          "x1": 1,
          "y0": 0,
          "y1": 1
         }
        ],
        "template": {
         "data": {
          "bar": [
           {
            "error_x": {
             "color": "#2a3f5f"
            },
            "error_y": {
             "color": "#2a3f5f"
            },
            "marker": {
             "line": {
              "color": "white",
              "width": 0.5
             },
             "pattern": {
              "fillmode": "overlay",
              "size": 10,
              "solidity": 0.2
             }
            },
            "type": "bar"
           }
          ],
          "barpolar": [
           {
            "marker": {
             "line": {
              "color": "white",
              "width": 0.5
             },
             "pattern": {
              "fillmode": "overlay",
              "size": 10,
              "solidity": 0.2
             }
            },
            "type": "barpolar"
           }
          ],
          "carpet": [
           {
            "aaxis": {
             "endlinecolor": "#2a3f5f",
             "gridcolor": "#C8D4E3",
             "linecolor": "#C8D4E3",
             "minorgridcolor": "#C8D4E3",
             "startlinecolor": "#2a3f5f"
            },
            "baxis": {
             "endlinecolor": "#2a3f5f",
             "gridcolor": "#C8D4E3",
             "linecolor": "#C8D4E3",
             "minorgridcolor": "#C8D4E3",
             "startlinecolor": "#2a3f5f"
            },
            "type": "carpet"
           }
          ],
          "choropleth": [
           {
            "colorbar": {
             "outlinewidth": 0,
             "ticks": ""
            },
            "type": "choropleth"
           }
          ],
          "contour": [
           {
            "colorbar": {
             "outlinewidth": 0,
             "ticks": ""
            },
            "colorscale": [
             [
              0,
              "#0d0887"
             ],
             [
              0.1111111111111111,
              "#46039f"
             ],
             [
              0.2222222222222222,
              "#7201a8"
             ],
             [
              0.3333333333333333,
              "#9c179e"
             ],
             [
              0.4444444444444444,
              "#bd3786"
             ],
             [
              0.5555555555555556,
              "#d8576b"
             ],
             [
              0.6666666666666666,
              "#ed7953"
             ],
             [
              0.7777777777777778,
              "#fb9f3a"
             ],
             [
              0.8888888888888888,
              "#fdca26"
             ],
             [
              1,
              "#f0f921"
             ]
            ],
            "type": "contour"
           }
          ],
          "contourcarpet": [
           {
            "colorbar": {
             "outlinewidth": 0,
             "ticks": ""
            },
            "type": "contourcarpet"
           }
          ],
          "heatmap": [
           {
            "colorbar": {
             "outlinewidth": 0,
             "ticks": ""
            },
            "colorscale": [
             [
              0,
              "#0d0887"
             ],
             [
              0.1111111111111111,
              "#46039f"
             ],
             [
              0.2222222222222222,
              "#7201a8"
             ],
             [
              0.3333333333333333,
              "#9c179e"
             ],
             [
              0.4444444444444444,
              "#bd3786"
             ],
             [
              0.5555555555555556,
              "#d8576b"
             ],
             [
              0.6666666666666666,
              "#ed7953"
             ],
             [
              0.7777777777777778,
              "#fb9f3a"
             ],
             [
              0.8888888888888888,
              "#fdca26"
             ],
             [
              1,
              "#f0f921"
             ]
            ],
            "type": "heatmap"
           }
          ],
          "heatmapgl": [
           {
            "colorbar": {
             "outlinewidth": 0,
             "ticks": ""
            },
            "colorscale": [
             [
              0,
              "#0d0887"
             ],
             [
              0.1111111111111111,
              "#46039f"
             ],
             [
              0.2222222222222222,
              "#7201a8"
             ],
             [
              0.3333333333333333,
              "#9c179e"
             ],
             [
              0.4444444444444444,
              "#bd3786"
             ],
             [
              0.5555555555555556,
              "#d8576b"
             ],
             [
              0.6666666666666666,
              "#ed7953"
             ],
             [
              0.7777777777777778,
              "#fb9f3a"
             ],
             [
              0.8888888888888888,
              "#fdca26"
             ],
             [
              1,
              "#f0f921"
             ]
            ],
            "type": "heatmapgl"
           }
          ],
          "histogram": [
           {
            "marker": {
             "pattern": {
              "fillmode": "overlay",
              "size": 10,
              "solidity": 0.2
             }
            },
            "type": "histogram"
           }
          ],
          "histogram2d": [
           {
            "colorbar": {
             "outlinewidth": 0,
             "ticks": ""
            },
            "colorscale": [
             [
              0,
              "#0d0887"
             ],
             [
              0.1111111111111111,
              "#46039f"
             ],
             [
              0.2222222222222222,
              "#7201a8"
             ],
             [
              0.3333333333333333,
              "#9c179e"
             ],
             [
              0.4444444444444444,
              "#bd3786"
             ],
             [
              0.5555555555555556,
              "#d8576b"
             ],
             [
              0.6666666666666666,
              "#ed7953"
             ],
             [
              0.7777777777777778,
              "#fb9f3a"
             ],
             [
              0.8888888888888888,
              "#fdca26"
             ],
             [
              1,
              "#f0f921"
             ]
            ],
            "type": "histogram2d"
           }
          ],
          "histogram2dcontour": [
           {
            "colorbar": {
             "outlinewidth": 0,
             "ticks": ""
            },
            "colorscale": [
             [
              0,
              "#0d0887"
             ],
             [
              0.1111111111111111,
              "#46039f"
             ],
             [
              0.2222222222222222,
              "#7201a8"
             ],
             [
              0.3333333333333333,
              "#9c179e"
             ],
             [
              0.4444444444444444,
              "#bd3786"
             ],
             [
              0.5555555555555556,
              "#d8576b"
             ],
             [
              0.6666666666666666,
              "#ed7953"
             ],
             [
              0.7777777777777778,
              "#fb9f3a"
             ],
             [
              0.8888888888888888,
              "#fdca26"
             ],
             [
              1,
              "#f0f921"
             ]
            ],
            "type": "histogram2dcontour"
           }
          ],
          "mesh3d": [
           {
            "colorbar": {
             "outlinewidth": 0,
             "ticks": ""
            },
            "type": "mesh3d"
           }
          ],
          "parcoords": [
           {
            "line": {
             "colorbar": {
              "outlinewidth": 0,
              "ticks": ""
             }
            },
            "type": "parcoords"
           }
          ],
          "pie": [
           {
            "automargin": true,
            "type": "pie"
           }
          ],
          "scatter": [
           {
            "fillpattern": {
             "fillmode": "overlay",
             "size": 10,
             "solidity": 0.2
            },
            "type": "scatter"
           }
          ],
          "scatter3d": [
           {
            "line": {
             "colorbar": {
              "outlinewidth": 0,
              "ticks": ""
             }
            },
            "marker": {
             "colorbar": {
              "outlinewidth": 0,
              "ticks": ""
             }
            },
            "type": "scatter3d"
           }
          ],
          "scattercarpet": [
           {
            "marker": {
             "colorbar": {
              "outlinewidth": 0,
              "ticks": ""
             }
            },
            "type": "scattercarpet"
           }
          ],
          "scattergeo": [
           {
            "marker": {
             "colorbar": {
              "outlinewidth": 0,
              "ticks": ""
             }
            },
            "type": "scattergeo"
           }
          ],
          "scattergl": [
           {
            "marker": {
             "colorbar": {
              "outlinewidth": 0,
              "ticks": ""
             }
            },
            "type": "scattergl"
           }
          ],
          "scattermapbox": [
           {
            "marker": {
             "colorbar": {
              "outlinewidth": 0,
              "ticks": ""
             }
            },
            "type": "scattermapbox"
           }
          ],
          "scatterpolar": [
           {
            "marker": {
             "colorbar": {
              "outlinewidth": 0,
              "ticks": ""
             }
            },
            "type": "scatterpolar"
           }
          ],
          "scatterpolargl": [
           {
            "marker": {
             "colorbar": {
              "outlinewidth": 0,
              "ticks": ""
             }
            },
            "type": "scatterpolargl"
           }
          ],
          "scatterternary": [
           {
            "marker": {
             "colorbar": {
              "outlinewidth": 0,
              "ticks": ""
             }
            },
            "type": "scatterternary"
           }
          ],
          "surface": [
           {
            "colorbar": {
             "outlinewidth": 0,
             "ticks": ""
            },
            "colorscale": [
             [
              0,
              "#0d0887"
             ],
             [
              0.1111111111111111,
              "#46039f"
             ],
             [
              0.2222222222222222,
              "#7201a8"
             ],
             [
              0.3333333333333333,
              "#9c179e"
             ],
             [
              0.4444444444444444,
              "#bd3786"
             ],
             [
              0.5555555555555556,
              "#d8576b"
             ],
             [
              0.6666666666666666,
              "#ed7953"
             ],
             [
              0.7777777777777778,
              "#fb9f3a"
             ],
             [
              0.8888888888888888,
              "#fdca26"
             ],
             [
              1,
              "#f0f921"
             ]
            ],
            "type": "surface"
           }
          ],
          "table": [
           {
            "cells": {
             "fill": {
              "color": "#EBF0F8"
             },
             "line": {
              "color": "white"
             }
            },
            "header": {
             "fill": {
              "color": "#C8D4E3"
             },
             "line": {
              "color": "white"
             }
            },
            "type": "table"
           }
          ]
         },
         "layout": {
          "annotationdefaults": {
           "arrowcolor": "#2a3f5f",
           "arrowhead": 0,
           "arrowwidth": 1
          },
          "autotypenumbers": "strict",
          "coloraxis": {
           "colorbar": {
            "outlinewidth": 0,
            "ticks": ""
           }
          },
          "colorscale": {
           "diverging": [
            [
             0,
             "#8e0152"
            ],
            [
             0.1,
             "#c51b7d"
            ],
            [
             0.2,
             "#de77ae"
            ],
            [
             0.3,
             "#f1b6da"
            ],
            [
             0.4,
             "#fde0ef"
            ],
            [
             0.5,
             "#f7f7f7"
            ],
            [
             0.6,
             "#e6f5d0"
            ],
            [
             0.7,
             "#b8e186"
            ],
            [
             0.8,
             "#7fbc41"
            ],
            [
             0.9,
             "#4d9221"
            ],
            [
             1,
             "#276419"
            ]
           ],
           "sequential": [
            [
             0,
             "#0d0887"
            ],
            [
             0.1111111111111111,
             "#46039f"
            ],
            [
             0.2222222222222222,
             "#7201a8"
            ],
            [
             0.3333333333333333,
             "#9c179e"
            ],
            [
             0.4444444444444444,
             "#bd3786"
            ],
            [
             0.5555555555555556,
             "#d8576b"
            ],
            [
             0.6666666666666666,
             "#ed7953"
            ],
            [
             0.7777777777777778,
             "#fb9f3a"
            ],
            [
             0.8888888888888888,
             "#fdca26"
            ],
            [
             1,
             "#f0f921"
            ]
           ],
           "sequentialminus": [
            [
             0,
             "#0d0887"
            ],
            [
             0.1111111111111111,
             "#46039f"
            ],
            [
             0.2222222222222222,
             "#7201a8"
            ],
            [
             0.3333333333333333,
             "#9c179e"
            ],
            [
             0.4444444444444444,
             "#bd3786"
            ],
            [
             0.5555555555555556,
             "#d8576b"
            ],
            [
             0.6666666666666666,
             "#ed7953"
            ],
            [
             0.7777777777777778,
             "#fb9f3a"
            ],
            [
             0.8888888888888888,
             "#fdca26"
            ],
            [
             1,
             "#f0f921"
            ]
           ]
          },
          "colorway": [
           "#636efa",
           "#EF553B",
           "#00cc96",
           "#ab63fa",
           "#FFA15A",
           "#19d3f3",
           "#FF6692",
           "#B6E880",
           "#FF97FF",
           "#FECB52"
          ],
          "font": {
           "color": "#2a3f5f"
          },
          "geo": {
           "bgcolor": "white",
           "lakecolor": "white",
           "landcolor": "white",
           "showlakes": true,
           "showland": true,
           "subunitcolor": "#C8D4E3"
          },
          "hoverlabel": {
           "align": "left"
          },
          "hovermode": "closest",
          "mapbox": {
           "style": "light"
          },
          "paper_bgcolor": "white",
          "plot_bgcolor": "white",
          "polar": {
           "angularaxis": {
            "gridcolor": "#EBF0F8",
            "linecolor": "#EBF0F8",
            "ticks": ""
           },
           "bgcolor": "white",
           "radialaxis": {
            "gridcolor": "#EBF0F8",
            "linecolor": "#EBF0F8",
            "ticks": ""
           }
          },
          "scene": {
           "xaxis": {
            "backgroundcolor": "white",
            "gridcolor": "#DFE8F3",
            "gridwidth": 2,
            "linecolor": "#EBF0F8",
            "showbackground": true,
            "ticks": "",
            "zerolinecolor": "#EBF0F8"
           },
           "yaxis": {
            "backgroundcolor": "white",
            "gridcolor": "#DFE8F3",
            "gridwidth": 2,
            "linecolor": "#EBF0F8",
            "showbackground": true,
            "ticks": "",
            "zerolinecolor": "#EBF0F8"
           },
           "zaxis": {
            "backgroundcolor": "white",
            "gridcolor": "#DFE8F3",
            "gridwidth": 2,
            "linecolor": "#EBF0F8",
            "showbackground": true,
            "ticks": "",
            "zerolinecolor": "#EBF0F8"
           }
          },
          "shapedefaults": {
           "line": {
            "color": "#2a3f5f"
           }
          },
          "ternary": {
           "aaxis": {
            "gridcolor": "#DFE8F3",
            "linecolor": "#A2B1C6",
            "ticks": ""
           },
           "baxis": {
            "gridcolor": "#DFE8F3",
            "linecolor": "#A2B1C6",
            "ticks": ""
           },
           "bgcolor": "white",
           "caxis": {
            "gridcolor": "#DFE8F3",
            "linecolor": "#A2B1C6",
            "ticks": ""
           }
          },
          "title": {
           "x": 0.05
          },
          "xaxis": {
           "automargin": true,
           "gridcolor": "#EBF0F8",
           "linecolor": "#EBF0F8",
           "ticks": "",
           "title": {
            "standoff": 15
           },
           "zerolinecolor": "#EBF0F8",
           "zerolinewidth": 2
          },
          "yaxis": {
           "automargin": true,
           "gridcolor": "#EBF0F8",
           "linecolor": "#EBF0F8",
           "ticks": "",
           "title": {
            "standoff": 15
           },
           "zerolinecolor": "#EBF0F8",
           "zerolinewidth": 2
          }
         }
        },
        "title": {
         "text": "Dose 2 detectable"
        },
        "width": 500,
        "xaxis": {
         "constrain": "domain",
         "domain": [
          0.02941176470588236,
          0.9705882352941176
         ],
         "linecolor": "black",
         "range": [
          0,
          1
         ],
         "title": {
          "text": "False Positive Rate"
         },
         "type": "linear"
        },
        "yaxis": {
         "domain": [
          0,
          1
         ],
         "linecolor": "black",
         "range": [
          0,
          1
         ],
         "scaleanchor": "x",
         "scaleratio": 1,
         "title": {
          "text": "True Positive Rate"
         },
         "type": "linear"
        }
       }
      },
      "image/png": "[encoded data removed]",
      "text/html": [
       "<div>                            <div id=\"a6f6b4a0-bfc9-445e-9638-c1b110112354\" class=\"plotly-graph-div\" style=\"height:500px; width:500px;\"></div>            <script type=\"text/javascript\">                require([\"plotly\"], function(Plotly) {                    window.PLOTLYENV=window.PLOTLYENV || {};                                    if (document.getElementById(\"a6f6b4a0-bfc9-445e-9638-c1b110112354\")) {                    Plotly.newPlot(                        \"a6f6b4a0-bfc9-445e-9638-c1b110112354\",                        [{\"hoverinfo\":\"skip\",\"line\":{\"color\":\"rgba(52, 152, 219, 0.5)\",\"width\":1},\"name\":\"SD\",\"showlegend\":true,\"x\":[0.0,0.010101010101010102,0.020202020202020204,0.030303030303030304,0.04040404040404041,0.05050505050505051,0.06060606060606061,0.07070707070707072,0.08080808080808081,0.09090909090909091,0.10101010101010102,0.11111111111111112,0.12121212121212122,0.13131313131313133,0.14141414141414144,0.15151515151515152,0.16161616161616163,0.17171717171717174,0.18181818181818182,0.19191919191919193,0.20202020202020204,0.21212121212121213,0.22222222222222224,0.23232323232323235,0.24242424242424243,0.25252525252525254,0.26262626262626265,0.27272727272727276,0.2828282828282829,0.29292929292929293,0.30303030303030304,0.31313131313131315,0.32323232323232326,0.33333333333333337,0.3434343434343435,0.3535353535353536,0.36363636363636365,0.37373737373737376,0.38383838383838387,0.393939393939394,0.4040404040404041,0.4141414141414142,0.42424242424242425,0.43434343434343436,0.4444444444444445,0.4545454545454546,0.4646464646464647,0.4747474747474748,0.48484848484848486,0.494949494949495,0.5050505050505051,0.5151515151515152,0.5252525252525253,0.5353535353535354,0.5454545454545455,0.5555555555555556,0.5656565656565657,0.5757575757575758,0.5858585858585859,0.595959595959596,0.6060606060606061,0.6161616161616162,0.6262626262626263,0.6363636363636365,0.6464646464646465,0.6565656565656566,0.6666666666666667,0.6767676767676768,0.686868686868687,0.696969696969697,0.7070707070707072,0.7171717171717172,0.7272727272727273,0.7373737373737375,0.7474747474747475,0.7575757575757577,0.7676767676767677,0.7777777777777778,0.787878787878788,0.797979797979798,0.8080808080808082,0.8181818181818182,0.8282828282828284,0.8383838383838385,0.8484848484848485,0.8585858585858587,0.8686868686868687,0.8787878787878789,0.888888888888889,0.8989898989898991,0.9090909090909092,0.9191919191919192,0.9292929292929294,0.9393939393939394,0.9494949494949496,0.9595959595959597,0.9696969696969697,0.9797979797979799,0.98989898989899,1.0],\"y\":[0.0,1.0,1.0,1.0,1.0,1.0,1.0,1.0,1.0,1.0,1.0,1.0,1.0,1.0,1.0,1.0,1.0,1.0,1.0,1.0,1.0,1.0,1.0,1.0,1.0,1.0,1.0,1.0,1.0,1.0,1.0,1.0,1.0,1.0,1.0,1.0,1.0,1.0,1.0,1.0,1.0,1.0,1.0,1.0,1.0,1.0,1.0,1.0,1.0,1.0,1.0,1.0,1.0,1.0,1.0,1.0,1.0,1.0,1.0,1.0,1.0,1.0,1.0,1.0,1.0,1.0,1.0,1.0,1.0,1.0,1.0,1.0,1.0,1.0,1.0,1.0,1.0,1.0,1.0,1.0,1.0,1.0,1.0,1.0,1.0,1.0,1.0,1.0,1.0,1.0,1.0,1.0,1.0,1.0,1.0,1.0,1.0,1.0,1.0,1.0],\"type\":\"scatter\"},{\"fill\":\"tonexty\",\"fillcolor\":\"rgba(52, 152, 219, 0.2)\",\"hoverinfo\":\"skip\",\"line\":{\"color\":\"rgba(52, 152, 219, 0.5)\",\"width\":1},\"name\":\"lower\",\"showlegend\":false,\"x\":[0.0,0.010101010101010102,0.020202020202020204,0.030303030303030304,0.04040404040404041,0.05050505050505051,0.06060606060606061,0.07070707070707072,0.08080808080808081,0.09090909090909091,0.10101010101010102,0.11111111111111112,0.12121212121212122,0.13131313131313133,0.14141414141414144,0.15151515151515152,0.16161616161616163,0.17171717171717174,0.18181818181818182,0.19191919191919193,0.20202020202020204,0.21212121212121213,0.22222222222222224,0.23232323232323235,0.24242424242424243,0.25252525252525254,0.26262626262626265,0.27272727272727276,0.2828282828282829,0.29292929292929293,0.30303030303030304,0.31313131313131315,0.32323232323232326,0.33333333333333337,0.3434343434343435,0.3535353535353536,0.36363636363636365,0.37373737373737376,0.38383838383838387,0.393939393939394,0.4040404040404041,0.4141414141414142,0.42424242424242425,0.43434343434343436,0.4444444444444445,0.4545454545454546,0.4646464646464647,0.4747474747474748,0.48484848484848486,0.494949494949495,0.5050505050505051,0.5151515151515152,0.5252525252525253,0.5353535353535354,0.5454545454545455,0.5555555555555556,0.5656565656565657,0.5757575757575758,0.5858585858585859,0.595959595959596,0.6060606060606061,0.6161616161616162,0.6262626262626263,0.6363636363636365,0.6464646464646465,0.6565656565656566,0.6666666666666667,0.6767676767676768,0.686868686868687,0.696969696969697,0.7070707070707072,0.7171717171717172,0.7272727272727273,0.7373737373737375,0.7474747474747475,0.7575757575757577,0.7676767676767677,0.7777777777777778,0.787878787878788,0.797979797979798,0.8080808080808082,0.8181818181818182,0.8282828282828284,0.8383838383838385,0.8484848484848485,0.8585858585858587,0.8686868686868687,0.8787878787878789,0.888888888888889,0.8989898989898991,0.9090909090909092,0.9191919191919192,0.9292929292929294,0.9393939393939394,0.9494949494949496,0.9595959595959597,0.9696969696969697,0.9797979797979799,0.98989898989899,1.0],\"y\":[0.0,0.587975622444535,0.587975622444535,0.587975622444535,0.587975622444535,0.587975622444535,0.587975622444535,0.587975622444535,0.587975622444535,0.587975622444535,0.587975622444535,0.587975622444535,0.587975622444535,0.587975622444535,0.587975622444535,0.587975622444535,0.587975622444535,0.587975622444535,0.587975622444535,0.587975622444535,0.7026839553457821,0.7026839553457821,0.7026839553457821,0.7026839553457821,0.7026839553457821,0.7333333333333332,0.7333333333333332,0.7333333333333332,0.7333333333333332,0.7333333333333332,0.7333333333333332,0.7333333333333332,0.7333333333333332,0.7333333333333332,0.7333333333333332,0.7333333333333332,0.7333333333333332,0.7333333333333332,0.7333333333333332,0.7333333333333332,1.0,1.0,1.0,1.0,1.0,1.0,1.0,1.0,1.0,1.0,1.0,1.0,1.0,1.0,1.0,1.0,1.0,1.0,1.0,1.0,1.0,1.0,1.0,1.0,1.0,1.0,1.0,1.0,1.0,1.0,1.0,1.0,1.0,1.0,1.0,1.0,1.0,1.0,1.0,1.0,1.0,1.0,1.0,1.0,1.0,1.0,1.0,1.0,1.0,1.0,1.0,1.0,1.0,1.0,1.0,1.0,1.0,1.0,1.0,1.0],\"type\":\"scatter\"},{\"hoverinfo\":\"skip\",\"line\":{\"color\":\"rgba(41, 128, 185, 1.0)\",\"width\":2},\"name\":\"AUC: 0.950\",\"showlegend\":true,\"x\":[0.0,0.010101010101010102,0.020202020202020204,0.030303030303030304,0.04040404040404041,0.05050505050505051,0.06060606060606061,0.07070707070707072,0.08080808080808081,0.09090909090909091,0.10101010101010102,0.11111111111111112,0.12121212121212122,0.13131313131313133,0.14141414141414144,0.15151515151515152,0.16161616161616163,0.17171717171717174,0.18181818181818182,0.19191919191919193,0.20202020202020204,0.21212121212121213,0.22222222222222224,0.23232323232323235,0.24242424242424243,0.25252525252525254,0.26262626262626265,0.27272727272727276,0.2828282828282829,0.29292929292929293,0.30303030303030304,0.31313131313131315,0.32323232323232326,0.33333333333333337,0.3434343434343435,0.3535353535353536,0.36363636363636365,0.37373737373737376,0.38383838383838387,0.393939393939394,0.4040404040404041,0.4141414141414142,0.42424242424242425,0.43434343434343436,0.4444444444444445,0.4545454545454546,0.4646464646464647,0.4747474747474748,0.48484848484848486,0.494949494949495,0.5050505050505051,0.5151515151515152,0.5252525252525253,0.5353535353535354,0.5454545454545455,0.5555555555555556,0.5656565656565657,0.5757575757575758,0.5858585858585859,0.595959595959596,0.6060606060606061,0.6161616161616162,0.6262626262626263,0.6363636363636365,0.6464646464646465,0.6565656565656566,0.6666666666666667,0.6767676767676768,0.686868686868687,0.696969696969697,0.7070707070707072,0.7171717171717172,0.7272727272727273,0.7373737373737375,0.7474747474747475,0.7575757575757577,0.7676767676767677,0.7777777777777778,0.787878787878788,0.797979797979798,0.8080808080808082,0.8181818181818182,0.8282828282828284,0.8383838383838385,0.8484848484848485,0.8585858585858587,0.8686868686868687,0.8787878787878789,0.888888888888889,0.8989898989898991,0.9090909090909092,0.9191919191919192,0.9292929292929294,0.9393939393939394,0.9494949494949496,0.9595959595959597,0.9696969696969697,0.9797979797979799,0.98989898989899,1.0],\"y\":[0.0,0.825,0.825,0.825,0.825,0.825,0.825,0.825,0.825,0.825,0.825,0.825,0.825,0.825,0.825,0.825,0.825,0.825,0.825,0.825,0.9083333333333332,0.9083333333333332,0.9083333333333332,0.9083333333333332,0.9083333333333332,0.9333333333333332,0.9333333333333332,0.9333333333333332,0.9333333333333332,0.9333333333333332,0.9333333333333332,0.9333333333333332,0.9333333333333332,0.9333333333333332,0.9333333333333332,0.9333333333333332,0.9333333333333332,0.9333333333333332,0.9333333333333332,0.9333333333333332,1.0,1.0,1.0,1.0,1.0,1.0,1.0,1.0,1.0,1.0,1.0,1.0,1.0,1.0,1.0,1.0,1.0,1.0,1.0,1.0,1.0,1.0,1.0,1.0,1.0,1.0,1.0,1.0,1.0,1.0,1.0,1.0,1.0,1.0,1.0,1.0,1.0,1.0,1.0,1.0,1.0,1.0,1.0,1.0,1.0,1.0,1.0,1.0,1.0,1.0,1.0,1.0,1.0,1.0,1.0,1.0,1.0,1.0,1.0,1.0],\"type\":\"scatter\"}],                        {\"template\":{\"data\":{\"barpolar\":[{\"marker\":{\"line\":{\"color\":\"white\",\"width\":0.5},\"pattern\":{\"fillmode\":\"overlay\",\"size\":10,\"solidity\":0.2}},\"type\":\"barpolar\"}],\"bar\":[{\"error_x\":{\"color\":\"#2a3f5f\"},\"error_y\":{\"color\":\"#2a3f5f\"},\"marker\":{\"line\":{\"color\":\"white\",\"width\":0.5},\"pattern\":{\"fillmode\":\"overlay\",\"size\":10,\"solidity\":0.2}},\"type\":\"bar\"}],\"carpet\":[{\"aaxis\":{\"endlinecolor\":\"#2a3f5f\",\"gridcolor\":\"#C8D4E3\",\"linecolor\":\"#C8D4E3\",\"minorgridcolor\":\"#C8D4E3\",\"startlinecolor\":\"#2a3f5f\"},\"baxis\":{\"endlinecolor\":\"#2a3f5f\",\"gridcolor\":\"#C8D4E3\",\"linecolor\":\"#C8D4E3\",\"minorgridcolor\":\"#C8D4E3\",\"startlinecolor\":\"#2a3f5f\"},\"type\":\"carpet\"}],\"choropleth\":[{\"colorbar\":{\"outlinewidth\":0,\"ticks\":\"\"},\"type\":\"choropleth\"}],\"contourcarpet\":[{\"colorbar\":{\"outlinewidth\":0,\"ticks\":\"\"},\"type\":\"contourcarpet\"}],\"contour\":[{\"colorbar\":{\"outlinewidth\":0,\"ticks\":\"\"},\"colorscale\":[[0.0,\"#0d0887\"],[0.1111111111111111,\"#46039f\"],[0.2222222222222222,\"#7201a8\"],[0.3333333333333333,\"#9c179e\"],[0.4444444444444444,\"#bd3786\"],[0.5555555555555556,\"#d8576b\"],[0.6666666666666666,\"#ed7953\"],[0.7777777777777778,\"#fb9f3a\"],[0.8888888888888888,\"#fdca26\"],[1.0,\"#f0f921\"]],\"type\":\"contour\"}],\"heatmapgl\":[{\"colorbar\":{\"outlinewidth\":0,\"ticks\":\"\"},\"colorscale\":[[0.0,\"#0d0887\"],[0.1111111111111111,\"#46039f\"],[0.2222222222222222,\"#7201a8\"],[0.3333333333333333,\"#9c179e\"],[0.4444444444444444,\"#bd3786\"],[0.5555555555555556,\"#d8576b\"],[0.6666666666666666,\"#ed7953\"],[0.7777777777777778,\"#fb9f3a\"],[0.8888888888888888,\"#fdca26\"],[1.0,\"#f0f921\"]],\"type\":\"heatmapgl\"}],\"heatmap\":[{\"colorbar\":{\"outlinewidth\":0,\"ticks\":\"\"},\"colorscale\":[[0.0,\"#0d0887\"],[0.1111111111111111,\"#46039f\"],[0.2222222222222222,\"#7201a8\"],[0.3333333333333333,\"#9c179e\"],[0.4444444444444444,\"#bd3786\"],[0.5555555555555556,\"#d8576b\"],[0.6666666666666666,\"#ed7953\"],[0.7777777777777778,\"#fb9f3a\"],[0.8888888888888888,\"#fdca26\"],[1.0,\"#f0f921\"]],\"type\":\"heatmap\"}],\"histogram2dcontour\":[{\"colorbar\":{\"outlinewidth\":0,\"ticks\":\"\"},\"colorscale\":[[0.0,\"#0d0887\"],[0.1111111111111111,\"#46039f\"],[0.2222222222222222,\"#7201a8\"],[0.3333333333333333,\"#9c179e\"],[0.4444444444444444,\"#bd3786\"],[0.5555555555555556,\"#d8576b\"],[0.6666666666666666,\"#ed7953\"],[0.7777777777777778,\"#fb9f3a\"],[0.8888888888888888,\"#fdca26\"],[1.0,\"#f0f921\"]],\"type\":\"histogram2dcontour\"}],\"histogram2d\":[{\"colorbar\":{\"outlinewidth\":0,\"ticks\":\"\"},\"colorscale\":[[0.0,\"#0d0887\"],[0.1111111111111111,\"#46039f\"],[0.2222222222222222,\"#7201a8\"],[0.3333333333333333,\"#9c179e\"],[0.4444444444444444,\"#bd3786\"],[0.5555555555555556,\"#d8576b\"],[0.6666666666666666,\"#ed7953\"],[0.7777777777777778,\"#fb9f3a\"],[0.8888888888888888,\"#fdca26\"],[1.0,\"#f0f921\"]],\"type\":\"histogram2d\"}],\"histogram\":[{\"marker\":{\"pattern\":{\"fillmode\":\"overlay\",\"size\":10,\"solidity\":0.2}},\"type\":\"histogram\"}],\"mesh3d\":[{\"colorbar\":{\"outlinewidth\":0,\"ticks\":\"\"},\"type\":\"mesh3d\"}],\"parcoords\":[{\"line\":{\"colorbar\":{\"outlinewidth\":0,\"ticks\":\"\"}},\"type\":\"parcoords\"}],\"pie\":[{\"automargin\":true,\"type\":\"pie\"}],\"scatter3d\":[{\"line\":{\"colorbar\":{\"outlinewidth\":0,\"ticks\":\"\"}},\"marker\":{\"colorbar\":{\"outlinewidth\":0,\"ticks\":\"\"}},\"type\":\"scatter3d\"}],\"scattercarpet\":[{\"marker\":{\"colorbar\":{\"outlinewidth\":0,\"ticks\":\"\"}},\"type\":\"scattercarpet\"}],\"scattergeo\":[{\"marker\":{\"colorbar\":{\"outlinewidth\":0,\"ticks\":\"\"}},\"type\":\"scattergeo\"}],\"scattergl\":[{\"marker\":{\"colorbar\":{\"outlinewidth\":0,\"ticks\":\"\"}},\"type\":\"scattergl\"}],\"scattermapbox\":[{\"marker\":{\"colorbar\":{\"outlinewidth\":0,\"ticks\":\"\"}},\"type\":\"scattermapbox\"}],\"scatterpolargl\":[{\"marker\":{\"colorbar\":{\"outlinewidth\":0,\"ticks\":\"\"}},\"type\":\"scatterpolargl\"}],\"scatterpolar\":[{\"marker\":{\"colorbar\":{\"outlinewidth\":0,\"ticks\":\"\"}},\"type\":\"scatterpolar\"}],\"scatter\":[{\"fillpattern\":{\"fillmode\":\"overlay\",\"size\":10,\"solidity\":0.2},\"type\":\"scatter\"}],\"scatterternary\":[{\"marker\":{\"colorbar\":{\"outlinewidth\":0,\"ticks\":\"\"}},\"type\":\"scatterternary\"}],\"surface\":[{\"colorbar\":{\"outlinewidth\":0,\"ticks\":\"\"},\"colorscale\":[[0.0,\"#0d0887\"],[0.1111111111111111,\"#46039f\"],[0.2222222222222222,\"#7201a8\"],[0.3333333333333333,\"#9c179e\"],[0.4444444444444444,\"#bd3786\"],[0.5555555555555556,\"#d8576b\"],[0.6666666666666666,\"#ed7953\"],[0.7777777777777778,\"#fb9f3a\"],[0.8888888888888888,\"#fdca26\"],[1.0,\"#f0f921\"]],\"type\":\"surface\"}],\"table\":[{\"cells\":{\"fill\":{\"color\":\"#EBF0F8\"},\"line\":{\"color\":\"white\"}},\"header\":{\"fill\":{\"color\":\"#C8D4E3\"},\"line\":{\"color\":\"white\"}},\"type\":\"table\"}]},\"layout\":{\"annotationdefaults\":{\"arrowcolor\":\"#2a3f5f\",\"arrowhead\":0,\"arrowwidth\":1},\"autotypenumbers\":\"strict\",\"coloraxis\":{\"colorbar\":{\"outlinewidth\":0,\"ticks\":\"\"}},\"colorscale\":{\"diverging\":[[0,\"#8e0152\"],[0.1,\"#c51b7d\"],[0.2,\"#de77ae\"],[0.3,\"#f1b6da\"],[0.4,\"#fde0ef\"],[0.5,\"#f7f7f7\"],[0.6,\"#e6f5d0\"],[0.7,\"#b8e186\"],[0.8,\"#7fbc41\"],[0.9,\"#4d9221\"],[1,\"#276419\"]],\"sequential\":[[0.0,\"#0d0887\"],[0.1111111111111111,\"#46039f\"],[0.2222222222222222,\"#7201a8\"],[0.3333333333333333,\"#9c179e\"],[0.4444444444444444,\"#bd3786\"],[0.5555555555555556,\"#d8576b\"],[0.6666666666666666,\"#ed7953\"],[0.7777777777777778,\"#fb9f3a\"],[0.8888888888888888,\"#fdca26\"],[1.0,\"#f0f921\"]],\"sequentialminus\":[[0.0,\"#0d0887\"],[0.1111111111111111,\"#46039f\"],[0.2222222222222222,\"#7201a8\"],[0.3333333333333333,\"#9c179e\"],[0.4444444444444444,\"#bd3786\"],[0.5555555555555556,\"#d8576b\"],[0.6666666666666666,\"#ed7953\"],[0.7777777777777778,\"#fb9f3a\"],[0.8888888888888888,\"#fdca26\"],[1.0,\"#f0f921\"]]},\"colorway\":[\"#636efa\",\"#EF553B\",\"#00cc96\",\"#ab63fa\",\"#FFA15A\",\"#19d3f3\",\"#FF6692\",\"#B6E880\",\"#FF97FF\",\"#FECB52\"],\"font\":{\"color\":\"#2a3f5f\"},\"geo\":{\"bgcolor\":\"white\",\"lakecolor\":\"white\",\"landcolor\":\"white\",\"showlakes\":true,\"showland\":true,\"subunitcolor\":\"#C8D4E3\"},\"hoverlabel\":{\"align\":\"left\"},\"hovermode\":\"closest\",\"mapbox\":{\"style\":\"light\"},\"paper_bgcolor\":\"white\",\"plot_bgcolor\":\"white\",\"polar\":{\"angularaxis\":{\"gridcolor\":\"#EBF0F8\",\"linecolor\":\"#EBF0F8\",\"ticks\":\"\"},\"bgcolor\":\"white\",\"radialaxis\":{\"gridcolor\":\"#EBF0F8\",\"linecolor\":\"#EBF0F8\",\"ticks\":\"\"}},\"scene\":{\"xaxis\":{\"backgroundcolor\":\"white\",\"gridcolor\":\"#DFE8F3\",\"gridwidth\":2,\"linecolor\":\"#EBF0F8\",\"showbackground\":true,\"ticks\":\"\",\"zerolinecolor\":\"#EBF0F8\"},\"yaxis\":{\"backgroundcolor\":\"white\",\"gridcolor\":\"#DFE8F3\",\"gridwidth\":2,\"linecolor\":\"#EBF0F8\",\"showbackground\":true,\"ticks\":\"\",\"zerolinecolor\":\"#EBF0F8\"},\"zaxis\":{\"backgroundcolor\":\"white\",\"gridcolor\":\"#DFE8F3\",\"gridwidth\":2,\"linecolor\":\"#EBF0F8\",\"showbackground\":true,\"ticks\":\"\",\"zerolinecolor\":\"#EBF0F8\"}},\"shapedefaults\":{\"line\":{\"color\":\"#2a3f5f\"}},\"ternary\":{\"aaxis\":{\"gridcolor\":\"#DFE8F3\",\"linecolor\":\"#A2B1C6\",\"ticks\":\"\"},\"baxis\":{\"gridcolor\":\"#DFE8F3\",\"linecolor\":\"#A2B1C6\",\"ticks\":\"\"},\"bgcolor\":\"white\",\"caxis\":{\"gridcolor\":\"#DFE8F3\",\"linecolor\":\"#A2B1C6\",\"ticks\":\"\"}},\"title\":{\"x\":0.05},\"xaxis\":{\"automargin\":true,\"gridcolor\":\"#EBF0F8\",\"linecolor\":\"#EBF0F8\",\"ticks\":\"\",\"title\":{\"standoff\":15},\"zerolinecolor\":\"#EBF0F8\",\"zerolinewidth\":2},\"yaxis\":{\"automargin\":true,\"gridcolor\":\"#EBF0F8\",\"linecolor\":\"#EBF0F8\",\"ticks\":\"\",\"title\":{\"standoff\":15},\"zerolinecolor\":\"#EBF0F8\",\"zerolinewidth\":2}}},\"shapes\":[{\"line\":{\"dash\":\"dash\"},\"type\":\"line\",\"x0\":0,\"x1\":1,\"y0\":0,\"y1\":1}],\"title\":{\"text\":\"Dose 2 detectable\"},\"legend\":{\"yanchor\":\"bottom\",\"xanchor\":\"right\",\"x\":0.95,\"y\":0.01},\"xaxis\":{\"title\":{\"text\":\"False Positive Rate\"},\"range\":[0,1],\"constrain\":\"domain\",\"linecolor\":\"black\"},\"yaxis\":{\"title\":{\"text\":\"True Positive Rate\"},\"range\":[0,1],\"scaleanchor\":\"x\",\"scaleratio\":1,\"linecolor\":\"black\"},\"width\":500,\"height\":500},                        {\"responsive\": true}                    ).then(function(){\n",
       "                            \n",
       "var gd = document.getElementById('a6f6b4a0-bfc9-445e-9638-c1b110112354');\n",
       "var x = new MutationObserver(function (mutations, observer) {{\n",
       "        var display = window.getComputedStyle(gd).display;\n",
       "        if (!display || display === 'none') {{\n",
       "            console.log([gd, 'removed!']);\n",
       "            Plotly.purge(gd);\n",
       "            observer.disconnect();\n",
       "        }}\n",
       "}});\n",
       "\n",
       "// Listen for the removal of the full notebook cells\n",
       "var notebookContainer = gd.closest('#notebook-container');\n",
       "if (notebookContainer) {{\n",
       "    x.observe(notebookContainer, {childList: true});\n",
       "}}\n",
       "\n",
       "// Listen for the clearing of the current output cell\n",
       "var outputEl = gd.closest('.output');\n",
       "if (outputEl) {{\n",
       "    x.observe(outputEl, {childList: true});\n",
       "}}\n",
       "\n",
       "                        })                };                });            </script>        </div>"
      ]
     },
     "metadata": {},
     "output_type": "display_data"
    }
   ],
   "source": [
    "y_true_d2_d  = []\n",
    "y_true_d3_p  = []\n",
    "y_score_d2_d = []\n",
    "y_score_d3_p = []\n",
    "for i in range(len(data[\"comp\"][\"SVM_RFE_d2_d\"][\"SVM_d2_d\"])):\n",
    "    y_true_d2_d.append(data[\"comp\"][\"SVM_RFE_d2_d\"][\"SVM_d2_d\"][i][\"y_true\"])\n",
    "    y_true_d3_p.append(data[\"comp\"][\"SVM_RFE_d3_p\"][\"SVM_d3_p\"][i][\"y_true\"])\n",
    "    y_score_d2_d.append(data[\"comp\"][\"SVM_RFE_d2_d\"][\"SVM_d2_d\"][i][\"z\"])\n",
    "    y_score_d3_p.append(data[\"comp\"][\"SVM_RFE_d3_p\"][\"SVM_d3_p\"][i][\"z\"])\n",
    "\n",
    "\n",
    "kind = 'val'\n",
    "c_line      = 'rgba(52, 152, 219, 0.5)'\n",
    "c_fill      = 'rgba(52, 152, 219, 0.2)'\n",
    "c_line_main = 'rgba(41, 128, 185, 1.0)'\n",
    "c_grid      = 'rgba(189, 195, 199, 0.5)'\n",
    "#c_annot     = 'rgba(149, 165, 166, 0.5)'\n",
    "#c_highlight = 'rgba(192, 57, 43, 1.0)'\n",
    "fpr_mean    = np.linspace(0, 1, 100)\n",
    "interp_tprs_d2_d = []\n",
    "interp_tprs_d3_p = []\n",
    "for i in range(len(y_true_d2_d)):\n",
    "    fpr_d2_d, tpr_d2_d, thresholds = roc_curve(y_true_d2_d[i], y_score_d2_d[i])\n",
    "    fpr_d3_p, tpr_d3_p, thresholds = roc_curve(y_true_d3_p[i], y_score_d3_p[i])\n",
    "    interp_tpr_d2_d    = np.interp(fpr_mean, fpr_d2_d, tpr_d2_d)\n",
    "    interp_tpr_d3_p    = np.interp(fpr_mean, fpr_d3_p, tpr_d3_p)\n",
    "    interp_tpr_d2_d[0] = 0.0\n",
    "    interp_tpr_d3_p[0] = 0.0\n",
    "    interp_tprs_d2_d.append(interp_tpr_d2_d)\n",
    "    interp_tprs_d3_p.append(interp_tpr_d3_p)\n",
    "tpr_mean_d2_d     = np.mean(interp_tprs_d2_d, axis=0)\n",
    "tpr_mean_d3_p     = np.mean(interp_tprs_d3_p, axis=0)\n",
    "tpr_mean_d2_d[-1] = 1.0\n",
    "tpr_mean_d3_p[-1] = 1.0\n",
    "tpr_std_d2_d      = np.std(interp_tprs_d2_d, axis=0)\n",
    "tpr_std_d3_p      = np.std(interp_tprs_d3_p, axis=0)\n",
    "tpr_upper_d2_d    = np.clip(tpr_mean_d2_d+tpr_std_d2_d, 0, 1)\n",
    "tpr_upper_d3_p    = np.clip(tpr_mean_d3_p+tpr_std_d3_p, 0, 1)\n",
    "tpr_lower_d2_d    = tpr_mean_d2_d-tpr_std_d2_d\n",
    "tpr_lower_d3_p    = tpr_mean_d3_p-tpr_std_d3_p\n",
    "\n",
    "fig3 = go.Figure([\n",
    "    go.Scatter(\n",
    "        x          = fpr_mean,\n",
    "        y          = tpr_upper_d2_d,\n",
    "        line       = dict(color=c_line, width=1),\n",
    "        hoverinfo  = \"skip\",\n",
    "        showlegend = True,\n",
    "        name       = 'SD'),\n",
    "    go.Scatter(\n",
    "        x          = fpr_mean,\n",
    "        y          = tpr_lower_d2_d,\n",
    "        fill       = 'tonexty',\n",
    "        fillcolor  = c_fill,\n",
    "        line       = dict(color=c_line, width=1),\n",
    "        hoverinfo  = \"skip\",\n",
    "        showlegend = False,\n",
    "        name       = 'lower'),\n",
    "    go.Scatter(\n",
    "        x          = fpr_mean,\n",
    "        y          = tpr_mean_d2_d,\n",
    "        line       = dict(color=c_line_main, width=2),\n",
    "        hoverinfo  = \"skip\",\n",
    "        showlegend = True,\n",
    "        name       = 'AUC: 0.950')\n",
    "]\n",
    ")\n",
    "fig3.add_shape(\n",
    "    type ='line', \n",
    "    line =dict(dash='dash'),\n",
    "    x0=0, x1=1, y0=0, y1=1\n",
    ")\n",
    "fig3.update_layout(\n",
    "    template    = 'plotly_white', \n",
    "    title_x     = 0.5,\n",
    "    title = \"Dose 2 detectable\",\n",
    "    xaxis_title = \"False Positive Rate\",\n",
    "    yaxis_title = \"True Positive Rate\",\n",
    "    width       = 500,\n",
    "    height      = 500,\n",
    "    legend      = dict(\n",
    "        yanchor=\"bottom\", \n",
    "        xanchor=\"right\", \n",
    "        x=0.95,\n",
    "        y=0.01,\n",
    "    )\n",
    ")\n",
    "fig3.update_yaxes(\n",
    "    range       = [0, 1],\n",
    "    scaleanchor = \"x\", \n",
    "    scaleratio  = 1,\n",
    "    linecolor   = 'black')\n",
    "fig3.update_xaxes(\n",
    "    range       = [0, 1],\n",
    "    constrain   = 'domain',\n",
    "    linecolor   = 'black')\n",
    "fig3.write_image(\"fig_ml_C.svg\")\n",
    "fig3"
   ]
  },
  {
   "cell_type": "code",
   "execution_count": 29,
   "id": "168d809e-37c7-474c-ad70-b2a12f168cbf",
   "metadata": {},
   "outputs": [
    {
     "data": {
      "application/vnd.plotly.v1+json": {
       "config": {
        "plotlyServerURL": "https://plot.ly"
       },
       "data": [
        {
         "hoverinfo": "skip",
         "line": {
          "color": "rgba( 152,52, 219, 0.5)",
          "width": 1
         },
         "name": "SD",
         "showlegend": true,
         "type": "scatter",
         "x": [
          0,
          0.010101010101010102,
          0.020202020202020204,
          0.030303030303030304,
          0.04040404040404041,
          0.05050505050505051,
          0.06060606060606061,
          0.07070707070707072,
          0.08080808080808081,
          0.09090909090909091,
          0.10101010101010102,
          0.11111111111111112,
          0.12121212121212122,
          0.13131313131313133,
          0.14141414141414144,
          0.15151515151515152,
          0.16161616161616163,
          0.17171717171717174,
          0.18181818181818182,
          0.19191919191919193,
          0.20202020202020204,
          0.21212121212121213,
          0.22222222222222224,
          0.23232323232323235,
          0.24242424242424243,
          0.25252525252525254,
          0.26262626262626265,
          0.27272727272727276,
          0.2828282828282829,
          0.29292929292929293,
          0.30303030303030304,
          0.31313131313131315,
          0.32323232323232326,
          0.33333333333333337,
          0.3434343434343435,
          0.3535353535353536,
          0.36363636363636365,
          0.37373737373737376,
          0.38383838383838387,
          0.393939393939394,
          0.4040404040404041,
          0.4141414141414142,
          0.42424242424242425,
          0.43434343434343436,
          0.4444444444444445,
          0.4545454545454546,
          0.4646464646464647,
          0.4747474747474748,
          0.48484848484848486,
          0.494949494949495,
          0.5050505050505051,
          0.5151515151515152,
          0.5252525252525253,
          0.5353535353535354,
          0.5454545454545455,
          0.5555555555555556,
          0.5656565656565657,
          0.5757575757575758,
          0.5858585858585859,
          0.595959595959596,
          0.6060606060606061,
          0.6161616161616162,
          0.6262626262626263,
          0.6363636363636365,
          0.6464646464646465,
          0.6565656565656566,
          0.6666666666666667,
          0.6767676767676768,
          0.686868686868687,
          0.696969696969697,
          0.7070707070707072,
          0.7171717171717172,
          0.7272727272727273,
          0.7373737373737375,
          0.7474747474747475,
          0.7575757575757577,
          0.7676767676767677,
          0.7777777777777778,
          0.787878787878788,
          0.797979797979798,
          0.8080808080808082,
          0.8181818181818182,
          0.8282828282828284,
          0.8383838383838385,
          0.8484848484848485,
          0.8585858585858587,
          0.8686868686868687,
          0.8787878787878789,
          0.888888888888889,
          0.8989898989898991,
          0.9090909090909092,
          0.9191919191919192,
          0.9292929292929294,
          0.9393939393939394,
          0.9494949494949496,
          0.9595959595959597,
          0.9696969696969697,
          0.9797979797979799,
          0.98989898989899,
          1
         ],
         "y": [
          0,
          1,
          1,
          1,
          1,
          1,
          1,
          1,
          1,
          1,
          1,
          1,
          1,
          1,
          1,
          1,
          1,
          1,
          1,
          1,
          1,
          1,
          1,
          1,
          1,
          1,
          1,
          1,
          1,
          1,
          1,
          1,
          1,
          1,
          1,
          1,
          1,
          1,
          1,
          1,
          1,
          1,
          1,
          1,
          1,
          1,
          1,
          1,
          1,
          1,
          1,
          1,
          1,
          1,
          1,
          1,
          1,
          1,
          1,
          1,
          1,
          1,
          1,
          1,
          1,
          1,
          1,
          1,
          1,
          1,
          1,
          1,
          1,
          1,
          1,
          1,
          1,
          1,
          1,
          1,
          1,
          1,
          1,
          1,
          1,
          1,
          1,
          1,
          1,
          1,
          1,
          1,
          1,
          1,
          1,
          1,
          1,
          1,
          1,
          1
         ]
        },
        {
         "fill": "tonexty",
         "fillcolor": "rgba( 152,52, 219, 0.2)",
         "hoverinfo": "skip",
         "line": {
          "color": "rgba( 152,52, 219, 0.5)",
          "width": 1
         },
         "name": "lower",
         "showlegend": false,
         "type": "scatter",
         "x": [
          0,
          0.010101010101010102,
          0.020202020202020204,
          0.030303030303030304,
          0.04040404040404041,
          0.05050505050505051,
          0.06060606060606061,
          0.07070707070707072,
          0.08080808080808081,
          0.09090909090909091,
          0.10101010101010102,
          0.11111111111111112,
          0.12121212121212122,
          0.13131313131313133,
          0.14141414141414144,
          0.15151515151515152,
          0.16161616161616163,
          0.17171717171717174,
          0.18181818181818182,
          0.19191919191919193,
          0.20202020202020204,
          0.21212121212121213,
          0.22222222222222224,
          0.23232323232323235,
          0.24242424242424243,
          0.25252525252525254,
          0.26262626262626265,
          0.27272727272727276,
          0.2828282828282829,
          0.29292929292929293,
          0.30303030303030304,
          0.31313131313131315,
          0.32323232323232326,
          0.33333333333333337,
          0.3434343434343435,
          0.3535353535353536,
          0.36363636363636365,
          0.37373737373737376,
          0.38383838383838387,
          0.393939393939394,
          0.4040404040404041,
          0.4141414141414142,
          0.42424242424242425,
          0.43434343434343436,
          0.4444444444444445,
          0.4545454545454546,
          0.4646464646464647,
          0.4747474747474748,
          0.48484848484848486,
          0.494949494949495,
          0.5050505050505051,
          0.5151515151515152,
          0.5252525252525253,
          0.5353535353535354,
          0.5454545454545455,
          0.5555555555555556,
          0.5656565656565657,
          0.5757575757575758,
          0.5858585858585859,
          0.595959595959596,
          0.6060606060606061,
          0.6161616161616162,
          0.6262626262626263,
          0.6363636363636365,
          0.6464646464646465,
          0.6565656565656566,
          0.6666666666666667,
          0.6767676767676768,
          0.686868686868687,
          0.696969696969697,
          0.7070707070707072,
          0.7171717171717172,
          0.7272727272727273,
          0.7373737373737375,
          0.7474747474747475,
          0.7575757575757577,
          0.7676767676767677,
          0.7777777777777778,
          0.787878787878788,
          0.797979797979798,
          0.8080808080808082,
          0.8181818181818182,
          0.8282828282828284,
          0.8383838383838385,
          0.8484848484848485,
          0.8585858585858587,
          0.8686868686868687,
          0.8787878787878789,
          0.888888888888889,
          0.8989898989898991,
          0.9090909090909092,
          0.9191919191919192,
          0.9292929292929294,
          0.9393939393939394,
          0.9494949494949496,
          0.9595959595959597,
          0.9696969696969697,
          0.9797979797979799,
          0.98989898989899,
          1
         ],
         "y": [
          0,
          0.41458980337503154,
          0.41458980337503154,
          0.41458980337503154,
          0.41458980337503154,
          0.41458980337503154,
          0.41458980337503154,
          0.41458980337503154,
          0.41458980337503154,
          0.41458980337503154,
          0.41458980337503154,
          0.41458980337503154,
          0.41458980337503154,
          0.41458980337503154,
          0.41458980337503154,
          0.41458980337503154,
          0.41458980337503154,
          0.5298437881283575,
          0.5298437881283575,
          0.5298437881283575,
          0.6000000000000001,
          0.6000000000000001,
          0.6000000000000001,
          0.6000000000000001,
          0.6000000000000001,
          0.6000000000000001,
          0.6000000000000001,
          0.6000000000000001,
          0.6000000000000001,
          0.6000000000000001,
          0.6000000000000001,
          0.6000000000000001,
          0.6000000000000001,
          0.6000000000000001,
          0.6000000000000001,
          0.6000000000000001,
          0.6000000000000001,
          0.6000000000000001,
          0.6000000000000001,
          0.6000000000000001,
          1,
          1,
          1,
          1,
          1,
          1,
          1,
          1,
          1,
          1,
          1,
          1,
          1,
          1,
          1,
          1,
          1,
          1,
          1,
          1,
          1,
          1,
          1,
          1,
          1,
          1,
          1,
          1,
          1,
          1,
          1,
          1,
          1,
          1,
          1,
          1,
          1,
          1,
          1,
          1,
          1,
          1,
          1,
          1,
          1,
          1,
          1,
          1,
          1,
          1,
          1,
          1,
          1,
          1,
          1,
          1,
          1,
          1,
          1,
          1
         ]
        },
        {
         "hoverinfo": "skip",
         "line": {
          "color": "rgba( 128,41, 185, 1.0)",
          "width": 2
         },
         "name": "AUC: 0.933",
         "showlegend": true,
         "type": "scatter",
         "x": [
          0,
          0.010101010101010102,
          0.020202020202020204,
          0.030303030303030304,
          0.04040404040404041,
          0.05050505050505051,
          0.06060606060606061,
          0.07070707070707072,
          0.08080808080808081,
          0.09090909090909091,
          0.10101010101010102,
          0.11111111111111112,
          0.12121212121212122,
          0.13131313131313133,
          0.14141414141414144,
          0.15151515151515152,
          0.16161616161616163,
          0.17171717171717174,
          0.18181818181818182,
          0.19191919191919193,
          0.20202020202020204,
          0.21212121212121213,
          0.22222222222222224,
          0.23232323232323235,
          0.24242424242424243,
          0.25252525252525254,
          0.26262626262626265,
          0.27272727272727276,
          0.2828282828282829,
          0.29292929292929293,
          0.30303030303030304,
          0.31313131313131315,
          0.32323232323232326,
          0.33333333333333337,
          0.3434343434343435,
          0.3535353535353536,
          0.36363636363636365,
          0.37373737373737376,
          0.38383838383838387,
          0.393939393939394,
          0.4040404040404041,
          0.4141414141414142,
          0.42424242424242425,
          0.43434343434343436,
          0.4444444444444445,
          0.4545454545454546,
          0.4646464646464647,
          0.4747474747474748,
          0.48484848484848486,
          0.494949494949495,
          0.5050505050505051,
          0.5151515151515152,
          0.5252525252525253,
          0.5353535353535354,
          0.5454545454545455,
          0.5555555555555556,
          0.5656565656565657,
          0.5757575757575758,
          0.5858585858585859,
          0.595959595959596,
          0.6060606060606061,
          0.6161616161616162,
          0.6262626262626263,
          0.6363636363636365,
          0.6464646464646465,
          0.6565656565656566,
          0.6666666666666667,
          0.6767676767676768,
          0.686868686868687,
          0.696969696969697,
          0.7070707070707072,
          0.7171717171717172,
          0.7272727272727273,
          0.7373737373737375,
          0.7474747474747475,
          0.7575757575757577,
          0.7676767676767677,
          0.7777777777777778,
          0.787878787878788,
          0.797979797979798,
          0.8080808080808082,
          0.8181818181818182,
          0.8282828282828284,
          0.8383838383838385,
          0.8484848484848485,
          0.8585858585858587,
          0.8686868686868687,
          0.8787878787878789,
          0.888888888888889,
          0.8989898989898991,
          0.9090909090909092,
          0.9191919191919192,
          0.9292929292929294,
          0.9393939393939394,
          0.9494949494949496,
          0.9595959595959597,
          0.9696969696969697,
          0.9797979797979799,
          0.98989898989899,
          1
         ],
         "y": [
          0,
          0.75,
          0.75,
          0.75,
          0.75,
          0.75,
          0.75,
          0.75,
          0.75,
          0.75,
          0.75,
          0.75,
          0.75,
          0.75,
          0.75,
          0.75,
          0.75,
          0.85,
          0.85,
          0.85,
          0.9,
          0.9,
          0.9,
          0.9,
          0.9,
          0.9,
          0.9,
          0.9,
          0.9,
          0.9,
          0.9,
          0.9,
          0.9,
          0.9,
          0.9,
          0.9,
          0.9,
          0.9,
          0.9,
          0.9,
          1,
          1,
          1,
          1,
          1,
          1,
          1,
          1,
          1,
          1,
          1,
          1,
          1,
          1,
          1,
          1,
          1,
          1,
          1,
          1,
          1,
          1,
          1,
          1,
          1,
          1,
          1,
          1,
          1,
          1,
          1,
          1,
          1,
          1,
          1,
          1,
          1,
          1,
          1,
          1,
          1,
          1,
          1,
          1,
          1,
          1,
          1,
          1,
          1,
          1,
          1,
          1,
          1,
          1,
          1,
          1,
          1,
          1,
          1,
          1
         ]
        }
       ],
       "layout": {
        "height": 500,
        "legend": {
         "x": 0.95,
         "xanchor": "right",
         "y": 0.01,
         "yanchor": "bottom"
        },
        "shapes": [
         {
          "line": {
           "dash": "dash"
          },
          "type": "line",
          "x0": 0,
          "x1": 1,
          "y0": 0,
          "y1": 1
         }
        ],
        "template": {
         "data": {
          "bar": [
           {
            "error_x": {
             "color": "#2a3f5f"
            },
            "error_y": {
             "color": "#2a3f5f"
            },
            "marker": {
             "line": {
              "color": "white",
              "width": 0.5
             },
             "pattern": {
              "fillmode": "overlay",
              "size": 10,
              "solidity": 0.2
             }
            },
            "type": "bar"
           }
          ],
          "barpolar": [
           {
            "marker": {
             "line": {
              "color": "white",
              "width": 0.5
             },
             "pattern": {
              "fillmode": "overlay",
              "size": 10,
              "solidity": 0.2
             }
            },
            "type": "barpolar"
           }
          ],
          "carpet": [
           {
            "aaxis": {
             "endlinecolor": "#2a3f5f",
             "gridcolor": "#C8D4E3",
             "linecolor": "#C8D4E3",
             "minorgridcolor": "#C8D4E3",
             "startlinecolor": "#2a3f5f"
            },
            "baxis": {
             "endlinecolor": "#2a3f5f",
             "gridcolor": "#C8D4E3",
             "linecolor": "#C8D4E3",
             "minorgridcolor": "#C8D4E3",
             "startlinecolor": "#2a3f5f"
            },
            "type": "carpet"
           }
          ],
          "choropleth": [
           {
            "colorbar": {
             "outlinewidth": 0,
             "ticks": ""
            },
            "type": "choropleth"
           }
          ],
          "contour": [
           {
            "colorbar": {
             "outlinewidth": 0,
             "ticks": ""
            },
            "colorscale": [
             [
              0,
              "#0d0887"
             ],
             [
              0.1111111111111111,
              "#46039f"
             ],
             [
              0.2222222222222222,
              "#7201a8"
             ],
             [
              0.3333333333333333,
              "#9c179e"
             ],
             [
              0.4444444444444444,
              "#bd3786"
             ],
             [
              0.5555555555555556,
              "#d8576b"
             ],
             [
              0.6666666666666666,
              "#ed7953"
             ],
             [
              0.7777777777777778,
              "#fb9f3a"
             ],
             [
              0.8888888888888888,
              "#fdca26"
             ],
             [
              1,
              "#f0f921"
             ]
            ],
            "type": "contour"
           }
          ],
          "contourcarpet": [
           {
            "colorbar": {
             "outlinewidth": 0,
             "ticks": ""
            },
            "type": "contourcarpet"
           }
          ],
          "heatmap": [
           {
            "colorbar": {
             "outlinewidth": 0,
             "ticks": ""
            },
            "colorscale": [
             [
              0,
              "#0d0887"
             ],
             [
              0.1111111111111111,
              "#46039f"
             ],
             [
              0.2222222222222222,
              "#7201a8"
             ],
             [
              0.3333333333333333,
              "#9c179e"
             ],
             [
              0.4444444444444444,
              "#bd3786"
             ],
             [
              0.5555555555555556,
              "#d8576b"
             ],
             [
              0.6666666666666666,
              "#ed7953"
             ],
             [
              0.7777777777777778,
              "#fb9f3a"
             ],
             [
              0.8888888888888888,
              "#fdca26"
             ],
             [
              1,
              "#f0f921"
             ]
            ],
            "type": "heatmap"
           }
          ],
          "heatmapgl": [
           {
            "colorbar": {
             "outlinewidth": 0,
             "ticks": ""
            },
            "colorscale": [
             [
              0,
              "#0d0887"
             ],
             [
              0.1111111111111111,
              "#46039f"
             ],
             [
              0.2222222222222222,
              "#7201a8"
             ],
             [
              0.3333333333333333,
              "#9c179e"
             ],
             [
              0.4444444444444444,
              "#bd3786"
             ],
             [
              0.5555555555555556,
              "#d8576b"
             ],
             [
              0.6666666666666666,
              "#ed7953"
             ],
             [
              0.7777777777777778,
              "#fb9f3a"
             ],
             [
              0.8888888888888888,
              "#fdca26"
             ],
             [
              1,
              "#f0f921"
             ]
            ],
            "type": "heatmapgl"
           }
          ],
          "histogram": [
           {
            "marker": {
             "pattern": {
              "fillmode": "overlay",
              "size": 10,
              "solidity": 0.2
             }
            },
            "type": "histogram"
           }
          ],
          "histogram2d": [
           {
            "colorbar": {
             "outlinewidth": 0,
             "ticks": ""
            },
            "colorscale": [
             [
              0,
              "#0d0887"
             ],
             [
              0.1111111111111111,
              "#46039f"
             ],
             [
              0.2222222222222222,
              "#7201a8"
             ],
             [
              0.3333333333333333,
              "#9c179e"
             ],
             [
              0.4444444444444444,
              "#bd3786"
             ],
             [
              0.5555555555555556,
              "#d8576b"
             ],
             [
              0.6666666666666666,
              "#ed7953"
             ],
             [
              0.7777777777777778,
              "#fb9f3a"
             ],
             [
              0.8888888888888888,
              "#fdca26"
             ],
             [
              1,
              "#f0f921"
             ]
            ],
            "type": "histogram2d"
           }
          ],
          "histogram2dcontour": [
           {
            "colorbar": {
             "outlinewidth": 0,
             "ticks": ""
            },
            "colorscale": [
             [
              0,
              "#0d0887"
             ],
             [
              0.1111111111111111,
              "#46039f"
             ],
             [
              0.2222222222222222,
              "#7201a8"
             ],
             [
              0.3333333333333333,
              "#9c179e"
             ],
             [
              0.4444444444444444,
              "#bd3786"
             ],
             [
              0.5555555555555556,
              "#d8576b"
             ],
             [
              0.6666666666666666,
              "#ed7953"
             ],
             [
              0.7777777777777778,
              "#fb9f3a"
             ],
             [
              0.8888888888888888,
              "#fdca26"
             ],
             [
              1,
              "#f0f921"
             ]
            ],
            "type": "histogram2dcontour"
           }
          ],
          "mesh3d": [
           {
            "colorbar": {
             "outlinewidth": 0,
             "ticks": ""
            },
            "type": "mesh3d"
           }
          ],
          "parcoords": [
           {
            "line": {
             "colorbar": {
              "outlinewidth": 0,
              "ticks": ""
             }
            },
            "type": "parcoords"
           }
          ],
          "pie": [
           {
            "automargin": true,
            "type": "pie"
           }
          ],
          "scatter": [
           {
            "fillpattern": {
             "fillmode": "overlay",
             "size": 10,
             "solidity": 0.2
            },
            "type": "scatter"
           }
          ],
          "scatter3d": [
           {
            "line": {
             "colorbar": {
              "outlinewidth": 0,
              "ticks": ""
             }
            },
            "marker": {
             "colorbar": {
              "outlinewidth": 0,
              "ticks": ""
             }
            },
            "type": "scatter3d"
           }
          ],
          "scattercarpet": [
           {
            "marker": {
             "colorbar": {
              "outlinewidth": 0,
              "ticks": ""
             }
            },
            "type": "scattercarpet"
           }
          ],
          "scattergeo": [
           {
            "marker": {
             "colorbar": {
              "outlinewidth": 0,
              "ticks": ""
             }
            },
            "type": "scattergeo"
           }
          ],
          "scattergl": [
           {
            "marker": {
             "colorbar": {
              "outlinewidth": 0,
              "ticks": ""
             }
            },
            "type": "scattergl"
           }
          ],
          "scattermapbox": [
           {
            "marker": {
             "colorbar": {
              "outlinewidth": 0,
              "ticks": ""
             }
            },
            "type": "scattermapbox"
           }
          ],
          "scatterpolar": [
           {
            "marker": {
             "colorbar": {
              "outlinewidth": 0,
              "ticks": ""
             }
            },
            "type": "scatterpolar"
           }
          ],
          "scatterpolargl": [
           {
            "marker": {
             "colorbar": {
              "outlinewidth": 0,
              "ticks": ""
             }
            },
            "type": "scatterpolargl"
           }
          ],
          "scatterternary": [
           {
            "marker": {
             "colorbar": {
              "outlinewidth": 0,
              "ticks": ""
             }
            },
            "type": "scatterternary"
           }
          ],
          "surface": [
           {
            "colorbar": {
             "outlinewidth": 0,
             "ticks": ""
            },
            "colorscale": [
             [
              0,
              "#0d0887"
             ],
             [
              0.1111111111111111,
              "#46039f"
             ],
             [
              0.2222222222222222,
              "#7201a8"
             ],
             [
              0.3333333333333333,
              "#9c179e"
             ],
             [
              0.4444444444444444,
              "#bd3786"
             ],
             [
              0.5555555555555556,
              "#d8576b"
             ],
             [
              0.6666666666666666,
              "#ed7953"
             ],
             [
              0.7777777777777778,
              "#fb9f3a"
             ],
             [
              0.8888888888888888,
              "#fdca26"
             ],
             [
              1,
              "#f0f921"
             ]
            ],
            "type": "surface"
           }
          ],
          "table": [
           {
            "cells": {
             "fill": {
              "color": "#EBF0F8"
             },
             "line": {
              "color": "white"
             }
            },
            "header": {
             "fill": {
              "color": "#C8D4E3"
             },
             "line": {
              "color": "white"
             }
            },
            "type": "table"
           }
          ]
         },
         "layout": {
          "annotationdefaults": {
           "arrowcolor": "#2a3f5f",
           "arrowhead": 0,
           "arrowwidth": 1
          },
          "autotypenumbers": "strict",
          "coloraxis": {
           "colorbar": {
            "outlinewidth": 0,
            "ticks": ""
           }
          },
          "colorscale": {
           "diverging": [
            [
             0,
             "#8e0152"
            ],
            [
             0.1,
             "#c51b7d"
            ],
            [
             0.2,
             "#de77ae"
            ],
            [
             0.3,
             "#f1b6da"
            ],
            [
             0.4,
             "#fde0ef"
            ],
            [
             0.5,
             "#f7f7f7"
            ],
            [
             0.6,
             "#e6f5d0"
            ],
            [
             0.7,
             "#b8e186"
            ],
            [
             0.8,
             "#7fbc41"
            ],
            [
             0.9,
             "#4d9221"
            ],
            [
             1,
             "#276419"
            ]
           ],
           "sequential": [
            [
             0,
             "#0d0887"
            ],
            [
             0.1111111111111111,
             "#46039f"
            ],
            [
             0.2222222222222222,
             "#7201a8"
            ],
            [
             0.3333333333333333,
             "#9c179e"
            ],
            [
             0.4444444444444444,
             "#bd3786"
            ],
            [
             0.5555555555555556,
             "#d8576b"
            ],
            [
             0.6666666666666666,
             "#ed7953"
            ],
            [
             0.7777777777777778,
             "#fb9f3a"
            ],
            [
             0.8888888888888888,
             "#fdca26"
            ],
            [
             1,
             "#f0f921"
            ]
           ],
           "sequentialminus": [
            [
             0,
             "#0d0887"
            ],
            [
             0.1111111111111111,
             "#46039f"
            ],
            [
             0.2222222222222222,
             "#7201a8"
            ],
            [
             0.3333333333333333,
             "#9c179e"
            ],
            [
             0.4444444444444444,
             "#bd3786"
            ],
            [
             0.5555555555555556,
             "#d8576b"
            ],
            [
             0.6666666666666666,
             "#ed7953"
            ],
            [
             0.7777777777777778,
             "#fb9f3a"
            ],
            [
             0.8888888888888888,
             "#fdca26"
            ],
            [
             1,
             "#f0f921"
            ]
           ]
          },
          "colorway": [
           "#636efa",
           "#EF553B",
           "#00cc96",
           "#ab63fa",
           "#FFA15A",
           "#19d3f3",
           "#FF6692",
           "#B6E880",
           "#FF97FF",
           "#FECB52"
          ],
          "font": {
           "color": "#2a3f5f"
          },
          "geo": {
           "bgcolor": "white",
           "lakecolor": "white",
           "landcolor": "white",
           "showlakes": true,
           "showland": true,
           "subunitcolor": "#C8D4E3"
          },
          "hoverlabel": {
           "align": "left"
          },
          "hovermode": "closest",
          "mapbox": {
           "style": "light"
          },
          "paper_bgcolor": "white",
          "plot_bgcolor": "white",
          "polar": {
           "angularaxis": {
            "gridcolor": "#EBF0F8",
            "linecolor": "#EBF0F8",
            "ticks": ""
           },
           "bgcolor": "white",
           "radialaxis": {
            "gridcolor": "#EBF0F8",
            "linecolor": "#EBF0F8",
            "ticks": ""
           }
          },
          "scene": {
           "xaxis": {
            "backgroundcolor": "white",
            "gridcolor": "#DFE8F3",
            "gridwidth": 2,
            "linecolor": "#EBF0F8",
            "showbackground": true,
            "ticks": "",
            "zerolinecolor": "#EBF0F8"
           },
           "yaxis": {
            "backgroundcolor": "white",
            "gridcolor": "#DFE8F3",
            "gridwidth": 2,
            "linecolor": "#EBF0F8",
            "showbackground": true,
            "ticks": "",
            "zerolinecolor": "#EBF0F8"
           },
           "zaxis": {
            "backgroundcolor": "white",
            "gridcolor": "#DFE8F3",
            "gridwidth": 2,
            "linecolor": "#EBF0F8",
            "showbackground": true,
            "ticks": "",
            "zerolinecolor": "#EBF0F8"
           }
          },
          "shapedefaults": {
           "line": {
            "color": "#2a3f5f"
           }
          },
          "ternary": {
           "aaxis": {
            "gridcolor": "#DFE8F3",
            "linecolor": "#A2B1C6",
            "ticks": ""
           },
           "baxis": {
            "gridcolor": "#DFE8F3",
            "linecolor": "#A2B1C6",
            "ticks": ""
           },
           "bgcolor": "white",
           "caxis": {
            "gridcolor": "#DFE8F3",
            "linecolor": "#A2B1C6",
            "ticks": ""
           }
          },
          "title": {
           "x": 0.05
          },
          "xaxis": {
           "automargin": true,
           "gridcolor": "#EBF0F8",
           "linecolor": "#EBF0F8",
           "ticks": "",
           "title": {
            "standoff": 15
           },
           "zerolinecolor": "#EBF0F8",
           "zerolinewidth": 2
          },
          "yaxis": {
           "automargin": true,
           "gridcolor": "#EBF0F8",
           "linecolor": "#EBF0F8",
           "ticks": "",
           "title": {
            "standoff": 15
           },
           "zerolinecolor": "#EBF0F8",
           "zerolinewidth": 2
          }
         }
        },
        "title": {
         "text": "Dose 3 Positive"
        },
        "width": 500,
        "xaxis": {
         "constrain": "domain",
         "domain": [
          0.02941176470588236,
          0.9705882352941176
         ],
         "linecolor": "black",
         "range": [
          0,
          1
         ],
         "title": {
          "text": "False Positive Rate"
         },
         "type": "linear"
        },
        "yaxis": {
         "domain": [
          0,
          1
         ],
         "linecolor": "black",
         "range": [
          0,
          1
         ],
         "scaleanchor": "x",
         "scaleratio": 1,
         "title": {
          "text": "True Positive Rate"
         },
         "type": "linear"
        }
       }
      },
      "image/png": "[encoded data removed]",
      "text/html": [
       "<div>                            <div id=\"f3b329f6-0e64-4436-8b00-1174a49d4996\" class=\"plotly-graph-div\" style=\"height:500px; width:500px;\"></div>            <script type=\"text/javascript\">                require([\"plotly\"], function(Plotly) {                    window.PLOTLYENV=window.PLOTLYENV || {};                                    if (document.getElementById(\"f3b329f6-0e64-4436-8b00-1174a49d4996\")) {                    Plotly.newPlot(                        \"f3b329f6-0e64-4436-8b00-1174a49d4996\",                        [{\"hoverinfo\":\"skip\",\"line\":{\"color\":\"rgba( 152,52, 219, 0.5)\",\"width\":1},\"name\":\"SD\",\"showlegend\":true,\"x\":[0.0,0.010101010101010102,0.020202020202020204,0.030303030303030304,0.04040404040404041,0.05050505050505051,0.06060606060606061,0.07070707070707072,0.08080808080808081,0.09090909090909091,0.10101010101010102,0.11111111111111112,0.12121212121212122,0.13131313131313133,0.14141414141414144,0.15151515151515152,0.16161616161616163,0.17171717171717174,0.18181818181818182,0.19191919191919193,0.20202020202020204,0.21212121212121213,0.22222222222222224,0.23232323232323235,0.24242424242424243,0.25252525252525254,0.26262626262626265,0.27272727272727276,0.2828282828282829,0.29292929292929293,0.30303030303030304,0.31313131313131315,0.32323232323232326,0.33333333333333337,0.3434343434343435,0.3535353535353536,0.36363636363636365,0.37373737373737376,0.38383838383838387,0.393939393939394,0.4040404040404041,0.4141414141414142,0.42424242424242425,0.43434343434343436,0.4444444444444445,0.4545454545454546,0.4646464646464647,0.4747474747474748,0.48484848484848486,0.494949494949495,0.5050505050505051,0.5151515151515152,0.5252525252525253,0.5353535353535354,0.5454545454545455,0.5555555555555556,0.5656565656565657,0.5757575757575758,0.5858585858585859,0.595959595959596,0.6060606060606061,0.6161616161616162,0.6262626262626263,0.6363636363636365,0.6464646464646465,0.6565656565656566,0.6666666666666667,0.6767676767676768,0.686868686868687,0.696969696969697,0.7070707070707072,0.7171717171717172,0.7272727272727273,0.7373737373737375,0.7474747474747475,0.7575757575757577,0.7676767676767677,0.7777777777777778,0.787878787878788,0.797979797979798,0.8080808080808082,0.8181818181818182,0.8282828282828284,0.8383838383838385,0.8484848484848485,0.8585858585858587,0.8686868686868687,0.8787878787878789,0.888888888888889,0.8989898989898991,0.9090909090909092,0.9191919191919192,0.9292929292929294,0.9393939393939394,0.9494949494949496,0.9595959595959597,0.9696969696969697,0.9797979797979799,0.98989898989899,1.0],\"y\":[0.0,1.0,1.0,1.0,1.0,1.0,1.0,1.0,1.0,1.0,1.0,1.0,1.0,1.0,1.0,1.0,1.0,1.0,1.0,1.0,1.0,1.0,1.0,1.0,1.0,1.0,1.0,1.0,1.0,1.0,1.0,1.0,1.0,1.0,1.0,1.0,1.0,1.0,1.0,1.0,1.0,1.0,1.0,1.0,1.0,1.0,1.0,1.0,1.0,1.0,1.0,1.0,1.0,1.0,1.0,1.0,1.0,1.0,1.0,1.0,1.0,1.0,1.0,1.0,1.0,1.0,1.0,1.0,1.0,1.0,1.0,1.0,1.0,1.0,1.0,1.0,1.0,1.0,1.0,1.0,1.0,1.0,1.0,1.0,1.0,1.0,1.0,1.0,1.0,1.0,1.0,1.0,1.0,1.0,1.0,1.0,1.0,1.0,1.0,1.0],\"type\":\"scatter\"},{\"fill\":\"tonexty\",\"fillcolor\":\"rgba( 152,52, 219, 0.2)\",\"hoverinfo\":\"skip\",\"line\":{\"color\":\"rgba( 152,52, 219, 0.5)\",\"width\":1},\"name\":\"lower\",\"showlegend\":false,\"x\":[0.0,0.010101010101010102,0.020202020202020204,0.030303030303030304,0.04040404040404041,0.05050505050505051,0.06060606060606061,0.07070707070707072,0.08080808080808081,0.09090909090909091,0.10101010101010102,0.11111111111111112,0.12121212121212122,0.13131313131313133,0.14141414141414144,0.15151515151515152,0.16161616161616163,0.17171717171717174,0.18181818181818182,0.19191919191919193,0.20202020202020204,0.21212121212121213,0.22222222222222224,0.23232323232323235,0.24242424242424243,0.25252525252525254,0.26262626262626265,0.27272727272727276,0.2828282828282829,0.29292929292929293,0.30303030303030304,0.31313131313131315,0.32323232323232326,0.33333333333333337,0.3434343434343435,0.3535353535353536,0.36363636363636365,0.37373737373737376,0.38383838383838387,0.393939393939394,0.4040404040404041,0.4141414141414142,0.42424242424242425,0.43434343434343436,0.4444444444444445,0.4545454545454546,0.4646464646464647,0.4747474747474748,0.48484848484848486,0.494949494949495,0.5050505050505051,0.5151515151515152,0.5252525252525253,0.5353535353535354,0.5454545454545455,0.5555555555555556,0.5656565656565657,0.5757575757575758,0.5858585858585859,0.595959595959596,0.6060606060606061,0.6161616161616162,0.6262626262626263,0.6363636363636365,0.6464646464646465,0.6565656565656566,0.6666666666666667,0.6767676767676768,0.686868686868687,0.696969696969697,0.7070707070707072,0.7171717171717172,0.7272727272727273,0.7373737373737375,0.7474747474747475,0.7575757575757577,0.7676767676767677,0.7777777777777778,0.787878787878788,0.797979797979798,0.8080808080808082,0.8181818181818182,0.8282828282828284,0.8383838383838385,0.8484848484848485,0.8585858585858587,0.8686868686868687,0.8787878787878789,0.888888888888889,0.8989898989898991,0.9090909090909092,0.9191919191919192,0.9292929292929294,0.9393939393939394,0.9494949494949496,0.9595959595959597,0.9696969696969697,0.9797979797979799,0.98989898989899,1.0],\"y\":[0.0,0.41458980337503154,0.41458980337503154,0.41458980337503154,0.41458980337503154,0.41458980337503154,0.41458980337503154,0.41458980337503154,0.41458980337503154,0.41458980337503154,0.41458980337503154,0.41458980337503154,0.41458980337503154,0.41458980337503154,0.41458980337503154,0.41458980337503154,0.41458980337503154,0.5298437881283575,0.5298437881283575,0.5298437881283575,0.6000000000000001,0.6000000000000001,0.6000000000000001,0.6000000000000001,0.6000000000000001,0.6000000000000001,0.6000000000000001,0.6000000000000001,0.6000000000000001,0.6000000000000001,0.6000000000000001,0.6000000000000001,0.6000000000000001,0.6000000000000001,0.6000000000000001,0.6000000000000001,0.6000000000000001,0.6000000000000001,0.6000000000000001,0.6000000000000001,1.0,1.0,1.0,1.0,1.0,1.0,1.0,1.0,1.0,1.0,1.0,1.0,1.0,1.0,1.0,1.0,1.0,1.0,1.0,1.0,1.0,1.0,1.0,1.0,1.0,1.0,1.0,1.0,1.0,1.0,1.0,1.0,1.0,1.0,1.0,1.0,1.0,1.0,1.0,1.0,1.0,1.0,1.0,1.0,1.0,1.0,1.0,1.0,1.0,1.0,1.0,1.0,1.0,1.0,1.0,1.0,1.0,1.0,1.0,1.0],\"type\":\"scatter\"},{\"hoverinfo\":\"skip\",\"line\":{\"color\":\"rgba( 128,41, 185, 1.0)\",\"width\":2},\"name\":\"AUC: 0.933\",\"showlegend\":true,\"x\":[0.0,0.010101010101010102,0.020202020202020204,0.030303030303030304,0.04040404040404041,0.05050505050505051,0.06060606060606061,0.07070707070707072,0.08080808080808081,0.09090909090909091,0.10101010101010102,0.11111111111111112,0.12121212121212122,0.13131313131313133,0.14141414141414144,0.15151515151515152,0.16161616161616163,0.17171717171717174,0.18181818181818182,0.19191919191919193,0.20202020202020204,0.21212121212121213,0.22222222222222224,0.23232323232323235,0.24242424242424243,0.25252525252525254,0.26262626262626265,0.27272727272727276,0.2828282828282829,0.29292929292929293,0.30303030303030304,0.31313131313131315,0.32323232323232326,0.33333333333333337,0.3434343434343435,0.3535353535353536,0.36363636363636365,0.37373737373737376,0.38383838383838387,0.393939393939394,0.4040404040404041,0.4141414141414142,0.42424242424242425,0.43434343434343436,0.4444444444444445,0.4545454545454546,0.4646464646464647,0.4747474747474748,0.48484848484848486,0.494949494949495,0.5050505050505051,0.5151515151515152,0.5252525252525253,0.5353535353535354,0.5454545454545455,0.5555555555555556,0.5656565656565657,0.5757575757575758,0.5858585858585859,0.595959595959596,0.6060606060606061,0.6161616161616162,0.6262626262626263,0.6363636363636365,0.6464646464646465,0.6565656565656566,0.6666666666666667,0.6767676767676768,0.686868686868687,0.696969696969697,0.7070707070707072,0.7171717171717172,0.7272727272727273,0.7373737373737375,0.7474747474747475,0.7575757575757577,0.7676767676767677,0.7777777777777778,0.787878787878788,0.797979797979798,0.8080808080808082,0.8181818181818182,0.8282828282828284,0.8383838383838385,0.8484848484848485,0.8585858585858587,0.8686868686868687,0.8787878787878789,0.888888888888889,0.8989898989898991,0.9090909090909092,0.9191919191919192,0.9292929292929294,0.9393939393939394,0.9494949494949496,0.9595959595959597,0.9696969696969697,0.9797979797979799,0.98989898989899,1.0],\"y\":[0.0,0.75,0.75,0.75,0.75,0.75,0.75,0.75,0.75,0.75,0.75,0.75,0.75,0.75,0.75,0.75,0.75,0.85,0.85,0.85,0.9,0.9,0.9,0.9,0.9,0.9,0.9,0.9,0.9,0.9,0.9,0.9,0.9,0.9,0.9,0.9,0.9,0.9,0.9,0.9,1.0,1.0,1.0,1.0,1.0,1.0,1.0,1.0,1.0,1.0,1.0,1.0,1.0,1.0,1.0,1.0,1.0,1.0,1.0,1.0,1.0,1.0,1.0,1.0,1.0,1.0,1.0,1.0,1.0,1.0,1.0,1.0,1.0,1.0,1.0,1.0,1.0,1.0,1.0,1.0,1.0,1.0,1.0,1.0,1.0,1.0,1.0,1.0,1.0,1.0,1.0,1.0,1.0,1.0,1.0,1.0,1.0,1.0,1.0,1.0],\"type\":\"scatter\"}],                        {\"template\":{\"data\":{\"barpolar\":[{\"marker\":{\"line\":{\"color\":\"white\",\"width\":0.5},\"pattern\":{\"fillmode\":\"overlay\",\"size\":10,\"solidity\":0.2}},\"type\":\"barpolar\"}],\"bar\":[{\"error_x\":{\"color\":\"#2a3f5f\"},\"error_y\":{\"color\":\"#2a3f5f\"},\"marker\":{\"line\":{\"color\":\"white\",\"width\":0.5},\"pattern\":{\"fillmode\":\"overlay\",\"size\":10,\"solidity\":0.2}},\"type\":\"bar\"}],\"carpet\":[{\"aaxis\":{\"endlinecolor\":\"#2a3f5f\",\"gridcolor\":\"#C8D4E3\",\"linecolor\":\"#C8D4E3\",\"minorgridcolor\":\"#C8D4E3\",\"startlinecolor\":\"#2a3f5f\"},\"baxis\":{\"endlinecolor\":\"#2a3f5f\",\"gridcolor\":\"#C8D4E3\",\"linecolor\":\"#C8D4E3\",\"minorgridcolor\":\"#C8D4E3\",\"startlinecolor\":\"#2a3f5f\"},\"type\":\"carpet\"}],\"choropleth\":[{\"colorbar\":{\"outlinewidth\":0,\"ticks\":\"\"},\"type\":\"choropleth\"}],\"contourcarpet\":[{\"colorbar\":{\"outlinewidth\":0,\"ticks\":\"\"},\"type\":\"contourcarpet\"}],\"contour\":[{\"colorbar\":{\"outlinewidth\":0,\"ticks\":\"\"},\"colorscale\":[[0.0,\"#0d0887\"],[0.1111111111111111,\"#46039f\"],[0.2222222222222222,\"#7201a8\"],[0.3333333333333333,\"#9c179e\"],[0.4444444444444444,\"#bd3786\"],[0.5555555555555556,\"#d8576b\"],[0.6666666666666666,\"#ed7953\"],[0.7777777777777778,\"#fb9f3a\"],[0.8888888888888888,\"#fdca26\"],[1.0,\"#f0f921\"]],\"type\":\"contour\"}],\"heatmapgl\":[{\"colorbar\":{\"outlinewidth\":0,\"ticks\":\"\"},\"colorscale\":[[0.0,\"#0d0887\"],[0.1111111111111111,\"#46039f\"],[0.2222222222222222,\"#7201a8\"],[0.3333333333333333,\"#9c179e\"],[0.4444444444444444,\"#bd3786\"],[0.5555555555555556,\"#d8576b\"],[0.6666666666666666,\"#ed7953\"],[0.7777777777777778,\"#fb9f3a\"],[0.8888888888888888,\"#fdca26\"],[1.0,\"#f0f921\"]],\"type\":\"heatmapgl\"}],\"heatmap\":[{\"colorbar\":{\"outlinewidth\":0,\"ticks\":\"\"},\"colorscale\":[[0.0,\"#0d0887\"],[0.1111111111111111,\"#46039f\"],[0.2222222222222222,\"#7201a8\"],[0.3333333333333333,\"#9c179e\"],[0.4444444444444444,\"#bd3786\"],[0.5555555555555556,\"#d8576b\"],[0.6666666666666666,\"#ed7953\"],[0.7777777777777778,\"#fb9f3a\"],[0.8888888888888888,\"#fdca26\"],[1.0,\"#f0f921\"]],\"type\":\"heatmap\"}],\"histogram2dcontour\":[{\"colorbar\":{\"outlinewidth\":0,\"ticks\":\"\"},\"colorscale\":[[0.0,\"#0d0887\"],[0.1111111111111111,\"#46039f\"],[0.2222222222222222,\"#7201a8\"],[0.3333333333333333,\"#9c179e\"],[0.4444444444444444,\"#bd3786\"],[0.5555555555555556,\"#d8576b\"],[0.6666666666666666,\"#ed7953\"],[0.7777777777777778,\"#fb9f3a\"],[0.8888888888888888,\"#fdca26\"],[1.0,\"#f0f921\"]],\"type\":\"histogram2dcontour\"}],\"histogram2d\":[{\"colorbar\":{\"outlinewidth\":0,\"ticks\":\"\"},\"colorscale\":[[0.0,\"#0d0887\"],[0.1111111111111111,\"#46039f\"],[0.2222222222222222,\"#7201a8\"],[0.3333333333333333,\"#9c179e\"],[0.4444444444444444,\"#bd3786\"],[0.5555555555555556,\"#d8576b\"],[0.6666666666666666,\"#ed7953\"],[0.7777777777777778,\"#fb9f3a\"],[0.8888888888888888,\"#fdca26\"],[1.0,\"#f0f921\"]],\"type\":\"histogram2d\"}],\"histogram\":[{\"marker\":{\"pattern\":{\"fillmode\":\"overlay\",\"size\":10,\"solidity\":0.2}},\"type\":\"histogram\"}],\"mesh3d\":[{\"colorbar\":{\"outlinewidth\":0,\"ticks\":\"\"},\"type\":\"mesh3d\"}],\"parcoords\":[{\"line\":{\"colorbar\":{\"outlinewidth\":0,\"ticks\":\"\"}},\"type\":\"parcoords\"}],\"pie\":[{\"automargin\":true,\"type\":\"pie\"}],\"scatter3d\":[{\"line\":{\"colorbar\":{\"outlinewidth\":0,\"ticks\":\"\"}},\"marker\":{\"colorbar\":{\"outlinewidth\":0,\"ticks\":\"\"}},\"type\":\"scatter3d\"}],\"scattercarpet\":[{\"marker\":{\"colorbar\":{\"outlinewidth\":0,\"ticks\":\"\"}},\"type\":\"scattercarpet\"}],\"scattergeo\":[{\"marker\":{\"colorbar\":{\"outlinewidth\":0,\"ticks\":\"\"}},\"type\":\"scattergeo\"}],\"scattergl\":[{\"marker\":{\"colorbar\":{\"outlinewidth\":0,\"ticks\":\"\"}},\"type\":\"scattergl\"}],\"scattermapbox\":[{\"marker\":{\"colorbar\":{\"outlinewidth\":0,\"ticks\":\"\"}},\"type\":\"scattermapbox\"}],\"scatterpolargl\":[{\"marker\":{\"colorbar\":{\"outlinewidth\":0,\"ticks\":\"\"}},\"type\":\"scatterpolargl\"}],\"scatterpolar\":[{\"marker\":{\"colorbar\":{\"outlinewidth\":0,\"ticks\":\"\"}},\"type\":\"scatterpolar\"}],\"scatter\":[{\"fillpattern\":{\"fillmode\":\"overlay\",\"size\":10,\"solidity\":0.2},\"type\":\"scatter\"}],\"scatterternary\":[{\"marker\":{\"colorbar\":{\"outlinewidth\":0,\"ticks\":\"\"}},\"type\":\"scatterternary\"}],\"surface\":[{\"colorbar\":{\"outlinewidth\":0,\"ticks\":\"\"},\"colorscale\":[[0.0,\"#0d0887\"],[0.1111111111111111,\"#46039f\"],[0.2222222222222222,\"#7201a8\"],[0.3333333333333333,\"#9c179e\"],[0.4444444444444444,\"#bd3786\"],[0.5555555555555556,\"#d8576b\"],[0.6666666666666666,\"#ed7953\"],[0.7777777777777778,\"#fb9f3a\"],[0.8888888888888888,\"#fdca26\"],[1.0,\"#f0f921\"]],\"type\":\"surface\"}],\"table\":[{\"cells\":{\"fill\":{\"color\":\"#EBF0F8\"},\"line\":{\"color\":\"white\"}},\"header\":{\"fill\":{\"color\":\"#C8D4E3\"},\"line\":{\"color\":\"white\"}},\"type\":\"table\"}]},\"layout\":{\"annotationdefaults\":{\"arrowcolor\":\"#2a3f5f\",\"arrowhead\":0,\"arrowwidth\":1},\"autotypenumbers\":\"strict\",\"coloraxis\":{\"colorbar\":{\"outlinewidth\":0,\"ticks\":\"\"}},\"colorscale\":{\"diverging\":[[0,\"#8e0152\"],[0.1,\"#c51b7d\"],[0.2,\"#de77ae\"],[0.3,\"#f1b6da\"],[0.4,\"#fde0ef\"],[0.5,\"#f7f7f7\"],[0.6,\"#e6f5d0\"],[0.7,\"#b8e186\"],[0.8,\"#7fbc41\"],[0.9,\"#4d9221\"],[1,\"#276419\"]],\"sequential\":[[0.0,\"#0d0887\"],[0.1111111111111111,\"#46039f\"],[0.2222222222222222,\"#7201a8\"],[0.3333333333333333,\"#9c179e\"],[0.4444444444444444,\"#bd3786\"],[0.5555555555555556,\"#d8576b\"],[0.6666666666666666,\"#ed7953\"],[0.7777777777777778,\"#fb9f3a\"],[0.8888888888888888,\"#fdca26\"],[1.0,\"#f0f921\"]],\"sequentialminus\":[[0.0,\"#0d0887\"],[0.1111111111111111,\"#46039f\"],[0.2222222222222222,\"#7201a8\"],[0.3333333333333333,\"#9c179e\"],[0.4444444444444444,\"#bd3786\"],[0.5555555555555556,\"#d8576b\"],[0.6666666666666666,\"#ed7953\"],[0.7777777777777778,\"#fb9f3a\"],[0.8888888888888888,\"#fdca26\"],[1.0,\"#f0f921\"]]},\"colorway\":[\"#636efa\",\"#EF553B\",\"#00cc96\",\"#ab63fa\",\"#FFA15A\",\"#19d3f3\",\"#FF6692\",\"#B6E880\",\"#FF97FF\",\"#FECB52\"],\"font\":{\"color\":\"#2a3f5f\"},\"geo\":{\"bgcolor\":\"white\",\"lakecolor\":\"white\",\"landcolor\":\"white\",\"showlakes\":true,\"showland\":true,\"subunitcolor\":\"#C8D4E3\"},\"hoverlabel\":{\"align\":\"left\"},\"hovermode\":\"closest\",\"mapbox\":{\"style\":\"light\"},\"paper_bgcolor\":\"white\",\"plot_bgcolor\":\"white\",\"polar\":{\"angularaxis\":{\"gridcolor\":\"#EBF0F8\",\"linecolor\":\"#EBF0F8\",\"ticks\":\"\"},\"bgcolor\":\"white\",\"radialaxis\":{\"gridcolor\":\"#EBF0F8\",\"linecolor\":\"#EBF0F8\",\"ticks\":\"\"}},\"scene\":{\"xaxis\":{\"backgroundcolor\":\"white\",\"gridcolor\":\"#DFE8F3\",\"gridwidth\":2,\"linecolor\":\"#EBF0F8\",\"showbackground\":true,\"ticks\":\"\",\"zerolinecolor\":\"#EBF0F8\"},\"yaxis\":{\"backgroundcolor\":\"white\",\"gridcolor\":\"#DFE8F3\",\"gridwidth\":2,\"linecolor\":\"#EBF0F8\",\"showbackground\":true,\"ticks\":\"\",\"zerolinecolor\":\"#EBF0F8\"},\"zaxis\":{\"backgroundcolor\":\"white\",\"gridcolor\":\"#DFE8F3\",\"gridwidth\":2,\"linecolor\":\"#EBF0F8\",\"showbackground\":true,\"ticks\":\"\",\"zerolinecolor\":\"#EBF0F8\"}},\"shapedefaults\":{\"line\":{\"color\":\"#2a3f5f\"}},\"ternary\":{\"aaxis\":{\"gridcolor\":\"#DFE8F3\",\"linecolor\":\"#A2B1C6\",\"ticks\":\"\"},\"baxis\":{\"gridcolor\":\"#DFE8F3\",\"linecolor\":\"#A2B1C6\",\"ticks\":\"\"},\"bgcolor\":\"white\",\"caxis\":{\"gridcolor\":\"#DFE8F3\",\"linecolor\":\"#A2B1C6\",\"ticks\":\"\"}},\"title\":{\"x\":0.05},\"xaxis\":{\"automargin\":true,\"gridcolor\":\"#EBF0F8\",\"linecolor\":\"#EBF0F8\",\"ticks\":\"\",\"title\":{\"standoff\":15},\"zerolinecolor\":\"#EBF0F8\",\"zerolinewidth\":2},\"yaxis\":{\"automargin\":true,\"gridcolor\":\"#EBF0F8\",\"linecolor\":\"#EBF0F8\",\"ticks\":\"\",\"title\":{\"standoff\":15},\"zerolinecolor\":\"#EBF0F8\",\"zerolinewidth\":2}}},\"shapes\":[{\"line\":{\"dash\":\"dash\"},\"type\":\"line\",\"x0\":0,\"x1\":1,\"y0\":0,\"y1\":1}],\"title\":{\"text\":\"Dose 3 Positive\"},\"legend\":{\"yanchor\":\"bottom\",\"xanchor\":\"right\",\"x\":0.95,\"y\":0.01},\"xaxis\":{\"title\":{\"text\":\"False Positive Rate\"},\"range\":[0,1],\"constrain\":\"domain\",\"linecolor\":\"black\"},\"yaxis\":{\"title\":{\"text\":\"True Positive Rate\"},\"range\":[0,1],\"scaleanchor\":\"x\",\"scaleratio\":1,\"linecolor\":\"black\"},\"width\":500,\"height\":500},                        {\"responsive\": true}                    ).then(function(){\n",
       "                            \n",
       "var gd = document.getElementById('f3b329f6-0e64-4436-8b00-1174a49d4996');\n",
       "var x = new MutationObserver(function (mutations, observer) {{\n",
       "        var display = window.getComputedStyle(gd).display;\n",
       "        if (!display || display === 'none') {{\n",
       "            console.log([gd, 'removed!']);\n",
       "            Plotly.purge(gd);\n",
       "            observer.disconnect();\n",
       "        }}\n",
       "}});\n",
       "\n",
       "// Listen for the removal of the full notebook cells\n",
       "var notebookContainer = gd.closest('#notebook-container');\n",
       "if (notebookContainer) {{\n",
       "    x.observe(notebookContainer, {childList: true});\n",
       "}}\n",
       "\n",
       "// Listen for the clearing of the current output cell\n",
       "var outputEl = gd.closest('.output');\n",
       "if (outputEl) {{\n",
       "    x.observe(outputEl, {childList: true});\n",
       "}}\n",
       "\n",
       "                        })                };                });            </script>        </div>"
      ]
     },
     "metadata": {},
     "output_type": "display_data"
    }
   ],
   "source": [
    "c_line      = 'rgba( 152,52, 219, 0.5)'\n",
    "c_fill      = 'rgba( 152,52, 219, 0.2)'\n",
    "c_line_main = 'rgba( 128,41, 185, 1.0)'\n",
    "c_grid      = 'rgba( 195,189, 199, 0.5)'\n",
    "\n",
    "fig4 = go.Figure([\n",
    "    go.Scatter(\n",
    "        x          = fpr_mean,\n",
    "        y          = tpr_upper_d3_p,\n",
    "        line       = dict(color=c_line, width=1),\n",
    "        hoverinfo  = \"skip\",\n",
    "        showlegend = True,\n",
    "        name       = 'SD'),\n",
    "    go.Scatter(\n",
    "        x          = fpr_mean,\n",
    "        y          = tpr_lower_d3_p,\n",
    "        fill       = 'tonexty',\n",
    "        fillcolor  = c_fill,\n",
    "        line       = dict(color=c_line, width=1),\n",
    "        hoverinfo  = \"skip\",\n",
    "        showlegend = False,\n",
    "        name       = 'lower'),\n",
    "    go.Scatter(\n",
    "        x          = fpr_mean,\n",
    "        y          = tpr_mean_d3_p,\n",
    "        line       = dict(color=c_line_main, width=2),\n",
    "        hoverinfo  = \"skip\",\n",
    "        showlegend = True,\n",
    "        name       = 'AUC: 0.933')\n",
    "]\n",
    ")\n",
    "fig4.add_shape(\n",
    "    type ='line', \n",
    "    line =dict(dash='dash'),\n",
    "    x0=0, x1=1, y0=0, y1=1\n",
    ")\n",
    "fig4.update_layout(\n",
    "    template    = 'plotly_white', \n",
    "    title_x     = 0.5,\n",
    "    title = \"Dose 3 Positive\",\n",
    "    xaxis_title = \"False Positive Rate\",\n",
    "    yaxis_title = \"True Positive Rate\",\n",
    "    width       = 500,\n",
    "    height      = 500,\n",
    "    legend      = dict(\n",
    "        yanchor=\"bottom\", \n",
    "        xanchor=\"right\", \n",
    "        x=0.95,\n",
    "        y=0.01,\n",
    "    )\n",
    ")\n",
    "fig4.update_yaxes(\n",
    "    range       = [0, 1],\n",
    "    scaleanchor = \"x\", \n",
    "    scaleratio  = 1,\n",
    "    linecolor   = 'black')\n",
    "fig4.update_xaxes(\n",
    "    range       = [0, 1],\n",
    "    constrain   = 'domain',\n",
    "    linecolor   = 'black')\n",
    "fig4.write_image(\"fig_ml_D.svg\")\n",
    "fig4"
   ]
  },
  {
   "cell_type": "code",
   "execution_count": 30,
   "id": "d6e466fb-cbc5-42a4-abaf-9ad9ec17ea56",
   "metadata": {},
   "outputs": [],
   "source": [
    "df =data[\"data\"]['[SVM_RFE]']\n",
    "df.to_csv(fold + \"/res/table.csv\",index=False)\n"
   ]
  }
 ],
 "metadata": {
  "kernelspec": {
   "display_name": "Python 3 (ipykernel)",
   "language": "python",
   "name": "python3"
  },
  "language_info": {
   "codemirror_mode": {
    "name": "ipython",
    "version": 3
   },
   "file_extension": ".py",
   "mimetype": "text/x-python",
   "name": "python",
   "nbconvert_exporter": "python",
   "pygments_lexer": "ipython3",
   "version": "3.9.16"
  }
 },
 "nbformat": 4,
 "nbformat_minor": 5
}
