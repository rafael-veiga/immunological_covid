{
 "cells": [
  {
   "cell_type": "code",
   "execution_count": 7,
   "id": "99141d3a-56c2-487e-87de-d63fdf8eac19",
   "metadata": {},
   "outputs": [],
   "source": [
    "import plotly.express as px\n",
    "from sklearn.preprocessing import StandardScaler\n",
    "from sklearn.decomposition import PCA\n",
    "from sklearn.discriminant_analysis import LinearDiscriminantAnalysis\n",
    "import umap\n",
    "from plotly.subplots import make_subplots\n",
    "import plotly.graph_objects as go\n",
    "import pickle as pk\n",
    "import pandas as pd\n",
    "import numpy as np\n",
    "from sklearn.metrics import roc_curve,auc,calinski_harabasz_score\n",
    "from sklearn.decomposition import PCA\n",
    "from sklearn.manifold import TSNE\n",
    "import os\n",
    "fold = os.getcwd()"
   ]
  },
  {
   "cell_type": "markdown",
   "id": "b1bbe675-2dab-4392-98f8-2408c7737778",
   "metadata": {},
   "source": [
    "## Fig 1"
   ]
  },
  {
   "cell_type": "code",
   "execution_count": 8,
   "id": "50d86bc6-280d-4c04-971f-28a5bc054d1f",
   "metadata": {},
   "outputs": [
    {
     "name": "stderr",
     "output_type": "stream",
     "text": [
      "C:\\Users\\rafae\\AppData\\Local\\Temp\\ipykernel_21304\\4245461386.py:17: SettingWithCopyWarning:\n",
      "\n",
      "\n",
      "A value is trying to be set on a copy of a slice from a DataFrame.\n",
      "Try using .loc[row_indexer,col_indexer] = value instead\n",
      "\n",
      "See the caveats in the documentation: https://pandas.pydata.org/pandas-docs/stable/user_guide/indexing.html#returning-a-view-versus-a-copy\n",
      "\n",
      "C:\\Users\\rafae\\AppData\\Local\\Temp\\ipykernel_21304\\4245461386.py:18: SettingWithCopyWarning:\n",
      "\n",
      "\n",
      "A value is trying to be set on a copy of a slice from a DataFrame.\n",
      "Try using .loc[row_indexer,col_indexer] = value instead\n",
      "\n",
      "See the caveats in the documentation: https://pandas.pydata.org/pandas-docs/stable/user_guide/indexing.html#returning-a-view-versus-a-copy\n",
      "\n",
      "C:\\Users\\rafae\\AppData\\Local\\Temp\\ipykernel_21304\\4245461386.py:21: SettingWithCopyWarning:\n",
      "\n",
      "\n",
      "A value is trying to be set on a copy of a slice from a DataFrame.\n",
      "Try using .loc[row_indexer,col_indexer] = value instead\n",
      "\n",
      "See the caveats in the documentation: https://pandas.pydata.org/pandas-docs/stable/user_guide/indexing.html#returning-a-view-versus-a-copy\n",
      "\n",
      "C:\\Users\\rafae\\AppData\\Local\\Temp\\ipykernel_21304\\4245461386.py:22: SettingWithCopyWarning:\n",
      "\n",
      "\n",
      "A value is trying to be set on a copy of a slice from a DataFrame.\n",
      "Try using .loc[row_indexer,col_indexer] = value instead\n",
      "\n",
      "See the caveats in the documentation: https://pandas.pydata.org/pandas-docs/stable/user_guide/indexing.html#returning-a-view-versus-a-copy\n",
      "\n"
     ]
    },
    {
     "data": {
      "application/vnd.jupyter.widget-view+json": {
       "model_id": "dd6b4001988c4b07901695129c420e2e",
       "version_major": 2,
       "version_minor": 0
      },
      "text/plain": [
       "FigureWidget({\n",
       "    'data': [{'error_x': {'array': array([ 0.54973018,  0.44724618,  0.51706428,  2.53968202,  2.48960591,\n",
       "                                           2.71108199,  3.40288882,  5.87866487, 10.97859664, 10.81060984]),\n",
       "                          'arrayminus': array([0.22562748, 0.21261631, 0.23187106, 1.25166478, 1.24846582, 1.34538098,\n",
       "                                               1.50964694, 2.10482277, 2.88260254, 3.23716126]),\n",
       "                          'symmetric': False,\n",
       "                          'type': 'data'},\n",
       "              'marker': {'color': 'black', 'size': 6},\n",
       "              'mode': 'markers',\n",
       "              'type': 'scatter',\n",
       "              'uid': 'f41edbe7-a47e-48f1-a7e8-61870cf4ea72',\n",
       "              'x': array([0.3827004 , 0.40528441, 0.42038954, 2.46800309, 2.50430061, 2.67074426,\n",
       "                          2.71342018, 3.27876667, 3.90896166, 4.62083911]),\n",
       "              'xaxis': 'x',\n",
       "              'y': array(['MFI BAFF-R in BAFF-R+ DN1 B Cells',\n",
       "                          '% CD40+ of Non-Classical Monocytes', '% CD38+ of Monocytes',\n",
       "                          '% CD80+ of DN2 B Cells', 'MFI CD80 in CD80+ CD21- B Cells',\n",
       "                          'MFI CD80 in CD80+ CD21- CD27+ B Cells',\n",
       "                          'MFI CD38 in CD38+ CD27- CD4+ T Cells', 'MFI CD57 in CD57+ DN T Cells',\n",
       "                          'MFI CD38 in CD38+ Non-Classical Monocytes',\n",
       "                          'MFI CD80 in CD80+ DN1 B Cells'], dtype=object),\n",
       "              'yaxis': 'y'},\n",
       "             {'error_x': {'array': array([ 0.44595618,  0.56756465,  0.4334745 ,  0.57051841,  0.52478937,\n",
       "                                           0.54654843,  5.48555685,  5.19375846, 11.18658805, 11.74940247]),\n",
       "                          'arrayminus': array([0.10513582, 0.1245153 , 0.12106773, 0.14441761, 0.14780603, 0.16086518,\n",
       "                                               1.96255155, 1.94704996, 2.94409748, 3.405492  ]),\n",
       "                          'symmetric': False,\n",
       "                          'type': 'data'},\n",
       "              'marker': {'color': 'black', 'size': 6},\n",
       "              'mode': 'markers',\n",
       "              'type': 'scatter',\n",
       "              'uid': '267555d2-4596-47a4-9cff-a53b046eb29b',\n",
       "              'x': array([0.13756797, 0.15950929, 0.16798539, 0.19336483, 0.20575719, 0.22796067,\n",
       "                          3.05582512, 3.11469516, 3.99568618, 4.79541293]),\n",
       "              'xaxis': 'x2',\n",
       "              'y': array(['MFI HLA-DR in HLA-DR+ DN T Cells',\n",
       "                          'MFI HLA-DR in HLA-DR+ CD4+ T Cells', 'MFI CD11c in CD11c DN T Cells',\n",
       "                          'MFI CD57 in CD57+ CD27+ CD8+ T Cells', '% CD27+ of DN T Cells',\n",
       "                          'MFI HLA-DR in HLA-DR+ CD27- CD4+ T Cells',\n",
       "                          'MFI CD40 in CD40+ DN2 B Cells',\n",
       "                          'MFI CD40 in CD40+ CD11c+ CD21- B Cells', '% CD40+ of pDCs',\n",
       "                          '% Non-Classical of Monocytes'], dtype=object),\n",
       "              'yaxis': 'y2'}],\n",
       "    'layout': {'annotations': [{'font': {'size': 16},\n",
       "                                'showarrow': False,\n",
       "                                'text': 'A',\n",
       "                                'x': -0.4,\n",
       "                                'xanchor': 'center',\n",
       "                                'xref': 'paper',\n",
       "                                'y': 1.01,\n",
       "                                'yanchor': 'bottom',\n",
       "                                'yref': 'paper'},\n",
       "                               {'font': {'size': 16},\n",
       "                                'showarrow': False,\n",
       "                                'text': 'B',\n",
       "                                'x': -0.4,\n",
       "                                'xanchor': 'center',\n",
       "                                'xref': 'paper',\n",
       "                                'y': 0.5,\n",
       "                                'yanchor': 'bottom',\n",
       "                                'yref': 'paper'}],\n",
       "               'font': {'family': 'Arial', 'size': 12},\n",
       "               'height': 800,\n",
       "               'plot_bgcolor': 'white',\n",
       "               'shapes': [{'line': {'color': 'black', 'dash': 'dash'},\n",
       "                           'opacity': 1,\n",
       "                           'type': 'line',\n",
       "                           'x0': 1,\n",
       "                           'x1': 1,\n",
       "                           'xref': 'x',\n",
       "                           'y0': 0,\n",
       "                           'y1': 1,\n",
       "                           'yref': 'y domain'},\n",
       "                          {'line': {'color': 'black', 'dash': 'dash'},\n",
       "                           'opacity': 1,\n",
       "                           'type': 'line',\n",
       "                           'x0': 1,\n",
       "                           'x1': 1,\n",
       "                           'xref': 'x2',\n",
       "                           'y0': 0,\n",
       "                           'y1': 1,\n",
       "                           'yref': 'y2 domain'}],\n",
       "               'showlegend': False,\n",
       "               'template': '...',\n",
       "               'width': 1000,\n",
       "               'xaxis': {'anchor': 'y',\n",
       "                         'domain': [0.0, 1.0],\n",
       "                         'linecolor': 'black',\n",
       "                         'range': [-1, 1.3],\n",
       "                         'tickmode': 'array',\n",
       "                         'ticks': 'outside',\n",
       "                         'tickvals': array([ 0.01,  0.02,  0.03,  0.05,  0.08,  0.1 ,  0.2 ,  0.3 ,  0.6 ,  1.  ,\n",
       "                                             2.  ,  3.  ,  4.  ,  7.  , 10.  ]),\n",
       "                         'title': {'text': 'Odds ration'},\n",
       "                         'type': 'log'},\n",
       "               'xaxis2': {'anchor': 'y2',\n",
       "                          'domain': [0.0, 1.0],\n",
       "                          'linecolor': 'black',\n",
       "                          'range': [-1.5, 1.6],\n",
       "                          'tickmode': 'array',\n",
       "                          'ticks': 'outside',\n",
       "                          'tickvals': array([1.e-02, 2.e-02, 5.e-02, 1.e-01, 3.e-01, 6.e-01, 1.e+00, 3.e+00, 7.e+00,\n",
       "                                             2.e+01]),\n",
       "                          'title': {'text': 'Odds ration'},\n",
       "                          'type': 'log'},\n",
       "               'yaxis': {'anchor': 'x',\n",
       "                         'domain': [0.6, 1],\n",
       "                         'linecolor': 'black',\n",
       "                         'range': [-0.5, 9.5],\n",
       "                         'ticks': 'outside',\n",
       "                         'title': {'text': ''}},\n",
       "               'yaxis2': {'anchor': 'x2',\n",
       "                          'domain': [0.0, 0.475],\n",
       "                          'linecolor': 'black',\n",
       "                          'range': [-0.5, 9.5],\n",
       "                          'ticks': 'outside',\n",
       "                          'title': {'text': ''}}}\n",
       "})"
      ]
     },
     "execution_count": 8,
     "metadata": {},
     "output_type": "execute_result"
    }
   ],
   "source": [
    "file = open(fold + \"/data_aux/feature_a1.pkl\",\"rb\")\n",
    "data = pk.load(file)\n",
    "file.close()\n",
    "d2_d = data[\"d2_d\"]\n",
    "d3_p = data[\"d3_p\"]\n",
    "\n",
    "d2_d_lab =pd.read_csv(\"d2_d_lab.csv\",sep=\"\\t\")\n",
    "d2_d_lab = dict(zip(d2_d_lab['var'],d2_d_lab['Short name']))\n",
    "d3_p_lab =pd.read_csv(\"d3_p_lab.csv\",sep=\"\\t\")\n",
    "d3_p_lab = dict(zip(d3_p_lab['var'],d3_p_lab['Short name']))\n",
    "\n",
    "for k in d2_d_lab.keys():\n",
    "    d2_d.loc[d2_d[\"var\"]==k,\"var\"] = d2_d_lab[k]\n",
    "for k in d3_p_lab.keys():\n",
    "    d3_p.loc[d3_p[\"var\"]==k,\"var\"] = d3_p_lab[k]\n",
    "d2_d = d2_d.loc[d2_d.pvalue<=0.05]\n",
    "d2_d.loc[d2_d.index,\"cib\"] = d2_d.ci2 -d2_d[\"or\"]\n",
    "d2_d.loc[d2_d.index,\"cia\"] = d2_d[\"or\"] - d2_d.ci1\n",
    "d2_d = d2_d.sort_values(by=\"mu\",ascending=False).copy()\n",
    "d3_p = d3_p.loc[d3_p.pvalue<=0.05]\n",
    "d3_p.loc[d3_p.index,\"cib\"] = d3_p.ci2 -d3_p[\"or\"]\n",
    "d3_p.loc[d3_p.index,\"cia\"] = d3_p[\"or\"] - d3_p.ci1\n",
    "d3_p = d3_p.sort_values(by=\"mu\",ascending=False).copy()\n",
    "#10 best\n",
    "#10 best\n",
    "d2_d = d2_d.iloc[0:10,:]\n",
    "d2_d = d2_d.sort_values(by=\"or\",ascending=True).copy()\n",
    "d3_p = d3_p.iloc[0:10,:]\n",
    "d3_p = d3_p.sort_values(by=\"or\",ascending=True).copy()\n",
    "\n",
    "f = go.FigureWidget(make_subplots(rows=2,cols=1,subplot_titles=[\"A\",\"B\"],vertical_spacing=0.05))\n",
    "f.add_trace(go.Scatter(x=d2_d[\"or\"], y=d2_d[\"var\"],error_x=dict(\n",
    "            type='data',\n",
    "            symmetric=False,\n",
    "            array=d2_d.cib,\n",
    "            arrayminus=d2_d.cia),mode='markers'),row=1,col=1)\n",
    "f.update_traces(marker=dict(color=\"black\", size=6),selector=dict(type='scatter'))\n",
    "f.layout.xaxis.type=\"log\"\n",
    "f.update_xaxes(range=[-1,1.3],title=\"Odds ration\",row=1,col=1)\n",
    "f.update_yaxes(range=[-0.5, 9.5],title=\"\",row=1,col=1)\n",
    "f.layout.yaxis.domain = (0.6,1)\n",
    "\n",
    "f.add_trace(go.Scatter(x=d3_p[\"or\"], y=d3_p[\"var\"],error_x=dict(\n",
    "            type='data',\n",
    "            symmetric=False,\n",
    "            array=d3_p.cib,\n",
    "            arrayminus=d3_p.cia),mode='markers'),row=2,col=1)\n",
    "f.update_traces(marker=dict(color=\"black\", size=6),selector=dict(type='scatter'))\n",
    "f.layout.xaxis2.type=\"log\"\n",
    "f.update_xaxes(range=[-1.5,1.6],title=\"Odds ration\",row=2,col=1)\n",
    "f.update_yaxes(range=[-0.5, 9.5],title=\"\",row=2,col=1)\n",
    "#f.layout.yaxis2.domain = (0.6,1)\n",
    "\n",
    "f.update_layout(height=800,width = 1000,showlegend=False,font_size=12,font_family=\"Arial\",plot_bgcolor=\"white\",\n",
    "    xaxis=dict(linecolor=\"black\"),xaxis2=dict(linecolor=\"black\"),\n",
    "    yaxis=dict(linecolor=\"black\"),yaxis2=dict(linecolor=\"black\"))\n",
    "f.add_vline(x=1,line_dash=\"dash\",line_color = \"black\",opacity=1,row=1,col=1)\n",
    "f.add_vline(x=1,line_dash=\"dash\",line_color = \"black\",opacity=1,row=2,col=1)\n",
    "f.update_xaxes(ticks=\"outside\")\n",
    "f.update_yaxes(ticks=\"outside\")\n",
    "\n",
    "f.layout[\"annotations\"][0].x=-0.4\n",
    "f.layout[\"annotations\"][1].x=-0.4\n",
    "f.layout[\"annotations\"][0].y=1.01\n",
    "f.layout[\"annotations\"][1].y=0.5\n",
    "f.update_layout(xaxis={\"tickmode\": \"array\",\"tickvals\": pd.to_numeric([f\"{n:.1g}\" for n in np.geomspace(0.01, 12, 15)])})\n",
    "f.update_layout(xaxis2={\"tickmode\": \"array\",\"tickvals\": pd.to_numeric([f\"{n:.1g}\" for n in np.geomspace(0.01, 15, 10)])})\n",
    "f.write_image(\"fig1.svg\")\n",
    "f"
   ]
  },
  {
   "cell_type": "markdown",
   "id": "18fac145-ff03-48fe-a693-3bf38a932407",
   "metadata": {},
   "source": [
    "## Fig 3"
   ]
  },
  {
   "cell_type": "code",
   "execution_count": 9,
   "id": "890001eb-4e01-46f7-9b68-aac35783cd03",
   "metadata": {},
   "outputs": [],
   "source": [
    "def d_euclidian(df,ydf):\n",
    "    tam = len(df.columns)\n",
    "    mh = np.ones(tam)\n",
    "    md = np.ones(tam)\n",
    "    mn = np.ones(tam)\n",
    "    hdf =df.loc[ydf ==\"h\"]\n",
    "    ndf =df.loc[ydf ==\"n\"]\n",
    "    ddf =df.loc[ydf ==\"d\"]\n",
    "    for i in range(tam):\n",
    "        mh[i] = np.mean(hdf.iloc[:,i])\n",
    "        mn[i] = np.mean(ndf.iloc[:,i]) \n",
    "        md[i] = np.mean(ddf.iloc[:,i]) \n",
    "    dhn = np.linalg.norm(mh-mn)\n",
    "    dhd = np.linalg.norm(mh-md)\n",
    "    dnd = np.linalg.norm(mn-md)\n",
    "    return dhn,dhd,dnd\n",
    "\n",
    "def Calinski_Harabasz(df,ydf):\n",
    "    dhn = calinski_harabasz_score(df[ydf!=\"d\"],ydf[ydf!=\"d\"])\n",
    "    dhd = calinski_harabasz_score(df[ydf!=\"n\"],ydf[ydf!=\"n\"])\n",
    "    dnd = calinski_harabasz_score(df[ydf!=\"h\"],ydf[ydf!=\"h\"])\n",
    "    return dhn,dhd,dnd\n",
    "\n",
    "def newton(df,ydf,xi,yi,num_itera,f_dist):\n",
    "    dhn,dhd,dnd = f_dist(df,ydf)\n",
    "    def fxy(x,y):\n",
    "        return np.array([x**2 + y**2 - dhd**2, x**2 + dhn**2 - 2*dhn*y + y**2 - dnd**2])\n",
    "    def jxy(x,y):\n",
    "        return np.array([[2*x,2*y],[2*x,2*y - 2*dhn]])\n",
    "    x = xi\n",
    "    y= yi\n",
    "    for i in range(num_itera):\n",
    "        p = np.linalg.solve(jxy(x,y), -fxy(x,y))\n",
    "        x = x+p[0]\n",
    "        y = y+p[1]\n",
    "        print(str(x)+\" \"+str(y))\n",
    "    return x,y,dhn,dhd,dnd\n",
    "\n",
    "def figure_d2_traces(x,y,dhn,dhd,dnd,leg=False):\n",
    "    data = go.Line(x=[0,0,x,0],\n",
    "                      y=[0,dhn,y,0],\n",
    "                      mode='lines',\n",
    "                      line=dict(width=1, dash='dash', color=\"gray\"),\n",
    "                      name='citations',legendgroup='5',showlegend=False)\n",
    "    dist = go.Scatter(x=[0,x/2,x/2],\n",
    "                      y=[dhn/2,y/2,(y-dhn)/2+dhn],\n",
    "                      text=[\"{:.2f}\".format(dhn),\"{:.2f}\".format(dhd),\"{:.2f}\".format(dnd)],\n",
    "                      textposition='top right',\n",
    "                      mode='text',legendgroup='5',showlegend=False)\n",
    "    Hfig = go.Scatter(x=[0],y=[0],mode=\"markers\",\n",
    "                      marker=dict(color=\"#7f7f7f\",symbol=\"cross\",size=12), \n",
    "                      #text=[\"Healthy\"],\n",
    "                      #textposition='middle right',\n",
    "                      #textfont=dict(color='#7f7f7f'),\n",
    "                      name = \"Healthy\",legendgroup='1',showlegend=leg\n",
    "    )\n",
    "    Nfig = go.Scatter(x=[0],y=[dhn],mode=\"markers\",\n",
    "                      marker=dict(color=\"#ff7f0e\",symbol=\"star\",size=12), \n",
    "                      #text=[\"Dose 2 non-responders\"],\n",
    "                      #textposition='middle left',\n",
    "                      #textfont=dict(color='#ff7f0e'),\n",
    "                      name = \"Dose 2 non-responders\",legendgroup='1',showlegend=leg\n",
    "    )\n",
    "    Dfig = go.Scatter(x=[x],y=[y],mode=\"markers\",\n",
    "                      marker=dict(color=\"#1f77b4\",size=12), \n",
    "                      #text=[\"Dose 2 detectable\"],\n",
    "                      #textposition='middle right',\n",
    "                      #textfont=dict(color='#1f77b4'),\n",
    "                      name = \"Dose 2 detectable\",legendgroup='1',showlegend=leg\n",
    "    )\n",
    "    return data,dist,Nfig,Hfig,Dfig\n",
    "\n",
    "def figure_d3_traces(x,y,dhn,dhd,dnd,leg=False):\n",
    "    data = go.Line(x=[0,0,x,0],\n",
    "                      y=[0,dhn,y,0],\n",
    "                      mode='lines',\n",
    "                      line=dict(width=1, dash='dash', color=\"gray\"),\n",
    "                      name='citations',legendgroup='5',showlegend=False)\n",
    "    dist = go.Scatter(x=[0,x/2,x/2],\n",
    "                      y=[dhn/2,y/2,(y-dhn)/2+dhn],\n",
    "                      text=[\"{:.2f}\".format(dhn),\"{:.2f}\".format(dhd),\"{:.2f}\".format(dnd)],\n",
    "                      textposition='top right',\n",
    "                      mode='text',legendgroup='5',showlegend=False)\n",
    "    Hfig = go.Scatter(x=[0],y=[0],mode=\"markers\",\n",
    "                      marker=dict(color=\"#7f7f7f\",symbol=\"cross\",size=12), \n",
    "                      #text=[\"Healthy\"],\n",
    "                      #textposition='middle right',\n",
    "                      #textfont=dict(color='#7f7f7f'),\n",
    "                      name = \"Healthy\",legendgroup='2',showlegend=leg\n",
    "    )\n",
    "    Nfig = go.Scatter(x=[0],y=[dhn],mode=\"markers\",\n",
    "                      marker=dict(color=\"#ffaa00\",symbol=\"star\",size=12), \n",
    "                      #text=[\"Dose 2 non-responders\"],\n",
    "                      #textposition='middle left',\n",
    "                      #textfont=dict(color='#ff7f0e'),\n",
    "                      name = \"Dose 3 non-positives\",legendgroup='2',showlegend=leg\n",
    "    )\n",
    "    Dfig = go.Scatter(x=[x],y=[y],mode=\"markers\",\n",
    "                      marker=dict(color=\"#2ca02c\",size=12), \n",
    "                      #text=[\"Dose 2 detectable\"],\n",
    "                      #textposition='middle right',\n",
    "                      #textfont=dict(color='#1f77b4'),\n",
    "                      name = \"Dose 3 positives\",legendgroup='2',showlegend=leg\n",
    "    )\n",
    "    return data,dist,Nfig,Hfig,Dfig"
   ]
  },
  {
   "cell_type": "code",
   "execution_count": 10,
   "id": "66696cb6-9649-4182-9c05-dadd7b88bcd0",
   "metadata": {},
   "outputs": [
    {
     "name": "stderr",
     "output_type": "stream",
     "text": [
      "C:\\Users\\rafae\\AppData\\Local\\Temp\\ipykernel_21304\\3783862720.py:20: SettingWithCopyWarning:\n",
      "\n",
      "\n",
      "A value is trying to be set on a copy of a slice from a DataFrame\n",
      "\n",
      "See the caveats in the documentation: https://pandas.pydata.org/pandas-docs/stable/user_guide/indexing.html#returning-a-view-versus-a-copy\n",
      "\n",
      "C:\\Users\\rafae\\AppData\\Local\\Temp\\ipykernel_21304\\3783862720.py:22: SettingWithCopyWarning:\n",
      "\n",
      "\n",
      "A value is trying to be set on a copy of a slice from a DataFrame\n",
      "\n",
      "See the caveats in the documentation: https://pandas.pydata.org/pandas-docs/stable/user_guide/indexing.html#returning-a-view-versus-a-copy\n",
      "\n"
     ]
    },
    {
     "name": "stdout",
     "output_type": "stream",
     "text": [
      "1.9457473868662558 2.9147855945444494\n",
      "1.5008615770647302 2.9147855945444494\n",
      "1.4349249887786069 2.9147855945444494\n",
      "1.4334100546500586 2.9147855945444494\n",
      "1.4334092541026484 2.9147855945444494\n",
      "1.4334092541024248 2.9147855945444494\n",
      "1.4334092541024248 2.9147855945444494\n",
      "1.4334092541024248 2.9147855945444494\n",
      "1.4334092541024248 2.9147855945444494\n",
      "1.4334092541024248 2.9147855945444494\n",
      "16.087428866026602 -2.5056476143086677\n",
      "8.381680101681821 -2.5056476143086677\n",
      "4.839516519986154 -2.5056476143086677\n",
      "3.5432173145102546 -2.5056476143086686\n",
      "3.3060893766843873 -2.5056476143086686\n",
      "3.297585423449774 -2.5056476143086686\n",
      "3.297574458272026 -2.5056476143086686\n",
      "3.297574458253796 -2.505647614308668\n",
      "3.297574458253796 -2.505647614308668\n",
      "3.297574458253796 -2.505647614308668\n",
      "0.4350774330345757 2.1959872265094322\n",
      "0.024175289561129687 2.1959872265094322\n",
      "-3.467831933023349 2.1959872265094322\n",
      "-1.7096564103775604 2.195987226509432\n",
      "-0.80562062000839 2.1959872265094322\n",
      "-0.29838390711249907 2.1959872265094322\n",
      "0.13275375945814266 2.1959872265094322\n",
      "-0.5673382315132531 2.1959872265094322\n",
      "-0.13538356267753965 2.1959872265094322\n",
      "0.5537135191202864 2.1959872265094322\n",
      "3.7718090126205865 0.7080826146846131\n",
      "2.532088801226947 0.7080826146846134\n",
      "2.228602959460029 0.7080826146846132\n",
      "2.2079389699947884 0.708082614684613\n",
      "2.2078422733771683 0.7080826146846132\n",
      "2.207842271259663 0.708082614684613\n",
      "2.207842271259663 0.7080826146846133\n",
      "2.207842271259663 0.7080826146846132\n",
      "2.207842271259663 0.7080826146846131\n",
      "2.207842271259663 0.7080826146846134\n"
     ]
    },
    {
     "name": "stderr",
     "output_type": "stream",
     "text": [
      "C:\\Users\\rafae\\anaconda3\\envs\\ML\\lib\\site-packages\\plotly\\graph_objs\\_deprecations.py:378: DeprecationWarning:\n",
      "\n",
      "plotly.graph_objs.Line is deprecated.\n",
      "Please replace it with one of the following more specific types\n",
      "  - plotly.graph_objs.scatter.Line\n",
      "  - plotly.graph_objs.layout.shape.Line\n",
      "  - etc.\n",
      "\n",
      "\n",
      "C:\\Users\\rafae\\anaconda3\\envs\\ML\\lib\\site-packages\\plotly\\graph_objs\\_deprecations.py:378: DeprecationWarning:\n",
      "\n",
      "plotly.graph_objs.Line is deprecated.\n",
      "Please replace it with one of the following more specific types\n",
      "  - plotly.graph_objs.scatter.Line\n",
      "  - plotly.graph_objs.layout.shape.Line\n",
      "  - etc.\n",
      "\n",
      "\n",
      "C:\\Users\\rafae\\anaconda3\\envs\\ML\\lib\\site-packages\\plotly\\graph_objs\\_deprecations.py:378: DeprecationWarning:\n",
      "\n",
      "plotly.graph_objs.Line is deprecated.\n",
      "Please replace it with one of the following more specific types\n",
      "  - plotly.graph_objs.scatter.Line\n",
      "  - plotly.graph_objs.layout.shape.Line\n",
      "  - etc.\n",
      "\n",
      "\n",
      "C:\\Users\\rafae\\anaconda3\\envs\\ML\\lib\\site-packages\\plotly\\graph_objs\\_deprecations.py:378: DeprecationWarning:\n",
      "\n",
      "plotly.graph_objs.Line is deprecated.\n",
      "Please replace it with one of the following more specific types\n",
      "  - plotly.graph_objs.scatter.Line\n",
      "  - plotly.graph_objs.layout.shape.Line\n",
      "  - etc.\n",
      "\n",
      "\n"
     ]
    },
    {
     "data": {
      "application/vnd.jupyter.widget-view+json": {
       "model_id": "4c256d86f6714de095e32768313a704f",
       "version_major": 2,
       "version_minor": 0
      },
      "text/plain": [
       "FigureWidget({\n",
       "    'data': [{'legendgroup': '5',\n",
       "              'marker': {'color': '#7f7f7f', 'symbol': 'cross'},\n",
       "              'mode': 'markers',\n",
       "              'name': 'Healthy',\n",
       "              'showlegend': False,\n",
       "              'type': 'scatter',\n",
       "              'uid': '187c8580-59f4-44a7-bf74-82300608a869',\n",
       "              'x': array([3.4070315, 5.608059 , 9.861004 , 4.4395895, 4.787786 , 9.117865 ,\n",
       "                          3.1045258, 4.2218156, 4.652774 , 4.886963 , 2.906633 , 3.7117915,\n",
       "                          7.2574363, 8.27576  , 7.2637744, 9.505399 , 8.698132 , 7.228138 ,\n",
       "                          9.376459 , 5.554335 ], dtype=float32),\n",
       "              'xaxis': 'x',\n",
       "              'y': array([11.252421 , 12.656178 ,  7.5636435, 11.990719 , 12.409313 ,  7.7196875,\n",
       "                          10.0727005, 11.813216 , 10.008461 , 11.314302 , 10.742376 ,  9.837449 ,\n",
       "                          10.039124 , 10.962228 , 11.538536 , 10.617313 , 10.169763 , 10.484241 ,\n",
       "                           9.711543 , 10.66669  ], dtype=float32),\n",
       "              'yaxis': 'y'},\n",
       "             {'legendgroup': '5',\n",
       "              'marker': {'color': '#ff7f0e', 'symbol': 'star'},\n",
       "              'mode': 'markers',\n",
       "              'name': 'Dose 2 non-responders',\n",
       "              'showlegend': False,\n",
       "              'type': 'scatter',\n",
       "              'uid': '887e9449-c40e-4a7e-95ca-df84b4bea76a',\n",
       "              'x': array([ 7.6038504,  4.902178 ,  8.646603 ,  7.570619 , 10.740861 ,  3.6600726,\n",
       "                           8.013465 ,  4.068622 ,  9.249224 ,  8.556328 ,  8.271126 ,  6.600896 ,\n",
       "                           7.0600395, 10.327688 , 10.746636 ,  4.1762834, 10.316066 ,  9.167425 ,\n",
       "                           6.800389 ,  7.7716346,  8.774971 , 10.744787 ,  9.175432 ,  4.840735 ,\n",
       "                          10.03846  ,  4.2303295,  9.65448  ,  6.1604266,  8.361238 ,  8.376695 ,\n",
       "                           7.131721 ,  9.209447 ,  8.012399 ,  6.437319 ,  9.529105 ,  7.7262163,\n",
       "                           7.3919373,  6.1073656,  6.785979 ,  8.569736 ,  8.612436 , 10.749059 ,\n",
       "                           4.023409 ,  7.862696 ,  8.800764 ,  5.461972 ,  6.863823 ,  6.73944  ,\n",
       "                           8.107898 ], dtype=float32),\n",
       "              'xaxis': 'x',\n",
       "              'y': array([ 9.455133 , 10.106344 , 14.549593 ,  5.7797065,  7.696448 , 10.4833555,\n",
       "                           6.73909  , 10.636846 ,  8.10389  ,  6.193409 , 11.274484 , 10.822917 ,\n",
       "                           9.276084 , 11.647324 ,  9.19174  ,  8.973211 ,  9.83769  , 12.137112 ,\n",
       "                          11.249845 ,  7.1347566,  8.943786 ,  8.553629 ,  6.964786 ,  9.001785 ,\n",
       "                           8.052358 , 10.799769 , 15.376207 , 12.1850195,  7.807322 , 13.982403 ,\n",
       "                          14.509947 , 14.835092 , 14.07342  , 13.753653 , 15.759317 , 14.865648 ,\n",
       "                          13.350003 ,  7.817641 , 12.632821 , 12.986746 , 11.881699 , 10.546271 ,\n",
       "                          12.344788 , 13.393057 , 15.462705 , 10.363751 ,  9.203538 ,  9.489845 ,\n",
       "                           9.997598 ], dtype=float32),\n",
       "              'yaxis': 'y'},\n",
       "             {'legendgroup': '5',\n",
       "              'marker': {'color': '#1f77b4'},\n",
       "              'mode': 'markers',\n",
       "              'name': 'Dose 2 detectable',\n",
       "              'showlegend': False,\n",
       "              'type': 'scatter',\n",
       "              'uid': '2ee21a22-59ca-4442-9f7d-e9a149c09d71',\n",
       "              'x': array([10.090908 ,  6.202378 , 10.0367985,  9.6138525,  7.2580156,  7.458948 ,\n",
       "                           9.673466 ,  6.5362215,  6.456228 ,  7.0312943,  7.284869 ,  7.7584977,\n",
       "                           6.376977 ,  5.9291425,  9.044047 ,  9.785166 ,  3.718664 ,  5.970178 ,\n",
       "                           8.882173 ,  8.25816  ,  9.615625 ,  8.182838 ,  9.796734 ,  9.589592 ,\n",
       "                          10.032635 ,  9.142089 ,  8.207471 ,  7.5121284,  6.682493 ,  8.1201   ,\n",
       "                           7.611764 ,  7.8270254,  5.8281846,  8.7078495,  6.971348 ],\n",
       "                         dtype=float32),\n",
       "              'xaxis': 'x',\n",
       "              'y': array([ 8.502306 ,  7.284745 ,  6.571011 ,  5.9971275,  6.377752 ,  6.2036657,\n",
       "                          13.960588 ,  6.456636 ,  8.693937 , 10.776544 ,  8.249499 ,  8.970217 ,\n",
       "                           9.831143 ,  9.000314 , 11.114953 ,  8.840844 ,  9.299752 , 10.940025 ,\n",
       "                          10.327405 ,  7.2981257,  9.671164 ,  9.614545 ,  7.30388  , 13.477252 ,\n",
       "                          12.821695 , 14.103792 , 14.5047865, 12.136313 , 11.668861 , 10.561213 ,\n",
       "                           7.8100176,  8.505409 , 11.774504 ,  8.8309145,  8.307021 ],\n",
       "                         dtype=float32),\n",
       "              'yaxis': 'y'},\n",
       "             {'legendgroup': '5',\n",
       "              'line': {'color': 'gray', 'dash': 'dash', 'width': 1},\n",
       "              'mode': 'lines',\n",
       "              'name': 'citations',\n",
       "              'showlegend': False,\n",
       "              'type': 'scatter',\n",
       "              'uid': '42a691a8-a6fb-4ecf-8e16-4dd41d679ff3',\n",
       "              'x': [0, 0, 1.4334092541024248, 0],\n",
       "              'xaxis': 'x2',\n",
       "              'y': [0, 3.1606713369534023, 2.9147855945444494, 0],\n",
       "              'yaxis': 'y2'},\n",
       "             {'legendgroup': '5',\n",
       "              'mode': 'text',\n",
       "              'showlegend': False,\n",
       "              'text': [3.16, 3.25, 1.45],\n",
       "              'textposition': 'top right',\n",
       "              'type': 'scatter',\n",
       "              'uid': 'f04d5e8b-71f2-4fdb-8b93-4f722d0a2dd8',\n",
       "              'x': [0, 0.7167046270512124, 0.7167046270512124],\n",
       "              'xaxis': 'x2',\n",
       "              'y': [1.5803356684767011, 1.4573927972722247, 3.037728465748926],\n",
       "              'yaxis': 'y2'},\n",
       "             {'legendgroup': '1',\n",
       "              'marker': {'color': '#ff7f0e', 'size': 12, 'symbol': 'star'},\n",
       "              'mode': 'markers',\n",
       "              'name': 'Dose 2 non-responders',\n",
       "              'showlegend': True,\n",
       "              'type': 'scatter',\n",
       "              'uid': '7ff3f22d-c919-468d-b181-f6c61648b7fe',\n",
       "              'x': [0],\n",
       "              'xaxis': 'x2',\n",
       "              'y': [3.1606713369534023],\n",
       "              'yaxis': 'y2'},\n",
       "             {'legendgroup': '1',\n",
       "              'marker': {'color': '#7f7f7f', 'size': 12, 'symbol': 'cross'},\n",
       "              'mode': 'markers',\n",
       "              'name': 'Healthy',\n",
       "              'showlegend': True,\n",
       "              'type': 'scatter',\n",
       "              'uid': 'cb50fd27-e7b6-4205-80fe-56e0c9dc042c',\n",
       "              'x': [0],\n",
       "              'xaxis': 'x2',\n",
       "              'y': [0],\n",
       "              'yaxis': 'y2'},\n",
       "             {'legendgroup': '1',\n",
       "              'marker': {'color': '#1f77b4', 'size': 12},\n",
       "              'mode': 'markers',\n",
       "              'name': 'Dose 2 detectable',\n",
       "              'showlegend': True,\n",
       "              'type': 'scatter',\n",
       "              'uid': '0d3d683b-8847-45f9-ae1a-034b64123770',\n",
       "              'x': [1.4334092541024248],\n",
       "              'xaxis': 'x2',\n",
       "              'y': [2.9147855945444494],\n",
       "              'yaxis': 'y2'},\n",
       "             {'legendgroup': '5',\n",
       "              'marker': {'color': '#7f7f7f', 'symbol': 'cross'},\n",
       "              'mode': 'markers',\n",
       "              'name': 'Healthy',\n",
       "              'showlegend': False,\n",
       "              'type': 'scatter',\n",
       "              'uid': '20ebd3ec-2ae4-4cc3-9d84-9cb02c848629',\n",
       "              'x': array([12.210871 ,  8.444129 ,  5.1892643, 11.4681425,  9.323626 , 11.576461 ,\n",
       "                          10.115032 ,  8.908651 , 11.486104 ,  9.907056 , 11.76564  , 10.210425 ,\n",
       "                           9.160531 ,  8.570964 ,  7.9360933,  5.4110126,  7.4733505,  2.633937 ,\n",
       "                           6.043761 ,  7.222179 ], dtype=float32),\n",
       "              'xaxis': 'x3',\n",
       "              'y': array([ 5.3805814,  3.1694422,  7.057003 ,  3.6081693,  2.4590168,  6.545    ,\n",
       "                           5.1017756,  3.299675 ,  5.0774145,  2.7497044,  4.419799 ,  4.3146925,\n",
       "                           4.750564 ,  7.160451 ,  4.8678594,  9.554778 ,  4.685006 , 10.774427 ,\n",
       "                           8.974211 ,  8.873788 ], dtype=float32),\n",
       "              'yaxis': 'y3'},\n",
       "             {'legendgroup': '5',\n",
       "              'marker': {'color': '#ff7f0e', 'symbol': 'star'},\n",
       "              'mode': 'markers',\n",
       "              'name': 'Dose 2 non-responders',\n",
       "              'showlegend': False,\n",
       "              'type': 'scatter',\n",
       "              'uid': '5e8098bc-869c-4d9b-b6bc-6ffa9f958393',\n",
       "              'x': array([ 9.156934 ,  7.683003 , 10.334459 ,  8.501044 ,  4.372059 , 10.795763 ,\n",
       "                           4.7751107,  8.828058 , 10.385396 ,  8.166564 ,  6.6355896,  1.2560309,\n",
       "                           8.758648 ,  7.6523046,  7.3727665,  4.9366164,  8.166159 ,  9.71494  ,\n",
       "                           5.2312455,  6.940456 ,  8.982137 ,  1.4152747,  7.02139  ,  6.3877244,\n",
       "                           5.9969654, 12.452131 , 10.265822 ,  9.726758 , 10.841593 , 10.020482 ,\n",
       "                           8.54501  ,  9.716762 ,  8.690536 ,  8.804492 ,  7.8277073,  8.716061 ,\n",
       "                           9.464121 ,  8.203343 , 10.444217 ,  8.653049 ,  6.1188984,  5.6878552,\n",
       "                          10.983462 ,  8.920077 ,  9.132364 ,  7.18011  ,  2.354583 ,  2.071111 ,\n",
       "                           7.961641 ], dtype=float32),\n",
       "              'xaxis': 'x3',\n",
       "              'y': array([ 8.322238 ,  3.1847186,  5.2610497,  7.676513 ,  4.343266 ,  4.5287805,\n",
       "                           4.56681  ,  3.9907162,  7.112597 ,  8.364398 ,  7.1280613,  9.477141 ,\n",
       "                           9.047791 ,  3.5249436,  5.4941764,  3.6433165,  9.531816 ,  5.8737764,\n",
       "                           9.335202 ,  3.3005974,  2.7393496,  8.496153 ,  5.974029 ,  6.7385025,\n",
       "                           7.804515 ,  5.1696877,  6.242588 ,  3.7413855,  5.8726096,  1.7125503,\n",
       "                           4.8308034,  6.6206646,  1.6747528,  5.935611 ,  7.8081183,  6.906583 ,\n",
       "                           4.418888 ,  4.023196 ,  2.3789454,  1.96985  ,  5.698769 ,  3.8090856,\n",
       "                           3.503357 ,  5.756437 ,  7.4984136,  9.491505 ,  6.366278 , 11.138297 ,\n",
       "                           5.7519   ], dtype=float32),\n",
       "              'yaxis': 'y3'},\n",
       "             {'legendgroup': '5',\n",
       "              'marker': {'color': '#1f77b4'},\n",
       "              'mode': 'markers',\n",
       "              'name': 'Dose 2 detectable',\n",
       "              'showlegend': False,\n",
       "              'type': 'scatter',\n",
       "              'uid': '03ec25c9-3836-4308-811c-1680e716bd39',\n",
       "              'x': array([ 6.945697 ,  4.734093 ,  3.440732 ,  3.905136 ,  4.48499  ,  4.3220677,\n",
       "                           9.3558   ,  3.6809595,  4.552856 ,  1.648557 ,  2.6985521,  2.2223864,\n",
       "                           2.767976 ,  5.641121 ,  3.9156184,  1.6888744, 12.249024 ,  6.334793 ,\n",
       "                           1.8394057,  5.5785885,  7.839207 ,  3.2193716,  5.961601 ,  6.671605 ,\n",
       "                           6.0719104,  9.561869 ,  5.3097878,  7.6909027,  7.4359903,  2.0119507,\n",
       "                           1.8911788,  2.2537282,  7.593057 ,  2.9079278,  2.8240907],\n",
       "                         dtype=float32),\n",
       "              'xaxis': 'x3',\n",
       "              'y': array([ 7.8675275,  6.834256 ,  6.166576 ,  7.0477633,  5.7707677,  7.7801933,\n",
       "                           5.8799887,  5.313861 ,  3.6453757, 10.065725 ,  7.8910666,  8.632411 ,\n",
       "                           6.8065076,  5.474133 , 10.410201 ,  8.127532 ,  6.041011 ,  9.463341 ,\n",
       "                          10.576503 ,  4.5405354,  9.259561 , 11.111354 ,  6.590019 ,  4.349465 ,\n",
       "                           4.8477693,  1.6750625,  6.272895 ,  6.2485023,  7.2039647,  7.507991 ,\n",
       "                           9.0599985,  7.1895523,  4.9430428,  7.7632804, 11.268401 ],\n",
       "                         dtype=float32),\n",
       "              'yaxis': 'y3'},\n",
       "             {'legendgroup': '5',\n",
       "              'line': {'color': 'gray', 'dash': 'dash', 'width': 1},\n",
       "              'mode': 'lines',\n",
       "              'name': 'citations',\n",
       "              'showlegend': False,\n",
       "              'type': 'scatter',\n",
       "              'uid': 'fcd0a333-12fa-484b-8645-5972b301c532',\n",
       "              'x': [0, 0, 3.297574458253796, 0],\n",
       "              'xaxis': 'x4',\n",
       "              'y': [0, 3.2144417088856487, -2.505647614308668, 0],\n",
       "              'yaxis': 'y4'},\n",
       "             {'legendgroup': '5',\n",
       "              'mode': 'text',\n",
       "              'showlegend': False,\n",
       "              'text': [3.21, 4.14, 6.60],\n",
       "              'textposition': 'top right',\n",
       "              'type': 'scatter',\n",
       "              'uid': '9fa1e13f-7ee6-401d-98f5-cf6916bf7ee2',\n",
       "              'x': [0, 1.648787229126898, 1.648787229126898],\n",
       "              'xaxis': 'x4',\n",
       "              'y': [1.6072208544428244, -1.252823807154334, 0.3543970472884901],\n",
       "              'yaxis': 'y4'},\n",
       "             {'legendgroup': '1',\n",
       "              'marker': {'color': '#ff7f0e', 'size': 12, 'symbol': 'star'},\n",
       "              'mode': 'markers',\n",
       "              'name': 'Dose 2 non-responders',\n",
       "              'showlegend': False,\n",
       "              'type': 'scatter',\n",
       "              'uid': 'e3b26f83-a282-4c81-bdd3-4734f0a75b75',\n",
       "              'x': [0],\n",
       "              'xaxis': 'x4',\n",
       "              'y': [3.2144417088856487],\n",
       "              'yaxis': 'y4'},\n",
       "             {'legendgroup': '1',\n",
       "              'marker': {'color': '#7f7f7f', 'size': 12, 'symbol': 'cross'},\n",
       "              'mode': 'markers',\n",
       "              'name': 'Healthy',\n",
       "              'showlegend': False,\n",
       "              'type': 'scatter',\n",
       "              'uid': 'fe88326d-fce1-441e-9df6-fb54a63f4bac',\n",
       "              'x': [0],\n",
       "              'xaxis': 'x4',\n",
       "              'y': [0],\n",
       "              'yaxis': 'y4'},\n",
       "             {'legendgroup': '1',\n",
       "              'marker': {'color': '#1f77b4', 'size': 12},\n",
       "              'mode': 'markers',\n",
       "              'name': 'Dose 2 detectable',\n",
       "              'showlegend': False,\n",
       "              'type': 'scatter',\n",
       "              'uid': '2b330a62-e339-4472-92cd-130f0681d671',\n",
       "              'x': [3.297574458253796],\n",
       "              'xaxis': 'x4',\n",
       "              'y': [-2.505647614308668],\n",
       "              'yaxis': 'y4'},\n",
       "             {'legendgroup': '5',\n",
       "              'marker': {'color': '#7f7f7f', 'symbol': 'cross'},\n",
       "              'mode': 'markers',\n",
       "              'name': 'Healthy',\n",
       "              'showlegend': False,\n",
       "              'type': 'scatter',\n",
       "              'uid': 'e3232062-f884-4dd4-acd0-c0e2adc755a1',\n",
       "              'x': array([ 6.5372357,  3.3227086, 11.320081 ,  3.1651406,  2.5985055, 10.4031105,\n",
       "                           5.1464424,  2.913211 ,  5.663577 ,  4.0001626,  5.6389036,  5.3290443,\n",
       "                           7.895708 ,  7.6841846,  5.188672 ,  8.723336 ,  8.683911 ,  6.5987115,\n",
       "                           8.655433 ,  5.3812275], dtype=float32),\n",
       "              'xaxis': 'x5',\n",
       "              'y': array([ 1.1874608 , -2.259523  , -0.97003543, -0.7980186 , -2.291535  ,\n",
       "                          -1.0205079 ,  0.7026382 , -1.7600089 , -0.82558095, -1.747791  ,\n",
       "                           1.2688333 , -0.09113687, -3.0439208 , -3.6139538 , -2.2287886 ,\n",
       "                          -3.9995904 , -3.149503  , -2.2744074 , -2.7668822 , -1.5223655 ],\n",
       "                         dtype=float32),\n",
       "              'yaxis': 'y5'},\n",
       "             {'legendgroup': '5',\n",
       "              'marker': {'color': '#ffaa00', 'symbol': 'star'},\n",
       "              'mode': 'markers',\n",
       "              'name': 'Dose 3 non-positives',\n",
       "              'showlegend': False,\n",
       "              'type': 'scatter',\n",
       "              'uid': 'fb2731b5-a535-4963-9a43-c757e250b80e',\n",
       "              'x': array([ 6.7155766,  7.9987226,  7.8222156,  9.0994835, 10.984045 ,  7.596205 ,\n",
       "                           9.20231  ,  3.7441404, 10.77839  , 10.554489 ,  9.523284 ,  9.376372 ,\n",
       "                           8.481325 ,  7.1683283,  6.545193 ,  2.7275505,  7.2136774, 10.670958 ,\n",
       "                           9.750759 ,  4.37845  , 10.190046 ,  5.7597446,  9.753    ,  9.002951 ,\n",
       "                           9.992195 , 10.648848 ,  9.455755 ,  4.905331 ,  9.357895 ,  5.4272623,\n",
       "                           5.6680527,  7.589589 ,  5.6989894,  5.0346036,  7.6976485,  6.194698 ,\n",
       "                           6.989593 ,  4.843575 ,  7.204262 ,  4.3966074,  4.9983153,  5.846249 ,\n",
       "                          10.649584 ,  3.5518098,  6.7223587,  5.7273827,  7.2048774,  4.8902736,\n",
       "                           8.931189 ,  8.25625  ,  7.712493 ,  7.5149117,  9.24252  ,  7.277038 ,\n",
       "                           8.352261 ], dtype=float32),\n",
       "              'xaxis': 'x5',\n",
       "              'y': array([-1.0032784 , -2.5070305 , -4.734216  ,  0.2620388 , -2.2095811 ,\n",
       "                           0.7668671 ,  1.0910714 , -0.23450942,  0.5229381 ,  0.27740312,\n",
       "                           0.19185823,  0.7764166 ,  0.70528746, -4.490547  , -2.0059338 ,\n",
       "                          -1.2118415 , -2.1754076 , -1.8874885 , -2.8797755 ,  0.46624616,\n",
       "                          -3.404644  , -2.8691852 ,  0.5655083 , -2.0033588 , -2.3834863 ,\n",
       "                          -0.55221474, -2.3447387 , -3.3142273 , -1.2596076 , -6.074672  ,\n",
       "                          -4.0785108 , -5.5002103 , -6.547126  , -4.183041  , -6.2938724 ,\n",
       "                          -5.082293  , -5.3598757 , -6.1182423 ,  0.39820457, -4.625862  ,\n",
       "                          -5.3486204 , -5.0340586 , -3.3536894 , -1.1422646 , -3.8191316 ,\n",
       "                          -5.4707108 , -5.9233413 , -1.6308095 , -0.66018796, -1.074468  ,\n",
       "                          -1.6894038 , -1.2022928 , -1.8478621 , -3.2100785 , -1.1639849 ],\n",
       "                         dtype=float32),\n",
       "              'yaxis': 'y5'},\n",
       "             {'legendgroup': '5',\n",
       "              'marker': {'color': '#2ca02c'},\n",
       "              'mode': 'markers',\n",
       "              'name': 'Dose 3 positives',\n",
       "              'showlegend': False,\n",
       "              'type': 'scatter',\n",
       "              'uid': '113b41db-979a-4741-b807-91b6e2488c72',\n",
       "              'x': array([10.437582 ,  9.933048 ,  6.9195232,  6.6248527,  5.6527467,  7.7759786,\n",
       "                           7.8628674,  8.492076 ,  5.8492107, 10.138301 ,  5.7823   ,  9.466582 ,\n",
       "                           8.145488 , 11.47383  ,  6.1648374,  6.626716 ,  6.4501033,  6.1661696,\n",
       "                           4.4584527], dtype=float32),\n",
       "              'xaxis': 'x5',\n",
       "              'y': array([-1.7792938 , -1.1202922 , -0.5490112 , -2.7290254 , -2.836141  ,\n",
       "                          -0.40372828, -1.8032936 , -3.8270085 ,  0.23361218, -2.640281  ,\n",
       "                          -1.9187857 , -0.36414218, -2.2170103 , -0.47775394,  0.5024632 ,\n",
       "                          -4.468517  , -5.9509454 , -3.4488838 , -2.7512524 ], dtype=float32),\n",
       "              'yaxis': 'y5'},\n",
       "             {'legendgroup': '5',\n",
       "              'line': {'color': 'gray', 'dash': 'dash', 'width': 1},\n",
       "              'mode': 'lines',\n",
       "              'name': 'citations',\n",
       "              'showlegend': False,\n",
       "              'type': 'scatter',\n",
       "              'uid': '678e9ae9-1108-4c2d-822f-4551e16014f3',\n",
       "              'x': [0, 0, 0.5537135191202864, 0],\n",
       "              'xaxis': 'x6',\n",
       "              'y': [0, 3.2393660501644783, 2.1959872265094322, 0],\n",
       "              'yaxis': 'y6'},\n",
       "             {'legendgroup': '5',\n",
       "              'mode': 'text',\n",
       "              'showlegend': False,\n",
       "              'text': [3.24, 2.16, 0.96],\n",
       "              'textposition': 'top right',\n",
       "              'type': 'scatter',\n",
       "              'uid': '9e667f64-2517-43a4-ac3c-4eaf20a787f9',\n",
       "              'x': [0, 0.2768567595601432, 0.2768567595601432],\n",
       "              'xaxis': 'x6',\n",
       "              'y': [1.6196830250822392, 1.0979936132547161, 2.7176766383369553],\n",
       "              'yaxis': 'y6'},\n",
       "             {'legendgroup': '2',\n",
       "              'marker': {'color': '#ffaa00', 'size': 12, 'symbol': 'star'},\n",
       "              'mode': 'markers',\n",
       "              'name': 'Dose 3 non-positives',\n",
       "              'showlegend': True,\n",
       "              'type': 'scatter',\n",
       "              'uid': 'bc4dfc1e-8a17-4285-b208-a6b8e1a50baa',\n",
       "              'x': [0],\n",
       "              'xaxis': 'x6',\n",
       "              'y': [3.2393660501644783],\n",
       "              'yaxis': 'y6'},\n",
       "             {'legendgroup': '2',\n",
       "              'marker': {'color': '#7f7f7f', 'size': 12, 'symbol': 'cross'},\n",
       "              'mode': 'markers',\n",
       "              'name': 'Healthy',\n",
       "              'showlegend': True,\n",
       "              'type': 'scatter',\n",
       "              'uid': '267f4cf8-f3cc-4040-ac04-508da3179d4d',\n",
       "              'x': [0],\n",
       "              'xaxis': 'x6',\n",
       "              'y': [0],\n",
       "              'yaxis': 'y6'},\n",
       "             {'legendgroup': '2',\n",
       "              'marker': {'color': '#2ca02c', 'size': 12},\n",
       "              'mode': 'markers',\n",
       "              'name': 'Dose 3 positives',\n",
       "              'showlegend': True,\n",
       "              'type': 'scatter',\n",
       "              'uid': '9a521918-19a2-4c97-aa7a-52bddbe66c14',\n",
       "              'x': [0.5537135191202864],\n",
       "              'xaxis': 'x6',\n",
       "              'y': [2.1959872265094322],\n",
       "              'yaxis': 'y6'},\n",
       "             {'legendgroup': '5',\n",
       "              'marker': {'color': '#7f7f7f', 'symbol': 'cross'},\n",
       "              'mode': 'markers',\n",
       "              'name': 'Healthy',\n",
       "              'showlegend': False,\n",
       "              'type': 'scatter',\n",
       "              'uid': 'fd47a04e-72f5-44c4-82af-73d14aeb1ea8',\n",
       "              'x': array([10.015426 , 10.297526 , 11.961588 , 11.531317 , 10.260894 ,  8.652015 ,\n",
       "                          11.45829  , 12.735968 , 10.306141 , 10.282507 ,  8.052237 , 12.720413 ,\n",
       "                          14.40882  , 14.895159 , 15.755074 , 11.350819 , 11.479105 , 10.965557 ,\n",
       "                          16.36231  , 13.6194725], dtype=float32),\n",
       "              'xaxis': 'x7',\n",
       "              'y': array([ 9.61141  ,  6.568457 ,  5.1612887,  4.6031933,  9.886579 ,  8.208685 ,\n",
       "                          10.010135 , 10.324785 ,  7.837428 , 10.633214 ,  9.594465 , 10.828017 ,\n",
       "                          13.07227  , 12.056345 , 14.442739 , 14.085343 , 13.259911 , 11.238935 ,\n",
       "                          13.834512 , 11.154758 ], dtype=float32),\n",
       "              'yaxis': 'y7'},\n",
       "             {'legendgroup': '5',\n",
       "              'marker': {'color': '#ffaa00', 'symbol': 'star'},\n",
       "              'mode': 'markers',\n",
       "              'name': 'Dose 3 non-positives',\n",
       "              'showlegend': False,\n",
       "              'type': 'scatter',\n",
       "              'uid': '99692b0e-22da-4ebd-b589-8d71ee3ae36f',\n",
       "              'x': array([16.428926 , 13.58902  ,  7.39301  ,  9.635895 , 12.713313 , 12.37633  ,\n",
       "                          13.806175 , 12.702475 , 11.9519415, 13.527511 , 13.706243 , 12.132698 ,\n",
       "                          11.038742 , 13.45494  , 11.152083 , 12.620975 ,  9.859324 , 10.526499 ,\n",
       "                          16.65632  , 12.117892 , 12.315156 , 11.8605385, 13.485357 ,  6.5967536,\n",
       "                          15.751576 , 14.346232 ,  9.98371  , 13.027676 ,  7.1151495, 14.456603 ,\n",
       "                           6.215611 ,  6.9806547, 14.713855 , 14.148979 ,  8.918433 ,  6.5213556,\n",
       "                           9.264155 , 11.743534 , 10.813397 , 11.974897 ,  9.492853 , 14.740436 ,\n",
       "                           6.612836 , 11.922553 , 13.382567 , 10.00963  ,  6.8727956, 15.243664 ,\n",
       "                          13.193166 , 11.222525 , 11.234857 , 16.10353  , 10.929844 , 14.494452 ,\n",
       "                          11.62195  ], dtype=float32),\n",
       "              'xaxis': 'x7',\n",
       "              'y': array([13.045751 ,  7.086983 , 10.248141 ,  6.943641 ,  9.408583 ,  8.305214 ,\n",
       "                          10.455818 ,  4.912267 ,  6.6217923,  5.330229 ,  6.2104626, 11.473263 ,\n",
       "                           6.9691076,  8.237556 ,  8.834216 ,  4.360797 ,  8.0380125,  7.9156866,\n",
       "                          12.503993 ,  3.8970644,  9.079837 ,  8.649045 ,  9.165862 ,  8.485827 ,\n",
       "                          12.424948 ,  5.7705297,  7.18223  ,  7.395038 ,  9.398846 ,  6.8420596,\n",
       "                          10.823529 , 11.732099 ,  8.118106 ,  8.653334 , 11.782127 , 11.281677 ,\n",
       "                           7.3049965,  7.4863453,  6.3084364,  7.269237 , 11.402671 ,  7.548004 ,\n",
       "                           9.159807 ,  4.1054125, 12.624818 , 11.631458 , 10.995088 , 12.773452 ,\n",
       "                          11.984618 , 12.19121  , 12.904115 , 14.194478 , 13.571891 , 12.396487 ,\n",
       "                          14.364467 ], dtype=float32),\n",
       "              'yaxis': 'y7'},\n",
       "             {'legendgroup': '5',\n",
       "              'marker': {'color': '#2ca02c'},\n",
       "              'mode': 'markers',\n",
       "              'name': 'Dose 3 positives',\n",
       "              'showlegend': False,\n",
       "              'type': 'scatter',\n",
       "              'uid': '13721c78-5be0-4016-8304-9826a0907188',\n",
       "              'x': array([10.991644 , 13.678688 , 10.778369 , 15.477116 , 13.923726 , 10.726317 ,\n",
       "                           7.9042444, 11.649691 ,  8.507367 ,  7.239105 , 12.981448 ,  7.6719193,\n",
       "                          12.178082 , 12.739076 ,  8.031242 ,  8.656934 ,  7.654793 ,  8.34385  ,\n",
       "                          12.776232 ], dtype=float32),\n",
       "              'xaxis': 'x7',\n",
       "              'y': array([ 9.527098 ,  9.742976 ,  7.504798 , 12.954329 , 11.475335 , 12.171317 ,\n",
       "                           8.907122 , 10.233246 ,  9.097666 , 10.736459 , 11.612815 ,  8.372641 ,\n",
       "                          13.549719 ,  7.5816584,  8.035662 , 11.241001 , 11.2450075, 11.837571 ,\n",
       "                          12.495419 ], dtype=float32),\n",
       "              'yaxis': 'y7'},\n",
       "             {'legendgroup': '5',\n",
       "              'line': {'color': 'gray', 'dash': 'dash', 'width': 1},\n",
       "              'mode': 'lines',\n",
       "              'name': 'citations',\n",
       "              'showlegend': False,\n",
       "              'type': 'scatter',\n",
       "              'uid': 'ba318b32-9d87-4af9-ae6f-d8618c3f7086',\n",
       "              'x': [0, 0, 2.207842271259663, 0],\n",
       "              'xaxis': 'x8',\n",
       "              'y': [0, 4.682668104268037, 0.7080826146846134, 0],\n",
       "              'yaxis': 'y8'},\n",
       "             {'legendgroup': '5',\n",
       "              'mode': 'text',\n",
       "              'showlegend': False,\n",
       "              'text': [4.68, 2.32, 4.55],\n",
       "              'textposition': 'top right',\n",
       "              'type': 'scatter',\n",
       "              'uid': 'a31fd988-3dbf-4d07-bb7f-91205e2ba974',\n",
       "              'x': [0, 1.1039211356298315, 1.1039211356298315],\n",
       "              'xaxis': 'x8',\n",
       "              'y': [2.3413340521340187, 0.3540413073423067, 2.6953753594763254],\n",
       "              'yaxis': 'y8'},\n",
       "             {'legendgroup': '2',\n",
       "              'marker': {'color': '#ffaa00', 'size': 12, 'symbol': 'star'},\n",
       "              'mode': 'markers',\n",
       "              'name': 'Dose 3 non-positives',\n",
       "              'showlegend': False,\n",
       "              'type': 'scatter',\n",
       "              'uid': '1a8c848b-badf-4767-bb94-f54e9d5d4217',\n",
       "              'x': [0],\n",
       "              'xaxis': 'x8',\n",
       "              'y': [4.682668104268037],\n",
       "              'yaxis': 'y8'},\n",
       "             {'legendgroup': '2',\n",
       "              'marker': {'color': '#7f7f7f', 'size': 12, 'symbol': 'cross'},\n",
       "              'mode': 'markers',\n",
       "              'name': 'Healthy',\n",
       "              'showlegend': False,\n",
       "              'type': 'scatter',\n",
       "              'uid': 'fda54149-7d10-449b-b3b8-13a8aa2af07a',\n",
       "              'x': [0],\n",
       "              'xaxis': 'x8',\n",
       "              'y': [0],\n",
       "              'yaxis': 'y8'},\n",
       "             {'legendgroup': '2',\n",
       "              'marker': {'color': '#2ca02c', 'size': 12},\n",
       "              'mode': 'markers',\n",
       "              'name': 'Dose 3 positives',\n",
       "              'showlegend': False,\n",
       "              'type': 'scatter',\n",
       "              'uid': 'a89a7275-37e0-4dc4-afb5-c3d5e4dcd364',\n",
       "              'x': [2.207842271259663],\n",
       "              'xaxis': 'x8',\n",
       "              'y': [0.7080826146846134],\n",
       "              'yaxis': 'y8'}],\n",
       "    'layout': {'annotations': [{'font': {'size': 16},\n",
       "                                'showarrow': False,\n",
       "                                'text': 'All Dose 2',\n",
       "                                'x': 0.175,\n",
       "                                'xanchor': 'center',\n",
       "                                'xref': 'paper',\n",
       "                                'y': 1.0,\n",
       "                                'yanchor': 'bottom',\n",
       "                                'yref': 'paper'},\n",
       "                               {'font': {'size': 16},\n",
       "                                'showarrow': False,\n",
       "                                'text': 'Best 10 Dose 2',\n",
       "                                'x': 0.675,\n",
       "                                'xanchor': 'center',\n",
       "                                'xref': 'paper',\n",
       "                                'y': 1.0,\n",
       "                                'yanchor': 'bottom',\n",
       "                                'yref': 'paper'},\n",
       "                               {'font': {'size': 16},\n",
       "                                'showarrow': False,\n",
       "                                'text': 'All Dose 3',\n",
       "                                'x': 0.175,\n",
       "                                'xanchor': 'center',\n",
       "                                'xref': 'paper',\n",
       "                                'y': 0.45,\n",
       "                                'yanchor': 'bottom',\n",
       "                                'yref': 'paper'},\n",
       "                               {'font': {'size': 16},\n",
       "                                'showarrow': False,\n",
       "                                'text': 'Best 10 Dose 3',\n",
       "                                'x': 0.675,\n",
       "                                'xanchor': 'center',\n",
       "                                'xref': 'paper',\n",
       "                                'y': 0.45,\n",
       "                                'yanchor': 'bottom',\n",
       "                                'yref': 'paper'}],\n",
       "               'height': 600,\n",
       "               'legend': {'tracegroupgap': 180},\n",
       "               'showlegend': True,\n",
       "               'template': '...',\n",
       "               'width': 1000,\n",
       "               'xaxis': {'anchor': 'y',\n",
       "                         'domain': [0.0, 0.35],\n",
       "                         'showgrid': False,\n",
       "                         'showline': False,\n",
       "                         'showticklabels': True,\n",
       "                         'ticks': '',\n",
       "                         'zeroline': False},\n",
       "               'xaxis2': {'anchor': 'y2',\n",
       "                          'domain': [0.35, 0.5],\n",
       "                          'showgrid': False,\n",
       "                          'showline': False,\n",
       "                          'showticklabels': False,\n",
       "                          'ticks': '',\n",
       "                          'zeroline': False},\n",
       "               'xaxis3': {'anchor': 'y3',\n",
       "                          'domain': [0.5, 0.85],\n",
       "                          'showgrid': False,\n",
       "                          'showline': False,\n",
       "                          'showticklabels': False,\n",
       "                          'ticks': '',\n",
       "                          'zeroline': False},\n",
       "               'xaxis4': {'anchor': 'y4',\n",
       "                          'domain': [0.85, 1.0],\n",
       "                          'showgrid': False,\n",
       "                          'showline': False,\n",
       "                          'showticklabels': False,\n",
       "                          'ticks': '',\n",
       "                          'zeroline': False},\n",
       "               'xaxis5': {'anchor': 'y5',\n",
       "                          'domain': [0.0, 0.35],\n",
       "                          'showgrid': False,\n",
       "                          'showline': False,\n",
       "                          'showticklabels': False,\n",
       "                          'ticks': '',\n",
       "                          'zeroline': False},\n",
       "               'xaxis6': {'anchor': 'y6',\n",
       "                          'domain': [0.35, 0.5],\n",
       "                          'showgrid': False,\n",
       "                          'showline': False,\n",
       "                          'showticklabels': False,\n",
       "                          'ticks': '',\n",
       "                          'zeroline': False},\n",
       "               'xaxis7': {'anchor': 'y7',\n",
       "                          'domain': [0.5, 0.85],\n",
       "                          'showgrid': False,\n",
       "                          'showline': False,\n",
       "                          'showticklabels': False,\n",
       "                          'ticks': '',\n",
       "                          'zeroline': False},\n",
       "               'xaxis8': {'anchor': 'y8',\n",
       "                          'domain': [0.85, 1.0],\n",
       "                          'showgrid': False,\n",
       "                          'showline': False,\n",
       "                          'showticklabels': False,\n",
       "                          'ticks': '',\n",
       "                          'zeroline': False},\n",
       "               'yaxis': {'anchor': 'x',\n",
       "                         'domain': [0.55, 1.0],\n",
       "                         'showgrid': False,\n",
       "                         'showline': False,\n",
       "                         'showticklabels': False,\n",
       "                         'ticks': '',\n",
       "                         'zeroline': False},\n",
       "               'yaxis2': {'anchor': 'x2',\n",
       "                          'domain': [0.55, 1.0],\n",
       "                          'scaleanchor': 'x2',\n",
       "                          'scaleratio': 1,\n",
       "                          'showgrid': False,\n",
       "                          'showline': False,\n",
       "                          'showticklabels': False,\n",
       "                          'ticks': '',\n",
       "                          'zeroline': False},\n",
       "               'yaxis3': {'anchor': 'x3',\n",
       "                          'domain': [0.55, 1.0],\n",
       "                          'showgrid': False,\n",
       "                          'showline': False,\n",
       "                          'showticklabels': False,\n",
       "                          'ticks': '',\n",
       "                          'zeroline': False},\n",
       "               'yaxis4': {'anchor': 'x4',\n",
       "                          'domain': [0.55, 1.0],\n",
       "                          'scaleanchor': 'x4',\n",
       "                          'scaleratio': 1,\n",
       "                          'showgrid': False,\n",
       "                          'showline': False,\n",
       "                          'showticklabels': False,\n",
       "                          'ticks': '',\n",
       "                          'zeroline': False},\n",
       "               'yaxis5': {'anchor': 'x5',\n",
       "                          'domain': [0.0, 0.45],\n",
       "                          'showgrid': False,\n",
       "                          'showline': False,\n",
       "                          'showticklabels': False,\n",
       "                          'ticks': '',\n",
       "                          'zeroline': False},\n",
       "               'yaxis6': {'anchor': 'x6',\n",
       "                          'domain': [0.0, 0.45],\n",
       "                          'scaleanchor': 'x6',\n",
       "                          'scaleratio': 1,\n",
       "                          'showgrid': False,\n",
       "                          'showline': False,\n",
       "                          'showticklabels': False,\n",
       "                          'ticks': '',\n",
       "                          'zeroline': False},\n",
       "               'yaxis7': {'anchor': 'x7',\n",
       "                          'domain': [0.0, 0.45],\n",
       "                          'showgrid': False,\n",
       "                          'showline': False,\n",
       "                          'showticklabels': False,\n",
       "                          'ticks': '',\n",
       "                          'zeroline': False},\n",
       "               'yaxis8': {'anchor': 'x8',\n",
       "                          'domain': [0.0, 0.45],\n",
       "                          'scaleanchor': 'x8',\n",
       "                          'scaleratio': 1,\n",
       "                          'showgrid': False,\n",
       "                          'showline': False,\n",
       "                          'showticklabels': False,\n",
       "                          'ticks': '',\n",
       "                          'zeroline': False}}\n",
       "})"
      ]
     },
     "execution_count": 10,
     "metadata": {},
     "output_type": "execute_result"
    }
   ],
   "source": [
    "file = open(fold + \"/data_aux/immune_clean_a2.pkl\",\"rb\")\n",
    "data = pk.load(file)\n",
    "file.close()\n",
    "data.keys()\n",
    "all_x_d2_d = data[\"x_d2_d\"]\n",
    "all_x_d3_p = data[\"x_d3_p\"]\n",
    "\n",
    "y_d2_d = data[\"y_d2_d\"]\n",
    "y_d3_p = data[\"y_d3_p\"]\n",
    "\n",
    "file = open(fold + \"/data_aux/feature_a1.pkl\",\"rb\")\n",
    "data = pk.load(file)\n",
    "file.close()\n",
    "\n",
    "d2_d = data[\"d2_d\"]\n",
    "d3_p = data[\"d3_p\"]\n",
    "d2_d = d2_d.loc[d2_d[\"pvalue\"]<=0.05,:]\n",
    "d3_p = d3_p.loc[d3_p[\"pvalue\"]<=0.05,:]\n",
    "\n",
    "d2_d.sort_values(by=\"mu\",ascending=False,inplace=True)\n",
    "d2_d = d2_d.iloc[0:10,:]\n",
    "d3_p.sort_values(by=\"mu\",ascending=False,inplace=True)\n",
    "d3_p = d3_p.iloc[0:10,:]\n",
    "\n",
    "#f_d2_d = list(d2_d[\"var\"])\n",
    "#f_d3_p = list(d3_p[\"var\"])\n",
    "\n",
    "x_d2_d = all_x_d2_d.loc[:,list(d2_d[\"var\"])].copy()\n",
    "x_d3_p = all_x_d3_p.loc[:,list(d3_p[\"var\"])].copy()\n",
    "\n",
    "\n",
    "np.random.seed(42)\n",
    "re = umap.UMAP(n_neighbors=6,min_dist=0.8)\n",
    "re.fit(all_x_d2_d)\n",
    "trans = re.transform(all_x_d2_d)\n",
    "x1 = [c[0]  for c in trans ]\n",
    "x2 = [c[1]  for c in trans ]\n",
    "df = pd.DataFrame({\"x1\":x1,\"x2\":x2, \"y\":list(y_d2_d)})\n",
    "\n",
    "np.random.seed(42)\n",
    "re.fit(x_d2_d)\n",
    "trans = re.transform(x_d2_d)\n",
    "x1 = [c[0]  for c in trans ]\n",
    "x2 = [c[1]  for c in trans ]\n",
    "df3 = pd.DataFrame({\"x1\":x1,\"x2\":x2, \"y\":list(y_d2_d)})\n",
    "\n",
    "np.random.seed(42)\n",
    "re.fit(all_x_d3_p)\n",
    "trans = re.transform(all_x_d3_p)\n",
    "x1 = [c[0]  for c in trans ]\n",
    "x2 = [c[1]  for c in trans ]\n",
    "df7 = pd.DataFrame({\"x1\":x1,\"x2\":x2, \"y\":list(y_d3_p)})\n",
    "\n",
    "np.random.seed(42)\n",
    "re.fit(x_d3_p)\n",
    "trans = re.transform(x_d3_p)\n",
    "x1 = [c[0]  for c in trans ]\n",
    "x2 = [c[1]  for c in trans ]\n",
    "df9 = pd.DataFrame({\"x1\":x1,\"x2\":x2, \"y\":list(y_d3_p)})\n",
    "\n",
    "#figure\n",
    "f = go.FigureWidget(make_subplots(rows=2,cols=4,subplot_titles=[\"All Dose 2\",\"\",\"Best 10 Dose 2\",\"\",\"All Dose 3\",\"\",\"Best 10 Dose 3\",\"\"],vertical_spacing=0.10,horizontal_spacing=0,column_widths=[0.35,0.15,0.35,0.15]))\n",
    "f.add_trace(go.Scatter(x=df.loc[df.y==\"h\",\"x1\"],y=df.loc[df.y==\"h\",\"x2\"],mode='markers',marker=dict(color=\"#7f7f7f\",symbol=\"cross\"),name = \"Healthy\",legendgroup='5',showlegend=False),row=1,col=1)\n",
    "f.add_trace(go.Scatter(x=df.loc[df.y==\"n\",\"x1\"],y=df.loc[df.y==\"n\",\"x2\"],mode='markers',marker=dict(color=\"#ff7f0e\",symbol=\"star\"),name = \"Dose 2 non-responders\",legendgroup='5',showlegend=False),row=1,col=1)\n",
    "f.add_trace(go.Scatter(x=df.loc[df.y==\"d\",\"x1\"],y=df.loc[df.y==\"d\",\"x2\"],mode='markers',marker=dict(color=\"#1f77b4\"),name = \"Dose 2 detectable\",legendgroup='5',showlegend=False),row=1,col=1)\n",
    "del df\n",
    "\n",
    "x,y,dhn,dhd,dnd = newton(all_x_d2_d,y_d2_d,1,2,10,Calinski_Harabasz)\n",
    "data,dist,Nfig,Hfig,Dfig=figure_d2_traces(x,y,dhn,dhd,dnd,True)\n",
    "f.add_trace(data,row=1,col=2)\n",
    "f.add_trace(dist,row=1,col=2)\n",
    "f.add_trace(Nfig,row=1,col=2)\n",
    "f.add_trace(Hfig,row=1,col=2)\n",
    "f.add_trace(Dfig,row=1,col=2)\n",
    "f.update_yaxes(scaleanchor = \"x2\",scaleratio = 1,showticklabels=False,showline=False,ticks=\"\",showgrid=False,zeroline=False,row=1,col=2)\n",
    "f.update_xaxes(showticklabels=False,showline=False,ticks=\"\",showgrid=False,zeroline=False,row=1,col=2)\n",
    "\n",
    "f.add_trace(go.Scatter(x=df3.loc[df3.y==\"h\",\"x1\"],y=df3.loc[df3.y==\"h\",\"x2\"],mode='markers',marker=dict(color=\"#7f7f7f\",symbol=\"cross\"),name = \"Healthy\",legendgroup='5',showlegend=False),row=1,col=3)\n",
    "f.add_trace(go.Scatter(x=df3.loc[df3.y==\"n\",\"x1\"],y=df3.loc[df3.y==\"n\",\"x2\"],mode='markers',marker=dict(color=\"#ff7f0e\",symbol=\"star\"),name = \"Dose 2 non-responders\",legendgroup='5',showlegend=False),row=1,col=3)\n",
    "f.add_trace(go.Scatter(x=df3.loc[df3.y==\"d\",\"x1\"],y=df3.loc[df3.y==\"d\",\"x2\"],mode='markers',marker=dict(color=\"#1f77b4\"),name = \"Dose 2 detectable\",legendgroup='5',showlegend=False),row=1,col=3)\n",
    "del df3\n",
    "\n",
    "x,y,dhn,dhd,dnd = newton(x_d2_d,y_d2_d,1,2,10,Calinski_Harabasz)\n",
    "data,dist,Nfig,Hfig,Dfig=figure_d2_traces(x,y,dhn,dhd,dnd)\n",
    "f.add_trace(data,row=1,col=4)\n",
    "f.add_trace(dist,row=1,col=4)\n",
    "f.add_trace(Nfig,row=1,col=4)\n",
    "f.add_trace(Hfig,row=1,col=4)\n",
    "f.add_trace(Dfig,row=1,col=4)\n",
    "f.update_yaxes(scaleanchor = \"x4\",scaleratio = 1,showticklabels=False,showline=False,ticks=\"\",showgrid=False,zeroline=False,row=1,col=4)\n",
    "f.update_xaxes(showticklabels=False,showline=False,ticks=\"\",showgrid=False,zeroline=False,row=1,col=4)\n",
    "\n",
    "f.add_trace(go.Scatter(x=df7.loc[df7.y==\"h\",\"x1\"],y=df7.loc[df7.y==\"h\",\"x2\"],mode='markers',marker=dict(color=\"#7f7f7f\",symbol=\"cross\"),name = \"Healthy\",legendgroup='5',showlegend=False),row=2,col=1)\n",
    "f.add_trace(go.Scatter(x=df7.loc[df7.y==\"n\",\"x1\"],y=df7.loc[df7.y==\"n\",\"x2\"],mode='markers',marker=dict(color=\"#ffaa00\",symbol=\"star\"),name = \"Dose 3 non-positives\",legendgroup='5',showlegend=False),row=2,col=1)\n",
    "f.add_trace(go.Scatter(x=df7.loc[df7.y==\"d\",\"x1\"],y=df7.loc[df7.y==\"d\",\"x2\"],mode='markers',marker=dict(color=\"#2ca02c\"),name = \"Dose 3 positives\",legendgroup='5',showlegend=False),row=2,col=1)\n",
    "\n",
    "del df7\n",
    "x,y,dhn,dhd,dnd = newton(all_x_d3_p,y_d3_p,1,2,10,Calinski_Harabasz)\n",
    "data,dist,Nfig,Hfig,Dfig=figure_d3_traces(x,y,dhn,dhd,dnd,True)\n",
    "f.add_trace(data,row=2,col=2)\n",
    "f.add_trace(dist,row=2,col=2)\n",
    "f.add_trace(Nfig,row=2,col=2)\n",
    "f.add_trace(Hfig,row=2,col=2)\n",
    "f.add_trace(Dfig,row=2,col=2)\n",
    "f.update_yaxes(scaleanchor = \"x6\",scaleratio = 1,showticklabels=False,showline=False,ticks=\"\",showgrid=False,zeroline=False,row=2,col=2)\n",
    "f.update_xaxes(showticklabels=False,showline=False,ticks=\"\",showgrid=False,zeroline=False,row=2,col=2)\n",
    "\n",
    "f.add_trace(go.Scatter(x=df9.loc[df9.y==\"h\",\"x1\"],y=df9.loc[df9.y==\"h\",\"x2\"],mode='markers',marker=dict(color=\"#7f7f7f\",symbol=\"cross\"),name = \"Healthy\",legendgroup='5',showlegend=False),row=2,col=3)\n",
    "f.add_trace(go.Scatter(x=df9.loc[df9.y==\"n\",\"x1\"],y=df9.loc[df9.y==\"n\",\"x2\"],mode='markers',marker=dict(color=\"#ffaa00\",symbol=\"star\"),name = \"Dose 3 non-positives\",legendgroup='5',showlegend=False),row=2,col=3)\n",
    "f.add_trace(go.Scatter(x=df9.loc[df9.y==\"d\",\"x1\"],y=df9.loc[df9.y==\"d\",\"x2\"],mode='markers',marker=dict(color=\"#2ca02c\"),name = \"Dose 3 positives\",legendgroup='5',showlegend=False),row=2,col=3)\n",
    "f.update_layout(legend_tracegroupgap=180)\n",
    "\n",
    "x,y,dhn,dhd,dnd = newton(x_d3_p,y_d3_p,1,2,10,Calinski_Harabasz)\n",
    "data,dist,Nfig,Hfig,Dfig=figure_d3_traces(x,y,dhn,dhd,dnd)\n",
    "f.add_trace(data,row=2,col=4)\n",
    "f.add_trace(dist,row=2,col=4)\n",
    "f.add_trace(Nfig,row=2,col=4)\n",
    "f.add_trace(Hfig,row=2,col=4)\n",
    "f.add_trace(Dfig,row=2,col=4)\n",
    "\n",
    "f.update_layout(height = 600,width=1000,template= \"plotly_white\",showlegend=True)\n",
    "f.update_xaxes(showticklabels=False,showline=False,ticks=\"\",showgrid=False,zeroline=False)\n",
    "f.update_yaxes(showticklabels=False,showline=False,ticks=\"\",showgrid=False,zeroline=False)\n",
    "\n",
    "f.update_yaxes(scaleanchor = \"x8\",scaleratio = 1,showticklabels=False,showline=False,ticks=\"\",showgrid=False,zeroline=False,row=2,col=4)\n",
    "f.update_xaxes(showticklabels=False,showline=False,ticks=\"\",showgrid=False,zeroline=False,row=2,col=4)\n",
    "\n",
    "\n",
    "f.update_xaxes(showticklabels=True,showline=False,showgrid=False,zeroline=False,row=1,col=1)\n",
    "\n",
    "f.write_image(\"fig3.svg\")\n",
    "f"
   ]
  },
  {
   "cell_type": "markdown",
   "id": "56725fab-0ac0-4d11-937e-b747169d6500",
   "metadata": {},
   "source": [
    "### send to R for fig 4"
   ]
  },
  {
   "cell_type": "code",
   "execution_count": 11,
   "id": "5e160290-8cf5-4d0d-8201-f2ee553f0dac",
   "metadata": {},
   "outputs": [],
   "source": [
    "file = open(fold + \"/data_aux/feature_a1.pkl\",\"rb\")\n",
    "data = pk.load(file)\n",
    "file.close()\n",
    "d2_d = data[\"d2_d\"]\n",
    "d3_p = data[\"d3_p\"]\n",
    "d2_d = d2_d.loc[d2_d.pvalue<=0.05]\n",
    "d3_p = d3_p.loc[d3_p.pvalue<=0.05]\n",
    "d2_d = d2_d.sort_values(by=['mu'],ascending=False).iloc[0:10,:]\n",
    "d3_p = d3_p.sort_values(by=['mu'],ascending=False).iloc[0:10,:]\n",
    "f_d2_d = list(d2_d[\"var\"])\n",
    "f_d3_p = list(d3_p[\"var\"])\n",
    "\n",
    "file = open(fold + \"/data_aux/immune_clean_a3.pkl\",\"rb\")\n",
    "data = pk.load(file)\n",
    "file.close()\n",
    "d2_d = data[\"d2_d\"]\n",
    "d3_p = data[\"d3_p\"]\n",
    "d2_d = d2_d[[\"Sample\",\"batch\",\"type\",\"gr_d2_d\"]+ f_d2_d]\n",
    "d3_p = d3_p[[\"Sample\",\"batch\",\"type\",\"gr_d3_p\"]+ f_d3_p]\n",
    "d2_d_lab =pd.read_csv(\"d2_d_lab.csv\",sep=\"\\t\")\n",
    "d2_d_lab = dict(zip(d2_d_lab['var'],d2_d_lab['Short name']))\n",
    "d3_p_lab =pd.read_csv(\"d3_p_lab.csv\",sep=\"\\t\")\n",
    "d3_p_lab = dict(zip(d3_p_lab['var'],d3_p_lab['Short name']))\n",
    "col = []\n",
    "for c in d2_d.columns:\n",
    "    col.append(d2_d_lab[c] if c in d2_d_lab else c)\n",
    "d2_d.columns = col\n",
    "col = []\n",
    "for c in d3_p.columns:\n",
    "    col.append(d3_p_lab[c] if c in d3_p_lab else c)\n",
    "d3_p.columns = col\n",
    "\n",
    "d2_d.to_csv(fold + \"/data_aux/heat_d2_d.csv\",index=False)\n",
    "d3_p.to_csv(fold + \"/data_aux/heat_d3_p.csv\",index=False)"
   ]
  },
  {
   "cell_type": "markdown",
   "id": "90fe3b24-97ab-48a6-954f-085771eab07e",
   "metadata": {},
   "source": [
    "### Fig 4 C and D"
   ]
  },
  {
   "cell_type": "code",
   "execution_count": 132,
   "id": "3742cb8c-455d-4d06-b28b-f923e0db30ea",
   "metadata": {},
   "outputs": [],
   "source": [
    "#C\n",
    "d2fd = pd.read_csv(fold + \"/data_aux/comp_detect_d2_d.csv\")\n",
    "d2fn = pd.read_csv(fold + \"/data_aux/comp_ndetect_d2_d.csv\")\n",
    "var = []\n",
    "tam = len(d2fd)\n",
    "for i in range(tam):\n",
    "    for j in range(tam):\n",
    "        if(i<j):\n",
    "            var.append(d2fd.iloc[i,j])\n",
    "var = list(np.abs(var))\n",
    "d2fd = var\n",
    "var = []\n",
    "tam = len(d2fn)\n",
    "for i in range(tam):\n",
    "    for j in range(tam):\n",
    "        if(i<j):\n",
    "            var.append(d2fn.iloc[i,j])\n",
    "var = list(np.abs(var))\n",
    "d2fn = var\n",
    "\n",
    "d3fd = pd.read_csv(fold + \"/data_aux/comp_detect_d3_p.csv\")\n",
    "d3fn = pd.read_csv(fold + \"/data_aux/comp_ndetect_d3_p.csv\")\n",
    "var = []\n",
    "tam = len(d3fd)\n",
    "for i in range(tam):\n",
    "    for j in range(tam):\n",
    "        if(i<j):\n",
    "            var.append(d3fd.iloc[i,j])\n",
    "var = list(np.abs(var))\n",
    "d3fd = var\n",
    "var = []\n",
    "tam = len(d3fn)\n",
    "for i in range(tam):\n",
    "    for j in range(tam):\n",
    "        if(i<j):\n",
    "            var.append(d3fn.iloc[i,j])\n",
    "var = list(np.abs(var))\n",
    "d3fn = var\n",
    "\n",
    "var = d2fd + d2fn + d3fd + d3fn\n",
    "\n",
    "d2fd = [ \"responders\" for i in range(len(d2fd))]\n",
    "d2fn = [ \"non-responders\" for i in range(len(d2fn))]\n",
    "d3fd = [ \"positive\" for i in range(len(d3fd))]\n",
    "d3fn = [ \"non-positive\" for i in range(len(d3fn))]\n",
    "\n",
    "lab = d2fd + d2fn + d3fd + d3fn\n",
    "\n",
    "d2 = [\"Dose 2\" for i in range(len(d2fd)+len(d2fn))]\n",
    "d3 = [\"Dose 3\" for i in range(len(d3fd)+len(d3fn))]\n",
    "\n",
    "lab2 = d2 + d3\n",
    "banco = pd.DataFrame({\"var\":var,\"lab\":lab, \"lab2\":lab2})"
   ]
  },
  {
   "cell_type": "code",
   "execution_count": 133,
   "id": "28e589c5-320d-434d-8bf9-fa8c8c1241a2",
   "metadata": {},
   "outputs": [
    {
     "data": {
      "text/html": [
       "<div>\n",
       "<style scoped>\n",
       "    .dataframe tbody tr th:only-of-type {\n",
       "        vertical-align: middle;\n",
       "    }\n",
       "\n",
       "    .dataframe tbody tr th {\n",
       "        vertical-align: top;\n",
       "    }\n",
       "\n",
       "    .dataframe thead th {\n",
       "        text-align: right;\n",
       "    }\n",
       "</style>\n",
       "<table border=\"1\" class=\"dataframe\">\n",
       "  <thead>\n",
       "    <tr style=\"text-align: right;\">\n",
       "      <th></th>\n",
       "      <th>var</th>\n",
       "      <th>lab</th>\n",
       "      <th>lab2</th>\n",
       "    </tr>\n",
       "  </thead>\n",
       "  <tbody>\n",
       "    <tr>\n",
       "      <th>0</th>\n",
       "      <td>0.081610</td>\n",
       "      <td>responders</td>\n",
       "      <td>Dose 2</td>\n",
       "    </tr>\n",
       "    <tr>\n",
       "      <th>1</th>\n",
       "      <td>0.292211</td>\n",
       "      <td>responders</td>\n",
       "      <td>Dose 2</td>\n",
       "    </tr>\n",
       "    <tr>\n",
       "      <th>2</th>\n",
       "      <td>0.427343</td>\n",
       "      <td>responders</td>\n",
       "      <td>Dose 2</td>\n",
       "    </tr>\n",
       "    <tr>\n",
       "      <th>3</th>\n",
       "      <td>0.792146</td>\n",
       "      <td>responders</td>\n",
       "      <td>Dose 2</td>\n",
       "    </tr>\n",
       "    <tr>\n",
       "      <th>4</th>\n",
       "      <td>0.317453</td>\n",
       "      <td>responders</td>\n",
       "      <td>Dose 2</td>\n",
       "    </tr>\n",
       "    <tr>\n",
       "      <th>...</th>\n",
       "      <td>...</td>\n",
       "      <td>...</td>\n",
       "      <td>...</td>\n",
       "    </tr>\n",
       "    <tr>\n",
       "      <th>175</th>\n",
       "      <td>0.423960</td>\n",
       "      <td>non-positive</td>\n",
       "      <td>Dose 3</td>\n",
       "    </tr>\n",
       "    <tr>\n",
       "      <th>176</th>\n",
       "      <td>0.143074</td>\n",
       "      <td>non-positive</td>\n",
       "      <td>Dose 3</td>\n",
       "    </tr>\n",
       "    <tr>\n",
       "      <th>177</th>\n",
       "      <td>0.014784</td>\n",
       "      <td>non-positive</td>\n",
       "      <td>Dose 3</td>\n",
       "    </tr>\n",
       "    <tr>\n",
       "      <th>178</th>\n",
       "      <td>0.122272</td>\n",
       "      <td>non-positive</td>\n",
       "      <td>Dose 3</td>\n",
       "    </tr>\n",
       "    <tr>\n",
       "      <th>179</th>\n",
       "      <td>0.124730</td>\n",
       "      <td>non-positive</td>\n",
       "      <td>Dose 3</td>\n",
       "    </tr>\n",
       "  </tbody>\n",
       "</table>\n",
       "<p>180 rows × 3 columns</p>\n",
       "</div>"
      ],
      "text/plain": [
       "          var           lab    lab2\n",
       "0    0.081610    responders  Dose 2\n",
       "1    0.292211    responders  Dose 2\n",
       "2    0.427343    responders  Dose 2\n",
       "3    0.792146    responders  Dose 2\n",
       "4    0.317453    responders  Dose 2\n",
       "..        ...           ...     ...\n",
       "175  0.423960  non-positive  Dose 3\n",
       "176  0.143074  non-positive  Dose 3\n",
       "177  0.014784  non-positive  Dose 3\n",
       "178  0.122272  non-positive  Dose 3\n",
       "179  0.124730  non-positive  Dose 3\n",
       "\n",
       "[180 rows x 3 columns]"
      ]
     },
     "execution_count": 133,
     "metadata": {},
     "output_type": "execute_result"
    }
   ],
   "source": [
    "banco"
   ]
  },
  {
   "cell_type": "code",
   "execution_count": 160,
   "id": "a6221c20-5fe8-40f6-98b6-863226dfda6a",
   "metadata": {},
   "outputs": [
    {
     "data": {
      "application/vnd.plotly.v1+json": {
       "config": {
        "plotlyServerURL": "https://plot.ly"
       },
       "data": [
        {
         "jitter": 0.25,
         "legendgroup": "Dose 2",
         "line": {
          "color": "#1f77b4"
         },
         "meanline": {
          "visible": true
         },
         "name": "responders",
         "points": "all",
         "scalegroup": "Dose 2",
         "scalemode": "count",
         "side": "positive",
         "type": "violin",
         "x": [
          "Dose 2",
          "Dose 2",
          "Dose 2",
          "Dose 2",
          "Dose 2",
          "Dose 2",
          "Dose 2",
          "Dose 2",
          "Dose 2",
          "Dose 2",
          "Dose 2",
          "Dose 2",
          "Dose 2",
          "Dose 2",
          "Dose 2",
          "Dose 2",
          "Dose 2",
          "Dose 2",
          "Dose 2",
          "Dose 2",
          "Dose 2",
          "Dose 2",
          "Dose 2",
          "Dose 2",
          "Dose 2",
          "Dose 2",
          "Dose 2",
          "Dose 2",
          "Dose 2",
          "Dose 2",
          "Dose 2",
          "Dose 2",
          "Dose 2",
          "Dose 2",
          "Dose 2",
          "Dose 2",
          "Dose 2",
          "Dose 2",
          "Dose 2",
          "Dose 2",
          "Dose 2",
          "Dose 2",
          "Dose 2",
          "Dose 2",
          "Dose 2"
         ],
         "xaxis": "x",
         "y": [
          0.0816095669036845,
          0.292210730446025,
          0.427343244990304,
          0.792146089204913,
          0.317453135100194,
          0.806593406593407,
          0.10617323852618,
          0.401519069166128,
          0.326147382029735,
          0.216253302940609,
          0.499875253745223,
          0.145924766667801,
          0.608115310901689,
          0.0708388618605337,
          0.292864514226743,
          0.709465972623867,
          0.547704101883668,
          0.584912507513127,
          0.436606221435943,
          0.243385613354654,
          0.689024597693328,
          1.1696492362127,
          0.556759545923633,
          0.343483142244752,
          0.0115503691355084,
          0.220369929348258,
          0.0280792478934894,
          0.223423944476576,
          0.108540582224793,
          0.455137844611529,
          0.417446330759024,
          0.0342485172206533,
          0.171407024348201,
          0.311599133580558,
          0.300525068326926,
          0.425033171163202,
          0.429886934530897,
          0.176357182549133,
          0.565355696934644,
          0.150512026673017,
          0.295671304959231,
          0.274918064391749,
          0.170985155195682,
          0.100713321765953,
          0.195045305571621
         ],
         "yaxis": "y"
        },
        {
         "jitter": 0.25,
         "legendgroup": "Dose 2",
         "line": {
          "color": "#ff7f0e"
         },
         "meanline": {
          "visible": true
         },
         "name": "non-responders",
         "points": "all",
         "scalegroup": "Dose 2",
         "scalemode": "count",
         "side": "negative",
         "type": "violin",
         "x": [
          "Dose 2",
          "Dose 2",
          "Dose 2",
          "Dose 2",
          "Dose 2",
          "Dose 2",
          "Dose 2",
          "Dose 2",
          "Dose 2",
          "Dose 2",
          "Dose 2",
          "Dose 2",
          "Dose 2",
          "Dose 2",
          "Dose 2",
          "Dose 2",
          "Dose 2",
          "Dose 2",
          "Dose 2",
          "Dose 2",
          "Dose 2",
          "Dose 2",
          "Dose 2",
          "Dose 2",
          "Dose 2",
          "Dose 2",
          "Dose 2",
          "Dose 2",
          "Dose 2",
          "Dose 2",
          "Dose 2",
          "Dose 2",
          "Dose 2",
          "Dose 2",
          "Dose 2",
          "Dose 2",
          "Dose 2",
          "Dose 2",
          "Dose 2",
          "Dose 2",
          "Dose 2",
          "Dose 2",
          "Dose 2",
          "Dose 2",
          "Dose 2"
         ],
         "xaxis": "x",
         "y": [
          0.155750915750916,
          0.126373626373626,
          0.262515262515262,
          0.269230769230769,
          0.227789987789988,
          0.417582417582418,
          0.123931623931624,
          0.169108669108669,
          0.469474969474969,
          0.26625390738294,
          0.278938803132352,
          0.302485820630982,
          0.129552439897268,
          0.320224130708002,
          0.0567226890756302,
          0.610734853381912,
          0.563899335958159,
          0.0431640431640432,
          0.457219251336898,
          0.0819261939395421,
          0.538073691014868,
          0.403257103257103,
          0.513642213642214,
          0.134164934164934,
          0.0117862529627236,
          0.0469923847009498,
          0.136501336501337,
          0.0759122338069707,
          0.640072113756324,
          0.167987536408589,
          0.428230390299356,
          0.0005171299288947,
          0.324348200818789,
          0.274078862314156,
          0.364641241111829,
          0.324201493723184,
          0.505560512902003,
          0.0083144886259458,
          0.238794020217824,
          0.347594558120874,
          0.262800973327289,
          0.270887718256139,
          0.117299485720538,
          0.131500789395526,
          0.162466978256452
         ],
         "yaxis": "y"
        },
        {
         "jitter": 0.25,
         "legendgroup": "Dose 3",
         "line": {
          "color": "#2ca02c"
         },
         "meanline": {
          "visible": true
         },
         "name": "positive",
         "points": "all",
         "scalegroup": "Dose 3",
         "scalemode": "count",
         "side": "positive",
         "type": "violin",
         "x": [
          "Dose 3",
          "Dose 3",
          "Dose 3",
          "Dose 3",
          "Dose 3",
          "Dose 3",
          "Dose 3",
          "Dose 3",
          "Dose 3",
          "Dose 3",
          "Dose 3",
          "Dose 3",
          "Dose 3",
          "Dose 3",
          "Dose 3",
          "Dose 3",
          "Dose 3",
          "Dose 3",
          "Dose 3",
          "Dose 3",
          "Dose 3",
          "Dose 3",
          "Dose 3",
          "Dose 3",
          "Dose 3",
          "Dose 3",
          "Dose 3",
          "Dose 3",
          "Dose 3",
          "Dose 3",
          "Dose 3",
          "Dose 3",
          "Dose 3",
          "Dose 3",
          "Dose 3",
          "Dose 3",
          "Dose 3",
          "Dose 3",
          "Dose 3",
          "Dose 3",
          "Dose 3",
          "Dose 3",
          "Dose 3",
          "Dose 3",
          "Dose 3"
         ],
         "xaxis": "x2",
         "y": [
          0.117182817182817,
          0.368231768231768,
          0.74035964035964,
          0.608991008991009,
          0.424575424575425,
          0.0918081918081919,
          0.505677655677656,
          0.313886113886114,
          0.0594405594405594,
          0.621178821178821,
          0.005830753353973,
          0.65984015984016,
          0.427572427572428,
          0.0265369305616984,
          0.381318681318681,
          0.268831168831169,
          0.236363636363636,
          0.92037962037962,
          0.47012987012987,
          0.260639360639361,
          0.595604395604396,
          0.473809523809524,
          0.2997002997003,
          0.135664335664336,
          0.199300699300699,
          0.377622377622378,
          0.0438596491228071,
          0.105311355311355,
          0.478821178821179,
          0.0713286713286713,
          0.117882117882118,
          0.408991008991009,
          0.201465201465201,
          0.458541458541459,
          0.079020979020979,
          0.659440559440559,
          0.575274725274725,
          0.640759240759241,
          0.324475524475524,
          0.365201465201465,
          0.246853146853147,
          0.234265734265734,
          0.0327838827838828,
          0.18006993006993,
          0.242657342657343
         ],
         "yaxis": "y2"
        },
        {
         "jitter": 0.25,
         "legendgroup": "Dose 3",
         "line": {
          "color": "#ffaa00"
         },
         "meanline": {
          "visible": true
         },
         "name": "non-positive",
         "points": "all",
         "scalegroup": "Dose 3",
         "scalemode": "count",
         "side": "negative",
         "type": "violin",
         "x": [
          "Dose 3",
          "Dose 3",
          "Dose 3",
          "Dose 3",
          "Dose 3",
          "Dose 3",
          "Dose 3",
          "Dose 3",
          "Dose 3",
          "Dose 3",
          "Dose 3",
          "Dose 3",
          "Dose 3",
          "Dose 3",
          "Dose 3",
          "Dose 3",
          "Dose 3",
          "Dose 3",
          "Dose 3",
          "Dose 3",
          "Dose 3",
          "Dose 3",
          "Dose 3",
          "Dose 3",
          "Dose 3",
          "Dose 3",
          "Dose 3",
          "Dose 3",
          "Dose 3",
          "Dose 3",
          "Dose 3",
          "Dose 3",
          "Dose 3",
          "Dose 3",
          "Dose 3",
          "Dose 3",
          "Dose 3",
          "Dose 3",
          "Dose 3",
          "Dose 3",
          "Dose 3",
          "Dose 3",
          "Dose 3",
          "Dose 3",
          "Dose 3"
         ],
         "xaxis": "x2",
         "y": [
          0.235121741004094,
          0.160080554817397,
          0.247391347391347,
          0.699042304305462,
          0.583246056930268,
          0.202564102564103,
          0.688033380289588,
          0.298594198594199,
          0.44851618969266,
          0.135057099762982,
          0.037091640567311,
          0.160518760518761,
          0.802148302148302,
          0.0031935469168952,
          0.691319806508561,
          0.395238095238095,
          0.127673796791444,
          0.694733194733195,
          0.85504301293775,
          0.348936269988902,
          0.231738849385908,
          0.16212091594021,
          0.363488763488764,
          0.0253746253746254,
          0.137141189772769,
          0.306269832585622,
          0.0683794134871886,
          0.719000188218645,
          0.0562518562518562,
          0.329893635775989,
          0.0863489284541916,
          0.0271260271260271,
          0.118366612861795,
          0.0693652009441483,
          0.189071712601124,
          0.852163152163152,
          0.174268986806341,
          0.322271374902954,
          0.140340052104758,
          0.713877358425143,
          0.423960353372118,
          0.143073837926779,
          0.0147841365251553,
          0.122271916369962,
          0.124730171788995
         ],
         "yaxis": "y2"
        }
       ],
       "layout": {
        "height": 500,
        "template": {
         "data": {
          "bar": [
           {
            "error_x": {
             "color": "#2a3f5f"
            },
            "error_y": {
             "color": "#2a3f5f"
            },
            "marker": {
             "line": {
              "color": "white",
              "width": 0.5
             },
             "pattern": {
              "fillmode": "overlay",
              "size": 10,
              "solidity": 0.2
             }
            },
            "type": "bar"
           }
          ],
          "barpolar": [
           {
            "marker": {
             "line": {
              "color": "white",
              "width": 0.5
             },
             "pattern": {
              "fillmode": "overlay",
              "size": 10,
              "solidity": 0.2
             }
            },
            "type": "barpolar"
           }
          ],
          "carpet": [
           {
            "aaxis": {
             "endlinecolor": "#2a3f5f",
             "gridcolor": "#C8D4E3",
             "linecolor": "#C8D4E3",
             "minorgridcolor": "#C8D4E3",
             "startlinecolor": "#2a3f5f"
            },
            "baxis": {
             "endlinecolor": "#2a3f5f",
             "gridcolor": "#C8D4E3",
             "linecolor": "#C8D4E3",
             "minorgridcolor": "#C8D4E3",
             "startlinecolor": "#2a3f5f"
            },
            "type": "carpet"
           }
          ],
          "choropleth": [
           {
            "colorbar": {
             "outlinewidth": 0,
             "ticks": ""
            },
            "type": "choropleth"
           }
          ],
          "contour": [
           {
            "colorbar": {
             "outlinewidth": 0,
             "ticks": ""
            },
            "colorscale": [
             [
              0,
              "#0d0887"
             ],
             [
              0.1111111111111111,
              "#46039f"
             ],
             [
              0.2222222222222222,
              "#7201a8"
             ],
             [
              0.3333333333333333,
              "#9c179e"
             ],
             [
              0.4444444444444444,
              "#bd3786"
             ],
             [
              0.5555555555555556,
              "#d8576b"
             ],
             [
              0.6666666666666666,
              "#ed7953"
             ],
             [
              0.7777777777777778,
              "#fb9f3a"
             ],
             [
              0.8888888888888888,
              "#fdca26"
             ],
             [
              1,
              "#f0f921"
             ]
            ],
            "type": "contour"
           }
          ],
          "contourcarpet": [
           {
            "colorbar": {
             "outlinewidth": 0,
             "ticks": ""
            },
            "type": "contourcarpet"
           }
          ],
          "heatmap": [
           {
            "colorbar": {
             "outlinewidth": 0,
             "ticks": ""
            },
            "colorscale": [
             [
              0,
              "#0d0887"
             ],
             [
              0.1111111111111111,
              "#46039f"
             ],
             [
              0.2222222222222222,
              "#7201a8"
             ],
             [
              0.3333333333333333,
              "#9c179e"
             ],
             [
              0.4444444444444444,
              "#bd3786"
             ],
             [
              0.5555555555555556,
              "#d8576b"
             ],
             [
              0.6666666666666666,
              "#ed7953"
             ],
             [
              0.7777777777777778,
              "#fb9f3a"
             ],
             [
              0.8888888888888888,
              "#fdca26"
             ],
             [
              1,
              "#f0f921"
             ]
            ],
            "type": "heatmap"
           }
          ],
          "heatmapgl": [
           {
            "colorbar": {
             "outlinewidth": 0,
             "ticks": ""
            },
            "colorscale": [
             [
              0,
              "#0d0887"
             ],
             [
              0.1111111111111111,
              "#46039f"
             ],
             [
              0.2222222222222222,
              "#7201a8"
             ],
             [
              0.3333333333333333,
              "#9c179e"
             ],
             [
              0.4444444444444444,
              "#bd3786"
             ],
             [
              0.5555555555555556,
              "#d8576b"
             ],
             [
              0.6666666666666666,
              "#ed7953"
             ],
             [
              0.7777777777777778,
              "#fb9f3a"
             ],
             [
              0.8888888888888888,
              "#fdca26"
             ],
             [
              1,
              "#f0f921"
             ]
            ],
            "type": "heatmapgl"
           }
          ],
          "histogram": [
           {
            "marker": {
             "pattern": {
              "fillmode": "overlay",
              "size": 10,
              "solidity": 0.2
             }
            },
            "type": "histogram"
           }
          ],
          "histogram2d": [
           {
            "colorbar": {
             "outlinewidth": 0,
             "ticks": ""
            },
            "colorscale": [
             [
              0,
              "#0d0887"
             ],
             [
              0.1111111111111111,
              "#46039f"
             ],
             [
              0.2222222222222222,
              "#7201a8"
             ],
             [
              0.3333333333333333,
              "#9c179e"
             ],
             [
              0.4444444444444444,
              "#bd3786"
             ],
             [
              0.5555555555555556,
              "#d8576b"
             ],
             [
              0.6666666666666666,
              "#ed7953"
             ],
             [
              0.7777777777777778,
              "#fb9f3a"
             ],
             [
              0.8888888888888888,
              "#fdca26"
             ],
             [
              1,
              "#f0f921"
             ]
            ],
            "type": "histogram2d"
           }
          ],
          "histogram2dcontour": [
           {
            "colorbar": {
             "outlinewidth": 0,
             "ticks": ""
            },
            "colorscale": [
             [
              0,
              "#0d0887"
             ],
             [
              0.1111111111111111,
              "#46039f"
             ],
             [
              0.2222222222222222,
              "#7201a8"
             ],
             [
              0.3333333333333333,
              "#9c179e"
             ],
             [
              0.4444444444444444,
              "#bd3786"
             ],
             [
              0.5555555555555556,
              "#d8576b"
             ],
             [
              0.6666666666666666,
              "#ed7953"
             ],
             [
              0.7777777777777778,
              "#fb9f3a"
             ],
             [
              0.8888888888888888,
              "#fdca26"
             ],
             [
              1,
              "#f0f921"
             ]
            ],
            "type": "histogram2dcontour"
           }
          ],
          "mesh3d": [
           {
            "colorbar": {
             "outlinewidth": 0,
             "ticks": ""
            },
            "type": "mesh3d"
           }
          ],
          "parcoords": [
           {
            "line": {
             "colorbar": {
              "outlinewidth": 0,
              "ticks": ""
             }
            },
            "type": "parcoords"
           }
          ],
          "pie": [
           {
            "automargin": true,
            "type": "pie"
           }
          ],
          "scatter": [
           {
            "fillpattern": {
             "fillmode": "overlay",
             "size": 10,
             "solidity": 0.2
            },
            "type": "scatter"
           }
          ],
          "scatter3d": [
           {
            "line": {
             "colorbar": {
              "outlinewidth": 0,
              "ticks": ""
             }
            },
            "marker": {
             "colorbar": {
              "outlinewidth": 0,
              "ticks": ""
             }
            },
            "type": "scatter3d"
           }
          ],
          "scattercarpet": [
           {
            "marker": {
             "colorbar": {
              "outlinewidth": 0,
              "ticks": ""
             }
            },
            "type": "scattercarpet"
           }
          ],
          "scattergeo": [
           {
            "marker": {
             "colorbar": {
              "outlinewidth": 0,
              "ticks": ""
             }
            },
            "type": "scattergeo"
           }
          ],
          "scattergl": [
           {
            "marker": {
             "colorbar": {
              "outlinewidth": 0,
              "ticks": ""
             }
            },
            "type": "scattergl"
           }
          ],
          "scattermapbox": [
           {
            "marker": {
             "colorbar": {
              "outlinewidth": 0,
              "ticks": ""
             }
            },
            "type": "scattermapbox"
           }
          ],
          "scatterpolar": [
           {
            "marker": {
             "colorbar": {
              "outlinewidth": 0,
              "ticks": ""
             }
            },
            "type": "scatterpolar"
           }
          ],
          "scatterpolargl": [
           {
            "marker": {
             "colorbar": {
              "outlinewidth": 0,
              "ticks": ""
             }
            },
            "type": "scatterpolargl"
           }
          ],
          "scatterternary": [
           {
            "marker": {
             "colorbar": {
              "outlinewidth": 0,
              "ticks": ""
             }
            },
            "type": "scatterternary"
           }
          ],
          "surface": [
           {
            "colorbar": {
             "outlinewidth": 0,
             "ticks": ""
            },
            "colorscale": [
             [
              0,
              "#0d0887"
             ],
             [
              0.1111111111111111,
              "#46039f"
             ],
             [
              0.2222222222222222,
              "#7201a8"
             ],
             [
              0.3333333333333333,
              "#9c179e"
             ],
             [
              0.4444444444444444,
              "#bd3786"
             ],
             [
              0.5555555555555556,
              "#d8576b"
             ],
             [
              0.6666666666666666,
              "#ed7953"
             ],
             [
              0.7777777777777778,
              "#fb9f3a"
             ],
             [
              0.8888888888888888,
              "#fdca26"
             ],
             [
              1,
              "#f0f921"
             ]
            ],
            "type": "surface"
           }
          ],
          "table": [
           {
            "cells": {
             "fill": {
              "color": "#EBF0F8"
             },
             "line": {
              "color": "white"
             }
            },
            "header": {
             "fill": {
              "color": "#C8D4E3"
             },
             "line": {
              "color": "white"
             }
            },
            "type": "table"
           }
          ]
         },
         "layout": {
          "annotationdefaults": {
           "arrowcolor": "#2a3f5f",
           "arrowhead": 0,
           "arrowwidth": 1
          },
          "autotypenumbers": "strict",
          "coloraxis": {
           "colorbar": {
            "outlinewidth": 0,
            "ticks": ""
           }
          },
          "colorscale": {
           "diverging": [
            [
             0,
             "#8e0152"
            ],
            [
             0.1,
             "#c51b7d"
            ],
            [
             0.2,
             "#de77ae"
            ],
            [
             0.3,
             "#f1b6da"
            ],
            [
             0.4,
             "#fde0ef"
            ],
            [
             0.5,
             "#f7f7f7"
            ],
            [
             0.6,
             "#e6f5d0"
            ],
            [
             0.7,
             "#b8e186"
            ],
            [
             0.8,
             "#7fbc41"
            ],
            [
             0.9,
             "#4d9221"
            ],
            [
             1,
             "#276419"
            ]
           ],
           "sequential": [
            [
             0,
             "#0d0887"
            ],
            [
             0.1111111111111111,
             "#46039f"
            ],
            [
             0.2222222222222222,
             "#7201a8"
            ],
            [
             0.3333333333333333,
             "#9c179e"
            ],
            [
             0.4444444444444444,
             "#bd3786"
            ],
            [
             0.5555555555555556,
             "#d8576b"
            ],
            [
             0.6666666666666666,
             "#ed7953"
            ],
            [
             0.7777777777777778,
             "#fb9f3a"
            ],
            [
             0.8888888888888888,
             "#fdca26"
            ],
            [
             1,
             "#f0f921"
            ]
           ],
           "sequentialminus": [
            [
             0,
             "#0d0887"
            ],
            [
             0.1111111111111111,
             "#46039f"
            ],
            [
             0.2222222222222222,
             "#7201a8"
            ],
            [
             0.3333333333333333,
             "#9c179e"
            ],
            [
             0.4444444444444444,
             "#bd3786"
            ],
            [
             0.5555555555555556,
             "#d8576b"
            ],
            [
             0.6666666666666666,
             "#ed7953"
            ],
            [
             0.7777777777777778,
             "#fb9f3a"
            ],
            [
             0.8888888888888888,
             "#fdca26"
            ],
            [
             1,
             "#f0f921"
            ]
           ]
          },
          "colorway": [
           "#636efa",
           "#EF553B",
           "#00cc96",
           "#ab63fa",
           "#FFA15A",
           "#19d3f3",
           "#FF6692",
           "#B6E880",
           "#FF97FF",
           "#FECB52"
          ],
          "font": {
           "color": "#2a3f5f"
          },
          "geo": {
           "bgcolor": "white",
           "lakecolor": "white",
           "landcolor": "white",
           "showlakes": true,
           "showland": true,
           "subunitcolor": "#C8D4E3"
          },
          "hoverlabel": {
           "align": "left"
          },
          "hovermode": "closest",
          "mapbox": {
           "style": "light"
          },
          "paper_bgcolor": "white",
          "plot_bgcolor": "white",
          "polar": {
           "angularaxis": {
            "gridcolor": "#EBF0F8",
            "linecolor": "#EBF0F8",
            "ticks": ""
           },
           "bgcolor": "white",
           "radialaxis": {
            "gridcolor": "#EBF0F8",
            "linecolor": "#EBF0F8",
            "ticks": ""
           }
          },
          "scene": {
           "xaxis": {
            "backgroundcolor": "white",
            "gridcolor": "#DFE8F3",
            "gridwidth": 2,
            "linecolor": "#EBF0F8",
            "showbackground": true,
            "ticks": "",
            "zerolinecolor": "#EBF0F8"
           },
           "yaxis": {
            "backgroundcolor": "white",
            "gridcolor": "#DFE8F3",
            "gridwidth": 2,
            "linecolor": "#EBF0F8",
            "showbackground": true,
            "ticks": "",
            "zerolinecolor": "#EBF0F8"
           },
           "zaxis": {
            "backgroundcolor": "white",
            "gridcolor": "#DFE8F3",
            "gridwidth": 2,
            "linecolor": "#EBF0F8",
            "showbackground": true,
            "ticks": "",
            "zerolinecolor": "#EBF0F8"
           }
          },
          "shapedefaults": {
           "line": {
            "color": "#2a3f5f"
           }
          },
          "ternary": {
           "aaxis": {
            "gridcolor": "#DFE8F3",
            "linecolor": "#A2B1C6",
            "ticks": ""
           },
           "baxis": {
            "gridcolor": "#DFE8F3",
            "linecolor": "#A2B1C6",
            "ticks": ""
           },
           "bgcolor": "white",
           "caxis": {
            "gridcolor": "#DFE8F3",
            "linecolor": "#A2B1C6",
            "ticks": ""
           }
          },
          "title": {
           "x": 0.05
          },
          "xaxis": {
           "automargin": true,
           "gridcolor": "#EBF0F8",
           "linecolor": "#EBF0F8",
           "ticks": "",
           "title": {
            "standoff": 15
           },
           "zerolinecolor": "#EBF0F8",
           "zerolinewidth": 2
          },
          "yaxis": {
           "automargin": true,
           "gridcolor": "#EBF0F8",
           "linecolor": "#EBF0F8",
           "ticks": "",
           "title": {
            "standoff": 15
           },
           "zerolinecolor": "#EBF0F8",
           "zerolinewidth": 2
          }
         }
        },
        "title": {
         "text": "C",
         "x": 0.5
        },
        "violingap": 0,
        "violinmode": "overlay",
        "width": 600,
        "xaxis": {
         "anchor": "y",
         "autorange": true,
         "domain": [
          0,
          0.49
         ],
         "range": [
          -0.6782034531601054,
          0.2988528133242161
         ],
         "type": "category"
        },
        "xaxis2": {
         "anchor": "y2",
         "autorange": true,
         "domain": [
          0.51,
          1
         ],
         "range": [
          -0.6782034531601054,
          0.2988528133242161
         ],
         "type": "category"
        },
        "yaxis": {
         "anchor": "x",
         "autorange": true,
         "domain": [
          0,
          1
         ],
         "range": [
          -0.3104658123782028,
          1.475269568645759
         ],
         "title": {
          "text": "Cell populations relationships<br>(diferencital correlation)"
         },
         "type": "linear"
        },
        "yaxis2": {
         "anchor": "x2",
         "autorange": true,
         "domain": [
          0,
          1
         ],
         "matches": "y",
         "range": [
          -0.3104658123782028,
          1.475269568645759
         ],
         "showticklabels": false,
         "type": "linear"
        }
       }
      },
      "image/png": "[encoded data removed]",
      "text/html": [
       "<div>                            <div id=\"126478e4-ef05-4584-868f-83e60af6c53b\" class=\"plotly-graph-div\" style=\"height:500px; width:600px;\"></div>            <script type=\"text/javascript\">                require([\"plotly\"], function(Plotly) {                    window.PLOTLYENV=window.PLOTLYENV || {};                                    if (document.getElementById(\"126478e4-ef05-4584-868f-83e60af6c53b\")) {                    Plotly.newPlot(                        \"126478e4-ef05-4584-868f-83e60af6c53b\",                        [{\"legendgroup\":\"Dose 2\",\"line\":{\"color\":\"#1f77b4\"},\"name\":\"responders\",\"scalegroup\":\"Dose 2\",\"side\":\"positive\",\"x\":[\"Dose 2\",\"Dose 2\",\"Dose 2\",\"Dose 2\",\"Dose 2\",\"Dose 2\",\"Dose 2\",\"Dose 2\",\"Dose 2\",\"Dose 2\",\"Dose 2\",\"Dose 2\",\"Dose 2\",\"Dose 2\",\"Dose 2\",\"Dose 2\",\"Dose 2\",\"Dose 2\",\"Dose 2\",\"Dose 2\",\"Dose 2\",\"Dose 2\",\"Dose 2\",\"Dose 2\",\"Dose 2\",\"Dose 2\",\"Dose 2\",\"Dose 2\",\"Dose 2\",\"Dose 2\",\"Dose 2\",\"Dose 2\",\"Dose 2\",\"Dose 2\",\"Dose 2\",\"Dose 2\",\"Dose 2\",\"Dose 2\",\"Dose 2\",\"Dose 2\",\"Dose 2\",\"Dose 2\",\"Dose 2\",\"Dose 2\",\"Dose 2\"],\"y\":[0.0816095669036845,0.292210730446025,0.427343244990304,0.792146089204913,0.317453135100194,0.806593406593407,0.10617323852618,0.401519069166128,0.326147382029735,0.216253302940609,0.499875253745223,0.145924766667801,0.608115310901689,0.0708388618605337,0.292864514226743,0.709465972623867,0.547704101883668,0.584912507513127,0.436606221435943,0.243385613354654,0.689024597693328,1.1696492362127,0.556759545923633,0.343483142244752,0.0115503691355084,0.220369929348258,0.0280792478934894,0.223423944476576,0.108540582224793,0.455137844611529,0.417446330759024,0.0342485172206533,0.171407024348201,0.311599133580558,0.300525068326926,0.425033171163202,0.429886934530897,0.176357182549133,0.565355696934644,0.150512026673017,0.295671304959231,0.274918064391749,0.170985155195682,0.100713321765953,0.195045305571621],\"type\":\"violin\",\"xaxis\":\"x\",\"yaxis\":\"y\",\"meanline\":{\"visible\":true},\"jitter\":0.25,\"points\":\"all\",\"scalemode\":\"count\"},{\"legendgroup\":\"Dose 2\",\"line\":{\"color\":\"#ff7f0e\"},\"name\":\"non-responders\",\"scalegroup\":\"Dose 2\",\"side\":\"negative\",\"x\":[\"Dose 2\",\"Dose 2\",\"Dose 2\",\"Dose 2\",\"Dose 2\",\"Dose 2\",\"Dose 2\",\"Dose 2\",\"Dose 2\",\"Dose 2\",\"Dose 2\",\"Dose 2\",\"Dose 2\",\"Dose 2\",\"Dose 2\",\"Dose 2\",\"Dose 2\",\"Dose 2\",\"Dose 2\",\"Dose 2\",\"Dose 2\",\"Dose 2\",\"Dose 2\",\"Dose 2\",\"Dose 2\",\"Dose 2\",\"Dose 2\",\"Dose 2\",\"Dose 2\",\"Dose 2\",\"Dose 2\",\"Dose 2\",\"Dose 2\",\"Dose 2\",\"Dose 2\",\"Dose 2\",\"Dose 2\",\"Dose 2\",\"Dose 2\",\"Dose 2\",\"Dose 2\",\"Dose 2\",\"Dose 2\",\"Dose 2\",\"Dose 2\"],\"y\":[0.155750915750916,0.126373626373626,0.262515262515262,0.269230769230769,0.227789987789988,0.417582417582418,0.123931623931624,0.169108669108669,0.469474969474969,0.26625390738294,0.278938803132352,0.302485820630982,0.129552439897268,0.320224130708002,0.0567226890756302,0.610734853381912,0.563899335958159,0.0431640431640432,0.457219251336898,0.0819261939395421,0.538073691014868,0.403257103257103,0.513642213642214,0.134164934164934,0.0117862529627236,0.0469923847009498,0.136501336501337,0.0759122338069707,0.640072113756324,0.167987536408589,0.428230390299356,0.0005171299288947,0.324348200818789,0.274078862314156,0.364641241111829,0.324201493723184,0.505560512902003,0.0083144886259458,0.238794020217824,0.347594558120874,0.262800973327289,0.270887718256139,0.117299485720538,0.131500789395526,0.162466978256452],\"type\":\"violin\",\"xaxis\":\"x\",\"yaxis\":\"y\",\"meanline\":{\"visible\":true},\"jitter\":0.25,\"points\":\"all\",\"scalemode\":\"count\"},{\"legendgroup\":\"Dose 3\",\"line\":{\"color\":\"#2ca02c\"},\"name\":\"positive\",\"scalegroup\":\"Dose 3\",\"side\":\"positive\",\"x\":[\"Dose 3\",\"Dose 3\",\"Dose 3\",\"Dose 3\",\"Dose 3\",\"Dose 3\",\"Dose 3\",\"Dose 3\",\"Dose 3\",\"Dose 3\",\"Dose 3\",\"Dose 3\",\"Dose 3\",\"Dose 3\",\"Dose 3\",\"Dose 3\",\"Dose 3\",\"Dose 3\",\"Dose 3\",\"Dose 3\",\"Dose 3\",\"Dose 3\",\"Dose 3\",\"Dose 3\",\"Dose 3\",\"Dose 3\",\"Dose 3\",\"Dose 3\",\"Dose 3\",\"Dose 3\",\"Dose 3\",\"Dose 3\",\"Dose 3\",\"Dose 3\",\"Dose 3\",\"Dose 3\",\"Dose 3\",\"Dose 3\",\"Dose 3\",\"Dose 3\",\"Dose 3\",\"Dose 3\",\"Dose 3\",\"Dose 3\",\"Dose 3\"],\"y\":[0.117182817182817,0.368231768231768,0.74035964035964,0.608991008991009,0.424575424575425,0.0918081918081919,0.505677655677656,0.313886113886114,0.0594405594405594,0.621178821178821,0.005830753353973,0.65984015984016,0.427572427572428,0.0265369305616984,0.381318681318681,0.268831168831169,0.236363636363636,0.92037962037962,0.47012987012987,0.260639360639361,0.595604395604396,0.473809523809524,0.2997002997003,0.135664335664336,0.199300699300699,0.377622377622378,0.0438596491228071,0.105311355311355,0.478821178821179,0.0713286713286713,0.117882117882118,0.408991008991009,0.201465201465201,0.458541458541459,0.079020979020979,0.659440559440559,0.575274725274725,0.640759240759241,0.324475524475524,0.365201465201465,0.246853146853147,0.234265734265734,0.0327838827838828,0.18006993006993,0.242657342657343],\"type\":\"violin\",\"xaxis\":\"x2\",\"yaxis\":\"y2\",\"meanline\":{\"visible\":true},\"jitter\":0.25,\"points\":\"all\",\"scalemode\":\"count\"},{\"legendgroup\":\"Dose 3\",\"line\":{\"color\":\"#ffaa00\"},\"name\":\"non-positive\",\"scalegroup\":\"Dose 3\",\"side\":\"negative\",\"x\":[\"Dose 3\",\"Dose 3\",\"Dose 3\",\"Dose 3\",\"Dose 3\",\"Dose 3\",\"Dose 3\",\"Dose 3\",\"Dose 3\",\"Dose 3\",\"Dose 3\",\"Dose 3\",\"Dose 3\",\"Dose 3\",\"Dose 3\",\"Dose 3\",\"Dose 3\",\"Dose 3\",\"Dose 3\",\"Dose 3\",\"Dose 3\",\"Dose 3\",\"Dose 3\",\"Dose 3\",\"Dose 3\",\"Dose 3\",\"Dose 3\",\"Dose 3\",\"Dose 3\",\"Dose 3\",\"Dose 3\",\"Dose 3\",\"Dose 3\",\"Dose 3\",\"Dose 3\",\"Dose 3\",\"Dose 3\",\"Dose 3\",\"Dose 3\",\"Dose 3\",\"Dose 3\",\"Dose 3\",\"Dose 3\",\"Dose 3\",\"Dose 3\"],\"y\":[0.235121741004094,0.160080554817397,0.247391347391347,0.699042304305462,0.583246056930268,0.202564102564103,0.688033380289588,0.298594198594199,0.44851618969266,0.135057099762982,0.037091640567311,0.160518760518761,0.802148302148302,0.0031935469168952,0.691319806508561,0.395238095238095,0.127673796791444,0.694733194733195,0.85504301293775,0.348936269988902,0.231738849385908,0.16212091594021,0.363488763488764,0.0253746253746254,0.137141189772769,0.306269832585622,0.0683794134871886,0.719000188218645,0.0562518562518562,0.329893635775989,0.0863489284541916,0.0271260271260271,0.118366612861795,0.0693652009441483,0.189071712601124,0.852163152163152,0.174268986806341,0.322271374902954,0.140340052104758,0.713877358425143,0.423960353372118,0.143073837926779,0.0147841365251553,0.122271916369962,0.124730171788995],\"type\":\"violin\",\"xaxis\":\"x2\",\"yaxis\":\"y2\",\"meanline\":{\"visible\":true},\"jitter\":0.25,\"points\":\"all\",\"scalemode\":\"count\"}],                        {\"template\":{\"data\":{\"barpolar\":[{\"marker\":{\"line\":{\"color\":\"white\",\"width\":0.5},\"pattern\":{\"fillmode\":\"overlay\",\"size\":10,\"solidity\":0.2}},\"type\":\"barpolar\"}],\"bar\":[{\"error_x\":{\"color\":\"#2a3f5f\"},\"error_y\":{\"color\":\"#2a3f5f\"},\"marker\":{\"line\":{\"color\":\"white\",\"width\":0.5},\"pattern\":{\"fillmode\":\"overlay\",\"size\":10,\"solidity\":0.2}},\"type\":\"bar\"}],\"carpet\":[{\"aaxis\":{\"endlinecolor\":\"#2a3f5f\",\"gridcolor\":\"#C8D4E3\",\"linecolor\":\"#C8D4E3\",\"minorgridcolor\":\"#C8D4E3\",\"startlinecolor\":\"#2a3f5f\"},\"baxis\":{\"endlinecolor\":\"#2a3f5f\",\"gridcolor\":\"#C8D4E3\",\"linecolor\":\"#C8D4E3\",\"minorgridcolor\":\"#C8D4E3\",\"startlinecolor\":\"#2a3f5f\"},\"type\":\"carpet\"}],\"choropleth\":[{\"colorbar\":{\"outlinewidth\":0,\"ticks\":\"\"},\"type\":\"choropleth\"}],\"contourcarpet\":[{\"colorbar\":{\"outlinewidth\":0,\"ticks\":\"\"},\"type\":\"contourcarpet\"}],\"contour\":[{\"colorbar\":{\"outlinewidth\":0,\"ticks\":\"\"},\"colorscale\":[[0.0,\"#0d0887\"],[0.1111111111111111,\"#46039f\"],[0.2222222222222222,\"#7201a8\"],[0.3333333333333333,\"#9c179e\"],[0.4444444444444444,\"#bd3786\"],[0.5555555555555556,\"#d8576b\"],[0.6666666666666666,\"#ed7953\"],[0.7777777777777778,\"#fb9f3a\"],[0.8888888888888888,\"#fdca26\"],[1.0,\"#f0f921\"]],\"type\":\"contour\"}],\"heatmapgl\":[{\"colorbar\":{\"outlinewidth\":0,\"ticks\":\"\"},\"colorscale\":[[0.0,\"#0d0887\"],[0.1111111111111111,\"#46039f\"],[0.2222222222222222,\"#7201a8\"],[0.3333333333333333,\"#9c179e\"],[0.4444444444444444,\"#bd3786\"],[0.5555555555555556,\"#d8576b\"],[0.6666666666666666,\"#ed7953\"],[0.7777777777777778,\"#fb9f3a\"],[0.8888888888888888,\"#fdca26\"],[1.0,\"#f0f921\"]],\"type\":\"heatmapgl\"}],\"heatmap\":[{\"colorbar\":{\"outlinewidth\":0,\"ticks\":\"\"},\"colorscale\":[[0.0,\"#0d0887\"],[0.1111111111111111,\"#46039f\"],[0.2222222222222222,\"#7201a8\"],[0.3333333333333333,\"#9c179e\"],[0.4444444444444444,\"#bd3786\"],[0.5555555555555556,\"#d8576b\"],[0.6666666666666666,\"#ed7953\"],[0.7777777777777778,\"#fb9f3a\"],[0.8888888888888888,\"#fdca26\"],[1.0,\"#f0f921\"]],\"type\":\"heatmap\"}],\"histogram2dcontour\":[{\"colorbar\":{\"outlinewidth\":0,\"ticks\":\"\"},\"colorscale\":[[0.0,\"#0d0887\"],[0.1111111111111111,\"#46039f\"],[0.2222222222222222,\"#7201a8\"],[0.3333333333333333,\"#9c179e\"],[0.4444444444444444,\"#bd3786\"],[0.5555555555555556,\"#d8576b\"],[0.6666666666666666,\"#ed7953\"],[0.7777777777777778,\"#fb9f3a\"],[0.8888888888888888,\"#fdca26\"],[1.0,\"#f0f921\"]],\"type\":\"histogram2dcontour\"}],\"histogram2d\":[{\"colorbar\":{\"outlinewidth\":0,\"ticks\":\"\"},\"colorscale\":[[0.0,\"#0d0887\"],[0.1111111111111111,\"#46039f\"],[0.2222222222222222,\"#7201a8\"],[0.3333333333333333,\"#9c179e\"],[0.4444444444444444,\"#bd3786\"],[0.5555555555555556,\"#d8576b\"],[0.6666666666666666,\"#ed7953\"],[0.7777777777777778,\"#fb9f3a\"],[0.8888888888888888,\"#fdca26\"],[1.0,\"#f0f921\"]],\"type\":\"histogram2d\"}],\"histogram\":[{\"marker\":{\"pattern\":{\"fillmode\":\"overlay\",\"size\":10,\"solidity\":0.2}},\"type\":\"histogram\"}],\"mesh3d\":[{\"colorbar\":{\"outlinewidth\":0,\"ticks\":\"\"},\"type\":\"mesh3d\"}],\"parcoords\":[{\"line\":{\"colorbar\":{\"outlinewidth\":0,\"ticks\":\"\"}},\"type\":\"parcoords\"}],\"pie\":[{\"automargin\":true,\"type\":\"pie\"}],\"scatter3d\":[{\"line\":{\"colorbar\":{\"outlinewidth\":0,\"ticks\":\"\"}},\"marker\":{\"colorbar\":{\"outlinewidth\":0,\"ticks\":\"\"}},\"type\":\"scatter3d\"}],\"scattercarpet\":[{\"marker\":{\"colorbar\":{\"outlinewidth\":0,\"ticks\":\"\"}},\"type\":\"scattercarpet\"}],\"scattergeo\":[{\"marker\":{\"colorbar\":{\"outlinewidth\":0,\"ticks\":\"\"}},\"type\":\"scattergeo\"}],\"scattergl\":[{\"marker\":{\"colorbar\":{\"outlinewidth\":0,\"ticks\":\"\"}},\"type\":\"scattergl\"}],\"scattermapbox\":[{\"marker\":{\"colorbar\":{\"outlinewidth\":0,\"ticks\":\"\"}},\"type\":\"scattermapbox\"}],\"scatterpolargl\":[{\"marker\":{\"colorbar\":{\"outlinewidth\":0,\"ticks\":\"\"}},\"type\":\"scatterpolargl\"}],\"scatterpolar\":[{\"marker\":{\"colorbar\":{\"outlinewidth\":0,\"ticks\":\"\"}},\"type\":\"scatterpolar\"}],\"scatter\":[{\"fillpattern\":{\"fillmode\":\"overlay\",\"size\":10,\"solidity\":0.2},\"type\":\"scatter\"}],\"scatterternary\":[{\"marker\":{\"colorbar\":{\"outlinewidth\":0,\"ticks\":\"\"}},\"type\":\"scatterternary\"}],\"surface\":[{\"colorbar\":{\"outlinewidth\":0,\"ticks\":\"\"},\"colorscale\":[[0.0,\"#0d0887\"],[0.1111111111111111,\"#46039f\"],[0.2222222222222222,\"#7201a8\"],[0.3333333333333333,\"#9c179e\"],[0.4444444444444444,\"#bd3786\"],[0.5555555555555556,\"#d8576b\"],[0.6666666666666666,\"#ed7953\"],[0.7777777777777778,\"#fb9f3a\"],[0.8888888888888888,\"#fdca26\"],[1.0,\"#f0f921\"]],\"type\":\"surface\"}],\"table\":[{\"cells\":{\"fill\":{\"color\":\"#EBF0F8\"},\"line\":{\"color\":\"white\"}},\"header\":{\"fill\":{\"color\":\"#C8D4E3\"},\"line\":{\"color\":\"white\"}},\"type\":\"table\"}]},\"layout\":{\"annotationdefaults\":{\"arrowcolor\":\"#2a3f5f\",\"arrowhead\":0,\"arrowwidth\":1},\"autotypenumbers\":\"strict\",\"coloraxis\":{\"colorbar\":{\"outlinewidth\":0,\"ticks\":\"\"}},\"colorscale\":{\"diverging\":[[0,\"#8e0152\"],[0.1,\"#c51b7d\"],[0.2,\"#de77ae\"],[0.3,\"#f1b6da\"],[0.4,\"#fde0ef\"],[0.5,\"#f7f7f7\"],[0.6,\"#e6f5d0\"],[0.7,\"#b8e186\"],[0.8,\"#7fbc41\"],[0.9,\"#4d9221\"],[1,\"#276419\"]],\"sequential\":[[0.0,\"#0d0887\"],[0.1111111111111111,\"#46039f\"],[0.2222222222222222,\"#7201a8\"],[0.3333333333333333,\"#9c179e\"],[0.4444444444444444,\"#bd3786\"],[0.5555555555555556,\"#d8576b\"],[0.6666666666666666,\"#ed7953\"],[0.7777777777777778,\"#fb9f3a\"],[0.8888888888888888,\"#fdca26\"],[1.0,\"#f0f921\"]],\"sequentialminus\":[[0.0,\"#0d0887\"],[0.1111111111111111,\"#46039f\"],[0.2222222222222222,\"#7201a8\"],[0.3333333333333333,\"#9c179e\"],[0.4444444444444444,\"#bd3786\"],[0.5555555555555556,\"#d8576b\"],[0.6666666666666666,\"#ed7953\"],[0.7777777777777778,\"#fb9f3a\"],[0.8888888888888888,\"#fdca26\"],[1.0,\"#f0f921\"]]},\"colorway\":[\"#636efa\",\"#EF553B\",\"#00cc96\",\"#ab63fa\",\"#FFA15A\",\"#19d3f3\",\"#FF6692\",\"#B6E880\",\"#FF97FF\",\"#FECB52\"],\"font\":{\"color\":\"#2a3f5f\"},\"geo\":{\"bgcolor\":\"white\",\"lakecolor\":\"white\",\"landcolor\":\"white\",\"showlakes\":true,\"showland\":true,\"subunitcolor\":\"#C8D4E3\"},\"hoverlabel\":{\"align\":\"left\"},\"hovermode\":\"closest\",\"mapbox\":{\"style\":\"light\"},\"paper_bgcolor\":\"white\",\"plot_bgcolor\":\"white\",\"polar\":{\"angularaxis\":{\"gridcolor\":\"#EBF0F8\",\"linecolor\":\"#EBF0F8\",\"ticks\":\"\"},\"bgcolor\":\"white\",\"radialaxis\":{\"gridcolor\":\"#EBF0F8\",\"linecolor\":\"#EBF0F8\",\"ticks\":\"\"}},\"scene\":{\"xaxis\":{\"backgroundcolor\":\"white\",\"gridcolor\":\"#DFE8F3\",\"gridwidth\":2,\"linecolor\":\"#EBF0F8\",\"showbackground\":true,\"ticks\":\"\",\"zerolinecolor\":\"#EBF0F8\"},\"yaxis\":{\"backgroundcolor\":\"white\",\"gridcolor\":\"#DFE8F3\",\"gridwidth\":2,\"linecolor\":\"#EBF0F8\",\"showbackground\":true,\"ticks\":\"\",\"zerolinecolor\":\"#EBF0F8\"},\"zaxis\":{\"backgroundcolor\":\"white\",\"gridcolor\":\"#DFE8F3\",\"gridwidth\":2,\"linecolor\":\"#EBF0F8\",\"showbackground\":true,\"ticks\":\"\",\"zerolinecolor\":\"#EBF0F8\"}},\"shapedefaults\":{\"line\":{\"color\":\"#2a3f5f\"}},\"ternary\":{\"aaxis\":{\"gridcolor\":\"#DFE8F3\",\"linecolor\":\"#A2B1C6\",\"ticks\":\"\"},\"baxis\":{\"gridcolor\":\"#DFE8F3\",\"linecolor\":\"#A2B1C6\",\"ticks\":\"\"},\"bgcolor\":\"white\",\"caxis\":{\"gridcolor\":\"#DFE8F3\",\"linecolor\":\"#A2B1C6\",\"ticks\":\"\"}},\"title\":{\"x\":0.05},\"xaxis\":{\"automargin\":true,\"gridcolor\":\"#EBF0F8\",\"linecolor\":\"#EBF0F8\",\"ticks\":\"\",\"title\":{\"standoff\":15},\"zerolinecolor\":\"#EBF0F8\",\"zerolinewidth\":2},\"yaxis\":{\"automargin\":true,\"gridcolor\":\"#EBF0F8\",\"linecolor\":\"#EBF0F8\",\"ticks\":\"\",\"title\":{\"standoff\":15},\"zerolinecolor\":\"#EBF0F8\",\"zerolinewidth\":2}}},\"xaxis\":{\"anchor\":\"y\",\"domain\":[0.0,0.49]},\"yaxis\":{\"anchor\":\"x\",\"domain\":[0.0,1.0],\"title\":{\"text\":\"Cell populations relationships<br>(diferencital correlation)\"}},\"xaxis2\":{\"anchor\":\"y2\",\"domain\":[0.51,1.0]},\"yaxis2\":{\"anchor\":\"x2\",\"domain\":[0.0,1.0],\"matches\":\"y\",\"showticklabels\":false},\"title\":{\"text\":\"C\",\"x\":0.5},\"violingap\":0,\"violinmode\":\"overlay\",\"height\":500,\"width\":600},                        {\"responsive\": true}                    ).then(function(){\n",
       "                            \n",
       "var gd = document.getElementById('126478e4-ef05-4584-868f-83e60af6c53b');\n",
       "var x = new MutationObserver(function (mutations, observer) {{\n",
       "        var display = window.getComputedStyle(gd).display;\n",
       "        if (!display || display === 'none') {{\n",
       "            console.log([gd, 'removed!']);\n",
       "            Plotly.purge(gd);\n",
       "            observer.disconnect();\n",
       "        }}\n",
       "}});\n",
       "\n",
       "// Listen for the removal of the full notebook cells\n",
       "var notebookContainer = gd.closest('#notebook-container');\n",
       "if (notebookContainer) {{\n",
       "    x.observe(notebookContainer, {childList: true});\n",
       "}}\n",
       "\n",
       "// Listen for the clearing of the current output cell\n",
       "var outputEl = gd.closest('.output');\n",
       "if (outputEl) {{\n",
       "    x.observe(outputEl, {childList: true});\n",
       "}}\n",
       "\n",
       "                        })                };                });            </script>        </div>"
      ]
     },
     "metadata": {},
     "output_type": "display_data"
    }
   ],
   "source": [
    "fig = go.Figure()\n",
    "fig = make_subplots(rows=1, cols=2,shared_yaxes=True,horizontal_spacing=0.02)\n",
    "\n",
    "d2d = go.Violin(x=banco['lab2'][(banco[\"lab\"]==\"responders\") & (banco[\"lab2\"]==\"Dose 2\")],\n",
    "                y = banco['var'][(banco[\"lab\"]==\"responders\") & (banco[\"lab2\"]==\"Dose 2\")],\n",
    "                 legendgroup='Dose 2',  name='responders',scalegroup='Dose 2',side='positive',\n",
    "                 line_color=\"#1f77b4\")\n",
    "\n",
    "d2n = go.Violin(x=banco['lab2'][(banco[\"lab\"]==\"non-responders\") & (banco[\"lab2\"]==\"Dose 2\")],\n",
    "                y = banco['var'][(banco[\"lab\"]==\"non-responders\") & (banco[\"lab2\"]==\"Dose 2\")],\n",
    "                 legendgroup='Dose 2',  name='non-responders',scalegroup='Dose 2',side='negative',\n",
    "                 line_color=\"#ff7f0e\")\n",
    "\n",
    "d3d = go.Violin(x=banco['lab2'][(banco[\"lab\"]==\"positive\") & (banco[\"lab2\"]==\"Dose 3\")],\n",
    "                y = banco['var'][(banco[\"lab\"]==\"positive\") & (banco[\"lab2\"]==\"Dose 3\")],\n",
    "                 legendgroup='Dose 3',  name='positive',scalegroup='Dose 3',side='positive',\n",
    "                 line_color=\"#2ca02c\")\n",
    "\n",
    "d3n = go.Violin(x=banco['lab2'][(banco[\"lab\"]==\"non-positive\") & (banco[\"lab2\"]==\"Dose 3\")],\n",
    "                y = banco['var'][(banco[\"lab\"]==\"non-positive\") & (banco[\"lab2\"]==\"Dose 3\")],\n",
    "                 legendgroup='Dose 3',  name='non-positive',scalegroup='Dose 3',side='negative',\n",
    "                 line_color=\"#ffaa00\")\n",
    "\n",
    "\n",
    "#d3fn = go.Violin(y = banco['var'][(banco[\"lab2\"]==\"Dose 3\") & (banco[\"lab\"]==\"non-positive\")],\n",
    "#                 legendgroup='Dose 3',  name='non-positive', points = \"all\",scalegroup='Dose 3',side='positive',\n",
    "#                 line_color=\"#ffaa00\")\n",
    "\n",
    "\n",
    "fig.add_trace(d2d,col=1,row=1)\n",
    "fig.add_trace(d2n,row=1,col=1)\n",
    "fig.add_trace(d3d,col=2,row=1)\n",
    "fig.add_trace(d3n,col=2,row=1)\n",
    "#fig.add_trace(d2fn)\n",
    "#fig.add_trace(d3fd)\n",
    "#fig.add_trace(d3fn)\n",
    "\n",
    "fig.update_layout(title = \"C\",title_x=0.5,violingap=0, violinmode='overlay',template=\"plotly_white\",height=500, width=600,yaxis_title=\"Cell populations relationships<br>(diferencital correlation)\",)\n",
    "fig.update_traces(meanline_visible=True,\n",
    "                  points='all', # show all points\n",
    "                  jitter=0.25,  # add some jitter on points for better visibility\n",
    "                  scalemode='count')\n",
    "#fig.update_traces(box_visible=True, meanline_visible=True)\n",
    "fig.write_image(\"fig4_C.svg\")\n",
    "fig.show()"
   ]
  },
  {
   "cell_type": "code",
   "execution_count": 101,
   "id": "a3daa73e-6cd4-48b1-94e0-8903c939e71b",
   "metadata": {},
   "outputs": [
    {
     "data": {
      "text/plain": [
       "0      Dose 2\n",
       "1      Dose 2\n",
       "2      Dose 2\n",
       "3      Dose 2\n",
       "4      Dose 2\n",
       "        ...  \n",
       "130    Dose 3\n",
       "131    Dose 3\n",
       "132    Dose 3\n",
       "133    Dose 3\n",
       "134    Dose 3\n",
       "Name: lab2, Length: 90, dtype: object"
      ]
     },
     "execution_count": 101,
     "metadata": {},
     "output_type": "execute_result"
    }
   ],
   "source": [
    "x=banco['lab2'][(banco[\"lab\"]==\"responders\") | (banco[\"lab\"]==\"positive\")]\n",
    "x"
   ]
  },
  {
   "cell_type": "markdown",
   "id": "c47bc67c-11eb-45cf-ab99-68855f690052",
   "metadata": {},
   "source": [
    "## Fig 5 "
   ]
  },
  {
   "cell_type": "code",
   "execution_count": 161,
   "id": "fe8332af-48e6-41c7-bd94-b106587d70c5",
   "metadata": {},
   "outputs": [],
   "source": [
    "fold = os.getcwd()\n",
    "file = open(fold + \"/data_aux/feature.dat\",\"rb\")\n",
    "data = pk.load(file)\n",
    "file.close()"
   ]
  },
  {
   "cell_type": "markdown",
   "id": "0b7ec2a6-f136-4fb0-b963-13bcafad26f9",
   "metadata": {},
   "source": [
    "### Best features"
   ]
  },
  {
   "cell_type": "code",
   "execution_count": 165,
   "id": "e1682431-b453-4468-a024-5b836c691e20",
   "metadata": {},
   "outputs": [
    {
     "data": {
      "application/vnd.plotly.v1+json": {
       "config": {
        "plotlyServerURL": "https://plot.ly"
       },
       "data": [
        {
         "alignmentgroup": "True",
         "hovertemplate": "feature importance (permutation)=%{x}<br>=%{y}<extra></extra>",
         "legendgroup": "",
         "marker": {
          "color": "#1f77b4",
          "pattern": {
           "shape": ""
          }
         },
         "name": "",
         "offsetgroup": "",
         "orientation": "h",
         "showlegend": false,
         "textposition": "auto",
         "type": "bar",
         "x": [
          0.02484548104956271,
          0.023819241982507226,
          0.021364431486880414,
          0.020524781341107814,
          0.01961516034985417,
          0.017854227405247745,
          0.017224489795918313,
          0.017189504373177792,
          0.016897959183673504,
          0.014728862973760864,
          0.012874635568513102,
          0.011189504373177775,
          0.010816326530612201,
          0.00811661807580173,
          0.007282798833819162,
          0.006588921282798762,
          0.005247813411078729,
          0.004157434402332293,
          0.004128279883381861,
          0.003947521865889151,
          0.003661807580174881,
          0.0033411078717200536,
          0.002658892128279813,
          0.002460641399416833,
          0.002186588921282745,
          0.002163265306122394,
          0.0013061224489796198,
          0.0012069970845480582,
          0.00111953352769674,
          0.0007930029154518281
         ],
         "xaxis": "x",
         "y": [
          "CD40+ B Cells :in: B Cells",
          "CD38+ median  :in:  CD38+ NKT Cells",
          "CD94+ median  :in:  CD94+ NK Cells",
          "CD80+ median  :in:  CD80+ Switched Memory B Cells",
          "CD94+ median  :in:  CD94+ NKT Cells",
          "CD57+ NK Cells :in: NK Cells",
          "CD38+ median  :in:  CD38+ CD27+ CD4+ T Cells",
          "CD11c+ CD27+ CD8+ T Cells :in: CD27+ CD8+ T Cells",
          "CD94+ median  :in:  CD94+ CD16+ NK Cells",
          "CD40+ IgMlow IgD+ Naive B Cells :in: IgMlow IgD+ Naive B Cells",
          "CD86+ CD16- CD56dim NK Cells :in: CD16- CD56dim NK Cells",
          "CD57+ CD16+ NK Cells :in: CD16+ NK Cells",
          "Double Negative B Cells :in: B Cells",
          "CD94+ CD16- CD56bright NK Cells :in: CD16- CD56bright NK Cells",
          "Transitional B Cells :in: Naive B Cells",
          "CD11c+ median  :in:  CD11c+ CD16+ NK Cells",
          "HLA-DR+ IgM+ IgD+ Naive B Cells :in: IgM+ IgD+ Naive B Cells",
          "HLA-DR+ median  :in:  HLA-DR+ CD27- CD4+ T Cells",
          "CD38+ CD27+ CD8+ T Cells :in: CD27+ CD8+ T Cells",
          "HLA-DR+ median  :in:  HLA-DR+ CD4+ T Cells",
          "CD94+ median  :in:  CD94+ CD16- CD56bright NK Cells",
          "CD11c+ median  :in:  CD11c+ CD16- CD56dim NK Cells",
          "CD80+ Memory B Cells :in: Memory B Cells",
          "CD86+ IgMlow IgD+ Naive B Cells :in: IgMlow IgD+ Naive B Cells",
          "Memory B Cells :in: B Cells",
          "Naive B Cells :in: B Cells",
          "CD16+ CD56bright NK Cells :in: NK Cells",
          "CD80+ Double Negative B Cells :in: Double Negative B Cells",
          "CD27+ median  :in:  CD27+ CD4+ T Cells",
          "CD57+ CD27+ CD4+ T Cells :in: CD27+ CD4+ T Cells"
         ],
         "yaxis": "y"
        }
       ],
       "layout": {
        "barmode": "relative",
        "coloraxis": {
         "showscale": false
        },
        "height": 800,
        "legend": {
         "tracegroupgap": 0
        },
        "margin": {
         "t": 60
        },
        "showlegend": false,
        "template": {
         "data": {
          "bar": [
           {
            "error_x": {
             "color": "#2a3f5f"
            },
            "error_y": {
             "color": "#2a3f5f"
            },
            "marker": {
             "line": {
              "color": "#E5ECF6",
              "width": 0.5
             },
             "pattern": {
              "fillmode": "overlay",
              "size": 10,
              "solidity": 0.2
             }
            },
            "type": "bar"
           }
          ],
          "barpolar": [
           {
            "marker": {
             "line": {
              "color": "#E5ECF6",
              "width": 0.5
             },
             "pattern": {
              "fillmode": "overlay",
              "size": 10,
              "solidity": 0.2
             }
            },
            "type": "barpolar"
           }
          ],
          "carpet": [
           {
            "aaxis": {
             "endlinecolor": "#2a3f5f",
             "gridcolor": "white",
             "linecolor": "white",
             "minorgridcolor": "white",
             "startlinecolor": "#2a3f5f"
            },
            "baxis": {
             "endlinecolor": "#2a3f5f",
             "gridcolor": "white",
             "linecolor": "white",
             "minorgridcolor": "white",
             "startlinecolor": "#2a3f5f"
            },
            "type": "carpet"
           }
          ],
          "choropleth": [
           {
            "colorbar": {
             "outlinewidth": 0,
             "ticks": ""
            },
            "type": "choropleth"
           }
          ],
          "contour": [
           {
            "colorbar": {
             "outlinewidth": 0,
             "ticks": ""
            },
            "colorscale": [
             [
              0,
              "#0d0887"
             ],
             [
              0.1111111111111111,
              "#46039f"
             ],
             [
              0.2222222222222222,
              "#7201a8"
             ],
             [
              0.3333333333333333,
              "#9c179e"
             ],
             [
              0.4444444444444444,
              "#bd3786"
             ],
             [
              0.5555555555555556,
              "#d8576b"
             ],
             [
              0.6666666666666666,
              "#ed7953"
             ],
             [
              0.7777777777777778,
              "#fb9f3a"
             ],
             [
              0.8888888888888888,
              "#fdca26"
             ],
             [
              1,
              "#f0f921"
             ]
            ],
            "type": "contour"
           }
          ],
          "contourcarpet": [
           {
            "colorbar": {
             "outlinewidth": 0,
             "ticks": ""
            },
            "type": "contourcarpet"
           }
          ],
          "heatmap": [
           {
            "colorbar": {
             "outlinewidth": 0,
             "ticks": ""
            },
            "colorscale": [
             [
              0,
              "#0d0887"
             ],
             [
              0.1111111111111111,
              "#46039f"
             ],
             [
              0.2222222222222222,
              "#7201a8"
             ],
             [
              0.3333333333333333,
              "#9c179e"
             ],
             [
              0.4444444444444444,
              "#bd3786"
             ],
             [
              0.5555555555555556,
              "#d8576b"
             ],
             [
              0.6666666666666666,
              "#ed7953"
             ],
             [
              0.7777777777777778,
              "#fb9f3a"
             ],
             [
              0.8888888888888888,
              "#fdca26"
             ],
             [
              1,
              "#f0f921"
             ]
            ],
            "type": "heatmap"
           }
          ],
          "heatmapgl": [
           {
            "colorbar": {
             "outlinewidth": 0,
             "ticks": ""
            },
            "colorscale": [
             [
              0,
              "#0d0887"
             ],
             [
              0.1111111111111111,
              "#46039f"
             ],
             [
              0.2222222222222222,
              "#7201a8"
             ],
             [
              0.3333333333333333,
              "#9c179e"
             ],
             [
              0.4444444444444444,
              "#bd3786"
             ],
             [
              0.5555555555555556,
              "#d8576b"
             ],
             [
              0.6666666666666666,
              "#ed7953"
             ],
             [
              0.7777777777777778,
              "#fb9f3a"
             ],
             [
              0.8888888888888888,
              "#fdca26"
             ],
             [
              1,
              "#f0f921"
             ]
            ],
            "type": "heatmapgl"
           }
          ],
          "histogram": [
           {
            "marker": {
             "pattern": {
              "fillmode": "overlay",
              "size": 10,
              "solidity": 0.2
             }
            },
            "type": "histogram"
           }
          ],
          "histogram2d": [
           {
            "colorbar": {
             "outlinewidth": 0,
             "ticks": ""
            },
            "colorscale": [
             [
              0,
              "#0d0887"
             ],
             [
              0.1111111111111111,
              "#46039f"
             ],
             [
              0.2222222222222222,
              "#7201a8"
             ],
             [
              0.3333333333333333,
              "#9c179e"
             ],
             [
              0.4444444444444444,
              "#bd3786"
             ],
             [
              0.5555555555555556,
              "#d8576b"
             ],
             [
              0.6666666666666666,
              "#ed7953"
             ],
             [
              0.7777777777777778,
              "#fb9f3a"
             ],
             [
              0.8888888888888888,
              "#fdca26"
             ],
             [
              1,
              "#f0f921"
             ]
            ],
            "type": "histogram2d"
           }
          ],
          "histogram2dcontour": [
           {
            "colorbar": {
             "outlinewidth": 0,
             "ticks": ""
            },
            "colorscale": [
             [
              0,
              "#0d0887"
             ],
             [
              0.1111111111111111,
              "#46039f"
             ],
             [
              0.2222222222222222,
              "#7201a8"
             ],
             [
              0.3333333333333333,
              "#9c179e"
             ],
             [
              0.4444444444444444,
              "#bd3786"
             ],
             [
              0.5555555555555556,
              "#d8576b"
             ],
             [
              0.6666666666666666,
              "#ed7953"
             ],
             [
              0.7777777777777778,
              "#fb9f3a"
             ],
             [
              0.8888888888888888,
              "#fdca26"
             ],
             [
              1,
              "#f0f921"
             ]
            ],
            "type": "histogram2dcontour"
           }
          ],
          "mesh3d": [
           {
            "colorbar": {
             "outlinewidth": 0,
             "ticks": ""
            },
            "type": "mesh3d"
           }
          ],
          "parcoords": [
           {
            "line": {
             "colorbar": {
              "outlinewidth": 0,
              "ticks": ""
             }
            },
            "type": "parcoords"
           }
          ],
          "pie": [
           {
            "automargin": true,
            "type": "pie"
           }
          ],
          "scatter": [
           {
            "fillpattern": {
             "fillmode": "overlay",
             "size": 10,
             "solidity": 0.2
            },
            "type": "scatter"
           }
          ],
          "scatter3d": [
           {
            "line": {
             "colorbar": {
              "outlinewidth": 0,
              "ticks": ""
             }
            },
            "marker": {
             "colorbar": {
              "outlinewidth": 0,
              "ticks": ""
             }
            },
            "type": "scatter3d"
           }
          ],
          "scattercarpet": [
           {
            "marker": {
             "colorbar": {
              "outlinewidth": 0,
              "ticks": ""
             }
            },
            "type": "scattercarpet"
           }
          ],
          "scattergeo": [
           {
            "marker": {
             "colorbar": {
              "outlinewidth": 0,
              "ticks": ""
             }
            },
            "type": "scattergeo"
           }
          ],
          "scattergl": [
           {
            "marker": {
             "colorbar": {
              "outlinewidth": 0,
              "ticks": ""
             }
            },
            "type": "scattergl"
           }
          ],
          "scattermapbox": [
           {
            "marker": {
             "colorbar": {
              "outlinewidth": 0,
              "ticks": ""
             }
            },
            "type": "scattermapbox"
           }
          ],
          "scatterpolar": [
           {
            "marker": {
             "colorbar": {
              "outlinewidth": 0,
              "ticks": ""
             }
            },
            "type": "scatterpolar"
           }
          ],
          "scatterpolargl": [
           {
            "marker": {
             "colorbar": {
              "outlinewidth": 0,
              "ticks": ""
             }
            },
            "type": "scatterpolargl"
           }
          ],
          "scatterternary": [
           {
            "marker": {
             "colorbar": {
              "outlinewidth": 0,
              "ticks": ""
             }
            },
            "type": "scatterternary"
           }
          ],
          "surface": [
           {
            "colorbar": {
             "outlinewidth": 0,
             "ticks": ""
            },
            "colorscale": [
             [
              0,
              "#0d0887"
             ],
             [
              0.1111111111111111,
              "#46039f"
             ],
             [
              0.2222222222222222,
              "#7201a8"
             ],
             [
              0.3333333333333333,
              "#9c179e"
             ],
             [
              0.4444444444444444,
              "#bd3786"
             ],
             [
              0.5555555555555556,
              "#d8576b"
             ],
             [
              0.6666666666666666,
              "#ed7953"
             ],
             [
              0.7777777777777778,
              "#fb9f3a"
             ],
             [
              0.8888888888888888,
              "#fdca26"
             ],
             [
              1,
              "#f0f921"
             ]
            ],
            "type": "surface"
           }
          ],
          "table": [
           {
            "cells": {
             "fill": {
              "color": "#EBF0F8"
             },
             "line": {
              "color": "white"
             }
            },
            "header": {
             "fill": {
              "color": "#C8D4E3"
             },
             "line": {
              "color": "white"
             }
            },
            "type": "table"
           }
          ]
         },
         "layout": {
          "annotationdefaults": {
           "arrowcolor": "#2a3f5f",
           "arrowhead": 0,
           "arrowwidth": 1
          },
          "autotypenumbers": "strict",
          "coloraxis": {
           "colorbar": {
            "outlinewidth": 0,
            "ticks": ""
           }
          },
          "colorscale": {
           "diverging": [
            [
             0,
             "#8e0152"
            ],
            [
             0.1,
             "#c51b7d"
            ],
            [
             0.2,
             "#de77ae"
            ],
            [
             0.3,
             "#f1b6da"
            ],
            [
             0.4,
             "#fde0ef"
            ],
            [
             0.5,
             "#f7f7f7"
            ],
            [
             0.6,
             "#e6f5d0"
            ],
            [
             0.7,
             "#b8e186"
            ],
            [
             0.8,
             "#7fbc41"
            ],
            [
             0.9,
             "#4d9221"
            ],
            [
             1,
             "#276419"
            ]
           ],
           "sequential": [
            [
             0,
             "#0d0887"
            ],
            [
             0.1111111111111111,
             "#46039f"
            ],
            [
             0.2222222222222222,
             "#7201a8"
            ],
            [
             0.3333333333333333,
             "#9c179e"
            ],
            [
             0.4444444444444444,
             "#bd3786"
            ],
            [
             0.5555555555555556,
             "#d8576b"
            ],
            [
             0.6666666666666666,
             "#ed7953"
            ],
            [
             0.7777777777777778,
             "#fb9f3a"
            ],
            [
             0.8888888888888888,
             "#fdca26"
            ],
            [
             1,
             "#f0f921"
            ]
           ],
           "sequentialminus": [
            [
             0,
             "#0d0887"
            ],
            [
             0.1111111111111111,
             "#46039f"
            ],
            [
             0.2222222222222222,
             "#7201a8"
            ],
            [
             0.3333333333333333,
             "#9c179e"
            ],
            [
             0.4444444444444444,
             "#bd3786"
            ],
            [
             0.5555555555555556,
             "#d8576b"
            ],
            [
             0.6666666666666666,
             "#ed7953"
            ],
            [
             0.7777777777777778,
             "#fb9f3a"
            ],
            [
             0.8888888888888888,
             "#fdca26"
            ],
            [
             1,
             "#f0f921"
            ]
           ]
          },
          "colorway": [
           "#636efa",
           "#EF553B",
           "#00cc96",
           "#ab63fa",
           "#FFA15A",
           "#19d3f3",
           "#FF6692",
           "#B6E880",
           "#FF97FF",
           "#FECB52"
          ],
          "font": {
           "color": "#2a3f5f"
          },
          "geo": {
           "bgcolor": "white",
           "lakecolor": "white",
           "landcolor": "#E5ECF6",
           "showlakes": true,
           "showland": true,
           "subunitcolor": "white"
          },
          "hoverlabel": {
           "align": "left"
          },
          "hovermode": "closest",
          "mapbox": {
           "style": "light"
          },
          "paper_bgcolor": "white",
          "plot_bgcolor": "#E5ECF6",
          "polar": {
           "angularaxis": {
            "gridcolor": "white",
            "linecolor": "white",
            "ticks": ""
           },
           "bgcolor": "#E5ECF6",
           "radialaxis": {
            "gridcolor": "white",
            "linecolor": "white",
            "ticks": ""
           }
          },
          "scene": {
           "xaxis": {
            "backgroundcolor": "#E5ECF6",
            "gridcolor": "white",
            "gridwidth": 2,
            "linecolor": "white",
            "showbackground": true,
            "ticks": "",
            "zerolinecolor": "white"
           },
           "yaxis": {
            "backgroundcolor": "#E5ECF6",
            "gridcolor": "white",
            "gridwidth": 2,
            "linecolor": "white",
            "showbackground": true,
            "ticks": "",
            "zerolinecolor": "white"
           },
           "zaxis": {
            "backgroundcolor": "#E5ECF6",
            "gridcolor": "white",
            "gridwidth": 2,
            "linecolor": "white",
            "showbackground": true,
            "ticks": "",
            "zerolinecolor": "white"
           }
          },
          "shapedefaults": {
           "line": {
            "color": "#2a3f5f"
           }
          },
          "ternary": {
           "aaxis": {
            "gridcolor": "white",
            "linecolor": "white",
            "ticks": ""
           },
           "baxis": {
            "gridcolor": "white",
            "linecolor": "white",
            "ticks": ""
           },
           "bgcolor": "#E5ECF6",
           "caxis": {
            "gridcolor": "white",
            "linecolor": "white",
            "ticks": ""
           }
          },
          "title": {
           "x": 0.05
          },
          "xaxis": {
           "automargin": true,
           "gridcolor": "white",
           "linecolor": "white",
           "ticks": "",
           "title": {
            "standoff": 15
           },
           "zerolinecolor": "white",
           "zerolinewidth": 2
          },
          "yaxis": {
           "automargin": true,
           "gridcolor": "white",
           "linecolor": "white",
           "ticks": "",
           "title": {
            "standoff": 15
           },
           "zerolinecolor": "white",
           "zerolinewidth": 2
          }
         }
        },
        "title": {
         "text": "Dose 2 responders",
         "x": 0.5,
         "xanchor": "left"
        },
        "width": 1000,
        "xaxis": {
         "anchor": "y",
         "autorange": true,
         "domain": [
          0,
          1
         ],
         "range": [
          0,
          0.026153137946908118
         ],
         "title": {
          "text": "feature importance (permutation)"
         },
         "type": "linear"
        },
        "yaxis": {
         "anchor": "x",
         "autorange": true,
         "categoryorder": "total ascending",
         "domain": [
          0,
          1
         ],
         "range": [
          -0.5,
          29.5
         ],
         "tickfont": {
          "color": "black",
          "family": "Arial, sans-serif",
          "size": 14
         },
         "title": {
          "text": ""
         },
         "type": "category"
        }
       }
      },
      "image/png": "[encoded data removed]",
      "text/html": [
       "<div>                            <div id=\"866caa49-e5e9-45a5-b926-b8157c4325a8\" class=\"plotly-graph-div\" style=\"height:800px; width:1000px;\"></div>            <script type=\"text/javascript\">                require([\"plotly\"], function(Plotly) {                    window.PLOTLYENV=window.PLOTLYENV || {};                                    if (document.getElementById(\"866caa49-e5e9-45a5-b926-b8157c4325a8\")) {                    Plotly.newPlot(                        \"866caa49-e5e9-45a5-b926-b8157c4325a8\",                        [{\"alignmentgroup\":\"True\",\"hovertemplate\":\"feature importance (permutation)=%{x}<br>=%{y}<extra></extra>\",\"legendgroup\":\"\",\"marker\":{\"color\":\"#1f77b4\",\"pattern\":{\"shape\":\"\"}},\"name\":\"\",\"offsetgroup\":\"\",\"orientation\":\"h\",\"showlegend\":false,\"textposition\":\"auto\",\"x\":[0.02484548104956271,0.023819241982507226,0.021364431486880414,0.020524781341107814,0.01961516034985417,0.017854227405247745,0.017224489795918313,0.017189504373177792,0.016897959183673504,0.014728862973760864,0.012874635568513102,0.011189504373177775,0.010816326530612201,0.00811661807580173,0.007282798833819162,0.006588921282798762,0.005247813411078729,0.004157434402332293,0.004128279883381861,0.003947521865889151,0.003661807580174881,0.0033411078717200536,0.002658892128279813,0.002460641399416833,0.002186588921282745,0.002163265306122394,0.0013061224489796198,0.0012069970845480582,0.00111953352769674,0.0007930029154518281],\"xaxis\":\"x\",\"y\":[\"CD40+ B Cells :in: B Cells\",\"CD38+ median  :in:  CD38+ NKT Cells\",\"CD94+ median  :in:  CD94+ NK Cells\",\"CD80+ median  :in:  CD80+ Switched Memory B Cells\",\"CD94+ median  :in:  CD94+ NKT Cells\",\"CD57+ NK Cells :in: NK Cells\",\"CD38+ median  :in:  CD38+ CD27+ CD4+ T Cells\",\"CD11c+ CD27+ CD8+ T Cells :in: CD27+ CD8+ T Cells\",\"CD94+ median  :in:  CD94+ CD16+ NK Cells\",\"CD40+ IgMlow IgD+ Naive B Cells :in: IgMlow IgD+ Naive B Cells\",\"CD86+ CD16- CD56dim NK Cells :in: CD16- CD56dim NK Cells\",\"CD57+ CD16+ NK Cells :in: CD16+ NK Cells\",\"Double Negative B Cells :in: B Cells\",\"CD94+ CD16- CD56bright NK Cells :in: CD16- CD56bright NK Cells\",\"Transitional B Cells :in: Naive B Cells\",\"CD11c+ median  :in:  CD11c+ CD16+ NK Cells\",\"HLA-DR+ IgM+ IgD+ Naive B Cells :in: IgM+ IgD+ Naive B Cells\",\"HLA-DR+ median  :in:  HLA-DR+ CD27- CD4+ T Cells\",\"CD38+ CD27+ CD8+ T Cells :in: CD27+ CD8+ T Cells\",\"HLA-DR+ median  :in:  HLA-DR+ CD4+ T Cells\",\"CD94+ median  :in:  CD94+ CD16- CD56bright NK Cells\",\"CD11c+ median  :in:  CD11c+ CD16- CD56dim NK Cells\",\"CD80+ Memory B Cells :in: Memory B Cells\",\"CD86+ IgMlow IgD+ Naive B Cells :in: IgMlow IgD+ Naive B Cells\",\"Memory B Cells :in: B Cells\",\"Naive B Cells :in: B Cells\",\"CD16+ CD56bright NK Cells :in: NK Cells\",\"CD80+ Double Negative B Cells :in: Double Negative B Cells\",\"CD27+ median  :in:  CD27+ CD4+ T Cells\",\"CD57+ CD27+ CD4+ T Cells :in: CD27+ CD4+ T Cells\"],\"yaxis\":\"y\",\"type\":\"bar\"}],                        {\"template\":{\"data\":{\"histogram2dcontour\":[{\"type\":\"histogram2dcontour\",\"colorbar\":{\"outlinewidth\":0,\"ticks\":\"\"},\"colorscale\":[[0.0,\"#0d0887\"],[0.1111111111111111,\"#46039f\"],[0.2222222222222222,\"#7201a8\"],[0.3333333333333333,\"#9c179e\"],[0.4444444444444444,\"#bd3786\"],[0.5555555555555556,\"#d8576b\"],[0.6666666666666666,\"#ed7953\"],[0.7777777777777778,\"#fb9f3a\"],[0.8888888888888888,\"#fdca26\"],[1.0,\"#f0f921\"]]}],\"choropleth\":[{\"type\":\"choropleth\",\"colorbar\":{\"outlinewidth\":0,\"ticks\":\"\"}}],\"histogram2d\":[{\"type\":\"histogram2d\",\"colorbar\":{\"outlinewidth\":0,\"ticks\":\"\"},\"colorscale\":[[0.0,\"#0d0887\"],[0.1111111111111111,\"#46039f\"],[0.2222222222222222,\"#7201a8\"],[0.3333333333333333,\"#9c179e\"],[0.4444444444444444,\"#bd3786\"],[0.5555555555555556,\"#d8576b\"],[0.6666666666666666,\"#ed7953\"],[0.7777777777777778,\"#fb9f3a\"],[0.8888888888888888,\"#fdca26\"],[1.0,\"#f0f921\"]]}],\"heatmap\":[{\"type\":\"heatmap\",\"colorbar\":{\"outlinewidth\":0,\"ticks\":\"\"},\"colorscale\":[[0.0,\"#0d0887\"],[0.1111111111111111,\"#46039f\"],[0.2222222222222222,\"#7201a8\"],[0.3333333333333333,\"#9c179e\"],[0.4444444444444444,\"#bd3786\"],[0.5555555555555556,\"#d8576b\"],[0.6666666666666666,\"#ed7953\"],[0.7777777777777778,\"#fb9f3a\"],[0.8888888888888888,\"#fdca26\"],[1.0,\"#f0f921\"]]}],\"heatmapgl\":[{\"type\":\"heatmapgl\",\"colorbar\":{\"outlinewidth\":0,\"ticks\":\"\"},\"colorscale\":[[0.0,\"#0d0887\"],[0.1111111111111111,\"#46039f\"],[0.2222222222222222,\"#7201a8\"],[0.3333333333333333,\"#9c179e\"],[0.4444444444444444,\"#bd3786\"],[0.5555555555555556,\"#d8576b\"],[0.6666666666666666,\"#ed7953\"],[0.7777777777777778,\"#fb9f3a\"],[0.8888888888888888,\"#fdca26\"],[1.0,\"#f0f921\"]]}],\"contourcarpet\":[{\"type\":\"contourcarpet\",\"colorbar\":{\"outlinewidth\":0,\"ticks\":\"\"}}],\"contour\":[{\"type\":\"contour\",\"colorbar\":{\"outlinewidth\":0,\"ticks\":\"\"},\"colorscale\":[[0.0,\"#0d0887\"],[0.1111111111111111,\"#46039f\"],[0.2222222222222222,\"#7201a8\"],[0.3333333333333333,\"#9c179e\"],[0.4444444444444444,\"#bd3786\"],[0.5555555555555556,\"#d8576b\"],[0.6666666666666666,\"#ed7953\"],[0.7777777777777778,\"#fb9f3a\"],[0.8888888888888888,\"#fdca26\"],[1.0,\"#f0f921\"]]}],\"surface\":[{\"type\":\"surface\",\"colorbar\":{\"outlinewidth\":0,\"ticks\":\"\"},\"colorscale\":[[0.0,\"#0d0887\"],[0.1111111111111111,\"#46039f\"],[0.2222222222222222,\"#7201a8\"],[0.3333333333333333,\"#9c179e\"],[0.4444444444444444,\"#bd3786\"],[0.5555555555555556,\"#d8576b\"],[0.6666666666666666,\"#ed7953\"],[0.7777777777777778,\"#fb9f3a\"],[0.8888888888888888,\"#fdca26\"],[1.0,\"#f0f921\"]]}],\"mesh3d\":[{\"type\":\"mesh3d\",\"colorbar\":{\"outlinewidth\":0,\"ticks\":\"\"}}],\"scatter\":[{\"fillpattern\":{\"fillmode\":\"overlay\",\"size\":10,\"solidity\":0.2},\"type\":\"scatter\"}],\"parcoords\":[{\"type\":\"parcoords\",\"line\":{\"colorbar\":{\"outlinewidth\":0,\"ticks\":\"\"}}}],\"scatterpolargl\":[{\"type\":\"scatterpolargl\",\"marker\":{\"colorbar\":{\"outlinewidth\":0,\"ticks\":\"\"}}}],\"bar\":[{\"error_x\":{\"color\":\"#2a3f5f\"},\"error_y\":{\"color\":\"#2a3f5f\"},\"marker\":{\"line\":{\"color\":\"#E5ECF6\",\"width\":0.5},\"pattern\":{\"fillmode\":\"overlay\",\"size\":10,\"solidity\":0.2}},\"type\":\"bar\"}],\"scattergeo\":[{\"type\":\"scattergeo\",\"marker\":{\"colorbar\":{\"outlinewidth\":0,\"ticks\":\"\"}}}],\"scatterpolar\":[{\"type\":\"scatterpolar\",\"marker\":{\"colorbar\":{\"outlinewidth\":0,\"ticks\":\"\"}}}],\"histogram\":[{\"marker\":{\"pattern\":{\"fillmode\":\"overlay\",\"size\":10,\"solidity\":0.2}},\"type\":\"histogram\"}],\"scattergl\":[{\"type\":\"scattergl\",\"marker\":{\"colorbar\":{\"outlinewidth\":0,\"ticks\":\"\"}}}],\"scatter3d\":[{\"type\":\"scatter3d\",\"line\":{\"colorbar\":{\"outlinewidth\":0,\"ticks\":\"\"}},\"marker\":{\"colorbar\":{\"outlinewidth\":0,\"ticks\":\"\"}}}],\"scattermapbox\":[{\"type\":\"scattermapbox\",\"marker\":{\"colorbar\":{\"outlinewidth\":0,\"ticks\":\"\"}}}],\"scatterternary\":[{\"type\":\"scatterternary\",\"marker\":{\"colorbar\":{\"outlinewidth\":0,\"ticks\":\"\"}}}],\"scattercarpet\":[{\"type\":\"scattercarpet\",\"marker\":{\"colorbar\":{\"outlinewidth\":0,\"ticks\":\"\"}}}],\"carpet\":[{\"aaxis\":{\"endlinecolor\":\"#2a3f5f\",\"gridcolor\":\"white\",\"linecolor\":\"white\",\"minorgridcolor\":\"white\",\"startlinecolor\":\"#2a3f5f\"},\"baxis\":{\"endlinecolor\":\"#2a3f5f\",\"gridcolor\":\"white\",\"linecolor\":\"white\",\"minorgridcolor\":\"white\",\"startlinecolor\":\"#2a3f5f\"},\"type\":\"carpet\"}],\"table\":[{\"cells\":{\"fill\":{\"color\":\"#EBF0F8\"},\"line\":{\"color\":\"white\"}},\"header\":{\"fill\":{\"color\":\"#C8D4E3\"},\"line\":{\"color\":\"white\"}},\"type\":\"table\"}],\"barpolar\":[{\"marker\":{\"line\":{\"color\":\"#E5ECF6\",\"width\":0.5},\"pattern\":{\"fillmode\":\"overlay\",\"size\":10,\"solidity\":0.2}},\"type\":\"barpolar\"}],\"pie\":[{\"automargin\":true,\"type\":\"pie\"}]},\"layout\":{\"autotypenumbers\":\"strict\",\"colorway\":[\"#636efa\",\"#EF553B\",\"#00cc96\",\"#ab63fa\",\"#FFA15A\",\"#19d3f3\",\"#FF6692\",\"#B6E880\",\"#FF97FF\",\"#FECB52\"],\"font\":{\"color\":\"#2a3f5f\"},\"hovermode\":\"closest\",\"hoverlabel\":{\"align\":\"left\"},\"paper_bgcolor\":\"white\",\"plot_bgcolor\":\"#E5ECF6\",\"polar\":{\"bgcolor\":\"#E5ECF6\",\"angularaxis\":{\"gridcolor\":\"white\",\"linecolor\":\"white\",\"ticks\":\"\"},\"radialaxis\":{\"gridcolor\":\"white\",\"linecolor\":\"white\",\"ticks\":\"\"}},\"ternary\":{\"bgcolor\":\"#E5ECF6\",\"aaxis\":{\"gridcolor\":\"white\",\"linecolor\":\"white\",\"ticks\":\"\"},\"baxis\":{\"gridcolor\":\"white\",\"linecolor\":\"white\",\"ticks\":\"\"},\"caxis\":{\"gridcolor\":\"white\",\"linecolor\":\"white\",\"ticks\":\"\"}},\"coloraxis\":{\"colorbar\":{\"outlinewidth\":0,\"ticks\":\"\"}},\"colorscale\":{\"sequential\":[[0.0,\"#0d0887\"],[0.1111111111111111,\"#46039f\"],[0.2222222222222222,\"#7201a8\"],[0.3333333333333333,\"#9c179e\"],[0.4444444444444444,\"#bd3786\"],[0.5555555555555556,\"#d8576b\"],[0.6666666666666666,\"#ed7953\"],[0.7777777777777778,\"#fb9f3a\"],[0.8888888888888888,\"#fdca26\"],[1.0,\"#f0f921\"]],\"sequentialminus\":[[0.0,\"#0d0887\"],[0.1111111111111111,\"#46039f\"],[0.2222222222222222,\"#7201a8\"],[0.3333333333333333,\"#9c179e\"],[0.4444444444444444,\"#bd3786\"],[0.5555555555555556,\"#d8576b\"],[0.6666666666666666,\"#ed7953\"],[0.7777777777777778,\"#fb9f3a\"],[0.8888888888888888,\"#fdca26\"],[1.0,\"#f0f921\"]],\"diverging\":[[0,\"#8e0152\"],[0.1,\"#c51b7d\"],[0.2,\"#de77ae\"],[0.3,\"#f1b6da\"],[0.4,\"#fde0ef\"],[0.5,\"#f7f7f7\"],[0.6,\"#e6f5d0\"],[0.7,\"#b8e186\"],[0.8,\"#7fbc41\"],[0.9,\"#4d9221\"],[1,\"#276419\"]]},\"xaxis\":{\"gridcolor\":\"white\",\"linecolor\":\"white\",\"ticks\":\"\",\"title\":{\"standoff\":15},\"zerolinecolor\":\"white\",\"automargin\":true,\"zerolinewidth\":2},\"yaxis\":{\"gridcolor\":\"white\",\"linecolor\":\"white\",\"ticks\":\"\",\"title\":{\"standoff\":15},\"zerolinecolor\":\"white\",\"automargin\":true,\"zerolinewidth\":2},\"scene\":{\"xaxis\":{\"backgroundcolor\":\"#E5ECF6\",\"gridcolor\":\"white\",\"linecolor\":\"white\",\"showbackground\":true,\"ticks\":\"\",\"zerolinecolor\":\"white\",\"gridwidth\":2},\"yaxis\":{\"backgroundcolor\":\"#E5ECF6\",\"gridcolor\":\"white\",\"linecolor\":\"white\",\"showbackground\":true,\"ticks\":\"\",\"zerolinecolor\":\"white\",\"gridwidth\":2},\"zaxis\":{\"backgroundcolor\":\"#E5ECF6\",\"gridcolor\":\"white\",\"linecolor\":\"white\",\"showbackground\":true,\"ticks\":\"\",\"zerolinecolor\":\"white\",\"gridwidth\":2}},\"shapedefaults\":{\"line\":{\"color\":\"#2a3f5f\"}},\"annotationdefaults\":{\"arrowcolor\":\"#2a3f5f\",\"arrowhead\":0,\"arrowwidth\":1},\"geo\":{\"bgcolor\":\"white\",\"landcolor\":\"#E5ECF6\",\"subunitcolor\":\"white\",\"showland\":true,\"showlakes\":true,\"lakecolor\":\"white\"},\"title\":{\"x\":0.05},\"mapbox\":{\"style\":\"light\"}}},\"xaxis\":{\"anchor\":\"y\",\"domain\":[0.0,1.0],\"title\":{\"text\":\"feature importance (permutation)\"}},\"yaxis\":{\"anchor\":\"x\",\"domain\":[0.0,1.0],\"title\":{\"text\":\"\"},\"categoryorder\":\"total ascending\",\"tickfont\":{\"color\":\"black\",\"family\":\"Arial, sans-serif\",\"size\":14}},\"legend\":{\"tracegroupgap\":0},\"margin\":{\"t\":60},\"barmode\":\"relative\",\"showlegend\":false,\"height\":800,\"width\":1000,\"title\":{\"text\":\"Dose 2 responders\",\"xanchor\":\"left\",\"x\":0.5},\"coloraxis\":{\"showscale\":false}},                        {\"responsive\": true}                    ).then(function(){\n",
       "                            \n",
       "var gd = document.getElementById('866caa49-e5e9-45a5-b926-b8157c4325a8');\n",
       "var x = new MutationObserver(function (mutations, observer) {{\n",
       "        var display = window.getComputedStyle(gd).display;\n",
       "        if (!display || display === 'none') {{\n",
       "            console.log([gd, 'removed!']);\n",
       "            Plotly.purge(gd);\n",
       "            observer.disconnect();\n",
       "        }}\n",
       "}});\n",
       "\n",
       "// Listen for the removal of the full notebook cells\n",
       "var notebookContainer = gd.closest('#notebook-container');\n",
       "if (notebookContainer) {{\n",
       "    x.observe(notebookContainer, {childList: true});\n",
       "}}\n",
       "\n",
       "// Listen for the clearing of the current output cell\n",
       "var outputEl = gd.closest('.output');\n",
       "if (outputEl) {{\n",
       "    x.observe(outputEl, {childList: true});\n",
       "}}\n",
       "\n",
       "                        })                };                });            </script>        </div>"
      ]
     },
     "metadata": {},
     "output_type": "display_data"
    }
   ],
   "source": [
    "df = data[\"SVM_RFE_d2_d\"][\"df\"]\n",
    "df = df.loc[df[\"var\"]!=\"age\",:]\n",
    "df = df.sort_values(by=\"impor_mean\",ascending=False)\n",
    "fig1 = px.bar(df.iloc[:30,:], x=\"impor_mean\", y=\"var\",orientation='h',labels={\"impor_mean\": \"feature importance (permutation)\",\"var\": \"\"})\n",
    "fig1.update_layout(showlegend=False,height = 800,yaxis={'categoryorder':'total ascending'},width = 1000,title = \"Dose 2 responders\")\n",
    "fig1.layout.title.xanchor = 'left'\n",
    "fig1.layout.title.x = 0.5\n",
    "fig1.update_traces(marker_color='#1f77b4')\n",
    "fig1.layout.yaxis.tickfont = dict(size =14, color='black', family='Arial, sans-serif')\n",
    "#fig1.layout.paper_bgcolor = 'rgb(222,222,222)'\n",
    "fig1.update(layout_coloraxis_showscale=False)\n",
    "#fig1.update_yaxes(ticklabelposition=\"inside top\", title=None)\n",
    "fig1.write_image(\"fig_ml_A.svg\")\n",
    "fig1"
   ]
  },
  {
   "cell_type": "code",
   "execution_count": 167,
   "id": "b6773cb0-d6b6-4946-9695-56d7843eb90c",
   "metadata": {},
   "outputs": [
    {
     "data": {
      "text/html": [
       "<div>\n",
       "<style scoped>\n",
       "    .dataframe tbody tr th:only-of-type {\n",
       "        vertical-align: middle;\n",
       "    }\n",
       "\n",
       "    .dataframe tbody tr th {\n",
       "        vertical-align: top;\n",
       "    }\n",
       "\n",
       "    .dataframe thead th {\n",
       "        text-align: right;\n",
       "    }\n",
       "</style>\n",
       "<table border=\"1\" class=\"dataframe\">\n",
       "  <thead>\n",
       "    <tr style=\"text-align: right;\">\n",
       "      <th></th>\n",
       "      <th>var</th>\n",
       "      <th>impor_mean</th>\n",
       "      <th>impor_sd</th>\n",
       "    </tr>\n",
       "  </thead>\n",
       "  <tbody>\n",
       "    <tr>\n",
       "      <th>35</th>\n",
       "      <td>CD40+ B Cells :in: B Cells</td>\n",
       "      <td>0.024845</td>\n",
       "      <td>0.008265</td>\n",
       "    </tr>\n",
       "    <tr>\n",
       "      <th>18</th>\n",
       "      <td>CD38+ median  :in:  CD38+ NKT Cells</td>\n",
       "      <td>0.023819</td>\n",
       "      <td>0.010604</td>\n",
       "    </tr>\n",
       "    <tr>\n",
       "      <th>0</th>\n",
       "      <td>CD94+ median  :in:  CD94+ NK Cells</td>\n",
       "      <td>0.021364</td>\n",
       "      <td>0.007726</td>\n",
       "    </tr>\n",
       "    <tr>\n",
       "      <th>17</th>\n",
       "      <td>CD80+ median  :in:  CD80+ Switched Memory B Cells</td>\n",
       "      <td>0.020525</td>\n",
       "      <td>0.010133</td>\n",
       "    </tr>\n",
       "    <tr>\n",
       "      <th>8</th>\n",
       "      <td>CD94+ median  :in:  CD94+ NKT Cells</td>\n",
       "      <td>0.019615</td>\n",
       "      <td>0.008832</td>\n",
       "    </tr>\n",
       "    <tr>\n",
       "      <th>1</th>\n",
       "      <td>CD57+ NK Cells :in: NK Cells</td>\n",
       "      <td>0.017854</td>\n",
       "      <td>0.009986</td>\n",
       "    </tr>\n",
       "    <tr>\n",
       "      <th>4</th>\n",
       "      <td>CD38+ median  :in:  CD38+ CD27+ CD4+ T Cells</td>\n",
       "      <td>0.017224</td>\n",
       "      <td>0.008445</td>\n",
       "    </tr>\n",
       "    <tr>\n",
       "      <th>5</th>\n",
       "      <td>CD11c+ CD27+ CD8+ T Cells :in: CD27+ CD8+ T Cells</td>\n",
       "      <td>0.017190</td>\n",
       "      <td>0.007690</td>\n",
       "    </tr>\n",
       "    <tr>\n",
       "      <th>25</th>\n",
       "      <td>CD94+ median  :in:  CD94+ CD16+ NK Cells</td>\n",
       "      <td>0.016898</td>\n",
       "      <td>0.005892</td>\n",
       "    </tr>\n",
       "    <tr>\n",
       "      <th>24</th>\n",
       "      <td>CD40+ IgMlow IgD+ Naive B Cells :in: IgMlow Ig...</td>\n",
       "      <td>0.014729</td>\n",
       "      <td>0.006123</td>\n",
       "    </tr>\n",
       "    <tr>\n",
       "      <th>32</th>\n",
       "      <td>CD86+ CD16- CD56dim NK Cells :in: CD16- CD56di...</td>\n",
       "      <td>0.012875</td>\n",
       "      <td>0.006300</td>\n",
       "    </tr>\n",
       "    <tr>\n",
       "      <th>28</th>\n",
       "      <td>CD57+ CD16+ NK Cells :in: CD16+ NK Cells</td>\n",
       "      <td>0.011190</td>\n",
       "      <td>0.007198</td>\n",
       "    </tr>\n",
       "    <tr>\n",
       "      <th>23</th>\n",
       "      <td>Double Negative B Cells :in: B Cells</td>\n",
       "      <td>0.010816</td>\n",
       "      <td>0.006998</td>\n",
       "    </tr>\n",
       "    <tr>\n",
       "      <th>31</th>\n",
       "      <td>CD94+ CD16- CD56bright NK Cells :in: CD16- CD5...</td>\n",
       "      <td>0.008117</td>\n",
       "      <td>0.004151</td>\n",
       "    </tr>\n",
       "    <tr>\n",
       "      <th>16</th>\n",
       "      <td>Transitional B Cells :in: Naive B Cells</td>\n",
       "      <td>0.007283</td>\n",
       "      <td>0.003490</td>\n",
       "    </tr>\n",
       "    <tr>\n",
       "      <th>2</th>\n",
       "      <td>CD11c+ median  :in:  CD11c+ CD16+ NK Cells</td>\n",
       "      <td>0.006589</td>\n",
       "      <td>0.003591</td>\n",
       "    </tr>\n",
       "    <tr>\n",
       "      <th>33</th>\n",
       "      <td>HLA-DR+ IgM+ IgD+ Naive B Cells :in: IgM+ IgD+...</td>\n",
       "      <td>0.005248</td>\n",
       "      <td>0.004778</td>\n",
       "    </tr>\n",
       "    <tr>\n",
       "      <th>30</th>\n",
       "      <td>HLA-DR+ median  :in:  HLA-DR+ CD27- CD4+ T Cells</td>\n",
       "      <td>0.004157</td>\n",
       "      <td>0.004499</td>\n",
       "    </tr>\n",
       "    <tr>\n",
       "      <th>20</th>\n",
       "      <td>CD38+ CD27+ CD8+ T Cells :in: CD27+ CD8+ T Cells</td>\n",
       "      <td>0.004128</td>\n",
       "      <td>0.003604</td>\n",
       "    </tr>\n",
       "    <tr>\n",
       "      <th>6</th>\n",
       "      <td>HLA-DR+ median  :in:  HLA-DR+ CD4+ T Cells</td>\n",
       "      <td>0.003948</td>\n",
       "      <td>0.004635</td>\n",
       "    </tr>\n",
       "    <tr>\n",
       "      <th>7</th>\n",
       "      <td>CD94+ median  :in:  CD94+ CD16- CD56bright NK ...</td>\n",
       "      <td>0.003662</td>\n",
       "      <td>0.002880</td>\n",
       "    </tr>\n",
       "    <tr>\n",
       "      <th>9</th>\n",
       "      <td>CD11c+ median  :in:  CD11c+ CD16- CD56dim NK C...</td>\n",
       "      <td>0.003341</td>\n",
       "      <td>0.003078</td>\n",
       "    </tr>\n",
       "    <tr>\n",
       "      <th>3</th>\n",
       "      <td>CD80+ Memory B Cells :in: Memory B Cells</td>\n",
       "      <td>0.002659</td>\n",
       "      <td>0.002737</td>\n",
       "    </tr>\n",
       "    <tr>\n",
       "      <th>10</th>\n",
       "      <td>CD86+ IgMlow IgD+ Naive B Cells :in: IgMlow Ig...</td>\n",
       "      <td>0.002461</td>\n",
       "      <td>0.003376</td>\n",
       "    </tr>\n",
       "    <tr>\n",
       "      <th>34</th>\n",
       "      <td>Memory B Cells :in: B Cells</td>\n",
       "      <td>0.002187</td>\n",
       "      <td>0.001738</td>\n",
       "    </tr>\n",
       "    <tr>\n",
       "      <th>15</th>\n",
       "      <td>Naive B Cells :in: B Cells</td>\n",
       "      <td>0.002163</td>\n",
       "      <td>0.001744</td>\n",
       "    </tr>\n",
       "    <tr>\n",
       "      <th>26</th>\n",
       "      <td>CD16+ CD56bright NK Cells :in: NK Cells</td>\n",
       "      <td>0.001306</td>\n",
       "      <td>0.001137</td>\n",
       "    </tr>\n",
       "    <tr>\n",
       "      <th>29</th>\n",
       "      <td>CD80+ Double Negative B Cells :in: Double Nega...</td>\n",
       "      <td>0.001207</td>\n",
       "      <td>0.001238</td>\n",
       "    </tr>\n",
       "    <tr>\n",
       "      <th>12</th>\n",
       "      <td>CD27+ median  :in:  CD27+ CD4+ T Cells</td>\n",
       "      <td>0.001120</td>\n",
       "      <td>0.001420</td>\n",
       "    </tr>\n",
       "    <tr>\n",
       "      <th>21</th>\n",
       "      <td>CD57+ CD27+ CD4+ T Cells :in: CD27+ CD4+ T Cells</td>\n",
       "      <td>0.000793</td>\n",
       "      <td>0.002340</td>\n",
       "    </tr>\n",
       "    <tr>\n",
       "      <th>22</th>\n",
       "      <td>CD94+ CD27+ CD8+ T Cells :in: CD27+ CD8+ T Cells</td>\n",
       "      <td>0.000431</td>\n",
       "      <td>0.000712</td>\n",
       "    </tr>\n",
       "    <tr>\n",
       "      <th>27</th>\n",
       "      <td>CD27+ CD16+ NK Cells :in: CD16+ NK Cells</td>\n",
       "      <td>0.000379</td>\n",
       "      <td>0.001625</td>\n",
       "    </tr>\n",
       "    <tr>\n",
       "      <th>13</th>\n",
       "      <td>HLA-DR+ median  :in:  HLA-DR+ B Cells</td>\n",
       "      <td>0.000362</td>\n",
       "      <td>0.000807</td>\n",
       "    </tr>\n",
       "    <tr>\n",
       "      <th>11</th>\n",
       "      <td>CD11c+ median  :in:  CD11c+ CD16- CD56bright N...</td>\n",
       "      <td>0.000169</td>\n",
       "      <td>0.000322</td>\n",
       "    </tr>\n",
       "    <tr>\n",
       "      <th>14</th>\n",
       "      <td>CD38+ median  :in:  CD38+ Dendritic Cells</td>\n",
       "      <td>-0.000099</td>\n",
       "      <td>0.001270</td>\n",
       "    </tr>\n",
       "  </tbody>\n",
       "</table>\n",
       "</div>"
      ],
      "text/plain": [
       "                                                  var  impor_mean  impor_sd\n",
       "35                         CD40+ B Cells :in: B Cells    0.024845  0.008265\n",
       "18                CD38+ median  :in:  CD38+ NKT Cells    0.023819  0.010604\n",
       "0                  CD94+ median  :in:  CD94+ NK Cells    0.021364  0.007726\n",
       "17  CD80+ median  :in:  CD80+ Switched Memory B Cells    0.020525  0.010133\n",
       "8                 CD94+ median  :in:  CD94+ NKT Cells    0.019615  0.008832\n",
       "1                        CD57+ NK Cells :in: NK Cells    0.017854  0.009986\n",
       "4        CD38+ median  :in:  CD38+ CD27+ CD4+ T Cells    0.017224  0.008445\n",
       "5   CD11c+ CD27+ CD8+ T Cells :in: CD27+ CD8+ T Cells    0.017190  0.007690\n",
       "25           CD94+ median  :in:  CD94+ CD16+ NK Cells    0.016898  0.005892\n",
       "24  CD40+ IgMlow IgD+ Naive B Cells :in: IgMlow Ig...    0.014729  0.006123\n",
       "32  CD86+ CD16- CD56dim NK Cells :in: CD16- CD56di...    0.012875  0.006300\n",
       "28           CD57+ CD16+ NK Cells :in: CD16+ NK Cells    0.011190  0.007198\n",
       "23               Double Negative B Cells :in: B Cells    0.010816  0.006998\n",
       "31  CD94+ CD16- CD56bright NK Cells :in: CD16- CD5...    0.008117  0.004151\n",
       "16            Transitional B Cells :in: Naive B Cells    0.007283  0.003490\n",
       "2          CD11c+ median  :in:  CD11c+ CD16+ NK Cells    0.006589  0.003591\n",
       "33  HLA-DR+ IgM+ IgD+ Naive B Cells :in: IgM+ IgD+...    0.005248  0.004778\n",
       "30   HLA-DR+ median  :in:  HLA-DR+ CD27- CD4+ T Cells    0.004157  0.004499\n",
       "20   CD38+ CD27+ CD8+ T Cells :in: CD27+ CD8+ T Cells    0.004128  0.003604\n",
       "6          HLA-DR+ median  :in:  HLA-DR+ CD4+ T Cells    0.003948  0.004635\n",
       "7   CD94+ median  :in:  CD94+ CD16- CD56bright NK ...    0.003662  0.002880\n",
       "9   CD11c+ median  :in:  CD11c+ CD16- CD56dim NK C...    0.003341  0.003078\n",
       "3            CD80+ Memory B Cells :in: Memory B Cells    0.002659  0.002737\n",
       "10  CD86+ IgMlow IgD+ Naive B Cells :in: IgMlow Ig...    0.002461  0.003376\n",
       "34                        Memory B Cells :in: B Cells    0.002187  0.001738\n",
       "15                         Naive B Cells :in: B Cells    0.002163  0.001744\n",
       "26            CD16+ CD56bright NK Cells :in: NK Cells    0.001306  0.001137\n",
       "29  CD80+ Double Negative B Cells :in: Double Nega...    0.001207  0.001238\n",
       "12             CD27+ median  :in:  CD27+ CD4+ T Cells    0.001120  0.001420\n",
       "21   CD57+ CD27+ CD4+ T Cells :in: CD27+ CD4+ T Cells    0.000793  0.002340\n",
       "22   CD94+ CD27+ CD8+ T Cells :in: CD27+ CD8+ T Cells    0.000431  0.000712\n",
       "27           CD27+ CD16+ NK Cells :in: CD16+ NK Cells    0.000379  0.001625\n",
       "13              HLA-DR+ median  :in:  HLA-DR+ B Cells    0.000362  0.000807\n",
       "11  CD11c+ median  :in:  CD11c+ CD16- CD56bright N...    0.000169  0.000322\n",
       "14          CD38+ median  :in:  CD38+ Dendritic Cells   -0.000099  0.001270"
      ]
     },
     "execution_count": 167,
     "metadata": {},
     "output_type": "execute_result"
    }
   ],
   "source": [
    "d2_d_lab =pd.read_csv(\"d2_d_lab.csv\",sep=\"\\t\")\n",
    "d2_d_lab = dict(zip(d2_d_lab['var'],d2_d_lab['Short name']))\n",
    "d3_p_lab =pd.read_csv(\"d3_p_lab.csv\",sep=\"\\t\")\n",
    "d3_p_lab = dict(zip(d3_p_lab['var'],d3_p_lab['Short name']))\n",
    "df"
   ]
  },
  {
   "cell_type": "code",
   "execution_count": null,
   "id": "afe9ccd8-355c-4ea7-887c-9603285ce729",
   "metadata": {},
   "outputs": [],
   "source": [
    "\n",
    "for k in d2_d_lab.keys():\n",
    "    d2_d.loc[d2_d[\"var\"]==k,\"var\"] = d2_d_lab[k]\n",
    "for k in d3_p_lab.keys():\n",
    "    d3_p.loc[d3_p[\"var\"]==k,\"var\"] = d3_p_lab[k]\n",
    "d2_d = d2_d.loc[d2_d.pvalue<=0.05]\n",
    "d2_d.loc[d2_d.index,\"cib\"] = d2_d.ci2 -d2_d[\"or\"]\n",
    "d2_d.loc[d2_d.index,\"cia\"] = d2_d[\"or\"] - d2_d.ci1\n",
    "d2_d = d2_d.sort_values(by=\"mu\",ascending=False).copy()\n",
    "d3_p = d3_p.loc[d3_p.pvalue<=0.05]\n",
    "d3_p.loc[d3_p.index,\"cib\"] = d3_p.ci2 -d3_p[\"or\"]\n",
    "d3_p.loc[d3_p.index,\"cia\"] = d3_p[\"or\"] - d3_p.ci1\n",
    "d3_p = d3_p.sort_values(by=\"mu\",ascending=False).copy()"
   ]
  },
  {
   "cell_type": "code",
   "execution_count": 34,
   "id": "32e6fdd9-e984-4029-aa6e-44559ca417f4",
   "metadata": {},
   "outputs": [
    {
     "data": {
      "application/vnd.plotly.v1+json": {
       "config": {
        "plotlyServerURL": "https://plot.ly"
       },
       "data": [
        {
         "alignmentgroup": "True",
         "hovertemplate": "feature importance (permutation)=%{x}<br>=%{y}<extra></extra>",
         "legendgroup": "",
         "marker": {
          "color": "rgba( 128,41, 185, 1.0)",
          "pattern": {
           "shape": ""
          }
         },
         "name": "",
         "offsetgroup": "",
         "orientation": "h",
         "showlegend": false,
         "textposition": "auto",
         "type": "bar",
         "x": [
          0.2648325358851675,
          0.22190430622009572,
          0.18824880382775125,
          0.17756459330143531,
          0.17190430622009564,
          0.1508133971291866,
          0.1437607655502392,
          0.13742583732057426,
          0.12758851674641153,
          0.11664114832535882,
          0.11376555023923456,
          0.10792344497607655,
          0.09060287081339716,
          0.07832535885167474
         ],
         "xaxis": "x",
         "y": [
          "CD40+ median  :in:  CD40+ Non-Switched Memory B Cells",
          "CD40+ median  :in:  CD40+ IgM+ IgD+ Memory B Cells",
          "CD38+ median  :in:  CD38+ CD16- CD56dim NK Cells",
          "CD40+ median  :in:  CD40+ IgM+ IgD+ Naive B Cells",
          "CD27+ CD16- CD56bright NK Cells :in: CD16- CD56bright NK Cells",
          "CD86+ CD16- CD56dim NK Cells :in: CD16- CD56dim NK Cells",
          "CD57+ CD27- CD4+ T Cells :in: CD27- CD4+ T Cells",
          "CD38+ NK Cells :in: NK Cells",
          "CD57+ CD27+ CD8+ T Cells :in: CD27+ CD8+ T Cells",
          "HLA-DR+ median  :in:  HLA-DR+ CD4+ T Cells",
          "Transitional B Cells :in: Naive B Cells",
          "CD94+ NKT Cells :in: NKT Cells",
          "BAFF-R+ IgMlow IgD+ Naive B Cells :in: IgMlow IgD+ Naive B Cells",
          "CD94+ CD16- CD56bright NK Cells :in: CD16- CD56bright NK Cells"
         ],
         "yaxis": "y"
        }
       ],
       "layout": {
        "barmode": "relative",
        "coloraxis": {
         "showscale": false
        },
        "height": 500,
        "legend": {
         "tracegroupgap": 0
        },
        "margin": {
         "t": 60
        },
        "paper_bgcolor": "rgb(222,222,222)",
        "showlegend": false,
        "template": {
         "data": {
          "bar": [
           {
            "error_x": {
             "color": "#2a3f5f"
            },
            "error_y": {
             "color": "#2a3f5f"
            },
            "marker": {
             "line": {
              "color": "#E5ECF6",
              "width": 0.5
             },
             "pattern": {
              "fillmode": "overlay",
              "size": 10,
              "solidity": 0.2
             }
            },
            "type": "bar"
           }
          ],
          "barpolar": [
           {
            "marker": {
             "line": {
              "color": "#E5ECF6",
              "width": 0.5
             },
             "pattern": {
              "fillmode": "overlay",
              "size": 10,
              "solidity": 0.2
             }
            },
            "type": "barpolar"
           }
          ],
          "carpet": [
           {
            "aaxis": {
             "endlinecolor": "#2a3f5f",
             "gridcolor": "white",
             "linecolor": "white",
             "minorgridcolor": "white",
             "startlinecolor": "#2a3f5f"
            },
            "baxis": {
             "endlinecolor": "#2a3f5f",
             "gridcolor": "white",
             "linecolor": "white",
             "minorgridcolor": "white",
             "startlinecolor": "#2a3f5f"
            },
            "type": "carpet"
           }
          ],
          "choropleth": [
           {
            "colorbar": {
             "outlinewidth": 0,
             "ticks": ""
            },
            "type": "choropleth"
           }
          ],
          "contour": [
           {
            "colorbar": {
             "outlinewidth": 0,
             "ticks": ""
            },
            "colorscale": [
             [
              0,
              "#0d0887"
             ],
             [
              0.1111111111111111,
              "#46039f"
             ],
             [
              0.2222222222222222,
              "#7201a8"
             ],
             [
              0.3333333333333333,
              "#9c179e"
             ],
             [
              0.4444444444444444,
              "#bd3786"
             ],
             [
              0.5555555555555556,
              "#d8576b"
             ],
             [
              0.6666666666666666,
              "#ed7953"
             ],
             [
              0.7777777777777778,
              "#fb9f3a"
             ],
             [
              0.8888888888888888,
              "#fdca26"
             ],
             [
              1,
              "#f0f921"
             ]
            ],
            "type": "contour"
           }
          ],
          "contourcarpet": [
           {
            "colorbar": {
             "outlinewidth": 0,
             "ticks": ""
            },
            "type": "contourcarpet"
           }
          ],
          "heatmap": [
           {
            "colorbar": {
             "outlinewidth": 0,
             "ticks": ""
            },
            "colorscale": [
             [
              0,
              "#0d0887"
             ],
             [
              0.1111111111111111,
              "#46039f"
             ],
             [
              0.2222222222222222,
              "#7201a8"
             ],
             [
              0.3333333333333333,
              "#9c179e"
             ],
             [
              0.4444444444444444,
              "#bd3786"
             ],
             [
              0.5555555555555556,
              "#d8576b"
             ],
             [
              0.6666666666666666,
              "#ed7953"
             ],
             [
              0.7777777777777778,
              "#fb9f3a"
             ],
             [
              0.8888888888888888,
              "#fdca26"
             ],
             [
              1,
              "#f0f921"
             ]
            ],
            "type": "heatmap"
           }
          ],
          "heatmapgl": [
           {
            "colorbar": {
             "outlinewidth": 0,
             "ticks": ""
            },
            "colorscale": [
             [
              0,
              "#0d0887"
             ],
             [
              0.1111111111111111,
              "#46039f"
             ],
             [
              0.2222222222222222,
              "#7201a8"
             ],
             [
              0.3333333333333333,
              "#9c179e"
             ],
             [
              0.4444444444444444,
              "#bd3786"
             ],
             [
              0.5555555555555556,
              "#d8576b"
             ],
             [
              0.6666666666666666,
              "#ed7953"
             ],
             [
              0.7777777777777778,
              "#fb9f3a"
             ],
             [
              0.8888888888888888,
              "#fdca26"
             ],
             [
              1,
              "#f0f921"
             ]
            ],
            "type": "heatmapgl"
           }
          ],
          "histogram": [
           {
            "marker": {
             "pattern": {
              "fillmode": "overlay",
              "size": 10,
              "solidity": 0.2
             }
            },
            "type": "histogram"
           }
          ],
          "histogram2d": [
           {
            "colorbar": {
             "outlinewidth": 0,
             "ticks": ""
            },
            "colorscale": [
             [
              0,
              "#0d0887"
             ],
             [
              0.1111111111111111,
              "#46039f"
             ],
             [
              0.2222222222222222,
              "#7201a8"
             ],
             [
              0.3333333333333333,
              "#9c179e"
             ],
             [
              0.4444444444444444,
              "#bd3786"
             ],
             [
              0.5555555555555556,
              "#d8576b"
             ],
             [
              0.6666666666666666,
              "#ed7953"
             ],
             [
              0.7777777777777778,
              "#fb9f3a"
             ],
             [
              0.8888888888888888,
              "#fdca26"
             ],
             [
              1,
              "#f0f921"
             ]
            ],
            "type": "histogram2d"
           }
          ],
          "histogram2dcontour": [
           {
            "colorbar": {
             "outlinewidth": 0,
             "ticks": ""
            },
            "colorscale": [
             [
              0,
              "#0d0887"
             ],
             [
              0.1111111111111111,
              "#46039f"
             ],
             [
              0.2222222222222222,
              "#7201a8"
             ],
             [
              0.3333333333333333,
              "#9c179e"
             ],
             [
              0.4444444444444444,
              "#bd3786"
             ],
             [
              0.5555555555555556,
              "#d8576b"
             ],
             [
              0.6666666666666666,
              "#ed7953"
             ],
             [
              0.7777777777777778,
              "#fb9f3a"
             ],
             [
              0.8888888888888888,
              "#fdca26"
             ],
             [
              1,
              "#f0f921"
             ]
            ],
            "type": "histogram2dcontour"
           }
          ],
          "mesh3d": [
           {
            "colorbar": {
             "outlinewidth": 0,
             "ticks": ""
            },
            "type": "mesh3d"
           }
          ],
          "parcoords": [
           {
            "line": {
             "colorbar": {
              "outlinewidth": 0,
              "ticks": ""
             }
            },
            "type": "parcoords"
           }
          ],
          "pie": [
           {
            "automargin": true,
            "type": "pie"
           }
          ],
          "scatter": [
           {
            "fillpattern": {
             "fillmode": "overlay",
             "size": 10,
             "solidity": 0.2
            },
            "type": "scatter"
           }
          ],
          "scatter3d": [
           {
            "line": {
             "colorbar": {
              "outlinewidth": 0,
              "ticks": ""
             }
            },
            "marker": {
             "colorbar": {
              "outlinewidth": 0,
              "ticks": ""
             }
            },
            "type": "scatter3d"
           }
          ],
          "scattercarpet": [
           {
            "marker": {
             "colorbar": {
              "outlinewidth": 0,
              "ticks": ""
             }
            },
            "type": "scattercarpet"
           }
          ],
          "scattergeo": [
           {
            "marker": {
             "colorbar": {
              "outlinewidth": 0,
              "ticks": ""
             }
            },
            "type": "scattergeo"
           }
          ],
          "scattergl": [
           {
            "marker": {
             "colorbar": {
              "outlinewidth": 0,
              "ticks": ""
             }
            },
            "type": "scattergl"
           }
          ],
          "scattermapbox": [
           {
            "marker": {
             "colorbar": {
              "outlinewidth": 0,
              "ticks": ""
             }
            },
            "type": "scattermapbox"
           }
          ],
          "scatterpolar": [
           {
            "marker": {
             "colorbar": {
              "outlinewidth": 0,
              "ticks": ""
             }
            },
            "type": "scatterpolar"
           }
          ],
          "scatterpolargl": [
           {
            "marker": {
             "colorbar": {
              "outlinewidth": 0,
              "ticks": ""
             }
            },
            "type": "scatterpolargl"
           }
          ],
          "scatterternary": [
           {
            "marker": {
             "colorbar": {
              "outlinewidth": 0,
              "ticks": ""
             }
            },
            "type": "scatterternary"
           }
          ],
          "surface": [
           {
            "colorbar": {
             "outlinewidth": 0,
             "ticks": ""
            },
            "colorscale": [
             [
              0,
              "#0d0887"
             ],
             [
              0.1111111111111111,
              "#46039f"
             ],
             [
              0.2222222222222222,
              "#7201a8"
             ],
             [
              0.3333333333333333,
              "#9c179e"
             ],
             [
              0.4444444444444444,
              "#bd3786"
             ],
             [
              0.5555555555555556,
              "#d8576b"
             ],
             [
              0.6666666666666666,
              "#ed7953"
             ],
             [
              0.7777777777777778,
              "#fb9f3a"
             ],
             [
              0.8888888888888888,
              "#fdca26"
             ],
             [
              1,
              "#f0f921"
             ]
            ],
            "type": "surface"
           }
          ],
          "table": [
           {
            "cells": {
             "fill": {
              "color": "#EBF0F8"
             },
             "line": {
              "color": "white"
             }
            },
            "header": {
             "fill": {
              "color": "#C8D4E3"
             },
             "line": {
              "color": "white"
             }
            },
            "type": "table"
           }
          ]
         },
         "layout": {
          "annotationdefaults": {
           "arrowcolor": "#2a3f5f",
           "arrowhead": 0,
           "arrowwidth": 1
          },
          "autotypenumbers": "strict",
          "coloraxis": {
           "colorbar": {
            "outlinewidth": 0,
            "ticks": ""
           }
          },
          "colorscale": {
           "diverging": [
            [
             0,
             "#8e0152"
            ],
            [
             0.1,
             "#c51b7d"
            ],
            [
             0.2,
             "#de77ae"
            ],
            [
             0.3,
             "#f1b6da"
            ],
            [
             0.4,
             "#fde0ef"
            ],
            [
             0.5,
             "#f7f7f7"
            ],
            [
             0.6,
             "#e6f5d0"
            ],
            [
             0.7,
             "#b8e186"
            ],
            [
             0.8,
             "#7fbc41"
            ],
            [
             0.9,
             "#4d9221"
            ],
            [
             1,
             "#276419"
            ]
           ],
           "sequential": [
            [
             0,
             "#0d0887"
            ],
            [
             0.1111111111111111,
             "#46039f"
            ],
            [
             0.2222222222222222,
             "#7201a8"
            ],
            [
             0.3333333333333333,
             "#9c179e"
            ],
            [
             0.4444444444444444,
             "#bd3786"
            ],
            [
             0.5555555555555556,
             "#d8576b"
            ],
            [
             0.6666666666666666,
             "#ed7953"
            ],
            [
             0.7777777777777778,
             "#fb9f3a"
            ],
            [
             0.8888888888888888,
             "#fdca26"
            ],
            [
             1,
             "#f0f921"
            ]
           ],
           "sequentialminus": [
            [
             0,
             "#0d0887"
            ],
            [
             0.1111111111111111,
             "#46039f"
            ],
            [
             0.2222222222222222,
             "#7201a8"
            ],
            [
             0.3333333333333333,
             "#9c179e"
            ],
            [
             0.4444444444444444,
             "#bd3786"
            ],
            [
             0.5555555555555556,
             "#d8576b"
            ],
            [
             0.6666666666666666,
             "#ed7953"
            ],
            [
             0.7777777777777778,
             "#fb9f3a"
            ],
            [
             0.8888888888888888,
             "#fdca26"
            ],
            [
             1,
             "#f0f921"
            ]
           ]
          },
          "colorway": [
           "#636efa",
           "#EF553B",
           "#00cc96",
           "#ab63fa",
           "#FFA15A",
           "#19d3f3",
           "#FF6692",
           "#B6E880",
           "#FF97FF",
           "#FECB52"
          ],
          "font": {
           "color": "#2a3f5f"
          },
          "geo": {
           "bgcolor": "white",
           "lakecolor": "white",
           "landcolor": "#E5ECF6",
           "showlakes": true,
           "showland": true,
           "subunitcolor": "white"
          },
          "hoverlabel": {
           "align": "left"
          },
          "hovermode": "closest",
          "mapbox": {
           "style": "light"
          },
          "paper_bgcolor": "white",
          "plot_bgcolor": "#E5ECF6",
          "polar": {
           "angularaxis": {
            "gridcolor": "white",
            "linecolor": "white",
            "ticks": ""
           },
           "bgcolor": "#E5ECF6",
           "radialaxis": {
            "gridcolor": "white",
            "linecolor": "white",
            "ticks": ""
           }
          },
          "scene": {
           "xaxis": {
            "backgroundcolor": "#E5ECF6",
            "gridcolor": "white",
            "gridwidth": 2,
            "linecolor": "white",
            "showbackground": true,
            "ticks": "",
            "zerolinecolor": "white"
           },
           "yaxis": {
            "backgroundcolor": "#E5ECF6",
            "gridcolor": "white",
            "gridwidth": 2,
            "linecolor": "white",
            "showbackground": true,
            "ticks": "",
            "zerolinecolor": "white"
           },
           "zaxis": {
            "backgroundcolor": "#E5ECF6",
            "gridcolor": "white",
            "gridwidth": 2,
            "linecolor": "white",
            "showbackground": true,
            "ticks": "",
            "zerolinecolor": "white"
           }
          },
          "shapedefaults": {
           "line": {
            "color": "#2a3f5f"
           }
          },
          "ternary": {
           "aaxis": {
            "gridcolor": "white",
            "linecolor": "white",
            "ticks": ""
           },
           "baxis": {
            "gridcolor": "white",
            "linecolor": "white",
            "ticks": ""
           },
           "bgcolor": "#E5ECF6",
           "caxis": {
            "gridcolor": "white",
            "linecolor": "white",
            "ticks": ""
           }
          },
          "title": {
           "x": 0.05
          },
          "xaxis": {
           "automargin": true,
           "gridcolor": "white",
           "linecolor": "white",
           "ticks": "",
           "title": {
            "standoff": 15
           },
           "zerolinecolor": "white",
           "zerolinewidth": 2
          },
          "yaxis": {
           "automargin": true,
           "gridcolor": "white",
           "linecolor": "white",
           "ticks": "",
           "title": {
            "standoff": 15
           },
           "zerolinecolor": "white",
           "zerolinewidth": 2
          }
         }
        },
        "title": {
         "text": "Dose 3 positive",
         "x": 0.5,
         "xanchor": "left"
        },
        "width": 1000,
        "xaxis": {
         "anchor": "y",
         "autorange": true,
         "domain": [
          0,
          1
         ],
         "range": [
          0,
          0.27877109040543946
         ],
         "title": {
          "text": "feature importance (permutation)"
         },
         "type": "linear"
        },
        "yaxis": {
         "anchor": "x",
         "autorange": true,
         "categoryorder": "total ascending",
         "domain": [
          0,
          1
         ],
         "range": [
          -0.5,
          13.5
         ],
         "tickfont": {
          "color": "black",
          "family": "Arial, sans-serif",
          "size": 14
         },
         "title": {
          "text": ""
         },
         "type": "category"
        }
       }
      },
      "image/png": "[encoded data removed]",
      "text/html": [
       "<div>                            <div id=\"b5e4ab8c-661d-4cf6-b9aa-28b514c6a45d\" class=\"plotly-graph-div\" style=\"height:500px; width:1000px;\"></div>            <script type=\"text/javascript\">                require([\"plotly\"], function(Plotly) {                    window.PLOTLYENV=window.PLOTLYENV || {};                                    if (document.getElementById(\"b5e4ab8c-661d-4cf6-b9aa-28b514c6a45d\")) {                    Plotly.newPlot(                        \"b5e4ab8c-661d-4cf6-b9aa-28b514c6a45d\",                        [{\"alignmentgroup\":\"True\",\"hovertemplate\":\"feature importance (permutation)=%{x}<br>=%{y}<extra></extra>\",\"legendgroup\":\"\",\"marker\":{\"color\":\"rgba( 128,41, 185, 1.0)\",\"pattern\":{\"shape\":\"\"}},\"name\":\"\",\"offsetgroup\":\"\",\"orientation\":\"h\",\"showlegend\":false,\"textposition\":\"auto\",\"x\":[0.2648325358851675,0.22190430622009572,0.18824880382775125,0.17756459330143531,0.17190430622009564,0.1508133971291866,0.1437607655502392,0.13742583732057426,0.12758851674641153,0.11664114832535882,0.11376555023923456,0.10792344497607655,0.09060287081339716,0.07832535885167474],\"xaxis\":\"x\",\"y\":[\"CD40+ median  :in:  CD40+ Non-Switched Memory B Cells\",\"CD40+ median  :in:  CD40+ IgM+ IgD+ Memory B Cells\",\"CD38+ median  :in:  CD38+ CD16- CD56dim NK Cells\",\"CD40+ median  :in:  CD40+ IgM+ IgD+ Naive B Cells\",\"CD27+ CD16- CD56bright NK Cells :in: CD16- CD56bright NK Cells\",\"CD86+ CD16- CD56dim NK Cells :in: CD16- CD56dim NK Cells\",\"CD57+ CD27- CD4+ T Cells :in: CD27- CD4+ T Cells\",\"CD38+ NK Cells :in: NK Cells\",\"CD57+ CD27+ CD8+ T Cells :in: CD27+ CD8+ T Cells\",\"HLA-DR+ median  :in:  HLA-DR+ CD4+ T Cells\",\"Transitional B Cells :in: Naive B Cells\",\"CD94+ NKT Cells :in: NKT Cells\",\"BAFF-R+ IgMlow IgD+ Naive B Cells :in: IgMlow IgD+ Naive B Cells\",\"CD94+ CD16- CD56bright NK Cells :in: CD16- CD56bright NK Cells\"],\"yaxis\":\"y\",\"type\":\"bar\"}],                        {\"template\":{\"data\":{\"histogram2dcontour\":[{\"type\":\"histogram2dcontour\",\"colorbar\":{\"outlinewidth\":0,\"ticks\":\"\"},\"colorscale\":[[0.0,\"#0d0887\"],[0.1111111111111111,\"#46039f\"],[0.2222222222222222,\"#7201a8\"],[0.3333333333333333,\"#9c179e\"],[0.4444444444444444,\"#bd3786\"],[0.5555555555555556,\"#d8576b\"],[0.6666666666666666,\"#ed7953\"],[0.7777777777777778,\"#fb9f3a\"],[0.8888888888888888,\"#fdca26\"],[1.0,\"#f0f921\"]]}],\"choropleth\":[{\"type\":\"choropleth\",\"colorbar\":{\"outlinewidth\":0,\"ticks\":\"\"}}],\"histogram2d\":[{\"type\":\"histogram2d\",\"colorbar\":{\"outlinewidth\":0,\"ticks\":\"\"},\"colorscale\":[[0.0,\"#0d0887\"],[0.1111111111111111,\"#46039f\"],[0.2222222222222222,\"#7201a8\"],[0.3333333333333333,\"#9c179e\"],[0.4444444444444444,\"#bd3786\"],[0.5555555555555556,\"#d8576b\"],[0.6666666666666666,\"#ed7953\"],[0.7777777777777778,\"#fb9f3a\"],[0.8888888888888888,\"#fdca26\"],[1.0,\"#f0f921\"]]}],\"heatmap\":[{\"type\":\"heatmap\",\"colorbar\":{\"outlinewidth\":0,\"ticks\":\"\"},\"colorscale\":[[0.0,\"#0d0887\"],[0.1111111111111111,\"#46039f\"],[0.2222222222222222,\"#7201a8\"],[0.3333333333333333,\"#9c179e\"],[0.4444444444444444,\"#bd3786\"],[0.5555555555555556,\"#d8576b\"],[0.6666666666666666,\"#ed7953\"],[0.7777777777777778,\"#fb9f3a\"],[0.8888888888888888,\"#fdca26\"],[1.0,\"#f0f921\"]]}],\"heatmapgl\":[{\"type\":\"heatmapgl\",\"colorbar\":{\"outlinewidth\":0,\"ticks\":\"\"},\"colorscale\":[[0.0,\"#0d0887\"],[0.1111111111111111,\"#46039f\"],[0.2222222222222222,\"#7201a8\"],[0.3333333333333333,\"#9c179e\"],[0.4444444444444444,\"#bd3786\"],[0.5555555555555556,\"#d8576b\"],[0.6666666666666666,\"#ed7953\"],[0.7777777777777778,\"#fb9f3a\"],[0.8888888888888888,\"#fdca26\"],[1.0,\"#f0f921\"]]}],\"contourcarpet\":[{\"type\":\"contourcarpet\",\"colorbar\":{\"outlinewidth\":0,\"ticks\":\"\"}}],\"contour\":[{\"type\":\"contour\",\"colorbar\":{\"outlinewidth\":0,\"ticks\":\"\"},\"colorscale\":[[0.0,\"#0d0887\"],[0.1111111111111111,\"#46039f\"],[0.2222222222222222,\"#7201a8\"],[0.3333333333333333,\"#9c179e\"],[0.4444444444444444,\"#bd3786\"],[0.5555555555555556,\"#d8576b\"],[0.6666666666666666,\"#ed7953\"],[0.7777777777777778,\"#fb9f3a\"],[0.8888888888888888,\"#fdca26\"],[1.0,\"#f0f921\"]]}],\"surface\":[{\"type\":\"surface\",\"colorbar\":{\"outlinewidth\":0,\"ticks\":\"\"},\"colorscale\":[[0.0,\"#0d0887\"],[0.1111111111111111,\"#46039f\"],[0.2222222222222222,\"#7201a8\"],[0.3333333333333333,\"#9c179e\"],[0.4444444444444444,\"#bd3786\"],[0.5555555555555556,\"#d8576b\"],[0.6666666666666666,\"#ed7953\"],[0.7777777777777778,\"#fb9f3a\"],[0.8888888888888888,\"#fdca26\"],[1.0,\"#f0f921\"]]}],\"mesh3d\":[{\"type\":\"mesh3d\",\"colorbar\":{\"outlinewidth\":0,\"ticks\":\"\"}}],\"scatter\":[{\"fillpattern\":{\"fillmode\":\"overlay\",\"size\":10,\"solidity\":0.2},\"type\":\"scatter\"}],\"parcoords\":[{\"type\":\"parcoords\",\"line\":{\"colorbar\":{\"outlinewidth\":0,\"ticks\":\"\"}}}],\"scatterpolargl\":[{\"type\":\"scatterpolargl\",\"marker\":{\"colorbar\":{\"outlinewidth\":0,\"ticks\":\"\"}}}],\"bar\":[{\"error_x\":{\"color\":\"#2a3f5f\"},\"error_y\":{\"color\":\"#2a3f5f\"},\"marker\":{\"line\":{\"color\":\"#E5ECF6\",\"width\":0.5},\"pattern\":{\"fillmode\":\"overlay\",\"size\":10,\"solidity\":0.2}},\"type\":\"bar\"}],\"scattergeo\":[{\"type\":\"scattergeo\",\"marker\":{\"colorbar\":{\"outlinewidth\":0,\"ticks\":\"\"}}}],\"scatterpolar\":[{\"type\":\"scatterpolar\",\"marker\":{\"colorbar\":{\"outlinewidth\":0,\"ticks\":\"\"}}}],\"histogram\":[{\"marker\":{\"pattern\":{\"fillmode\":\"overlay\",\"size\":10,\"solidity\":0.2}},\"type\":\"histogram\"}],\"scattergl\":[{\"type\":\"scattergl\",\"marker\":{\"colorbar\":{\"outlinewidth\":0,\"ticks\":\"\"}}}],\"scatter3d\":[{\"type\":\"scatter3d\",\"line\":{\"colorbar\":{\"outlinewidth\":0,\"ticks\":\"\"}},\"marker\":{\"colorbar\":{\"outlinewidth\":0,\"ticks\":\"\"}}}],\"scattermapbox\":[{\"type\":\"scattermapbox\",\"marker\":{\"colorbar\":{\"outlinewidth\":0,\"ticks\":\"\"}}}],\"scatterternary\":[{\"type\":\"scatterternary\",\"marker\":{\"colorbar\":{\"outlinewidth\":0,\"ticks\":\"\"}}}],\"scattercarpet\":[{\"type\":\"scattercarpet\",\"marker\":{\"colorbar\":{\"outlinewidth\":0,\"ticks\":\"\"}}}],\"carpet\":[{\"aaxis\":{\"endlinecolor\":\"#2a3f5f\",\"gridcolor\":\"white\",\"linecolor\":\"white\",\"minorgridcolor\":\"white\",\"startlinecolor\":\"#2a3f5f\"},\"baxis\":{\"endlinecolor\":\"#2a3f5f\",\"gridcolor\":\"white\",\"linecolor\":\"white\",\"minorgridcolor\":\"white\",\"startlinecolor\":\"#2a3f5f\"},\"type\":\"carpet\"}],\"table\":[{\"cells\":{\"fill\":{\"color\":\"#EBF0F8\"},\"line\":{\"color\":\"white\"}},\"header\":{\"fill\":{\"color\":\"#C8D4E3\"},\"line\":{\"color\":\"white\"}},\"type\":\"table\"}],\"barpolar\":[{\"marker\":{\"line\":{\"color\":\"#E5ECF6\",\"width\":0.5},\"pattern\":{\"fillmode\":\"overlay\",\"size\":10,\"solidity\":0.2}},\"type\":\"barpolar\"}],\"pie\":[{\"automargin\":true,\"type\":\"pie\"}]},\"layout\":{\"autotypenumbers\":\"strict\",\"colorway\":[\"#636efa\",\"#EF553B\",\"#00cc96\",\"#ab63fa\",\"#FFA15A\",\"#19d3f3\",\"#FF6692\",\"#B6E880\",\"#FF97FF\",\"#FECB52\"],\"font\":{\"color\":\"#2a3f5f\"},\"hovermode\":\"closest\",\"hoverlabel\":{\"align\":\"left\"},\"paper_bgcolor\":\"white\",\"plot_bgcolor\":\"#E5ECF6\",\"polar\":{\"bgcolor\":\"#E5ECF6\",\"angularaxis\":{\"gridcolor\":\"white\",\"linecolor\":\"white\",\"ticks\":\"\"},\"radialaxis\":{\"gridcolor\":\"white\",\"linecolor\":\"white\",\"ticks\":\"\"}},\"ternary\":{\"bgcolor\":\"#E5ECF6\",\"aaxis\":{\"gridcolor\":\"white\",\"linecolor\":\"white\",\"ticks\":\"\"},\"baxis\":{\"gridcolor\":\"white\",\"linecolor\":\"white\",\"ticks\":\"\"},\"caxis\":{\"gridcolor\":\"white\",\"linecolor\":\"white\",\"ticks\":\"\"}},\"coloraxis\":{\"colorbar\":{\"outlinewidth\":0,\"ticks\":\"\"}},\"colorscale\":{\"sequential\":[[0.0,\"#0d0887\"],[0.1111111111111111,\"#46039f\"],[0.2222222222222222,\"#7201a8\"],[0.3333333333333333,\"#9c179e\"],[0.4444444444444444,\"#bd3786\"],[0.5555555555555556,\"#d8576b\"],[0.6666666666666666,\"#ed7953\"],[0.7777777777777778,\"#fb9f3a\"],[0.8888888888888888,\"#fdca26\"],[1.0,\"#f0f921\"]],\"sequentialminus\":[[0.0,\"#0d0887\"],[0.1111111111111111,\"#46039f\"],[0.2222222222222222,\"#7201a8\"],[0.3333333333333333,\"#9c179e\"],[0.4444444444444444,\"#bd3786\"],[0.5555555555555556,\"#d8576b\"],[0.6666666666666666,\"#ed7953\"],[0.7777777777777778,\"#fb9f3a\"],[0.8888888888888888,\"#fdca26\"],[1.0,\"#f0f921\"]],\"diverging\":[[0,\"#8e0152\"],[0.1,\"#c51b7d\"],[0.2,\"#de77ae\"],[0.3,\"#f1b6da\"],[0.4,\"#fde0ef\"],[0.5,\"#f7f7f7\"],[0.6,\"#e6f5d0\"],[0.7,\"#b8e186\"],[0.8,\"#7fbc41\"],[0.9,\"#4d9221\"],[1,\"#276419\"]]},\"xaxis\":{\"gridcolor\":\"white\",\"linecolor\":\"white\",\"ticks\":\"\",\"title\":{\"standoff\":15},\"zerolinecolor\":\"white\",\"automargin\":true,\"zerolinewidth\":2},\"yaxis\":{\"gridcolor\":\"white\",\"linecolor\":\"white\",\"ticks\":\"\",\"title\":{\"standoff\":15},\"zerolinecolor\":\"white\",\"automargin\":true,\"zerolinewidth\":2},\"scene\":{\"xaxis\":{\"backgroundcolor\":\"#E5ECF6\",\"gridcolor\":\"white\",\"linecolor\":\"white\",\"showbackground\":true,\"ticks\":\"\",\"zerolinecolor\":\"white\",\"gridwidth\":2},\"yaxis\":{\"backgroundcolor\":\"#E5ECF6\",\"gridcolor\":\"white\",\"linecolor\":\"white\",\"showbackground\":true,\"ticks\":\"\",\"zerolinecolor\":\"white\",\"gridwidth\":2},\"zaxis\":{\"backgroundcolor\":\"#E5ECF6\",\"gridcolor\":\"white\",\"linecolor\":\"white\",\"showbackground\":true,\"ticks\":\"\",\"zerolinecolor\":\"white\",\"gridwidth\":2}},\"shapedefaults\":{\"line\":{\"color\":\"#2a3f5f\"}},\"annotationdefaults\":{\"arrowcolor\":\"#2a3f5f\",\"arrowhead\":0,\"arrowwidth\":1},\"geo\":{\"bgcolor\":\"white\",\"landcolor\":\"#E5ECF6\",\"subunitcolor\":\"white\",\"showland\":true,\"showlakes\":true,\"lakecolor\":\"white\"},\"title\":{\"x\":0.05},\"mapbox\":{\"style\":\"light\"}}},\"xaxis\":{\"anchor\":\"y\",\"domain\":[0.0,1.0],\"title\":{\"text\":\"feature importance (permutation)\"}},\"yaxis\":{\"anchor\":\"x\",\"domain\":[0.0,1.0],\"title\":{\"text\":\"\"},\"categoryorder\":\"total ascending\",\"tickfont\":{\"color\":\"black\",\"family\":\"Arial, sans-serif\",\"size\":14}},\"legend\":{\"tracegroupgap\":0},\"margin\":{\"t\":60},\"barmode\":\"relative\",\"showlegend\":false,\"height\":500,\"width\":1000,\"title\":{\"text\":\"Dose 3 positive\",\"xanchor\":\"left\",\"x\":0.5},\"paper_bgcolor\":\"rgb(222,222,222)\",\"coloraxis\":{\"showscale\":false}},                        {\"responsive\": true}                    ).then(function(){\n",
       "                            \n",
       "var gd = document.getElementById('b5e4ab8c-661d-4cf6-b9aa-28b514c6a45d');\n",
       "var x = new MutationObserver(function (mutations, observer) {{\n",
       "        var display = window.getComputedStyle(gd).display;\n",
       "        if (!display || display === 'none') {{\n",
       "            console.log([gd, 'removed!']);\n",
       "            Plotly.purge(gd);\n",
       "            observer.disconnect();\n",
       "        }}\n",
       "}});\n",
       "\n",
       "// Listen for the removal of the full notebook cells\n",
       "var notebookContainer = gd.closest('#notebook-container');\n",
       "if (notebookContainer) {{\n",
       "    x.observe(notebookContainer, {childList: true});\n",
       "}}\n",
       "\n",
       "// Listen for the clearing of the current output cell\n",
       "var outputEl = gd.closest('.output');\n",
       "if (outputEl) {{\n",
       "    x.observe(outputEl, {childList: true});\n",
       "}}\n",
       "\n",
       "                        })                };                });            </script>        </div>"
      ]
     },
     "metadata": {},
     "output_type": "display_data"
    }
   ],
   "source": [
    "df = data[\"SVM_RFE_d3_p\"][\"df\"]\n",
    "df = df.loc[df[\"var\"]!=\"age\",:]\n",
    "df = df.loc[df[\"var\"]!=\"tx_time\",:]\n",
    "df = df.loc[df[\"var\"]!=\"type\",:]\n",
    "df = df.sort_values(by=\"impor_mean\",ascending=False)\n",
    "fig1 = px.bar(df.iloc[:40,:], x=\"impor_mean\", y=\"var\",orientation='h',labels={\"impor_mean\": \"feature importance (permutation)\",\"var\": \"\"})\n",
    "fig1.update_layout(showlegend=False,height = 500,yaxis={'categoryorder':'total ascending'},width = 1000,title = \"Dose 3 positive\")\n",
    "fig1.layout.title.xanchor = 'left'\n",
    "fig1.layout.title.x = 0.5\n",
    "fig1.update_traces(marker_color='rgba( 128,41, 185, 1.0)')\n",
    "fig1.layout.yaxis.tickfont = dict(size =14, color='black', family='Arial, sans-serif')\n",
    "fig1.layout.paper_bgcolor = 'rgb(222,222,222)'\n",
    "fig1.update(layout_coloraxis_showscale=False)\n",
    "#fig1.update_yaxes(ticklabelposition=\"inside top\", title=None)\n",
    "fig1.write_image(\"fig_ml_B.svg\")\n",
    "fig1"
   ]
  },
  {
   "cell_type": "markdown",
   "id": "5db63a04-da91-47d0-b57d-994672056475",
   "metadata": {},
   "source": [
    "### ROC ML"
   ]
  },
  {
   "cell_type": "code",
   "execution_count": 27,
   "id": "a142d8c1-cea0-4a55-8e05-581dfe7955c3",
   "metadata": {},
   "outputs": [],
   "source": [
    "fold = os.getcwd()\n",
    "file = open(fold + \"/data_aux/feature_eval.pkl\",\"rb\")\n",
    "data = pk.load(file)\n",
    "file.close()"
   ]
  },
  {
   "cell_type": "code",
   "execution_count": 28,
   "id": "c2ac59bc-c6dc-4c8a-b665-af97633227ba",
   "metadata": {},
   "outputs": [
    {
     "data": {
      "application/vnd.plotly.v1+json": {
       "config": {
        "plotlyServerURL": "https://plot.ly"
       },
       "data": [
        {
         "hoverinfo": "skip",
         "line": {
          "color": "rgba(52, 152, 219, 0.5)",
          "width": 1
         },
         "name": "SD",
         "showlegend": true,
         "type": "scatter",
         "x": [
          0,
          0.010101010101010102,
          0.020202020202020204,
          0.030303030303030304,
          0.04040404040404041,
          0.05050505050505051,
          0.06060606060606061,
          0.07070707070707072,
          0.08080808080808081,
          0.09090909090909091,
          0.10101010101010102,
          0.11111111111111112,
          0.12121212121212122,
          0.13131313131313133,
          0.14141414141414144,
          0.15151515151515152,
          0.16161616161616163,
          0.17171717171717174,
          0.18181818181818182,
          0.19191919191919193,
          0.20202020202020204,
          0.21212121212121213,
          0.22222222222222224,
          0.23232323232323235,
          0.24242424242424243,
          0.25252525252525254,
          0.26262626262626265,
          0.27272727272727276,
          0.2828282828282829,
          0.29292929292929293,
          0.30303030303030304,
          0.31313131313131315,
          0.32323232323232326,
          0.33333333333333337,
          0.3434343434343435,
          0.3535353535353536,
          0.36363636363636365,
          0.37373737373737376,
          0.38383838383838387,
          0.393939393939394,
          0.4040404040404041,
          0.4141414141414142,
          0.42424242424242425,
          0.43434343434343436,
          0.4444444444444445,
          0.4545454545454546,
          0.4646464646464647,
          0.4747474747474748,
          0.48484848484848486,
          0.494949494949495,
          0.5050505050505051,
          0.5151515151515152,
          0.5252525252525253,
          0.5353535353535354,
          0.5454545454545455,
          0.5555555555555556,
          0.5656565656565657,
          0.5757575757575758,
          0.5858585858585859,
          0.595959595959596,
          0.6060606060606061,
          0.6161616161616162,
          0.6262626262626263,
          0.6363636363636365,
          0.6464646464646465,
          0.6565656565656566,
          0.6666666666666667,
          0.6767676767676768,
          0.686868686868687,
          0.696969696969697,
          0.7070707070707072,
          0.7171717171717172,
          0.7272727272727273,
          0.7373737373737375,
          0.7474747474747475,
          0.7575757575757577,
          0.7676767676767677,
          0.7777777777777778,
          0.787878787878788,
          0.797979797979798,
          0.8080808080808082,
          0.8181818181818182,
          0.8282828282828284,
          0.8383838383838385,
          0.8484848484848485,
          0.8585858585858587,
          0.8686868686868687,
          0.8787878787878789,
          0.888888888888889,
          0.8989898989898991,
          0.9090909090909092,
          0.9191919191919192,
          0.9292929292929294,
          0.9393939393939394,
          0.9494949494949496,
          0.9595959595959597,
          0.9696969696969697,
          0.9797979797979799,
          0.98989898989899,
          1
         ],
         "y": [
          0,
          1,
          1,
          1,
          1,
          1,
          1,
          1,
          1,
          1,
          1,
          1,
          1,
          1,
          1,
          1,
          1,
          1,
          1,
          1,
          1,
          1,
          1,
          1,
          1,
          1,
          1,
          1,
          1,
          1,
          1,
          1,
          1,
          1,
          1,
          1,
          1,
          1,
          1,
          1,
          1,
          1,
          1,
          1,
          1,
          1,
          1,
          1,
          1,
          1,
          1,
          1,
          1,
          1,
          1,
          1,
          1,
          1,
          1,
          1,
          1,
          1,
          1,
          1,
          1,
          1,
          1,
          1,
          1,
          1,
          1,
          1,
          1,
          1,
          1,
          1,
          1,
          1,
          1,
          1,
          1,
          1,
          1,
          1,
          1,
          1,
          1,
          1,
          1,
          1,
          1,
          1,
          1,
          1,
          1,
          1,
          1,
          1,
          1,
          1
         ]
        },
        {
         "fill": "tonexty",
         "fillcolor": "rgba(52, 152, 219, 0.2)",
         "hoverinfo": "skip",
         "line": {
          "color": "rgba(52, 152, 219, 0.5)",
          "width": 1
         },
         "name": "lower",
         "showlegend": false,
         "type": "scatter",
         "x": [
          0,
          0.010101010101010102,
          0.020202020202020204,
          0.030303030303030304,
          0.04040404040404041,
          0.05050505050505051,
          0.06060606060606061,
          0.07070707070707072,
          0.08080808080808081,
          0.09090909090909091,
          0.10101010101010102,
          0.11111111111111112,
          0.12121212121212122,
          0.13131313131313133,
          0.14141414141414144,
          0.15151515151515152,
          0.16161616161616163,
          0.17171717171717174,
          0.18181818181818182,
          0.19191919191919193,
          0.20202020202020204,
          0.21212121212121213,
          0.22222222222222224,
          0.23232323232323235,
          0.24242424242424243,
          0.25252525252525254,
          0.26262626262626265,
          0.27272727272727276,
          0.2828282828282829,
          0.29292929292929293,
          0.30303030303030304,
          0.31313131313131315,
          0.32323232323232326,
          0.33333333333333337,
          0.3434343434343435,
          0.3535353535353536,
          0.36363636363636365,
          0.37373737373737376,
          0.38383838383838387,
          0.393939393939394,
          0.4040404040404041,
          0.4141414141414142,
          0.42424242424242425,
          0.43434343434343436,
          0.4444444444444445,
          0.4545454545454546,
          0.4646464646464647,
          0.4747474747474748,
          0.48484848484848486,
          0.494949494949495,
          0.5050505050505051,
          0.5151515151515152,
          0.5252525252525253,
          0.5353535353535354,
          0.5454545454545455,
          0.5555555555555556,
          0.5656565656565657,
          0.5757575757575758,
          0.5858585858585859,
          0.595959595959596,
          0.6060606060606061,
          0.6161616161616162,
          0.6262626262626263,
          0.6363636363636365,
          0.6464646464646465,
          0.6565656565656566,
          0.6666666666666667,
          0.6767676767676768,
          0.686868686868687,
          0.696969696969697,
          0.7070707070707072,
          0.7171717171717172,
          0.7272727272727273,
          0.7373737373737375,
          0.7474747474747475,
          0.7575757575757577,
          0.7676767676767677,
          0.7777777777777778,
          0.787878787878788,
          0.797979797979798,
          0.8080808080808082,
          0.8181818181818182,
          0.8282828282828284,
          0.8383838383838385,
          0.8484848484848485,
          0.8585858585858587,
          0.8686868686868687,
          0.8787878787878789,
          0.888888888888889,
          0.8989898989898991,
          0.9090909090909092,
          0.9191919191919192,
          0.9292929292929294,
          0.9393939393939394,
          0.9494949494949496,
          0.9595959595959597,
          0.9696969696969697,
          0.9797979797979799,
          0.98989898989899,
          1
         ],
         "y": [
          0,
          0.587975622444535,
          0.587975622444535,
          0.587975622444535,
          0.587975622444535,
          0.587975622444535,
          0.587975622444535,
          0.587975622444535,
          0.587975622444535,
          0.587975622444535,
          0.587975622444535,
          0.587975622444535,
          0.587975622444535,
          0.587975622444535,
          0.587975622444535,
          0.587975622444535,
          0.587975622444535,
          0.587975622444535,
          0.587975622444535,
          0.587975622444535,
          0.7026839553457821,
          0.7026839553457821,
          0.7026839553457821,
          0.7026839553457821,
          0.7026839553457821,
          0.7333333333333332,
          0.7333333333333332,
          0.7333333333333332,
          0.7333333333333332,
          0.7333333333333332,
          0.7333333333333332,
          0.7333333333333332,
          0.7333333333333332,
          0.7333333333333332,
          0.7333333333333332,
          0.7333333333333332,
          0.7333333333333332,
          0.7333333333333332,
          0.7333333333333332,
          0.7333333333333332,
          1,
          1,
          1,
          1,
          1,
          1,
          1,
          1,
          1,
          1,
          1,
          1,
          1,
          1,
          1,
          1,
          1,
          1,
          1,
          1,
          1,
          1,
          1,
          1,
          1,
          1,
          1,
          1,
          1,
          1,
          1,
          1,
          1,
          1,
          1,
          1,
          1,
          1,
          1,
          1,
          1,
          1,
          1,
          1,
          1,
          1,
          1,
          1,
          1,
          1,
          1,
          1,
          1,
          1,
          1,
          1,
          1,
          1,
          1,
          1
         ]
        },
        {
         "hoverinfo": "skip",
         "line": {
          "color": "rgba(41, 128, 185, 1.0)",
          "width": 2
         },
         "name": "AUC: 0.950",
         "showlegend": true,
         "type": "scatter",
         "x": [
          0,
          0.010101010101010102,
          0.020202020202020204,
          0.030303030303030304,
          0.04040404040404041,
          0.05050505050505051,
          0.06060606060606061,
          0.07070707070707072,
          0.08080808080808081,
          0.09090909090909091,
          0.10101010101010102,
          0.11111111111111112,
          0.12121212121212122,
          0.13131313131313133,
          0.14141414141414144,
          0.15151515151515152,
          0.16161616161616163,
          0.17171717171717174,
          0.18181818181818182,
          0.19191919191919193,
          0.20202020202020204,
          0.21212121212121213,
          0.22222222222222224,
          0.23232323232323235,
          0.24242424242424243,
          0.25252525252525254,
          0.26262626262626265,
          0.27272727272727276,
          0.2828282828282829,
          0.29292929292929293,
          0.30303030303030304,
          0.31313131313131315,
          0.32323232323232326,
          0.33333333333333337,
          0.3434343434343435,
          0.3535353535353536,
          0.36363636363636365,
          0.37373737373737376,
          0.38383838383838387,
          0.393939393939394,
          0.4040404040404041,
          0.4141414141414142,
          0.42424242424242425,
          0.43434343434343436,
          0.4444444444444445,
          0.4545454545454546,
          0.4646464646464647,
          0.4747474747474748,
          0.48484848484848486,
          0.494949494949495,
          0.5050505050505051,
          0.5151515151515152,
          0.5252525252525253,
          0.5353535353535354,
          0.5454545454545455,
          0.5555555555555556,
          0.5656565656565657,
          0.5757575757575758,
          0.5858585858585859,
          0.595959595959596,
          0.6060606060606061,
          0.6161616161616162,
          0.6262626262626263,
          0.6363636363636365,
          0.6464646464646465,
          0.6565656565656566,
          0.6666666666666667,
          0.6767676767676768,
          0.686868686868687,
          0.696969696969697,
          0.7070707070707072,
          0.7171717171717172,
          0.7272727272727273,
          0.7373737373737375,
          0.7474747474747475,
          0.7575757575757577,
          0.7676767676767677,
          0.7777777777777778,
          0.787878787878788,
          0.797979797979798,
          0.8080808080808082,
          0.8181818181818182,
          0.8282828282828284,
          0.8383838383838385,
          0.8484848484848485,
          0.8585858585858587,
          0.8686868686868687,
          0.8787878787878789,
          0.888888888888889,
          0.8989898989898991,
          0.9090909090909092,
          0.9191919191919192,
          0.9292929292929294,
          0.9393939393939394,
          0.9494949494949496,
          0.9595959595959597,
          0.9696969696969697,
          0.9797979797979799,
          0.98989898989899,
          1
         ],
         "y": [
          0,
          0.825,
          0.825,
          0.825,
          0.825,
          0.825,
          0.825,
          0.825,
          0.825,
          0.825,
          0.825,
          0.825,
          0.825,
          0.825,
          0.825,
          0.825,
          0.825,
          0.825,
          0.825,
          0.825,
          0.9083333333333332,
          0.9083333333333332,
          0.9083333333333332,
          0.9083333333333332,
          0.9083333333333332,
          0.9333333333333332,
          0.9333333333333332,
          0.9333333333333332,
          0.9333333333333332,
          0.9333333333333332,
          0.9333333333333332,
          0.9333333333333332,
          0.9333333333333332,
          0.9333333333333332,
          0.9333333333333332,
          0.9333333333333332,
          0.9333333333333332,
          0.9333333333333332,
          0.9333333333333332,
          0.9333333333333332,
          1,
          1,
          1,
          1,
          1,
          1,
          1,
          1,
          1,
          1,
          1,
          1,
          1,
          1,
          1,
          1,
          1,
          1,
          1,
          1,
          1,
          1,
          1,
          1,
          1,
          1,
          1,
          1,
          1,
          1,
          1,
          1,
          1,
          1,
          1,
          1,
          1,
          1,
          1,
          1,
          1,
          1,
          1,
          1,
          1,
          1,
          1,
          1,
          1,
          1,
          1,
          1,
          1,
          1,
          1,
          1,
          1,
          1,
          1,
          1
         ]
        }
       ],
       "layout": {
        "height": 500,
        "legend": {
         "x": 0.95,
         "xanchor": "right",
         "y": 0.01,
         "yanchor": "bottom"
        },
        "shapes": [
         {
          "line": {
           "dash": "dash"
          },
          "type": "line",
          "x0": 0,
          "x1": 1,
          "y0": 0,
          "y1": 1
         }
        ],
        "template": {
         "data": {
          "bar": [
           {
            "error_x": {
             "color": "#2a3f5f"
            },
            "error_y": {
             "color": "#2a3f5f"
            },
            "marker": {
             "line": {
              "color": "white",
              "width": 0.5
             },
             "pattern": {
              "fillmode": "overlay",
              "size": 10,
              "solidity": 0.2
             }
            },
            "type": "bar"
           }
          ],
          "barpolar": [
           {
            "marker": {
             "line": {
              "color": "white",
              "width": 0.5
             },
             "pattern": {
              "fillmode": "overlay",
              "size": 10,
              "solidity": 0.2
             }
            },
            "type": "barpolar"
           }
          ],
          "carpet": [
           {
            "aaxis": {
             "endlinecolor": "#2a3f5f",
             "gridcolor": "#C8D4E3",
             "linecolor": "#C8D4E3",
             "minorgridcolor": "#C8D4E3",
             "startlinecolor": "#2a3f5f"
            },
            "baxis": {
             "endlinecolor": "#2a3f5f",
             "gridcolor": "#C8D4E3",
             "linecolor": "#C8D4E3",
             "minorgridcolor": "#C8D4E3",
             "startlinecolor": "#2a3f5f"
            },
            "type": "carpet"
           }
          ],
          "choropleth": [
           {
            "colorbar": {
             "outlinewidth": 0,
             "ticks": ""
            },
            "type": "choropleth"
           }
          ],
          "contour": [
           {
            "colorbar": {
             "outlinewidth": 0,
             "ticks": ""
            },
            "colorscale": [
             [
              0,
              "#0d0887"
             ],
             [
              0.1111111111111111,
              "#46039f"
             ],
             [
              0.2222222222222222,
              "#7201a8"
             ],
             [
              0.3333333333333333,
              "#9c179e"
             ],
             [
              0.4444444444444444,
              "#bd3786"
             ],
             [
              0.5555555555555556,
              "#d8576b"
             ],
             [
              0.6666666666666666,
              "#ed7953"
             ],
             [
              0.7777777777777778,
              "#fb9f3a"
             ],
             [
              0.8888888888888888,
              "#fdca26"
             ],
             [
              1,
              "#f0f921"
             ]
            ],
            "type": "contour"
           }
          ],
          "contourcarpet": [
           {
            "colorbar": {
             "outlinewidth": 0,
             "ticks": ""
            },
            "type": "contourcarpet"
           }
          ],
          "heatmap": [
           {
            "colorbar": {
             "outlinewidth": 0,
             "ticks": ""
            },
            "colorscale": [
             [
              0,
              "#0d0887"
             ],
             [
              0.1111111111111111,
              "#46039f"
             ],
             [
              0.2222222222222222,
              "#7201a8"
             ],
             [
              0.3333333333333333,
              "#9c179e"
             ],
             [
              0.4444444444444444,
              "#bd3786"
             ],
             [
              0.5555555555555556,
              "#d8576b"
             ],
             [
              0.6666666666666666,
              "#ed7953"
             ],
             [
              0.7777777777777778,
              "#fb9f3a"
             ],
             [
              0.8888888888888888,
              "#fdca26"
             ],
             [
              1,
              "#f0f921"
             ]
            ],
            "type": "heatmap"
           }
          ],
          "heatmapgl": [
           {
            "colorbar": {
             "outlinewidth": 0,
             "ticks": ""
            },
            "colorscale": [
             [
              0,
              "#0d0887"
             ],
             [
              0.1111111111111111,
              "#46039f"
             ],
             [
              0.2222222222222222,
              "#7201a8"
             ],
             [
              0.3333333333333333,
              "#9c179e"
             ],
             [
              0.4444444444444444,
              "#bd3786"
             ],
             [
              0.5555555555555556,
              "#d8576b"
             ],
             [
              0.6666666666666666,
              "#ed7953"
             ],
             [
              0.7777777777777778,
              "#fb9f3a"
             ],
             [
              0.8888888888888888,
              "#fdca26"
             ],
             [
              1,
              "#f0f921"
             ]
            ],
            "type": "heatmapgl"
           }
          ],
          "histogram": [
           {
            "marker": {
             "pattern": {
              "fillmode": "overlay",
              "size": 10,
              "solidity": 0.2
             }
            },
            "type": "histogram"
           }
          ],
          "histogram2d": [
           {
            "colorbar": {
             "outlinewidth": 0,
             "ticks": ""
            },
            "colorscale": [
             [
              0,
              "#0d0887"
             ],
             [
              0.1111111111111111,
              "#46039f"
             ],
             [
              0.2222222222222222,
              "#7201a8"
             ],
             [
              0.3333333333333333,
              "#9c179e"
             ],
             [
              0.4444444444444444,
              "#bd3786"
             ],
             [
              0.5555555555555556,
              "#d8576b"
             ],
             [
              0.6666666666666666,
              "#ed7953"
             ],
             [
              0.7777777777777778,
              "#fb9f3a"
             ],
             [
              0.8888888888888888,
              "#fdca26"
             ],
             [
              1,
              "#f0f921"
             ]
            ],
            "type": "histogram2d"
           }
          ],
          "histogram2dcontour": [
           {
            "colorbar": {
             "outlinewidth": 0,
             "ticks": ""
            },
            "colorscale": [
             [
              0,
              "#0d0887"
             ],
             [
              0.1111111111111111,
              "#46039f"
             ],
             [
              0.2222222222222222,
              "#7201a8"
             ],
             [
              0.3333333333333333,
              "#9c179e"
             ],
             [
              0.4444444444444444,
              "#bd3786"
             ],
             [
              0.5555555555555556,
              "#d8576b"
             ],
             [
              0.6666666666666666,
              "#ed7953"
             ],
             [
              0.7777777777777778,
              "#fb9f3a"
             ],
             [
              0.8888888888888888,
              "#fdca26"
             ],
             [
              1,
              "#f0f921"
             ]
            ],
            "type": "histogram2dcontour"
           }
          ],
          "mesh3d": [
           {
            "colorbar": {
             "outlinewidth": 0,
             "ticks": ""
            },
            "type": "mesh3d"
           }
          ],
          "parcoords": [
           {
            "line": {
             "colorbar": {
              "outlinewidth": 0,
              "ticks": ""
             }
            },
            "type": "parcoords"
           }
          ],
          "pie": [
           {
            "automargin": true,
            "type": "pie"
           }
          ],
          "scatter": [
           {
            "fillpattern": {
             "fillmode": "overlay",
             "size": 10,
             "solidity": 0.2
            },
            "type": "scatter"
           }
          ],
          "scatter3d": [
           {
            "line": {
             "colorbar": {
              "outlinewidth": 0,
              "ticks": ""
             }
            },
            "marker": {
             "colorbar": {
              "outlinewidth": 0,
              "ticks": ""
             }
            },
            "type": "scatter3d"
           }
          ],
          "scattercarpet": [
           {
            "marker": {
             "colorbar": {
              "outlinewidth": 0,
              "ticks": ""
             }
            },
            "type": "scattercarpet"
           }
          ],
          "scattergeo": [
           {
            "marker": {
             "colorbar": {
              "outlinewidth": 0,
              "ticks": ""
             }
            },
            "type": "scattergeo"
           }
          ],
          "scattergl": [
           {
            "marker": {
             "colorbar": {
              "outlinewidth": 0,
              "ticks": ""
             }
            },
            "type": "scattergl"
           }
          ],
          "scattermapbox": [
           {
            "marker": {
             "colorbar": {
              "outlinewidth": 0,
              "ticks": ""
             }
            },
            "type": "scattermapbox"
           }
          ],
          "scatterpolar": [
           {
            "marker": {
             "colorbar": {
              "outlinewidth": 0,
              "ticks": ""
             }
            },
            "type": "scatterpolar"
           }
          ],
          "scatterpolargl": [
           {
            "marker": {
             "colorbar": {
              "outlinewidth": 0,
              "ticks": ""
             }
            },
            "type": "scatterpolargl"
           }
          ],
          "scatterternary": [
           {
            "marker": {
             "colorbar": {
              "outlinewidth": 0,
              "ticks": ""
             }
            },
            "type": "scatterternary"
           }
          ],
          "surface": [
           {
            "colorbar": {
             "outlinewidth": 0,
             "ticks": ""
            },
            "colorscale": [
             [
              0,
              "#0d0887"
             ],
             [
              0.1111111111111111,
              "#46039f"
             ],
             [
              0.2222222222222222,
              "#7201a8"
             ],
             [
              0.3333333333333333,
              "#9c179e"
             ],
             [
              0.4444444444444444,
              "#bd3786"
             ],
             [
              0.5555555555555556,
              "#d8576b"
             ],
             [
              0.6666666666666666,
              "#ed7953"
             ],
             [
              0.7777777777777778,
              "#fb9f3a"
             ],
             [
              0.8888888888888888,
              "#fdca26"
             ],
             [
              1,
              "#f0f921"
             ]
            ],
            "type": "surface"
           }
          ],
          "table": [
           {
            "cells": {
             "fill": {
              "color": "#EBF0F8"
             },
             "line": {
              "color": "white"
             }
            },
            "header": {
             "fill": {
              "color": "#C8D4E3"
             },
             "line": {
              "color": "white"
             }
            },
            "type": "table"
           }
          ]
         },
         "layout": {
          "annotationdefaults": {
           "arrowcolor": "#2a3f5f",
           "arrowhead": 0,
           "arrowwidth": 1
          },
          "autotypenumbers": "strict",
          "coloraxis": {
           "colorbar": {
            "outlinewidth": 0,
            "ticks": ""
           }
          },
          "colorscale": {
           "diverging": [
            [
             0,
             "#8e0152"
            ],
            [
             0.1,
             "#c51b7d"
            ],
            [
             0.2,
             "#de77ae"
            ],
            [
             0.3,
             "#f1b6da"
            ],
            [
             0.4,
             "#fde0ef"
            ],
            [
             0.5,
             "#f7f7f7"
            ],
            [
             0.6,
             "#e6f5d0"
            ],
            [
             0.7,
             "#b8e186"
            ],
            [
             0.8,
             "#7fbc41"
            ],
            [
             0.9,
             "#4d9221"
            ],
            [
             1,
             "#276419"
            ]
           ],
           "sequential": [
            [
             0,
             "#0d0887"
            ],
            [
             0.1111111111111111,
             "#46039f"
            ],
            [
             0.2222222222222222,
             "#7201a8"
            ],
            [
             0.3333333333333333,
             "#9c179e"
            ],
            [
             0.4444444444444444,
             "#bd3786"
            ],
            [
             0.5555555555555556,
             "#d8576b"
            ],
            [
             0.6666666666666666,
             "#ed7953"
            ],
            [
             0.7777777777777778,
             "#fb9f3a"
            ],
            [
             0.8888888888888888,
             "#fdca26"
            ],
            [
             1,
             "#f0f921"
            ]
           ],
           "sequentialminus": [
            [
             0,
             "#0d0887"
            ],
            [
             0.1111111111111111,
             "#46039f"
            ],
            [
             0.2222222222222222,
             "#7201a8"
            ],
            [
             0.3333333333333333,
             "#9c179e"
            ],
            [
             0.4444444444444444,
             "#bd3786"
            ],
            [
             0.5555555555555556,
             "#d8576b"
            ],
            [
             0.6666666666666666,
             "#ed7953"
            ],
            [
             0.7777777777777778,
             "#fb9f3a"
            ],
            [
             0.8888888888888888,
             "#fdca26"
            ],
            [
             1,
             "#f0f921"
            ]
           ]
          },
          "colorway": [
           "#636efa",
           "#EF553B",
           "#00cc96",
           "#ab63fa",
           "#FFA15A",
           "#19d3f3",
           "#FF6692",
           "#B6E880",
           "#FF97FF",
           "#FECB52"
          ],
          "font": {
           "color": "#2a3f5f"
          },
          "geo": {
           "bgcolor": "white",
           "lakecolor": "white",
           "landcolor": "white",
           "showlakes": true,
           "showland": true,
           "subunitcolor": "#C8D4E3"
          },
          "hoverlabel": {
           "align": "left"
          },
          "hovermode": "closest",
          "mapbox": {
           "style": "light"
          },
          "paper_bgcolor": "white",
          "plot_bgcolor": "white",
          "polar": {
           "angularaxis": {
            "gridcolor": "#EBF0F8",
            "linecolor": "#EBF0F8",
            "ticks": ""
           },
           "bgcolor": "white",
           "radialaxis": {
            "gridcolor": "#EBF0F8",
            "linecolor": "#EBF0F8",
            "ticks": ""
           }
          },
          "scene": {
           "xaxis": {
            "backgroundcolor": "white",
            "gridcolor": "#DFE8F3",
            "gridwidth": 2,
            "linecolor": "#EBF0F8",
            "showbackground": true,
            "ticks": "",
            "zerolinecolor": "#EBF0F8"
           },
           "yaxis": {
            "backgroundcolor": "white",
            "gridcolor": "#DFE8F3",
            "gridwidth": 2,
            "linecolor": "#EBF0F8",
            "showbackground": true,
            "ticks": "",
            "zerolinecolor": "#EBF0F8"
           },
           "zaxis": {
            "backgroundcolor": "white",
            "gridcolor": "#DFE8F3",
            "gridwidth": 2,
            "linecolor": "#EBF0F8",
            "showbackground": true,
            "ticks": "",
            "zerolinecolor": "#EBF0F8"
           }
          },
          "shapedefaults": {
           "line": {
            "color": "#2a3f5f"
           }
          },
          "ternary": {
           "aaxis": {
            "gridcolor": "#DFE8F3",
            "linecolor": "#A2B1C6",
            "ticks": ""
           },
           "baxis": {
            "gridcolor": "#DFE8F3",
            "linecolor": "#A2B1C6",
            "ticks": ""
           },
           "bgcolor": "white",
           "caxis": {
            "gridcolor": "#DFE8F3",
            "linecolor": "#A2B1C6",
            "ticks": ""
           }
          },
          "title": {
           "x": 0.05
          },
          "xaxis": {
           "automargin": true,
           "gridcolor": "#EBF0F8",
           "linecolor": "#EBF0F8",
           "ticks": "",
           "title": {
            "standoff": 15
           },
           "zerolinecolor": "#EBF0F8",
           "zerolinewidth": 2
          },
          "yaxis": {
           "automargin": true,
           "gridcolor": "#EBF0F8",
           "linecolor": "#EBF0F8",
           "ticks": "",
           "title": {
            "standoff": 15
           },
           "zerolinecolor": "#EBF0F8",
           "zerolinewidth": 2
          }
         }
        },
        "title": {
         "text": "Dose 2 detectable"
        },
        "width": 500,
        "xaxis": {
         "constrain": "domain",
         "domain": [
          0.02941176470588236,
          0.9705882352941176
         ],
         "linecolor": "black",
         "range": [
          0,
          1
         ],
         "title": {
          "text": "False Positive Rate"
         },
         "type": "linear"
        },
        "yaxis": {
         "domain": [
          0,
          1
         ],
         "linecolor": "black",
         "range": [
          0,
          1
         ],
         "scaleanchor": "x",
         "scaleratio": 1,
         "title": {
          "text": "True Positive Rate"
         },
         "type": "linear"
        }
       }
      },
      "image/png": "[encoded data removed]",
      "text/html": [
       "<div>                            <div id=\"a6f6b4a0-bfc9-445e-9638-c1b110112354\" class=\"plotly-graph-div\" style=\"height:500px; width:500px;\"></div>            <script type=\"text/javascript\">                require([\"plotly\"], function(Plotly) {                    window.PLOTLYENV=window.PLOTLYENV || {};                                    if (document.getElementById(\"a6f6b4a0-bfc9-445e-9638-c1b110112354\")) {                    Plotly.newPlot(                        \"a6f6b4a0-bfc9-445e-9638-c1b110112354\",                        [{\"hoverinfo\":\"skip\",\"line\":{\"color\":\"rgba(52, 152, 219, 0.5)\",\"width\":1},\"name\":\"SD\",\"showlegend\":true,\"x\":[0.0,0.010101010101010102,0.020202020202020204,0.030303030303030304,0.04040404040404041,0.05050505050505051,0.06060606060606061,0.07070707070707072,0.08080808080808081,0.09090909090909091,0.10101010101010102,0.11111111111111112,0.12121212121212122,0.13131313131313133,0.14141414141414144,0.15151515151515152,0.16161616161616163,0.17171717171717174,0.18181818181818182,0.19191919191919193,0.20202020202020204,0.21212121212121213,0.22222222222222224,0.23232323232323235,0.24242424242424243,0.25252525252525254,0.26262626262626265,0.27272727272727276,0.2828282828282829,0.29292929292929293,0.30303030303030304,0.31313131313131315,0.32323232323232326,0.33333333333333337,0.3434343434343435,0.3535353535353536,0.36363636363636365,0.37373737373737376,0.38383838383838387,0.393939393939394,0.4040404040404041,0.4141414141414142,0.42424242424242425,0.43434343434343436,0.4444444444444445,0.4545454545454546,0.4646464646464647,0.4747474747474748,0.48484848484848486,0.494949494949495,0.5050505050505051,0.5151515151515152,0.5252525252525253,0.5353535353535354,0.5454545454545455,0.5555555555555556,0.5656565656565657,0.5757575757575758,0.5858585858585859,0.595959595959596,0.6060606060606061,0.6161616161616162,0.6262626262626263,0.6363636363636365,0.6464646464646465,0.6565656565656566,0.6666666666666667,0.6767676767676768,0.686868686868687,0.696969696969697,0.7070707070707072,0.7171717171717172,0.7272727272727273,0.7373737373737375,0.7474747474747475,0.7575757575757577,0.7676767676767677,0.7777777777777778,0.787878787878788,0.797979797979798,0.8080808080808082,0.8181818181818182,0.8282828282828284,0.8383838383838385,0.8484848484848485,0.8585858585858587,0.8686868686868687,0.8787878787878789,0.888888888888889,0.8989898989898991,0.9090909090909092,0.9191919191919192,0.9292929292929294,0.9393939393939394,0.9494949494949496,0.9595959595959597,0.9696969696969697,0.9797979797979799,0.98989898989899,1.0],\"y\":[0.0,1.0,1.0,1.0,1.0,1.0,1.0,1.0,1.0,1.0,1.0,1.0,1.0,1.0,1.0,1.0,1.0,1.0,1.0,1.0,1.0,1.0,1.0,1.0,1.0,1.0,1.0,1.0,1.0,1.0,1.0,1.0,1.0,1.0,1.0,1.0,1.0,1.0,1.0,1.0,1.0,1.0,1.0,1.0,1.0,1.0,1.0,1.0,1.0,1.0,1.0,1.0,1.0,1.0,1.0,1.0,1.0,1.0,1.0,1.0,1.0,1.0,1.0,1.0,1.0,1.0,1.0,1.0,1.0,1.0,1.0,1.0,1.0,1.0,1.0,1.0,1.0,1.0,1.0,1.0,1.0,1.0,1.0,1.0,1.0,1.0,1.0,1.0,1.0,1.0,1.0,1.0,1.0,1.0,1.0,1.0,1.0,1.0,1.0,1.0],\"type\":\"scatter\"},{\"fill\":\"tonexty\",\"fillcolor\":\"rgba(52, 152, 219, 0.2)\",\"hoverinfo\":\"skip\",\"line\":{\"color\":\"rgba(52, 152, 219, 0.5)\",\"width\":1},\"name\":\"lower\",\"showlegend\":false,\"x\":[0.0,0.010101010101010102,0.020202020202020204,0.030303030303030304,0.04040404040404041,0.05050505050505051,0.06060606060606061,0.07070707070707072,0.08080808080808081,0.09090909090909091,0.10101010101010102,0.11111111111111112,0.12121212121212122,0.13131313131313133,0.14141414141414144,0.15151515151515152,0.16161616161616163,0.17171717171717174,0.18181818181818182,0.19191919191919193,0.20202020202020204,0.21212121212121213,0.22222222222222224,0.23232323232323235,0.24242424242424243,0.25252525252525254,0.26262626262626265,0.27272727272727276,0.2828282828282829,0.29292929292929293,0.30303030303030304,0.31313131313131315,0.32323232323232326,0.33333333333333337,0.3434343434343435,0.3535353535353536,0.36363636363636365,0.37373737373737376,0.38383838383838387,0.393939393939394,0.4040404040404041,0.4141414141414142,0.42424242424242425,0.43434343434343436,0.4444444444444445,0.4545454545454546,0.4646464646464647,0.4747474747474748,0.48484848484848486,0.494949494949495,0.5050505050505051,0.5151515151515152,0.5252525252525253,0.5353535353535354,0.5454545454545455,0.5555555555555556,0.5656565656565657,0.5757575757575758,0.5858585858585859,0.595959595959596,0.6060606060606061,0.6161616161616162,0.6262626262626263,0.6363636363636365,0.6464646464646465,0.6565656565656566,0.6666666666666667,0.6767676767676768,0.686868686868687,0.696969696969697,0.7070707070707072,0.7171717171717172,0.7272727272727273,0.7373737373737375,0.7474747474747475,0.7575757575757577,0.7676767676767677,0.7777777777777778,0.787878787878788,0.797979797979798,0.8080808080808082,0.8181818181818182,0.8282828282828284,0.8383838383838385,0.8484848484848485,0.8585858585858587,0.8686868686868687,0.8787878787878789,0.888888888888889,0.8989898989898991,0.9090909090909092,0.9191919191919192,0.9292929292929294,0.9393939393939394,0.9494949494949496,0.9595959595959597,0.9696969696969697,0.9797979797979799,0.98989898989899,1.0],\"y\":[0.0,0.587975622444535,0.587975622444535,0.587975622444535,0.587975622444535,0.587975622444535,0.587975622444535,0.587975622444535,0.587975622444535,0.587975622444535,0.587975622444535,0.587975622444535,0.587975622444535,0.587975622444535,0.587975622444535,0.587975622444535,0.587975622444535,0.587975622444535,0.587975622444535,0.587975622444535,0.7026839553457821,0.7026839553457821,0.7026839553457821,0.7026839553457821,0.7026839553457821,0.7333333333333332,0.7333333333333332,0.7333333333333332,0.7333333333333332,0.7333333333333332,0.7333333333333332,0.7333333333333332,0.7333333333333332,0.7333333333333332,0.7333333333333332,0.7333333333333332,0.7333333333333332,0.7333333333333332,0.7333333333333332,0.7333333333333332,1.0,1.0,1.0,1.0,1.0,1.0,1.0,1.0,1.0,1.0,1.0,1.0,1.0,1.0,1.0,1.0,1.0,1.0,1.0,1.0,1.0,1.0,1.0,1.0,1.0,1.0,1.0,1.0,1.0,1.0,1.0,1.0,1.0,1.0,1.0,1.0,1.0,1.0,1.0,1.0,1.0,1.0,1.0,1.0,1.0,1.0,1.0,1.0,1.0,1.0,1.0,1.0,1.0,1.0,1.0,1.0,1.0,1.0,1.0,1.0],\"type\":\"scatter\"},{\"hoverinfo\":\"skip\",\"line\":{\"color\":\"rgba(41, 128, 185, 1.0)\",\"width\":2},\"name\":\"AUC: 0.950\",\"showlegend\":true,\"x\":[0.0,0.010101010101010102,0.020202020202020204,0.030303030303030304,0.04040404040404041,0.05050505050505051,0.06060606060606061,0.07070707070707072,0.08080808080808081,0.09090909090909091,0.10101010101010102,0.11111111111111112,0.12121212121212122,0.13131313131313133,0.14141414141414144,0.15151515151515152,0.16161616161616163,0.17171717171717174,0.18181818181818182,0.19191919191919193,0.20202020202020204,0.21212121212121213,0.22222222222222224,0.23232323232323235,0.24242424242424243,0.25252525252525254,0.26262626262626265,0.27272727272727276,0.2828282828282829,0.29292929292929293,0.30303030303030304,0.31313131313131315,0.32323232323232326,0.33333333333333337,0.3434343434343435,0.3535353535353536,0.36363636363636365,0.37373737373737376,0.38383838383838387,0.393939393939394,0.4040404040404041,0.4141414141414142,0.42424242424242425,0.43434343434343436,0.4444444444444445,0.4545454545454546,0.4646464646464647,0.4747474747474748,0.48484848484848486,0.494949494949495,0.5050505050505051,0.5151515151515152,0.5252525252525253,0.5353535353535354,0.5454545454545455,0.5555555555555556,0.5656565656565657,0.5757575757575758,0.5858585858585859,0.595959595959596,0.6060606060606061,0.6161616161616162,0.6262626262626263,0.6363636363636365,0.6464646464646465,0.6565656565656566,0.6666666666666667,0.6767676767676768,0.686868686868687,0.696969696969697,0.7070707070707072,0.7171717171717172,0.7272727272727273,0.7373737373737375,0.7474747474747475,0.7575757575757577,0.7676767676767677,0.7777777777777778,0.787878787878788,0.797979797979798,0.8080808080808082,0.8181818181818182,0.8282828282828284,0.8383838383838385,0.8484848484848485,0.8585858585858587,0.8686868686868687,0.8787878787878789,0.888888888888889,0.8989898989898991,0.9090909090909092,0.9191919191919192,0.9292929292929294,0.9393939393939394,0.9494949494949496,0.9595959595959597,0.9696969696969697,0.9797979797979799,0.98989898989899,1.0],\"y\":[0.0,0.825,0.825,0.825,0.825,0.825,0.825,0.825,0.825,0.825,0.825,0.825,0.825,0.825,0.825,0.825,0.825,0.825,0.825,0.825,0.9083333333333332,0.9083333333333332,0.9083333333333332,0.9083333333333332,0.9083333333333332,0.9333333333333332,0.9333333333333332,0.9333333333333332,0.9333333333333332,0.9333333333333332,0.9333333333333332,0.9333333333333332,0.9333333333333332,0.9333333333333332,0.9333333333333332,0.9333333333333332,0.9333333333333332,0.9333333333333332,0.9333333333333332,0.9333333333333332,1.0,1.0,1.0,1.0,1.0,1.0,1.0,1.0,1.0,1.0,1.0,1.0,1.0,1.0,1.0,1.0,1.0,1.0,1.0,1.0,1.0,1.0,1.0,1.0,1.0,1.0,1.0,1.0,1.0,1.0,1.0,1.0,1.0,1.0,1.0,1.0,1.0,1.0,1.0,1.0,1.0,1.0,1.0,1.0,1.0,1.0,1.0,1.0,1.0,1.0,1.0,1.0,1.0,1.0,1.0,1.0,1.0,1.0,1.0,1.0],\"type\":\"scatter\"}],                        {\"template\":{\"data\":{\"barpolar\":[{\"marker\":{\"line\":{\"color\":\"white\",\"width\":0.5},\"pattern\":{\"fillmode\":\"overlay\",\"size\":10,\"solidity\":0.2}},\"type\":\"barpolar\"}],\"bar\":[{\"error_x\":{\"color\":\"#2a3f5f\"},\"error_y\":{\"color\":\"#2a3f5f\"},\"marker\":{\"line\":{\"color\":\"white\",\"width\":0.5},\"pattern\":{\"fillmode\":\"overlay\",\"size\":10,\"solidity\":0.2}},\"type\":\"bar\"}],\"carpet\":[{\"aaxis\":{\"endlinecolor\":\"#2a3f5f\",\"gridcolor\":\"#C8D4E3\",\"linecolor\":\"#C8D4E3\",\"minorgridcolor\":\"#C8D4E3\",\"startlinecolor\":\"#2a3f5f\"},\"baxis\":{\"endlinecolor\":\"#2a3f5f\",\"gridcolor\":\"#C8D4E3\",\"linecolor\":\"#C8D4E3\",\"minorgridcolor\":\"#C8D4E3\",\"startlinecolor\":\"#2a3f5f\"},\"type\":\"carpet\"}],\"choropleth\":[{\"colorbar\":{\"outlinewidth\":0,\"ticks\":\"\"},\"type\":\"choropleth\"}],\"contourcarpet\":[{\"colorbar\":{\"outlinewidth\":0,\"ticks\":\"\"},\"type\":\"contourcarpet\"}],\"contour\":[{\"colorbar\":{\"outlinewidth\":0,\"ticks\":\"\"},\"colorscale\":[[0.0,\"#0d0887\"],[0.1111111111111111,\"#46039f\"],[0.2222222222222222,\"#7201a8\"],[0.3333333333333333,\"#9c179e\"],[0.4444444444444444,\"#bd3786\"],[0.5555555555555556,\"#d8576b\"],[0.6666666666666666,\"#ed7953\"],[0.7777777777777778,\"#fb9f3a\"],[0.8888888888888888,\"#fdca26\"],[1.0,\"#f0f921\"]],\"type\":\"contour\"}],\"heatmapgl\":[{\"colorbar\":{\"outlinewidth\":0,\"ticks\":\"\"},\"colorscale\":[[0.0,\"#0d0887\"],[0.1111111111111111,\"#46039f\"],[0.2222222222222222,\"#7201a8\"],[0.3333333333333333,\"#9c179e\"],[0.4444444444444444,\"#bd3786\"],[0.5555555555555556,\"#d8576b\"],[0.6666666666666666,\"#ed7953\"],[0.7777777777777778,\"#fb9f3a\"],[0.8888888888888888,\"#fdca26\"],[1.0,\"#f0f921\"]],\"type\":\"heatmapgl\"}],\"heatmap\":[{\"colorbar\":{\"outlinewidth\":0,\"ticks\":\"\"},\"colorscale\":[[0.0,\"#0d0887\"],[0.1111111111111111,\"#46039f\"],[0.2222222222222222,\"#7201a8\"],[0.3333333333333333,\"#9c179e\"],[0.4444444444444444,\"#bd3786\"],[0.5555555555555556,\"#d8576b\"],[0.6666666666666666,\"#ed7953\"],[0.7777777777777778,\"#fb9f3a\"],[0.8888888888888888,\"#fdca26\"],[1.0,\"#f0f921\"]],\"type\":\"heatmap\"}],\"histogram2dcontour\":[{\"colorbar\":{\"outlinewidth\":0,\"ticks\":\"\"},\"colorscale\":[[0.0,\"#0d0887\"],[0.1111111111111111,\"#46039f\"],[0.2222222222222222,\"#7201a8\"],[0.3333333333333333,\"#9c179e\"],[0.4444444444444444,\"#bd3786\"],[0.5555555555555556,\"#d8576b\"],[0.6666666666666666,\"#ed7953\"],[0.7777777777777778,\"#fb9f3a\"],[0.8888888888888888,\"#fdca26\"],[1.0,\"#f0f921\"]],\"type\":\"histogram2dcontour\"}],\"histogram2d\":[{\"colorbar\":{\"outlinewidth\":0,\"ticks\":\"\"},\"colorscale\":[[0.0,\"#0d0887\"],[0.1111111111111111,\"#46039f\"],[0.2222222222222222,\"#7201a8\"],[0.3333333333333333,\"#9c179e\"],[0.4444444444444444,\"#bd3786\"],[0.5555555555555556,\"#d8576b\"],[0.6666666666666666,\"#ed7953\"],[0.7777777777777778,\"#fb9f3a\"],[0.8888888888888888,\"#fdca26\"],[1.0,\"#f0f921\"]],\"type\":\"histogram2d\"}],\"histogram\":[{\"marker\":{\"pattern\":{\"fillmode\":\"overlay\",\"size\":10,\"solidity\":0.2}},\"type\":\"histogram\"}],\"mesh3d\":[{\"colorbar\":{\"outlinewidth\":0,\"ticks\":\"\"},\"type\":\"mesh3d\"}],\"parcoords\":[{\"line\":{\"colorbar\":{\"outlinewidth\":0,\"ticks\":\"\"}},\"type\":\"parcoords\"}],\"pie\":[{\"automargin\":true,\"type\":\"pie\"}],\"scatter3d\":[{\"line\":{\"colorbar\":{\"outlinewidth\":0,\"ticks\":\"\"}},\"marker\":{\"colorbar\":{\"outlinewidth\":0,\"ticks\":\"\"}},\"type\":\"scatter3d\"}],\"scattercarpet\":[{\"marker\":{\"colorbar\":{\"outlinewidth\":0,\"ticks\":\"\"}},\"type\":\"scattercarpet\"}],\"scattergeo\":[{\"marker\":{\"colorbar\":{\"outlinewidth\":0,\"ticks\":\"\"}},\"type\":\"scattergeo\"}],\"scattergl\":[{\"marker\":{\"colorbar\":{\"outlinewidth\":0,\"ticks\":\"\"}},\"type\":\"scattergl\"}],\"scattermapbox\":[{\"marker\":{\"colorbar\":{\"outlinewidth\":0,\"ticks\":\"\"}},\"type\":\"scattermapbox\"}],\"scatterpolargl\":[{\"marker\":{\"colorbar\":{\"outlinewidth\":0,\"ticks\":\"\"}},\"type\":\"scatterpolargl\"}],\"scatterpolar\":[{\"marker\":{\"colorbar\":{\"outlinewidth\":0,\"ticks\":\"\"}},\"type\":\"scatterpolar\"}],\"scatter\":[{\"fillpattern\":{\"fillmode\":\"overlay\",\"size\":10,\"solidity\":0.2},\"type\":\"scatter\"}],\"scatterternary\":[{\"marker\":{\"colorbar\":{\"outlinewidth\":0,\"ticks\":\"\"}},\"type\":\"scatterternary\"}],\"surface\":[{\"colorbar\":{\"outlinewidth\":0,\"ticks\":\"\"},\"colorscale\":[[0.0,\"#0d0887\"],[0.1111111111111111,\"#46039f\"],[0.2222222222222222,\"#7201a8\"],[0.3333333333333333,\"#9c179e\"],[0.4444444444444444,\"#bd3786\"],[0.5555555555555556,\"#d8576b\"],[0.6666666666666666,\"#ed7953\"],[0.7777777777777778,\"#fb9f3a\"],[0.8888888888888888,\"#fdca26\"],[1.0,\"#f0f921\"]],\"type\":\"surface\"}],\"table\":[{\"cells\":{\"fill\":{\"color\":\"#EBF0F8\"},\"line\":{\"color\":\"white\"}},\"header\":{\"fill\":{\"color\":\"#C8D4E3\"},\"line\":{\"color\":\"white\"}},\"type\":\"table\"}]},\"layout\":{\"annotationdefaults\":{\"arrowcolor\":\"#2a3f5f\",\"arrowhead\":0,\"arrowwidth\":1},\"autotypenumbers\":\"strict\",\"coloraxis\":{\"colorbar\":{\"outlinewidth\":0,\"ticks\":\"\"}},\"colorscale\":{\"diverging\":[[0,\"#8e0152\"],[0.1,\"#c51b7d\"],[0.2,\"#de77ae\"],[0.3,\"#f1b6da\"],[0.4,\"#fde0ef\"],[0.5,\"#f7f7f7\"],[0.6,\"#e6f5d0\"],[0.7,\"#b8e186\"],[0.8,\"#7fbc41\"],[0.9,\"#4d9221\"],[1,\"#276419\"]],\"sequential\":[[0.0,\"#0d0887\"],[0.1111111111111111,\"#46039f\"],[0.2222222222222222,\"#7201a8\"],[0.3333333333333333,\"#9c179e\"],[0.4444444444444444,\"#bd3786\"],[0.5555555555555556,\"#d8576b\"],[0.6666666666666666,\"#ed7953\"],[0.7777777777777778,\"#fb9f3a\"],[0.8888888888888888,\"#fdca26\"],[1.0,\"#f0f921\"]],\"sequentialminus\":[[0.0,\"#0d0887\"],[0.1111111111111111,\"#46039f\"],[0.2222222222222222,\"#7201a8\"],[0.3333333333333333,\"#9c179e\"],[0.4444444444444444,\"#bd3786\"],[0.5555555555555556,\"#d8576b\"],[0.6666666666666666,\"#ed7953\"],[0.7777777777777778,\"#fb9f3a\"],[0.8888888888888888,\"#fdca26\"],[1.0,\"#f0f921\"]]},\"colorway\":[\"#636efa\",\"#EF553B\",\"#00cc96\",\"#ab63fa\",\"#FFA15A\",\"#19d3f3\",\"#FF6692\",\"#B6E880\",\"#FF97FF\",\"#FECB52\"],\"font\":{\"color\":\"#2a3f5f\"},\"geo\":{\"bgcolor\":\"white\",\"lakecolor\":\"white\",\"landcolor\":\"white\",\"showlakes\":true,\"showland\":true,\"subunitcolor\":\"#C8D4E3\"},\"hoverlabel\":{\"align\":\"left\"},\"hovermode\":\"closest\",\"mapbox\":{\"style\":\"light\"},\"paper_bgcolor\":\"white\",\"plot_bgcolor\":\"white\",\"polar\":{\"angularaxis\":{\"gridcolor\":\"#EBF0F8\",\"linecolor\":\"#EBF0F8\",\"ticks\":\"\"},\"bgcolor\":\"white\",\"radialaxis\":{\"gridcolor\":\"#EBF0F8\",\"linecolor\":\"#EBF0F8\",\"ticks\":\"\"}},\"scene\":{\"xaxis\":{\"backgroundcolor\":\"white\",\"gridcolor\":\"#DFE8F3\",\"gridwidth\":2,\"linecolor\":\"#EBF0F8\",\"showbackground\":true,\"ticks\":\"\",\"zerolinecolor\":\"#EBF0F8\"},\"yaxis\":{\"backgroundcolor\":\"white\",\"gridcolor\":\"#DFE8F3\",\"gridwidth\":2,\"linecolor\":\"#EBF0F8\",\"showbackground\":true,\"ticks\":\"\",\"zerolinecolor\":\"#EBF0F8\"},\"zaxis\":{\"backgroundcolor\":\"white\",\"gridcolor\":\"#DFE8F3\",\"gridwidth\":2,\"linecolor\":\"#EBF0F8\",\"showbackground\":true,\"ticks\":\"\",\"zerolinecolor\":\"#EBF0F8\"}},\"shapedefaults\":{\"line\":{\"color\":\"#2a3f5f\"}},\"ternary\":{\"aaxis\":{\"gridcolor\":\"#DFE8F3\",\"linecolor\":\"#A2B1C6\",\"ticks\":\"\"},\"baxis\":{\"gridcolor\":\"#DFE8F3\",\"linecolor\":\"#A2B1C6\",\"ticks\":\"\"},\"bgcolor\":\"white\",\"caxis\":{\"gridcolor\":\"#DFE8F3\",\"linecolor\":\"#A2B1C6\",\"ticks\":\"\"}},\"title\":{\"x\":0.05},\"xaxis\":{\"automargin\":true,\"gridcolor\":\"#EBF0F8\",\"linecolor\":\"#EBF0F8\",\"ticks\":\"\",\"title\":{\"standoff\":15},\"zerolinecolor\":\"#EBF0F8\",\"zerolinewidth\":2},\"yaxis\":{\"automargin\":true,\"gridcolor\":\"#EBF0F8\",\"linecolor\":\"#EBF0F8\",\"ticks\":\"\",\"title\":{\"standoff\":15},\"zerolinecolor\":\"#EBF0F8\",\"zerolinewidth\":2}}},\"shapes\":[{\"line\":{\"dash\":\"dash\"},\"type\":\"line\",\"x0\":0,\"x1\":1,\"y0\":0,\"y1\":1}],\"title\":{\"text\":\"Dose 2 detectable\"},\"legend\":{\"yanchor\":\"bottom\",\"xanchor\":\"right\",\"x\":0.95,\"y\":0.01},\"xaxis\":{\"title\":{\"text\":\"False Positive Rate\"},\"range\":[0,1],\"constrain\":\"domain\",\"linecolor\":\"black\"},\"yaxis\":{\"title\":{\"text\":\"True Positive Rate\"},\"range\":[0,1],\"scaleanchor\":\"x\",\"scaleratio\":1,\"linecolor\":\"black\"},\"width\":500,\"height\":500},                        {\"responsive\": true}                    ).then(function(){\n",
       "                            \n",
       "var gd = document.getElementById('a6f6b4a0-bfc9-445e-9638-c1b110112354');\n",
       "var x = new MutationObserver(function (mutations, observer) {{\n",
       "        var display = window.getComputedStyle(gd).display;\n",
       "        if (!display || display === 'none') {{\n",
       "            console.log([gd, 'removed!']);\n",
       "            Plotly.purge(gd);\n",
       "            observer.disconnect();\n",
       "        }}\n",
       "}});\n",
       "\n",
       "// Listen for the removal of the full notebook cells\n",
       "var notebookContainer = gd.closest('#notebook-container');\n",
       "if (notebookContainer) {{\n",
       "    x.observe(notebookContainer, {childList: true});\n",
       "}}\n",
       "\n",
       "// Listen for the clearing of the current output cell\n",
       "var outputEl = gd.closest('.output');\n",
       "if (outputEl) {{\n",
       "    x.observe(outputEl, {childList: true});\n",
       "}}\n",
       "\n",
       "                        })                };                });            </script>        </div>"
      ]
     },
     "metadata": {},
     "output_type": "display_data"
    }
   ],
   "source": [
    "y_true_d2_d  = []\n",
    "y_true_d3_p  = []\n",
    "y_score_d2_d = []\n",
    "y_score_d3_p = []\n",
    "for i in range(len(data[\"comp\"][\"SVM_RFE_d2_d\"][\"SVM_d2_d\"])):\n",
    "    y_true_d2_d.append(data[\"comp\"][\"SVM_RFE_d2_d\"][\"SVM_d2_d\"][i][\"y_true\"])\n",
    "    y_true_d3_p.append(data[\"comp\"][\"SVM_RFE_d3_p\"][\"SVM_d3_p\"][i][\"y_true\"])\n",
    "    y_score_d2_d.append(data[\"comp\"][\"SVM_RFE_d2_d\"][\"SVM_d2_d\"][i][\"z\"])\n",
    "    y_score_d3_p.append(data[\"comp\"][\"SVM_RFE_d3_p\"][\"SVM_d3_p\"][i][\"z\"])\n",
    "\n",
    "\n",
    "kind = 'val'\n",
    "c_line      = 'rgba(52, 152, 219, 0.5)'\n",
    "c_fill      = 'rgba(52, 152, 219, 0.2)'\n",
    "c_line_main = 'rgba(41, 128, 185, 1.0)'\n",
    "c_grid      = 'rgba(189, 195, 199, 0.5)'\n",
    "#c_annot     = 'rgba(149, 165, 166, 0.5)'\n",
    "#c_highlight = 'rgba(192, 57, 43, 1.0)'\n",
    "fpr_mean    = np.linspace(0, 1, 100)\n",
    "interp_tprs_d2_d = []\n",
    "interp_tprs_d3_p = []\n",
    "for i in range(len(y_true_d2_d)):\n",
    "    fpr_d2_d, tpr_d2_d, thresholds = roc_curve(y_true_d2_d[i], y_score_d2_d[i])\n",
    "    fpr_d3_p, tpr_d3_p, thresholds = roc_curve(y_true_d3_p[i], y_score_d3_p[i])\n",
    "    interp_tpr_d2_d    = np.interp(fpr_mean, fpr_d2_d, tpr_d2_d)\n",
    "    interp_tpr_d3_p    = np.interp(fpr_mean, fpr_d3_p, tpr_d3_p)\n",
    "    interp_tpr_d2_d[0] = 0.0\n",
    "    interp_tpr_d3_p[0] = 0.0\n",
    "    interp_tprs_d2_d.append(interp_tpr_d2_d)\n",
    "    interp_tprs_d3_p.append(interp_tpr_d3_p)\n",
    "tpr_mean_d2_d     = np.mean(interp_tprs_d2_d, axis=0)\n",
    "tpr_mean_d3_p     = np.mean(interp_tprs_d3_p, axis=0)\n",
    "tpr_mean_d2_d[-1] = 1.0\n",
    "tpr_mean_d3_p[-1] = 1.0\n",
    "tpr_std_d2_d      = np.std(interp_tprs_d2_d, axis=0)\n",
    "tpr_std_d3_p      = np.std(interp_tprs_d3_p, axis=0)\n",
    "tpr_upper_d2_d    = np.clip(tpr_mean_d2_d+tpr_std_d2_d, 0, 1)\n",
    "tpr_upper_d3_p    = np.clip(tpr_mean_d3_p+tpr_std_d3_p, 0, 1)\n",
    "tpr_lower_d2_d    = tpr_mean_d2_d-tpr_std_d2_d\n",
    "tpr_lower_d3_p    = tpr_mean_d3_p-tpr_std_d3_p\n",
    "\n",
    "fig3 = go.Figure([\n",
    "    go.Scatter(\n",
    "        x          = fpr_mean,\n",
    "        y          = tpr_upper_d2_d,\n",
    "        line       = dict(color=c_line, width=1),\n",
    "        hoverinfo  = \"skip\",\n",
    "        showlegend = True,\n",
    "        name       = 'SD'),\n",
    "    go.Scatter(\n",
    "        x          = fpr_mean,\n",
    "        y          = tpr_lower_d2_d,\n",
    "        fill       = 'tonexty',\n",
    "        fillcolor  = c_fill,\n",
    "        line       = dict(color=c_line, width=1),\n",
    "        hoverinfo  = \"skip\",\n",
    "        showlegend = False,\n",
    "        name       = 'lower'),\n",
    "    go.Scatter(\n",
    "        x          = fpr_mean,\n",
    "        y          = tpr_mean_d2_d,\n",
    "        line       = dict(color=c_line_main, width=2),\n",
    "        hoverinfo  = \"skip\",\n",
    "        showlegend = True,\n",
    "        name       = 'AUC: 0.950')\n",
    "]\n",
    ")\n",
    "fig3.add_shape(\n",
    "    type ='line', \n",
    "    line =dict(dash='dash'),\n",
    "    x0=0, x1=1, y0=0, y1=1\n",
    ")\n",
    "fig3.update_layout(\n",
    "    template    = 'plotly_white', \n",
    "    title_x     = 0.5,\n",
    "    title = \"Dose 2 detectable\",\n",
    "    xaxis_title = \"False Positive Rate\",\n",
    "    yaxis_title = \"True Positive Rate\",\n",
    "    width       = 500,\n",
    "    height      = 500,\n",
    "    legend      = dict(\n",
    "        yanchor=\"bottom\", \n",
    "        xanchor=\"right\", \n",
    "        x=0.95,\n",
    "        y=0.01,\n",
    "    )\n",
    ")\n",
    "fig3.update_yaxes(\n",
    "    range       = [0, 1],\n",
    "    scaleanchor = \"x\", \n",
    "    scaleratio  = 1,\n",
    "    linecolor   = 'black')\n",
    "fig3.update_xaxes(\n",
    "    range       = [0, 1],\n",
    "    constrain   = 'domain',\n",
    "    linecolor   = 'black')\n",
    "fig3.write_image(\"fig_ml_C.svg\")\n",
    "fig3"
   ]
  },
  {
   "cell_type": "code",
   "execution_count": 29,
   "id": "168d809e-37c7-474c-ad70-b2a12f168cbf",
   "metadata": {},
   "outputs": [
    {
     "data": {
      "application/vnd.plotly.v1+json": {
       "config": {
        "plotlyServerURL": "https://plot.ly"
       },
       "data": [
        {
         "hoverinfo": "skip",
         "line": {
          "color": "rgba( 152,52, 219, 0.5)",
          "width": 1
         },
         "name": "SD",
         "showlegend": true,
         "type": "scatter",
         "x": [
          0,
          0.010101010101010102,
          0.020202020202020204,
          0.030303030303030304,
          0.04040404040404041,
          0.05050505050505051,
          0.06060606060606061,
          0.07070707070707072,
          0.08080808080808081,
          0.09090909090909091,
          0.10101010101010102,
          0.11111111111111112,
          0.12121212121212122,
          0.13131313131313133,
          0.14141414141414144,
          0.15151515151515152,
          0.16161616161616163,
          0.17171717171717174,
          0.18181818181818182,
          0.19191919191919193,
          0.20202020202020204,
          0.21212121212121213,
          0.22222222222222224,
          0.23232323232323235,
          0.24242424242424243,
          0.25252525252525254,
          0.26262626262626265,
          0.27272727272727276,
          0.2828282828282829,
          0.29292929292929293,
          0.30303030303030304,
          0.31313131313131315,
          0.32323232323232326,
          0.33333333333333337,
          0.3434343434343435,
          0.3535353535353536,
          0.36363636363636365,
          0.37373737373737376,
          0.38383838383838387,
          0.393939393939394,
          0.4040404040404041,
          0.4141414141414142,
          0.42424242424242425,
          0.43434343434343436,
          0.4444444444444445,
          0.4545454545454546,
          0.4646464646464647,
          0.4747474747474748,
          0.48484848484848486,
          0.494949494949495,
          0.5050505050505051,
          0.5151515151515152,
          0.5252525252525253,
          0.5353535353535354,
          0.5454545454545455,
          0.5555555555555556,
          0.5656565656565657,
          0.5757575757575758,
          0.5858585858585859,
          0.595959595959596,
          0.6060606060606061,
          0.6161616161616162,
          0.6262626262626263,
          0.6363636363636365,
          0.6464646464646465,
          0.6565656565656566,
          0.6666666666666667,
          0.6767676767676768,
          0.686868686868687,
          0.696969696969697,
          0.7070707070707072,
          0.7171717171717172,
          0.7272727272727273,
          0.7373737373737375,
          0.7474747474747475,
          0.7575757575757577,
          0.7676767676767677,
          0.7777777777777778,
          0.787878787878788,
          0.797979797979798,
          0.8080808080808082,
          0.8181818181818182,
          0.8282828282828284,
          0.8383838383838385,
          0.8484848484848485,
          0.8585858585858587,
          0.8686868686868687,
          0.8787878787878789,
          0.888888888888889,
          0.8989898989898991,
          0.9090909090909092,
          0.9191919191919192,
          0.9292929292929294,
          0.9393939393939394,
          0.9494949494949496,
          0.9595959595959597,
          0.9696969696969697,
          0.9797979797979799,
          0.98989898989899,
          1
         ],
         "y": [
          0,
          1,
          1,
          1,
          1,
          1,
          1,
          1,
          1,
          1,
          1,
          1,
          1,
          1,
          1,
          1,
          1,
          1,
          1,
          1,
          1,
          1,
          1,
          1,
          1,
          1,
          1,
          1,
          1,
          1,
          1,
          1,
          1,
          1,
          1,
          1,
          1,
          1,
          1,
          1,
          1,
          1,
          1,
          1,
          1,
          1,
          1,
          1,
          1,
          1,
          1,
          1,
          1,
          1,
          1,
          1,
          1,
          1,
          1,
          1,
          1,
          1,
          1,
          1,
          1,
          1,
          1,
          1,
          1,
          1,
          1,
          1,
          1,
          1,
          1,
          1,
          1,
          1,
          1,
          1,
          1,
          1,
          1,
          1,
          1,
          1,
          1,
          1,
          1,
          1,
          1,
          1,
          1,
          1,
          1,
          1,
          1,
          1,
          1,
          1
         ]
        },
        {
         "fill": "tonexty",
         "fillcolor": "rgba( 152,52, 219, 0.2)",
         "hoverinfo": "skip",
         "line": {
          "color": "rgba( 152,52, 219, 0.5)",
          "width": 1
         },
         "name": "lower",
         "showlegend": false,
         "type": "scatter",
         "x": [
          0,
          0.010101010101010102,
          0.020202020202020204,
          0.030303030303030304,
          0.04040404040404041,
          0.05050505050505051,
          0.06060606060606061,
          0.07070707070707072,
          0.08080808080808081,
          0.09090909090909091,
          0.10101010101010102,
          0.11111111111111112,
          0.12121212121212122,
          0.13131313131313133,
          0.14141414141414144,
          0.15151515151515152,
          0.16161616161616163,
          0.17171717171717174,
          0.18181818181818182,
          0.19191919191919193,
          0.20202020202020204,
          0.21212121212121213,
          0.22222222222222224,
          0.23232323232323235,
          0.24242424242424243,
          0.25252525252525254,
          0.26262626262626265,
          0.27272727272727276,
          0.2828282828282829,
          0.29292929292929293,
          0.30303030303030304,
          0.31313131313131315,
          0.32323232323232326,
          0.33333333333333337,
          0.3434343434343435,
          0.3535353535353536,
          0.36363636363636365,
          0.37373737373737376,
          0.38383838383838387,
          0.393939393939394,
          0.4040404040404041,
          0.4141414141414142,
          0.42424242424242425,
          0.43434343434343436,
          0.4444444444444445,
          0.4545454545454546,
          0.4646464646464647,
          0.4747474747474748,
          0.48484848484848486,
          0.494949494949495,
          0.5050505050505051,
          0.5151515151515152,
          0.5252525252525253,
          0.5353535353535354,
          0.5454545454545455,
          0.5555555555555556,
          0.5656565656565657,
          0.5757575757575758,
          0.5858585858585859,
          0.595959595959596,
          0.6060606060606061,
          0.6161616161616162,
          0.6262626262626263,
          0.6363636363636365,
          0.6464646464646465,
          0.6565656565656566,
          0.6666666666666667,
          0.6767676767676768,
          0.686868686868687,
          0.696969696969697,
          0.7070707070707072,
          0.7171717171717172,
          0.7272727272727273,
          0.7373737373737375,
          0.7474747474747475,
          0.7575757575757577,
          0.7676767676767677,
          0.7777777777777778,
          0.787878787878788,
          0.797979797979798,
          0.8080808080808082,
          0.8181818181818182,
          0.8282828282828284,
          0.8383838383838385,
          0.8484848484848485,
          0.8585858585858587,
          0.8686868686868687,
          0.8787878787878789,
          0.888888888888889,
          0.8989898989898991,
          0.9090909090909092,
          0.9191919191919192,
          0.9292929292929294,
          0.9393939393939394,
          0.9494949494949496,
          0.9595959595959597,
          0.9696969696969697,
          0.9797979797979799,
          0.98989898989899,
          1
         ],
         "y": [
          0,
          0.41458980337503154,
          0.41458980337503154,
          0.41458980337503154,
          0.41458980337503154,
          0.41458980337503154,
          0.41458980337503154,
          0.41458980337503154,
          0.41458980337503154,
          0.41458980337503154,
          0.41458980337503154,
          0.41458980337503154,
          0.41458980337503154,
          0.41458980337503154,
          0.41458980337503154,
          0.41458980337503154,
          0.41458980337503154,
          0.5298437881283575,
          0.5298437881283575,
          0.5298437881283575,
          0.6000000000000001,
          0.6000000000000001,
          0.6000000000000001,
          0.6000000000000001,
          0.6000000000000001,
          0.6000000000000001,
          0.6000000000000001,
          0.6000000000000001,
          0.6000000000000001,
          0.6000000000000001,
          0.6000000000000001,
          0.6000000000000001,
          0.6000000000000001,
          0.6000000000000001,
          0.6000000000000001,
          0.6000000000000001,
          0.6000000000000001,
          0.6000000000000001,
          0.6000000000000001,
          0.6000000000000001,
          1,
          1,
          1,
          1,
          1,
          1,
          1,
          1,
          1,
          1,
          1,
          1,
          1,
          1,
          1,
          1,
          1,
          1,
          1,
          1,
          1,
          1,
          1,
          1,
          1,
          1,
          1,
          1,
          1,
          1,
          1,
          1,
          1,
          1,
          1,
          1,
          1,
          1,
          1,
          1,
          1,
          1,
          1,
          1,
          1,
          1,
          1,
          1,
          1,
          1,
          1,
          1,
          1,
          1,
          1,
          1,
          1,
          1,
          1,
          1
         ]
        },
        {
         "hoverinfo": "skip",
         "line": {
          "color": "rgba( 128,41, 185, 1.0)",
          "width": 2
         },
         "name": "AUC: 0.933",
         "showlegend": true,
         "type": "scatter",
         "x": [
          0,
          0.010101010101010102,
          0.020202020202020204,
          0.030303030303030304,
          0.04040404040404041,
          0.05050505050505051,
          0.06060606060606061,
          0.07070707070707072,
          0.08080808080808081,
          0.09090909090909091,
          0.10101010101010102,
          0.11111111111111112,
          0.12121212121212122,
          0.13131313131313133,
          0.14141414141414144,
          0.15151515151515152,
          0.16161616161616163,
          0.17171717171717174,
          0.18181818181818182,
          0.19191919191919193,
          0.20202020202020204,
          0.21212121212121213,
          0.22222222222222224,
          0.23232323232323235,
          0.24242424242424243,
          0.25252525252525254,
          0.26262626262626265,
          0.27272727272727276,
          0.2828282828282829,
          0.29292929292929293,
          0.30303030303030304,
          0.31313131313131315,
          0.32323232323232326,
          0.33333333333333337,
          0.3434343434343435,
          0.3535353535353536,
          0.36363636363636365,
          0.37373737373737376,
          0.38383838383838387,
          0.393939393939394,
          0.4040404040404041,
          0.4141414141414142,
          0.42424242424242425,
          0.43434343434343436,
          0.4444444444444445,
          0.4545454545454546,
          0.4646464646464647,
          0.4747474747474748,
          0.48484848484848486,
          0.494949494949495,
          0.5050505050505051,
          0.5151515151515152,
          0.5252525252525253,
          0.5353535353535354,
          0.5454545454545455,
          0.5555555555555556,
          0.5656565656565657,
          0.5757575757575758,
          0.5858585858585859,
          0.595959595959596,
          0.6060606060606061,
          0.6161616161616162,
          0.6262626262626263,
          0.6363636363636365,
          0.6464646464646465,
          0.6565656565656566,
          0.6666666666666667,
          0.6767676767676768,
          0.686868686868687,
          0.696969696969697,
          0.7070707070707072,
          0.7171717171717172,
          0.7272727272727273,
          0.7373737373737375,
          0.7474747474747475,
          0.7575757575757577,
          0.7676767676767677,
          0.7777777777777778,
          0.787878787878788,
          0.797979797979798,
          0.8080808080808082,
          0.8181818181818182,
          0.8282828282828284,
          0.8383838383838385,
          0.8484848484848485,
          0.8585858585858587,
          0.8686868686868687,
          0.8787878787878789,
          0.888888888888889,
          0.8989898989898991,
          0.9090909090909092,
          0.9191919191919192,
          0.9292929292929294,
          0.9393939393939394,
          0.9494949494949496,
          0.9595959595959597,
          0.9696969696969697,
          0.9797979797979799,
          0.98989898989899,
          1
         ],
         "y": [
          0,
          0.75,
          0.75,
          0.75,
          0.75,
          0.75,
          0.75,
          0.75,
          0.75,
          0.75,
          0.75,
          0.75,
          0.75,
          0.75,
          0.75,
          0.75,
          0.75,
          0.85,
          0.85,
          0.85,
          0.9,
          0.9,
          0.9,
          0.9,
          0.9,
          0.9,
          0.9,
          0.9,
          0.9,
          0.9,
          0.9,
          0.9,
          0.9,
          0.9,
          0.9,
          0.9,
          0.9,
          0.9,
          0.9,
          0.9,
          1,
          1,
          1,
          1,
          1,
          1,
          1,
          1,
          1,
          1,
          1,
          1,
          1,
          1,
          1,
          1,
          1,
          1,
          1,
          1,
          1,
          1,
          1,
          1,
          1,
          1,
          1,
          1,
          1,
          1,
          1,
          1,
          1,
          1,
          1,
          1,
          1,
          1,
          1,
          1,
          1,
          1,
          1,
          1,
          1,
          1,
          1,
          1,
          1,
          1,
          1,
          1,
          1,
          1,
          1,
          1,
          1,
          1,
          1,
          1
         ]
        }
       ],
       "layout": {
        "height": 500,
        "legend": {
         "x": 0.95,
         "xanchor": "right",
         "y": 0.01,
         "yanchor": "bottom"
        },
        "shapes": [
         {
          "line": {
           "dash": "dash"
          },
          "type": "line",
          "x0": 0,
          "x1": 1,
          "y0": 0,
          "y1": 1
         }
        ],
        "template": {
         "data": {
          "bar": [
           {
            "error_x": {
             "color": "#2a3f5f"
            },
            "error_y": {
             "color": "#2a3f5f"
            },
            "marker": {
             "line": {
              "color": "white",
              "width": 0.5
             },
             "pattern": {
              "fillmode": "overlay",
              "size": 10,
              "solidity": 0.2
             }
            },
            "type": "bar"
           }
          ],
          "barpolar": [
           {
            "marker": {
             "line": {
              "color": "white",
              "width": 0.5
             },
             "pattern": {
              "fillmode": "overlay",
              "size": 10,
              "solidity": 0.2
             }
            },
            "type": "barpolar"
           }
          ],
          "carpet": [
           {
            "aaxis": {
             "endlinecolor": "#2a3f5f",
             "gridcolor": "#C8D4E3",
             "linecolor": "#C8D4E3",
             "minorgridcolor": "#C8D4E3",
             "startlinecolor": "#2a3f5f"
            },
            "baxis": {
             "endlinecolor": "#2a3f5f",
             "gridcolor": "#C8D4E3",
             "linecolor": "#C8D4E3",
             "minorgridcolor": "#C8D4E3",
             "startlinecolor": "#2a3f5f"
            },
            "type": "carpet"
           }
          ],
          "choropleth": [
           {
            "colorbar": {
             "outlinewidth": 0,
             "ticks": ""
            },
            "type": "choropleth"
           }
          ],
          "contour": [
           {
            "colorbar": {
             "outlinewidth": 0,
             "ticks": ""
            },
            "colorscale": [
             [
              0,
              "#0d0887"
             ],
             [
              0.1111111111111111,
              "#46039f"
             ],
             [
              0.2222222222222222,
              "#7201a8"
             ],
             [
              0.3333333333333333,
              "#9c179e"
             ],
             [
              0.4444444444444444,
              "#bd3786"
             ],
             [
              0.5555555555555556,
              "#d8576b"
             ],
             [
              0.6666666666666666,
              "#ed7953"
             ],
             [
              0.7777777777777778,
              "#fb9f3a"
             ],
             [
              0.8888888888888888,
              "#fdca26"
             ],
             [
              1,
              "#f0f921"
             ]
            ],
            "type": "contour"
           }
          ],
          "contourcarpet": [
           {
            "colorbar": {
             "outlinewidth": 0,
             "ticks": ""
            },
            "type": "contourcarpet"
           }
          ],
          "heatmap": [
           {
            "colorbar": {
             "outlinewidth": 0,
             "ticks": ""
            },
            "colorscale": [
             [
              0,
              "#0d0887"
             ],
             [
              0.1111111111111111,
              "#46039f"
             ],
             [
              0.2222222222222222,
              "#7201a8"
             ],
             [
              0.3333333333333333,
              "#9c179e"
             ],
             [
              0.4444444444444444,
              "#bd3786"
             ],
             [
              0.5555555555555556,
              "#d8576b"
             ],
             [
              0.6666666666666666,
              "#ed7953"
             ],
             [
              0.7777777777777778,
              "#fb9f3a"
             ],
             [
              0.8888888888888888,
              "#fdca26"
             ],
             [
              1,
              "#f0f921"
             ]
            ],
            "type": "heatmap"
           }
          ],
          "heatmapgl": [
           {
            "colorbar": {
             "outlinewidth": 0,
             "ticks": ""
            },
            "colorscale": [
             [
              0,
              "#0d0887"
             ],
             [
              0.1111111111111111,
              "#46039f"
             ],
             [
              0.2222222222222222,
              "#7201a8"
             ],
             [
              0.3333333333333333,
              "#9c179e"
             ],
             [
              0.4444444444444444,
              "#bd3786"
             ],
             [
              0.5555555555555556,
              "#d8576b"
             ],
             [
              0.6666666666666666,
              "#ed7953"
             ],
             [
              0.7777777777777778,
              "#fb9f3a"
             ],
             [
              0.8888888888888888,
              "#fdca26"
             ],
             [
              1,
              "#f0f921"
             ]
            ],
            "type": "heatmapgl"
           }
          ],
          "histogram": [
           {
            "marker": {
             "pattern": {
              "fillmode": "overlay",
              "size": 10,
              "solidity": 0.2
             }
            },
            "type": "histogram"
           }
          ],
          "histogram2d": [
           {
            "colorbar": {
             "outlinewidth": 0,
             "ticks": ""
            },
            "colorscale": [
             [
              0,
              "#0d0887"
             ],
             [
              0.1111111111111111,
              "#46039f"
             ],
             [
              0.2222222222222222,
              "#7201a8"
             ],
             [
              0.3333333333333333,
              "#9c179e"
             ],
             [
              0.4444444444444444,
              "#bd3786"
             ],
             [
              0.5555555555555556,
              "#d8576b"
             ],
             [
              0.6666666666666666,
              "#ed7953"
             ],
             [
              0.7777777777777778,
              "#fb9f3a"
             ],
             [
              0.8888888888888888,
              "#fdca26"
             ],
             [
              1,
              "#f0f921"
             ]
            ],
            "type": "histogram2d"
           }
          ],
          "histogram2dcontour": [
           {
            "colorbar": {
             "outlinewidth": 0,
             "ticks": ""
            },
            "colorscale": [
             [
              0,
              "#0d0887"
             ],
             [
              0.1111111111111111,
              "#46039f"
             ],
             [
              0.2222222222222222,
              "#7201a8"
             ],
             [
              0.3333333333333333,
              "#9c179e"
             ],
             [
              0.4444444444444444,
              "#bd3786"
             ],
             [
              0.5555555555555556,
              "#d8576b"
             ],
             [
              0.6666666666666666,
              "#ed7953"
             ],
             [
              0.7777777777777778,
              "#fb9f3a"
             ],
             [
              0.8888888888888888,
              "#fdca26"
             ],
             [
              1,
              "#f0f921"
             ]
            ],
            "type": "histogram2dcontour"
           }
          ],
          "mesh3d": [
           {
            "colorbar": {
             "outlinewidth": 0,
             "ticks": ""
            },
            "type": "mesh3d"
           }
          ],
          "parcoords": [
           {
            "line": {
             "colorbar": {
              "outlinewidth": 0,
              "ticks": ""
             }
            },
            "type": "parcoords"
           }
          ],
          "pie": [
           {
            "automargin": true,
            "type": "pie"
           }
          ],
          "scatter": [
           {
            "fillpattern": {
             "fillmode": "overlay",
             "size": 10,
             "solidity": 0.2
            },
            "type": "scatter"
           }
          ],
          "scatter3d": [
           {
            "line": {
             "colorbar": {
              "outlinewidth": 0,
              "ticks": ""
             }
            },
            "marker": {
             "colorbar": {
              "outlinewidth": 0,
              "ticks": ""
             }
            },
            "type": "scatter3d"
           }
          ],
          "scattercarpet": [
           {
            "marker": {
             "colorbar": {
              "outlinewidth": 0,
              "ticks": ""
             }
            },
            "type": "scattercarpet"
           }
          ],
          "scattergeo": [
           {
            "marker": {
             "colorbar": {
              "outlinewidth": 0,
              "ticks": ""
             }
            },
            "type": "scattergeo"
           }
          ],
          "scattergl": [
           {
            "marker": {
             "colorbar": {
              "outlinewidth": 0,
              "ticks": ""
             }
            },
            "type": "scattergl"
           }
          ],
          "scattermapbox": [
           {
            "marker": {
             "colorbar": {
              "outlinewidth": 0,
              "ticks": ""
             }
            },
            "type": "scattermapbox"
           }
          ],
          "scatterpolar": [
           {
            "marker": {
             "colorbar": {
              "outlinewidth": 0,
              "ticks": ""
             }
            },
            "type": "scatterpolar"
           }
          ],
          "scatterpolargl": [
           {
            "marker": {
             "colorbar": {
              "outlinewidth": 0,
              "ticks": ""
             }
            },
            "type": "scatterpolargl"
           }
          ],
          "scatterternary": [
           {
            "marker": {
             "colorbar": {
              "outlinewidth": 0,
              "ticks": ""
             }
            },
            "type": "scatterternary"
           }
          ],
          "surface": [
           {
            "colorbar": {
             "outlinewidth": 0,
             "ticks": ""
            },
            "colorscale": [
             [
              0,
              "#0d0887"
             ],
             [
              0.1111111111111111,
              "#46039f"
             ],
             [
              0.2222222222222222,
              "#7201a8"
             ],
             [
              0.3333333333333333,
              "#9c179e"
             ],
             [
              0.4444444444444444,
              "#bd3786"
             ],
             [
              0.5555555555555556,
              "#d8576b"
             ],
             [
              0.6666666666666666,
              "#ed7953"
             ],
             [
              0.7777777777777778,
              "#fb9f3a"
             ],
             [
              0.8888888888888888,
              "#fdca26"
             ],
             [
              1,
              "#f0f921"
             ]
            ],
            "type": "surface"
           }
          ],
          "table": [
           {
            "cells": {
             "fill": {
              "color": "#EBF0F8"
             },
             "line": {
              "color": "white"
             }
            },
            "header": {
             "fill": {
              "color": "#C8D4E3"
             },
             "line": {
              "color": "white"
             }
            },
            "type": "table"
           }
          ]
         },
         "layout": {
          "annotationdefaults": {
           "arrowcolor": "#2a3f5f",
           "arrowhead": 0,
           "arrowwidth": 1
          },
          "autotypenumbers": "strict",
          "coloraxis": {
           "colorbar": {
            "outlinewidth": 0,
            "ticks": ""
           }
          },
          "colorscale": {
           "diverging": [
            [
             0,
             "#8e0152"
            ],
            [
             0.1,
             "#c51b7d"
            ],
            [
             0.2,
             "#de77ae"
            ],
            [
             0.3,
             "#f1b6da"
            ],
            [
             0.4,
             "#fde0ef"
            ],
            [
             0.5,
             "#f7f7f7"
            ],
            [
             0.6,
             "#e6f5d0"
            ],
            [
             0.7,
             "#b8e186"
            ],
            [
             0.8,
             "#7fbc41"
            ],
            [
             0.9,
             "#4d9221"
            ],
            [
             1,
             "#276419"
            ]
           ],
           "sequential": [
            [
             0,
             "#0d0887"
            ],
            [
             0.1111111111111111,
             "#46039f"
            ],
            [
             0.2222222222222222,
             "#7201a8"
            ],
            [
             0.3333333333333333,
             "#9c179e"
            ],
            [
             0.4444444444444444,
             "#bd3786"
            ],
            [
             0.5555555555555556,
             "#d8576b"
            ],
            [
             0.6666666666666666,
             "#ed7953"
            ],
            [
             0.7777777777777778,
             "#fb9f3a"
            ],
            [
             0.8888888888888888,
             "#fdca26"
            ],
            [
             1,
             "#f0f921"
            ]
           ],
           "sequentialminus": [
            [
             0,
             "#0d0887"
            ],
            [
             0.1111111111111111,
             "#46039f"
            ],
            [
             0.2222222222222222,
             "#7201a8"
            ],
            [
             0.3333333333333333,
             "#9c179e"
            ],
            [
             0.4444444444444444,
             "#bd3786"
            ],
            [
             0.5555555555555556,
             "#d8576b"
            ],
            [
             0.6666666666666666,
             "#ed7953"
            ],
            [
             0.7777777777777778,
             "#fb9f3a"
            ],
            [
             0.8888888888888888,
             "#fdca26"
            ],
            [
             1,
             "#f0f921"
            ]
           ]
          },
          "colorway": [
           "#636efa",
           "#EF553B",
           "#00cc96",
           "#ab63fa",
           "#FFA15A",
           "#19d3f3",
           "#FF6692",
           "#B6E880",
           "#FF97FF",
           "#FECB52"
          ],
          "font": {
           "color": "#2a3f5f"
          },
          "geo": {
           "bgcolor": "white",
           "lakecolor": "white",
           "landcolor": "white",
           "showlakes": true,
           "showland": true,
           "subunitcolor": "#C8D4E3"
          },
          "hoverlabel": {
           "align": "left"
          },
          "hovermode": "closest",
          "mapbox": {
           "style": "light"
          },
          "paper_bgcolor": "white",
          "plot_bgcolor": "white",
          "polar": {
           "angularaxis": {
            "gridcolor": "#EBF0F8",
            "linecolor": "#EBF0F8",
            "ticks": ""
           },
           "bgcolor": "white",
           "radialaxis": {
            "gridcolor": "#EBF0F8",
            "linecolor": "#EBF0F8",
            "ticks": ""
           }
          },
          "scene": {
           "xaxis": {
            "backgroundcolor": "white",
            "gridcolor": "#DFE8F3",
            "gridwidth": 2,
            "linecolor": "#EBF0F8",
            "showbackground": true,
            "ticks": "",
            "zerolinecolor": "#EBF0F8"
           },
           "yaxis": {
            "backgroundcolor": "white",
            "gridcolor": "#DFE8F3",
            "gridwidth": 2,
            "linecolor": "#EBF0F8",
            "showbackground": true,
            "ticks": "",
            "zerolinecolor": "#EBF0F8"
           },
           "zaxis": {
            "backgroundcolor": "white",
            "gridcolor": "#DFE8F3",
            "gridwidth": 2,
            "linecolor": "#EBF0F8",
            "showbackground": true,
            "ticks": "",
            "zerolinecolor": "#EBF0F8"
           }
          },
          "shapedefaults": {
           "line": {
            "color": "#2a3f5f"
           }
          },
          "ternary": {
           "aaxis": {
            "gridcolor": "#DFE8F3",
            "linecolor": "#A2B1C6",
            "ticks": ""
           },
           "baxis": {
            "gridcolor": "#DFE8F3",
            "linecolor": "#A2B1C6",
            "ticks": ""
           },
           "bgcolor": "white",
           "caxis": {
            "gridcolor": "#DFE8F3",
            "linecolor": "#A2B1C6",
            "ticks": ""
           }
          },
          "title": {
           "x": 0.05
          },
          "xaxis": {
           "automargin": true,
           "gridcolor": "#EBF0F8",
           "linecolor": "#EBF0F8",
           "ticks": "",
           "title": {
            "standoff": 15
           },
           "zerolinecolor": "#EBF0F8",
           "zerolinewidth": 2
          },
          "yaxis": {
           "automargin": true,
           "gridcolor": "#EBF0F8",
           "linecolor": "#EBF0F8",
           "ticks": "",
           "title": {
            "standoff": 15
           },
           "zerolinecolor": "#EBF0F8",
           "zerolinewidth": 2
          }
         }
        },
        "title": {
         "text": "Dose 3 Positive"
        },
        "width": 500,
        "xaxis": {
         "constrain": "domain",
         "domain": [
          0.02941176470588236,
          0.9705882352941176
         ],
         "linecolor": "black",
         "range": [
          0,
          1
         ],
         "title": {
          "text": "False Positive Rate"
         },
         "type": "linear"
        },
        "yaxis": {
         "domain": [
          0,
          1
         ],
         "linecolor": "black",
         "range": [
          0,
          1
         ],
         "scaleanchor": "x",
         "scaleratio": 1,
         "title": {
          "text": "True Positive Rate"
         },
         "type": "linear"
        }
       }
      },
      "image/png": "[encoded data removed]",
      "text/html": [
       "<div>                            <div id=\"f3b329f6-0e64-4436-8b00-1174a49d4996\" class=\"plotly-graph-div\" style=\"height:500px; width:500px;\"></div>            <script type=\"text/javascript\">                require([\"plotly\"], function(Plotly) {                    window.PLOTLYENV=window.PLOTLYENV || {};                                    if (document.getElementById(\"f3b329f6-0e64-4436-8b00-1174a49d4996\")) {                    Plotly.newPlot(                        \"f3b329f6-0e64-4436-8b00-1174a49d4996\",                        [{\"hoverinfo\":\"skip\",\"line\":{\"color\":\"rgba( 152,52, 219, 0.5)\",\"width\":1},\"name\":\"SD\",\"showlegend\":true,\"x\":[0.0,0.010101010101010102,0.020202020202020204,0.030303030303030304,0.04040404040404041,0.05050505050505051,0.06060606060606061,0.07070707070707072,0.08080808080808081,0.09090909090909091,0.10101010101010102,0.11111111111111112,0.12121212121212122,0.13131313131313133,0.14141414141414144,0.15151515151515152,0.16161616161616163,0.17171717171717174,0.18181818181818182,0.19191919191919193,0.20202020202020204,0.21212121212121213,0.22222222222222224,0.23232323232323235,0.24242424242424243,0.25252525252525254,0.26262626262626265,0.27272727272727276,0.2828282828282829,0.29292929292929293,0.30303030303030304,0.31313131313131315,0.32323232323232326,0.33333333333333337,0.3434343434343435,0.3535353535353536,0.36363636363636365,0.37373737373737376,0.38383838383838387,0.393939393939394,0.4040404040404041,0.4141414141414142,0.42424242424242425,0.43434343434343436,0.4444444444444445,0.4545454545454546,0.4646464646464647,0.4747474747474748,0.48484848484848486,0.494949494949495,0.5050505050505051,0.5151515151515152,0.5252525252525253,0.5353535353535354,0.5454545454545455,0.5555555555555556,0.5656565656565657,0.5757575757575758,0.5858585858585859,0.595959595959596,0.6060606060606061,0.6161616161616162,0.6262626262626263,0.6363636363636365,0.6464646464646465,0.6565656565656566,0.6666666666666667,0.6767676767676768,0.686868686868687,0.696969696969697,0.7070707070707072,0.7171717171717172,0.7272727272727273,0.7373737373737375,0.7474747474747475,0.7575757575757577,0.7676767676767677,0.7777777777777778,0.787878787878788,0.797979797979798,0.8080808080808082,0.8181818181818182,0.8282828282828284,0.8383838383838385,0.8484848484848485,0.8585858585858587,0.8686868686868687,0.8787878787878789,0.888888888888889,0.8989898989898991,0.9090909090909092,0.9191919191919192,0.9292929292929294,0.9393939393939394,0.9494949494949496,0.9595959595959597,0.9696969696969697,0.9797979797979799,0.98989898989899,1.0],\"y\":[0.0,1.0,1.0,1.0,1.0,1.0,1.0,1.0,1.0,1.0,1.0,1.0,1.0,1.0,1.0,1.0,1.0,1.0,1.0,1.0,1.0,1.0,1.0,1.0,1.0,1.0,1.0,1.0,1.0,1.0,1.0,1.0,1.0,1.0,1.0,1.0,1.0,1.0,1.0,1.0,1.0,1.0,1.0,1.0,1.0,1.0,1.0,1.0,1.0,1.0,1.0,1.0,1.0,1.0,1.0,1.0,1.0,1.0,1.0,1.0,1.0,1.0,1.0,1.0,1.0,1.0,1.0,1.0,1.0,1.0,1.0,1.0,1.0,1.0,1.0,1.0,1.0,1.0,1.0,1.0,1.0,1.0,1.0,1.0,1.0,1.0,1.0,1.0,1.0,1.0,1.0,1.0,1.0,1.0,1.0,1.0,1.0,1.0,1.0,1.0],\"type\":\"scatter\"},{\"fill\":\"tonexty\",\"fillcolor\":\"rgba( 152,52, 219, 0.2)\",\"hoverinfo\":\"skip\",\"line\":{\"color\":\"rgba( 152,52, 219, 0.5)\",\"width\":1},\"name\":\"lower\",\"showlegend\":false,\"x\":[0.0,0.010101010101010102,0.020202020202020204,0.030303030303030304,0.04040404040404041,0.05050505050505051,0.06060606060606061,0.07070707070707072,0.08080808080808081,0.09090909090909091,0.10101010101010102,0.11111111111111112,0.12121212121212122,0.13131313131313133,0.14141414141414144,0.15151515151515152,0.16161616161616163,0.17171717171717174,0.18181818181818182,0.19191919191919193,0.20202020202020204,0.21212121212121213,0.22222222222222224,0.23232323232323235,0.24242424242424243,0.25252525252525254,0.26262626262626265,0.27272727272727276,0.2828282828282829,0.29292929292929293,0.30303030303030304,0.31313131313131315,0.32323232323232326,0.33333333333333337,0.3434343434343435,0.3535353535353536,0.36363636363636365,0.37373737373737376,0.38383838383838387,0.393939393939394,0.4040404040404041,0.4141414141414142,0.42424242424242425,0.43434343434343436,0.4444444444444445,0.4545454545454546,0.4646464646464647,0.4747474747474748,0.48484848484848486,0.494949494949495,0.5050505050505051,0.5151515151515152,0.5252525252525253,0.5353535353535354,0.5454545454545455,0.5555555555555556,0.5656565656565657,0.5757575757575758,0.5858585858585859,0.595959595959596,0.6060606060606061,0.6161616161616162,0.6262626262626263,0.6363636363636365,0.6464646464646465,0.6565656565656566,0.6666666666666667,0.6767676767676768,0.686868686868687,0.696969696969697,0.7070707070707072,0.7171717171717172,0.7272727272727273,0.7373737373737375,0.7474747474747475,0.7575757575757577,0.7676767676767677,0.7777777777777778,0.787878787878788,0.797979797979798,0.8080808080808082,0.8181818181818182,0.8282828282828284,0.8383838383838385,0.8484848484848485,0.8585858585858587,0.8686868686868687,0.8787878787878789,0.888888888888889,0.8989898989898991,0.9090909090909092,0.9191919191919192,0.9292929292929294,0.9393939393939394,0.9494949494949496,0.9595959595959597,0.9696969696969697,0.9797979797979799,0.98989898989899,1.0],\"y\":[0.0,0.41458980337503154,0.41458980337503154,0.41458980337503154,0.41458980337503154,0.41458980337503154,0.41458980337503154,0.41458980337503154,0.41458980337503154,0.41458980337503154,0.41458980337503154,0.41458980337503154,0.41458980337503154,0.41458980337503154,0.41458980337503154,0.41458980337503154,0.41458980337503154,0.5298437881283575,0.5298437881283575,0.5298437881283575,0.6000000000000001,0.6000000000000001,0.6000000000000001,0.6000000000000001,0.6000000000000001,0.6000000000000001,0.6000000000000001,0.6000000000000001,0.6000000000000001,0.6000000000000001,0.6000000000000001,0.6000000000000001,0.6000000000000001,0.6000000000000001,0.6000000000000001,0.6000000000000001,0.6000000000000001,0.6000000000000001,0.6000000000000001,0.6000000000000001,1.0,1.0,1.0,1.0,1.0,1.0,1.0,1.0,1.0,1.0,1.0,1.0,1.0,1.0,1.0,1.0,1.0,1.0,1.0,1.0,1.0,1.0,1.0,1.0,1.0,1.0,1.0,1.0,1.0,1.0,1.0,1.0,1.0,1.0,1.0,1.0,1.0,1.0,1.0,1.0,1.0,1.0,1.0,1.0,1.0,1.0,1.0,1.0,1.0,1.0,1.0,1.0,1.0,1.0,1.0,1.0,1.0,1.0,1.0,1.0],\"type\":\"scatter\"},{\"hoverinfo\":\"skip\",\"line\":{\"color\":\"rgba( 128,41, 185, 1.0)\",\"width\":2},\"name\":\"AUC: 0.933\",\"showlegend\":true,\"x\":[0.0,0.010101010101010102,0.020202020202020204,0.030303030303030304,0.04040404040404041,0.05050505050505051,0.06060606060606061,0.07070707070707072,0.08080808080808081,0.09090909090909091,0.10101010101010102,0.11111111111111112,0.12121212121212122,0.13131313131313133,0.14141414141414144,0.15151515151515152,0.16161616161616163,0.17171717171717174,0.18181818181818182,0.19191919191919193,0.20202020202020204,0.21212121212121213,0.22222222222222224,0.23232323232323235,0.24242424242424243,0.25252525252525254,0.26262626262626265,0.27272727272727276,0.2828282828282829,0.29292929292929293,0.30303030303030304,0.31313131313131315,0.32323232323232326,0.33333333333333337,0.3434343434343435,0.3535353535353536,0.36363636363636365,0.37373737373737376,0.38383838383838387,0.393939393939394,0.4040404040404041,0.4141414141414142,0.42424242424242425,0.43434343434343436,0.4444444444444445,0.4545454545454546,0.4646464646464647,0.4747474747474748,0.48484848484848486,0.494949494949495,0.5050505050505051,0.5151515151515152,0.5252525252525253,0.5353535353535354,0.5454545454545455,0.5555555555555556,0.5656565656565657,0.5757575757575758,0.5858585858585859,0.595959595959596,0.6060606060606061,0.6161616161616162,0.6262626262626263,0.6363636363636365,0.6464646464646465,0.6565656565656566,0.6666666666666667,0.6767676767676768,0.686868686868687,0.696969696969697,0.7070707070707072,0.7171717171717172,0.7272727272727273,0.7373737373737375,0.7474747474747475,0.7575757575757577,0.7676767676767677,0.7777777777777778,0.787878787878788,0.797979797979798,0.8080808080808082,0.8181818181818182,0.8282828282828284,0.8383838383838385,0.8484848484848485,0.8585858585858587,0.8686868686868687,0.8787878787878789,0.888888888888889,0.8989898989898991,0.9090909090909092,0.9191919191919192,0.9292929292929294,0.9393939393939394,0.9494949494949496,0.9595959595959597,0.9696969696969697,0.9797979797979799,0.98989898989899,1.0],\"y\":[0.0,0.75,0.75,0.75,0.75,0.75,0.75,0.75,0.75,0.75,0.75,0.75,0.75,0.75,0.75,0.75,0.75,0.85,0.85,0.85,0.9,0.9,0.9,0.9,0.9,0.9,0.9,0.9,0.9,0.9,0.9,0.9,0.9,0.9,0.9,0.9,0.9,0.9,0.9,0.9,1.0,1.0,1.0,1.0,1.0,1.0,1.0,1.0,1.0,1.0,1.0,1.0,1.0,1.0,1.0,1.0,1.0,1.0,1.0,1.0,1.0,1.0,1.0,1.0,1.0,1.0,1.0,1.0,1.0,1.0,1.0,1.0,1.0,1.0,1.0,1.0,1.0,1.0,1.0,1.0,1.0,1.0,1.0,1.0,1.0,1.0,1.0,1.0,1.0,1.0,1.0,1.0,1.0,1.0,1.0,1.0,1.0,1.0,1.0,1.0],\"type\":\"scatter\"}],                        {\"template\":{\"data\":{\"barpolar\":[{\"marker\":{\"line\":{\"color\":\"white\",\"width\":0.5},\"pattern\":{\"fillmode\":\"overlay\",\"size\":10,\"solidity\":0.2}},\"type\":\"barpolar\"}],\"bar\":[{\"error_x\":{\"color\":\"#2a3f5f\"},\"error_y\":{\"color\":\"#2a3f5f\"},\"marker\":{\"line\":{\"color\":\"white\",\"width\":0.5},\"pattern\":{\"fillmode\":\"overlay\",\"size\":10,\"solidity\":0.2}},\"type\":\"bar\"}],\"carpet\":[{\"aaxis\":{\"endlinecolor\":\"#2a3f5f\",\"gridcolor\":\"#C8D4E3\",\"linecolor\":\"#C8D4E3\",\"minorgridcolor\":\"#C8D4E3\",\"startlinecolor\":\"#2a3f5f\"},\"baxis\":{\"endlinecolor\":\"#2a3f5f\",\"gridcolor\":\"#C8D4E3\",\"linecolor\":\"#C8D4E3\",\"minorgridcolor\":\"#C8D4E3\",\"startlinecolor\":\"#2a3f5f\"},\"type\":\"carpet\"}],\"choropleth\":[{\"colorbar\":{\"outlinewidth\":0,\"ticks\":\"\"},\"type\":\"choropleth\"}],\"contourcarpet\":[{\"colorbar\":{\"outlinewidth\":0,\"ticks\":\"\"},\"type\":\"contourcarpet\"}],\"contour\":[{\"colorbar\":{\"outlinewidth\":0,\"ticks\":\"\"},\"colorscale\":[[0.0,\"#0d0887\"],[0.1111111111111111,\"#46039f\"],[0.2222222222222222,\"#7201a8\"],[0.3333333333333333,\"#9c179e\"],[0.4444444444444444,\"#bd3786\"],[0.5555555555555556,\"#d8576b\"],[0.6666666666666666,\"#ed7953\"],[0.7777777777777778,\"#fb9f3a\"],[0.8888888888888888,\"#fdca26\"],[1.0,\"#f0f921\"]],\"type\":\"contour\"}],\"heatmapgl\":[{\"colorbar\":{\"outlinewidth\":0,\"ticks\":\"\"},\"colorscale\":[[0.0,\"#0d0887\"],[0.1111111111111111,\"#46039f\"],[0.2222222222222222,\"#7201a8\"],[0.3333333333333333,\"#9c179e\"],[0.4444444444444444,\"#bd3786\"],[0.5555555555555556,\"#d8576b\"],[0.6666666666666666,\"#ed7953\"],[0.7777777777777778,\"#fb9f3a\"],[0.8888888888888888,\"#fdca26\"],[1.0,\"#f0f921\"]],\"type\":\"heatmapgl\"}],\"heatmap\":[{\"colorbar\":{\"outlinewidth\":0,\"ticks\":\"\"},\"colorscale\":[[0.0,\"#0d0887\"],[0.1111111111111111,\"#46039f\"],[0.2222222222222222,\"#7201a8\"],[0.3333333333333333,\"#9c179e\"],[0.4444444444444444,\"#bd3786\"],[0.5555555555555556,\"#d8576b\"],[0.6666666666666666,\"#ed7953\"],[0.7777777777777778,\"#fb9f3a\"],[0.8888888888888888,\"#fdca26\"],[1.0,\"#f0f921\"]],\"type\":\"heatmap\"}],\"histogram2dcontour\":[{\"colorbar\":{\"outlinewidth\":0,\"ticks\":\"\"},\"colorscale\":[[0.0,\"#0d0887\"],[0.1111111111111111,\"#46039f\"],[0.2222222222222222,\"#7201a8\"],[0.3333333333333333,\"#9c179e\"],[0.4444444444444444,\"#bd3786\"],[0.5555555555555556,\"#d8576b\"],[0.6666666666666666,\"#ed7953\"],[0.7777777777777778,\"#fb9f3a\"],[0.8888888888888888,\"#fdca26\"],[1.0,\"#f0f921\"]],\"type\":\"histogram2dcontour\"}],\"histogram2d\":[{\"colorbar\":{\"outlinewidth\":0,\"ticks\":\"\"},\"colorscale\":[[0.0,\"#0d0887\"],[0.1111111111111111,\"#46039f\"],[0.2222222222222222,\"#7201a8\"],[0.3333333333333333,\"#9c179e\"],[0.4444444444444444,\"#bd3786\"],[0.5555555555555556,\"#d8576b\"],[0.6666666666666666,\"#ed7953\"],[0.7777777777777778,\"#fb9f3a\"],[0.8888888888888888,\"#fdca26\"],[1.0,\"#f0f921\"]],\"type\":\"histogram2d\"}],\"histogram\":[{\"marker\":{\"pattern\":{\"fillmode\":\"overlay\",\"size\":10,\"solidity\":0.2}},\"type\":\"histogram\"}],\"mesh3d\":[{\"colorbar\":{\"outlinewidth\":0,\"ticks\":\"\"},\"type\":\"mesh3d\"}],\"parcoords\":[{\"line\":{\"colorbar\":{\"outlinewidth\":0,\"ticks\":\"\"}},\"type\":\"parcoords\"}],\"pie\":[{\"automargin\":true,\"type\":\"pie\"}],\"scatter3d\":[{\"line\":{\"colorbar\":{\"outlinewidth\":0,\"ticks\":\"\"}},\"marker\":{\"colorbar\":{\"outlinewidth\":0,\"ticks\":\"\"}},\"type\":\"scatter3d\"}],\"scattercarpet\":[{\"marker\":{\"colorbar\":{\"outlinewidth\":0,\"ticks\":\"\"}},\"type\":\"scattercarpet\"}],\"scattergeo\":[{\"marker\":{\"colorbar\":{\"outlinewidth\":0,\"ticks\":\"\"}},\"type\":\"scattergeo\"}],\"scattergl\":[{\"marker\":{\"colorbar\":{\"outlinewidth\":0,\"ticks\":\"\"}},\"type\":\"scattergl\"}],\"scattermapbox\":[{\"marker\":{\"colorbar\":{\"outlinewidth\":0,\"ticks\":\"\"}},\"type\":\"scattermapbox\"}],\"scatterpolargl\":[{\"marker\":{\"colorbar\":{\"outlinewidth\":0,\"ticks\":\"\"}},\"type\":\"scatterpolargl\"}],\"scatterpolar\":[{\"marker\":{\"colorbar\":{\"outlinewidth\":0,\"ticks\":\"\"}},\"type\":\"scatterpolar\"}],\"scatter\":[{\"fillpattern\":{\"fillmode\":\"overlay\",\"size\":10,\"solidity\":0.2},\"type\":\"scatter\"}],\"scatterternary\":[{\"marker\":{\"colorbar\":{\"outlinewidth\":0,\"ticks\":\"\"}},\"type\":\"scatterternary\"}],\"surface\":[{\"colorbar\":{\"outlinewidth\":0,\"ticks\":\"\"},\"colorscale\":[[0.0,\"#0d0887\"],[0.1111111111111111,\"#46039f\"],[0.2222222222222222,\"#7201a8\"],[0.3333333333333333,\"#9c179e\"],[0.4444444444444444,\"#bd3786\"],[0.5555555555555556,\"#d8576b\"],[0.6666666666666666,\"#ed7953\"],[0.7777777777777778,\"#fb9f3a\"],[0.8888888888888888,\"#fdca26\"],[1.0,\"#f0f921\"]],\"type\":\"surface\"}],\"table\":[{\"cells\":{\"fill\":{\"color\":\"#EBF0F8\"},\"line\":{\"color\":\"white\"}},\"header\":{\"fill\":{\"color\":\"#C8D4E3\"},\"line\":{\"color\":\"white\"}},\"type\":\"table\"}]},\"layout\":{\"annotationdefaults\":{\"arrowcolor\":\"#2a3f5f\",\"arrowhead\":0,\"arrowwidth\":1},\"autotypenumbers\":\"strict\",\"coloraxis\":{\"colorbar\":{\"outlinewidth\":0,\"ticks\":\"\"}},\"colorscale\":{\"diverging\":[[0,\"#8e0152\"],[0.1,\"#c51b7d\"],[0.2,\"#de77ae\"],[0.3,\"#f1b6da\"],[0.4,\"#fde0ef\"],[0.5,\"#f7f7f7\"],[0.6,\"#e6f5d0\"],[0.7,\"#b8e186\"],[0.8,\"#7fbc41\"],[0.9,\"#4d9221\"],[1,\"#276419\"]],\"sequential\":[[0.0,\"#0d0887\"],[0.1111111111111111,\"#46039f\"],[0.2222222222222222,\"#7201a8\"],[0.3333333333333333,\"#9c179e\"],[0.4444444444444444,\"#bd3786\"],[0.5555555555555556,\"#d8576b\"],[0.6666666666666666,\"#ed7953\"],[0.7777777777777778,\"#fb9f3a\"],[0.8888888888888888,\"#fdca26\"],[1.0,\"#f0f921\"]],\"sequentialminus\":[[0.0,\"#0d0887\"],[0.1111111111111111,\"#46039f\"],[0.2222222222222222,\"#7201a8\"],[0.3333333333333333,\"#9c179e\"],[0.4444444444444444,\"#bd3786\"],[0.5555555555555556,\"#d8576b\"],[0.6666666666666666,\"#ed7953\"],[0.7777777777777778,\"#fb9f3a\"],[0.8888888888888888,\"#fdca26\"],[1.0,\"#f0f921\"]]},\"colorway\":[\"#636efa\",\"#EF553B\",\"#00cc96\",\"#ab63fa\",\"#FFA15A\",\"#19d3f3\",\"#FF6692\",\"#B6E880\",\"#FF97FF\",\"#FECB52\"],\"font\":{\"color\":\"#2a3f5f\"},\"geo\":{\"bgcolor\":\"white\",\"lakecolor\":\"white\",\"landcolor\":\"white\",\"showlakes\":true,\"showland\":true,\"subunitcolor\":\"#C8D4E3\"},\"hoverlabel\":{\"align\":\"left\"},\"hovermode\":\"closest\",\"mapbox\":{\"style\":\"light\"},\"paper_bgcolor\":\"white\",\"plot_bgcolor\":\"white\",\"polar\":{\"angularaxis\":{\"gridcolor\":\"#EBF0F8\",\"linecolor\":\"#EBF0F8\",\"ticks\":\"\"},\"bgcolor\":\"white\",\"radialaxis\":{\"gridcolor\":\"#EBF0F8\",\"linecolor\":\"#EBF0F8\",\"ticks\":\"\"}},\"scene\":{\"xaxis\":{\"backgroundcolor\":\"white\",\"gridcolor\":\"#DFE8F3\",\"gridwidth\":2,\"linecolor\":\"#EBF0F8\",\"showbackground\":true,\"ticks\":\"\",\"zerolinecolor\":\"#EBF0F8\"},\"yaxis\":{\"backgroundcolor\":\"white\",\"gridcolor\":\"#DFE8F3\",\"gridwidth\":2,\"linecolor\":\"#EBF0F8\",\"showbackground\":true,\"ticks\":\"\",\"zerolinecolor\":\"#EBF0F8\"},\"zaxis\":{\"backgroundcolor\":\"white\",\"gridcolor\":\"#DFE8F3\",\"gridwidth\":2,\"linecolor\":\"#EBF0F8\",\"showbackground\":true,\"ticks\":\"\",\"zerolinecolor\":\"#EBF0F8\"}},\"shapedefaults\":{\"line\":{\"color\":\"#2a3f5f\"}},\"ternary\":{\"aaxis\":{\"gridcolor\":\"#DFE8F3\",\"linecolor\":\"#A2B1C6\",\"ticks\":\"\"},\"baxis\":{\"gridcolor\":\"#DFE8F3\",\"linecolor\":\"#A2B1C6\",\"ticks\":\"\"},\"bgcolor\":\"white\",\"caxis\":{\"gridcolor\":\"#DFE8F3\",\"linecolor\":\"#A2B1C6\",\"ticks\":\"\"}},\"title\":{\"x\":0.05},\"xaxis\":{\"automargin\":true,\"gridcolor\":\"#EBF0F8\",\"linecolor\":\"#EBF0F8\",\"ticks\":\"\",\"title\":{\"standoff\":15},\"zerolinecolor\":\"#EBF0F8\",\"zerolinewidth\":2},\"yaxis\":{\"automargin\":true,\"gridcolor\":\"#EBF0F8\",\"linecolor\":\"#EBF0F8\",\"ticks\":\"\",\"title\":{\"standoff\":15},\"zerolinecolor\":\"#EBF0F8\",\"zerolinewidth\":2}}},\"shapes\":[{\"line\":{\"dash\":\"dash\"},\"type\":\"line\",\"x0\":0,\"x1\":1,\"y0\":0,\"y1\":1}],\"title\":{\"text\":\"Dose 3 Positive\"},\"legend\":{\"yanchor\":\"bottom\",\"xanchor\":\"right\",\"x\":0.95,\"y\":0.01},\"xaxis\":{\"title\":{\"text\":\"False Positive Rate\"},\"range\":[0,1],\"constrain\":\"domain\",\"linecolor\":\"black\"},\"yaxis\":{\"title\":{\"text\":\"True Positive Rate\"},\"range\":[0,1],\"scaleanchor\":\"x\",\"scaleratio\":1,\"linecolor\":\"black\"},\"width\":500,\"height\":500},                        {\"responsive\": true}                    ).then(function(){\n",
       "                            \n",
       "var gd = document.getElementById('f3b329f6-0e64-4436-8b00-1174a49d4996');\n",
       "var x = new MutationObserver(function (mutations, observer) {{\n",
       "        var display = window.getComputedStyle(gd).display;\n",
       "        if (!display || display === 'none') {{\n",
       "            console.log([gd, 'removed!']);\n",
       "            Plotly.purge(gd);\n",
       "            observer.disconnect();\n",
       "        }}\n",
       "}});\n",
       "\n",
       "// Listen for the removal of the full notebook cells\n",
       "var notebookContainer = gd.closest('#notebook-container');\n",
       "if (notebookContainer) {{\n",
       "    x.observe(notebookContainer, {childList: true});\n",
       "}}\n",
       "\n",
       "// Listen for the clearing of the current output cell\n",
       "var outputEl = gd.closest('.output');\n",
       "if (outputEl) {{\n",
       "    x.observe(outputEl, {childList: true});\n",
       "}}\n",
       "\n",
       "                        })                };                });            </script>        </div>"
      ]
     },
     "metadata": {},
     "output_type": "display_data"
    }
   ],
   "source": [
    "c_line      = 'rgba( 152,52, 219, 0.5)'\n",
    "c_fill      = 'rgba( 152,52, 219, 0.2)'\n",
    "c_line_main = 'rgba( 128,41, 185, 1.0)'\n",
    "c_grid      = 'rgba( 195,189, 199, 0.5)'\n",
    "\n",
    "fig4 = go.Figure([\n",
    "    go.Scatter(\n",
    "        x          = fpr_mean,\n",
    "        y          = tpr_upper_d3_p,\n",
    "        line       = dict(color=c_line, width=1),\n",
    "        hoverinfo  = \"skip\",\n",
    "        showlegend = True,\n",
    "        name       = 'SD'),\n",
    "    go.Scatter(\n",
    "        x          = fpr_mean,\n",
    "        y          = tpr_lower_d3_p,\n",
    "        fill       = 'tonexty',\n",
    "        fillcolor  = c_fill,\n",
    "        line       = dict(color=c_line, width=1),\n",
    "        hoverinfo  = \"skip\",\n",
    "        showlegend = False,\n",
    "        name       = 'lower'),\n",
    "    go.Scatter(\n",
    "        x          = fpr_mean,\n",
    "        y          = tpr_mean_d3_p,\n",
    "        line       = dict(color=c_line_main, width=2),\n",
    "        hoverinfo  = \"skip\",\n",
    "        showlegend = True,\n",
    "        name       = 'AUC: 0.933')\n",
    "]\n",
    ")\n",
    "fig4.add_shape(\n",
    "    type ='line', \n",
    "    line =dict(dash='dash'),\n",
    "    x0=0, x1=1, y0=0, y1=1\n",
    ")\n",
    "fig4.update_layout(\n",
    "    template    = 'plotly_white', \n",
    "    title_x     = 0.5,\n",
    "    title = \"Dose 3 Positive\",\n",
    "    xaxis_title = \"False Positive Rate\",\n",
    "    yaxis_title = \"True Positive Rate\",\n",
    "    width       = 500,\n",
    "    height      = 500,\n",
    "    legend      = dict(\n",
    "        yanchor=\"bottom\", \n",
    "        xanchor=\"right\", \n",
    "        x=0.95,\n",
    "        y=0.01,\n",
    "    )\n",
    ")\n",
    "fig4.update_yaxes(\n",
    "    range       = [0, 1],\n",
    "    scaleanchor = \"x\", \n",
    "    scaleratio  = 1,\n",
    "    linecolor   = 'black')\n",
    "fig4.update_xaxes(\n",
    "    range       = [0, 1],\n",
    "    constrain   = 'domain',\n",
    "    linecolor   = 'black')\n",
    "fig4.write_image(\"fig_ml_D.svg\")\n",
    "fig4"
   ]
  },
  {
   "cell_type": "code",
   "execution_count": 30,
   "id": "d6e466fb-cbc5-42a4-abaf-9ad9ec17ea56",
   "metadata": {},
   "outputs": [],
   "source": [
    "df =data[\"data\"]['[SVM_RFE]']\n",
    "df.to_csv(fold + \"/res/table.csv\",index=False)\n"
   ]
  }
 ],
 "metadata": {
  "kernelspec": {
   "display_name": "Python 3 (ipykernel)",
   "language": "python",
   "name": "python3"
  },
  "language_info": {
   "codemirror_mode": {
    "name": "ipython",
    "version": 3
   },
   "file_extension": ".py",
   "mimetype": "text/x-python",
   "name": "python",
   "nbconvert_exporter": "python",
   "pygments_lexer": "ipython3",
   "version": "3.9.16"
  }
 },
 "nbformat": 4,
 "nbformat_minor": 5
}
