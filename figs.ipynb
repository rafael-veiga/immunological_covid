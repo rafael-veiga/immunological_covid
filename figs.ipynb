{
 "cells": [
  {
   "cell_type": "code",
   "execution_count": 7,
   "id": "99141d3a-56c2-487e-87de-d63fdf8eac19",
   "metadata": {},
   "outputs": [],
   "source": [
    "import plotly.express as px\n",
    "from sklearn.preprocessing import StandardScaler\n",
    "from sklearn.decomposition import PCA\n",
    "from sklearn.discriminant_analysis import LinearDiscriminantAnalysis\n",
    "import umap\n",
    "from plotly.subplots import make_subplots\n",
    "import plotly.graph_objects as go\n",
    "import pickle as pk\n",
    "import pandas as pd\n",
    "import numpy as np\n",
    "from sklearn.metrics import roc_curve,auc,calinski_harabasz_score\n",
    "from sklearn.decomposition import PCA\n",
    "from sklearn.manifold import TSNE\n",
    "import os\n",
    "fold = os.getcwd()"
   ]
  },
  {
   "cell_type": "markdown",
   "id": "b1bbe675-2dab-4392-98f8-2408c7737778",
   "metadata": {},
   "source": [
    "## Fig 1"
   ]
  },
  {
   "cell_type": "code",
   "execution_count": 2,
   "id": "50d86bc6-280d-4c04-971f-28a5bc054d1f",
   "metadata": {},
   "outputs": [
    {
     "name": "stderr",
     "output_type": "stream",
     "text": [
      "C:\\Users\\rafae\\AppData\\Local\\Temp\\ipykernel_11656\\3897926081.py:17: SettingWithCopyWarning: \n",
      "A value is trying to be set on a copy of a slice from a DataFrame.\n",
      "Try using .loc[row_indexer,col_indexer] = value instead\n",
      "\n",
      "See the caveats in the documentation: https://pandas.pydata.org/pandas-docs/stable/user_guide/indexing.html#returning-a-view-versus-a-copy\n",
      "  d2_d.loc[d2_d.index,\"cib\"] = d2_d.ci2 -d2_d[\"or\"]\n",
      "C:\\Users\\rafae\\AppData\\Local\\Temp\\ipykernel_11656\\3897926081.py:18: SettingWithCopyWarning: \n",
      "A value is trying to be set on a copy of a slice from a DataFrame.\n",
      "Try using .loc[row_indexer,col_indexer] = value instead\n",
      "\n",
      "See the caveats in the documentation: https://pandas.pydata.org/pandas-docs/stable/user_guide/indexing.html#returning-a-view-versus-a-copy\n",
      "  d2_d.loc[d2_d.index,\"cia\"] = d2_d[\"or\"] - d2_d.ci1\n",
      "C:\\Users\\rafae\\AppData\\Local\\Temp\\ipykernel_11656\\3897926081.py:21: SettingWithCopyWarning: \n",
      "A value is trying to be set on a copy of a slice from a DataFrame.\n",
      "Try using .loc[row_indexer,col_indexer] = value instead\n",
      "\n",
      "See the caveats in the documentation: https://pandas.pydata.org/pandas-docs/stable/user_guide/indexing.html#returning-a-view-versus-a-copy\n",
      "  d3_p.loc[d3_p.index,\"cib\"] = d3_p.ci2 -d3_p[\"or\"]\n",
      "C:\\Users\\rafae\\AppData\\Local\\Temp\\ipykernel_11656\\3897926081.py:22: SettingWithCopyWarning: \n",
      "A value is trying to be set on a copy of a slice from a DataFrame.\n",
      "Try using .loc[row_indexer,col_indexer] = value instead\n",
      "\n",
      "See the caveats in the documentation: https://pandas.pydata.org/pandas-docs/stable/user_guide/indexing.html#returning-a-view-versus-a-copy\n",
      "  d3_p.loc[d3_p.index,\"cia\"] = d3_p[\"or\"] - d3_p.ci1\n"
     ]
    },
    {
     "ename": "AttributeError",
     "evalue": "type object 'DOMWidget' has no attribute '_ipython_display_'",
     "output_type": "error",
     "traceback": [
      "\u001b[1;31m---------------------------------------------------------------------------\u001b[0m",
      "\u001b[1;31mAttributeError\u001b[0m                            Traceback (most recent call last)",
      "\u001b[1;32m~\\anaconda3\\envs\\ML\\lib\\site-packages\\IPython\\core\\formatters.py\u001b[0m in \u001b[0;36m__call__\u001b[1;34m(self, obj)\u001b[0m\n\u001b[0;32m    916\u001b[0m             \u001b[0mmethod\u001b[0m \u001b[1;33m=\u001b[0m \u001b[0mget_real_method\u001b[0m\u001b[1;33m(\u001b[0m\u001b[0mobj\u001b[0m\u001b[1;33m,\u001b[0m \u001b[0mself\u001b[0m\u001b[1;33m.\u001b[0m\u001b[0mprint_method\u001b[0m\u001b[1;33m)\u001b[0m\u001b[1;33m\u001b[0m\u001b[1;33m\u001b[0m\u001b[0m\n\u001b[0;32m    917\u001b[0m             \u001b[1;32mif\u001b[0m \u001b[0mmethod\u001b[0m \u001b[1;32mis\u001b[0m \u001b[1;32mnot\u001b[0m \u001b[1;32mNone\u001b[0m\u001b[1;33m:\u001b[0m\u001b[1;33m\u001b[0m\u001b[1;33m\u001b[0m\u001b[0m\n\u001b[1;32m--> 918\u001b[1;33m                 \u001b[0mmethod\u001b[0m\u001b[1;33m(\u001b[0m\u001b[1;33m)\u001b[0m\u001b[1;33m\u001b[0m\u001b[1;33m\u001b[0m\u001b[0m\n\u001b[0m\u001b[0;32m    919\u001b[0m                 \u001b[1;32mreturn\u001b[0m \u001b[1;32mTrue\u001b[0m\u001b[1;33m\u001b[0m\u001b[1;33m\u001b[0m\u001b[0m\n\u001b[0;32m    920\u001b[0m \u001b[1;33m\u001b[0m\u001b[0m\n",
      "\u001b[1;32m~\\anaconda3\\envs\\ML\\lib\\site-packages\\plotly\\basewidget.py\u001b[0m in \u001b[0;36m_ipython_display_\u001b[1;34m(self)\u001b[0m\n\u001b[0;32m    739\u001b[0m         \"\"\"\n\u001b[0;32m    740\u001b[0m         \u001b[1;31m# Override BaseFigure's display to make sure we display the widget version\u001b[0m\u001b[1;33m\u001b[0m\u001b[1;33m\u001b[0m\u001b[0m\n\u001b[1;32m--> 741\u001b[1;33m         \u001b[0mwidgets\u001b[0m\u001b[1;33m.\u001b[0m\u001b[0mDOMWidget\u001b[0m\u001b[1;33m.\u001b[0m\u001b[0m_ipython_display_\u001b[0m\u001b[1;33m(\u001b[0m\u001b[0mself\u001b[0m\u001b[1;33m)\u001b[0m\u001b[1;33m\u001b[0m\u001b[1;33m\u001b[0m\u001b[0m\n\u001b[0m\u001b[0;32m    742\u001b[0m \u001b[1;33m\u001b[0m\u001b[0m\n\u001b[0;32m    743\u001b[0m     \u001b[1;31m# Callbacks\u001b[0m\u001b[1;33m\u001b[0m\u001b[1;33m\u001b[0m\u001b[0m\n",
      "\u001b[1;31mAttributeError\u001b[0m: type object 'DOMWidget' has no attribute '_ipython_display_'"
     ]
    },
    {
     "data": {
      "application/vnd.plotly.v1+json": {
       "config": {
        "plotlyServerURL": "https://plot.ly"
       },
       "data": [
        {
         "error_x": {
          "array": [
           0.5497301775285814,
           0.4472461833948895,
           0.5170642790480784,
           2.5396820161864606,
           2.4896059138041164,
           2.711081988661857,
           3.4028888150898693,
           5.878664866193181,
           10.97859663659139,
           10.810609840551333
          ],
          "arrayminus": [
           0.22562747819843237,
           0.21261630724152916,
           0.23187106280172537,
           1.251664776276057,
           1.2484658202070975,
           1.3453809775151813,
           1.5096469429336596,
           2.104822771269723,
           2.882602537955303,
           3.2371612632326583
          ],
          "symmetric": false,
          "type": "data"
         },
         "marker": {
          "color": "black",
          "size": 6
         },
         "mode": "markers",
         "type": "scatter",
         "uid": "56026fb5-b682-4496-ba6a-73c0ab6ab32e",
         "x": [
          0.3827004029947994,
          0.4052844143306566,
          0.42038953625082565,
          2.4680030857533226,
          2.5043006065188664,
          2.670744259731648,
          2.713420177524841,
          3.278766669032465,
          3.9089616595888304,
          4.620839113183037
         ],
         "xaxis": "x",
         "y": [
          "BAFF-R+ median  :in:  BAFF-R+ CD11c- CD21+ Double Negative B Cells",
          "CD40+ Non-Classical Monocytes :in: Non-Classical Monocytes",
          "CD38+ Monocytes :in: Monocytes",
          "CD80+ CD11c+ CD21- Double Negative B Cells :in: CD11c+ CD21- Double Negative B Cells",
          "CD80+ median  :in:  CD80+ CD21- B Cells",
          "CD80+ median  :in:  CD80+ CD21- CD27+ B Cells",
          "CD38+ median  :in:  CD38+ CD27- CD4+ T Cells",
          "CD57+ median  :in:  CD57+ Double Negative T Cells",
          "CD38+ median  :in:  CD38+ Non-Classical Monocytes",
          "CD80+ median  :in:  CD80+ CD11c- CD21+ Double Negative B Cells"
         ],
         "yaxis": "y"
        },
        {
         "error_x": {
          "array": [
           0.4459561848640257,
           0.567564653759445,
           0.4334744975852627,
           0.5705184093137627,
           0.5247893736391149,
           0.5465484305420807,
           5.485556845914556,
           5.193758458548796,
           11.186588049563284,
           11.749402471435497
          ],
          "arrayminus": [
           0.10513581608667363,
           0.12451530436324446,
           0.12106772999618394,
           0.14441761300824357,
           0.14780602908764143,
           0.16086518052084764,
           1.9625515478355484,
           1.9470499648154385,
           2.9440974764953207,
           3.4054920043702195
          ],
          "symmetric": false,
          "type": "data"
         },
         "marker": {
          "color": "black",
          "size": 6
         },
         "mode": "markers",
         "type": "scatter",
         "uid": "d2f4cb6e-875b-4f04-9c7c-46df6c78f800",
         "x": [
          0.13756797342475752,
          0.15950928650496468,
          0.167985392374447,
          0.193364827206934,
          0.20575718939858129,
          0.22796066963680028,
          3.055825117424523,
          3.1146951577254316,
          3.995686177054778,
          4.795412933844014
         ],
         "xaxis": "x2",
         "y": [
          "HLA-DR+ median  :in:  HLA-DR+ Double Negative T Cells",
          "HLA-DR+ median  :in:  HLA-DR+ CD4+ T Cells",
          "CD11c+ median  :in:  CD11c+ Double Negative T Cells",
          "CD57+ median  :in:  CD57+ CD27+ CD8+ T Cells",
          "CD27+ Double Negative T Cells :in: Double Negative T Cells",
          "HLA-DR+ median  :in:  HLA-DR+ CD27- CD4+ T Cells",
          "CD40+ median  :in:  CD40+ CD11c+ CD21- Double Negative B Cells",
          "CD40+ median  :in:  CD40+ CD21- CD11c+ B Cells",
          "CD40+ Plasmacytoid Dendritic Cells :in: Plasmacytoid Dendritic Cells",
          "Non-Classical Monocytes :in: Monocytes"
         ],
         "yaxis": "y2"
        }
       ],
       "layout": {
        "annotations": [
         {
          "font": {
           "size": 16
          },
          "showarrow": false,
          "text": "A",
          "x": -0.4,
          "xanchor": "center",
          "xref": "paper",
          "y": 1.01,
          "yanchor": "bottom",
          "yref": "paper"
         },
         {
          "font": {
           "size": 16
          },
          "showarrow": false,
          "text": "B",
          "x": -0.4,
          "xanchor": "center",
          "xref": "paper",
          "y": 0.5,
          "yanchor": "bottom",
          "yref": "paper"
         }
        ],
        "font": {
         "family": "Arial",
         "size": 12
        },
        "height": 800,
        "plot_bgcolor": "white",
        "shapes": [
         {
          "line": {
           "color": "black",
           "dash": "dash"
          },
          "opacity": 1,
          "type": "line",
          "x0": 1,
          "x1": 1,
          "xref": "x",
          "y0": 0,
          "y1": 1,
          "yref": "y domain"
         },
         {
          "line": {
           "color": "black",
           "dash": "dash"
          },
          "opacity": 1,
          "type": "line",
          "x0": 1,
          "x1": 1,
          "xref": "x2",
          "y0": 0,
          "y1": 1,
          "yref": "y2 domain"
         }
        ],
        "showlegend": false,
        "template": {
         "data": {
          "bar": [
           {
            "error_x": {
             "color": "#2a3f5f"
            },
            "error_y": {
             "color": "#2a3f5f"
            },
            "marker": {
             "line": {
              "color": "#E5ECF6",
              "width": 0.5
             },
             "pattern": {
              "fillmode": "overlay",
              "size": 10,
              "solidity": 0.2
             }
            },
            "type": "bar"
           }
          ],
          "barpolar": [
           {
            "marker": {
             "line": {
              "color": "#E5ECF6",
              "width": 0.5
             },
             "pattern": {
              "fillmode": "overlay",
              "size": 10,
              "solidity": 0.2
             }
            },
            "type": "barpolar"
           }
          ],
          "carpet": [
           {
            "aaxis": {
             "endlinecolor": "#2a3f5f",
             "gridcolor": "white",
             "linecolor": "white",
             "minorgridcolor": "white",
             "startlinecolor": "#2a3f5f"
            },
            "baxis": {
             "endlinecolor": "#2a3f5f",
             "gridcolor": "white",
             "linecolor": "white",
             "minorgridcolor": "white",
             "startlinecolor": "#2a3f5f"
            },
            "type": "carpet"
           }
          ],
          "choropleth": [
           {
            "colorbar": {
             "outlinewidth": 0,
             "ticks": ""
            },
            "type": "choropleth"
           }
          ],
          "contour": [
           {
            "colorbar": {
             "outlinewidth": 0,
             "ticks": ""
            },
            "colorscale": [
             [
              0,
              "#0d0887"
             ],
             [
              0.1111111111111111,
              "#46039f"
             ],
             [
              0.2222222222222222,
              "#7201a8"
             ],
             [
              0.3333333333333333,
              "#9c179e"
             ],
             [
              0.4444444444444444,
              "#bd3786"
             ],
             [
              0.5555555555555556,
              "#d8576b"
             ],
             [
              0.6666666666666666,
              "#ed7953"
             ],
             [
              0.7777777777777778,
              "#fb9f3a"
             ],
             [
              0.8888888888888888,
              "#fdca26"
             ],
             [
              1,
              "#f0f921"
             ]
            ],
            "type": "contour"
           }
          ],
          "contourcarpet": [
           {
            "colorbar": {
             "outlinewidth": 0,
             "ticks": ""
            },
            "type": "contourcarpet"
           }
          ],
          "heatmap": [
           {
            "colorbar": {
             "outlinewidth": 0,
             "ticks": ""
            },
            "colorscale": [
             [
              0,
              "#0d0887"
             ],
             [
              0.1111111111111111,
              "#46039f"
             ],
             [
              0.2222222222222222,
              "#7201a8"
             ],
             [
              0.3333333333333333,
              "#9c179e"
             ],
             [
              0.4444444444444444,
              "#bd3786"
             ],
             [
              0.5555555555555556,
              "#d8576b"
             ],
             [
              0.6666666666666666,
              "#ed7953"
             ],
             [
              0.7777777777777778,
              "#fb9f3a"
             ],
             [
              0.8888888888888888,
              "#fdca26"
             ],
             [
              1,
              "#f0f921"
             ]
            ],
            "type": "heatmap"
           }
          ],
          "heatmapgl": [
           {
            "colorbar": {
             "outlinewidth": 0,
             "ticks": ""
            },
            "colorscale": [
             [
              0,
              "#0d0887"
             ],
             [
              0.1111111111111111,
              "#46039f"
             ],
             [
              0.2222222222222222,
              "#7201a8"
             ],
             [
              0.3333333333333333,
              "#9c179e"
             ],
             [
              0.4444444444444444,
              "#bd3786"
             ],
             [
              0.5555555555555556,
              "#d8576b"
             ],
             [
              0.6666666666666666,
              "#ed7953"
             ],
             [
              0.7777777777777778,
              "#fb9f3a"
             ],
             [
              0.8888888888888888,
              "#fdca26"
             ],
             [
              1,
              "#f0f921"
             ]
            ],
            "type": "heatmapgl"
           }
          ],
          "histogram": [
           {
            "marker": {
             "pattern": {
              "fillmode": "overlay",
              "size": 10,
              "solidity": 0.2
             }
            },
            "type": "histogram"
           }
          ],
          "histogram2d": [
           {
            "colorbar": {
             "outlinewidth": 0,
             "ticks": ""
            },
            "colorscale": [
             [
              0,
              "#0d0887"
             ],
             [
              0.1111111111111111,
              "#46039f"
             ],
             [
              0.2222222222222222,
              "#7201a8"
             ],
             [
              0.3333333333333333,
              "#9c179e"
             ],
             [
              0.4444444444444444,
              "#bd3786"
             ],
             [
              0.5555555555555556,
              "#d8576b"
             ],
             [
              0.6666666666666666,
              "#ed7953"
             ],
             [
              0.7777777777777778,
              "#fb9f3a"
             ],
             [
              0.8888888888888888,
              "#fdca26"
             ],
             [
              1,
              "#f0f921"
             ]
            ],
            "type": "histogram2d"
           }
          ],
          "histogram2dcontour": [
           {
            "colorbar": {
             "outlinewidth": 0,
             "ticks": ""
            },
            "colorscale": [
             [
              0,
              "#0d0887"
             ],
             [
              0.1111111111111111,
              "#46039f"
             ],
             [
              0.2222222222222222,
              "#7201a8"
             ],
             [
              0.3333333333333333,
              "#9c179e"
             ],
             [
              0.4444444444444444,
              "#bd3786"
             ],
             [
              0.5555555555555556,
              "#d8576b"
             ],
             [
              0.6666666666666666,
              "#ed7953"
             ],
             [
              0.7777777777777778,
              "#fb9f3a"
             ],
             [
              0.8888888888888888,
              "#fdca26"
             ],
             [
              1,
              "#f0f921"
             ]
            ],
            "type": "histogram2dcontour"
           }
          ],
          "mesh3d": [
           {
            "colorbar": {
             "outlinewidth": 0,
             "ticks": ""
            },
            "type": "mesh3d"
           }
          ],
          "parcoords": [
           {
            "line": {
             "colorbar": {
              "outlinewidth": 0,
              "ticks": ""
             }
            },
            "type": "parcoords"
           }
          ],
          "pie": [
           {
            "automargin": true,
            "type": "pie"
           }
          ],
          "scatter": [
           {
            "fillpattern": {
             "fillmode": "overlay",
             "size": 10,
             "solidity": 0.2
            },
            "type": "scatter"
           }
          ],
          "scatter3d": [
           {
            "line": {
             "colorbar": {
              "outlinewidth": 0,
              "ticks": ""
             }
            },
            "marker": {
             "colorbar": {
              "outlinewidth": 0,
              "ticks": ""
             }
            },
            "type": "scatter3d"
           }
          ],
          "scattercarpet": [
           {
            "marker": {
             "colorbar": {
              "outlinewidth": 0,
              "ticks": ""
             }
            },
            "type": "scattercarpet"
           }
          ],
          "scattergeo": [
           {
            "marker": {
             "colorbar": {
              "outlinewidth": 0,
              "ticks": ""
             }
            },
            "type": "scattergeo"
           }
          ],
          "scattergl": [
           {
            "marker": {
             "colorbar": {
              "outlinewidth": 0,
              "ticks": ""
             }
            },
            "type": "scattergl"
           }
          ],
          "scattermapbox": [
           {
            "marker": {
             "colorbar": {
              "outlinewidth": 0,
              "ticks": ""
             }
            },
            "type": "scattermapbox"
           }
          ],
          "scatterpolar": [
           {
            "marker": {
             "colorbar": {
              "outlinewidth": 0,
              "ticks": ""
             }
            },
            "type": "scatterpolar"
           }
          ],
          "scatterpolargl": [
           {
            "marker": {
             "colorbar": {
              "outlinewidth": 0,
              "ticks": ""
             }
            },
            "type": "scatterpolargl"
           }
          ],
          "scatterternary": [
           {
            "marker": {
             "colorbar": {
              "outlinewidth": 0,
              "ticks": ""
             }
            },
            "type": "scatterternary"
           }
          ],
          "surface": [
           {
            "colorbar": {
             "outlinewidth": 0,
             "ticks": ""
            },
            "colorscale": [
             [
              0,
              "#0d0887"
             ],
             [
              0.1111111111111111,
              "#46039f"
             ],
             [
              0.2222222222222222,
              "#7201a8"
             ],
             [
              0.3333333333333333,
              "#9c179e"
             ],
             [
              0.4444444444444444,
              "#bd3786"
             ],
             [
              0.5555555555555556,
              "#d8576b"
             ],
             [
              0.6666666666666666,
              "#ed7953"
             ],
             [
              0.7777777777777778,
              "#fb9f3a"
             ],
             [
              0.8888888888888888,
              "#fdca26"
             ],
             [
              1,
              "#f0f921"
             ]
            ],
            "type": "surface"
           }
          ],
          "table": [
           {
            "cells": {
             "fill": {
              "color": "#EBF0F8"
             },
             "line": {
              "color": "white"
             }
            },
            "header": {
             "fill": {
              "color": "#C8D4E3"
             },
             "line": {
              "color": "white"
             }
            },
            "type": "table"
           }
          ]
         },
         "layout": {
          "annotationdefaults": {
           "arrowcolor": "#2a3f5f",
           "arrowhead": 0,
           "arrowwidth": 1
          },
          "autotypenumbers": "strict",
          "coloraxis": {
           "colorbar": {
            "outlinewidth": 0,
            "ticks": ""
           }
          },
          "colorscale": {
           "diverging": [
            [
             0,
             "#8e0152"
            ],
            [
             0.1,
             "#c51b7d"
            ],
            [
             0.2,
             "#de77ae"
            ],
            [
             0.3,
             "#f1b6da"
            ],
            [
             0.4,
             "#fde0ef"
            ],
            [
             0.5,
             "#f7f7f7"
            ],
            [
             0.6,
             "#e6f5d0"
            ],
            [
             0.7,
             "#b8e186"
            ],
            [
             0.8,
             "#7fbc41"
            ],
            [
             0.9,
             "#4d9221"
            ],
            [
             1,
             "#276419"
            ]
           ],
           "sequential": [
            [
             0,
             "#0d0887"
            ],
            [
             0.1111111111111111,
             "#46039f"
            ],
            [
             0.2222222222222222,
             "#7201a8"
            ],
            [
             0.3333333333333333,
             "#9c179e"
            ],
            [
             0.4444444444444444,
             "#bd3786"
            ],
            [
             0.5555555555555556,
             "#d8576b"
            ],
            [
             0.6666666666666666,
             "#ed7953"
            ],
            [
             0.7777777777777778,
             "#fb9f3a"
            ],
            [
             0.8888888888888888,
             "#fdca26"
            ],
            [
             1,
             "#f0f921"
            ]
           ],
           "sequentialminus": [
            [
             0,
             "#0d0887"
            ],
            [
             0.1111111111111111,
             "#46039f"
            ],
            [
             0.2222222222222222,
             "#7201a8"
            ],
            [
             0.3333333333333333,
             "#9c179e"
            ],
            [
             0.4444444444444444,
             "#bd3786"
            ],
            [
             0.5555555555555556,
             "#d8576b"
            ],
            [
             0.6666666666666666,
             "#ed7953"
            ],
            [
             0.7777777777777778,
             "#fb9f3a"
            ],
            [
             0.8888888888888888,
             "#fdca26"
            ],
            [
             1,
             "#f0f921"
            ]
           ]
          },
          "colorway": [
           "#636efa",
           "#EF553B",
           "#00cc96",
           "#ab63fa",
           "#FFA15A",
           "#19d3f3",
           "#FF6692",
           "#B6E880",
           "#FF97FF",
           "#FECB52"
          ],
          "font": {
           "color": "#2a3f5f"
          },
          "geo": {
           "bgcolor": "white",
           "lakecolor": "white",
           "landcolor": "#E5ECF6",
           "showlakes": true,
           "showland": true,
           "subunitcolor": "white"
          },
          "hoverlabel": {
           "align": "left"
          },
          "hovermode": "closest",
          "mapbox": {
           "style": "light"
          },
          "paper_bgcolor": "white",
          "plot_bgcolor": "#E5ECF6",
          "polar": {
           "angularaxis": {
            "gridcolor": "white",
            "linecolor": "white",
            "ticks": ""
           },
           "bgcolor": "#E5ECF6",
           "radialaxis": {
            "gridcolor": "white",
            "linecolor": "white",
            "ticks": ""
           }
          },
          "scene": {
           "xaxis": {
            "backgroundcolor": "#E5ECF6",
            "gridcolor": "white",
            "gridwidth": 2,
            "linecolor": "white",
            "showbackground": true,
            "ticks": "",
            "zerolinecolor": "white"
           },
           "yaxis": {
            "backgroundcolor": "#E5ECF6",
            "gridcolor": "white",
            "gridwidth": 2,
            "linecolor": "white",
            "showbackground": true,
            "ticks": "",
            "zerolinecolor": "white"
           },
           "zaxis": {
            "backgroundcolor": "#E5ECF6",
            "gridcolor": "white",
            "gridwidth": 2,
            "linecolor": "white",
            "showbackground": true,
            "ticks": "",
            "zerolinecolor": "white"
           }
          },
          "shapedefaults": {
           "line": {
            "color": "#2a3f5f"
           }
          },
          "ternary": {
           "aaxis": {
            "gridcolor": "white",
            "linecolor": "white",
            "ticks": ""
           },
           "baxis": {
            "gridcolor": "white",
            "linecolor": "white",
            "ticks": ""
           },
           "bgcolor": "#E5ECF6",
           "caxis": {
            "gridcolor": "white",
            "linecolor": "white",
            "ticks": ""
           }
          },
          "title": {
           "x": 0.05
          },
          "xaxis": {
           "automargin": true,
           "gridcolor": "white",
           "linecolor": "white",
           "ticks": "",
           "title": {
            "standoff": 15
           },
           "zerolinecolor": "white",
           "zerolinewidth": 2
          },
          "yaxis": {
           "automargin": true,
           "gridcolor": "white",
           "linecolor": "white",
           "ticks": "",
           "title": {
            "standoff": 15
           },
           "zerolinecolor": "white",
           "zerolinewidth": 2
          }
         }
        },
        "width": 1000,
        "xaxis": {
         "anchor": "y",
         "domain": [
          0,
          1
         ],
         "linecolor": "black",
         "range": [
          -1,
          1.3
         ],
         "tickmode": "array",
         "ticks": "outside",
         "tickvals": [
          0.01,
          0.02,
          0.03,
          0.05,
          0.08,
          0.1,
          0.2,
          0.3,
          0.6,
          1,
          2,
          3,
          4,
          7,
          10
         ],
         "title": {
          "text": "Odds ration"
         },
         "type": "log"
        },
        "xaxis2": {
         "anchor": "y2",
         "domain": [
          0,
          1
         ],
         "linecolor": "black",
         "range": [
          -1.5,
          1.6
         ],
         "tickmode": "array",
         "ticks": "outside",
         "tickvals": [
          0.01,
          0.02,
          0.05,
          0.1,
          0.3,
          0.6,
          1,
          3,
          7,
          20
         ],
         "title": {
          "text": "Odds ration"
         },
         "type": "log"
        },
        "yaxis": {
         "anchor": "x",
         "domain": [
          0.6,
          1
         ],
         "linecolor": "black",
         "range": [
          -0.5,
          9.5
         ],
         "ticks": "outside",
         "title": {
          "text": ""
         },
         "type": "category"
        },
        "yaxis2": {
         "anchor": "x2",
         "domain": [
          0,
          0.475
         ],
         "linecolor": "black",
         "range": [
          -0.5,
          9.5
         ],
         "ticks": "outside",
         "title": {
          "text": ""
         },
         "type": "category"
        }
       }
      },
      "image/png": "[encoded data removed]",
      "text/html": [
       "<div>                            <div id=\"df37711c-39e6-41c6-8f57-383574d04273\" class=\"plotly-graph-div\" style=\"height:800px; width:1000px;\"></div>            <script type=\"text/javascript\">                require([\"plotly\"], function(Plotly) {                    window.PLOTLYENV=window.PLOTLYENV || {};                                    if (document.getElementById(\"df37711c-39e6-41c6-8f57-383574d04273\")) {                    Plotly.newPlot(                        \"df37711c-39e6-41c6-8f57-383574d04273\",                        [{\"error_x\":{\"array\":[0.5497301775285814,0.4472461833948895,0.5170642790480784,2.5396820161864606,2.4896059138041164,2.711081988661857,3.4028888150898693,5.878664866193181,10.97859663659139,10.810609840551333],\"arrayminus\":[0.22562747819843237,0.21261630724152916,0.23187106280172537,1.251664776276057,1.2484658202070975,1.3453809775151813,1.5096469429336596,2.104822771269723,2.882602537955303,3.2371612632326583],\"symmetric\":false,\"type\":\"data\"},\"mode\":\"markers\",\"x\":[0.3827004029947994,0.4052844143306566,0.42038953625082565,2.4680030857533226,2.5043006065188664,2.670744259731648,2.713420177524841,3.278766669032465,3.9089616595888304,4.620839113183037],\"y\":[\"BAFF-R+ median  :in:  BAFF-R+ CD11c- CD21+ Double Negative B Cells\",\"CD40+ Non-Classical Monocytes :in: Non-Classical Monocytes\",\"CD38+ Monocytes :in: Monocytes\",\"CD80+ CD11c+ CD21- Double Negative B Cells :in: CD11c+ CD21- Double Negative B Cells\",\"CD80+ median  :in:  CD80+ CD21- B Cells\",\"CD80+ median  :in:  CD80+ CD21- CD27+ B Cells\",\"CD38+ median  :in:  CD38+ CD27- CD4+ T Cells\",\"CD57+ median  :in:  CD57+ Double Negative T Cells\",\"CD38+ median  :in:  CD38+ Non-Classical Monocytes\",\"CD80+ median  :in:  CD80+ CD11c- CD21+ Double Negative B Cells\"],\"type\":\"scatter\",\"uid\":\"56026fb5-b682-4496-ba6a-73c0ab6ab32e\",\"xaxis\":\"x\",\"yaxis\":\"y\",\"marker\":{\"color\":\"black\",\"size\":6}},{\"error_x\":{\"array\":[0.4459561848640257,0.567564653759445,0.4334744975852627,0.5705184093137627,0.5247893736391149,0.5465484305420807,5.485556845914556,5.193758458548796,11.186588049563284,11.749402471435497],\"arrayminus\":[0.10513581608667363,0.12451530436324446,0.12106772999618394,0.14441761300824357,0.14780602908764143,0.16086518052084764,1.9625515478355484,1.9470499648154385,2.9440974764953207,3.4054920043702195],\"symmetric\":false,\"type\":\"data\"},\"mode\":\"markers\",\"x\":[0.13756797342475752,0.15950928650496468,0.167985392374447,0.193364827206934,0.20575718939858129,0.22796066963680028,3.055825117424523,3.1146951577254316,3.995686177054778,4.795412933844014],\"y\":[\"HLA-DR+ median  :in:  HLA-DR+ Double Negative T Cells\",\"HLA-DR+ median  :in:  HLA-DR+ CD4+ T Cells\",\"CD11c+ median  :in:  CD11c+ Double Negative T Cells\",\"CD57+ median  :in:  CD57+ CD27+ CD8+ T Cells\",\"CD27+ Double Negative T Cells :in: Double Negative T Cells\",\"HLA-DR+ median  :in:  HLA-DR+ CD27- CD4+ T Cells\",\"CD40+ median  :in:  CD40+ CD11c+ CD21- Double Negative B Cells\",\"CD40+ median  :in:  CD40+ CD21- CD11c+ B Cells\",\"CD40+ Plasmacytoid Dendritic Cells :in: Plasmacytoid Dendritic Cells\",\"Non-Classical Monocytes :in: Monocytes\"],\"type\":\"scatter\",\"uid\":\"d2f4cb6e-875b-4f04-9c7c-46df6c78f800\",\"xaxis\":\"x2\",\"yaxis\":\"y2\",\"marker\":{\"color\":\"black\",\"size\":6}}],                        {\"annotations\":[{\"font\":{\"size\":16},\"showarrow\":false,\"text\":\"A\",\"x\":-0.4,\"xanchor\":\"center\",\"xref\":\"paper\",\"y\":1.01,\"yanchor\":\"bottom\",\"yref\":\"paper\"},{\"font\":{\"size\":16},\"showarrow\":false,\"text\":\"B\",\"x\":-0.4,\"xanchor\":\"center\",\"xref\":\"paper\",\"y\":0.5,\"yanchor\":\"bottom\",\"yref\":\"paper\"}],\"template\":{\"data\":{\"barpolar\":[{\"marker\":{\"line\":{\"color\":\"#E5ECF6\",\"width\":0.5},\"pattern\":{\"fillmode\":\"overlay\",\"size\":10,\"solidity\":0.2}},\"type\":\"barpolar\"}],\"bar\":[{\"error_x\":{\"color\":\"#2a3f5f\"},\"error_y\":{\"color\":\"#2a3f5f\"},\"marker\":{\"line\":{\"color\":\"#E5ECF6\",\"width\":0.5},\"pattern\":{\"fillmode\":\"overlay\",\"size\":10,\"solidity\":0.2}},\"type\":\"bar\"}],\"carpet\":[{\"aaxis\":{\"endlinecolor\":\"#2a3f5f\",\"gridcolor\":\"white\",\"linecolor\":\"white\",\"minorgridcolor\":\"white\",\"startlinecolor\":\"#2a3f5f\"},\"baxis\":{\"endlinecolor\":\"#2a3f5f\",\"gridcolor\":\"white\",\"linecolor\":\"white\",\"minorgridcolor\":\"white\",\"startlinecolor\":\"#2a3f5f\"},\"type\":\"carpet\"}],\"choropleth\":[{\"colorbar\":{\"outlinewidth\":0,\"ticks\":\"\"},\"type\":\"choropleth\"}],\"contourcarpet\":[{\"colorbar\":{\"outlinewidth\":0,\"ticks\":\"\"},\"type\":\"contourcarpet\"}],\"contour\":[{\"colorbar\":{\"outlinewidth\":0,\"ticks\":\"\"},\"colorscale\":[[0.0,\"#0d0887\"],[0.1111111111111111,\"#46039f\"],[0.2222222222222222,\"#7201a8\"],[0.3333333333333333,\"#9c179e\"],[0.4444444444444444,\"#bd3786\"],[0.5555555555555556,\"#d8576b\"],[0.6666666666666666,\"#ed7953\"],[0.7777777777777778,\"#fb9f3a\"],[0.8888888888888888,\"#fdca26\"],[1.0,\"#f0f921\"]],\"type\":\"contour\"}],\"heatmapgl\":[{\"colorbar\":{\"outlinewidth\":0,\"ticks\":\"\"},\"colorscale\":[[0.0,\"#0d0887\"],[0.1111111111111111,\"#46039f\"],[0.2222222222222222,\"#7201a8\"],[0.3333333333333333,\"#9c179e\"],[0.4444444444444444,\"#bd3786\"],[0.5555555555555556,\"#d8576b\"],[0.6666666666666666,\"#ed7953\"],[0.7777777777777778,\"#fb9f3a\"],[0.8888888888888888,\"#fdca26\"],[1.0,\"#f0f921\"]],\"type\":\"heatmapgl\"}],\"heatmap\":[{\"colorbar\":{\"outlinewidth\":0,\"ticks\":\"\"},\"colorscale\":[[0.0,\"#0d0887\"],[0.1111111111111111,\"#46039f\"],[0.2222222222222222,\"#7201a8\"],[0.3333333333333333,\"#9c179e\"],[0.4444444444444444,\"#bd3786\"],[0.5555555555555556,\"#d8576b\"],[0.6666666666666666,\"#ed7953\"],[0.7777777777777778,\"#fb9f3a\"],[0.8888888888888888,\"#fdca26\"],[1.0,\"#f0f921\"]],\"type\":\"heatmap\"}],\"histogram2dcontour\":[{\"colorbar\":{\"outlinewidth\":0,\"ticks\":\"\"},\"colorscale\":[[0.0,\"#0d0887\"],[0.1111111111111111,\"#46039f\"],[0.2222222222222222,\"#7201a8\"],[0.3333333333333333,\"#9c179e\"],[0.4444444444444444,\"#bd3786\"],[0.5555555555555556,\"#d8576b\"],[0.6666666666666666,\"#ed7953\"],[0.7777777777777778,\"#fb9f3a\"],[0.8888888888888888,\"#fdca26\"],[1.0,\"#f0f921\"]],\"type\":\"histogram2dcontour\"}],\"histogram2d\":[{\"colorbar\":{\"outlinewidth\":0,\"ticks\":\"\"},\"colorscale\":[[0.0,\"#0d0887\"],[0.1111111111111111,\"#46039f\"],[0.2222222222222222,\"#7201a8\"],[0.3333333333333333,\"#9c179e\"],[0.4444444444444444,\"#bd3786\"],[0.5555555555555556,\"#d8576b\"],[0.6666666666666666,\"#ed7953\"],[0.7777777777777778,\"#fb9f3a\"],[0.8888888888888888,\"#fdca26\"],[1.0,\"#f0f921\"]],\"type\":\"histogram2d\"}],\"histogram\":[{\"marker\":{\"pattern\":{\"fillmode\":\"overlay\",\"size\":10,\"solidity\":0.2}},\"type\":\"histogram\"}],\"mesh3d\":[{\"colorbar\":{\"outlinewidth\":0,\"ticks\":\"\"},\"type\":\"mesh3d\"}],\"parcoords\":[{\"line\":{\"colorbar\":{\"outlinewidth\":0,\"ticks\":\"\"}},\"type\":\"parcoords\"}],\"pie\":[{\"automargin\":true,\"type\":\"pie\"}],\"scatter3d\":[{\"line\":{\"colorbar\":{\"outlinewidth\":0,\"ticks\":\"\"}},\"marker\":{\"colorbar\":{\"outlinewidth\":0,\"ticks\":\"\"}},\"type\":\"scatter3d\"}],\"scattercarpet\":[{\"marker\":{\"colorbar\":{\"outlinewidth\":0,\"ticks\":\"\"}},\"type\":\"scattercarpet\"}],\"scattergeo\":[{\"marker\":{\"colorbar\":{\"outlinewidth\":0,\"ticks\":\"\"}},\"type\":\"scattergeo\"}],\"scattergl\":[{\"marker\":{\"colorbar\":{\"outlinewidth\":0,\"ticks\":\"\"}},\"type\":\"scattergl\"}],\"scattermapbox\":[{\"marker\":{\"colorbar\":{\"outlinewidth\":0,\"ticks\":\"\"}},\"type\":\"scattermapbox\"}],\"scatterpolargl\":[{\"marker\":{\"colorbar\":{\"outlinewidth\":0,\"ticks\":\"\"}},\"type\":\"scatterpolargl\"}],\"scatterpolar\":[{\"marker\":{\"colorbar\":{\"outlinewidth\":0,\"ticks\":\"\"}},\"type\":\"scatterpolar\"}],\"scatter\":[{\"fillpattern\":{\"fillmode\":\"overlay\",\"size\":10,\"solidity\":0.2},\"type\":\"scatter\"}],\"scatterternary\":[{\"marker\":{\"colorbar\":{\"outlinewidth\":0,\"ticks\":\"\"}},\"type\":\"scatterternary\"}],\"surface\":[{\"colorbar\":{\"outlinewidth\":0,\"ticks\":\"\"},\"colorscale\":[[0.0,\"#0d0887\"],[0.1111111111111111,\"#46039f\"],[0.2222222222222222,\"#7201a8\"],[0.3333333333333333,\"#9c179e\"],[0.4444444444444444,\"#bd3786\"],[0.5555555555555556,\"#d8576b\"],[0.6666666666666666,\"#ed7953\"],[0.7777777777777778,\"#fb9f3a\"],[0.8888888888888888,\"#fdca26\"],[1.0,\"#f0f921\"]],\"type\":\"surface\"}],\"table\":[{\"cells\":{\"fill\":{\"color\":\"#EBF0F8\"},\"line\":{\"color\":\"white\"}},\"header\":{\"fill\":{\"color\":\"#C8D4E3\"},\"line\":{\"color\":\"white\"}},\"type\":\"table\"}]},\"layout\":{\"annotationdefaults\":{\"arrowcolor\":\"#2a3f5f\",\"arrowhead\":0,\"arrowwidth\":1},\"autotypenumbers\":\"strict\",\"coloraxis\":{\"colorbar\":{\"outlinewidth\":0,\"ticks\":\"\"}},\"colorscale\":{\"diverging\":[[0,\"#8e0152\"],[0.1,\"#c51b7d\"],[0.2,\"#de77ae\"],[0.3,\"#f1b6da\"],[0.4,\"#fde0ef\"],[0.5,\"#f7f7f7\"],[0.6,\"#e6f5d0\"],[0.7,\"#b8e186\"],[0.8,\"#7fbc41\"],[0.9,\"#4d9221\"],[1,\"#276419\"]],\"sequential\":[[0.0,\"#0d0887\"],[0.1111111111111111,\"#46039f\"],[0.2222222222222222,\"#7201a8\"],[0.3333333333333333,\"#9c179e\"],[0.4444444444444444,\"#bd3786\"],[0.5555555555555556,\"#d8576b\"],[0.6666666666666666,\"#ed7953\"],[0.7777777777777778,\"#fb9f3a\"],[0.8888888888888888,\"#fdca26\"],[1.0,\"#f0f921\"]],\"sequentialminus\":[[0.0,\"#0d0887\"],[0.1111111111111111,\"#46039f\"],[0.2222222222222222,\"#7201a8\"],[0.3333333333333333,\"#9c179e\"],[0.4444444444444444,\"#bd3786\"],[0.5555555555555556,\"#d8576b\"],[0.6666666666666666,\"#ed7953\"],[0.7777777777777778,\"#fb9f3a\"],[0.8888888888888888,\"#fdca26\"],[1.0,\"#f0f921\"]]},\"colorway\":[\"#636efa\",\"#EF553B\",\"#00cc96\",\"#ab63fa\",\"#FFA15A\",\"#19d3f3\",\"#FF6692\",\"#B6E880\",\"#FF97FF\",\"#FECB52\"],\"font\":{\"color\":\"#2a3f5f\"},\"geo\":{\"bgcolor\":\"white\",\"lakecolor\":\"white\",\"landcolor\":\"#E5ECF6\",\"showlakes\":true,\"showland\":true,\"subunitcolor\":\"white\"},\"hoverlabel\":{\"align\":\"left\"},\"hovermode\":\"closest\",\"mapbox\":{\"style\":\"light\"},\"paper_bgcolor\":\"white\",\"plot_bgcolor\":\"#E5ECF6\",\"polar\":{\"angularaxis\":{\"gridcolor\":\"white\",\"linecolor\":\"white\",\"ticks\":\"\"},\"bgcolor\":\"#E5ECF6\",\"radialaxis\":{\"gridcolor\":\"white\",\"linecolor\":\"white\",\"ticks\":\"\"}},\"scene\":{\"xaxis\":{\"backgroundcolor\":\"#E5ECF6\",\"gridcolor\":\"white\",\"gridwidth\":2,\"linecolor\":\"white\",\"showbackground\":true,\"ticks\":\"\",\"zerolinecolor\":\"white\"},\"yaxis\":{\"backgroundcolor\":\"#E5ECF6\",\"gridcolor\":\"white\",\"gridwidth\":2,\"linecolor\":\"white\",\"showbackground\":true,\"ticks\":\"\",\"zerolinecolor\":\"white\"},\"zaxis\":{\"backgroundcolor\":\"#E5ECF6\",\"gridcolor\":\"white\",\"gridwidth\":2,\"linecolor\":\"white\",\"showbackground\":true,\"ticks\":\"\",\"zerolinecolor\":\"white\"}},\"shapedefaults\":{\"line\":{\"color\":\"#2a3f5f\"}},\"ternary\":{\"aaxis\":{\"gridcolor\":\"white\",\"linecolor\":\"white\",\"ticks\":\"\"},\"baxis\":{\"gridcolor\":\"white\",\"linecolor\":\"white\",\"ticks\":\"\"},\"bgcolor\":\"#E5ECF6\",\"caxis\":{\"gridcolor\":\"white\",\"linecolor\":\"white\",\"ticks\":\"\"}},\"title\":{\"x\":0.05},\"xaxis\":{\"automargin\":true,\"gridcolor\":\"white\",\"linecolor\":\"white\",\"ticks\":\"\",\"title\":{\"standoff\":15},\"zerolinecolor\":\"white\",\"zerolinewidth\":2},\"yaxis\":{\"automargin\":true,\"gridcolor\":\"white\",\"linecolor\":\"white\",\"ticks\":\"\",\"title\":{\"standoff\":15},\"zerolinecolor\":\"white\",\"zerolinewidth\":2}}},\"xaxis\":{\"anchor\":\"y\",\"domain\":[0.0,1.0],\"type\":\"log\",\"range\":[-1,1.3],\"title\":{\"text\":\"Odds ration\"},\"linecolor\":\"black\",\"ticks\":\"outside\",\"tickmode\":\"array\",\"tickvals\":[0.01,0.02,0.03,0.05,0.08,0.1,0.2,0.3,0.6,1.0,2.0,3.0,4.0,7.0,10.0]},\"yaxis\":{\"anchor\":\"x\",\"domain\":[0.6,1],\"range\":[-0.5,9.5],\"title\":{\"text\":\"\"},\"linecolor\":\"black\",\"ticks\":\"outside\"},\"xaxis2\":{\"anchor\":\"y2\",\"domain\":[0.0,1.0],\"type\":\"log\",\"range\":[-1.5,1.6],\"title\":{\"text\":\"Odds ration\"},\"linecolor\":\"black\",\"ticks\":\"outside\",\"tickmode\":\"array\",\"tickvals\":[0.01,0.02,0.05,0.1,0.3,0.6,1.0,3.0,7.0,20.0]},\"yaxis2\":{\"anchor\":\"x2\",\"domain\":[0.0,0.475],\"range\":[-0.5,9.5],\"title\":{\"text\":\"\"},\"linecolor\":\"black\",\"ticks\":\"outside\"},\"font\":{\"size\":12,\"family\":\"Arial\"},\"height\":800,\"width\":1000,\"showlegend\":false,\"plot_bgcolor\":\"white\",\"shapes\":[{\"line\":{\"color\":\"black\",\"dash\":\"dash\"},\"opacity\":1,\"type\":\"line\",\"x0\":1,\"x1\":1,\"xref\":\"x\",\"y0\":0,\"y1\":1,\"yref\":\"y domain\"},{\"line\":{\"color\":\"black\",\"dash\":\"dash\"},\"opacity\":1,\"type\":\"line\",\"x0\":1,\"x1\":1,\"xref\":\"x2\",\"y0\":0,\"y1\":1,\"yref\":\"y2 domain\"}]},                        {\"responsive\": true}                    ).then(function(){\n",
       "                            \n",
       "var gd = document.getElementById('df37711c-39e6-41c6-8f57-383574d04273');\n",
       "var x = new MutationObserver(function (mutations, observer) {{\n",
       "        var display = window.getComputedStyle(gd).display;\n",
       "        if (!display || display === 'none') {{\n",
       "            console.log([gd, 'removed!']);\n",
       "            Plotly.purge(gd);\n",
       "            observer.disconnect();\n",
       "        }}\n",
       "}});\n",
       "\n",
       "// Listen for the removal of the full notebook cells\n",
       "var notebookContainer = gd.closest('#notebook-container');\n",
       "if (notebookContainer) {{\n",
       "    x.observe(notebookContainer, {childList: true});\n",
       "}}\n",
       "\n",
       "// Listen for the clearing of the current output cell\n",
       "var outputEl = gd.closest('.output');\n",
       "if (outputEl) {{\n",
       "    x.observe(outputEl, {childList: true});\n",
       "}}\n",
       "\n",
       "                        })                };                });            </script>        </div>"
      ],
      "text/plain": [
       "FigureWidget({\n",
       "    'data': [{'error_x': {'array': array([ 0.54973018,  0.44724618,  0.51706428,  2.53968202,  2.48960591,\n",
       "                                           2.71108199,  3.40288882,  5.87866487, 10.97859664, 10.81060984]),\n",
       "                          'arrayminus': array([0.22562748, 0.21261631, 0.23187106, 1.25166478, 1.24846582, 1.34538098,\n",
       "                                               1.50964694, 2.10482277, 2.88260254, 3.23716126]),\n",
       "                          'symmetric': False,\n",
       "                          'type': 'data'},\n",
       "              'marker': {'color': 'black', 'size': 6},\n",
       "              'mode': 'markers',\n",
       "              'type': 'scatter',\n",
       "              'uid': '56026fb5-b682-4496-ba6a-73c0ab6ab32e',\n",
       "              'x': array([0.3827004 , 0.40528441, 0.42038954, 2.46800309, 2.50430061, 2.67074426,\n",
       "                          2.71342018, 3.27876667, 3.90896166, 4.62083911]),\n",
       "              'xaxis': 'x',\n",
       "              'y': array(['BAFF-R+ median  :in:  BAFF-R+ CD11c- CD21+ Double Negative B Cells',\n",
       "                          'CD40+ Non-Classical Monocytes :in: Non-Classical Monocytes',\n",
       "                          'CD38+ Monocytes :in: Monocytes',\n",
       "                          'CD80+ CD11c+ CD21- Double Negative B Cells :in: CD11c+ CD21- Double Negative B Cells',\n",
       "                          'CD80+ median  :in:  CD80+ CD21- B Cells',\n",
       "                          'CD80+ median  :in:  CD80+ CD21- CD27+ B Cells',\n",
       "                          'CD38+ median  :in:  CD38+ CD27- CD4+ T Cells',\n",
       "                          'CD57+ median  :in:  CD57+ Double Negative T Cells',\n",
       "                          'CD38+ median  :in:  CD38+ Non-Classical Monocytes',\n",
       "                          'CD80+ median  :in:  CD80+ CD11c- CD21+ Double Negative B Cells'],\n",
       "                         dtype=object),\n",
       "              'yaxis': 'y'},\n",
       "             {'error_x': {'array': array([ 0.44595618,  0.56756465,  0.4334745 ,  0.57051841,  0.52478937,\n",
       "                                           0.54654843,  5.48555685,  5.19375846, 11.18658805, 11.74940247]),\n",
       "                          'arrayminus': array([0.10513582, 0.1245153 , 0.12106773, 0.14441761, 0.14780603, 0.16086518,\n",
       "                                               1.96255155, 1.94704996, 2.94409748, 3.405492  ]),\n",
       "                          'symmetric': False,\n",
       "                          'type': 'data'},\n",
       "              'marker': {'color': 'black', 'size': 6},\n",
       "              'mode': 'markers',\n",
       "              'type': 'scatter',\n",
       "              'uid': 'd2f4cb6e-875b-4f04-9c7c-46df6c78f800',\n",
       "              'x': array([0.13756797, 0.15950929, 0.16798539, 0.19336483, 0.20575719, 0.22796067,\n",
       "                          3.05582512, 3.11469516, 3.99568618, 4.79541293]),\n",
       "              'xaxis': 'x2',\n",
       "              'y': array(['HLA-DR+ median  :in:  HLA-DR+ Double Negative T Cells',\n",
       "                          'HLA-DR+ median  :in:  HLA-DR+ CD4+ T Cells',\n",
       "                          'CD11c+ median  :in:  CD11c+ Double Negative T Cells',\n",
       "                          'CD57+ median  :in:  CD57+ CD27+ CD8+ T Cells',\n",
       "                          'CD27+ Double Negative T Cells :in: Double Negative T Cells',\n",
       "                          'HLA-DR+ median  :in:  HLA-DR+ CD27- CD4+ T Cells',\n",
       "                          'CD40+ median  :in:  CD40+ CD11c+ CD21- Double Negative B Cells',\n",
       "                          'CD40+ median  :in:  CD40+ CD21- CD11c+ B Cells',\n",
       "                          'CD40+ Plasmacytoid Dendritic Cells :in: Plasmacytoid Dendritic Cells',\n",
       "                          'Non-Classical Monocytes :in: Monocytes'], dtype=object),\n",
       "              'yaxis': 'y2'}],\n",
       "    'layout': {'annotations': [{'font': {'size': 16},\n",
       "                                'showarrow': False,\n",
       "                                'text': 'A',\n",
       "                                'x': -0.4,\n",
       "                                'xanchor': 'center',\n",
       "                                'xref': 'paper',\n",
       "                                'y': 1.01,\n",
       "                                'yanchor': 'bottom',\n",
       "                                'yref': 'paper'},\n",
       "                               {'font': {'size': 16},\n",
       "                                'showarrow': False,\n",
       "                                'text': 'B',\n",
       "                                'x': -0.4,\n",
       "                                'xanchor': 'center',\n",
       "                                'xref': 'paper',\n",
       "                                'y': 0.5,\n",
       "                                'yanchor': 'bottom',\n",
       "                                'yref': 'paper'}],\n",
       "               'font': {'family': 'Arial', 'size': 12},\n",
       "               'height': 800,\n",
       "               'plot_bgcolor': 'white',\n",
       "               'shapes': [{'line': {'color': 'black', 'dash': 'dash'},\n",
       "                           'opacity': 1,\n",
       "                           'type': 'line',\n",
       "                           'x0': 1,\n",
       "                           'x1': 1,\n",
       "                           'xref': 'x',\n",
       "                           'y0': 0,\n",
       "                           'y1': 1,\n",
       "                           'yref': 'y domain'},\n",
       "                          {'line': {'color': 'black', 'dash': 'dash'},\n",
       "                           'opacity': 1,\n",
       "                           'type': 'line',\n",
       "                           'x0': 1,\n",
       "                           'x1': 1,\n",
       "                           'xref': 'x2',\n",
       "                           'y0': 0,\n",
       "                           'y1': 1,\n",
       "                           'yref': 'y2 domain'}],\n",
       "               'showlegend': False,\n",
       "               'template': '...',\n",
       "               'width': 1000,\n",
       "               'xaxis': {'anchor': 'y',\n",
       "                         'domain': [0.0, 1.0],\n",
       "                         'linecolor': 'black',\n",
       "                         'range': [-1, 1.3],\n",
       "                         'tickmode': 'array',\n",
       "                         'ticks': 'outside',\n",
       "                         'tickvals': array([ 0.01,  0.02,  0.03,  0.05,  0.08,  0.1 ,  0.2 ,  0.3 ,  0.6 ,  1.  ,\n",
       "                                             2.  ,  3.  ,  4.  ,  7.  , 10.  ]),\n",
       "                         'title': {'text': 'Odds ration'},\n",
       "                         'type': 'log'},\n",
       "               'xaxis2': {'anchor': 'y2',\n",
       "                          'domain': [0.0, 1.0],\n",
       "                          'linecolor': 'black',\n",
       "                          'range': [-1.5, 1.6],\n",
       "                          'tickmode': 'array',\n",
       "                          'ticks': 'outside',\n",
       "                          'tickvals': array([1.e-02, 2.e-02, 5.e-02, 1.e-01, 3.e-01, 6.e-01, 1.e+00, 3.e+00, 7.e+00,\n",
       "                                             2.e+01]),\n",
       "                          'title': {'text': 'Odds ration'},\n",
       "                          'type': 'log'},\n",
       "               'yaxis': {'anchor': 'x',\n",
       "                         'domain': [0.6, 1],\n",
       "                         'linecolor': 'black',\n",
       "                         'range': [-0.5, 9.5],\n",
       "                         'ticks': 'outside',\n",
       "                         'title': {'text': ''}},\n",
       "               'yaxis2': {'anchor': 'x2',\n",
       "                          'domain': [0.0, 0.475],\n",
       "                          'linecolor': 'black',\n",
       "                          'range': [-0.5, 9.5],\n",
       "                          'ticks': 'outside',\n",
       "                          'title': {'text': ''}}}\n",
       "})"
      ]
     },
     "execution_count": 2,
     "metadata": {},
     "output_type": "execute_result"
    }
   ],
   "source": [
    "file = open(fold + \"/data_aux/feature_a1.pkl\",\"rb\")\n",
    "data = pk.load(file)\n",
    "file.close()\n",
    "d2_d = data[\"d2_d\"]\n",
    "d3_p = data[\"d3_p\"]\n",
    "\n",
    "#d2_d_lab =pd.read_csv(\"d2_d_lab.csv\",sep=\"\\t\")\n",
    "#d2_d_lab = dict(zip(d2_d_lab['var'],d2_d_lab['Short name']))\n",
    "#d3_p_lab =pd.read_csv(\"d3_p_lab.csv\",sep=\"\\t\")\n",
    "#d3_p_lab = dict(zip(d3_p_lab['var'],d3_p_lab['Short name']))\n",
    "\n",
    "#for k in d2_d_lab.keys():\n",
    "#    d2_d.loc[d2_d[\"var\"]==k,\"var\"] = d2_d_lab[k]\n",
    "#for k in d3_p_lab.keys():\n",
    "#    d3_p.loc[d3_p[\"var\"]==k,\"var\"] = d3_p_lab[k]\n",
    "d2_d = d2_d.loc[d2_d.pvalue<=0.05]\n",
    "d2_d.loc[d2_d.index,\"cib\"] = d2_d.ci2 -d2_d[\"or\"]\n",
    "d2_d.loc[d2_d.index,\"cia\"] = d2_d[\"or\"] - d2_d.ci1\n",
    "d2_d = d2_d.sort_values(by=\"mu\",ascending=False).copy()\n",
    "d3_p = d3_p.loc[d3_p.pvalue<=0.05]\n",
    "d3_p.loc[d3_p.index,\"cib\"] = d3_p.ci2 -d3_p[\"or\"]\n",
    "d3_p.loc[d3_p.index,\"cia\"] = d3_p[\"or\"] - d3_p.ci1\n",
    "d3_p = d3_p.sort_values(by=\"mu\",ascending=False).copy()\n",
    "#10 best\n",
    "#10 best\n",
    "d2_d = d2_d.iloc[0:10,:]\n",
    "d2_d = d2_d.sort_values(by=\"or\",ascending=True).copy()\n",
    "d3_p = d3_p.iloc[0:10,:]\n",
    "d3_p = d3_p.sort_values(by=\"or\",ascending=True).copy()\n",
    "\n",
    "f = go.FigureWidget(make_subplots(rows=2,cols=1,subplot_titles=[\"A\",\"B\"],vertical_spacing=0.05))\n",
    "f.add_trace(go.Scatter(x=d2_d[\"or\"], y=d2_d[\"var\"],error_x=dict(\n",
    "            type='data',\n",
    "            symmetric=False,\n",
    "            array=d2_d.cib,\n",
    "            arrayminus=d2_d.cia),mode='markers'),row=1,col=1)\n",
    "f.update_traces(marker=dict(color=\"black\", size=6),selector=dict(type='scatter'))\n",
    "f.layout.xaxis.type=\"log\"\n",
    "f.update_xaxes(range=[-1,1.3],title=\"Odds ration\",row=1,col=1)\n",
    "f.update_yaxes(range=[-0.5, 9.5],title=\"\",row=1,col=1)\n",
    "f.layout.yaxis.domain = (0.6,1)\n",
    "\n",
    "f.add_trace(go.Scatter(x=d3_p[\"or\"], y=d3_p[\"var\"],error_x=dict(\n",
    "            type='data',\n",
    "            symmetric=False,\n",
    "            array=d3_p.cib,\n",
    "            arrayminus=d3_p.cia),mode='markers'),row=2,col=1)\n",
    "f.update_traces(marker=dict(color=\"black\", size=6),selector=dict(type='scatter'))\n",
    "f.layout.xaxis2.type=\"log\"\n",
    "f.update_xaxes(range=[-1.5,1.6],title=\"Odds ration\",row=2,col=1)\n",
    "f.update_yaxes(range=[-0.5, 9.5],title=\"\",row=2,col=1)\n",
    "#f.layout.yaxis2.domain = (0.6,1)\n",
    "\n",
    "f.update_layout(height=800,width = 1000,showlegend=False,font_size=12,font_family=\"Arial\",plot_bgcolor=\"white\",\n",
    "    xaxis=dict(linecolor=\"black\"),xaxis2=dict(linecolor=\"black\"),\n",
    "    yaxis=dict(linecolor=\"black\"),yaxis2=dict(linecolor=\"black\"))\n",
    "f.add_vline(x=1,line_dash=\"dash\",line_color = \"black\",opacity=1,row=1,col=1)\n",
    "f.add_vline(x=1,line_dash=\"dash\",line_color = \"black\",opacity=1,row=2,col=1)\n",
    "f.update_xaxes(ticks=\"outside\")\n",
    "f.update_yaxes(ticks=\"outside\")\n",
    "\n",
    "f.layout[\"annotations\"][0].x=-0.4\n",
    "f.layout[\"annotations\"][1].x=-0.4\n",
    "f.layout[\"annotations\"][0].y=1.01\n",
    "f.layout[\"annotations\"][1].y=0.5\n",
    "f.update_layout(xaxis={\"tickmode\": \"array\",\"tickvals\": pd.to_numeric([f\"{n:.1g}\" for n in np.geomspace(0.01, 12, 15)])})\n",
    "f.update_layout(xaxis2={\"tickmode\": \"array\",\"tickvals\": pd.to_numeric([f\"{n:.1g}\" for n in np.geomspace(0.01, 15, 10)])})\n",
    "#f.write_image(\"fig1.svg\")\n",
    "f"
   ]
  },
  {
   "cell_type": "markdown",
   "id": "18fac145-ff03-48fe-a693-3bf38a932407",
   "metadata": {},
   "source": [
    "## Fig 3"
   ]
  },
  {
   "cell_type": "code",
   "execution_count": 15,
   "id": "890001eb-4e01-46f7-9b68-aac35783cd03",
   "metadata": {},
   "outputs": [],
   "source": [
    "def d_euclidian(df,ydf):\n",
    "    tam = len(df.columns)\n",
    "    mh = np.ones(tam)\n",
    "    md = np.ones(tam)\n",
    "    mn = np.ones(tam)\n",
    "    hdf =df.loc[ydf ==\"h\"]\n",
    "    ndf =df.loc[ydf ==\"n\"]\n",
    "    ddf =df.loc[ydf ==\"d\"]\n",
    "    for i in range(tam):\n",
    "        mh[i] = np.mean(hdf.iloc[:,i])\n",
    "        mn[i] = np.mean(ndf.iloc[:,i]) \n",
    "        md[i] = np.mean(ddf.iloc[:,i]) \n",
    "    dhn = np.linalg.norm(mh-mn)\n",
    "    dhd = np.linalg.norm(mh-md)\n",
    "    dnd = np.linalg.norm(mn-md)\n",
    "    return dhn,dhd,dnd\n",
    "\n",
    "def Calinski_Harabasz(df,ydf):\n",
    "    dhn = calinski_harabasz_score(df[ydf!=\"d\"],ydf[ydf!=\"d\"])\n",
    "    dhd = calinski_harabasz_score(df[ydf!=\"n\"],ydf[ydf!=\"n\"])\n",
    "    dnd = calinski_harabasz_score(df[ydf!=\"h\"],ydf[ydf!=\"h\"])\n",
    "    return dhn,dhd,dnd\n",
    "\n",
    "def newton(df,ydf,xi,yi,num_itera,f_dist):\n",
    "    dhn,dhd,dnd = f_dist(df,ydf)\n",
    "    def fxy(x,y):\n",
    "        return np.array([x**2 + y**2 - dhd**2, x**2 + dhn**2 - 2*dhn*y + y**2 - dnd**2])\n",
    "    def jxy(x,y):\n",
    "        return np.array([[2*x,2*y],[2*x,2*y - 2*dhn]])\n",
    "    x = xi\n",
    "    y= yi\n",
    "    for i in range(num_itera):\n",
    "        p = np.linalg.solve(jxy(x,y), -fxy(x,y))\n",
    "        x = x+p[0]\n",
    "        y = y+p[1]\n",
    "        print(str(x)+\" \"+str(y))\n",
    "    return x,y,dhn,dhd,dnd\n",
    "\n",
    "def figure_d2_traces(x,y,dhn,dhd,dnd,leg=False):\n",
    "    data = go.Line(x=[0,0,x,0],\n",
    "                      y=[0,dhn,y,0],\n",
    "                      mode='lines',\n",
    "                      line=dict(width=1, dash='dash'),\n",
    "                      name='citations',legendgroup='5',showlegend=False)\n",
    "    dist = go.Scatter(x=[0,x/2,x/2],\n",
    "                      y=[dhn/2,y/2,(y-dhn)/2+dhn],\n",
    "                      text=[\"{:.2f}\".format(dhn),\"{:.2f}\".format(dhd),\"{:.2f}\".format(dnd)],\n",
    "                      textposition='top right',\n",
    "                      mode='text',legendgroup='5',showlegend=False)\n",
    "    Hfig = go.Scatter(x=[0],y=[0],mode=\"markers\",\n",
    "                      marker=dict(color=\"#7f7f7f\",symbol=\"cross\",size=12), \n",
    "                      #text=[\"Healthy\"],\n",
    "                      #textposition='middle right',\n",
    "                      #textfont=dict(color='#7f7f7f'),\n",
    "                      name = \"Healthy\",legendgroup='1',showlegend=leg\n",
    "    )\n",
    "    Nfig = go.Scatter(x=[0],y=[dhn],mode=\"markers\",\n",
    "                      marker=dict(color=\"#ff7f0e\",symbol=\"star\",size=12), \n",
    "                      #text=[\"Dose 2 non-responders\"],\n",
    "                      #textposition='middle left',\n",
    "                      #textfont=dict(color='#ff7f0e'),\n",
    "                      name = \"Dose 2 non-responders\",legendgroup='1',showlegend=leg\n",
    "    )\n",
    "    Dfig = go.Scatter(x=[x],y=[y],mode=\"markers\",\n",
    "                      marker=dict(color=\"#1f77b4\",size=12), \n",
    "                      #text=[\"Dose 2 detectable\"],\n",
    "                      #textposition='middle right',\n",
    "                      #textfont=dict(color='#1f77b4'),\n",
    "                      name = \"Dose 2 detectable\",legendgroup='1',showlegend=leg\n",
    "    )\n",
    "    return data,dist,Nfig,Hfig,Dfig\n",
    "\n",
    "def figure_d3_traces(x,y,dhn,dhd,dnd,leg=False):\n",
    "    data = go.Line(x=[0,0,x,0],\n",
    "                      y=[0,dhn,y,0],\n",
    "                      mode='lines',\n",
    "                      line=dict(width=1, dash='dash'),\n",
    "                      name='citations',legendgroup='5',showlegend=False)\n",
    "    dist = go.Scatter(x=[0,x/2,x/2],\n",
    "                      y=[dhn/2,y/2,(y-dhn)/2+dhn],\n",
    "                      text=[\"{:.2f}\".format(dhn),\"{:.2f}\".format(dhd),\"{:.2f}\".format(dnd)],\n",
    "                      textposition='top right',\n",
    "                      mode='text',legendgroup='5',showlegend=False)\n",
    "    Hfig = go.Scatter(x=[0],y=[0],mode=\"markers\",\n",
    "                      marker=dict(color=\"#7f7f7f\",symbol=\"cross\",size=12), \n",
    "                      #text=[\"Healthy\"],\n",
    "                      #textposition='middle right',\n",
    "                      #textfont=dict(color='#7f7f7f'),\n",
    "                      name = \"Healthy\",legendgroup='2',showlegend=leg\n",
    "    )\n",
    "    Nfig = go.Scatter(x=[0],y=[dhn],mode=\"markers\",\n",
    "                      marker=dict(color=\"#ffaa00\",symbol=\"star\",size=12), \n",
    "                      #text=[\"Dose 2 non-responders\"],\n",
    "                      #textposition='middle left',\n",
    "                      #textfont=dict(color='#ff7f0e'),\n",
    "                      name = \"Dose 3 non-positives\",legendgroup='2',showlegend=leg\n",
    "    )\n",
    "    Dfig = go.Scatter(x=[x],y=[y],mode=\"markers\",\n",
    "                      marker=dict(color=\"#2ca02c\",size=12), \n",
    "                      #text=[\"Dose 2 detectable\"],\n",
    "                      #textposition='middle right',\n",
    "                      #textfont=dict(color='#1f77b4'),\n",
    "                      name = \"Dose 3 positives\",legendgroup='2',showlegend=leg\n",
    "    )\n",
    "    return data,dist,Nfig,Hfig,Dfig"
   ]
  },
  {
   "cell_type": "code",
   "execution_count": 17,
   "id": "66696cb6-9649-4182-9c05-dadd7b88bcd0",
   "metadata": {},
   "outputs": [
    {
     "name": "stderr",
     "output_type": "stream",
     "text": [
      "C:\\Users\\rafae\\AppData\\Local\\Temp\\ipykernel_11656\\917132213.py:20: SettingWithCopyWarning:\n",
      "\n",
      "\n",
      "A value is trying to be set on a copy of a slice from a DataFrame\n",
      "\n",
      "See the caveats in the documentation: https://pandas.pydata.org/pandas-docs/stable/user_guide/indexing.html#returning-a-view-versus-a-copy\n",
      "\n",
      "C:\\Users\\rafae\\AppData\\Local\\Temp\\ipykernel_11656\\917132213.py:22: SettingWithCopyWarning:\n",
      "\n",
      "\n",
      "A value is trying to be set on a copy of a slice from a DataFrame\n",
      "\n",
      "See the caveats in the documentation: https://pandas.pydata.org/pandas-docs/stable/user_guide/indexing.html#returning-a-view-versus-a-copy\n",
      "\n"
     ]
    },
    {
     "name": "stdout",
     "output_type": "stream",
     "text": [
      "1.9457473868662558 2.9147855945444494\n",
      "1.5008615770647302 2.9147855945444494\n",
      "1.4349249887786069 2.9147855945444494\n",
      "1.4334100546500586 2.9147855945444494\n",
      "1.4334092541026484 2.9147855945444494\n",
      "1.4334092541024248 2.9147855945444494\n",
      "1.4334092541024248 2.9147855945444494\n",
      "1.4334092541024248 2.9147855945444494\n",
      "1.4334092541024248 2.9147855945444494\n",
      "1.4334092541024248 2.9147855945444494\n",
      "16.087428866026602 -2.5056476143086677\n",
      "8.381680101681821 -2.5056476143086677\n",
      "4.839516519986154 -2.5056476143086677\n",
      "3.5432173145102546 -2.5056476143086686\n",
      "3.3060893766843873 -2.5056476143086686\n",
      "3.297585423449774 -2.5056476143086686\n",
      "3.297574458272026 -2.5056476143086686\n",
      "3.297574458253796 -2.505647614308668\n",
      "3.297574458253796 -2.505647614308668\n",
      "3.297574458253796 -2.505647614308668\n",
      "0.4350774330345757 2.1959872265094322\n",
      "0.024175289561129687 2.1959872265094322\n",
      "-3.467831933023349 2.1959872265094322\n",
      "-1.7096564103775604 2.195987226509432\n",
      "-0.80562062000839 2.1959872265094322\n",
      "-0.29838390711249907 2.1959872265094322\n",
      "0.13275375945814266 2.1959872265094322\n",
      "-0.5673382315132531 2.1959872265094322\n",
      "-0.13538356267753965 2.1959872265094322\n",
      "0.5537135191202864 2.1959872265094322\n",
      "3.7718090126205865 0.7080826146846131\n",
      "2.532088801226947 0.7080826146846134\n",
      "2.228602959460029 0.7080826146846132\n",
      "2.2079389699947884 0.708082614684613\n",
      "2.2078422733771683 0.7080826146846132\n",
      "2.207842271259663 0.708082614684613\n",
      "2.207842271259663 0.7080826146846133\n",
      "2.207842271259663 0.7080826146846132\n",
      "2.207842271259663 0.7080826146846131\n",
      "2.207842271259663 0.7080826146846134\n"
     ]
    },
    {
     "name": "stderr",
     "output_type": "stream",
     "text": [
      "C:\\Users\\rafae\\anaconda3\\envs\\ML\\lib\\site-packages\\plotly\\graph_objs\\_deprecations.py:378: DeprecationWarning:\n",
      "\n",
      "plotly.graph_objs.Line is deprecated.\n",
      "Please replace it with one of the following more specific types\n",
      "  - plotly.graph_objs.scatter.Line\n",
      "  - plotly.graph_objs.layout.shape.Line\n",
      "  - etc.\n",
      "\n",
      "\n",
      "C:\\Users\\rafae\\anaconda3\\envs\\ML\\lib\\site-packages\\plotly\\graph_objs\\_deprecations.py:378: DeprecationWarning:\n",
      "\n",
      "plotly.graph_objs.Line is deprecated.\n",
      "Please replace it with one of the following more specific types\n",
      "  - plotly.graph_objs.scatter.Line\n",
      "  - plotly.graph_objs.layout.shape.Line\n",
      "  - etc.\n",
      "\n",
      "\n",
      "C:\\Users\\rafae\\anaconda3\\envs\\ML\\lib\\site-packages\\plotly\\graph_objs\\_deprecations.py:378: DeprecationWarning:\n",
      "\n",
      "plotly.graph_objs.Line is deprecated.\n",
      "Please replace it with one of the following more specific types\n",
      "  - plotly.graph_objs.scatter.Line\n",
      "  - plotly.graph_objs.layout.shape.Line\n",
      "  - etc.\n",
      "\n",
      "\n",
      "C:\\Users\\rafae\\anaconda3\\envs\\ML\\lib\\site-packages\\plotly\\graph_objs\\_deprecations.py:378: DeprecationWarning:\n",
      "\n",
      "plotly.graph_objs.Line is deprecated.\n",
      "Please replace it with one of the following more specific types\n",
      "  - plotly.graph_objs.scatter.Line\n",
      "  - plotly.graph_objs.layout.shape.Line\n",
      "  - etc.\n",
      "\n",
      "\n"
     ]
    },
    {
     "ename": "AttributeError",
     "evalue": "type object 'DOMWidget' has no attribute '_ipython_display_'",
     "output_type": "error",
     "traceback": [
      "\u001b[1;31m---------------------------------------------------------------------------\u001b[0m",
      "\u001b[1;31mAttributeError\u001b[0m                            Traceback (most recent call last)",
      "\u001b[1;32m~\\anaconda3\\envs\\ML\\lib\\site-packages\\IPython\\core\\formatters.py\u001b[0m in \u001b[0;36m__call__\u001b[1;34m(self, obj)\u001b[0m\n\u001b[0;32m    916\u001b[0m             \u001b[0mmethod\u001b[0m \u001b[1;33m=\u001b[0m \u001b[0mget_real_method\u001b[0m\u001b[1;33m(\u001b[0m\u001b[0mobj\u001b[0m\u001b[1;33m,\u001b[0m \u001b[0mself\u001b[0m\u001b[1;33m.\u001b[0m\u001b[0mprint_method\u001b[0m\u001b[1;33m)\u001b[0m\u001b[1;33m\u001b[0m\u001b[1;33m\u001b[0m\u001b[0m\n\u001b[0;32m    917\u001b[0m             \u001b[1;32mif\u001b[0m \u001b[0mmethod\u001b[0m \u001b[1;32mis\u001b[0m \u001b[1;32mnot\u001b[0m \u001b[1;32mNone\u001b[0m\u001b[1;33m:\u001b[0m\u001b[1;33m\u001b[0m\u001b[1;33m\u001b[0m\u001b[0m\n\u001b[1;32m--> 918\u001b[1;33m                 \u001b[0mmethod\u001b[0m\u001b[1;33m(\u001b[0m\u001b[1;33m)\u001b[0m\u001b[1;33m\u001b[0m\u001b[1;33m\u001b[0m\u001b[0m\n\u001b[0m\u001b[0;32m    919\u001b[0m                 \u001b[1;32mreturn\u001b[0m \u001b[1;32mTrue\u001b[0m\u001b[1;33m\u001b[0m\u001b[1;33m\u001b[0m\u001b[0m\n\u001b[0;32m    920\u001b[0m \u001b[1;33m\u001b[0m\u001b[0m\n",
      "\u001b[1;32m~\\anaconda3\\envs\\ML\\lib\\site-packages\\plotly\\basewidget.py\u001b[0m in \u001b[0;36m_ipython_display_\u001b[1;34m(self)\u001b[0m\n\u001b[0;32m    739\u001b[0m         \"\"\"\n\u001b[0;32m    740\u001b[0m         \u001b[1;31m# Override BaseFigure's display to make sure we display the widget version\u001b[0m\u001b[1;33m\u001b[0m\u001b[1;33m\u001b[0m\u001b[0m\n\u001b[1;32m--> 741\u001b[1;33m         \u001b[0mwidgets\u001b[0m\u001b[1;33m.\u001b[0m\u001b[0mDOMWidget\u001b[0m\u001b[1;33m.\u001b[0m\u001b[0m_ipython_display_\u001b[0m\u001b[1;33m(\u001b[0m\u001b[0mself\u001b[0m\u001b[1;33m)\u001b[0m\u001b[1;33m\u001b[0m\u001b[1;33m\u001b[0m\u001b[0m\n\u001b[0m\u001b[0;32m    742\u001b[0m \u001b[1;33m\u001b[0m\u001b[0m\n\u001b[0;32m    743\u001b[0m     \u001b[1;31m# Callbacks\u001b[0m\u001b[1;33m\u001b[0m\u001b[1;33m\u001b[0m\u001b[0m\n",
      "\u001b[1;31mAttributeError\u001b[0m: type object 'DOMWidget' has no attribute '_ipython_display_'"
     ]
    },
    {
     "data": {
      "application/vnd.plotly.v1+json": {
       "config": {
        "plotlyServerURL": "https://plot.ly"
       },
       "data": [
        {
         "legendgroup": "5",
         "marker": {
          "color": "#7f7f7f",
          "symbol": "cross"
         },
         "mode": "markers",
         "name": "Healthy",
         "showlegend": false,
         "type": "scatter",
         "uid": "610e2aaf-c5b2-49c2-8cb9-8af386ff45da",
         "x": [
          6.552722930908203,
          7.538249969482422,
          11.87488079071045,
          5.81795072555542,
          7.0040082931518555,
          10.853111267089844,
          5.428650379180908,
          6.344264984130859,
          6.116805076599121,
          6.495828151702881,
          5.6965742111206055,
          5.021254539489746,
          7.734560012817383,
          9.379858016967773,
          9.398636817932129,
          10.372042655944824,
          9.55317211151123,
          8.957364082336426,
          10.347152709960938,
          7.974241256713867
         ],
         "xaxis": "x",
         "y": [
          -1.5581307411193848,
          -3.876699686050415,
          2.0839498043060303,
          -4.101552963256836,
          -4.24306058883667,
          1.6004027128219604,
          -2.546436071395874,
          -4.474379539489746,
          -0.8126764893531799,
          -3.6990323066711426,
          -1.7746187448501587,
          -1.7538752555847168,
          -0.18991491198539734,
          -2.1814138889312744,
          -3.1397552490234375,
          -1.8916090726852417,
          -1.1300235986709595,
          -2.0476574897766113,
          -0.806640088558197,
          -2.5434036254882812
         ],
         "yaxis": "y"
        },
        {
         "legendgroup": "5",
         "marker": {
          "color": "#ff7f0e",
          "symbol": "star"
         },
         "mode": "markers",
         "name": "Dose 2 non-responders",
         "showlegend": false,
         "type": "scatter",
         "uid": "4bb030fd-e2ad-4402-86b4-48cb9a41ca61",
         "x": [
          9.790343284606934,
          7.278537750244141,
          6.6246867179870605,
          9.542789459228516,
          11.467239379882812,
          6.170177936553955,
          8.767172813415527,
          5.154226779937744,
          10.18016242980957,
          10.24705982208252,
          7.419483661651611,
          7.899293899536133,
          8.370590209960938,
          8.250138282775879,
          10.96668815612793,
          4.504922866821289,
          10.125816345214844,
          7.547464370727539,
          8.693434715270996,
          9.254786491394043,
          9.943198204040527,
          11.4143705368042,
          10.714324951171875,
          5.035703182220459,
          11.046546936035156,
          6.2022504806518555,
          5.838754177093506,
          8.886682510375977,
          9.41749095916748,
          4.637895584106445,
          4.880906581878662,
          6.1859331130981445,
          4.521207332611084,
          5.672520160675049,
          5.629972457885742,
          4.980391979217529,
          4.770572185516357,
          7.692082405090332,
          5.734170436859131,
          5.633347511291504,
          6.8153181076049805,
          9.581249237060547,
          6.043641090393066,
          4.8749613761901855,
          5.786640167236328,
          7.9524946212768555,
          8.235709190368652,
          8.41380786895752,
          8.837526321411133
         ],
         "xaxis": "x",
         "y": [
          -1.5212956666946411,
          -2.5641229152679443,
          2.298912763595581,
          3.319323778152466,
          1.54972505569458,
          -2.5446650981903076,
          2.2509148120880127,
          -3.5281848907470703,
          1.8064345121383667,
          2.6599509716033936,
          0.7794057130813599,
          -1.6251436471939087,
          -0.9604724049568176,
          1.866951823234558,
          -0.21389831602573395,
          -2.4132800102233887,
          0.34258219599723816,
          0.27080729603767395,
          -2.411355972290039,
          2.074747323989868,
          -0.016834283247590065,
          0.27503901720046997,
          2.6679792404174805,
          -1.0642088651657104,
          1.113026738166809,
          -1.8528803586959839,
          1.2145766019821167,
          -3.070727586746216,
          1.6046881675720215,
          1.2904354333877563,
          2.83829402923584,
          1.8447611331939697,
          0.8244830965995789,
          3.0737640857696533,
          1.4782785177230835,
          2.450894594192505,
          0.2155710756778717,
          1.8460919857025146,
          -0.7584545612335205,
          0.4606139063835144,
          0.25100600719451904,
          1.2722522020339966,
          -3.270141124725342,
          1.1306735277175903,
          2.2267558574676514,
          -2.9124515056610107,
          0.24116790294647217,
          -0.025068026036024094,
          -1.0627249479293823
         ],
         "yaxis": "y"
        },
        {
         "legendgroup": "5",
         "marker": {
          "color": "#1f77b4"
         },
         "mode": "markers",
         "name": "Dose 2 detectable",
         "showlegend": false,
         "type": "scatter",
         "uid": "115c667e-c69a-456e-aec2-cd57bda72ba4",
         "x": [
          11.134803771972656,
          7.810913562774658,
          10.763227462768555,
          10.177023887634277,
          9.082472801208496,
          9.094802856445312,
          6.467442989349365,
          8.353425025939941,
          11.180329322814941,
          7.620631217956543,
          10.826210975646973,
          9.323993682861328,
          8.29267406463623,
          7.9581298828125,
          10.140608787536621,
          10.64693546295166,
          5.376533031463623,
          7.557012557983398,
          10.754849433898926,
          9.936785697937012,
          9.80748462677002,
          8.870573043823242,
          11.38814926147461,
          6.397104740142822,
          7.364299297332764,
          5.435308456420898,
          5.9349284172058105,
          6.01142692565918,
          6.8855977058410645,
          10.7428617477417,
          9.36974048614502,
          8.81600570678711,
          8.258360862731934,
          9.76563835144043,
          9.050334930419922
         ],
         "xaxis": "x",
         "y": [
          0.7093368172645569,
          2.7024290561676025,
          3.515523910522461,
          3.5642154216766357,
          3.479121208190918,
          2.740267276763916,
          1.5857250690460205,
          3.3647878170013428,
          -1.2967067956924438,
          -0.9920651316642761,
          -1.2739030122756958,
          0.3234652280807495,
          -1.4243773221969604,
          -0.46589401364326477,
          -2.477797508239746,
          0.8009752035140991,
          -1.8548121452331543,
          -2.089562177658081,
          -2.1977133750915527,
          1.635239839553833,
          0.033651288598775864,
          -0.5586861968040466,
          2.4517812728881836,
          0.8137437105178833,
          1.507990837097168,
          1.7167142629623413,
          2.7415528297424316,
          -0.1309884786605835,
          -0.7825412750244141,
          -2.8352036476135254,
          1.0072557926177979,
          0.9111124277114868,
          -3.468259811401367,
          -0.4552100598812103,
          -0.0921691507101059
         ],
         "yaxis": "y"
        },
        {
         "legendgroup": "5",
         "line": {
          "dash": "dash",
          "width": 1
         },
         "mode": "lines",
         "name": "citations",
         "showlegend": false,
         "type": "scatter",
         "uid": "8fa1f0d8-70c6-4412-bff9-a07ade7f2968",
         "x": [
          0,
          0,
          1.4334092541024248,
          0
         ],
         "xaxis": "x2",
         "y": [
          0,
          3.1606713369534023,
          2.9147855945444494,
          0
         ],
         "yaxis": "y2"
        },
        {
         "legendgroup": "5",
         "mode": "text",
         "showlegend": false,
         "text": [
          "3.16",
          "3.25",
          "1.45"
         ],
         "textposition": "top right",
         "type": "scatter",
         "uid": "eeec41a1-b6ef-44ad-a0fa-f1bb2149e1aa",
         "x": [
          0,
          0.7167046270512124,
          0.7167046270512124
         ],
         "xaxis": "x2",
         "y": [
          1.5803356684767011,
          1.4573927972722247,
          3.037728465748926
         ],
         "yaxis": "y2"
        },
        {
         "legendgroup": "1",
         "marker": {
          "color": "#ff7f0e",
          "size": 12,
          "symbol": "star"
         },
         "mode": "markers",
         "name": "Dose 2 non-responders",
         "showlegend": true,
         "type": "scatter",
         "uid": "8503f12f-bafc-4cdb-9f53-6cdbfce93249",
         "x": [
          0
         ],
         "xaxis": "x2",
         "y": [
          3.1606713369534023
         ],
         "yaxis": "y2"
        },
        {
         "legendgroup": "1",
         "marker": {
          "color": "#7f7f7f",
          "size": 12,
          "symbol": "cross"
         },
         "mode": "markers",
         "name": "Healthy",
         "showlegend": true,
         "type": "scatter",
         "uid": "988176e5-4310-4534-ab9e-cb8749df5f13",
         "x": [
          0
         ],
         "xaxis": "x2",
         "y": [
          0
         ],
         "yaxis": "y2"
        },
        {
         "legendgroup": "1",
         "marker": {
          "color": "#1f77b4",
          "size": 12
         },
         "mode": "markers",
         "name": "Dose 2 detectable",
         "showlegend": true,
         "type": "scatter",
         "uid": "7b8aceba-6167-4190-a71f-36a0cccef396",
         "x": [
          1.4334092541024248
         ],
         "xaxis": "x2",
         "y": [
          2.9147855945444494
         ],
         "yaxis": "y2"
        },
        {
         "legendgroup": "5",
         "marker": {
          "color": "#7f7f7f",
          "symbol": "cross"
         },
         "mode": "markers",
         "name": "Healthy",
         "showlegend": false,
         "type": "scatter",
         "uid": "c448416c-5d45-4c5b-a45f-ffa17534aa5f",
         "x": [
          6.531366348266602,
          5.085212230682373,
          -0.615364670753479,
          5.227657318115234,
          6.029520034790039,
          5.070193767547607,
          4.010739803314209,
          5.690169334411621,
          5.5709614753723145,
          5.0706095695495605,
          5.795158386230469,
          4.6843461990356445,
          4.120864391326904,
          1.8609418869018555,
          3.146594285964966,
          -2.0638058185577393,
          3.481520175933838,
          -4.26671838760376,
          -1.5144590139389038,
          -0.5165183544158936
         ],
         "xaxis": "x3",
         "y": [
          11.00784683227539,
          9.472339630126953,
          11.665574073791504,
          10.091617584228516,
          8.318532943725586,
          12.060016632080078,
          10.544546127319336,
          9.42154312133789,
          11.22233772277832,
          7.714776992797852,
          10.354111671447754,
          10.889314651489258,
          11.238914489746094,
          9.85472297668457,
          10.82654857635498,
          10.080699920654297,
          11.788623809814453,
          11.65615463256836,
          9.394020080566406,
          7.955574989318848
         ],
         "yaxis": "y3"
        },
        {
         "legendgroup": "5",
         "marker": {
          "color": "#ff7f0e",
          "symbol": "star"
         },
         "mode": "markers",
         "name": "Dose 2 non-responders",
         "showlegend": false,
         "type": "scatter",
         "uid": "af205748-76ac-431f-9389-459cc15b9fd9",
         "x": [
          0.8336971402168274,
          3.5449419021606445,
          3.7256851196289062,
          1.2854502201080322,
          1.1256530284881592,
          4.569077014923096,
          1.6173243522644043,
          4.276072978973389,
          2.6544346809387207,
          0.9293519854545593,
          0.07315324991941452,
          -4.513909816741943,
          0.30497997999191284,
          2.796542167663574,
          3.112699270248413,
          2.3396623134613037,
          -0.11020310968160629,
          2.847033977508545,
          -2.2170450687408447,
          2.7191076278686523,
          5.280115127563477,
          -3.8591697216033936,
          1.5566719770431519,
          0.5636914968490601,
          -0.41919970512390137,
          6.045569896697998,
          2.4963440895080566,
          4.0529046058654785,
          3.592775821685791,
          5.594537258148193,
          3.239171266555786,
          2.109065055847168,
          6.27234411239624,
          2.5881617069244385,
          0.7254749536514282,
          2.1029093265533447,
          4.396962642669678,
          3.6024723052978516,
          4.745197772979736,
          6.020395278930664,
          1.032142162322998,
          1.6183037757873535,
          5.145397186279297,
          3.247344732284546,
          2.0083887577056885,
          -1.0036497116088867,
          -1.4690972566604614,
          -3.9471652507781982,
          3.6718831062316895
         ],
         "xaxis": "x3",
         "y": [
          8.377153396606445,
          9.016487121582031,
          8.194268226623535,
          7.017094612121582,
          14.01662826538086,
          10.014205932617188,
          13.615317344665527,
          9.55168342590332,
          9.16391372680664,
          7.6235671043396,
          10.288003921508789,
          13.574664115905762,
          8.049107551574707,
          8.761408805847168,
          12.02453899383545,
          13.550268173217773,
          7.425658226013184,
          7.3277506828308105,
          9.659597396850586,
          10.34495735168457,
          8.2517728805542,
          13.985064506530762,
          10.639646530151367,
          10.688292503356934,
          10.01817798614502,
          11.176604270935059,
          8.149754524230957,
          8.095319747924805,
          9.128005027770996,
          6.6501593589782715,
          10.013179779052734,
          7.9880547523498535,
          7.236669063568115,
          9.681246757507324,
          8.739957809448242,
          7.436873435974121,
          7.5821638107299805,
          10.824056625366211,
          6.898886203765869,
          7.669823169708252,
          11.400253295898438,
          13.140172958374023,
          9.1353759765625,
          8.08316707611084,
          6.918360233306885,
          8.290295600891113,
          13.811117172241211,
          11.688376426696777,
          11.732890129089355
         ],
         "yaxis": "y3"
        },
        {
         "legendgroup": "5",
         "marker": {
          "color": "#1f77b4"
         },
         "mode": "markers",
         "name": "Dose 2 detectable",
         "showlegend": false,
         "type": "scatter",
         "uid": "ba412ec1-4886-4580-a28f-ce41599d690f",
         "x": [
          -0.13278420269489288,
          -0.47435861825942993,
          -0.48098117113113403,
          -0.9574373960494995,
          0.32725098729133606,
          -1.4462264776229858,
          2.984697103500366,
          0.15953736007213593,
          2.108120918273926,
          -4.43831729888916,
          -2.92132306098938,
          -3.9215235710144043,
          -1.4369295835494995,
          0.9726335406303406,
          -2.823115348815918,
          -3.250993013381958,
          5.844316005706787,
          -1.4538837671279907,
          -3.990229606628418,
          1.6561089754104614,
          -0.521812379360199,
          -3.387173652648926,
          0.0823991447687149,
          2.2449567317962646,
          1.553091287612915,
          5.46776819229126,
          0.21187451481819153,
          1.6152918338775635,
          0.8174774646759033,
          -2.722975492477417,
          -4.558413028717041,
          -2.3838038444519043,
          2.8937571048736572,
          -2.3967225551605225,
          -3.798435688018799
         ],
         "xaxis": "x3",
         "y": [
          9.296266555786133,
          12.649888038635254,
          13.795870780944824,
          12.725829124450684,
          12.990312576293945,
          12.38857650756836,
          7.119775295257568,
          13.941729545593262,
          14.08044719696045,
          12.861151695251465,
          13.76447868347168,
          14.506425857543945,
          14.249271392822266,
          12.392847061157227,
          10.82653522491455,
          14.570344924926758,
          11.969697952270508,
          9.096303939819336,
          12.339627265930176,
          12.23254108428955,
          7.654174327850342,
          11.509340286254883,
          11.05947494506836,
          11.259749412536621,
          11.925644874572754,
          7.027981281280518,
          11.826390266418457,
          9.393387794494629,
          9.477495193481445,
          14.428058624267578,
          14.230154991149902,
          13.631028175354004,
          11.364376068115234,
          14.4718599319458,
          11.27764892578125
         ],
         "yaxis": "y3"
        },
        {
         "legendgroup": "5",
         "line": {
          "dash": "dash",
          "width": 1
         },
         "mode": "lines",
         "name": "citations",
         "showlegend": false,
         "type": "scatter",
         "uid": "b4829c5b-2ccd-4f63-81a2-b9bce1dd2382",
         "x": [
          0,
          0,
          3.297574458253796,
          0
         ],
         "xaxis": "x4",
         "y": [
          0,
          3.2144417088856487,
          -2.505647614308668,
          0
         ],
         "yaxis": "y4"
        },
        {
         "legendgroup": "5",
         "mode": "text",
         "showlegend": false,
         "text": [
          "3.21",
          "4.14",
          "6.60"
         ],
         "textposition": "top right",
         "type": "scatter",
         "uid": "e2b0ca5c-abf9-41f9-8530-403b29b24aaa",
         "x": [
          0,
          1.648787229126898,
          1.648787229126898
         ],
         "xaxis": "x4",
         "y": [
          1.6072208544428244,
          -1.252823807154334,
          0.3543970472884901
         ],
         "yaxis": "y4"
        },
        {
         "legendgroup": "1",
         "marker": {
          "color": "#ff7f0e",
          "size": 12,
          "symbol": "star"
         },
         "mode": "markers",
         "name": "Dose 2 non-responders",
         "showlegend": false,
         "type": "scatter",
         "uid": "758c7b6c-5a78-457f-8556-4426570e2325",
         "x": [
          0
         ],
         "xaxis": "x4",
         "y": [
          3.2144417088856487
         ],
         "yaxis": "y4"
        },
        {
         "legendgroup": "1",
         "marker": {
          "color": "#7f7f7f",
          "size": 12,
          "symbol": "cross"
         },
         "mode": "markers",
         "name": "Healthy",
         "showlegend": false,
         "type": "scatter",
         "uid": "e1742f92-a487-4776-9767-6a885d31f4de",
         "x": [
          0
         ],
         "xaxis": "x4",
         "y": [
          0
         ],
         "yaxis": "y4"
        },
        {
         "legendgroup": "1",
         "marker": {
          "color": "#1f77b4",
          "size": 12
         },
         "mode": "markers",
         "name": "Dose 2 detectable",
         "showlegend": false,
         "type": "scatter",
         "uid": "ce313faa-d920-4135-aa51-c8e92024ffd2",
         "x": [
          3.297574458253796
         ],
         "xaxis": "x4",
         "y": [
          -2.505647614308668
         ],
         "yaxis": "y4"
        },
        {
         "legendgroup": "5",
         "marker": {
          "color": "#7f7f7f",
          "symbol": "cross"
         },
         "mode": "markers",
         "name": "Healthy",
         "showlegend": false,
         "type": "scatter",
         "uid": "4538c50f-e028-4b7c-8166-38b6d174eaa0",
         "x": [
          7.294266223907471,
          6.403884410858154,
          2.012723445892334,
          7.078654766082764,
          6.089051723480225,
          2.9826319217681885,
          8.237442016601562,
          6.195648193359375,
          7.390959739685059,
          5.529517650604248,
          7.8172478675842285,
          7.361586093902588,
          6.03483772277832,
          4.079702854156494,
          4.983794212341309,
          3.4647817611694336,
          3.8643882274627686,
          5.147668361663818,
          3.4974613189697266,
          5.594891548156738
         ],
         "xaxis": "x5",
         "y": [
          7.122432231903076,
          9.109905242919922,
          2.7738189697265625,
          9.304200172424316,
          10.26343059539795,
          3.1282272338867188,
          7.735878944396973,
          9.945853233337402,
          6.275285720825195,
          9.175212860107422,
          7.373952865600586,
          7.006105422973633,
          3.8605690002441406,
          6.907408237457275,
          7.1789231300354,
          6.4972357749938965,
          5.898252487182617,
          6.619608402252197,
          5.459867000579834,
          7.328010559082031
         ],
         "yaxis": "y5"
        },
        {
         "legendgroup": "5",
         "marker": {
          "color": "#ffaa00",
          "symbol": "star"
         },
         "mode": "markers",
         "name": "Dose 3 non-positives",
         "showlegend": false,
         "type": "scatter",
         "uid": "227a74ca-12d9-47dc-a8bc-fdb469d0d8da",
         "x": [
          5.0811567306518555,
          4.235651969909668,
          7.602678298950195,
          3.3395707607269287,
          1.2639721632003784,
          4.951174736022949,
          4.289614200592041,
          7.883373260498047,
          1.0463804006576538,
          1.2014408111572266,
          3.531660556793213,
          4.130007743835449,
          4.285089492797852,
          6.296527862548828,
          3.7430479526519775,
          7.230257987976074,
          3.041199207305908,
          2.0490667819976807,
          2.769939422607422,
          8.587483406066895,
          2.7417151927948,
          4.392029285430908,
          3.9556751251220703,
          3.96433687210083,
          1.9143321514129639,
          1.8784304857254028,
          2.369802951812744,
          5.637818813323975,
          3.4439337253570557,
          8.283418655395508,
          6.698090076446533,
          8.465140342712402,
          9.02304458618164,
          6.898813247680664,
          8.873285293579102,
          7.494597434997559,
          7.7515387535095215,
          8.639147758483887,
          5.2309250831604,
          7.277502536773682,
          7.913252830505371,
          6.873634338378906,
          2.570906162261963,
          7.086919784545898,
          6.139422416687012,
          7.58534049987793,
          9.163192749023438,
          5.234767913818359,
          3.856414556503296,
          4.55075216293335,
          5.245203018188477,
          5.791506290435791,
          3.510796070098877,
          4.62529993057251,
          4.509950160980225
         ],
         "xaxis": "x5",
         "y": [
          5.73891019821167,
          5.998023986816406,
          4.398301124572754,
          1.7231181859970093,
          4.5357985496521,
          2.4440996646881104,
          2.9375929832458496,
          9.015586853027344,
          3.421924114227295,
          2.686020612716675,
          2.036529541015625,
          2.279630184173584,
          1.5417407751083374,
          3.1970934867858887,
          8.46274185180664,
          9.963109970092773,
          7.785696506500244,
          4.619871616363525,
          5.486954212188721,
          8.560208320617676,
          4.894219398498535,
          7.59579610824585,
          2.7933554649353027,
          4.872046947479248,
          5.450522422790527,
          3.838322162628174,
          5.970646858215332,
          6.75637674331665,
          3.8053927421569824,
          3.1944565773010254,
          5.164870262145996,
          5.0069379806518555,
          3.82598614692688,
          5.629049301147461,
          5.698730945587158,
          4.855788230895996,
          4.75836181640625,
          3.01631760597229,
          3.2994611263275146,
          3.6319901943206787,
          3.294696807861328,
          2.8396430015563965,
          4.028518199920654,
          8.745401382446289,
          5.50047492980957,
          3.973358154296875,
          5.2732834815979,
          7.989197731018066,
          4.095223903656006,
          5.066600322723389,
          4.981614112854004,
          5.389201641082764,
          4.698729038238525,
          5.683465003967285,
          4.4070353507995605
         ],
         "yaxis": "y5"
        },
        {
         "legendgroup": "5",
         "marker": {
          "color": "#2ca02c"
         },
         "mode": "markers",
         "name": "Dose 3 positives",
         "showlegend": false,
         "type": "scatter",
         "uid": "e84de440-7c3f-44f2-83e8-d7ddf465227b",
         "x": [
          1.5901275873184204,
          2.908432960510254,
          5.424828052520752,
          3.709228515625,
          4.698408126831055,
          4.795462131500244,
          5.6772141456604,
          3.297713041305542,
          8.504158020019531,
          3.218452215194702,
          4.723965644836426,
          4.236234664916992,
          3.052314043045044,
          1.8721493482589722,
          8.036175727844238,
          8.144216537475586,
          8.560263633728027,
          6.319640636444092,
          6.1727399826049805
         ],
         "xaxis": "x5",
         "y": [
          4.956114292144775,
          3.476759433746338,
          4.630468368530273,
          7.645987033843994,
          6.80275821685791,
          4.202293395996094,
          4.273382663726807,
          6.9290995597839355,
          7.192787170410156,
          3.4007174968719482,
          8.030986785888672,
          3.5392518043518066,
          6.638975620269775,
          2.978961229324341,
          6.507908344268799,
          5.344958782196045,
          4.171840190887451,
          6.177936553955078,
          7.51298713684082
         ],
         "yaxis": "y5"
        },
        {
         "legendgroup": "5",
         "line": {
          "dash": "dash",
          "width": 1
         },
         "mode": "lines",
         "name": "citations",
         "showlegend": false,
         "type": "scatter",
         "uid": "7a23869b-a6a0-4f3a-8fe6-4c72bf81c562",
         "x": [
          0,
          0,
          0.5537135191202864,
          0
         ],
         "xaxis": "x6",
         "y": [
          0,
          3.2393660501644783,
          2.1959872265094322,
          0
         ],
         "yaxis": "y6"
        },
        {
         "legendgroup": "5",
         "mode": "text",
         "showlegend": false,
         "text": [
          "3.24",
          "2.16",
          "0.96"
         ],
         "textposition": "top right",
         "type": "scatter",
         "uid": "ddcb554d-f727-46c3-b425-c9f281813af1",
         "x": [
          0,
          0.2768567595601432,
          0.2768567595601432
         ],
         "xaxis": "x6",
         "y": [
          1.6196830250822392,
          1.0979936132547161,
          2.7176766383369553
         ],
         "yaxis": "y6"
        },
        {
         "legendgroup": "2",
         "marker": {
          "color": "#ffaa00",
          "size": 12,
          "symbol": "star"
         },
         "mode": "markers",
         "name": "Dose 3 non-positives",
         "showlegend": true,
         "type": "scatter",
         "uid": "2f6af4de-b02a-412e-8039-b0a074c21307",
         "x": [
          0
         ],
         "xaxis": "x6",
         "y": [
          3.2393660501644783
         ],
         "yaxis": "y6"
        },
        {
         "legendgroup": "2",
         "marker": {
          "color": "#7f7f7f",
          "size": 12,
          "symbol": "cross"
         },
         "mode": "markers",
         "name": "Healthy",
         "showlegend": true,
         "type": "scatter",
         "uid": "9e054ea5-0e2d-49fc-b0a1-affe847a39a7",
         "x": [
          0
         ],
         "xaxis": "x6",
         "y": [
          0
         ],
         "yaxis": "y6"
        },
        {
         "legendgroup": "2",
         "marker": {
          "color": "#2ca02c",
          "size": 12
         },
         "mode": "markers",
         "name": "Dose 3 positives",
         "showlegend": true,
         "type": "scatter",
         "uid": "e1af4be7-7ef3-4276-a8e4-dcee058e9ae3",
         "x": [
          0.5537135191202864
         ],
         "xaxis": "x6",
         "y": [
          2.1959872265094322
         ],
         "yaxis": "y6"
        },
        {
         "legendgroup": "5",
         "marker": {
          "color": "#7f7f7f",
          "symbol": "cross"
         },
         "mode": "markers",
         "name": "Healthy",
         "showlegend": false,
         "type": "scatter",
         "uid": "49d31346-0bba-450b-9f3f-e35a9940fa33",
         "x": [
          -0.1853284388780594,
          2.188832998275757,
          1.0642679929733276,
          0.6563540101051331,
          0.4267750680446625,
          -2.415555000305176,
          -0.5522283315658569,
          -1.5252914428710938,
          1.6031910181045532,
          -2.6979668140411377,
          -4.2163872718811035,
          -2.5467183589935303,
          -2.632830858230591,
          -2.1371679306030273,
          -0.6929894685745239,
          -6.032666206359863,
          -4.972670555114746,
          -2.9535679817199707,
          -1.3206872940063477,
          -2.214266061782837
         ],
         "xaxis": "x7",
         "y": [
          8.049715042114258,
          5.518228054046631,
          1.0469015836715698,
          1.4100843667984009,
          7.801237106323242,
          0.3760383725166321,
          7.469227313995361,
          7.693187713623047,
          3.538994789123535,
          5.87064266204834,
          1.264654278755188,
          7.552649021148682,
          10.37336540222168,
          9.583330154418945,
          11.67921257019043,
          7.725461959838867,
          7.0238776206970215,
          6.545973300933838,
          11.518853187561035,
          8.455842971801758
         ],
         "yaxis": "y7"
        },
        {
         "legendgroup": "5",
         "marker": {
          "color": "#ffaa00",
          "symbol": "star"
         },
         "mode": "markers",
         "name": "Dose 3 non-positives",
         "showlegend": false,
         "type": "scatter",
         "uid": "9d4ceb54-7552-47fb-9edc-cd87f931a2a6",
         "x": [
          -0.7298831939697266,
          -0.361580491065979,
          -4.68756103515625,
          3.0024807453155518,
          -1.5233443975448608,
          -0.019386855885386467,
          -2.088902235031128,
          0.0610727034509182,
          0.8572247624397278,
          -0.6021205186843872,
          -0.6990363597869873,
          -3.1773505210876465,
          1.8639649152755737,
          -0.5744054317474365,
          0.33246102929115295,
          0.3759552538394928,
          2.2176620960235596,
          1.6269842386245728,
          -0.8503827452659607,
          -0.5378709435462952,
          -0.4505416750907898,
          0.45869943499565125,
          -1.220090627670288,
          -2.690866708755493,
          -1.2760748863220215,
          -1.292062520980835,
          2.6745893955230713,
          0.12347397953271866,
          -3.5057413578033447,
          -1.0858733654022217,
          -5.303314208984375,
          -5.3099284172058105,
          -1.2269819974899292,
          -1.4175437688827515,
          -4.328622817993164,
          -5.464162826538086,
          3.1691040992736816,
          1.2553913593292236,
          2.5651137828826904,
          1.1696150302886963,
          -3.3697752952575684,
          -1.9611374139785767,
          -3.6332335472106934,
          0.03540372848510742,
          -3.9900004863739014,
          -3.458601951599121,
          -4.818242073059082,
          -1.6144905090332031,
          -3.3294098377227783,
          -4.101354122161865,
          -4.618344783782959,
          -1.0561354160308838,
          -5.444677352905273,
          -2.748119831085205,
          -5.76546049118042
         ],
         "xaxis": "x7",
         "y": [
          10.868616104125977,
          3.6365723609924316,
          2.543893814086914,
          5.646365165710449,
          6.46099853515625,
          5.242794036865234,
          7.312807083129883,
          1.6808702945709229,
          3.603518009185791,
          1.973143458366394,
          2.782196044921875,
          7.465321063995361,
          4.335266590118408,
          4.940007209777832,
          6.584039211273193,
          0.9672440886497498,
          6.697449684143066,
          6.011820316314697,
          10.064432144165039,
          1.0080710649490356,
          6.103094577789307,
          5.977707386016846,
          5.998136520385742,
          2.2341136932373047,
          10.394502639770508,
          2.6548354625701904,
          6.292869567871094,
          4.1806135177612305,
          1.814374327659607,
          3.6113414764404297,
          2.6432411670684814,
          3.8037149906158447,
          4.329247951507568,
          5.199301242828369,
          5.183441162109375,
          3.4246368408203125,
          6.111534118652344,
          4.90229606628418,
          4.894972801208496,
          4.392571926116943,
          4.6651835441589355,
          4.289272308349609,
          1.9694932699203491,
          0.6155945658683777,
          9.34204387664795,
          5.550378799438477,
          3.214931011199951,
          10.047938346862793,
          8.578269004821777,
          6.945830345153809,
          7.506597995758057,
          12.079368591308594,
          7.523935794830322,
          9.841047286987305,
          7.281962871551514
         ],
         "yaxis": "y7"
        },
        {
         "legendgroup": "5",
         "marker": {
          "color": "#2ca02c"
         },
         "mode": "markers",
         "name": "Dose 3 positives",
         "showlegend": false,
         "type": "scatter",
         "uid": "dfba8f69-1812-4c41-a4fe-403270e1199b",
         "x": [
          0.04867919161915779,
          -1.932359218597412,
          1.9271074533462524,
          -1.9271471500396729,
          -2.530607223510742,
          -3.891191005706787,
          -3.944000005722046,
          -1.2302501201629639,
          -3.3232369422912598,
          -5.693490982055664,
          -3.580416679382324,
          -3.0626261234283447,
          -5.174228191375732,
          0.2692493796348572,
          -3.164313554763794,
          -3.797947645187378,
          -4.360713958740234,
          -4.23102331161499,
          -4.15416955947876
         ],
         "xaxis": "x7",
         "y": [
          7.103326320648193,
          6.084388256072998,
          5.8886919021606445,
          10.706875801086426,
          8.517865180969238,
          6.399172306060791,
          0.5432326793670654,
          6.872086048126221,
          0.7548521757125854,
          2.9109950065612793,
          8.323027610778809,
          0.763742983341217,
          8.135321617126465,
          4.496426582336426,
          -0.06787288188934326,
          4.8394365310668945,
          3.527578830718994,
          4.320949554443359,
          8.833846092224121
         ],
         "yaxis": "y7"
        },
        {
         "legendgroup": "5",
         "line": {
          "dash": "dash",
          "width": 1
         },
         "mode": "lines",
         "name": "citations",
         "showlegend": false,
         "type": "scatter",
         "uid": "a315dcf1-81d5-42c7-91c9-3acbaf9f322b",
         "x": [
          0,
          0,
          2.207842271259663,
          0
         ],
         "xaxis": "x8",
         "y": [
          0,
          4.682668104268037,
          0.7080826146846134,
          0
         ],
         "yaxis": "y8"
        },
        {
         "legendgroup": "5",
         "mode": "text",
         "showlegend": false,
         "text": [
          "4.68",
          "2.32",
          "4.55"
         ],
         "textposition": "top right",
         "type": "scatter",
         "uid": "42131096-dce7-4b7b-8bd2-b87081d33fb2",
         "x": [
          0,
          1.1039211356298315,
          1.1039211356298315
         ],
         "xaxis": "x8",
         "y": [
          2.3413340521340187,
          0.3540413073423067,
          2.6953753594763254
         ],
         "yaxis": "y8"
        },
        {
         "legendgroup": "2",
         "marker": {
          "color": "#ffaa00",
          "size": 12,
          "symbol": "star"
         },
         "mode": "markers",
         "name": "Dose 3 non-positives",
         "showlegend": false,
         "type": "scatter",
         "uid": "ac38e7ce-b8ee-4326-8508-1e44a3d01d97",
         "x": [
          0
         ],
         "xaxis": "x8",
         "y": [
          4.682668104268037
         ],
         "yaxis": "y8"
        },
        {
         "legendgroup": "2",
         "marker": {
          "color": "#7f7f7f",
          "size": 12,
          "symbol": "cross"
         },
         "mode": "markers",
         "name": "Healthy",
         "showlegend": false,
         "type": "scatter",
         "uid": "e720e18a-b1c8-4be0-bd58-41f1151c8f2c",
         "x": [
          0
         ],
         "xaxis": "x8",
         "y": [
          0
         ],
         "yaxis": "y8"
        },
        {
         "legendgroup": "2",
         "marker": {
          "color": "#2ca02c",
          "size": 12
         },
         "mode": "markers",
         "name": "Dose 3 positives",
         "showlegend": false,
         "type": "scatter",
         "uid": "dbf52de5-51c5-4d21-9560-30c8f2815b89",
         "x": [
          2.207842271259663
         ],
         "xaxis": "x8",
         "y": [
          0.7080826146846134
         ],
         "yaxis": "y8"
        }
       ],
       "layout": {
        "annotations": [
         {
          "font": {
           "size": 16
          },
          "showarrow": false,
          "text": "All Dose 2",
          "x": 0.175,
          "xanchor": "center",
          "xref": "paper",
          "y": 1,
          "yanchor": "bottom",
          "yref": "paper"
         },
         {
          "font": {
           "size": 16
          },
          "showarrow": false,
          "text": "Best 10 Dose 2",
          "x": 0.675,
          "xanchor": "center",
          "xref": "paper",
          "y": 1,
          "yanchor": "bottom",
          "yref": "paper"
         },
         {
          "font": {
           "size": 16
          },
          "showarrow": false,
          "text": "All Dose 3",
          "x": 0.175,
          "xanchor": "center",
          "xref": "paper",
          "y": 0.45,
          "yanchor": "bottom",
          "yref": "paper"
         },
         {
          "font": {
           "size": 16
          },
          "showarrow": false,
          "text": "Best 10 Dose 3",
          "x": 0.675,
          "xanchor": "center",
          "xref": "paper",
          "y": 0.45,
          "yanchor": "bottom",
          "yref": "paper"
         }
        ],
        "height": 600,
        "legend": {
         "tracegroupgap": 180
        },
        "showlegend": true,
        "template": {
         "data": {
          "bar": [
           {
            "error_x": {
             "color": "#2a3f5f"
            },
            "error_y": {
             "color": "#2a3f5f"
            },
            "marker": {
             "line": {
              "color": "white",
              "width": 0.5
             },
             "pattern": {
              "fillmode": "overlay",
              "size": 10,
              "solidity": 0.2
             }
            },
            "type": "bar"
           }
          ],
          "barpolar": [
           {
            "marker": {
             "line": {
              "color": "white",
              "width": 0.5
             },
             "pattern": {
              "fillmode": "overlay",
              "size": 10,
              "solidity": 0.2
             }
            },
            "type": "barpolar"
           }
          ],
          "carpet": [
           {
            "aaxis": {
             "endlinecolor": "#2a3f5f",
             "gridcolor": "#C8D4E3",
             "linecolor": "#C8D4E3",
             "minorgridcolor": "#C8D4E3",
             "startlinecolor": "#2a3f5f"
            },
            "baxis": {
             "endlinecolor": "#2a3f5f",
             "gridcolor": "#C8D4E3",
             "linecolor": "#C8D4E3",
             "minorgridcolor": "#C8D4E3",
             "startlinecolor": "#2a3f5f"
            },
            "type": "carpet"
           }
          ],
          "choropleth": [
           {
            "colorbar": {
             "outlinewidth": 0,
             "ticks": ""
            },
            "type": "choropleth"
           }
          ],
          "contour": [
           {
            "colorbar": {
             "outlinewidth": 0,
             "ticks": ""
            },
            "colorscale": [
             [
              0,
              "#0d0887"
             ],
             [
              0.1111111111111111,
              "#46039f"
             ],
             [
              0.2222222222222222,
              "#7201a8"
             ],
             [
              0.3333333333333333,
              "#9c179e"
             ],
             [
              0.4444444444444444,
              "#bd3786"
             ],
             [
              0.5555555555555556,
              "#d8576b"
             ],
             [
              0.6666666666666666,
              "#ed7953"
             ],
             [
              0.7777777777777778,
              "#fb9f3a"
             ],
             [
              0.8888888888888888,
              "#fdca26"
             ],
             [
              1,
              "#f0f921"
             ]
            ],
            "type": "contour"
           }
          ],
          "contourcarpet": [
           {
            "colorbar": {
             "outlinewidth": 0,
             "ticks": ""
            },
            "type": "contourcarpet"
           }
          ],
          "heatmap": [
           {
            "colorbar": {
             "outlinewidth": 0,
             "ticks": ""
            },
            "colorscale": [
             [
              0,
              "#0d0887"
             ],
             [
              0.1111111111111111,
              "#46039f"
             ],
             [
              0.2222222222222222,
              "#7201a8"
             ],
             [
              0.3333333333333333,
              "#9c179e"
             ],
             [
              0.4444444444444444,
              "#bd3786"
             ],
             [
              0.5555555555555556,
              "#d8576b"
             ],
             [
              0.6666666666666666,
              "#ed7953"
             ],
             [
              0.7777777777777778,
              "#fb9f3a"
             ],
             [
              0.8888888888888888,
              "#fdca26"
             ],
             [
              1,
              "#f0f921"
             ]
            ],
            "type": "heatmap"
           }
          ],
          "heatmapgl": [
           {
            "colorbar": {
             "outlinewidth": 0,
             "ticks": ""
            },
            "colorscale": [
             [
              0,
              "#0d0887"
             ],
             [
              0.1111111111111111,
              "#46039f"
             ],
             [
              0.2222222222222222,
              "#7201a8"
             ],
             [
              0.3333333333333333,
              "#9c179e"
             ],
             [
              0.4444444444444444,
              "#bd3786"
             ],
             [
              0.5555555555555556,
              "#d8576b"
             ],
             [
              0.6666666666666666,
              "#ed7953"
             ],
             [
              0.7777777777777778,
              "#fb9f3a"
             ],
             [
              0.8888888888888888,
              "#fdca26"
             ],
             [
              1,
              "#f0f921"
             ]
            ],
            "type": "heatmapgl"
           }
          ],
          "histogram": [
           {
            "marker": {
             "pattern": {
              "fillmode": "overlay",
              "size": 10,
              "solidity": 0.2
             }
            },
            "type": "histogram"
           }
          ],
          "histogram2d": [
           {
            "colorbar": {
             "outlinewidth": 0,
             "ticks": ""
            },
            "colorscale": [
             [
              0,
              "#0d0887"
             ],
             [
              0.1111111111111111,
              "#46039f"
             ],
             [
              0.2222222222222222,
              "#7201a8"
             ],
             [
              0.3333333333333333,
              "#9c179e"
             ],
             [
              0.4444444444444444,
              "#bd3786"
             ],
             [
              0.5555555555555556,
              "#d8576b"
             ],
             [
              0.6666666666666666,
              "#ed7953"
             ],
             [
              0.7777777777777778,
              "#fb9f3a"
             ],
             [
              0.8888888888888888,
              "#fdca26"
             ],
             [
              1,
              "#f0f921"
             ]
            ],
            "type": "histogram2d"
           }
          ],
          "histogram2dcontour": [
           {
            "colorbar": {
             "outlinewidth": 0,
             "ticks": ""
            },
            "colorscale": [
             [
              0,
              "#0d0887"
             ],
             [
              0.1111111111111111,
              "#46039f"
             ],
             [
              0.2222222222222222,
              "#7201a8"
             ],
             [
              0.3333333333333333,
              "#9c179e"
             ],
             [
              0.4444444444444444,
              "#bd3786"
             ],
             [
              0.5555555555555556,
              "#d8576b"
             ],
             [
              0.6666666666666666,
              "#ed7953"
             ],
             [
              0.7777777777777778,
              "#fb9f3a"
             ],
             [
              0.8888888888888888,
              "#fdca26"
             ],
             [
              1,
              "#f0f921"
             ]
            ],
            "type": "histogram2dcontour"
           }
          ],
          "mesh3d": [
           {
            "colorbar": {
             "outlinewidth": 0,
             "ticks": ""
            },
            "type": "mesh3d"
           }
          ],
          "parcoords": [
           {
            "line": {
             "colorbar": {
              "outlinewidth": 0,
              "ticks": ""
             }
            },
            "type": "parcoords"
           }
          ],
          "pie": [
           {
            "automargin": true,
            "type": "pie"
           }
          ],
          "scatter": [
           {
            "fillpattern": {
             "fillmode": "overlay",
             "size": 10,
             "solidity": 0.2
            },
            "type": "scatter"
           }
          ],
          "scatter3d": [
           {
            "line": {
             "colorbar": {
              "outlinewidth": 0,
              "ticks": ""
             }
            },
            "marker": {
             "colorbar": {
              "outlinewidth": 0,
              "ticks": ""
             }
            },
            "type": "scatter3d"
           }
          ],
          "scattercarpet": [
           {
            "marker": {
             "colorbar": {
              "outlinewidth": 0,
              "ticks": ""
             }
            },
            "type": "scattercarpet"
           }
          ],
          "scattergeo": [
           {
            "marker": {
             "colorbar": {
              "outlinewidth": 0,
              "ticks": ""
             }
            },
            "type": "scattergeo"
           }
          ],
          "scattergl": [
           {
            "marker": {
             "colorbar": {
              "outlinewidth": 0,
              "ticks": ""
             }
            },
            "type": "scattergl"
           }
          ],
          "scattermapbox": [
           {
            "marker": {
             "colorbar": {
              "outlinewidth": 0,
              "ticks": ""
             }
            },
            "type": "scattermapbox"
           }
          ],
          "scatterpolar": [
           {
            "marker": {
             "colorbar": {
              "outlinewidth": 0,
              "ticks": ""
             }
            },
            "type": "scatterpolar"
           }
          ],
          "scatterpolargl": [
           {
            "marker": {
             "colorbar": {
              "outlinewidth": 0,
              "ticks": ""
             }
            },
            "type": "scatterpolargl"
           }
          ],
          "scatterternary": [
           {
            "marker": {
             "colorbar": {
              "outlinewidth": 0,
              "ticks": ""
             }
            },
            "type": "scatterternary"
           }
          ],
          "surface": [
           {
            "colorbar": {
             "outlinewidth": 0,
             "ticks": ""
            },
            "colorscale": [
             [
              0,
              "#0d0887"
             ],
             [
              0.1111111111111111,
              "#46039f"
             ],
             [
              0.2222222222222222,
              "#7201a8"
             ],
             [
              0.3333333333333333,
              "#9c179e"
             ],
             [
              0.4444444444444444,
              "#bd3786"
             ],
             [
              0.5555555555555556,
              "#d8576b"
             ],
             [
              0.6666666666666666,
              "#ed7953"
             ],
             [
              0.7777777777777778,
              "#fb9f3a"
             ],
             [
              0.8888888888888888,
              "#fdca26"
             ],
             [
              1,
              "#f0f921"
             ]
            ],
            "type": "surface"
           }
          ],
          "table": [
           {
            "cells": {
             "fill": {
              "color": "#EBF0F8"
             },
             "line": {
              "color": "white"
             }
            },
            "header": {
             "fill": {
              "color": "#C8D4E3"
             },
             "line": {
              "color": "white"
             }
            },
            "type": "table"
           }
          ]
         },
         "layout": {
          "annotationdefaults": {
           "arrowcolor": "#2a3f5f",
           "arrowhead": 0,
           "arrowwidth": 1
          },
          "autotypenumbers": "strict",
          "coloraxis": {
           "colorbar": {
            "outlinewidth": 0,
            "ticks": ""
           }
          },
          "colorscale": {
           "diverging": [
            [
             0,
             "#8e0152"
            ],
            [
             0.1,
             "#c51b7d"
            ],
            [
             0.2,
             "#de77ae"
            ],
            [
             0.3,
             "#f1b6da"
            ],
            [
             0.4,
             "#fde0ef"
            ],
            [
             0.5,
             "#f7f7f7"
            ],
            [
             0.6,
             "#e6f5d0"
            ],
            [
             0.7,
             "#b8e186"
            ],
            [
             0.8,
             "#7fbc41"
            ],
            [
             0.9,
             "#4d9221"
            ],
            [
             1,
             "#276419"
            ]
           ],
           "sequential": [
            [
             0,
             "#0d0887"
            ],
            [
             0.1111111111111111,
             "#46039f"
            ],
            [
             0.2222222222222222,
             "#7201a8"
            ],
            [
             0.3333333333333333,
             "#9c179e"
            ],
            [
             0.4444444444444444,
             "#bd3786"
            ],
            [
             0.5555555555555556,
             "#d8576b"
            ],
            [
             0.6666666666666666,
             "#ed7953"
            ],
            [
             0.7777777777777778,
             "#fb9f3a"
            ],
            [
             0.8888888888888888,
             "#fdca26"
            ],
            [
             1,
             "#f0f921"
            ]
           ],
           "sequentialminus": [
            [
             0,
             "#0d0887"
            ],
            [
             0.1111111111111111,
             "#46039f"
            ],
            [
             0.2222222222222222,
             "#7201a8"
            ],
            [
             0.3333333333333333,
             "#9c179e"
            ],
            [
             0.4444444444444444,
             "#bd3786"
            ],
            [
             0.5555555555555556,
             "#d8576b"
            ],
            [
             0.6666666666666666,
             "#ed7953"
            ],
            [
             0.7777777777777778,
             "#fb9f3a"
            ],
            [
             0.8888888888888888,
             "#fdca26"
            ],
            [
             1,
             "#f0f921"
            ]
           ]
          },
          "colorway": [
           "#636efa",
           "#EF553B",
           "#00cc96",
           "#ab63fa",
           "#FFA15A",
           "#19d3f3",
           "#FF6692",
           "#B6E880",
           "#FF97FF",
           "#FECB52"
          ],
          "font": {
           "color": "#2a3f5f"
          },
          "geo": {
           "bgcolor": "white",
           "lakecolor": "white",
           "landcolor": "white",
           "showlakes": true,
           "showland": true,
           "subunitcolor": "#C8D4E3"
          },
          "hoverlabel": {
           "align": "left"
          },
          "hovermode": "closest",
          "mapbox": {
           "style": "light"
          },
          "paper_bgcolor": "white",
          "plot_bgcolor": "white",
          "polar": {
           "angularaxis": {
            "gridcolor": "#EBF0F8",
            "linecolor": "#EBF0F8",
            "ticks": ""
           },
           "bgcolor": "white",
           "radialaxis": {
            "gridcolor": "#EBF0F8",
            "linecolor": "#EBF0F8",
            "ticks": ""
           }
          },
          "scene": {
           "xaxis": {
            "backgroundcolor": "white",
            "gridcolor": "#DFE8F3",
            "gridwidth": 2,
            "linecolor": "#EBF0F8",
            "showbackground": true,
            "ticks": "",
            "zerolinecolor": "#EBF0F8"
           },
           "yaxis": {
            "backgroundcolor": "white",
            "gridcolor": "#DFE8F3",
            "gridwidth": 2,
            "linecolor": "#EBF0F8",
            "showbackground": true,
            "ticks": "",
            "zerolinecolor": "#EBF0F8"
           },
           "zaxis": {
            "backgroundcolor": "white",
            "gridcolor": "#DFE8F3",
            "gridwidth": 2,
            "linecolor": "#EBF0F8",
            "showbackground": true,
            "ticks": "",
            "zerolinecolor": "#EBF0F8"
           }
          },
          "shapedefaults": {
           "line": {
            "color": "#2a3f5f"
           }
          },
          "ternary": {
           "aaxis": {
            "gridcolor": "#DFE8F3",
            "linecolor": "#A2B1C6",
            "ticks": ""
           },
           "baxis": {
            "gridcolor": "#DFE8F3",
            "linecolor": "#A2B1C6",
            "ticks": ""
           },
           "bgcolor": "white",
           "caxis": {
            "gridcolor": "#DFE8F3",
            "linecolor": "#A2B1C6",
            "ticks": ""
           }
          },
          "title": {
           "x": 0.05
          },
          "xaxis": {
           "automargin": true,
           "gridcolor": "#EBF0F8",
           "linecolor": "#EBF0F8",
           "ticks": "",
           "title": {
            "standoff": 15
           },
           "zerolinecolor": "#EBF0F8",
           "zerolinewidth": 2
          },
          "yaxis": {
           "automargin": true,
           "gridcolor": "#EBF0F8",
           "linecolor": "#EBF0F8",
           "ticks": "",
           "title": {
            "standoff": 15
           },
           "zerolinecolor": "#EBF0F8",
           "zerolinewidth": 2
          }
         }
        },
        "width": 1000,
        "xaxis": {
         "anchor": "y",
         "autorange": true,
         "domain": [
          0,
          0.35
         ],
         "range": [
          3.9529967305389437,
          12.426806926992795
         ],
         "showgrid": false,
         "showline": false,
         "showticklabels": false,
         "ticks": "",
         "type": "linear",
         "zeroline": false
        },
        "xaxis2": {
         "anchor": "y2",
         "autorange": true,
         "domain": [
          0.35,
          0.5
         ],
         "range": [
          -0.3653820782500494,
          1.7987913323524742
         ],
         "showgrid": false,
         "showline": false,
         "showticklabels": false,
         "ticks": "",
         "type": "linear",
         "zeroline": false
        },
        "xaxis3": {
         "anchor": "y3",
         "autorange": true,
         "domain": [
          0.5,
          0.85
         ],
         "range": [
          -5.388911539966651,
          7.361864859516212
         ],
         "showgrid": false,
         "showline": false,
         "showticklabels": false,
         "ticks": "",
         "type": "linear",
         "zeroline": false
        },
        "xaxis4": {
         "anchor": "y4",
         "autorange": true,
         "domain": [
          0.85,
          1
         ],
         "range": [
          -0.5242234898266459,
          3.821797948080442
         ],
         "showgrid": false,
         "showline": false,
         "showticklabels": false,
         "ticks": "",
         "type": "linear",
         "zeroline": false
        },
        "xaxis5": {
         "anchor": "y5",
         "autorange": true,
         "domain": [
          0,
          0.35
         ],
         "range": [
          0.4385233511837128,
          9.771049798497378
         ],
         "showgrid": false,
         "showline": false,
         "showticklabels": false,
         "ticks": "",
         "type": "linear",
         "zeroline": false
        },
        "xaxis6": {
         "anchor": "y6",
         "autorange": true,
         "domain": [
          0.35,
          0.5
         ],
         "range": [
          -0.8321718494903652,
          1.3858853686106516
         ],
         "showgrid": false,
         "showline": false,
         "showticklabels": false,
         "ticks": "",
         "type": "linear",
         "zeroline": false
        },
        "xaxis7": {
         "anchor": "y7",
         "autorange": true,
         "domain": [
          0.5,
          0.85
         ],
         "range": [
          -6.721774283257253,
          3.8582121761710715
         ],
         "showgrid": false,
         "showline": false,
         "showticklabels": false,
         "ticks": "",
         "type": "linear",
         "zeroline": false
        },
        "xaxis8": {
         "anchor": "y8",
         "autorange": true,
         "domain": [
          0.85,
          1
         ],
         "range": [
          -0.49923602966116065,
          2.7070783009208235
         ],
         "showgrid": false,
         "showline": false,
         "showticklabels": false,
         "ticks": "",
         "type": "linear",
         "zeroline": false
        },
        "yaxis": {
         "anchor": "x",
         "autorange": true,
         "domain": [
          0.55,
          1
         ],
         "range": [
          -5.126959204233881,
          4.21679508642077
         ],
         "showgrid": false,
         "showline": false,
         "showticklabels": false,
         "ticks": "",
         "type": "linear",
         "zeroline": false
        },
        "yaxis2": {
         "anchor": "x2",
         "autorange": true,
         "domain": [
          0.55,
          1
         ],
         "range": [
          -0.3454118579068998,
          3.506083194860302
         ],
         "scaleanchor": "x2",
         "scaleratio": 1,
         "showgrid": false,
         "showline": false,
         "showticklabels": false,
         "ticks": "",
         "type": "linear",
         "zeroline": false
        },
        "yaxis3": {
         "anchor": "x3",
         "autorange": true,
         "domain": [
          0.55,
          1
         ],
         "range": [
          6.007192265063634,
          15.213312018841394
         ],
         "showgrid": false,
         "showline": false,
         "showticklabels": false,
         "ticks": "",
         "type": "linear",
         "zeroline": false
        },
        "yaxis4": {
         "anchor": "x4",
         "autorange": true,
         "domain": [
          0.55,
          1
         ],
         "range": [
          -3.5128254186457815,
          4.2216195132227625
         ],
         "scaleanchor": "x4",
         "scaleratio": 1,
         "showgrid": false,
         "showline": false,
         "showticklabels": false,
         "ticks": "",
         "type": "linear",
         "zeroline": false
        },
        "yaxis5": {
         "anchor": "x5",
         "autorange": true,
         "domain": [
          0,
          0.45
         ],
         "range": [
          0.8337069151586273,
          10.97146445534766
         ],
         "showgrid": false,
         "showline": false,
         "showticklabels": false,
         "ticks": "",
         "type": "linear",
         "zeroline": false
        },
        "yaxis6": {
         "anchor": "x6",
         "autorange": true,
         "domain": [
          0,
          0.45
         ],
         "range": [
          -0.35401195712629213,
          3.5933780072907706
         ],
         "scaleanchor": "x6",
         "scaleratio": 1,
         "showgrid": false,
         "showline": false,
         "showticklabels": false,
         "ticks": "",
         "type": "linear",
         "zeroline": false
        },
        "yaxis7": {
         "anchor": "x7",
         "autorange": true,
         "domain": [
          0,
          0.45
         ],
         "range": [
          -1.053995805912792,
          13.065491515332042
         ],
         "showgrid": false,
         "showline": false,
         "showticklabels": false,
         "ticks": "",
         "type": "linear",
         "zeroline": false
        },
        "yaxis8": {
         "anchor": "x8",
         "autorange": true,
         "domain": [
          0,
          0.45
         ],
         "range": [
          -0.5117422589770679,
          5.1944103632451055
         ],
         "scaleanchor": "x8",
         "scaleratio": 1,
         "showgrid": false,
         "showline": false,
         "showticklabels": false,
         "ticks": "",
         "type": "linear",
         "zeroline": false
        }
       }
      },
      "image/png": "[encoded data removed]",
      "text/html": [
       "<div>                            <div id=\"88aec3dc-fcab-474e-a18d-4f7e684b6a7e\" class=\"plotly-graph-div\" style=\"height:600px; width:1000px;\"></div>            <script type=\"text/javascript\">                require([\"plotly\"], function(Plotly) {                    window.PLOTLYENV=window.PLOTLYENV || {};                                    if (document.getElementById(\"88aec3dc-fcab-474e-a18d-4f7e684b6a7e\")) {                    Plotly.newPlot(                        \"88aec3dc-fcab-474e-a18d-4f7e684b6a7e\",                        [{\"legendgroup\":\"5\",\"marker\":{\"color\":\"#7f7f7f\",\"symbol\":\"cross\"},\"mode\":\"markers\",\"name\":\"Healthy\",\"showlegend\":false,\"x\":[6.552722930908203,7.538249969482422,11.87488079071045,5.81795072555542,7.0040082931518555,10.853111267089844,5.428650379180908,6.344264984130859,6.116805076599121,6.495828151702881,5.6965742111206055,5.021254539489746,7.734560012817383,9.379858016967773,9.398636817932129,10.372042655944824,9.55317211151123,8.957364082336426,10.347152709960938,7.974241256713867],\"y\":[-1.5581307411193848,-3.876699686050415,2.0839498043060303,-4.101552963256836,-4.24306058883667,1.6004027128219604,-2.546436071395874,-4.474379539489746,-0.8126764893531799,-3.6990323066711426,-1.7746187448501587,-1.7538752555847168,-0.18991491198539734,-2.1814138889312744,-3.1397552490234375,-1.8916090726852417,-1.1300235986709595,-2.0476574897766113,-0.806640088558197,-2.5434036254882812],\"type\":\"scatter\",\"uid\":\"610e2aaf-c5b2-49c2-8cb9-8af386ff45da\",\"xaxis\":\"x\",\"yaxis\":\"y\"},{\"legendgroup\":\"5\",\"marker\":{\"color\":\"#ff7f0e\",\"symbol\":\"star\"},\"mode\":\"markers\",\"name\":\"Dose 2 non-responders\",\"showlegend\":false,\"x\":[9.790343284606934,7.278537750244141,6.6246867179870605,9.542789459228516,11.467239379882812,6.170177936553955,8.767172813415527,5.154226779937744,10.18016242980957,10.24705982208252,7.419483661651611,7.899293899536133,8.370590209960938,8.250138282775879,10.96668815612793,4.504922866821289,10.125816345214844,7.547464370727539,8.693434715270996,9.254786491394043,9.943198204040527,11.4143705368042,10.714324951171875,5.035703182220459,11.046546936035156,6.2022504806518555,5.838754177093506,8.886682510375977,9.41749095916748,4.637895584106445,4.880906581878662,6.1859331130981445,4.521207332611084,5.672520160675049,5.629972457885742,4.980391979217529,4.770572185516357,7.692082405090332,5.734170436859131,5.633347511291504,6.8153181076049805,9.581249237060547,6.043641090393066,4.8749613761901855,5.786640167236328,7.9524946212768555,8.235709190368652,8.41380786895752,8.837526321411133],\"y\":[-1.5212956666946411,-2.5641229152679443,2.298912763595581,3.319323778152466,1.54972505569458,-2.5446650981903076,2.2509148120880127,-3.5281848907470703,1.8064345121383667,2.6599509716033936,0.7794057130813599,-1.6251436471939087,-0.9604724049568176,1.866951823234558,-0.21389831602573395,-2.4132800102233887,0.34258219599723816,0.27080729603767395,-2.411355972290039,2.074747323989868,-0.016834283247590065,0.27503901720046997,2.6679792404174805,-1.0642088651657104,1.113026738166809,-1.8528803586959839,1.2145766019821167,-3.070727586746216,1.6046881675720215,1.2904354333877563,2.83829402923584,1.8447611331939697,0.8244830965995789,3.0737640857696533,1.4782785177230835,2.450894594192505,0.2155710756778717,1.8460919857025146,-0.7584545612335205,0.4606139063835144,0.25100600719451904,1.2722522020339966,-3.270141124725342,1.1306735277175903,2.2267558574676514,-2.9124515056610107,0.24116790294647217,-0.025068026036024094,-1.0627249479293823],\"type\":\"scatter\",\"uid\":\"4bb030fd-e2ad-4402-86b4-48cb9a41ca61\",\"xaxis\":\"x\",\"yaxis\":\"y\"},{\"legendgroup\":\"5\",\"marker\":{\"color\":\"#1f77b4\"},\"mode\":\"markers\",\"name\":\"Dose 2 detectable\",\"showlegend\":false,\"x\":[11.134803771972656,7.810913562774658,10.763227462768555,10.177023887634277,9.082472801208496,9.094802856445312,6.467442989349365,8.353425025939941,11.180329322814941,7.620631217956543,10.826210975646973,9.323993682861328,8.29267406463623,7.9581298828125,10.140608787536621,10.64693546295166,5.376533031463623,7.557012557983398,10.754849433898926,9.936785697937012,9.80748462677002,8.870573043823242,11.38814926147461,6.397104740142822,7.364299297332764,5.435308456420898,5.9349284172058105,6.01142692565918,6.8855977058410645,10.7428617477417,9.36974048614502,8.81600570678711,8.258360862731934,9.76563835144043,9.050334930419922],\"y\":[0.7093368172645569,2.7024290561676025,3.515523910522461,3.5642154216766357,3.479121208190918,2.740267276763916,1.5857250690460205,3.3647878170013428,-1.2967067956924438,-0.9920651316642761,-1.2739030122756958,0.3234652280807495,-1.4243773221969604,-0.46589401364326477,-2.477797508239746,0.8009752035140991,-1.8548121452331543,-2.089562177658081,-2.1977133750915527,1.635239839553833,0.033651288598775864,-0.5586861968040466,2.4517812728881836,0.8137437105178833,1.507990837097168,1.7167142629623413,2.7415528297424316,-0.1309884786605835,-0.7825412750244141,-2.8352036476135254,1.0072557926177979,0.9111124277114868,-3.468259811401367,-0.4552100598812103,-0.0921691507101059],\"type\":\"scatter\",\"uid\":\"115c667e-c69a-456e-aec2-cd57bda72ba4\",\"xaxis\":\"x\",\"yaxis\":\"y\"},{\"legendgroup\":\"5\",\"line\":{\"dash\":\"dash\",\"width\":1},\"mode\":\"lines\",\"name\":\"citations\",\"showlegend\":false,\"x\":[0,0,1.4334092541024248,0],\"y\":[0,3.1606713369534023,2.9147855945444494,0],\"type\":\"scatter\",\"uid\":\"8fa1f0d8-70c6-4412-bff9-a07ade7f2968\",\"xaxis\":\"x2\",\"yaxis\":\"y2\"},{\"legendgroup\":\"5\",\"mode\":\"text\",\"showlegend\":false,\"text\":[\"3.16\",\"3.25\",\"1.45\"],\"textposition\":\"top right\",\"x\":[0,0.7167046270512124,0.7167046270512124],\"y\":[1.5803356684767011,1.4573927972722247,3.037728465748926],\"type\":\"scatter\",\"uid\":\"eeec41a1-b6ef-44ad-a0fa-f1bb2149e1aa\",\"xaxis\":\"x2\",\"yaxis\":\"y2\"},{\"legendgroup\":\"1\",\"marker\":{\"color\":\"#ff7f0e\",\"size\":12,\"symbol\":\"star\"},\"mode\":\"markers\",\"name\":\"Dose 2 non-responders\",\"showlegend\":true,\"x\":[0],\"y\":[3.1606713369534023],\"type\":\"scatter\",\"uid\":\"8503f12f-bafc-4cdb-9f53-6cdbfce93249\",\"xaxis\":\"x2\",\"yaxis\":\"y2\"},{\"legendgroup\":\"1\",\"marker\":{\"color\":\"#7f7f7f\",\"size\":12,\"symbol\":\"cross\"},\"mode\":\"markers\",\"name\":\"Healthy\",\"showlegend\":true,\"x\":[0],\"y\":[0],\"type\":\"scatter\",\"uid\":\"988176e5-4310-4534-ab9e-cb8749df5f13\",\"xaxis\":\"x2\",\"yaxis\":\"y2\"},{\"legendgroup\":\"1\",\"marker\":{\"color\":\"#1f77b4\",\"size\":12},\"mode\":\"markers\",\"name\":\"Dose 2 detectable\",\"showlegend\":true,\"x\":[1.4334092541024248],\"y\":[2.9147855945444494],\"type\":\"scatter\",\"uid\":\"7b8aceba-6167-4190-a71f-36a0cccef396\",\"xaxis\":\"x2\",\"yaxis\":\"y2\"},{\"legendgroup\":\"5\",\"marker\":{\"color\":\"#7f7f7f\",\"symbol\":\"cross\"},\"mode\":\"markers\",\"name\":\"Healthy\",\"showlegend\":false,\"x\":[6.531366348266602,5.085212230682373,-0.615364670753479,5.227657318115234,6.029520034790039,5.070193767547607,4.010739803314209,5.690169334411621,5.5709614753723145,5.0706095695495605,5.795158386230469,4.6843461990356445,4.120864391326904,1.8609418869018555,3.146594285964966,-2.0638058185577393,3.481520175933838,-4.26671838760376,-1.5144590139389038,-0.5165183544158936],\"y\":[11.00784683227539,9.472339630126953,11.665574073791504,10.091617584228516,8.318532943725586,12.060016632080078,10.544546127319336,9.42154312133789,11.22233772277832,7.714776992797852,10.354111671447754,10.889314651489258,11.238914489746094,9.85472297668457,10.82654857635498,10.080699920654297,11.788623809814453,11.65615463256836,9.394020080566406,7.955574989318848],\"type\":\"scatter\",\"uid\":\"c448416c-5d45-4c5b-a45f-ffa17534aa5f\",\"xaxis\":\"x3\",\"yaxis\":\"y3\"},{\"legendgroup\":\"5\",\"marker\":{\"color\":\"#ff7f0e\",\"symbol\":\"star\"},\"mode\":\"markers\",\"name\":\"Dose 2 non-responders\",\"showlegend\":false,\"x\":[0.8336971402168274,3.5449419021606445,3.7256851196289062,1.2854502201080322,1.1256530284881592,4.569077014923096,1.6173243522644043,4.276072978973389,2.6544346809387207,0.9293519854545593,0.07315324991941452,-4.513909816741943,0.30497997999191284,2.796542167663574,3.112699270248413,2.3396623134613037,-0.11020310968160629,2.847033977508545,-2.2170450687408447,2.7191076278686523,5.280115127563477,-3.8591697216033936,1.5566719770431519,0.5636914968490601,-0.41919970512390137,6.045569896697998,2.4963440895080566,4.0529046058654785,3.592775821685791,5.594537258148193,3.239171266555786,2.109065055847168,6.27234411239624,2.5881617069244385,0.7254749536514282,2.1029093265533447,4.396962642669678,3.6024723052978516,4.745197772979736,6.020395278930664,1.032142162322998,1.6183037757873535,5.145397186279297,3.247344732284546,2.0083887577056885,-1.0036497116088867,-1.4690972566604614,-3.9471652507781982,3.6718831062316895],\"y\":[8.377153396606445,9.016487121582031,8.194268226623535,7.017094612121582,14.01662826538086,10.014205932617188,13.615317344665527,9.55168342590332,9.16391372680664,7.6235671043396,10.288003921508789,13.574664115905762,8.049107551574707,8.761408805847168,12.02453899383545,13.550268173217773,7.425658226013184,7.3277506828308105,9.659597396850586,10.34495735168457,8.2517728805542,13.985064506530762,10.639646530151367,10.688292503356934,10.01817798614502,11.176604270935059,8.149754524230957,8.095319747924805,9.128005027770996,6.6501593589782715,10.013179779052734,7.9880547523498535,7.236669063568115,9.681246757507324,8.739957809448242,7.436873435974121,7.5821638107299805,10.824056625366211,6.898886203765869,7.669823169708252,11.400253295898438,13.140172958374023,9.1353759765625,8.08316707611084,6.918360233306885,8.290295600891113,13.811117172241211,11.688376426696777,11.732890129089355],\"type\":\"scatter\",\"uid\":\"af205748-76ac-431f-9389-459cc15b9fd9\",\"xaxis\":\"x3\",\"yaxis\":\"y3\"},{\"legendgroup\":\"5\",\"marker\":{\"color\":\"#1f77b4\"},\"mode\":\"markers\",\"name\":\"Dose 2 detectable\",\"showlegend\":false,\"x\":[-0.13278420269489288,-0.47435861825942993,-0.48098117113113403,-0.9574373960494995,0.32725098729133606,-1.4462264776229858,2.984697103500366,0.15953736007213593,2.108120918273926,-4.43831729888916,-2.92132306098938,-3.9215235710144043,-1.4369295835494995,0.9726335406303406,-2.823115348815918,-3.250993013381958,5.844316005706787,-1.4538837671279907,-3.990229606628418,1.6561089754104614,-0.521812379360199,-3.387173652648926,0.0823991447687149,2.2449567317962646,1.553091287612915,5.46776819229126,0.21187451481819153,1.6152918338775635,0.8174774646759033,-2.722975492477417,-4.558413028717041,-2.3838038444519043,2.8937571048736572,-2.3967225551605225,-3.798435688018799],\"y\":[9.296266555786133,12.649888038635254,13.795870780944824,12.725829124450684,12.990312576293945,12.38857650756836,7.119775295257568,13.941729545593262,14.08044719696045,12.861151695251465,13.76447868347168,14.506425857543945,14.249271392822266,12.392847061157227,10.82653522491455,14.570344924926758,11.969697952270508,9.096303939819336,12.339627265930176,12.23254108428955,7.654174327850342,11.509340286254883,11.05947494506836,11.259749412536621,11.925644874572754,7.027981281280518,11.826390266418457,9.393387794494629,9.477495193481445,14.428058624267578,14.230154991149902,13.631028175354004,11.364376068115234,14.4718599319458,11.27764892578125],\"type\":\"scatter\",\"uid\":\"ba412ec1-4886-4580-a28f-ce41599d690f\",\"xaxis\":\"x3\",\"yaxis\":\"y3\"},{\"legendgroup\":\"5\",\"line\":{\"dash\":\"dash\",\"width\":1},\"mode\":\"lines\",\"name\":\"citations\",\"showlegend\":false,\"x\":[0,0,3.297574458253796,0],\"y\":[0,3.2144417088856487,-2.505647614308668,0],\"type\":\"scatter\",\"uid\":\"b4829c5b-2ccd-4f63-81a2-b9bce1dd2382\",\"xaxis\":\"x4\",\"yaxis\":\"y4\"},{\"legendgroup\":\"5\",\"mode\":\"text\",\"showlegend\":false,\"text\":[\"3.21\",\"4.14\",\"6.60\"],\"textposition\":\"top right\",\"x\":[0,1.648787229126898,1.648787229126898],\"y\":[1.6072208544428244,-1.252823807154334,0.3543970472884901],\"type\":\"scatter\",\"uid\":\"e2b0ca5c-abf9-41f9-8530-403b29b24aaa\",\"xaxis\":\"x4\",\"yaxis\":\"y4\"},{\"legendgroup\":\"1\",\"marker\":{\"color\":\"#ff7f0e\",\"size\":12,\"symbol\":\"star\"},\"mode\":\"markers\",\"name\":\"Dose 2 non-responders\",\"showlegend\":false,\"x\":[0],\"y\":[3.2144417088856487],\"type\":\"scatter\",\"uid\":\"758c7b6c-5a78-457f-8556-4426570e2325\",\"xaxis\":\"x4\",\"yaxis\":\"y4\"},{\"legendgroup\":\"1\",\"marker\":{\"color\":\"#7f7f7f\",\"size\":12,\"symbol\":\"cross\"},\"mode\":\"markers\",\"name\":\"Healthy\",\"showlegend\":false,\"x\":[0],\"y\":[0],\"type\":\"scatter\",\"uid\":\"e1742f92-a487-4776-9767-6a885d31f4de\",\"xaxis\":\"x4\",\"yaxis\":\"y4\"},{\"legendgroup\":\"1\",\"marker\":{\"color\":\"#1f77b4\",\"size\":12},\"mode\":\"markers\",\"name\":\"Dose 2 detectable\",\"showlegend\":false,\"x\":[3.297574458253796],\"y\":[-2.505647614308668],\"type\":\"scatter\",\"uid\":\"ce313faa-d920-4135-aa51-c8e92024ffd2\",\"xaxis\":\"x4\",\"yaxis\":\"y4\"},{\"legendgroup\":\"5\",\"marker\":{\"color\":\"#7f7f7f\",\"symbol\":\"cross\"},\"mode\":\"markers\",\"name\":\"Healthy\",\"showlegend\":false,\"x\":[7.294266223907471,6.403884410858154,2.012723445892334,7.078654766082764,6.089051723480225,2.9826319217681885,8.237442016601562,6.195648193359375,7.390959739685059,5.529517650604248,7.8172478675842285,7.361586093902588,6.03483772277832,4.079702854156494,4.983794212341309,3.4647817611694336,3.8643882274627686,5.147668361663818,3.4974613189697266,5.594891548156738],\"y\":[7.122432231903076,9.109905242919922,2.7738189697265625,9.304200172424316,10.26343059539795,3.1282272338867188,7.735878944396973,9.945853233337402,6.275285720825195,9.175212860107422,7.373952865600586,7.006105422973633,3.8605690002441406,6.907408237457275,7.1789231300354,6.4972357749938965,5.898252487182617,6.619608402252197,5.459867000579834,7.328010559082031],\"type\":\"scatter\",\"uid\":\"4538c50f-e028-4b7c-8166-38b6d174eaa0\",\"xaxis\":\"x5\",\"yaxis\":\"y5\"},{\"legendgroup\":\"5\",\"marker\":{\"color\":\"#ffaa00\",\"symbol\":\"star\"},\"mode\":\"markers\",\"name\":\"Dose 3 non-positives\",\"showlegend\":false,\"x\":[5.0811567306518555,4.235651969909668,7.602678298950195,3.3395707607269287,1.2639721632003784,4.951174736022949,4.289614200592041,7.883373260498047,1.0463804006576538,1.2014408111572266,3.531660556793213,4.130007743835449,4.285089492797852,6.296527862548828,3.7430479526519775,7.230257987976074,3.041199207305908,2.0490667819976807,2.769939422607422,8.587483406066895,2.7417151927948,4.392029285430908,3.9556751251220703,3.96433687210083,1.9143321514129639,1.8784304857254028,2.369802951812744,5.637818813323975,3.4439337253570557,8.283418655395508,6.698090076446533,8.465140342712402,9.02304458618164,6.898813247680664,8.873285293579102,7.494597434997559,7.7515387535095215,8.639147758483887,5.2309250831604,7.277502536773682,7.913252830505371,6.873634338378906,2.570906162261963,7.086919784545898,6.139422416687012,7.58534049987793,9.163192749023438,5.234767913818359,3.856414556503296,4.55075216293335,5.245203018188477,5.791506290435791,3.510796070098877,4.62529993057251,4.509950160980225],\"y\":[5.73891019821167,5.998023986816406,4.398301124572754,1.7231181859970093,4.5357985496521,2.4440996646881104,2.9375929832458496,9.015586853027344,3.421924114227295,2.686020612716675,2.036529541015625,2.279630184173584,1.5417407751083374,3.1970934867858887,8.46274185180664,9.963109970092773,7.785696506500244,4.619871616363525,5.486954212188721,8.560208320617676,4.894219398498535,7.59579610824585,2.7933554649353027,4.872046947479248,5.450522422790527,3.838322162628174,5.970646858215332,6.75637674331665,3.8053927421569824,3.1944565773010254,5.164870262145996,5.0069379806518555,3.82598614692688,5.629049301147461,5.698730945587158,4.855788230895996,4.75836181640625,3.01631760597229,3.2994611263275146,3.6319901943206787,3.294696807861328,2.8396430015563965,4.028518199920654,8.745401382446289,5.50047492980957,3.973358154296875,5.2732834815979,7.989197731018066,4.095223903656006,5.066600322723389,4.981614112854004,5.389201641082764,4.698729038238525,5.683465003967285,4.4070353507995605],\"type\":\"scatter\",\"uid\":\"227a74ca-12d9-47dc-a8bc-fdb469d0d8da\",\"xaxis\":\"x5\",\"yaxis\":\"y5\"},{\"legendgroup\":\"5\",\"marker\":{\"color\":\"#2ca02c\"},\"mode\":\"markers\",\"name\":\"Dose 3 positives\",\"showlegend\":false,\"x\":[1.5901275873184204,2.908432960510254,5.424828052520752,3.709228515625,4.698408126831055,4.795462131500244,5.6772141456604,3.297713041305542,8.504158020019531,3.218452215194702,4.723965644836426,4.236234664916992,3.052314043045044,1.8721493482589722,8.036175727844238,8.144216537475586,8.560263633728027,6.319640636444092,6.1727399826049805],\"y\":[4.956114292144775,3.476759433746338,4.630468368530273,7.645987033843994,6.80275821685791,4.202293395996094,4.273382663726807,6.9290995597839355,7.192787170410156,3.4007174968719482,8.030986785888672,3.5392518043518066,6.638975620269775,2.978961229324341,6.507908344268799,5.344958782196045,4.171840190887451,6.177936553955078,7.51298713684082],\"type\":\"scatter\",\"uid\":\"e84de440-7c3f-44f2-83e8-d7ddf465227b\",\"xaxis\":\"x5\",\"yaxis\":\"y5\"},{\"legendgroup\":\"5\",\"line\":{\"dash\":\"dash\",\"width\":1},\"mode\":\"lines\",\"name\":\"citations\",\"showlegend\":false,\"x\":[0,0,0.5537135191202864,0],\"y\":[0,3.2393660501644783,2.1959872265094322,0],\"type\":\"scatter\",\"uid\":\"7a23869b-a6a0-4f3a-8fe6-4c72bf81c562\",\"xaxis\":\"x6\",\"yaxis\":\"y6\"},{\"legendgroup\":\"5\",\"mode\":\"text\",\"showlegend\":false,\"text\":[\"3.24\",\"2.16\",\"0.96\"],\"textposition\":\"top right\",\"x\":[0,0.2768567595601432,0.2768567595601432],\"y\":[1.6196830250822392,1.0979936132547161,2.7176766383369553],\"type\":\"scatter\",\"uid\":\"ddcb554d-f727-46c3-b425-c9f281813af1\",\"xaxis\":\"x6\",\"yaxis\":\"y6\"},{\"legendgroup\":\"2\",\"marker\":{\"color\":\"#ffaa00\",\"size\":12,\"symbol\":\"star\"},\"mode\":\"markers\",\"name\":\"Dose 3 non-positives\",\"showlegend\":true,\"x\":[0],\"y\":[3.2393660501644783],\"type\":\"scatter\",\"uid\":\"2f6af4de-b02a-412e-8039-b0a074c21307\",\"xaxis\":\"x6\",\"yaxis\":\"y6\"},{\"legendgroup\":\"2\",\"marker\":{\"color\":\"#7f7f7f\",\"size\":12,\"symbol\":\"cross\"},\"mode\":\"markers\",\"name\":\"Healthy\",\"showlegend\":true,\"x\":[0],\"y\":[0],\"type\":\"scatter\",\"uid\":\"9e054ea5-0e2d-49fc-b0a1-affe847a39a7\",\"xaxis\":\"x6\",\"yaxis\":\"y6\"},{\"legendgroup\":\"2\",\"marker\":{\"color\":\"#2ca02c\",\"size\":12},\"mode\":\"markers\",\"name\":\"Dose 3 positives\",\"showlegend\":true,\"x\":[0.5537135191202864],\"y\":[2.1959872265094322],\"type\":\"scatter\",\"uid\":\"e1af4be7-7ef3-4276-a8e4-dcee058e9ae3\",\"xaxis\":\"x6\",\"yaxis\":\"y6\"},{\"legendgroup\":\"5\",\"marker\":{\"color\":\"#7f7f7f\",\"symbol\":\"cross\"},\"mode\":\"markers\",\"name\":\"Healthy\",\"showlegend\":false,\"x\":[-0.1853284388780594,2.188832998275757,1.0642679929733276,0.6563540101051331,0.4267750680446625,-2.415555000305176,-0.5522283315658569,-1.5252914428710938,1.6031910181045532,-2.6979668140411377,-4.2163872718811035,-2.5467183589935303,-2.632830858230591,-2.1371679306030273,-0.6929894685745239,-6.032666206359863,-4.972670555114746,-2.9535679817199707,-1.3206872940063477,-2.214266061782837],\"y\":[8.049715042114258,5.518228054046631,1.0469015836715698,1.4100843667984009,7.801237106323242,0.3760383725166321,7.469227313995361,7.693187713623047,3.538994789123535,5.87064266204834,1.264654278755188,7.552649021148682,10.37336540222168,9.583330154418945,11.67921257019043,7.725461959838867,7.0238776206970215,6.545973300933838,11.518853187561035,8.455842971801758],\"type\":\"scatter\",\"uid\":\"49d31346-0bba-450b-9f3f-e35a9940fa33\",\"xaxis\":\"x7\",\"yaxis\":\"y7\"},{\"legendgroup\":\"5\",\"marker\":{\"color\":\"#ffaa00\",\"symbol\":\"star\"},\"mode\":\"markers\",\"name\":\"Dose 3 non-positives\",\"showlegend\":false,\"x\":[-0.7298831939697266,-0.361580491065979,-4.68756103515625,3.0024807453155518,-1.5233443975448608,-0.019386855885386467,-2.088902235031128,0.0610727034509182,0.8572247624397278,-0.6021205186843872,-0.6990363597869873,-3.1773505210876465,1.8639649152755737,-0.5744054317474365,0.33246102929115295,0.3759552538394928,2.2176620960235596,1.6269842386245728,-0.8503827452659607,-0.5378709435462952,-0.4505416750907898,0.45869943499565125,-1.220090627670288,-2.690866708755493,-1.2760748863220215,-1.292062520980835,2.6745893955230713,0.12347397953271866,-3.5057413578033447,-1.0858733654022217,-5.303314208984375,-5.3099284172058105,-1.2269819974899292,-1.4175437688827515,-4.328622817993164,-5.464162826538086,3.1691040992736816,1.2553913593292236,2.5651137828826904,1.1696150302886963,-3.3697752952575684,-1.9611374139785767,-3.6332335472106934,0.03540372848510742,-3.9900004863739014,-3.458601951599121,-4.818242073059082,-1.6144905090332031,-3.3294098377227783,-4.101354122161865,-4.618344783782959,-1.0561354160308838,-5.444677352905273,-2.748119831085205,-5.76546049118042],\"y\":[10.868616104125977,3.6365723609924316,2.543893814086914,5.646365165710449,6.46099853515625,5.242794036865234,7.312807083129883,1.6808702945709229,3.603518009185791,1.973143458366394,2.782196044921875,7.465321063995361,4.335266590118408,4.940007209777832,6.584039211273193,0.9672440886497498,6.697449684143066,6.011820316314697,10.064432144165039,1.0080710649490356,6.103094577789307,5.977707386016846,5.998136520385742,2.2341136932373047,10.394502639770508,2.6548354625701904,6.292869567871094,4.1806135177612305,1.814374327659607,3.6113414764404297,2.6432411670684814,3.8037149906158447,4.329247951507568,5.199301242828369,5.183441162109375,3.4246368408203125,6.111534118652344,4.90229606628418,4.894972801208496,4.392571926116943,4.6651835441589355,4.289272308349609,1.9694932699203491,0.6155945658683777,9.34204387664795,5.550378799438477,3.214931011199951,10.047938346862793,8.578269004821777,6.945830345153809,7.506597995758057,12.079368591308594,7.523935794830322,9.841047286987305,7.281962871551514],\"type\":\"scatter\",\"uid\":\"9d4ceb54-7552-47fb-9edc-cd87f931a2a6\",\"xaxis\":\"x7\",\"yaxis\":\"y7\"},{\"legendgroup\":\"5\",\"marker\":{\"color\":\"#2ca02c\"},\"mode\":\"markers\",\"name\":\"Dose 3 positives\",\"showlegend\":false,\"x\":[0.04867919161915779,-1.932359218597412,1.9271074533462524,-1.9271471500396729,-2.530607223510742,-3.891191005706787,-3.944000005722046,-1.2302501201629639,-3.3232369422912598,-5.693490982055664,-3.580416679382324,-3.0626261234283447,-5.174228191375732,0.2692493796348572,-3.164313554763794,-3.797947645187378,-4.360713958740234,-4.23102331161499,-4.15416955947876],\"y\":[7.103326320648193,6.084388256072998,5.8886919021606445,10.706875801086426,8.517865180969238,6.399172306060791,0.5432326793670654,6.872086048126221,0.7548521757125854,2.9109950065612793,8.323027610778809,0.763742983341217,8.135321617126465,4.496426582336426,-0.06787288188934326,4.8394365310668945,3.527578830718994,4.320949554443359,8.833846092224121],\"type\":\"scatter\",\"uid\":\"dfba8f69-1812-4c41-a4fe-403270e1199b\",\"xaxis\":\"x7\",\"yaxis\":\"y7\"},{\"legendgroup\":\"5\",\"line\":{\"dash\":\"dash\",\"width\":1},\"mode\":\"lines\",\"name\":\"citations\",\"showlegend\":false,\"x\":[0,0,2.207842271259663,0],\"y\":[0,4.682668104268037,0.7080826146846134,0],\"type\":\"scatter\",\"uid\":\"a315dcf1-81d5-42c7-91c9-3acbaf9f322b\",\"xaxis\":\"x8\",\"yaxis\":\"y8\"},{\"legendgroup\":\"5\",\"mode\":\"text\",\"showlegend\":false,\"text\":[\"4.68\",\"2.32\",\"4.55\"],\"textposition\":\"top right\",\"x\":[0,1.1039211356298315,1.1039211356298315],\"y\":[2.3413340521340187,0.3540413073423067,2.6953753594763254],\"type\":\"scatter\",\"uid\":\"42131096-dce7-4b7b-8bd2-b87081d33fb2\",\"xaxis\":\"x8\",\"yaxis\":\"y8\"},{\"legendgroup\":\"2\",\"marker\":{\"color\":\"#ffaa00\",\"size\":12,\"symbol\":\"star\"},\"mode\":\"markers\",\"name\":\"Dose 3 non-positives\",\"showlegend\":false,\"x\":[0],\"y\":[4.682668104268037],\"type\":\"scatter\",\"uid\":\"ac38e7ce-b8ee-4326-8508-1e44a3d01d97\",\"xaxis\":\"x8\",\"yaxis\":\"y8\"},{\"legendgroup\":\"2\",\"marker\":{\"color\":\"#7f7f7f\",\"size\":12,\"symbol\":\"cross\"},\"mode\":\"markers\",\"name\":\"Healthy\",\"showlegend\":false,\"x\":[0],\"y\":[0],\"type\":\"scatter\",\"uid\":\"e720e18a-b1c8-4be0-bd58-41f1151c8f2c\",\"xaxis\":\"x8\",\"yaxis\":\"y8\"},{\"legendgroup\":\"2\",\"marker\":{\"color\":\"#2ca02c\",\"size\":12},\"mode\":\"markers\",\"name\":\"Dose 3 positives\",\"showlegend\":false,\"x\":[2.207842271259663],\"y\":[0.7080826146846134],\"type\":\"scatter\",\"uid\":\"dbf52de5-51c5-4d21-9560-30c8f2815b89\",\"xaxis\":\"x8\",\"yaxis\":\"y8\"}],                        {\"annotations\":[{\"font\":{\"size\":16},\"showarrow\":false,\"text\":\"All Dose 2\",\"x\":0.175,\"xanchor\":\"center\",\"xref\":\"paper\",\"y\":1.0,\"yanchor\":\"bottom\",\"yref\":\"paper\"},{\"font\":{\"size\":16},\"showarrow\":false,\"text\":\"Best 10 Dose 2\",\"x\":0.675,\"xanchor\":\"center\",\"xref\":\"paper\",\"y\":1.0,\"yanchor\":\"bottom\",\"yref\":\"paper\"},{\"font\":{\"size\":16},\"showarrow\":false,\"text\":\"All Dose 3\",\"x\":0.175,\"xanchor\":\"center\",\"xref\":\"paper\",\"y\":0.45,\"yanchor\":\"bottom\",\"yref\":\"paper\"},{\"font\":{\"size\":16},\"showarrow\":false,\"text\":\"Best 10 Dose 3\",\"x\":0.675,\"xanchor\":\"center\",\"xref\":\"paper\",\"y\":0.45,\"yanchor\":\"bottom\",\"yref\":\"paper\"}],\"template\":{\"data\":{\"barpolar\":[{\"marker\":{\"line\":{\"color\":\"white\",\"width\":0.5},\"pattern\":{\"fillmode\":\"overlay\",\"size\":10,\"solidity\":0.2}},\"type\":\"barpolar\"}],\"bar\":[{\"error_x\":{\"color\":\"#2a3f5f\"},\"error_y\":{\"color\":\"#2a3f5f\"},\"marker\":{\"line\":{\"color\":\"white\",\"width\":0.5},\"pattern\":{\"fillmode\":\"overlay\",\"size\":10,\"solidity\":0.2}},\"type\":\"bar\"}],\"carpet\":[{\"aaxis\":{\"endlinecolor\":\"#2a3f5f\",\"gridcolor\":\"#C8D4E3\",\"linecolor\":\"#C8D4E3\",\"minorgridcolor\":\"#C8D4E3\",\"startlinecolor\":\"#2a3f5f\"},\"baxis\":{\"endlinecolor\":\"#2a3f5f\",\"gridcolor\":\"#C8D4E3\",\"linecolor\":\"#C8D4E3\",\"minorgridcolor\":\"#C8D4E3\",\"startlinecolor\":\"#2a3f5f\"},\"type\":\"carpet\"}],\"choropleth\":[{\"colorbar\":{\"outlinewidth\":0,\"ticks\":\"\"},\"type\":\"choropleth\"}],\"contourcarpet\":[{\"colorbar\":{\"outlinewidth\":0,\"ticks\":\"\"},\"type\":\"contourcarpet\"}],\"contour\":[{\"colorbar\":{\"outlinewidth\":0,\"ticks\":\"\"},\"colorscale\":[[0.0,\"#0d0887\"],[0.1111111111111111,\"#46039f\"],[0.2222222222222222,\"#7201a8\"],[0.3333333333333333,\"#9c179e\"],[0.4444444444444444,\"#bd3786\"],[0.5555555555555556,\"#d8576b\"],[0.6666666666666666,\"#ed7953\"],[0.7777777777777778,\"#fb9f3a\"],[0.8888888888888888,\"#fdca26\"],[1.0,\"#f0f921\"]],\"type\":\"contour\"}],\"heatmapgl\":[{\"colorbar\":{\"outlinewidth\":0,\"ticks\":\"\"},\"colorscale\":[[0.0,\"#0d0887\"],[0.1111111111111111,\"#46039f\"],[0.2222222222222222,\"#7201a8\"],[0.3333333333333333,\"#9c179e\"],[0.4444444444444444,\"#bd3786\"],[0.5555555555555556,\"#d8576b\"],[0.6666666666666666,\"#ed7953\"],[0.7777777777777778,\"#fb9f3a\"],[0.8888888888888888,\"#fdca26\"],[1.0,\"#f0f921\"]],\"type\":\"heatmapgl\"}],\"heatmap\":[{\"colorbar\":{\"outlinewidth\":0,\"ticks\":\"\"},\"colorscale\":[[0.0,\"#0d0887\"],[0.1111111111111111,\"#46039f\"],[0.2222222222222222,\"#7201a8\"],[0.3333333333333333,\"#9c179e\"],[0.4444444444444444,\"#bd3786\"],[0.5555555555555556,\"#d8576b\"],[0.6666666666666666,\"#ed7953\"],[0.7777777777777778,\"#fb9f3a\"],[0.8888888888888888,\"#fdca26\"],[1.0,\"#f0f921\"]],\"type\":\"heatmap\"}],\"histogram2dcontour\":[{\"colorbar\":{\"outlinewidth\":0,\"ticks\":\"\"},\"colorscale\":[[0.0,\"#0d0887\"],[0.1111111111111111,\"#46039f\"],[0.2222222222222222,\"#7201a8\"],[0.3333333333333333,\"#9c179e\"],[0.4444444444444444,\"#bd3786\"],[0.5555555555555556,\"#d8576b\"],[0.6666666666666666,\"#ed7953\"],[0.7777777777777778,\"#fb9f3a\"],[0.8888888888888888,\"#fdca26\"],[1.0,\"#f0f921\"]],\"type\":\"histogram2dcontour\"}],\"histogram2d\":[{\"colorbar\":{\"outlinewidth\":0,\"ticks\":\"\"},\"colorscale\":[[0.0,\"#0d0887\"],[0.1111111111111111,\"#46039f\"],[0.2222222222222222,\"#7201a8\"],[0.3333333333333333,\"#9c179e\"],[0.4444444444444444,\"#bd3786\"],[0.5555555555555556,\"#d8576b\"],[0.6666666666666666,\"#ed7953\"],[0.7777777777777778,\"#fb9f3a\"],[0.8888888888888888,\"#fdca26\"],[1.0,\"#f0f921\"]],\"type\":\"histogram2d\"}],\"histogram\":[{\"marker\":{\"pattern\":{\"fillmode\":\"overlay\",\"size\":10,\"solidity\":0.2}},\"type\":\"histogram\"}],\"mesh3d\":[{\"colorbar\":{\"outlinewidth\":0,\"ticks\":\"\"},\"type\":\"mesh3d\"}],\"parcoords\":[{\"line\":{\"colorbar\":{\"outlinewidth\":0,\"ticks\":\"\"}},\"type\":\"parcoords\"}],\"pie\":[{\"automargin\":true,\"type\":\"pie\"}],\"scatter3d\":[{\"line\":{\"colorbar\":{\"outlinewidth\":0,\"ticks\":\"\"}},\"marker\":{\"colorbar\":{\"outlinewidth\":0,\"ticks\":\"\"}},\"type\":\"scatter3d\"}],\"scattercarpet\":[{\"marker\":{\"colorbar\":{\"outlinewidth\":0,\"ticks\":\"\"}},\"type\":\"scattercarpet\"}],\"scattergeo\":[{\"marker\":{\"colorbar\":{\"outlinewidth\":0,\"ticks\":\"\"}},\"type\":\"scattergeo\"}],\"scattergl\":[{\"marker\":{\"colorbar\":{\"outlinewidth\":0,\"ticks\":\"\"}},\"type\":\"scattergl\"}],\"scattermapbox\":[{\"marker\":{\"colorbar\":{\"outlinewidth\":0,\"ticks\":\"\"}},\"type\":\"scattermapbox\"}],\"scatterpolargl\":[{\"marker\":{\"colorbar\":{\"outlinewidth\":0,\"ticks\":\"\"}},\"type\":\"scatterpolargl\"}],\"scatterpolar\":[{\"marker\":{\"colorbar\":{\"outlinewidth\":0,\"ticks\":\"\"}},\"type\":\"scatterpolar\"}],\"scatter\":[{\"fillpattern\":{\"fillmode\":\"overlay\",\"size\":10,\"solidity\":0.2},\"type\":\"scatter\"}],\"scatterternary\":[{\"marker\":{\"colorbar\":{\"outlinewidth\":0,\"ticks\":\"\"}},\"type\":\"scatterternary\"}],\"surface\":[{\"colorbar\":{\"outlinewidth\":0,\"ticks\":\"\"},\"colorscale\":[[0.0,\"#0d0887\"],[0.1111111111111111,\"#46039f\"],[0.2222222222222222,\"#7201a8\"],[0.3333333333333333,\"#9c179e\"],[0.4444444444444444,\"#bd3786\"],[0.5555555555555556,\"#d8576b\"],[0.6666666666666666,\"#ed7953\"],[0.7777777777777778,\"#fb9f3a\"],[0.8888888888888888,\"#fdca26\"],[1.0,\"#f0f921\"]],\"type\":\"surface\"}],\"table\":[{\"cells\":{\"fill\":{\"color\":\"#EBF0F8\"},\"line\":{\"color\":\"white\"}},\"header\":{\"fill\":{\"color\":\"#C8D4E3\"},\"line\":{\"color\":\"white\"}},\"type\":\"table\"}]},\"layout\":{\"annotationdefaults\":{\"arrowcolor\":\"#2a3f5f\",\"arrowhead\":0,\"arrowwidth\":1},\"autotypenumbers\":\"strict\",\"coloraxis\":{\"colorbar\":{\"outlinewidth\":0,\"ticks\":\"\"}},\"colorscale\":{\"diverging\":[[0,\"#8e0152\"],[0.1,\"#c51b7d\"],[0.2,\"#de77ae\"],[0.3,\"#f1b6da\"],[0.4,\"#fde0ef\"],[0.5,\"#f7f7f7\"],[0.6,\"#e6f5d0\"],[0.7,\"#b8e186\"],[0.8,\"#7fbc41\"],[0.9,\"#4d9221\"],[1,\"#276419\"]],\"sequential\":[[0.0,\"#0d0887\"],[0.1111111111111111,\"#46039f\"],[0.2222222222222222,\"#7201a8\"],[0.3333333333333333,\"#9c179e\"],[0.4444444444444444,\"#bd3786\"],[0.5555555555555556,\"#d8576b\"],[0.6666666666666666,\"#ed7953\"],[0.7777777777777778,\"#fb9f3a\"],[0.8888888888888888,\"#fdca26\"],[1.0,\"#f0f921\"]],\"sequentialminus\":[[0.0,\"#0d0887\"],[0.1111111111111111,\"#46039f\"],[0.2222222222222222,\"#7201a8\"],[0.3333333333333333,\"#9c179e\"],[0.4444444444444444,\"#bd3786\"],[0.5555555555555556,\"#d8576b\"],[0.6666666666666666,\"#ed7953\"],[0.7777777777777778,\"#fb9f3a\"],[0.8888888888888888,\"#fdca26\"],[1.0,\"#f0f921\"]]},\"colorway\":[\"#636efa\",\"#EF553B\",\"#00cc96\",\"#ab63fa\",\"#FFA15A\",\"#19d3f3\",\"#FF6692\",\"#B6E880\",\"#FF97FF\",\"#FECB52\"],\"font\":{\"color\":\"#2a3f5f\"},\"geo\":{\"bgcolor\":\"white\",\"lakecolor\":\"white\",\"landcolor\":\"white\",\"showlakes\":true,\"showland\":true,\"subunitcolor\":\"#C8D4E3\"},\"hoverlabel\":{\"align\":\"left\"},\"hovermode\":\"closest\",\"mapbox\":{\"style\":\"light\"},\"paper_bgcolor\":\"white\",\"plot_bgcolor\":\"white\",\"polar\":{\"angularaxis\":{\"gridcolor\":\"#EBF0F8\",\"linecolor\":\"#EBF0F8\",\"ticks\":\"\"},\"bgcolor\":\"white\",\"radialaxis\":{\"gridcolor\":\"#EBF0F8\",\"linecolor\":\"#EBF0F8\",\"ticks\":\"\"}},\"scene\":{\"xaxis\":{\"backgroundcolor\":\"white\",\"gridcolor\":\"#DFE8F3\",\"gridwidth\":2,\"linecolor\":\"#EBF0F8\",\"showbackground\":true,\"ticks\":\"\",\"zerolinecolor\":\"#EBF0F8\"},\"yaxis\":{\"backgroundcolor\":\"white\",\"gridcolor\":\"#DFE8F3\",\"gridwidth\":2,\"linecolor\":\"#EBF0F8\",\"showbackground\":true,\"ticks\":\"\",\"zerolinecolor\":\"#EBF0F8\"},\"zaxis\":{\"backgroundcolor\":\"white\",\"gridcolor\":\"#DFE8F3\",\"gridwidth\":2,\"linecolor\":\"#EBF0F8\",\"showbackground\":true,\"ticks\":\"\",\"zerolinecolor\":\"#EBF0F8\"}},\"shapedefaults\":{\"line\":{\"color\":\"#2a3f5f\"}},\"ternary\":{\"aaxis\":{\"gridcolor\":\"#DFE8F3\",\"linecolor\":\"#A2B1C6\",\"ticks\":\"\"},\"baxis\":{\"gridcolor\":\"#DFE8F3\",\"linecolor\":\"#A2B1C6\",\"ticks\":\"\"},\"bgcolor\":\"white\",\"caxis\":{\"gridcolor\":\"#DFE8F3\",\"linecolor\":\"#A2B1C6\",\"ticks\":\"\"}},\"title\":{\"x\":0.05},\"xaxis\":{\"automargin\":true,\"gridcolor\":\"#EBF0F8\",\"linecolor\":\"#EBF0F8\",\"ticks\":\"\",\"title\":{\"standoff\":15},\"zerolinecolor\":\"#EBF0F8\",\"zerolinewidth\":2},\"yaxis\":{\"automargin\":true,\"gridcolor\":\"#EBF0F8\",\"linecolor\":\"#EBF0F8\",\"ticks\":\"\",\"title\":{\"standoff\":15},\"zerolinecolor\":\"#EBF0F8\",\"zerolinewidth\":2}}},\"xaxis\":{\"anchor\":\"y\",\"domain\":[0.0,0.35],\"showticklabels\":false,\"showline\":false,\"ticks\":\"\",\"showgrid\":false,\"zeroline\":false},\"yaxis\":{\"anchor\":\"x\",\"domain\":[0.55,1.0],\"showticklabels\":false,\"showline\":false,\"ticks\":\"\",\"showgrid\":false,\"zeroline\":false},\"xaxis2\":{\"anchor\":\"y2\",\"domain\":[0.35,0.5],\"showticklabels\":false,\"showline\":false,\"ticks\":\"\",\"showgrid\":false,\"zeroline\":false},\"yaxis2\":{\"anchor\":\"x2\",\"domain\":[0.55,1.0],\"scaleanchor\":\"x2\",\"scaleratio\":1,\"showticklabels\":false,\"showline\":false,\"ticks\":\"\",\"showgrid\":false,\"zeroline\":false},\"xaxis3\":{\"anchor\":\"y3\",\"domain\":[0.5,0.85],\"showticklabels\":false,\"showline\":false,\"ticks\":\"\",\"showgrid\":false,\"zeroline\":false},\"yaxis3\":{\"anchor\":\"x3\",\"domain\":[0.55,1.0],\"showticklabels\":false,\"showline\":false,\"ticks\":\"\",\"showgrid\":false,\"zeroline\":false},\"xaxis4\":{\"anchor\":\"y4\",\"domain\":[0.85,1.0],\"showticklabels\":false,\"showline\":false,\"ticks\":\"\",\"showgrid\":false,\"zeroline\":false},\"yaxis4\":{\"anchor\":\"x4\",\"domain\":[0.55,1.0],\"scaleanchor\":\"x4\",\"scaleratio\":1,\"showticklabels\":false,\"showline\":false,\"ticks\":\"\",\"showgrid\":false,\"zeroline\":false},\"xaxis5\":{\"anchor\":\"y5\",\"domain\":[0.0,0.35],\"showticklabels\":false,\"showline\":false,\"ticks\":\"\",\"showgrid\":false,\"zeroline\":false},\"yaxis5\":{\"anchor\":\"x5\",\"domain\":[0.0,0.45],\"showticklabels\":false,\"showline\":false,\"ticks\":\"\",\"showgrid\":false,\"zeroline\":false},\"xaxis6\":{\"anchor\":\"y6\",\"domain\":[0.35,0.5],\"showticklabels\":false,\"showline\":false,\"ticks\":\"\",\"showgrid\":false,\"zeroline\":false},\"yaxis6\":{\"anchor\":\"x6\",\"domain\":[0.0,0.45],\"scaleanchor\":\"x6\",\"scaleratio\":1,\"showticklabels\":false,\"showline\":false,\"ticks\":\"\",\"showgrid\":false,\"zeroline\":false},\"xaxis7\":{\"anchor\":\"y7\",\"domain\":[0.5,0.85],\"showticklabels\":false,\"showline\":false,\"ticks\":\"\",\"showgrid\":false,\"zeroline\":false},\"yaxis7\":{\"anchor\":\"x7\",\"domain\":[0.0,0.45],\"showticklabels\":false,\"showline\":false,\"ticks\":\"\",\"showgrid\":false,\"zeroline\":false},\"xaxis8\":{\"anchor\":\"y8\",\"domain\":[0.85,1.0],\"showticklabels\":false,\"showline\":false,\"ticks\":\"\",\"showgrid\":false,\"zeroline\":false},\"yaxis8\":{\"anchor\":\"x8\",\"domain\":[0.0,0.45],\"scaleanchor\":\"x8\",\"scaleratio\":1,\"showticklabels\":false,\"showline\":false,\"ticks\":\"\",\"showgrid\":false,\"zeroline\":false},\"legend\":{\"tracegroupgap\":180},\"height\":600,\"width\":1000,\"showlegend\":true},                        {\"responsive\": true}                    ).then(function(){\n",
       "                            \n",
       "var gd = document.getElementById('88aec3dc-fcab-474e-a18d-4f7e684b6a7e');\n",
       "var x = new MutationObserver(function (mutations, observer) {{\n",
       "        var display = window.getComputedStyle(gd).display;\n",
       "        if (!display || display === 'none') {{\n",
       "            console.log([gd, 'removed!']);\n",
       "            Plotly.purge(gd);\n",
       "            observer.disconnect();\n",
       "        }}\n",
       "}});\n",
       "\n",
       "// Listen for the removal of the full notebook cells\n",
       "var notebookContainer = gd.closest('#notebook-container');\n",
       "if (notebookContainer) {{\n",
       "    x.observe(notebookContainer, {childList: true});\n",
       "}}\n",
       "\n",
       "// Listen for the clearing of the current output cell\n",
       "var outputEl = gd.closest('.output');\n",
       "if (outputEl) {{\n",
       "    x.observe(outputEl, {childList: true});\n",
       "}}\n",
       "\n",
       "                        })                };                });            </script>        </div>"
      ],
      "text/plain": [
       "FigureWidget({\n",
       "    'data': [{'legendgroup': '5',\n",
       "              'marker': {'color': '#7f7f7f', 'symbol': 'cross'},\n",
       "              'mode': 'markers',\n",
       "              'name': 'Healthy',\n",
       "              'showlegend': False,\n",
       "              'type': 'scatter',\n",
       "              'uid': '610e2aaf-c5b2-49c2-8cb9-8af386ff45da',\n",
       "              'x': array([ 6.552723 ,  7.53825  , 11.874881 ,  5.8179507,  7.0040083, 10.853111 ,\n",
       "                           5.4286504,  6.344265 ,  6.116805 ,  6.495828 ,  5.696574 ,  5.0212545,\n",
       "                           7.73456  ,  9.379858 ,  9.398637 , 10.372043 ,  9.553172 ,  8.957364 ,\n",
       "                          10.347153 ,  7.9742413], dtype=float32),\n",
       "              'xaxis': 'x',\n",
       "              'y': array([-1.5581307 , -3.8766997 ,  2.0839498 , -4.101553  , -4.2430606 ,\n",
       "                           1.6004027 , -2.546436  , -4.4743795 , -0.8126765 , -3.6990323 ,\n",
       "                          -1.7746187 , -1.7538753 , -0.18991491, -2.181414  , -3.1397552 ,\n",
       "                          -1.8916091 , -1.1300236 , -2.0476575 , -0.8066401 , -2.5434036 ],\n",
       "                         dtype=float32),\n",
       "              'yaxis': 'y'},\n",
       "             {'legendgroup': '5',\n",
       "              'marker': {'color': '#ff7f0e', 'symbol': 'star'},\n",
       "              'mode': 'markers',\n",
       "              'name': 'Dose 2 non-responders',\n",
       "              'showlegend': False,\n",
       "              'type': 'scatter',\n",
       "              'uid': '4bb030fd-e2ad-4402-86b4-48cb9a41ca61',\n",
       "              'x': array([ 9.790343 ,  7.2785378,  6.6246867,  9.542789 , 11.467239 ,  6.170178 ,\n",
       "                           8.767173 ,  5.154227 , 10.180162 , 10.24706  ,  7.4194837,  7.899294 ,\n",
       "                           8.37059  ,  8.250138 , 10.966688 ,  4.504923 , 10.125816 ,  7.5474644,\n",
       "                           8.693435 ,  9.2547865,  9.943198 , 11.414371 , 10.714325 ,  5.035703 ,\n",
       "                          11.046547 ,  6.2022505,  5.838754 ,  8.8866825,  9.417491 ,  4.6378956,\n",
       "                           4.8809066,  6.185933 ,  4.5212073,  5.67252  ,  5.6299725,  4.980392 ,\n",
       "                           4.770572 ,  7.6920824,  5.7341704,  5.6333475,  6.815318 ,  9.581249 ,\n",
       "                           6.043641 ,  4.8749614,  5.78664  ,  7.9524946,  8.235709 ,  8.413808 ,\n",
       "                           8.837526 ], dtype=float32),\n",
       "              'xaxis': 'x',\n",
       "              'y': array([-1.5212957 , -2.564123  ,  2.2989128 ,  3.3193238 ,  1.549725  ,\n",
       "                          -2.544665  ,  2.2509148 , -3.528185  ,  1.8064345 ,  2.659951  ,\n",
       "                           0.7794057 , -1.6251436 , -0.9604724 ,  1.8669518 , -0.21389832,\n",
       "                          -2.41328   ,  0.3425822 ,  0.2708073 , -2.411356  ,  2.0747473 ,\n",
       "                          -0.01683428,  0.27503902,  2.6679792 , -1.0642089 ,  1.1130267 ,\n",
       "                          -1.8528804 ,  1.2145766 , -3.0707276 ,  1.6046882 ,  1.2904354 ,\n",
       "                           2.838294  ,  1.8447611 ,  0.8244831 ,  3.073764  ,  1.4782785 ,\n",
       "                           2.4508946 ,  0.21557108,  1.846092  , -0.75845456,  0.4606139 ,\n",
       "                           0.251006  ,  1.2722522 , -3.2701411 ,  1.1306735 ,  2.2267559 ,\n",
       "                          -2.9124515 ,  0.2411679 , -0.02506803, -1.062725  ], dtype=float32),\n",
       "              'yaxis': 'y'},\n",
       "             {'legendgroup': '5',\n",
       "              'marker': {'color': '#1f77b4'},\n",
       "              'mode': 'markers',\n",
       "              'name': 'Dose 2 detectable',\n",
       "              'showlegend': False,\n",
       "              'type': 'scatter',\n",
       "              'uid': '115c667e-c69a-456e-aec2-cd57bda72ba4',\n",
       "              'x': array([11.134804 ,  7.8109136, 10.763227 , 10.177024 ,  9.082473 ,  9.094803 ,\n",
       "                           6.467443 ,  8.353425 , 11.180329 ,  7.620631 , 10.826211 ,  9.323994 ,\n",
       "                           8.292674 ,  7.95813  , 10.140609 , 10.646935 ,  5.376533 ,  7.5570126,\n",
       "                          10.754849 ,  9.936786 ,  9.807485 ,  8.870573 , 11.388149 ,  6.3971047,\n",
       "                           7.3642993,  5.4353085,  5.9349284,  6.011427 ,  6.8855977, 10.742862 ,\n",
       "                           9.3697405,  8.816006 ,  8.258361 ,  9.765638 ,  9.050335 ],\n",
       "                         dtype=float32),\n",
       "              'xaxis': 'x',\n",
       "              'y': array([ 0.7093368 ,  2.702429  ,  3.515524  ,  3.5642154 ,  3.4791212 ,\n",
       "                           2.7402673 ,  1.5857251 ,  3.3647878 , -1.2967068 , -0.99206513,\n",
       "                          -1.273903  ,  0.32346523, -1.4243773 , -0.465894  , -2.4777975 ,\n",
       "                           0.8009752 , -1.8548121 , -2.0895622 , -2.1977134 ,  1.6352398 ,\n",
       "                           0.03365129, -0.5586862 ,  2.4517813 ,  0.8137437 ,  1.5079908 ,\n",
       "                           1.7167143 ,  2.7415528 , -0.13098848, -0.7825413 , -2.8352036 ,\n",
       "                           1.0072558 ,  0.9111124 , -3.4682598 , -0.45521006, -0.09216915],\n",
       "                         dtype=float32),\n",
       "              'yaxis': 'y'},\n",
       "             {'legendgroup': '5',\n",
       "              'line': {'dash': 'dash', 'width': 1},\n",
       "              'mode': 'lines',\n",
       "              'name': 'citations',\n",
       "              'showlegend': False,\n",
       "              'type': 'scatter',\n",
       "              'uid': '8fa1f0d8-70c6-4412-bff9-a07ade7f2968',\n",
       "              'x': [0, 0, 1.4334092541024248, 0],\n",
       "              'xaxis': 'x2',\n",
       "              'y': [0, 3.1606713369534023, 2.9147855945444494, 0],\n",
       "              'yaxis': 'y2'},\n",
       "             {'legendgroup': '5',\n",
       "              'mode': 'text',\n",
       "              'showlegend': False,\n",
       "              'text': [3.16, 3.25, 1.45],\n",
       "              'textposition': 'top right',\n",
       "              'type': 'scatter',\n",
       "              'uid': 'eeec41a1-b6ef-44ad-a0fa-f1bb2149e1aa',\n",
       "              'x': [0, 0.7167046270512124, 0.7167046270512124],\n",
       "              'xaxis': 'x2',\n",
       "              'y': [1.5803356684767011, 1.4573927972722247, 3.037728465748926],\n",
       "              'yaxis': 'y2'},\n",
       "             {'legendgroup': '1',\n",
       "              'marker': {'color': '#ff7f0e', 'size': 12, 'symbol': 'star'},\n",
       "              'mode': 'markers',\n",
       "              'name': 'Dose 2 non-responders',\n",
       "              'showlegend': True,\n",
       "              'type': 'scatter',\n",
       "              'uid': '8503f12f-bafc-4cdb-9f53-6cdbfce93249',\n",
       "              'x': [0],\n",
       "              'xaxis': 'x2',\n",
       "              'y': [3.1606713369534023],\n",
       "              'yaxis': 'y2'},\n",
       "             {'legendgroup': '1',\n",
       "              'marker': {'color': '#7f7f7f', 'size': 12, 'symbol': 'cross'},\n",
       "              'mode': 'markers',\n",
       "              'name': 'Healthy',\n",
       "              'showlegend': True,\n",
       "              'type': 'scatter',\n",
       "              'uid': '988176e5-4310-4534-ab9e-cb8749df5f13',\n",
       "              'x': [0],\n",
       "              'xaxis': 'x2',\n",
       "              'y': [0],\n",
       "              'yaxis': 'y2'},\n",
       "             {'legendgroup': '1',\n",
       "              'marker': {'color': '#1f77b4', 'size': 12},\n",
       "              'mode': 'markers',\n",
       "              'name': 'Dose 2 detectable',\n",
       "              'showlegend': True,\n",
       "              'type': 'scatter',\n",
       "              'uid': '7b8aceba-6167-4190-a71f-36a0cccef396',\n",
       "              'x': [1.4334092541024248],\n",
       "              'xaxis': 'x2',\n",
       "              'y': [2.9147855945444494],\n",
       "              'yaxis': 'y2'},\n",
       "             {'legendgroup': '5',\n",
       "              'marker': {'color': '#7f7f7f', 'symbol': 'cross'},\n",
       "              'mode': 'markers',\n",
       "              'name': 'Healthy',\n",
       "              'showlegend': False,\n",
       "              'type': 'scatter',\n",
       "              'uid': 'c448416c-5d45-4c5b-a45f-ffa17534aa5f',\n",
       "              'x': array([ 6.5313663 ,  5.085212  , -0.6153647 ,  5.2276573 ,  6.02952   ,\n",
       "                           5.070194  ,  4.01074   ,  5.6901693 ,  5.5709615 ,  5.0706096 ,\n",
       "                           5.7951584 ,  4.684346  ,  4.1208644 ,  1.8609419 ,  3.1465943 ,\n",
       "                          -2.0638058 ,  3.4815202 , -4.2667184 , -1.514459  , -0.51651835],\n",
       "                         dtype=float32),\n",
       "              'xaxis': 'x3',\n",
       "              'y': array([11.007847 ,  9.47234  , 11.665574 , 10.091618 ,  8.318533 , 12.060017 ,\n",
       "                          10.544546 ,  9.421543 , 11.222338 ,  7.714777 , 10.354112 , 10.889315 ,\n",
       "                          11.2389145,  9.854723 , 10.826549 , 10.0807   , 11.788624 , 11.656155 ,\n",
       "                           9.39402  ,  7.955575 ], dtype=float32),\n",
       "              'yaxis': 'y3'},\n",
       "             {'legendgroup': '5',\n",
       "              'marker': {'color': '#ff7f0e', 'symbol': 'star'},\n",
       "              'mode': 'markers',\n",
       "              'name': 'Dose 2 non-responders',\n",
       "              'showlegend': False,\n",
       "              'type': 'scatter',\n",
       "              'uid': 'af205748-76ac-431f-9389-459cc15b9fd9',\n",
       "              'x': array([ 0.83369714,  3.544942  ,  3.7256851 ,  1.2854502 ,  1.125653  ,\n",
       "                           4.569077  ,  1.6173244 ,  4.276073  ,  2.6544347 ,  0.929352  ,\n",
       "                           0.07315325, -4.51391   ,  0.30497998,  2.7965422 ,  3.1126993 ,\n",
       "                           2.3396623 , -0.11020311,  2.847034  , -2.217045  ,  2.7191076 ,\n",
       "                           5.280115  , -3.8591697 ,  1.556672  ,  0.5636915 , -0.4191997 ,\n",
       "                           6.04557   ,  2.496344  ,  4.0529046 ,  3.5927758 ,  5.5945373 ,\n",
       "                           3.2391713 ,  2.109065  ,  6.272344  ,  2.5881617 ,  0.72547495,\n",
       "                           2.1029093 ,  4.3969626 ,  3.6024723 ,  4.745198  ,  6.0203953 ,\n",
       "                           1.0321422 ,  1.6183038 ,  5.145397  ,  3.2473447 ,  2.0083888 ,\n",
       "                          -1.0036497 , -1.4690973 , -3.9471653 ,  3.671883  ], dtype=float32),\n",
       "              'xaxis': 'x3',\n",
       "              'y': array([ 8.377153 ,  9.016487 ,  8.194268 ,  7.0170946, 14.016628 , 10.014206 ,\n",
       "                          13.615317 ,  9.551683 ,  9.163914 ,  7.623567 , 10.288004 , 13.574664 ,\n",
       "                           8.049108 ,  8.761409 , 12.024539 , 13.550268 ,  7.425658 ,  7.3277507,\n",
       "                           9.659597 , 10.344957 ,  8.251773 , 13.9850645, 10.639647 , 10.6882925,\n",
       "                          10.018178 , 11.176604 ,  8.149755 ,  8.09532  ,  9.128005 ,  6.6501594,\n",
       "                          10.01318  ,  7.9880548,  7.236669 ,  9.681247 ,  8.739958 ,  7.4368734,\n",
       "                           7.582164 , 10.824057 ,  6.898886 ,  7.669823 , 11.400253 , 13.140173 ,\n",
       "                           9.135376 ,  8.083167 ,  6.91836  ,  8.290296 , 13.811117 , 11.688376 ,\n",
       "                          11.73289  ], dtype=float32),\n",
       "              'yaxis': 'y3'},\n",
       "             {'legendgroup': '5',\n",
       "              'marker': {'color': '#1f77b4'},\n",
       "              'mode': 'markers',\n",
       "              'name': 'Dose 2 detectable',\n",
       "              'showlegend': False,\n",
       "              'type': 'scatter',\n",
       "              'uid': 'ba412ec1-4886-4580-a28f-ce41599d690f',\n",
       "              'x': array([-0.1327842 , -0.47435862, -0.48098117, -0.9574374 ,  0.327251  ,\n",
       "                          -1.4462265 ,  2.984697  ,  0.15953736,  2.108121  , -4.4383173 ,\n",
       "                          -2.921323  , -3.9215236 , -1.4369296 ,  0.97263354, -2.8231153 ,\n",
       "                          -3.250993  ,  5.844316  , -1.4538838 , -3.9902296 ,  1.656109  ,\n",
       "                          -0.5218124 , -3.3871737 ,  0.08239914,  2.2449567 ,  1.5530913 ,\n",
       "                           5.467768  ,  0.21187451,  1.6152918 ,  0.81747746, -2.7229755 ,\n",
       "                          -4.558413  , -2.3838038 ,  2.893757  , -2.3967226 , -3.7984357 ],\n",
       "                         dtype=float32),\n",
       "              'xaxis': 'x3',\n",
       "              'y': array([ 9.296267 , 12.649888 , 13.795871 , 12.725829 , 12.990313 , 12.3885765,\n",
       "                           7.1197753, 13.94173  , 14.080447 , 12.861152 , 13.764479 , 14.506426 ,\n",
       "                          14.249271 , 12.392847 , 10.826535 , 14.570345 , 11.969698 ,  9.096304 ,\n",
       "                          12.339627 , 12.232541 ,  7.6541743, 11.50934  , 11.059475 , 11.259749 ,\n",
       "                          11.925645 ,  7.0279813, 11.82639  ,  9.393388 ,  9.477495 , 14.428059 ,\n",
       "                          14.230155 , 13.631028 , 11.364376 , 14.47186  , 11.277649 ],\n",
       "                         dtype=float32),\n",
       "              'yaxis': 'y3'},\n",
       "             {'legendgroup': '5',\n",
       "              'line': {'dash': 'dash', 'width': 1},\n",
       "              'mode': 'lines',\n",
       "              'name': 'citations',\n",
       "              'showlegend': False,\n",
       "              'type': 'scatter',\n",
       "              'uid': 'b4829c5b-2ccd-4f63-81a2-b9bce1dd2382',\n",
       "              'x': [0, 0, 3.297574458253796, 0],\n",
       "              'xaxis': 'x4',\n",
       "              'y': [0, 3.2144417088856487, -2.505647614308668, 0],\n",
       "              'yaxis': 'y4'},\n",
       "             {'legendgroup': '5',\n",
       "              'mode': 'text',\n",
       "              'showlegend': False,\n",
       "              'text': [3.21, 4.14, 6.60],\n",
       "              'textposition': 'top right',\n",
       "              'type': 'scatter',\n",
       "              'uid': 'e2b0ca5c-abf9-41f9-8530-403b29b24aaa',\n",
       "              'x': [0, 1.648787229126898, 1.648787229126898],\n",
       "              'xaxis': 'x4',\n",
       "              'y': [1.6072208544428244, -1.252823807154334, 0.3543970472884901],\n",
       "              'yaxis': 'y4'},\n",
       "             {'legendgroup': '1',\n",
       "              'marker': {'color': '#ff7f0e', 'size': 12, 'symbol': 'star'},\n",
       "              'mode': 'markers',\n",
       "              'name': 'Dose 2 non-responders',\n",
       "              'showlegend': False,\n",
       "              'type': 'scatter',\n",
       "              'uid': '758c7b6c-5a78-457f-8556-4426570e2325',\n",
       "              'x': [0],\n",
       "              'xaxis': 'x4',\n",
       "              'y': [3.2144417088856487],\n",
       "              'yaxis': 'y4'},\n",
       "             {'legendgroup': '1',\n",
       "              'marker': {'color': '#7f7f7f', 'size': 12, 'symbol': 'cross'},\n",
       "              'mode': 'markers',\n",
       "              'name': 'Healthy',\n",
       "              'showlegend': False,\n",
       "              'type': 'scatter',\n",
       "              'uid': 'e1742f92-a487-4776-9767-6a885d31f4de',\n",
       "              'x': [0],\n",
       "              'xaxis': 'x4',\n",
       "              'y': [0],\n",
       "              'yaxis': 'y4'},\n",
       "             {'legendgroup': '1',\n",
       "              'marker': {'color': '#1f77b4', 'size': 12},\n",
       "              'mode': 'markers',\n",
       "              'name': 'Dose 2 detectable',\n",
       "              'showlegend': False,\n",
       "              'type': 'scatter',\n",
       "              'uid': 'ce313faa-d920-4135-aa51-c8e92024ffd2',\n",
       "              'x': [3.297574458253796],\n",
       "              'xaxis': 'x4',\n",
       "              'y': [-2.505647614308668],\n",
       "              'yaxis': 'y4'},\n",
       "             {'legendgroup': '5',\n",
       "              'marker': {'color': '#7f7f7f', 'symbol': 'cross'},\n",
       "              'mode': 'markers',\n",
       "              'name': 'Healthy',\n",
       "              'showlegend': False,\n",
       "              'type': 'scatter',\n",
       "              'uid': '4538c50f-e028-4b7c-8166-38b6d174eaa0',\n",
       "              'x': array([7.294266 , 6.4038844, 2.0127234, 7.078655 , 6.0890517, 2.982632 ,\n",
       "                          8.237442 , 6.195648 , 7.3909597, 5.5295177, 7.817248 , 7.361586 ,\n",
       "                          6.0348377, 4.079703 , 4.983794 , 3.4647818, 3.8643882, 5.1476684,\n",
       "                          3.4974613, 5.5948915], dtype=float32),\n",
       "              'xaxis': 'x5',\n",
       "              'y': array([ 7.122432 ,  9.109905 ,  2.773819 ,  9.3042   , 10.263431 ,  3.1282272,\n",
       "                           7.735879 ,  9.945853 ,  6.2752857,  9.175213 ,  7.373953 ,  7.0061054,\n",
       "                           3.860569 ,  6.907408 ,  7.178923 ,  6.497236 ,  5.8982525,  6.6196084,\n",
       "                           5.459867 ,  7.3280106], dtype=float32),\n",
       "              'yaxis': 'y5'},\n",
       "             {'legendgroup': '5',\n",
       "              'marker': {'color': '#ffaa00', 'symbol': 'star'},\n",
       "              'mode': 'markers',\n",
       "              'name': 'Dose 3 non-positives',\n",
       "              'showlegend': False,\n",
       "              'type': 'scatter',\n",
       "              'uid': '227a74ca-12d9-47dc-a8bc-fdb469d0d8da',\n",
       "              'x': array([5.0811567, 4.235652 , 7.6026783, 3.3395708, 1.2639722, 4.9511747,\n",
       "                          4.289614 , 7.8833733, 1.0463804, 1.2014408, 3.5316606, 4.1300077,\n",
       "                          4.2850895, 6.296528 , 3.743048 , 7.230258 , 3.0411992, 2.0490668,\n",
       "                          2.7699394, 8.587483 , 2.7417152, 4.3920293, 3.9556751, 3.9643369,\n",
       "                          1.9143322, 1.8784305, 2.369803 , 5.637819 , 3.4439337, 8.283419 ,\n",
       "                          6.69809  , 8.46514  , 9.023045 , 6.8988132, 8.873285 , 7.4945974,\n",
       "                          7.7515388, 8.639148 , 5.230925 , 7.2775025, 7.913253 , 6.8736343,\n",
       "                          2.5709062, 7.08692  , 6.1394224, 7.5853405, 9.163193 , 5.234768 ,\n",
       "                          3.8564146, 4.550752 , 5.245203 , 5.7915063, 3.510796 , 4.6253   ,\n",
       "                          4.50995  ], dtype=float32),\n",
       "              'xaxis': 'x5',\n",
       "              'y': array([5.73891  , 5.998024 , 4.398301 , 1.7231182, 4.5357985, 2.4440997,\n",
       "                          2.937593 , 9.015587 , 3.421924 , 2.6860206, 2.0365295, 2.2796302,\n",
       "                          1.5417408, 3.1970935, 8.462742 , 9.96311  , 7.7856965, 4.6198716,\n",
       "                          5.486954 , 8.560208 , 4.8942194, 7.595796 , 2.7933555, 4.872047 ,\n",
       "                          5.4505224, 3.8383222, 5.970647 , 6.7563767, 3.8053927, 3.1944566,\n",
       "                          5.1648703, 5.006938 , 3.8259861, 5.6290493, 5.698731 , 4.855788 ,\n",
       "                          4.758362 , 3.0163176, 3.2994611, 3.6319902, 3.2946968, 2.839643 ,\n",
       "                          4.028518 , 8.745401 , 5.500475 , 3.9733582, 5.2732835, 7.9891977,\n",
       "                          4.095224 , 5.0666003, 4.981614 , 5.3892016, 4.698729 , 5.683465 ,\n",
       "                          4.4070354], dtype=float32),\n",
       "              'yaxis': 'y5'},\n",
       "             {'legendgroup': '5',\n",
       "              'marker': {'color': '#2ca02c'},\n",
       "              'mode': 'markers',\n",
       "              'name': 'Dose 3 positives',\n",
       "              'showlegend': False,\n",
       "              'type': 'scatter',\n",
       "              'uid': 'e84de440-7c3f-44f2-83e8-d7ddf465227b',\n",
       "              'x': array([1.5901276, 2.908433 , 5.424828 , 3.7092285, 4.698408 , 4.795462 ,\n",
       "                          5.677214 , 3.297713 , 8.504158 , 3.2184522, 4.7239656, 4.2362347,\n",
       "                          3.052314 , 1.8721493, 8.036176 , 8.144217 , 8.560264 , 6.3196406,\n",
       "                          6.17274  ], dtype=float32),\n",
       "              'xaxis': 'x5',\n",
       "              'y': array([4.9561143, 3.4767594, 4.6304684, 7.645987 , 6.802758 , 4.2022934,\n",
       "                          4.2733827, 6.9290996, 7.192787 , 3.4007175, 8.030987 , 3.5392518,\n",
       "                          6.6389756, 2.9789612, 6.5079083, 5.344959 , 4.17184  , 6.1779366,\n",
       "                          7.512987 ], dtype=float32),\n",
       "              'yaxis': 'y5'},\n",
       "             {'legendgroup': '5',\n",
       "              'line': {'dash': 'dash', 'width': 1},\n",
       "              'mode': 'lines',\n",
       "              'name': 'citations',\n",
       "              'showlegend': False,\n",
       "              'type': 'scatter',\n",
       "              'uid': '7a23869b-a6a0-4f3a-8fe6-4c72bf81c562',\n",
       "              'x': [0, 0, 0.5537135191202864, 0],\n",
       "              'xaxis': 'x6',\n",
       "              'y': [0, 3.2393660501644783, 2.1959872265094322, 0],\n",
       "              'yaxis': 'y6'},\n",
       "             {'legendgroup': '5',\n",
       "              'mode': 'text',\n",
       "              'showlegend': False,\n",
       "              'text': [3.24, 2.16, 0.96],\n",
       "              'textposition': 'top right',\n",
       "              'type': 'scatter',\n",
       "              'uid': 'ddcb554d-f727-46c3-b425-c9f281813af1',\n",
       "              'x': [0, 0.2768567595601432, 0.2768567595601432],\n",
       "              'xaxis': 'x6',\n",
       "              'y': [1.6196830250822392, 1.0979936132547161, 2.7176766383369553],\n",
       "              'yaxis': 'y6'},\n",
       "             {'legendgroup': '2',\n",
       "              'marker': {'color': '#ffaa00', 'size': 12, 'symbol': 'star'},\n",
       "              'mode': 'markers',\n",
       "              'name': 'Dose 3 non-positives',\n",
       "              'showlegend': True,\n",
       "              'type': 'scatter',\n",
       "              'uid': '2f6af4de-b02a-412e-8039-b0a074c21307',\n",
       "              'x': [0],\n",
       "              'xaxis': 'x6',\n",
       "              'y': [3.2393660501644783],\n",
       "              'yaxis': 'y6'},\n",
       "             {'legendgroup': '2',\n",
       "              'marker': {'color': '#7f7f7f', 'size': 12, 'symbol': 'cross'},\n",
       "              'mode': 'markers',\n",
       "              'name': 'Healthy',\n",
       "              'showlegend': True,\n",
       "              'type': 'scatter',\n",
       "              'uid': '9e054ea5-0e2d-49fc-b0a1-affe847a39a7',\n",
       "              'x': [0],\n",
       "              'xaxis': 'x6',\n",
       "              'y': [0],\n",
       "              'yaxis': 'y6'},\n",
       "             {'legendgroup': '2',\n",
       "              'marker': {'color': '#2ca02c', 'size': 12},\n",
       "              'mode': 'markers',\n",
       "              'name': 'Dose 3 positives',\n",
       "              'showlegend': True,\n",
       "              'type': 'scatter',\n",
       "              'uid': 'e1af4be7-7ef3-4276-a8e4-dcee058e9ae3',\n",
       "              'x': [0.5537135191202864],\n",
       "              'xaxis': 'x6',\n",
       "              'y': [2.1959872265094322],\n",
       "              'yaxis': 'y6'},\n",
       "             {'legendgroup': '5',\n",
       "              'marker': {'color': '#7f7f7f', 'symbol': 'cross'},\n",
       "              'mode': 'markers',\n",
       "              'name': 'Healthy',\n",
       "              'showlegend': False,\n",
       "              'type': 'scatter',\n",
       "              'uid': '49d31346-0bba-450b-9f3f-e35a9940fa33',\n",
       "              'x': array([-0.18532844,  2.188833  ,  1.064268  ,  0.656354  ,  0.42677507,\n",
       "                          -2.415555  , -0.55222833, -1.5252914 ,  1.603191  , -2.6979668 ,\n",
       "                          -4.2163873 , -2.5467184 , -2.6328309 , -2.137168  , -0.69298947,\n",
       "                          -6.032666  , -4.9726706 , -2.953568  , -1.3206873 , -2.214266  ],\n",
       "                         dtype=float32),\n",
       "              'xaxis': 'x7',\n",
       "              'y': array([ 8.049715  ,  5.518228  ,  1.0469016 ,  1.4100844 ,  7.801237  ,\n",
       "                           0.37603837,  7.4692273 ,  7.6931877 ,  3.5389948 ,  5.8706427 ,\n",
       "                           1.2646543 ,  7.552649  , 10.373365  ,  9.58333   , 11.679213  ,\n",
       "                           7.725462  ,  7.0238776 ,  6.5459733 , 11.518853  ,  8.455843  ],\n",
       "                         dtype=float32),\n",
       "              'yaxis': 'y7'},\n",
       "             {'legendgroup': '5',\n",
       "              'marker': {'color': '#ffaa00', 'symbol': 'star'},\n",
       "              'mode': 'markers',\n",
       "              'name': 'Dose 3 non-positives',\n",
       "              'showlegend': False,\n",
       "              'type': 'scatter',\n",
       "              'uid': '9d4ceb54-7552-47fb-9edc-cd87f931a2a6',\n",
       "              'x': array([-0.7298832 , -0.3615805 , -4.687561  ,  3.0024807 , -1.5233444 ,\n",
       "                          -0.01938686, -2.0889022 ,  0.0610727 ,  0.85722476, -0.6021205 ,\n",
       "                          -0.69903636, -3.1773505 ,  1.8639649 , -0.57440543,  0.33246103,\n",
       "                           0.37595525,  2.217662  ,  1.6269842 , -0.85038275, -0.53787094,\n",
       "                          -0.45054168,  0.45869943, -1.2200906 , -2.6908667 , -1.2760749 ,\n",
       "                          -1.2920625 ,  2.6745894 ,  0.12347398, -3.5057414 , -1.0858734 ,\n",
       "                          -5.303314  , -5.3099284 , -1.226982  , -1.4175438 , -4.328623  ,\n",
       "                          -5.464163  ,  3.169104  ,  1.2553914 ,  2.5651138 ,  1.169615  ,\n",
       "                          -3.3697753 , -1.9611374 , -3.6332335 ,  0.03540373, -3.9900005 ,\n",
       "                          -3.458602  , -4.818242  , -1.6144905 , -3.3294098 , -4.101354  ,\n",
       "                          -4.618345  , -1.0561354 , -5.4446774 , -2.7481198 , -5.7654605 ],\n",
       "                         dtype=float32),\n",
       "              'xaxis': 'x7',\n",
       "              'y': array([10.868616  ,  3.6365724 ,  2.5438938 ,  5.646365  ,  6.4609985 ,\n",
       "                           5.242794  ,  7.312807  ,  1.6808703 ,  3.603518  ,  1.9731435 ,\n",
       "                           2.782196  ,  7.465321  ,  4.3352666 ,  4.940007  ,  6.584039  ,\n",
       "                           0.9672441 ,  6.6974497 ,  6.0118203 , 10.064432  ,  1.0080711 ,\n",
       "                           6.1030946 ,  5.9777074 ,  5.9981365 ,  2.2341137 , 10.394503  ,\n",
       "                           2.6548355 ,  6.2928696 ,  4.1806135 ,  1.8143743 ,  3.6113415 ,\n",
       "                           2.6432412 ,  3.803715  ,  4.329248  ,  5.1993012 ,  5.183441  ,\n",
       "                           3.4246368 ,  6.111534  ,  4.902296  ,  4.894973  ,  4.392572  ,\n",
       "                           4.6651835 ,  4.2892723 ,  1.9694933 ,  0.61559457,  9.342044  ,\n",
       "                           5.550379  ,  3.214931  , 10.047938  ,  8.578269  ,  6.9458303 ,\n",
       "                           7.506598  , 12.079369  ,  7.523936  ,  9.841047  ,  7.281963  ],\n",
       "                         dtype=float32),\n",
       "              'yaxis': 'y7'},\n",
       "             {'legendgroup': '5',\n",
       "              'marker': {'color': '#2ca02c'},\n",
       "              'mode': 'markers',\n",
       "              'name': 'Dose 3 positives',\n",
       "              'showlegend': False,\n",
       "              'type': 'scatter',\n",
       "              'uid': 'dfba8f69-1812-4c41-a4fe-403270e1199b',\n",
       "              'x': array([ 0.04867919, -1.9323592 ,  1.9271075 , -1.9271472 , -2.5306072 ,\n",
       "                          -3.891191  , -3.944     , -1.2302501 , -3.323237  , -5.693491  ,\n",
       "                          -3.5804167 , -3.0626261 , -5.174228  ,  0.26924938, -3.1643136 ,\n",
       "                          -3.7979476 , -4.360714  , -4.2310233 , -4.1541696 ], dtype=float32),\n",
       "              'xaxis': 'x7',\n",
       "              'y': array([ 7.1033263 ,  6.0843883 ,  5.888692  , 10.706876  ,  8.517865  ,\n",
       "                           6.3991723 ,  0.5432327 ,  6.872086  ,  0.7548522 ,  2.910995  ,\n",
       "                           8.323028  ,  0.763743  ,  8.135322  ,  4.4964266 , -0.06787288,\n",
       "                           4.8394365 ,  3.5275788 ,  4.3209496 ,  8.833846  ], dtype=float32),\n",
       "              'yaxis': 'y7'},\n",
       "             {'legendgroup': '5',\n",
       "              'line': {'dash': 'dash', 'width': 1},\n",
       "              'mode': 'lines',\n",
       "              'name': 'citations',\n",
       "              'showlegend': False,\n",
       "              'type': 'scatter',\n",
       "              'uid': 'a315dcf1-81d5-42c7-91c9-3acbaf9f322b',\n",
       "              'x': [0, 0, 2.207842271259663, 0],\n",
       "              'xaxis': 'x8',\n",
       "              'y': [0, 4.682668104268037, 0.7080826146846134, 0],\n",
       "              'yaxis': 'y8'},\n",
       "             {'legendgroup': '5',\n",
       "              'mode': 'text',\n",
       "              'showlegend': False,\n",
       "              'text': [4.68, 2.32, 4.55],\n",
       "              'textposition': 'top right',\n",
       "              'type': 'scatter',\n",
       "              'uid': '42131096-dce7-4b7b-8bd2-b87081d33fb2',\n",
       "              'x': [0, 1.1039211356298315, 1.1039211356298315],\n",
       "              'xaxis': 'x8',\n",
       "              'y': [2.3413340521340187, 0.3540413073423067, 2.6953753594763254],\n",
       "              'yaxis': 'y8'},\n",
       "             {'legendgroup': '2',\n",
       "              'marker': {'color': '#ffaa00', 'size': 12, 'symbol': 'star'},\n",
       "              'mode': 'markers',\n",
       "              'name': 'Dose 3 non-positives',\n",
       "              'showlegend': False,\n",
       "              'type': 'scatter',\n",
       "              'uid': 'ac38e7ce-b8ee-4326-8508-1e44a3d01d97',\n",
       "              'x': [0],\n",
       "              'xaxis': 'x8',\n",
       "              'y': [4.682668104268037],\n",
       "              'yaxis': 'y8'},\n",
       "             {'legendgroup': '2',\n",
       "              'marker': {'color': '#7f7f7f', 'size': 12, 'symbol': 'cross'},\n",
       "              'mode': 'markers',\n",
       "              'name': 'Healthy',\n",
       "              'showlegend': False,\n",
       "              'type': 'scatter',\n",
       "              'uid': 'e720e18a-b1c8-4be0-bd58-41f1151c8f2c',\n",
       "              'x': [0],\n",
       "              'xaxis': 'x8',\n",
       "              'y': [0],\n",
       "              'yaxis': 'y8'},\n",
       "             {'legendgroup': '2',\n",
       "              'marker': {'color': '#2ca02c', 'size': 12},\n",
       "              'mode': 'markers',\n",
       "              'name': 'Dose 3 positives',\n",
       "              'showlegend': False,\n",
       "              'type': 'scatter',\n",
       "              'uid': 'dbf52de5-51c5-4d21-9560-30c8f2815b89',\n",
       "              'x': [2.207842271259663],\n",
       "              'xaxis': 'x8',\n",
       "              'y': [0.7080826146846134],\n",
       "              'yaxis': 'y8'}],\n",
       "    'layout': {'annotations': [{'font': {'size': 16},\n",
       "                                'showarrow': False,\n",
       "                                'text': 'All Dose 2',\n",
       "                                'x': 0.175,\n",
       "                                'xanchor': 'center',\n",
       "                                'xref': 'paper',\n",
       "                                'y': 1.0,\n",
       "                                'yanchor': 'bottom',\n",
       "                                'yref': 'paper'},\n",
       "                               {'font': {'size': 16},\n",
       "                                'showarrow': False,\n",
       "                                'text': 'Best 10 Dose 2',\n",
       "                                'x': 0.675,\n",
       "                                'xanchor': 'center',\n",
       "                                'xref': 'paper',\n",
       "                                'y': 1.0,\n",
       "                                'yanchor': 'bottom',\n",
       "                                'yref': 'paper'},\n",
       "                               {'font': {'size': 16},\n",
       "                                'showarrow': False,\n",
       "                                'text': 'All Dose 3',\n",
       "                                'x': 0.175,\n",
       "                                'xanchor': 'center',\n",
       "                                'xref': 'paper',\n",
       "                                'y': 0.45,\n",
       "                                'yanchor': 'bottom',\n",
       "                                'yref': 'paper'},\n",
       "                               {'font': {'size': 16},\n",
       "                                'showarrow': False,\n",
       "                                'text': 'Best 10 Dose 3',\n",
       "                                'x': 0.675,\n",
       "                                'xanchor': 'center',\n",
       "                                'xref': 'paper',\n",
       "                                'y': 0.45,\n",
       "                                'yanchor': 'bottom',\n",
       "                                'yref': 'paper'}],\n",
       "               'height': 600,\n",
       "               'legend': {'tracegroupgap': 180},\n",
       "               'showlegend': True,\n",
       "               'template': '...',\n",
       "               'width': 1000,\n",
       "               'xaxis': {'anchor': 'y',\n",
       "                         'domain': [0.0, 0.35],\n",
       "                         'showgrid': False,\n",
       "                         'showline': False,\n",
       "                         'showticklabels': False,\n",
       "                         'ticks': '',\n",
       "                         'zeroline': False},\n",
       "               'xaxis2': {'anchor': 'y2',\n",
       "                          'domain': [0.35, 0.5],\n",
       "                          'showgrid': False,\n",
       "                          'showline': False,\n",
       "                          'showticklabels': False,\n",
       "                          'ticks': '',\n",
       "                          'zeroline': False},\n",
       "               'xaxis3': {'anchor': 'y3',\n",
       "                          'domain': [0.5, 0.85],\n",
       "                          'showgrid': False,\n",
       "                          'showline': False,\n",
       "                          'showticklabels': False,\n",
       "                          'ticks': '',\n",
       "                          'zeroline': False},\n",
       "               'xaxis4': {'anchor': 'y4',\n",
       "                          'domain': [0.85, 1.0],\n",
       "                          'showgrid': False,\n",
       "                          'showline': False,\n",
       "                          'showticklabels': False,\n",
       "                          'ticks': '',\n",
       "                          'zeroline': False},\n",
       "               'xaxis5': {'anchor': 'y5',\n",
       "                          'domain': [0.0, 0.35],\n",
       "                          'showgrid': False,\n",
       "                          'showline': False,\n",
       "                          'showticklabels': False,\n",
       "                          'ticks': '',\n",
       "                          'zeroline': False},\n",
       "               'xaxis6': {'anchor': 'y6',\n",
       "                          'domain': [0.35, 0.5],\n",
       "                          'showgrid': False,\n",
       "                          'showline': False,\n",
       "                          'showticklabels': False,\n",
       "                          'ticks': '',\n",
       "                          'zeroline': False},\n",
       "               'xaxis7': {'anchor': 'y7',\n",
       "                          'domain': [0.5, 0.85],\n",
       "                          'showgrid': False,\n",
       "                          'showline': False,\n",
       "                          'showticklabels': False,\n",
       "                          'ticks': '',\n",
       "                          'zeroline': False},\n",
       "               'xaxis8': {'anchor': 'y8',\n",
       "                          'domain': [0.85, 1.0],\n",
       "                          'showgrid': False,\n",
       "                          'showline': False,\n",
       "                          'showticklabels': False,\n",
       "                          'ticks': '',\n",
       "                          'zeroline': False},\n",
       "               'yaxis': {'anchor': 'x',\n",
       "                         'domain': [0.55, 1.0],\n",
       "                         'showgrid': False,\n",
       "                         'showline': False,\n",
       "                         'showticklabels': False,\n",
       "                         'ticks': '',\n",
       "                         'zeroline': False},\n",
       "               'yaxis2': {'anchor': 'x2',\n",
       "                          'domain': [0.55, 1.0],\n",
       "                          'scaleanchor': 'x2',\n",
       "                          'scaleratio': 1,\n",
       "                          'showgrid': False,\n",
       "                          'showline': False,\n",
       "                          'showticklabels': False,\n",
       "                          'ticks': '',\n",
       "                          'zeroline': False},\n",
       "               'yaxis3': {'anchor': 'x3',\n",
       "                          'domain': [0.55, 1.0],\n",
       "                          'showgrid': False,\n",
       "                          'showline': False,\n",
       "                          'showticklabels': False,\n",
       "                          'ticks': '',\n",
       "                          'zeroline': False},\n",
       "               'yaxis4': {'anchor': 'x4',\n",
       "                          'domain': [0.55, 1.0],\n",
       "                          'scaleanchor': 'x4',\n",
       "                          'scaleratio': 1,\n",
       "                          'showgrid': False,\n",
       "                          'showline': False,\n",
       "                          'showticklabels': False,\n",
       "                          'ticks': '',\n",
       "                          'zeroline': False},\n",
       "               'yaxis5': {'anchor': 'x5',\n",
       "                          'domain': [0.0, 0.45],\n",
       "                          'showgrid': False,\n",
       "                          'showline': False,\n",
       "                          'showticklabels': False,\n",
       "                          'ticks': '',\n",
       "                          'zeroline': False},\n",
       "               'yaxis6': {'anchor': 'x6',\n",
       "                          'domain': [0.0, 0.45],\n",
       "                          'scaleanchor': 'x6',\n",
       "                          'scaleratio': 1,\n",
       "                          'showgrid': False,\n",
       "                          'showline': False,\n",
       "                          'showticklabels': False,\n",
       "                          'ticks': '',\n",
       "                          'zeroline': False},\n",
       "               'yaxis7': {'anchor': 'x7',\n",
       "                          'domain': [0.0, 0.45],\n",
       "                          'showgrid': False,\n",
       "                          'showline': False,\n",
       "                          'showticklabels': False,\n",
       "                          'ticks': '',\n",
       "                          'zeroline': False},\n",
       "               'yaxis8': {'anchor': 'x8',\n",
       "                          'domain': [0.0, 0.45],\n",
       "                          'scaleanchor': 'x8',\n",
       "                          'scaleratio': 1,\n",
       "                          'showgrid': False,\n",
       "                          'showline': False,\n",
       "                          'showticklabels': False,\n",
       "                          'ticks': '',\n",
       "                          'zeroline': False}}\n",
       "})"
      ]
     },
     "execution_count": 17,
     "metadata": {},
     "output_type": "execute_result"
    }
   ],
   "source": [
    "file = open(fold + \"/data_aux/immune_clean_a2.pkl\",\"rb\")\n",
    "data = pk.load(file)\n",
    "file.close()\n",
    "data.keys()\n",
    "all_x_d2_d = data[\"x_d2_d\"]\n",
    "all_x_d3_p = data[\"x_d3_p\"]\n",
    "\n",
    "y_d2_d = data[\"y_d2_d\"]\n",
    "y_d3_p = data[\"y_d3_p\"]\n",
    "\n",
    "file = open(fold + \"/data_aux/feature_a1.pkl\",\"rb\")\n",
    "data = pk.load(file)\n",
    "file.close()\n",
    "\n",
    "d2_d = data[\"d2_d\"]\n",
    "d3_p = data[\"d3_p\"]\n",
    "d2_d = d2_d.loc[d2_d[\"pvalue\"]<=0.05,:]\n",
    "d3_p = d3_p.loc[d3_p[\"pvalue\"]<=0.05,:]\n",
    "\n",
    "d2_d.sort_values(by=\"mu\",ascending=False,inplace=True)\n",
    "d2_d = d2_d.iloc[0:10,:]\n",
    "d3_p.sort_values(by=\"mu\",ascending=False,inplace=True)\n",
    "d3_p = d3_p.iloc[0:10,:]\n",
    "\n",
    "#f_d2_d = list(d2_d[\"var\"])\n",
    "#f_d3_p = list(d3_p[\"var\"])\n",
    "\n",
    "x_d2_d = all_x_d2_d.loc[:,list(d2_d[\"var\"])].copy()\n",
    "x_d3_p = all_x_d3_p.loc[:,list(d3_p[\"var\"])].copy()\n",
    "\n",
    "\n",
    "np.random.seed(42)\n",
    "re = umap.UMAP(n_neighbors=6,min_dist=0.8)\n",
    "re.fit(all_x_d2_d)\n",
    "trans = re.transform(all_x_d2_d)\n",
    "x1 = [c[0]  for c in trans ]\n",
    "x2 = [c[1]  for c in trans ]\n",
    "df = pd.DataFrame({\"x1\":x1,\"x2\":x2, \"y\":list(y_d2_d)})\n",
    "\n",
    "np.random.seed(42)\n",
    "re.fit(x_d2_d)\n",
    "trans = re.transform(x_d2_d)\n",
    "x1 = [c[0]  for c in trans ]\n",
    "x2 = [c[1]  for c in trans ]\n",
    "df3 = pd.DataFrame({\"x1\":x1,\"x2\":x2, \"y\":list(y_d2_d)})\n",
    "\n",
    "np.random.seed(42)\n",
    "re.fit(all_x_d3_p)\n",
    "trans = re.transform(all_x_d3_p)\n",
    "x1 = [c[0]  for c in trans ]\n",
    "x2 = [c[1]  for c in trans ]\n",
    "df7 = pd.DataFrame({\"x1\":x1,\"x2\":x2, \"y\":list(y_d3_p)})\n",
    "\n",
    "np.random.seed(42)\n",
    "re.fit(x_d3_p)\n",
    "trans = re.transform(x_d3_p)\n",
    "x1 = [c[0]  for c in trans ]\n",
    "x2 = [c[1]  for c in trans ]\n",
    "df9 = pd.DataFrame({\"x1\":x1,\"x2\":x2, \"y\":list(y_d3_p)})\n",
    "\n",
    "#figure\n",
    "f = go.FigureWidget(make_subplots(rows=2,cols=4,subplot_titles=[\"All Dose 2\",\"\",\"Best 10 Dose 2\",\"\",\"All Dose 3\",\"\",\"Best 10 Dose 3\",\"\"],vertical_spacing=0.10,horizontal_spacing=0,column_widths=[0.35,0.15,0.35,0.15]))\n",
    "f.add_trace(go.Scatter(x=df.loc[df.y==\"h\",\"x1\"],y=df.loc[df.y==\"h\",\"x2\"],mode='markers',marker=dict(color=\"#7f7f7f\",symbol=\"cross\"),name = \"Healthy\",legendgroup='5',showlegend=False),row=1,col=1)\n",
    "f.add_trace(go.Scatter(x=df.loc[df.y==\"n\",\"x1\"],y=df.loc[df.y==\"n\",\"x2\"],mode='markers',marker=dict(color=\"#ff7f0e\",symbol=\"star\"),name = \"Dose 2 non-responders\",legendgroup='5',showlegend=False),row=1,col=1)\n",
    "f.add_trace(go.Scatter(x=df.loc[df.y==\"d\",\"x1\"],y=df.loc[df.y==\"d\",\"x2\"],mode='markers',marker=dict(color=\"#1f77b4\"),name = \"Dose 2 detectable\",legendgroup='5',showlegend=False),row=1,col=1)\n",
    "del df\n",
    "\n",
    "x,y,dhn,dhd,dnd = newton(all_x_d2_d,y_d2_d,1,2,10,Calinski_Harabasz)\n",
    "data,dist,Nfig,Hfig,Dfig=figure_d2_traces(x,y,dhn,dhd,dnd,True)\n",
    "f.add_trace(data,row=1,col=2)\n",
    "f.add_trace(dist,row=1,col=2)\n",
    "f.add_trace(Nfig,row=1,col=2)\n",
    "f.add_trace(Hfig,row=1,col=2)\n",
    "f.add_trace(Dfig,row=1,col=2)\n",
    "f.update_yaxes(scaleanchor = \"x2\",scaleratio = 1,showticklabels=False,showline=False,ticks=\"\",showgrid=False,zeroline=False,row=1,col=2)\n",
    "f.update_xaxes(showticklabels=False,showline=False,ticks=\"\",showgrid=False,zeroline=False,row=1,col=2)\n",
    "\n",
    "f.add_trace(go.Scatter(x=df3.loc[df3.y==\"h\",\"x1\"],y=df3.loc[df3.y==\"h\",\"x2\"],mode='markers',marker=dict(color=\"#7f7f7f\",symbol=\"cross\"),name = \"Healthy\",legendgroup='5',showlegend=False),row=1,col=3)\n",
    "f.add_trace(go.Scatter(x=df3.loc[df3.y==\"n\",\"x1\"],y=df3.loc[df3.y==\"n\",\"x2\"],mode='markers',marker=dict(color=\"#ff7f0e\",symbol=\"star\"),name = \"Dose 2 non-responders\",legendgroup='5',showlegend=False),row=1,col=3)\n",
    "f.add_trace(go.Scatter(x=df3.loc[df3.y==\"d\",\"x1\"],y=df3.loc[df3.y==\"d\",\"x2\"],mode='markers',marker=dict(color=\"#1f77b4\"),name = \"Dose 2 detectable\",legendgroup='5',showlegend=False),row=1,col=3)\n",
    "del df3\n",
    "\n",
    "x,y,dhn,dhd,dnd = newton(x_d2_d,y_d2_d,1,2,10,Calinski_Harabasz)\n",
    "data,dist,Nfig,Hfig,Dfig=figure_d2_traces(x,y,dhn,dhd,dnd)\n",
    "f.add_trace(data,row=1,col=4)\n",
    "f.add_trace(dist,row=1,col=4)\n",
    "f.add_trace(Nfig,row=1,col=4)\n",
    "f.add_trace(Hfig,row=1,col=4)\n",
    "f.add_trace(Dfig,row=1,col=4)\n",
    "f.update_yaxes(scaleanchor = \"x4\",scaleratio = 1,showticklabels=False,showline=False,ticks=\"\",showgrid=False,zeroline=False,row=1,col=4)\n",
    "f.update_xaxes(showticklabels=False,showline=False,ticks=\"\",showgrid=False,zeroline=False,row=1,col=4)\n",
    "\n",
    "f.add_trace(go.Scatter(x=df7.loc[df7.y==\"h\",\"x1\"],y=df7.loc[df7.y==\"h\",\"x2\"],mode='markers',marker=dict(color=\"#7f7f7f\",symbol=\"cross\"),name = \"Healthy\",legendgroup='5',showlegend=False),row=2,col=1)\n",
    "f.add_trace(go.Scatter(x=df7.loc[df7.y==\"n\",\"x1\"],y=df7.loc[df7.y==\"n\",\"x2\"],mode='markers',marker=dict(color=\"#ffaa00\",symbol=\"star\"),name = \"Dose 3 non-positives\",legendgroup='5',showlegend=False),row=2,col=1)\n",
    "f.add_trace(go.Scatter(x=df7.loc[df7.y==\"d\",\"x1\"],y=df7.loc[df7.y==\"d\",\"x2\"],mode='markers',marker=dict(color=\"#2ca02c\"),name = \"Dose 3 positives\",legendgroup='5',showlegend=False),row=2,col=1)\n",
    "\n",
    "del df7\n",
    "x,y,dhn,dhd,dnd = newton(all_x_d3_p,y_d3_p,1,2,10,Calinski_Harabasz)\n",
    "data,dist,Nfig,Hfig,Dfig=figure_d3_traces(x,y,dhn,dhd,dnd,True)\n",
    "f.add_trace(data,row=2,col=2)\n",
    "f.add_trace(dist,row=2,col=2)\n",
    "f.add_trace(Nfig,row=2,col=2)\n",
    "f.add_trace(Hfig,row=2,col=2)\n",
    "f.add_trace(Dfig,row=2,col=2)\n",
    "f.update_yaxes(scaleanchor = \"x6\",scaleratio = 1,showticklabels=False,showline=False,ticks=\"\",showgrid=False,zeroline=False,row=2,col=2)\n",
    "f.update_xaxes(showticklabels=False,showline=False,ticks=\"\",showgrid=False,zeroline=False,row=2,col=2)\n",
    "\n",
    "f.add_trace(go.Scatter(x=df9.loc[df9.y==\"h\",\"x1\"],y=df9.loc[df9.y==\"h\",\"x2\"],mode='markers',marker=dict(color=\"#7f7f7f\",symbol=\"cross\"),name = \"Healthy\",legendgroup='5',showlegend=False),row=2,col=3)\n",
    "f.add_trace(go.Scatter(x=df9.loc[df9.y==\"n\",\"x1\"],y=df9.loc[df9.y==\"n\",\"x2\"],mode='markers',marker=dict(color=\"#ffaa00\",symbol=\"star\"),name = \"Dose 3 non-positives\",legendgroup='5',showlegend=False),row=2,col=3)\n",
    "f.add_trace(go.Scatter(x=df9.loc[df9.y==\"d\",\"x1\"],y=df9.loc[df9.y==\"d\",\"x2\"],mode='markers',marker=dict(color=\"#2ca02c\"),name = \"Dose 3 positives\",legendgroup='5',showlegend=False),row=2,col=3)\n",
    "f.update_layout(legend_tracegroupgap=180)\n",
    "\n",
    "x,y,dhn,dhd,dnd = newton(x_d3_p,y_d3_p,1,2,10,Calinski_Harabasz)\n",
    "data,dist,Nfig,Hfig,Dfig=figure_d3_traces(x,y,dhn,dhd,dnd)\n",
    "f.add_trace(data,row=2,col=4)\n",
    "f.add_trace(dist,row=2,col=4)\n",
    "f.add_trace(Nfig,row=2,col=4)\n",
    "f.add_trace(Hfig,row=2,col=4)\n",
    "f.add_trace(Dfig,row=2,col=4)\n",
    "f.update_yaxes(scaleanchor = \"x8\",scaleratio = 1,showticklabels=False,showline=False,ticks=\"\",showgrid=False,zeroline=False,row=2,col=4)\n",
    "f.update_xaxes(showticklabels=False,showline=False,ticks=\"\",showgrid=False,zeroline=False,row=2,col=4)\n",
    "\n",
    "f.update_layout(height = 600,width=1000,template= \"plotly_white\",showlegend=True)\n",
    "f.update_xaxes(showticklabels=False,showline=False,ticks=\"\",showgrid=False,zeroline=False)\n",
    "f.update_yaxes(showticklabels=False,showline=False,ticks=\"\",showgrid=False,zeroline=False)\n",
    "#f.write_image(\"fig3.svg\")\n",
    "f"
   ]
  },
  {
   "cell_type": "code",
   "execution_count": 14,
   "id": "86aff164-e617-455b-9aa4-82477bb4ddcc",
   "metadata": {},
   "outputs": [
    {
     "data": {
      "text/plain": [
       "3.24817443372586"
      ]
     },
     "execution_count": 14,
     "metadata": {},
     "output_type": "execute_result"
    }
   ],
   "source": [
    "y_d2_d[(y_d2_d!=\"n\") & (y_d2_d!=\"d\")]\n",
    "calinski_harabasz_score(all_x_d2_d[y_d2_d!=\"n\"],y_d2_d[y_d2_d!=\"n\"])"
   ]
  },
  {
   "cell_type": "markdown",
   "id": "bcdd6cfa-ddbf-456a-a5b7-03f455394770",
   "metadata": {},
   "source": [
    "### calculate distance"
   ]
  },
  {
   "cell_type": "code",
   "execution_count": 69,
   "id": "f40748b7-642a-4a6a-8f46-2be5d69eae34",
   "metadata": {},
   "outputs": [
    {
     "name": "stdout",
     "output_type": "stream",
     "text": [
      "38.30391367597637 8.69916636745657\n",
      "19.553077694632716 8.69916636745657\n",
      "10.56232300398461 8.699166367456566\n",
      "6.735812970305623 8.69916636745657\n",
      "5.648922709071009 8.69916636745657\n",
      "5.544360255236255 8.69916636745657\n",
      "5.543374270717878 8.69916636745657\n",
      "5.54337418303072 8.69916636745657\n",
      "5.5433741830307195 8.69916636745657\n",
      "5.5433741830307195 8.69916636745657\n"
     ]
    }
   ],
   "source": [
    "x,y,dhn = newton(all_x_d2_d,y_d2_d,1,2,10,d_euclidian)        "
   ]
  },
  {
   "cell_type": "code",
   "execution_count": 25,
   "id": "eb929ae7-ea62-4f60-9f7e-fe064b7b3dad",
   "metadata": {},
   "outputs": [
    {
     "data": {
      "text/plain": [
       "8.69916636745657"
      ]
     },
     "execution_count": 25,
     "metadata": {},
     "output_type": "execute_result"
    }
   ],
   "source": []
  },
  {
   "cell_type": "code",
   "execution_count": 63,
   "id": "df43d9ed-ed98-45dc-a64d-77dae2484ef6",
   "metadata": {},
   "outputs": [],
   "source": []
  },
  {
   "cell_type": "code",
   "execution_count": 75,
   "id": "b464e580-0dce-4cf1-90fd-64d667e1a0ad",
   "metadata": {},
   "outputs": [
    {
     "name": "stderr",
     "output_type": "stream",
     "text": [
      "C:\\Users\\rafae\\anaconda3\\envs\\ML\\lib\\site-packages\\plotly\\graph_objs\\_deprecations.py:378: DeprecationWarning:\n",
      "\n",
      "plotly.graph_objs.Line is deprecated.\n",
      "Please replace it with one of the following more specific types\n",
      "  - plotly.graph_objs.scatter.Line\n",
      "  - plotly.graph_objs.layout.shape.Line\n",
      "  - etc.\n",
      "\n",
      "\n"
     ]
    },
    {
     "data": {
      "application/vnd.plotly.v1+json": {
       "config": {
        "plotlyServerURL": "https://plot.ly"
       },
       "data": [
        {
         "line": {
          "dash": "dash",
          "width": 1
         },
         "mode": "lines",
         "name": "citations",
         "type": "scatter",
         "x": [
          0,
          0,
          5.5433741830307195,
          0
         ],
         "y": [
          0,
          9.830881597203936,
          8.69916636745657,
          0
         ]
        },
        {
         "mode": "text",
         "text": [
          "9.83",
          "10.32",
          "5.66"
         ],
         "textposition": "top right",
         "type": "scatter",
         "x": [
          0,
          2.7716870915153597,
          2.7716870915153597
         ],
         "y": [
          4.915440798601968,
          4.349583183728285,
          9.265023982330252
         ]
        },
        {
         "marker": {
          "color": "#ff7f0e",
          "size": 8,
          "symbol": "star"
         },
         "mode": "markers+text",
         "text": [
          "Dose 2 non-responders"
         ],
         "textfont": {
          "color": "#ff7f0e"
         },
         "textposition": "middle left",
         "type": "scatter",
         "x": [
          0
         ],
         "y": [
          9.830881597203936
         ]
        },
        {
         "marker": {
          "color": "#7f7f7f",
          "size": 8,
          "symbol": "cross"
         },
         "mode": "markers+text",
         "text": [
          "Healthy"
         ],
         "textfont": {
          "color": "#7f7f7f"
         },
         "textposition": "middle right",
         "type": "scatter",
         "x": [
          0
         ],
         "y": [
          0
         ]
        },
        {
         "marker": {
          "color": "#1f77b4",
          "size": 8
         },
         "mode": "markers+text",
         "text": [
          "Dose 2 detectable"
         ],
         "textfont": {
          "color": "#1f77b4"
         },
         "textposition": "middle right",
         "type": "scatter",
         "x": [
          5.5433741830307195
         ],
         "y": [
          8.69916636745657
         ]
        }
       ],
       "layout": {
        "autosize": true,
        "showlegend": false,
        "template": {
         "data": {
          "bar": [
           {
            "error_x": {
             "color": "rgb(36,36,36)"
            },
            "error_y": {
             "color": "rgb(36,36,36)"
            },
            "marker": {
             "line": {
              "color": "white",
              "width": 0.5
             },
             "pattern": {
              "fillmode": "overlay",
              "size": 10,
              "solidity": 0.2
             }
            },
            "type": "bar"
           }
          ],
          "barpolar": [
           {
            "marker": {
             "line": {
              "color": "white",
              "width": 0.5
             },
             "pattern": {
              "fillmode": "overlay",
              "size": 10,
              "solidity": 0.2
             }
            },
            "type": "barpolar"
           }
          ],
          "carpet": [
           {
            "aaxis": {
             "endlinecolor": "rgb(36,36,36)",
             "gridcolor": "white",
             "linecolor": "white",
             "minorgridcolor": "white",
             "startlinecolor": "rgb(36,36,36)"
            },
            "baxis": {
             "endlinecolor": "rgb(36,36,36)",
             "gridcolor": "white",
             "linecolor": "white",
             "minorgridcolor": "white",
             "startlinecolor": "rgb(36,36,36)"
            },
            "type": "carpet"
           }
          ],
          "choropleth": [
           {
            "colorbar": {
             "outlinewidth": 1,
             "tickcolor": "rgb(36,36,36)",
             "ticks": "outside"
            },
            "type": "choropleth"
           }
          ],
          "contour": [
           {
            "colorbar": {
             "outlinewidth": 1,
             "tickcolor": "rgb(36,36,36)",
             "ticks": "outside"
            },
            "colorscale": [
             [
              0,
              "#440154"
             ],
             [
              0.1111111111111111,
              "#482878"
             ],
             [
              0.2222222222222222,
              "#3e4989"
             ],
             [
              0.3333333333333333,
              "#31688e"
             ],
             [
              0.4444444444444444,
              "#26828e"
             ],
             [
              0.5555555555555556,
              "#1f9e89"
             ],
             [
              0.6666666666666666,
              "#35b779"
             ],
             [
              0.7777777777777778,
              "#6ece58"
             ],
             [
              0.8888888888888888,
              "#b5de2b"
             ],
             [
              1,
              "#fde725"
             ]
            ],
            "type": "contour"
           }
          ],
          "contourcarpet": [
           {
            "colorbar": {
             "outlinewidth": 1,
             "tickcolor": "rgb(36,36,36)",
             "ticks": "outside"
            },
            "type": "contourcarpet"
           }
          ],
          "heatmap": [
           {
            "colorbar": {
             "outlinewidth": 1,
             "tickcolor": "rgb(36,36,36)",
             "ticks": "outside"
            },
            "colorscale": [
             [
              0,
              "#440154"
             ],
             [
              0.1111111111111111,
              "#482878"
             ],
             [
              0.2222222222222222,
              "#3e4989"
             ],
             [
              0.3333333333333333,
              "#31688e"
             ],
             [
              0.4444444444444444,
              "#26828e"
             ],
             [
              0.5555555555555556,
              "#1f9e89"
             ],
             [
              0.6666666666666666,
              "#35b779"
             ],
             [
              0.7777777777777778,
              "#6ece58"
             ],
             [
              0.8888888888888888,
              "#b5de2b"
             ],
             [
              1,
              "#fde725"
             ]
            ],
            "type": "heatmap"
           }
          ],
          "heatmapgl": [
           {
            "colorbar": {
             "outlinewidth": 1,
             "tickcolor": "rgb(36,36,36)",
             "ticks": "outside"
            },
            "colorscale": [
             [
              0,
              "#440154"
             ],
             [
              0.1111111111111111,
              "#482878"
             ],
             [
              0.2222222222222222,
              "#3e4989"
             ],
             [
              0.3333333333333333,
              "#31688e"
             ],
             [
              0.4444444444444444,
              "#26828e"
             ],
             [
              0.5555555555555556,
              "#1f9e89"
             ],
             [
              0.6666666666666666,
              "#35b779"
             ],
             [
              0.7777777777777778,
              "#6ece58"
             ],
             [
              0.8888888888888888,
              "#b5de2b"
             ],
             [
              1,
              "#fde725"
             ]
            ],
            "type": "heatmapgl"
           }
          ],
          "histogram": [
           {
            "marker": {
             "line": {
              "color": "white",
              "width": 0.6
             }
            },
            "type": "histogram"
           }
          ],
          "histogram2d": [
           {
            "colorbar": {
             "outlinewidth": 1,
             "tickcolor": "rgb(36,36,36)",
             "ticks": "outside"
            },
            "colorscale": [
             [
              0,
              "#440154"
             ],
             [
              0.1111111111111111,
              "#482878"
             ],
             [
              0.2222222222222222,
              "#3e4989"
             ],
             [
              0.3333333333333333,
              "#31688e"
             ],
             [
              0.4444444444444444,
              "#26828e"
             ],
             [
              0.5555555555555556,
              "#1f9e89"
             ],
             [
              0.6666666666666666,
              "#35b779"
             ],
             [
              0.7777777777777778,
              "#6ece58"
             ],
             [
              0.8888888888888888,
              "#b5de2b"
             ],
             [
              1,
              "#fde725"
             ]
            ],
            "type": "histogram2d"
           }
          ],
          "histogram2dcontour": [
           {
            "colorbar": {
             "outlinewidth": 1,
             "tickcolor": "rgb(36,36,36)",
             "ticks": "outside"
            },
            "colorscale": [
             [
              0,
              "#440154"
             ],
             [
              0.1111111111111111,
              "#482878"
             ],
             [
              0.2222222222222222,
              "#3e4989"
             ],
             [
              0.3333333333333333,
              "#31688e"
             ],
             [
              0.4444444444444444,
              "#26828e"
             ],
             [
              0.5555555555555556,
              "#1f9e89"
             ],
             [
              0.6666666666666666,
              "#35b779"
             ],
             [
              0.7777777777777778,
              "#6ece58"
             ],
             [
              0.8888888888888888,
              "#b5de2b"
             ],
             [
              1,
              "#fde725"
             ]
            ],
            "type": "histogram2dcontour"
           }
          ],
          "mesh3d": [
           {
            "colorbar": {
             "outlinewidth": 1,
             "tickcolor": "rgb(36,36,36)",
             "ticks": "outside"
            },
            "type": "mesh3d"
           }
          ],
          "parcoords": [
           {
            "line": {
             "colorbar": {
              "outlinewidth": 1,
              "tickcolor": "rgb(36,36,36)",
              "ticks": "outside"
             }
            },
            "type": "parcoords"
           }
          ],
          "pie": [
           {
            "automargin": true,
            "type": "pie"
           }
          ],
          "scatter": [
           {
            "fillpattern": {
             "fillmode": "overlay",
             "size": 10,
             "solidity": 0.2
            },
            "type": "scatter"
           }
          ],
          "scatter3d": [
           {
            "line": {
             "colorbar": {
              "outlinewidth": 1,
              "tickcolor": "rgb(36,36,36)",
              "ticks": "outside"
             }
            },
            "marker": {
             "colorbar": {
              "outlinewidth": 1,
              "tickcolor": "rgb(36,36,36)",
              "ticks": "outside"
             }
            },
            "type": "scatter3d"
           }
          ],
          "scattercarpet": [
           {
            "marker": {
             "colorbar": {
              "outlinewidth": 1,
              "tickcolor": "rgb(36,36,36)",
              "ticks": "outside"
             }
            },
            "type": "scattercarpet"
           }
          ],
          "scattergeo": [
           {
            "marker": {
             "colorbar": {
              "outlinewidth": 1,
              "tickcolor": "rgb(36,36,36)",
              "ticks": "outside"
             }
            },
            "type": "scattergeo"
           }
          ],
          "scattergl": [
           {
            "marker": {
             "colorbar": {
              "outlinewidth": 1,
              "tickcolor": "rgb(36,36,36)",
              "ticks": "outside"
             }
            },
            "type": "scattergl"
           }
          ],
          "scattermapbox": [
           {
            "marker": {
             "colorbar": {
              "outlinewidth": 1,
              "tickcolor": "rgb(36,36,36)",
              "ticks": "outside"
             }
            },
            "type": "scattermapbox"
           }
          ],
          "scatterpolar": [
           {
            "marker": {
             "colorbar": {
              "outlinewidth": 1,
              "tickcolor": "rgb(36,36,36)",
              "ticks": "outside"
             }
            },
            "type": "scatterpolar"
           }
          ],
          "scatterpolargl": [
           {
            "marker": {
             "colorbar": {
              "outlinewidth": 1,
              "tickcolor": "rgb(36,36,36)",
              "ticks": "outside"
             }
            },
            "type": "scatterpolargl"
           }
          ],
          "scatterternary": [
           {
            "marker": {
             "colorbar": {
              "outlinewidth": 1,
              "tickcolor": "rgb(36,36,36)",
              "ticks": "outside"
             }
            },
            "type": "scatterternary"
           }
          ],
          "surface": [
           {
            "colorbar": {
             "outlinewidth": 1,
             "tickcolor": "rgb(36,36,36)",
             "ticks": "outside"
            },
            "colorscale": [
             [
              0,
              "#440154"
             ],
             [
              0.1111111111111111,
              "#482878"
             ],
             [
              0.2222222222222222,
              "#3e4989"
             ],
             [
              0.3333333333333333,
              "#31688e"
             ],
             [
              0.4444444444444444,
              "#26828e"
             ],
             [
              0.5555555555555556,
              "#1f9e89"
             ],
             [
              0.6666666666666666,
              "#35b779"
             ],
             [
              0.7777777777777778,
              "#6ece58"
             ],
             [
              0.8888888888888888,
              "#b5de2b"
             ],
             [
              1,
              "#fde725"
             ]
            ],
            "type": "surface"
           }
          ],
          "table": [
           {
            "cells": {
             "fill": {
              "color": "rgb(237,237,237)"
             },
             "line": {
              "color": "white"
             }
            },
            "header": {
             "fill": {
              "color": "rgb(217,217,217)"
             },
             "line": {
              "color": "white"
             }
            },
            "type": "table"
           }
          ]
         },
         "layout": {
          "annotationdefaults": {
           "arrowhead": 0,
           "arrowwidth": 1
          },
          "autotypenumbers": "strict",
          "coloraxis": {
           "colorbar": {
            "outlinewidth": 1,
            "tickcolor": "rgb(36,36,36)",
            "ticks": "outside"
           }
          },
          "colorscale": {
           "diverging": [
            [
             0,
             "rgb(103,0,31)"
            ],
            [
             0.1,
             "rgb(178,24,43)"
            ],
            [
             0.2,
             "rgb(214,96,77)"
            ],
            [
             0.3,
             "rgb(244,165,130)"
            ],
            [
             0.4,
             "rgb(253,219,199)"
            ],
            [
             0.5,
             "rgb(247,247,247)"
            ],
            [
             0.6,
             "rgb(209,229,240)"
            ],
            [
             0.7,
             "rgb(146,197,222)"
            ],
            [
             0.8,
             "rgb(67,147,195)"
            ],
            [
             0.9,
             "rgb(33,102,172)"
            ],
            [
             1,
             "rgb(5,48,97)"
            ]
           ],
           "sequential": [
            [
             0,
             "#440154"
            ],
            [
             0.1111111111111111,
             "#482878"
            ],
            [
             0.2222222222222222,
             "#3e4989"
            ],
            [
             0.3333333333333333,
             "#31688e"
            ],
            [
             0.4444444444444444,
             "#26828e"
            ],
            [
             0.5555555555555556,
             "#1f9e89"
            ],
            [
             0.6666666666666666,
             "#35b779"
            ],
            [
             0.7777777777777778,
             "#6ece58"
            ],
            [
             0.8888888888888888,
             "#b5de2b"
            ],
            [
             1,
             "#fde725"
            ]
           ],
           "sequentialminus": [
            [
             0,
             "#440154"
            ],
            [
             0.1111111111111111,
             "#482878"
            ],
            [
             0.2222222222222222,
             "#3e4989"
            ],
            [
             0.3333333333333333,
             "#31688e"
            ],
            [
             0.4444444444444444,
             "#26828e"
            ],
            [
             0.5555555555555556,
             "#1f9e89"
            ],
            [
             0.6666666666666666,
             "#35b779"
            ],
            [
             0.7777777777777778,
             "#6ece58"
            ],
            [
             0.8888888888888888,
             "#b5de2b"
            ],
            [
             1,
             "#fde725"
            ]
           ]
          },
          "colorway": [
           "#1F77B4",
           "#FF7F0E",
           "#2CA02C",
           "#D62728",
           "#9467BD",
           "#8C564B",
           "#E377C2",
           "#7F7F7F",
           "#BCBD22",
           "#17BECF"
          ],
          "font": {
           "color": "rgb(36,36,36)"
          },
          "geo": {
           "bgcolor": "white",
           "lakecolor": "white",
           "landcolor": "white",
           "showlakes": true,
           "showland": true,
           "subunitcolor": "white"
          },
          "hoverlabel": {
           "align": "left"
          },
          "hovermode": "closest",
          "mapbox": {
           "style": "light"
          },
          "paper_bgcolor": "white",
          "plot_bgcolor": "white",
          "polar": {
           "angularaxis": {
            "gridcolor": "rgb(232,232,232)",
            "linecolor": "rgb(36,36,36)",
            "showgrid": false,
            "showline": true,
            "ticks": "outside"
           },
           "bgcolor": "white",
           "radialaxis": {
            "gridcolor": "rgb(232,232,232)",
            "linecolor": "rgb(36,36,36)",
            "showgrid": false,
            "showline": true,
            "ticks": "outside"
           }
          },
          "scene": {
           "xaxis": {
            "backgroundcolor": "white",
            "gridcolor": "rgb(232,232,232)",
            "gridwidth": 2,
            "linecolor": "rgb(36,36,36)",
            "showbackground": true,
            "showgrid": false,
            "showline": true,
            "ticks": "outside",
            "zeroline": false,
            "zerolinecolor": "rgb(36,36,36)"
           },
           "yaxis": {
            "backgroundcolor": "white",
            "gridcolor": "rgb(232,232,232)",
            "gridwidth": 2,
            "linecolor": "rgb(36,36,36)",
            "showbackground": true,
            "showgrid": false,
            "showline": true,
            "ticks": "outside",
            "zeroline": false,
            "zerolinecolor": "rgb(36,36,36)"
           },
           "zaxis": {
            "backgroundcolor": "white",
            "gridcolor": "rgb(232,232,232)",
            "gridwidth": 2,
            "linecolor": "rgb(36,36,36)",
            "showbackground": true,
            "showgrid": false,
            "showline": true,
            "ticks": "outside",
            "zeroline": false,
            "zerolinecolor": "rgb(36,36,36)"
           }
          },
          "shapedefaults": {
           "fillcolor": "black",
           "line": {
            "width": 0
           },
           "opacity": 0.3
          },
          "ternary": {
           "aaxis": {
            "gridcolor": "rgb(232,232,232)",
            "linecolor": "rgb(36,36,36)",
            "showgrid": false,
            "showline": true,
            "ticks": "outside"
           },
           "baxis": {
            "gridcolor": "rgb(232,232,232)",
            "linecolor": "rgb(36,36,36)",
            "showgrid": false,
            "showline": true,
            "ticks": "outside"
           },
           "bgcolor": "white",
           "caxis": {
            "gridcolor": "rgb(232,232,232)",
            "linecolor": "rgb(36,36,36)",
            "showgrid": false,
            "showline": true,
            "ticks": "outside"
           }
          },
          "title": {
           "x": 0.05
          },
          "xaxis": {
           "automargin": true,
           "gridcolor": "rgb(232,232,232)",
           "linecolor": "rgb(36,36,36)",
           "showgrid": false,
           "showline": true,
           "ticks": "outside",
           "title": {
            "standoff": 15
           },
           "zeroline": false,
           "zerolinecolor": "rgb(36,36,36)"
          },
          "yaxis": {
           "automargin": true,
           "gridcolor": "rgb(232,232,232)",
           "linecolor": "rgb(36,36,36)",
           "showgrid": false,
           "showline": true,
           "ticks": "outside",
           "title": {
            "standoff": 15
           },
           "zeroline": false,
           "zerolinecolor": "rgb(36,36,36)"
          }
         }
        },
        "xaxis": {
         "autorange": true,
         "domain": [
          0,
          1
         ],
         "range": [
          -33.54436565078734,
          39.08773983381806
         ],
         "showline": false,
         "showticklabels": false,
         "ticks": "",
         "type": "linear"
        },
        "yaxis": {
         "autorange": true,
         "domain": [
          0,
          1
         ],
         "range": [
          -0.905475936584573,
          10.736357533788508
         ],
         "scaleanchor": "x",
         "scaleratio": 1,
         "showline": false,
         "showticklabels": false,
         "ticks": "",
         "type": "linear"
        }
       }
      },
      "image/png": "[encoded data removed]",
      "text/html": [
       "<div>                            <div id=\"2f71c91f-4029-48dd-8dea-fa1a90222762\" class=\"plotly-graph-div\" style=\"height:525px; width:100%;\"></div>            <script type=\"text/javascript\">                require([\"plotly\"], function(Plotly) {                    window.PLOTLYENV=window.PLOTLYENV || {};                                    if (document.getElementById(\"2f71c91f-4029-48dd-8dea-fa1a90222762\")) {                    Plotly.newPlot(                        \"2f71c91f-4029-48dd-8dea-fa1a90222762\",                        [{\"line\":{\"dash\":\"dash\",\"width\":1},\"mode\":\"lines\",\"name\":\"citations\",\"x\":[0,0,5.5433741830307195,0],\"y\":[0,9.830881597203936,8.69916636745657,0],\"type\":\"scatter\"},{\"mode\":\"text\",\"text\":[\"9.83\",\"10.32\",\"5.66\"],\"textposition\":\"top right\",\"x\":[0,2.7716870915153597,2.7716870915153597],\"y\":[4.915440798601968,4.349583183728285,9.265023982330252],\"type\":\"scatter\"},{\"marker\":{\"color\":\"#ff7f0e\",\"size\":8,\"symbol\":\"star\"},\"mode\":\"markers+text\",\"text\":[\"Dose 2 non-responders\"],\"textfont\":{\"color\":\"#ff7f0e\"},\"textposition\":\"middle left\",\"x\":[0],\"y\":[9.830881597203936],\"type\":\"scatter\"},{\"marker\":{\"color\":\"#7f7f7f\",\"size\":8,\"symbol\":\"cross\"},\"mode\":\"markers+text\",\"text\":[\"Healthy\"],\"textfont\":{\"color\":\"#7f7f7f\"},\"textposition\":\"middle right\",\"x\":[0],\"y\":[0],\"type\":\"scatter\"},{\"marker\":{\"color\":\"#1f77b4\",\"size\":8},\"mode\":\"markers+text\",\"text\":[\"Dose 2 detectable\"],\"textfont\":{\"color\":\"#1f77b4\"},\"textposition\":\"middle right\",\"x\":[5.5433741830307195],\"y\":[8.69916636745657],\"type\":\"scatter\"}],                        {\"template\":{\"data\":{\"barpolar\":[{\"marker\":{\"line\":{\"color\":\"white\",\"width\":0.5},\"pattern\":{\"fillmode\":\"overlay\",\"size\":10,\"solidity\":0.2}},\"type\":\"barpolar\"}],\"bar\":[{\"error_x\":{\"color\":\"rgb(36,36,36)\"},\"error_y\":{\"color\":\"rgb(36,36,36)\"},\"marker\":{\"line\":{\"color\":\"white\",\"width\":0.5},\"pattern\":{\"fillmode\":\"overlay\",\"size\":10,\"solidity\":0.2}},\"type\":\"bar\"}],\"carpet\":[{\"aaxis\":{\"endlinecolor\":\"rgb(36,36,36)\",\"gridcolor\":\"white\",\"linecolor\":\"white\",\"minorgridcolor\":\"white\",\"startlinecolor\":\"rgb(36,36,36)\"},\"baxis\":{\"endlinecolor\":\"rgb(36,36,36)\",\"gridcolor\":\"white\",\"linecolor\":\"white\",\"minorgridcolor\":\"white\",\"startlinecolor\":\"rgb(36,36,36)\"},\"type\":\"carpet\"}],\"choropleth\":[{\"colorbar\":{\"outlinewidth\":1,\"tickcolor\":\"rgb(36,36,36)\",\"ticks\":\"outside\"},\"type\":\"choropleth\"}],\"contourcarpet\":[{\"colorbar\":{\"outlinewidth\":1,\"tickcolor\":\"rgb(36,36,36)\",\"ticks\":\"outside\"},\"type\":\"contourcarpet\"}],\"contour\":[{\"colorbar\":{\"outlinewidth\":1,\"tickcolor\":\"rgb(36,36,36)\",\"ticks\":\"outside\"},\"colorscale\":[[0.0,\"#440154\"],[0.1111111111111111,\"#482878\"],[0.2222222222222222,\"#3e4989\"],[0.3333333333333333,\"#31688e\"],[0.4444444444444444,\"#26828e\"],[0.5555555555555556,\"#1f9e89\"],[0.6666666666666666,\"#35b779\"],[0.7777777777777778,\"#6ece58\"],[0.8888888888888888,\"#b5de2b\"],[1.0,\"#fde725\"]],\"type\":\"contour\"}],\"heatmapgl\":[{\"colorbar\":{\"outlinewidth\":1,\"tickcolor\":\"rgb(36,36,36)\",\"ticks\":\"outside\"},\"colorscale\":[[0.0,\"#440154\"],[0.1111111111111111,\"#482878\"],[0.2222222222222222,\"#3e4989\"],[0.3333333333333333,\"#31688e\"],[0.4444444444444444,\"#26828e\"],[0.5555555555555556,\"#1f9e89\"],[0.6666666666666666,\"#35b779\"],[0.7777777777777778,\"#6ece58\"],[0.8888888888888888,\"#b5de2b\"],[1.0,\"#fde725\"]],\"type\":\"heatmapgl\"}],\"heatmap\":[{\"colorbar\":{\"outlinewidth\":1,\"tickcolor\":\"rgb(36,36,36)\",\"ticks\":\"outside\"},\"colorscale\":[[0.0,\"#440154\"],[0.1111111111111111,\"#482878\"],[0.2222222222222222,\"#3e4989\"],[0.3333333333333333,\"#31688e\"],[0.4444444444444444,\"#26828e\"],[0.5555555555555556,\"#1f9e89\"],[0.6666666666666666,\"#35b779\"],[0.7777777777777778,\"#6ece58\"],[0.8888888888888888,\"#b5de2b\"],[1.0,\"#fde725\"]],\"type\":\"heatmap\"}],\"histogram2dcontour\":[{\"colorbar\":{\"outlinewidth\":1,\"tickcolor\":\"rgb(36,36,36)\",\"ticks\":\"outside\"},\"colorscale\":[[0.0,\"#440154\"],[0.1111111111111111,\"#482878\"],[0.2222222222222222,\"#3e4989\"],[0.3333333333333333,\"#31688e\"],[0.4444444444444444,\"#26828e\"],[0.5555555555555556,\"#1f9e89\"],[0.6666666666666666,\"#35b779\"],[0.7777777777777778,\"#6ece58\"],[0.8888888888888888,\"#b5de2b\"],[1.0,\"#fde725\"]],\"type\":\"histogram2dcontour\"}],\"histogram2d\":[{\"colorbar\":{\"outlinewidth\":1,\"tickcolor\":\"rgb(36,36,36)\",\"ticks\":\"outside\"},\"colorscale\":[[0.0,\"#440154\"],[0.1111111111111111,\"#482878\"],[0.2222222222222222,\"#3e4989\"],[0.3333333333333333,\"#31688e\"],[0.4444444444444444,\"#26828e\"],[0.5555555555555556,\"#1f9e89\"],[0.6666666666666666,\"#35b779\"],[0.7777777777777778,\"#6ece58\"],[0.8888888888888888,\"#b5de2b\"],[1.0,\"#fde725\"]],\"type\":\"histogram2d\"}],\"histogram\":[{\"marker\":{\"line\":{\"color\":\"white\",\"width\":0.6}},\"type\":\"histogram\"}],\"mesh3d\":[{\"colorbar\":{\"outlinewidth\":1,\"tickcolor\":\"rgb(36,36,36)\",\"ticks\":\"outside\"},\"type\":\"mesh3d\"}],\"parcoords\":[{\"line\":{\"colorbar\":{\"outlinewidth\":1,\"tickcolor\":\"rgb(36,36,36)\",\"ticks\":\"outside\"}},\"type\":\"parcoords\"}],\"pie\":[{\"automargin\":true,\"type\":\"pie\"}],\"scatter3d\":[{\"line\":{\"colorbar\":{\"outlinewidth\":1,\"tickcolor\":\"rgb(36,36,36)\",\"ticks\":\"outside\"}},\"marker\":{\"colorbar\":{\"outlinewidth\":1,\"tickcolor\":\"rgb(36,36,36)\",\"ticks\":\"outside\"}},\"type\":\"scatter3d\"}],\"scattercarpet\":[{\"marker\":{\"colorbar\":{\"outlinewidth\":1,\"tickcolor\":\"rgb(36,36,36)\",\"ticks\":\"outside\"}},\"type\":\"scattercarpet\"}],\"scattergeo\":[{\"marker\":{\"colorbar\":{\"outlinewidth\":1,\"tickcolor\":\"rgb(36,36,36)\",\"ticks\":\"outside\"}},\"type\":\"scattergeo\"}],\"scattergl\":[{\"marker\":{\"colorbar\":{\"outlinewidth\":1,\"tickcolor\":\"rgb(36,36,36)\",\"ticks\":\"outside\"}},\"type\":\"scattergl\"}],\"scattermapbox\":[{\"marker\":{\"colorbar\":{\"outlinewidth\":1,\"tickcolor\":\"rgb(36,36,36)\",\"ticks\":\"outside\"}},\"type\":\"scattermapbox\"}],\"scatterpolargl\":[{\"marker\":{\"colorbar\":{\"outlinewidth\":1,\"tickcolor\":\"rgb(36,36,36)\",\"ticks\":\"outside\"}},\"type\":\"scatterpolargl\"}],\"scatterpolar\":[{\"marker\":{\"colorbar\":{\"outlinewidth\":1,\"tickcolor\":\"rgb(36,36,36)\",\"ticks\":\"outside\"}},\"type\":\"scatterpolar\"}],\"scatter\":[{\"fillpattern\":{\"fillmode\":\"overlay\",\"size\":10,\"solidity\":0.2},\"type\":\"scatter\"}],\"scatterternary\":[{\"marker\":{\"colorbar\":{\"outlinewidth\":1,\"tickcolor\":\"rgb(36,36,36)\",\"ticks\":\"outside\"}},\"type\":\"scatterternary\"}],\"surface\":[{\"colorbar\":{\"outlinewidth\":1,\"tickcolor\":\"rgb(36,36,36)\",\"ticks\":\"outside\"},\"colorscale\":[[0.0,\"#440154\"],[0.1111111111111111,\"#482878\"],[0.2222222222222222,\"#3e4989\"],[0.3333333333333333,\"#31688e\"],[0.4444444444444444,\"#26828e\"],[0.5555555555555556,\"#1f9e89\"],[0.6666666666666666,\"#35b779\"],[0.7777777777777778,\"#6ece58\"],[0.8888888888888888,\"#b5de2b\"],[1.0,\"#fde725\"]],\"type\":\"surface\"}],\"table\":[{\"cells\":{\"fill\":{\"color\":\"rgb(237,237,237)\"},\"line\":{\"color\":\"white\"}},\"header\":{\"fill\":{\"color\":\"rgb(217,217,217)\"},\"line\":{\"color\":\"white\"}},\"type\":\"table\"}]},\"layout\":{\"annotationdefaults\":{\"arrowhead\":0,\"arrowwidth\":1},\"autotypenumbers\":\"strict\",\"coloraxis\":{\"colorbar\":{\"outlinewidth\":1,\"tickcolor\":\"rgb(36,36,36)\",\"ticks\":\"outside\"}},\"colorscale\":{\"diverging\":[[0.0,\"rgb(103,0,31)\"],[0.1,\"rgb(178,24,43)\"],[0.2,\"rgb(214,96,77)\"],[0.3,\"rgb(244,165,130)\"],[0.4,\"rgb(253,219,199)\"],[0.5,\"rgb(247,247,247)\"],[0.6,\"rgb(209,229,240)\"],[0.7,\"rgb(146,197,222)\"],[0.8,\"rgb(67,147,195)\"],[0.9,\"rgb(33,102,172)\"],[1.0,\"rgb(5,48,97)\"]],\"sequential\":[[0.0,\"#440154\"],[0.1111111111111111,\"#482878\"],[0.2222222222222222,\"#3e4989\"],[0.3333333333333333,\"#31688e\"],[0.4444444444444444,\"#26828e\"],[0.5555555555555556,\"#1f9e89\"],[0.6666666666666666,\"#35b779\"],[0.7777777777777778,\"#6ece58\"],[0.8888888888888888,\"#b5de2b\"],[1.0,\"#fde725\"]],\"sequentialminus\":[[0.0,\"#440154\"],[0.1111111111111111,\"#482878\"],[0.2222222222222222,\"#3e4989\"],[0.3333333333333333,\"#31688e\"],[0.4444444444444444,\"#26828e\"],[0.5555555555555556,\"#1f9e89\"],[0.6666666666666666,\"#35b779\"],[0.7777777777777778,\"#6ece58\"],[0.8888888888888888,\"#b5de2b\"],[1.0,\"#fde725\"]]},\"colorway\":[\"#1F77B4\",\"#FF7F0E\",\"#2CA02C\",\"#D62728\",\"#9467BD\",\"#8C564B\",\"#E377C2\",\"#7F7F7F\",\"#BCBD22\",\"#17BECF\"],\"font\":{\"color\":\"rgb(36,36,36)\"},\"geo\":{\"bgcolor\":\"white\",\"lakecolor\":\"white\",\"landcolor\":\"white\",\"showlakes\":true,\"showland\":true,\"subunitcolor\":\"white\"},\"hoverlabel\":{\"align\":\"left\"},\"hovermode\":\"closest\",\"mapbox\":{\"style\":\"light\"},\"paper_bgcolor\":\"white\",\"plot_bgcolor\":\"white\",\"polar\":{\"angularaxis\":{\"gridcolor\":\"rgb(232,232,232)\",\"linecolor\":\"rgb(36,36,36)\",\"showgrid\":false,\"showline\":true,\"ticks\":\"outside\"},\"bgcolor\":\"white\",\"radialaxis\":{\"gridcolor\":\"rgb(232,232,232)\",\"linecolor\":\"rgb(36,36,36)\",\"showgrid\":false,\"showline\":true,\"ticks\":\"outside\"}},\"scene\":{\"xaxis\":{\"backgroundcolor\":\"white\",\"gridcolor\":\"rgb(232,232,232)\",\"gridwidth\":2,\"linecolor\":\"rgb(36,36,36)\",\"showbackground\":true,\"showgrid\":false,\"showline\":true,\"ticks\":\"outside\",\"zeroline\":false,\"zerolinecolor\":\"rgb(36,36,36)\"},\"yaxis\":{\"backgroundcolor\":\"white\",\"gridcolor\":\"rgb(232,232,232)\",\"gridwidth\":2,\"linecolor\":\"rgb(36,36,36)\",\"showbackground\":true,\"showgrid\":false,\"showline\":true,\"ticks\":\"outside\",\"zeroline\":false,\"zerolinecolor\":\"rgb(36,36,36)\"},\"zaxis\":{\"backgroundcolor\":\"white\",\"gridcolor\":\"rgb(232,232,232)\",\"gridwidth\":2,\"linecolor\":\"rgb(36,36,36)\",\"showbackground\":true,\"showgrid\":false,\"showline\":true,\"ticks\":\"outside\",\"zeroline\":false,\"zerolinecolor\":\"rgb(36,36,36)\"}},\"shapedefaults\":{\"fillcolor\":\"black\",\"line\":{\"width\":0},\"opacity\":0.3},\"ternary\":{\"aaxis\":{\"gridcolor\":\"rgb(232,232,232)\",\"linecolor\":\"rgb(36,36,36)\",\"showgrid\":false,\"showline\":true,\"ticks\":\"outside\"},\"baxis\":{\"gridcolor\":\"rgb(232,232,232)\",\"linecolor\":\"rgb(36,36,36)\",\"showgrid\":false,\"showline\":true,\"ticks\":\"outside\"},\"bgcolor\":\"white\",\"caxis\":{\"gridcolor\":\"rgb(232,232,232)\",\"linecolor\":\"rgb(36,36,36)\",\"showgrid\":false,\"showline\":true,\"ticks\":\"outside\"}},\"title\":{\"x\":0.05},\"xaxis\":{\"automargin\":true,\"gridcolor\":\"rgb(232,232,232)\",\"linecolor\":\"rgb(36,36,36)\",\"showgrid\":false,\"showline\":true,\"ticks\":\"outside\",\"title\":{\"standoff\":15},\"zeroline\":false,\"zerolinecolor\":\"rgb(36,36,36)\"},\"yaxis\":{\"automargin\":true,\"gridcolor\":\"rgb(232,232,232)\",\"linecolor\":\"rgb(36,36,36)\",\"showgrid\":false,\"showline\":true,\"ticks\":\"outside\",\"title\":{\"standoff\":15},\"zeroline\":false,\"zerolinecolor\":\"rgb(36,36,36)\"}}},\"showlegend\":false,\"yaxis\":{\"scaleanchor\":\"x\",\"scaleratio\":1,\"showticklabels\":false,\"showline\":false,\"ticks\":\"\"},\"xaxis\":{\"showticklabels\":false,\"showline\":false,\"ticks\":\"\"}},                        {\"responsive\": true}                    ).then(function(){\n",
       "                            \n",
       "var gd = document.getElementById('2f71c91f-4029-48dd-8dea-fa1a90222762');\n",
       "var x = new MutationObserver(function (mutations, observer) {{\n",
       "        var display = window.getComputedStyle(gd).display;\n",
       "        if (!display || display === 'none') {{\n",
       "            console.log([gd, 'removed!']);\n",
       "            Plotly.purge(gd);\n",
       "            observer.disconnect();\n",
       "        }}\n",
       "}});\n",
       "\n",
       "// Listen for the removal of the full notebook cells\n",
       "var notebookContainer = gd.closest('#notebook-container');\n",
       "if (notebookContainer) {{\n",
       "    x.observe(notebookContainer, {childList: true});\n",
       "}}\n",
       "\n",
       "// Listen for the clearing of the current output cell\n",
       "var outputEl = gd.closest('.output');\n",
       "if (outputEl) {{\n",
       "    x.observe(outputEl, {childList: true});\n",
       "}}\n",
       "\n",
       "                        })                };                });            </script>        </div>"
      ]
     },
     "metadata": {},
     "output_type": "display_data"
    }
   ],
   "source": [
    "\n",
    "fig = go.Figure()\n",
    "fig.update_layout(template=\"simple_white\",showlegend=False)\n",
    "fig.add_traces([data,dist,Nfig,Hfig,Dfig])\n",
    "fig.update_yaxes(\n",
    "    scaleanchor = \"x\",\n",
    "    scaleratio = 1,\n",
    "    showticklabels=False,\n",
    "    showline=False,\n",
    "    ticks=\"\"\n",
    "  )\n",
    "fig.update_xaxes(showticklabels=False,showline=False,ticks=\"\")\n",
    "fig.show()"
   ]
  },
  {
   "cell_type": "code",
   "execution_count": 44,
   "id": "64c337c0-4f25-442b-bdfb-decbb2657a62",
   "metadata": {},
   "outputs": [
    {
     "data": {
      "text/plain": [
       "9.830881597203936"
      ]
     },
     "execution_count": 44,
     "metadata": {},
     "output_type": "execute_result"
    }
   ],
   "source": [
    "dhn"
   ]
  },
  {
   "cell_type": "code",
   "execution_count": 60,
   "id": "d2af0ac1-8316-4f83-bfdd-2f5922dbab9a",
   "metadata": {},
   "outputs": [],
   "source": [
    "\n"
   ]
  },
  {
   "cell_type": "code",
   "execution_count": 61,
   "id": "79eb633d-ac12-457c-a9e4-589f70c65dcb",
   "metadata": {},
   "outputs": [
    {
     "name": "stdout",
     "output_type": "stream",
     "text": [
      "4.000000000000002\n",
      "5.0\n"
     ]
    }
   ],
   "source": [
    "print(x)\n",
    "print(y)"
   ]
  },
  {
   "cell_type": "markdown",
   "id": "56725fab-0ac0-4d11-937e-b747169d6500",
   "metadata": {},
   "source": [
    "### send to R for fig 4"
   ]
  },
  {
   "cell_type": "code",
   "execution_count": 17,
   "id": "5e160290-8cf5-4d0d-8201-f2ee553f0dac",
   "metadata": {},
   "outputs": [],
   "source": [
    "file = open(fold + \"/data_aux/immune_clean_a3.pkl\",\"rb\")\n",
    "data = pk.load(file)\n",
    "file.close()\n",
    "d2_d = data[\"d2_d\"]\n",
    "d2_d = d2_d[[\"Sample\",\"batch\",\"type\",\"gr_d2_d\"]+ f_d2_d]\n",
    "d3_d = data[\"d3_d\"]\n",
    "d3_d = d3_d[[\"Sample\",\"batch\",\"type\",\"gr_d3_d\"]+ f_d3_d]\n",
    "d3_p = data[\"d3_p\"]\n",
    "d3_p = d3_p[[\"Sample\",\"batch\",\"type\",\"gr_d3_p\"]+ f_d3_p]\n",
    "d2_d_lab =pd.read_csv(\"d2_d_lab.csv\",sep=\"\\t\")\n",
    "d2_d_lab = dict(zip(d2_d_lab['var'],d2_d_lab['Short name']))\n",
    "d3_p_lab =pd.read_csv(\"d3_p_lab.csv\",sep=\"\\t\")\n",
    "d3_p_lab = dict(zip(d3_p_lab['var'],d3_p_lab['Short name']))\n",
    "col = []\n",
    "for c in d2_d.columns:\n",
    "    col.append(d2_d_lab[c] if c in d2_d_lab else c)\n",
    "d2_d.columns = col\n",
    "col = []\n",
    "for c in d3_p.columns:\n",
    "    col.append(d3_p_lab[c] if c in d3_p_lab else c)\n",
    "d3_p.columns = col\n",
    "d2_d.to_csv(fold + \"/data_aux/heat_d2_d.csv\",index=False)\n",
    "#d3_d.to_csv(fold + \"/data_aux/heat_d3_d.csv\",index=False)\n",
    "d3_p.to_csv(fold + \"/data_aux/heat_d3_p.csv\",index=False)"
   ]
  },
  {
   "cell_type": "markdown",
   "id": "c47bc67c-11eb-45cf-ab99-68855f690052",
   "metadata": {},
   "source": [
    "## Fig 5 "
   ]
  },
  {
   "cell_type": "code",
   "execution_count": 32,
   "id": "fe8332af-48e6-41c7-bd94-b106587d70c5",
   "metadata": {},
   "outputs": [],
   "source": [
    "fold = os.getcwd()\n",
    "file = open(fold + \"/data_aux/feature.dat\",\"rb\")\n",
    "data = pk.load(file)\n",
    "file.close()"
   ]
  },
  {
   "cell_type": "markdown",
   "id": "0b7ec2a6-f136-4fb0-b963-13bcafad26f9",
   "metadata": {},
   "source": [
    "### Best features"
   ]
  },
  {
   "cell_type": "code",
   "execution_count": 33,
   "id": "e1682431-b453-4468-a024-5b836c691e20",
   "metadata": {},
   "outputs": [
    {
     "data": {
      "application/vnd.plotly.v1+json": {
       "config": {
        "plotlyServerURL": "https://plot.ly"
       },
       "data": [
        {
         "alignmentgroup": "True",
         "hovertemplate": "feature importance (permutation)=%{x}<br>=%{y}<extra></extra>",
         "legendgroup": "",
         "marker": {
          "color": "rgba(41, 128, 185, 1.0)",
          "pattern": {
           "shape": ""
          }
         },
         "name": "",
         "offsetgroup": "",
         "orientation": "h",
         "showlegend": false,
         "textposition": "auto",
         "type": "bar",
         "x": [
          0.02484548104956271,
          0.023819241982507226,
          0.021364431486880414,
          0.020524781341107814,
          0.01961516034985417,
          0.017854227405247745,
          0.017224489795918313,
          0.017189504373177792,
          0.016897959183673504,
          0.014728862973760864,
          0.012874635568513102,
          0.011189504373177775,
          0.010816326530612201,
          0.00811661807580173,
          0.007282798833819162,
          0.006588921282798762,
          0.005247813411078729,
          0.004157434402332293,
          0.004128279883381861,
          0.003947521865889151,
          0.003661807580174881,
          0.0033411078717200536,
          0.002658892128279813,
          0.002460641399416833,
          0.002186588921282745,
          0.002163265306122394,
          0.0013061224489796198,
          0.0012069970845480582,
          0.00111953352769674,
          0.0007930029154518281
         ],
         "xaxis": "x",
         "y": [
          "CD40+ B Cells :in: B Cells",
          "CD38+ median  :in:  CD38+ NKT Cells",
          "CD94+ median  :in:  CD94+ NK Cells",
          "CD80+ median  :in:  CD80+ Switched Memory B Cells",
          "CD94+ median  :in:  CD94+ NKT Cells",
          "CD57+ NK Cells :in: NK Cells",
          "CD38+ median  :in:  CD38+ CD27+ CD4+ T Cells",
          "CD11c+ CD27+ CD8+ T Cells :in: CD27+ CD8+ T Cells",
          "CD94+ median  :in:  CD94+ CD16+ NK Cells",
          "CD40+ IgMlow IgD+ Naive B Cells :in: IgMlow IgD+ Naive B Cells",
          "CD86+ CD16- CD56dim NK Cells :in: CD16- CD56dim NK Cells",
          "CD57+ CD16+ NK Cells :in: CD16+ NK Cells",
          "Double Negative B Cells :in: B Cells",
          "CD94+ CD16- CD56bright NK Cells :in: CD16- CD56bright NK Cells",
          "Transitional B Cells :in: Naive B Cells",
          "CD11c+ median  :in:  CD11c+ CD16+ NK Cells",
          "HLA-DR+ IgM+ IgD+ Naive B Cells :in: IgM+ IgD+ Naive B Cells",
          "HLA-DR+ median  :in:  HLA-DR+ CD27- CD4+ T Cells",
          "CD38+ CD27+ CD8+ T Cells :in: CD27+ CD8+ T Cells",
          "HLA-DR+ median  :in:  HLA-DR+ CD4+ T Cells",
          "CD94+ median  :in:  CD94+ CD16- CD56bright NK Cells",
          "CD11c+ median  :in:  CD11c+ CD16- CD56dim NK Cells",
          "CD80+ Memory B Cells :in: Memory B Cells",
          "CD86+ IgMlow IgD+ Naive B Cells :in: IgMlow IgD+ Naive B Cells",
          "Memory B Cells :in: B Cells",
          "Naive B Cells :in: B Cells",
          "CD16+ CD56bright NK Cells :in: NK Cells",
          "CD80+ Double Negative B Cells :in: Double Negative B Cells",
          "CD27+ median  :in:  CD27+ CD4+ T Cells",
          "CD57+ CD27+ CD4+ T Cells :in: CD27+ CD4+ T Cells"
         ],
         "yaxis": "y"
        }
       ],
       "layout": {
        "barmode": "relative",
        "coloraxis": {
         "showscale": false
        },
        "height": 800,
        "legend": {
         "tracegroupgap": 0
        },
        "margin": {
         "t": 60
        },
        "paper_bgcolor": "rgb(222,222,222)",
        "showlegend": false,
        "template": {
         "data": {
          "bar": [
           {
            "error_x": {
             "color": "#2a3f5f"
            },
            "error_y": {
             "color": "#2a3f5f"
            },
            "marker": {
             "line": {
              "color": "#E5ECF6",
              "width": 0.5
             },
             "pattern": {
              "fillmode": "overlay",
              "size": 10,
              "solidity": 0.2
             }
            },
            "type": "bar"
           }
          ],
          "barpolar": [
           {
            "marker": {
             "line": {
              "color": "#E5ECF6",
              "width": 0.5
             },
             "pattern": {
              "fillmode": "overlay",
              "size": 10,
              "solidity": 0.2
             }
            },
            "type": "barpolar"
           }
          ],
          "carpet": [
           {
            "aaxis": {
             "endlinecolor": "#2a3f5f",
             "gridcolor": "white",
             "linecolor": "white",
             "minorgridcolor": "white",
             "startlinecolor": "#2a3f5f"
            },
            "baxis": {
             "endlinecolor": "#2a3f5f",
             "gridcolor": "white",
             "linecolor": "white",
             "minorgridcolor": "white",
             "startlinecolor": "#2a3f5f"
            },
            "type": "carpet"
           }
          ],
          "choropleth": [
           {
            "colorbar": {
             "outlinewidth": 0,
             "ticks": ""
            },
            "type": "choropleth"
           }
          ],
          "contour": [
           {
            "colorbar": {
             "outlinewidth": 0,
             "ticks": ""
            },
            "colorscale": [
             [
              0,
              "#0d0887"
             ],
             [
              0.1111111111111111,
              "#46039f"
             ],
             [
              0.2222222222222222,
              "#7201a8"
             ],
             [
              0.3333333333333333,
              "#9c179e"
             ],
             [
              0.4444444444444444,
              "#bd3786"
             ],
             [
              0.5555555555555556,
              "#d8576b"
             ],
             [
              0.6666666666666666,
              "#ed7953"
             ],
             [
              0.7777777777777778,
              "#fb9f3a"
             ],
             [
              0.8888888888888888,
              "#fdca26"
             ],
             [
              1,
              "#f0f921"
             ]
            ],
            "type": "contour"
           }
          ],
          "contourcarpet": [
           {
            "colorbar": {
             "outlinewidth": 0,
             "ticks": ""
            },
            "type": "contourcarpet"
           }
          ],
          "heatmap": [
           {
            "colorbar": {
             "outlinewidth": 0,
             "ticks": ""
            },
            "colorscale": [
             [
              0,
              "#0d0887"
             ],
             [
              0.1111111111111111,
              "#46039f"
             ],
             [
              0.2222222222222222,
              "#7201a8"
             ],
             [
              0.3333333333333333,
              "#9c179e"
             ],
             [
              0.4444444444444444,
              "#bd3786"
             ],
             [
              0.5555555555555556,
              "#d8576b"
             ],
             [
              0.6666666666666666,
              "#ed7953"
             ],
             [
              0.7777777777777778,
              "#fb9f3a"
             ],
             [
              0.8888888888888888,
              "#fdca26"
             ],
             [
              1,
              "#f0f921"
             ]
            ],
            "type": "heatmap"
           }
          ],
          "heatmapgl": [
           {
            "colorbar": {
             "outlinewidth": 0,
             "ticks": ""
            },
            "colorscale": [
             [
              0,
              "#0d0887"
             ],
             [
              0.1111111111111111,
              "#46039f"
             ],
             [
              0.2222222222222222,
              "#7201a8"
             ],
             [
              0.3333333333333333,
              "#9c179e"
             ],
             [
              0.4444444444444444,
              "#bd3786"
             ],
             [
              0.5555555555555556,
              "#d8576b"
             ],
             [
              0.6666666666666666,
              "#ed7953"
             ],
             [
              0.7777777777777778,
              "#fb9f3a"
             ],
             [
              0.8888888888888888,
              "#fdca26"
             ],
             [
              1,
              "#f0f921"
             ]
            ],
            "type": "heatmapgl"
           }
          ],
          "histogram": [
           {
            "marker": {
             "pattern": {
              "fillmode": "overlay",
              "size": 10,
              "solidity": 0.2
             }
            },
            "type": "histogram"
           }
          ],
          "histogram2d": [
           {
            "colorbar": {
             "outlinewidth": 0,
             "ticks": ""
            },
            "colorscale": [
             [
              0,
              "#0d0887"
             ],
             [
              0.1111111111111111,
              "#46039f"
             ],
             [
              0.2222222222222222,
              "#7201a8"
             ],
             [
              0.3333333333333333,
              "#9c179e"
             ],
             [
              0.4444444444444444,
              "#bd3786"
             ],
             [
              0.5555555555555556,
              "#d8576b"
             ],
             [
              0.6666666666666666,
              "#ed7953"
             ],
             [
              0.7777777777777778,
              "#fb9f3a"
             ],
             [
              0.8888888888888888,
              "#fdca26"
             ],
             [
              1,
              "#f0f921"
             ]
            ],
            "type": "histogram2d"
           }
          ],
          "histogram2dcontour": [
           {
            "colorbar": {
             "outlinewidth": 0,
             "ticks": ""
            },
            "colorscale": [
             [
              0,
              "#0d0887"
             ],
             [
              0.1111111111111111,
              "#46039f"
             ],
             [
              0.2222222222222222,
              "#7201a8"
             ],
             [
              0.3333333333333333,
              "#9c179e"
             ],
             [
              0.4444444444444444,
              "#bd3786"
             ],
             [
              0.5555555555555556,
              "#d8576b"
             ],
             [
              0.6666666666666666,
              "#ed7953"
             ],
             [
              0.7777777777777778,
              "#fb9f3a"
             ],
             [
              0.8888888888888888,
              "#fdca26"
             ],
             [
              1,
              "#f0f921"
             ]
            ],
            "type": "histogram2dcontour"
           }
          ],
          "mesh3d": [
           {
            "colorbar": {
             "outlinewidth": 0,
             "ticks": ""
            },
            "type": "mesh3d"
           }
          ],
          "parcoords": [
           {
            "line": {
             "colorbar": {
              "outlinewidth": 0,
              "ticks": ""
             }
            },
            "type": "parcoords"
           }
          ],
          "pie": [
           {
            "automargin": true,
            "type": "pie"
           }
          ],
          "scatter": [
           {
            "fillpattern": {
             "fillmode": "overlay",
             "size": 10,
             "solidity": 0.2
            },
            "type": "scatter"
           }
          ],
          "scatter3d": [
           {
            "line": {
             "colorbar": {
              "outlinewidth": 0,
              "ticks": ""
             }
            },
            "marker": {
             "colorbar": {
              "outlinewidth": 0,
              "ticks": ""
             }
            },
            "type": "scatter3d"
           }
          ],
          "scattercarpet": [
           {
            "marker": {
             "colorbar": {
              "outlinewidth": 0,
              "ticks": ""
             }
            },
            "type": "scattercarpet"
           }
          ],
          "scattergeo": [
           {
            "marker": {
             "colorbar": {
              "outlinewidth": 0,
              "ticks": ""
             }
            },
            "type": "scattergeo"
           }
          ],
          "scattergl": [
           {
            "marker": {
             "colorbar": {
              "outlinewidth": 0,
              "ticks": ""
             }
            },
            "type": "scattergl"
           }
          ],
          "scattermapbox": [
           {
            "marker": {
             "colorbar": {
              "outlinewidth": 0,
              "ticks": ""
             }
            },
            "type": "scattermapbox"
           }
          ],
          "scatterpolar": [
           {
            "marker": {
             "colorbar": {
              "outlinewidth": 0,
              "ticks": ""
             }
            },
            "type": "scatterpolar"
           }
          ],
          "scatterpolargl": [
           {
            "marker": {
             "colorbar": {
              "outlinewidth": 0,
              "ticks": ""
             }
            },
            "type": "scatterpolargl"
           }
          ],
          "scatterternary": [
           {
            "marker": {
             "colorbar": {
              "outlinewidth": 0,
              "ticks": ""
             }
            },
            "type": "scatterternary"
           }
          ],
          "surface": [
           {
            "colorbar": {
             "outlinewidth": 0,
             "ticks": ""
            },
            "colorscale": [
             [
              0,
              "#0d0887"
             ],
             [
              0.1111111111111111,
              "#46039f"
             ],
             [
              0.2222222222222222,
              "#7201a8"
             ],
             [
              0.3333333333333333,
              "#9c179e"
             ],
             [
              0.4444444444444444,
              "#bd3786"
             ],
             [
              0.5555555555555556,
              "#d8576b"
             ],
             [
              0.6666666666666666,
              "#ed7953"
             ],
             [
              0.7777777777777778,
              "#fb9f3a"
             ],
             [
              0.8888888888888888,
              "#fdca26"
             ],
             [
              1,
              "#f0f921"
             ]
            ],
            "type": "surface"
           }
          ],
          "table": [
           {
            "cells": {
             "fill": {
              "color": "#EBF0F8"
             },
             "line": {
              "color": "white"
             }
            },
            "header": {
             "fill": {
              "color": "#C8D4E3"
             },
             "line": {
              "color": "white"
             }
            },
            "type": "table"
           }
          ]
         },
         "layout": {
          "annotationdefaults": {
           "arrowcolor": "#2a3f5f",
           "arrowhead": 0,
           "arrowwidth": 1
          },
          "autotypenumbers": "strict",
          "coloraxis": {
           "colorbar": {
            "outlinewidth": 0,
            "ticks": ""
           }
          },
          "colorscale": {
           "diverging": [
            [
             0,
             "#8e0152"
            ],
            [
             0.1,
             "#c51b7d"
            ],
            [
             0.2,
             "#de77ae"
            ],
            [
             0.3,
             "#f1b6da"
            ],
            [
             0.4,
             "#fde0ef"
            ],
            [
             0.5,
             "#f7f7f7"
            ],
            [
             0.6,
             "#e6f5d0"
            ],
            [
             0.7,
             "#b8e186"
            ],
            [
             0.8,
             "#7fbc41"
            ],
            [
             0.9,
             "#4d9221"
            ],
            [
             1,
             "#276419"
            ]
           ],
           "sequential": [
            [
             0,
             "#0d0887"
            ],
            [
             0.1111111111111111,
             "#46039f"
            ],
            [
             0.2222222222222222,
             "#7201a8"
            ],
            [
             0.3333333333333333,
             "#9c179e"
            ],
            [
             0.4444444444444444,
             "#bd3786"
            ],
            [
             0.5555555555555556,
             "#d8576b"
            ],
            [
             0.6666666666666666,
             "#ed7953"
            ],
            [
             0.7777777777777778,
             "#fb9f3a"
            ],
            [
             0.8888888888888888,
             "#fdca26"
            ],
            [
             1,
             "#f0f921"
            ]
           ],
           "sequentialminus": [
            [
             0,
             "#0d0887"
            ],
            [
             0.1111111111111111,
             "#46039f"
            ],
            [
             0.2222222222222222,
             "#7201a8"
            ],
            [
             0.3333333333333333,
             "#9c179e"
            ],
            [
             0.4444444444444444,
             "#bd3786"
            ],
            [
             0.5555555555555556,
             "#d8576b"
            ],
            [
             0.6666666666666666,
             "#ed7953"
            ],
            [
             0.7777777777777778,
             "#fb9f3a"
            ],
            [
             0.8888888888888888,
             "#fdca26"
            ],
            [
             1,
             "#f0f921"
            ]
           ]
          },
          "colorway": [
           "#636efa",
           "#EF553B",
           "#00cc96",
           "#ab63fa",
           "#FFA15A",
           "#19d3f3",
           "#FF6692",
           "#B6E880",
           "#FF97FF",
           "#FECB52"
          ],
          "font": {
           "color": "#2a3f5f"
          },
          "geo": {
           "bgcolor": "white",
           "lakecolor": "white",
           "landcolor": "#E5ECF6",
           "showlakes": true,
           "showland": true,
           "subunitcolor": "white"
          },
          "hoverlabel": {
           "align": "left"
          },
          "hovermode": "closest",
          "mapbox": {
           "style": "light"
          },
          "paper_bgcolor": "white",
          "plot_bgcolor": "#E5ECF6",
          "polar": {
           "angularaxis": {
            "gridcolor": "white",
            "linecolor": "white",
            "ticks": ""
           },
           "bgcolor": "#E5ECF6",
           "radialaxis": {
            "gridcolor": "white",
            "linecolor": "white",
            "ticks": ""
           }
          },
          "scene": {
           "xaxis": {
            "backgroundcolor": "#E5ECF6",
            "gridcolor": "white",
            "gridwidth": 2,
            "linecolor": "white",
            "showbackground": true,
            "ticks": "",
            "zerolinecolor": "white"
           },
           "yaxis": {
            "backgroundcolor": "#E5ECF6",
            "gridcolor": "white",
            "gridwidth": 2,
            "linecolor": "white",
            "showbackground": true,
            "ticks": "",
            "zerolinecolor": "white"
           },
           "zaxis": {
            "backgroundcolor": "#E5ECF6",
            "gridcolor": "white",
            "gridwidth": 2,
            "linecolor": "white",
            "showbackground": true,
            "ticks": "",
            "zerolinecolor": "white"
           }
          },
          "shapedefaults": {
           "line": {
            "color": "#2a3f5f"
           }
          },
          "ternary": {
           "aaxis": {
            "gridcolor": "white",
            "linecolor": "white",
            "ticks": ""
           },
           "baxis": {
            "gridcolor": "white",
            "linecolor": "white",
            "ticks": ""
           },
           "bgcolor": "#E5ECF6",
           "caxis": {
            "gridcolor": "white",
            "linecolor": "white",
            "ticks": ""
           }
          },
          "title": {
           "x": 0.05
          },
          "xaxis": {
           "automargin": true,
           "gridcolor": "white",
           "linecolor": "white",
           "ticks": "",
           "title": {
            "standoff": 15
           },
           "zerolinecolor": "white",
           "zerolinewidth": 2
          },
          "yaxis": {
           "automargin": true,
           "gridcolor": "white",
           "linecolor": "white",
           "ticks": "",
           "title": {
            "standoff": 15
           },
           "zerolinecolor": "white",
           "zerolinewidth": 2
          }
         }
        },
        "title": {
         "text": "Dose 2 detectable",
         "x": 0.5,
         "xanchor": "left"
        },
        "width": 1000,
        "xaxis": {
         "anchor": "y",
         "autorange": true,
         "domain": [
          0,
          1
         ],
         "range": [
          0,
          0.026153137946908118
         ],
         "title": {
          "text": "feature importance (permutation)"
         },
         "type": "linear"
        },
        "yaxis": {
         "anchor": "x",
         "autorange": true,
         "categoryorder": "total ascending",
         "domain": [
          0,
          1
         ],
         "range": [
          -0.5,
          29.5
         ],
         "tickfont": {
          "color": "black",
          "family": "Arial, sans-serif",
          "size": 14
         },
         "title": {
          "text": ""
         },
         "type": "category"
        }
       }
      },
      "image/png": "[encoded data removed]",
      "text/html": [
       "<div>                            <div id=\"ed4d093c-2229-4c24-986b-0d188cf86ef5\" class=\"plotly-graph-div\" style=\"height:800px; width:1000px;\"></div>            <script type=\"text/javascript\">                require([\"plotly\"], function(Plotly) {                    window.PLOTLYENV=window.PLOTLYENV || {};                                    if (document.getElementById(\"ed4d093c-2229-4c24-986b-0d188cf86ef5\")) {                    Plotly.newPlot(                        \"ed4d093c-2229-4c24-986b-0d188cf86ef5\",                        [{\"alignmentgroup\":\"True\",\"hovertemplate\":\"feature importance (permutation)=%{x}<br>=%{y}<extra></extra>\",\"legendgroup\":\"\",\"marker\":{\"color\":\"rgba(41, 128, 185, 1.0)\",\"pattern\":{\"shape\":\"\"}},\"name\":\"\",\"offsetgroup\":\"\",\"orientation\":\"h\",\"showlegend\":false,\"textposition\":\"auto\",\"x\":[0.02484548104956271,0.023819241982507226,0.021364431486880414,0.020524781341107814,0.01961516034985417,0.017854227405247745,0.017224489795918313,0.017189504373177792,0.016897959183673504,0.014728862973760864,0.012874635568513102,0.011189504373177775,0.010816326530612201,0.00811661807580173,0.007282798833819162,0.006588921282798762,0.005247813411078729,0.004157434402332293,0.004128279883381861,0.003947521865889151,0.003661807580174881,0.0033411078717200536,0.002658892128279813,0.002460641399416833,0.002186588921282745,0.002163265306122394,0.0013061224489796198,0.0012069970845480582,0.00111953352769674,0.0007930029154518281],\"xaxis\":\"x\",\"y\":[\"CD40+ B Cells :in: B Cells\",\"CD38+ median  :in:  CD38+ NKT Cells\",\"CD94+ median  :in:  CD94+ NK Cells\",\"CD80+ median  :in:  CD80+ Switched Memory B Cells\",\"CD94+ median  :in:  CD94+ NKT Cells\",\"CD57+ NK Cells :in: NK Cells\",\"CD38+ median  :in:  CD38+ CD27+ CD4+ T Cells\",\"CD11c+ CD27+ CD8+ T Cells :in: CD27+ CD8+ T Cells\",\"CD94+ median  :in:  CD94+ CD16+ NK Cells\",\"CD40+ IgMlow IgD+ Naive B Cells :in: IgMlow IgD+ Naive B Cells\",\"CD86+ CD16- CD56dim NK Cells :in: CD16- CD56dim NK Cells\",\"CD57+ CD16+ NK Cells :in: CD16+ NK Cells\",\"Double Negative B Cells :in: B Cells\",\"CD94+ CD16- CD56bright NK Cells :in: CD16- CD56bright NK Cells\",\"Transitional B Cells :in: Naive B Cells\",\"CD11c+ median  :in:  CD11c+ CD16+ NK Cells\",\"HLA-DR+ IgM+ IgD+ Naive B Cells :in: IgM+ IgD+ Naive B Cells\",\"HLA-DR+ median  :in:  HLA-DR+ CD27- CD4+ T Cells\",\"CD38+ CD27+ CD8+ T Cells :in: CD27+ CD8+ T Cells\",\"HLA-DR+ median  :in:  HLA-DR+ CD4+ T Cells\",\"CD94+ median  :in:  CD94+ CD16- CD56bright NK Cells\",\"CD11c+ median  :in:  CD11c+ CD16- CD56dim NK Cells\",\"CD80+ Memory B Cells :in: Memory B Cells\",\"CD86+ IgMlow IgD+ Naive B Cells :in: IgMlow IgD+ Naive B Cells\",\"Memory B Cells :in: B Cells\",\"Naive B Cells :in: B Cells\",\"CD16+ CD56bright NK Cells :in: NK Cells\",\"CD80+ Double Negative B Cells :in: Double Negative B Cells\",\"CD27+ median  :in:  CD27+ CD4+ T Cells\",\"CD57+ CD27+ CD4+ T Cells :in: CD27+ CD4+ T Cells\"],\"yaxis\":\"y\",\"type\":\"bar\"}],                        {\"template\":{\"data\":{\"histogram2dcontour\":[{\"type\":\"histogram2dcontour\",\"colorbar\":{\"outlinewidth\":0,\"ticks\":\"\"},\"colorscale\":[[0.0,\"#0d0887\"],[0.1111111111111111,\"#46039f\"],[0.2222222222222222,\"#7201a8\"],[0.3333333333333333,\"#9c179e\"],[0.4444444444444444,\"#bd3786\"],[0.5555555555555556,\"#d8576b\"],[0.6666666666666666,\"#ed7953\"],[0.7777777777777778,\"#fb9f3a\"],[0.8888888888888888,\"#fdca26\"],[1.0,\"#f0f921\"]]}],\"choropleth\":[{\"type\":\"choropleth\",\"colorbar\":{\"outlinewidth\":0,\"ticks\":\"\"}}],\"histogram2d\":[{\"type\":\"histogram2d\",\"colorbar\":{\"outlinewidth\":0,\"ticks\":\"\"},\"colorscale\":[[0.0,\"#0d0887\"],[0.1111111111111111,\"#46039f\"],[0.2222222222222222,\"#7201a8\"],[0.3333333333333333,\"#9c179e\"],[0.4444444444444444,\"#bd3786\"],[0.5555555555555556,\"#d8576b\"],[0.6666666666666666,\"#ed7953\"],[0.7777777777777778,\"#fb9f3a\"],[0.8888888888888888,\"#fdca26\"],[1.0,\"#f0f921\"]]}],\"heatmap\":[{\"type\":\"heatmap\",\"colorbar\":{\"outlinewidth\":0,\"ticks\":\"\"},\"colorscale\":[[0.0,\"#0d0887\"],[0.1111111111111111,\"#46039f\"],[0.2222222222222222,\"#7201a8\"],[0.3333333333333333,\"#9c179e\"],[0.4444444444444444,\"#bd3786\"],[0.5555555555555556,\"#d8576b\"],[0.6666666666666666,\"#ed7953\"],[0.7777777777777778,\"#fb9f3a\"],[0.8888888888888888,\"#fdca26\"],[1.0,\"#f0f921\"]]}],\"heatmapgl\":[{\"type\":\"heatmapgl\",\"colorbar\":{\"outlinewidth\":0,\"ticks\":\"\"},\"colorscale\":[[0.0,\"#0d0887\"],[0.1111111111111111,\"#46039f\"],[0.2222222222222222,\"#7201a8\"],[0.3333333333333333,\"#9c179e\"],[0.4444444444444444,\"#bd3786\"],[0.5555555555555556,\"#d8576b\"],[0.6666666666666666,\"#ed7953\"],[0.7777777777777778,\"#fb9f3a\"],[0.8888888888888888,\"#fdca26\"],[1.0,\"#f0f921\"]]}],\"contourcarpet\":[{\"type\":\"contourcarpet\",\"colorbar\":{\"outlinewidth\":0,\"ticks\":\"\"}}],\"contour\":[{\"type\":\"contour\",\"colorbar\":{\"outlinewidth\":0,\"ticks\":\"\"},\"colorscale\":[[0.0,\"#0d0887\"],[0.1111111111111111,\"#46039f\"],[0.2222222222222222,\"#7201a8\"],[0.3333333333333333,\"#9c179e\"],[0.4444444444444444,\"#bd3786\"],[0.5555555555555556,\"#d8576b\"],[0.6666666666666666,\"#ed7953\"],[0.7777777777777778,\"#fb9f3a\"],[0.8888888888888888,\"#fdca26\"],[1.0,\"#f0f921\"]]}],\"surface\":[{\"type\":\"surface\",\"colorbar\":{\"outlinewidth\":0,\"ticks\":\"\"},\"colorscale\":[[0.0,\"#0d0887\"],[0.1111111111111111,\"#46039f\"],[0.2222222222222222,\"#7201a8\"],[0.3333333333333333,\"#9c179e\"],[0.4444444444444444,\"#bd3786\"],[0.5555555555555556,\"#d8576b\"],[0.6666666666666666,\"#ed7953\"],[0.7777777777777778,\"#fb9f3a\"],[0.8888888888888888,\"#fdca26\"],[1.0,\"#f0f921\"]]}],\"mesh3d\":[{\"type\":\"mesh3d\",\"colorbar\":{\"outlinewidth\":0,\"ticks\":\"\"}}],\"scatter\":[{\"fillpattern\":{\"fillmode\":\"overlay\",\"size\":10,\"solidity\":0.2},\"type\":\"scatter\"}],\"parcoords\":[{\"type\":\"parcoords\",\"line\":{\"colorbar\":{\"outlinewidth\":0,\"ticks\":\"\"}}}],\"scatterpolargl\":[{\"type\":\"scatterpolargl\",\"marker\":{\"colorbar\":{\"outlinewidth\":0,\"ticks\":\"\"}}}],\"bar\":[{\"error_x\":{\"color\":\"#2a3f5f\"},\"error_y\":{\"color\":\"#2a3f5f\"},\"marker\":{\"line\":{\"color\":\"#E5ECF6\",\"width\":0.5},\"pattern\":{\"fillmode\":\"overlay\",\"size\":10,\"solidity\":0.2}},\"type\":\"bar\"}],\"scattergeo\":[{\"type\":\"scattergeo\",\"marker\":{\"colorbar\":{\"outlinewidth\":0,\"ticks\":\"\"}}}],\"scatterpolar\":[{\"type\":\"scatterpolar\",\"marker\":{\"colorbar\":{\"outlinewidth\":0,\"ticks\":\"\"}}}],\"histogram\":[{\"marker\":{\"pattern\":{\"fillmode\":\"overlay\",\"size\":10,\"solidity\":0.2}},\"type\":\"histogram\"}],\"scattergl\":[{\"type\":\"scattergl\",\"marker\":{\"colorbar\":{\"outlinewidth\":0,\"ticks\":\"\"}}}],\"scatter3d\":[{\"type\":\"scatter3d\",\"line\":{\"colorbar\":{\"outlinewidth\":0,\"ticks\":\"\"}},\"marker\":{\"colorbar\":{\"outlinewidth\":0,\"ticks\":\"\"}}}],\"scattermapbox\":[{\"type\":\"scattermapbox\",\"marker\":{\"colorbar\":{\"outlinewidth\":0,\"ticks\":\"\"}}}],\"scatterternary\":[{\"type\":\"scatterternary\",\"marker\":{\"colorbar\":{\"outlinewidth\":0,\"ticks\":\"\"}}}],\"scattercarpet\":[{\"type\":\"scattercarpet\",\"marker\":{\"colorbar\":{\"outlinewidth\":0,\"ticks\":\"\"}}}],\"carpet\":[{\"aaxis\":{\"endlinecolor\":\"#2a3f5f\",\"gridcolor\":\"white\",\"linecolor\":\"white\",\"minorgridcolor\":\"white\",\"startlinecolor\":\"#2a3f5f\"},\"baxis\":{\"endlinecolor\":\"#2a3f5f\",\"gridcolor\":\"white\",\"linecolor\":\"white\",\"minorgridcolor\":\"white\",\"startlinecolor\":\"#2a3f5f\"},\"type\":\"carpet\"}],\"table\":[{\"cells\":{\"fill\":{\"color\":\"#EBF0F8\"},\"line\":{\"color\":\"white\"}},\"header\":{\"fill\":{\"color\":\"#C8D4E3\"},\"line\":{\"color\":\"white\"}},\"type\":\"table\"}],\"barpolar\":[{\"marker\":{\"line\":{\"color\":\"#E5ECF6\",\"width\":0.5},\"pattern\":{\"fillmode\":\"overlay\",\"size\":10,\"solidity\":0.2}},\"type\":\"barpolar\"}],\"pie\":[{\"automargin\":true,\"type\":\"pie\"}]},\"layout\":{\"autotypenumbers\":\"strict\",\"colorway\":[\"#636efa\",\"#EF553B\",\"#00cc96\",\"#ab63fa\",\"#FFA15A\",\"#19d3f3\",\"#FF6692\",\"#B6E880\",\"#FF97FF\",\"#FECB52\"],\"font\":{\"color\":\"#2a3f5f\"},\"hovermode\":\"closest\",\"hoverlabel\":{\"align\":\"left\"},\"paper_bgcolor\":\"white\",\"plot_bgcolor\":\"#E5ECF6\",\"polar\":{\"bgcolor\":\"#E5ECF6\",\"angularaxis\":{\"gridcolor\":\"white\",\"linecolor\":\"white\",\"ticks\":\"\"},\"radialaxis\":{\"gridcolor\":\"white\",\"linecolor\":\"white\",\"ticks\":\"\"}},\"ternary\":{\"bgcolor\":\"#E5ECF6\",\"aaxis\":{\"gridcolor\":\"white\",\"linecolor\":\"white\",\"ticks\":\"\"},\"baxis\":{\"gridcolor\":\"white\",\"linecolor\":\"white\",\"ticks\":\"\"},\"caxis\":{\"gridcolor\":\"white\",\"linecolor\":\"white\",\"ticks\":\"\"}},\"coloraxis\":{\"colorbar\":{\"outlinewidth\":0,\"ticks\":\"\"}},\"colorscale\":{\"sequential\":[[0.0,\"#0d0887\"],[0.1111111111111111,\"#46039f\"],[0.2222222222222222,\"#7201a8\"],[0.3333333333333333,\"#9c179e\"],[0.4444444444444444,\"#bd3786\"],[0.5555555555555556,\"#d8576b\"],[0.6666666666666666,\"#ed7953\"],[0.7777777777777778,\"#fb9f3a\"],[0.8888888888888888,\"#fdca26\"],[1.0,\"#f0f921\"]],\"sequentialminus\":[[0.0,\"#0d0887\"],[0.1111111111111111,\"#46039f\"],[0.2222222222222222,\"#7201a8\"],[0.3333333333333333,\"#9c179e\"],[0.4444444444444444,\"#bd3786\"],[0.5555555555555556,\"#d8576b\"],[0.6666666666666666,\"#ed7953\"],[0.7777777777777778,\"#fb9f3a\"],[0.8888888888888888,\"#fdca26\"],[1.0,\"#f0f921\"]],\"diverging\":[[0,\"#8e0152\"],[0.1,\"#c51b7d\"],[0.2,\"#de77ae\"],[0.3,\"#f1b6da\"],[0.4,\"#fde0ef\"],[0.5,\"#f7f7f7\"],[0.6,\"#e6f5d0\"],[0.7,\"#b8e186\"],[0.8,\"#7fbc41\"],[0.9,\"#4d9221\"],[1,\"#276419\"]]},\"xaxis\":{\"gridcolor\":\"white\",\"linecolor\":\"white\",\"ticks\":\"\",\"title\":{\"standoff\":15},\"zerolinecolor\":\"white\",\"automargin\":true,\"zerolinewidth\":2},\"yaxis\":{\"gridcolor\":\"white\",\"linecolor\":\"white\",\"ticks\":\"\",\"title\":{\"standoff\":15},\"zerolinecolor\":\"white\",\"automargin\":true,\"zerolinewidth\":2},\"scene\":{\"xaxis\":{\"backgroundcolor\":\"#E5ECF6\",\"gridcolor\":\"white\",\"linecolor\":\"white\",\"showbackground\":true,\"ticks\":\"\",\"zerolinecolor\":\"white\",\"gridwidth\":2},\"yaxis\":{\"backgroundcolor\":\"#E5ECF6\",\"gridcolor\":\"white\",\"linecolor\":\"white\",\"showbackground\":true,\"ticks\":\"\",\"zerolinecolor\":\"white\",\"gridwidth\":2},\"zaxis\":{\"backgroundcolor\":\"#E5ECF6\",\"gridcolor\":\"white\",\"linecolor\":\"white\",\"showbackground\":true,\"ticks\":\"\",\"zerolinecolor\":\"white\",\"gridwidth\":2}},\"shapedefaults\":{\"line\":{\"color\":\"#2a3f5f\"}},\"annotationdefaults\":{\"arrowcolor\":\"#2a3f5f\",\"arrowhead\":0,\"arrowwidth\":1},\"geo\":{\"bgcolor\":\"white\",\"landcolor\":\"#E5ECF6\",\"subunitcolor\":\"white\",\"showland\":true,\"showlakes\":true,\"lakecolor\":\"white\"},\"title\":{\"x\":0.05},\"mapbox\":{\"style\":\"light\"}}},\"xaxis\":{\"anchor\":\"y\",\"domain\":[0.0,1.0],\"title\":{\"text\":\"feature importance (permutation)\"}},\"yaxis\":{\"anchor\":\"x\",\"domain\":[0.0,1.0],\"title\":{\"text\":\"\"},\"categoryorder\":\"total ascending\",\"tickfont\":{\"color\":\"black\",\"family\":\"Arial, sans-serif\",\"size\":14}},\"legend\":{\"tracegroupgap\":0},\"margin\":{\"t\":60},\"barmode\":\"relative\",\"showlegend\":false,\"height\":800,\"width\":1000,\"title\":{\"text\":\"Dose 2 detectable\",\"xanchor\":\"left\",\"x\":0.5},\"paper_bgcolor\":\"rgb(222,222,222)\",\"coloraxis\":{\"showscale\":false}},                        {\"responsive\": true}                    ).then(function(){\n",
       "                            \n",
       "var gd = document.getElementById('ed4d093c-2229-4c24-986b-0d188cf86ef5');\n",
       "var x = new MutationObserver(function (mutations, observer) {{\n",
       "        var display = window.getComputedStyle(gd).display;\n",
       "        if (!display || display === 'none') {{\n",
       "            console.log([gd, 'removed!']);\n",
       "            Plotly.purge(gd);\n",
       "            observer.disconnect();\n",
       "        }}\n",
       "}});\n",
       "\n",
       "// Listen for the removal of the full notebook cells\n",
       "var notebookContainer = gd.closest('#notebook-container');\n",
       "if (notebookContainer) {{\n",
       "    x.observe(notebookContainer, {childList: true});\n",
       "}}\n",
       "\n",
       "// Listen for the clearing of the current output cell\n",
       "var outputEl = gd.closest('.output');\n",
       "if (outputEl) {{\n",
       "    x.observe(outputEl, {childList: true});\n",
       "}}\n",
       "\n",
       "                        })                };                });            </script>        </div>"
      ]
     },
     "metadata": {},
     "output_type": "display_data"
    }
   ],
   "source": [
    "df = data[\"SVM_RFE_d2_d\"][\"df\"]\n",
    "df = df.loc[df[\"var\"]!=\"age\",:]\n",
    "df = df.sort_values(by=\"impor_mean\",ascending=False)\n",
    "fig1 = px.bar(df.iloc[:30,:], x=\"impor_mean\", y=\"var\",orientation='h',labels={\"impor_mean\": \"feature importance (permutation)\",\"var\": \"\"})\n",
    "fig1.update_layout(showlegend=False,height = 800,yaxis={'categoryorder':'total ascending'},width = 1000,title = \"Dose 2 detectable\")\n",
    "fig1.layout.title.xanchor = 'left'\n",
    "fig1.layout.title.x = 0.5\n",
    "fig1.update_traces(marker_color='rgba(41, 128, 185, 1.0)')\n",
    "fig1.layout.yaxis.tickfont = dict(size =14, color='black', family='Arial, sans-serif')\n",
    "fig1.layout.paper_bgcolor = 'rgb(222,222,222)'\n",
    "fig1.update(layout_coloraxis_showscale=False)\n",
    "#fig1.update_yaxes(ticklabelposition=\"inside top\", title=None)\n",
    "fig1.write_image(\"fig_ml_A.svg\")\n",
    "fig1"
   ]
  },
  {
   "cell_type": "code",
   "execution_count": 34,
   "id": "32e6fdd9-e984-4029-aa6e-44559ca417f4",
   "metadata": {},
   "outputs": [
    {
     "data": {
      "application/vnd.plotly.v1+json": {
       "config": {
        "plotlyServerURL": "https://plot.ly"
       },
       "data": [
        {
         "alignmentgroup": "True",
         "hovertemplate": "feature importance (permutation)=%{x}<br>=%{y}<extra></extra>",
         "legendgroup": "",
         "marker": {
          "color": "rgba( 128,41, 185, 1.0)",
          "pattern": {
           "shape": ""
          }
         },
         "name": "",
         "offsetgroup": "",
         "orientation": "h",
         "showlegend": false,
         "textposition": "auto",
         "type": "bar",
         "x": [
          0.2648325358851675,
          0.22190430622009572,
          0.18824880382775125,
          0.17756459330143531,
          0.17190430622009564,
          0.1508133971291866,
          0.1437607655502392,
          0.13742583732057426,
          0.12758851674641153,
          0.11664114832535882,
          0.11376555023923456,
          0.10792344497607655,
          0.09060287081339716,
          0.07832535885167474
         ],
         "xaxis": "x",
         "y": [
          "CD40+ median  :in:  CD40+ Non-Switched Memory B Cells",
          "CD40+ median  :in:  CD40+ IgM+ IgD+ Memory B Cells",
          "CD38+ median  :in:  CD38+ CD16- CD56dim NK Cells",
          "CD40+ median  :in:  CD40+ IgM+ IgD+ Naive B Cells",
          "CD27+ CD16- CD56bright NK Cells :in: CD16- CD56bright NK Cells",
          "CD86+ CD16- CD56dim NK Cells :in: CD16- CD56dim NK Cells",
          "CD57+ CD27- CD4+ T Cells :in: CD27- CD4+ T Cells",
          "CD38+ NK Cells :in: NK Cells",
          "CD57+ CD27+ CD8+ T Cells :in: CD27+ CD8+ T Cells",
          "HLA-DR+ median  :in:  HLA-DR+ CD4+ T Cells",
          "Transitional B Cells :in: Naive B Cells",
          "CD94+ NKT Cells :in: NKT Cells",
          "BAFF-R+ IgMlow IgD+ Naive B Cells :in: IgMlow IgD+ Naive B Cells",
          "CD94+ CD16- CD56bright NK Cells :in: CD16- CD56bright NK Cells"
         ],
         "yaxis": "y"
        }
       ],
       "layout": {
        "barmode": "relative",
        "coloraxis": {
         "showscale": false
        },
        "height": 500,
        "legend": {
         "tracegroupgap": 0
        },
        "margin": {
         "t": 60
        },
        "paper_bgcolor": "rgb(222,222,222)",
        "showlegend": false,
        "template": {
         "data": {
          "bar": [
           {
            "error_x": {
             "color": "#2a3f5f"
            },
            "error_y": {
             "color": "#2a3f5f"
            },
            "marker": {
             "line": {
              "color": "#E5ECF6",
              "width": 0.5
             },
             "pattern": {
              "fillmode": "overlay",
              "size": 10,
              "solidity": 0.2
             }
            },
            "type": "bar"
           }
          ],
          "barpolar": [
           {
            "marker": {
             "line": {
              "color": "#E5ECF6",
              "width": 0.5
             },
             "pattern": {
              "fillmode": "overlay",
              "size": 10,
              "solidity": 0.2
             }
            },
            "type": "barpolar"
           }
          ],
          "carpet": [
           {
            "aaxis": {
             "endlinecolor": "#2a3f5f",
             "gridcolor": "white",
             "linecolor": "white",
             "minorgridcolor": "white",
             "startlinecolor": "#2a3f5f"
            },
            "baxis": {
             "endlinecolor": "#2a3f5f",
             "gridcolor": "white",
             "linecolor": "white",
             "minorgridcolor": "white",
             "startlinecolor": "#2a3f5f"
            },
            "type": "carpet"
           }
          ],
          "choropleth": [
           {
            "colorbar": {
             "outlinewidth": 0,
             "ticks": ""
            },
            "type": "choropleth"
           }
          ],
          "contour": [
           {
            "colorbar": {
             "outlinewidth": 0,
             "ticks": ""
            },
            "colorscale": [
             [
              0,
              "#0d0887"
             ],
             [
              0.1111111111111111,
              "#46039f"
             ],
             [
              0.2222222222222222,
              "#7201a8"
             ],
             [
              0.3333333333333333,
              "#9c179e"
             ],
             [
              0.4444444444444444,
              "#bd3786"
             ],
             [
              0.5555555555555556,
              "#d8576b"
             ],
             [
              0.6666666666666666,
              "#ed7953"
             ],
             [
              0.7777777777777778,
              "#fb9f3a"
             ],
             [
              0.8888888888888888,
              "#fdca26"
             ],
             [
              1,
              "#f0f921"
             ]
            ],
            "type": "contour"
           }
          ],
          "contourcarpet": [
           {
            "colorbar": {
             "outlinewidth": 0,
             "ticks": ""
            },
            "type": "contourcarpet"
           }
          ],
          "heatmap": [
           {
            "colorbar": {
             "outlinewidth": 0,
             "ticks": ""
            },
            "colorscale": [
             [
              0,
              "#0d0887"
             ],
             [
              0.1111111111111111,
              "#46039f"
             ],
             [
              0.2222222222222222,
              "#7201a8"
             ],
             [
              0.3333333333333333,
              "#9c179e"
             ],
             [
              0.4444444444444444,
              "#bd3786"
             ],
             [
              0.5555555555555556,
              "#d8576b"
             ],
             [
              0.6666666666666666,
              "#ed7953"
             ],
             [
              0.7777777777777778,
              "#fb9f3a"
             ],
             [
              0.8888888888888888,
              "#fdca26"
             ],
             [
              1,
              "#f0f921"
             ]
            ],
            "type": "heatmap"
           }
          ],
          "heatmapgl": [
           {
            "colorbar": {
             "outlinewidth": 0,
             "ticks": ""
            },
            "colorscale": [
             [
              0,
              "#0d0887"
             ],
             [
              0.1111111111111111,
              "#46039f"
             ],
             [
              0.2222222222222222,
              "#7201a8"
             ],
             [
              0.3333333333333333,
              "#9c179e"
             ],
             [
              0.4444444444444444,
              "#bd3786"
             ],
             [
              0.5555555555555556,
              "#d8576b"
             ],
             [
              0.6666666666666666,
              "#ed7953"
             ],
             [
              0.7777777777777778,
              "#fb9f3a"
             ],
             [
              0.8888888888888888,
              "#fdca26"
             ],
             [
              1,
              "#f0f921"
             ]
            ],
            "type": "heatmapgl"
           }
          ],
          "histogram": [
           {
            "marker": {
             "pattern": {
              "fillmode": "overlay",
              "size": 10,
              "solidity": 0.2
             }
            },
            "type": "histogram"
           }
          ],
          "histogram2d": [
           {
            "colorbar": {
             "outlinewidth": 0,
             "ticks": ""
            },
            "colorscale": [
             [
              0,
              "#0d0887"
             ],
             [
              0.1111111111111111,
              "#46039f"
             ],
             [
              0.2222222222222222,
              "#7201a8"
             ],
             [
              0.3333333333333333,
              "#9c179e"
             ],
             [
              0.4444444444444444,
              "#bd3786"
             ],
             [
              0.5555555555555556,
              "#d8576b"
             ],
             [
              0.6666666666666666,
              "#ed7953"
             ],
             [
              0.7777777777777778,
              "#fb9f3a"
             ],
             [
              0.8888888888888888,
              "#fdca26"
             ],
             [
              1,
              "#f0f921"
             ]
            ],
            "type": "histogram2d"
           }
          ],
          "histogram2dcontour": [
           {
            "colorbar": {
             "outlinewidth": 0,
             "ticks": ""
            },
            "colorscale": [
             [
              0,
              "#0d0887"
             ],
             [
              0.1111111111111111,
              "#46039f"
             ],
             [
              0.2222222222222222,
              "#7201a8"
             ],
             [
              0.3333333333333333,
              "#9c179e"
             ],
             [
              0.4444444444444444,
              "#bd3786"
             ],
             [
              0.5555555555555556,
              "#d8576b"
             ],
             [
              0.6666666666666666,
              "#ed7953"
             ],
             [
              0.7777777777777778,
              "#fb9f3a"
             ],
             [
              0.8888888888888888,
              "#fdca26"
             ],
             [
              1,
              "#f0f921"
             ]
            ],
            "type": "histogram2dcontour"
           }
          ],
          "mesh3d": [
           {
            "colorbar": {
             "outlinewidth": 0,
             "ticks": ""
            },
            "type": "mesh3d"
           }
          ],
          "parcoords": [
           {
            "line": {
             "colorbar": {
              "outlinewidth": 0,
              "ticks": ""
             }
            },
            "type": "parcoords"
           }
          ],
          "pie": [
           {
            "automargin": true,
            "type": "pie"
           }
          ],
          "scatter": [
           {
            "fillpattern": {
             "fillmode": "overlay",
             "size": 10,
             "solidity": 0.2
            },
            "type": "scatter"
           }
          ],
          "scatter3d": [
           {
            "line": {
             "colorbar": {
              "outlinewidth": 0,
              "ticks": ""
             }
            },
            "marker": {
             "colorbar": {
              "outlinewidth": 0,
              "ticks": ""
             }
            },
            "type": "scatter3d"
           }
          ],
          "scattercarpet": [
           {
            "marker": {
             "colorbar": {
              "outlinewidth": 0,
              "ticks": ""
             }
            },
            "type": "scattercarpet"
           }
          ],
          "scattergeo": [
           {
            "marker": {
             "colorbar": {
              "outlinewidth": 0,
              "ticks": ""
             }
            },
            "type": "scattergeo"
           }
          ],
          "scattergl": [
           {
            "marker": {
             "colorbar": {
              "outlinewidth": 0,
              "ticks": ""
             }
            },
            "type": "scattergl"
           }
          ],
          "scattermapbox": [
           {
            "marker": {
             "colorbar": {
              "outlinewidth": 0,
              "ticks": ""
             }
            },
            "type": "scattermapbox"
           }
          ],
          "scatterpolar": [
           {
            "marker": {
             "colorbar": {
              "outlinewidth": 0,
              "ticks": ""
             }
            },
            "type": "scatterpolar"
           }
          ],
          "scatterpolargl": [
           {
            "marker": {
             "colorbar": {
              "outlinewidth": 0,
              "ticks": ""
             }
            },
            "type": "scatterpolargl"
           }
          ],
          "scatterternary": [
           {
            "marker": {
             "colorbar": {
              "outlinewidth": 0,
              "ticks": ""
             }
            },
            "type": "scatterternary"
           }
          ],
          "surface": [
           {
            "colorbar": {
             "outlinewidth": 0,
             "ticks": ""
            },
            "colorscale": [
             [
              0,
              "#0d0887"
             ],
             [
              0.1111111111111111,
              "#46039f"
             ],
             [
              0.2222222222222222,
              "#7201a8"
             ],
             [
              0.3333333333333333,
              "#9c179e"
             ],
             [
              0.4444444444444444,
              "#bd3786"
             ],
             [
              0.5555555555555556,
              "#d8576b"
             ],
             [
              0.6666666666666666,
              "#ed7953"
             ],
             [
              0.7777777777777778,
              "#fb9f3a"
             ],
             [
              0.8888888888888888,
              "#fdca26"
             ],
             [
              1,
              "#f0f921"
             ]
            ],
            "type": "surface"
           }
          ],
          "table": [
           {
            "cells": {
             "fill": {
              "color": "#EBF0F8"
             },
             "line": {
              "color": "white"
             }
            },
            "header": {
             "fill": {
              "color": "#C8D4E3"
             },
             "line": {
              "color": "white"
             }
            },
            "type": "table"
           }
          ]
         },
         "layout": {
          "annotationdefaults": {
           "arrowcolor": "#2a3f5f",
           "arrowhead": 0,
           "arrowwidth": 1
          },
          "autotypenumbers": "strict",
          "coloraxis": {
           "colorbar": {
            "outlinewidth": 0,
            "ticks": ""
           }
          },
          "colorscale": {
           "diverging": [
            [
             0,
             "#8e0152"
            ],
            [
             0.1,
             "#c51b7d"
            ],
            [
             0.2,
             "#de77ae"
            ],
            [
             0.3,
             "#f1b6da"
            ],
            [
             0.4,
             "#fde0ef"
            ],
            [
             0.5,
             "#f7f7f7"
            ],
            [
             0.6,
             "#e6f5d0"
            ],
            [
             0.7,
             "#b8e186"
            ],
            [
             0.8,
             "#7fbc41"
            ],
            [
             0.9,
             "#4d9221"
            ],
            [
             1,
             "#276419"
            ]
           ],
           "sequential": [
            [
             0,
             "#0d0887"
            ],
            [
             0.1111111111111111,
             "#46039f"
            ],
            [
             0.2222222222222222,
             "#7201a8"
            ],
            [
             0.3333333333333333,
             "#9c179e"
            ],
            [
             0.4444444444444444,
             "#bd3786"
            ],
            [
             0.5555555555555556,
             "#d8576b"
            ],
            [
             0.6666666666666666,
             "#ed7953"
            ],
            [
             0.7777777777777778,
             "#fb9f3a"
            ],
            [
             0.8888888888888888,
             "#fdca26"
            ],
            [
             1,
             "#f0f921"
            ]
           ],
           "sequentialminus": [
            [
             0,
             "#0d0887"
            ],
            [
             0.1111111111111111,
             "#46039f"
            ],
            [
             0.2222222222222222,
             "#7201a8"
            ],
            [
             0.3333333333333333,
             "#9c179e"
            ],
            [
             0.4444444444444444,
             "#bd3786"
            ],
            [
             0.5555555555555556,
             "#d8576b"
            ],
            [
             0.6666666666666666,
             "#ed7953"
            ],
            [
             0.7777777777777778,
             "#fb9f3a"
            ],
            [
             0.8888888888888888,
             "#fdca26"
            ],
            [
             1,
             "#f0f921"
            ]
           ]
          },
          "colorway": [
           "#636efa",
           "#EF553B",
           "#00cc96",
           "#ab63fa",
           "#FFA15A",
           "#19d3f3",
           "#FF6692",
           "#B6E880",
           "#FF97FF",
           "#FECB52"
          ],
          "font": {
           "color": "#2a3f5f"
          },
          "geo": {
           "bgcolor": "white",
           "lakecolor": "white",
           "landcolor": "#E5ECF6",
           "showlakes": true,
           "showland": true,
           "subunitcolor": "white"
          },
          "hoverlabel": {
           "align": "left"
          },
          "hovermode": "closest",
          "mapbox": {
           "style": "light"
          },
          "paper_bgcolor": "white",
          "plot_bgcolor": "#E5ECF6",
          "polar": {
           "angularaxis": {
            "gridcolor": "white",
            "linecolor": "white",
            "ticks": ""
           },
           "bgcolor": "#E5ECF6",
           "radialaxis": {
            "gridcolor": "white",
            "linecolor": "white",
            "ticks": ""
           }
          },
          "scene": {
           "xaxis": {
            "backgroundcolor": "#E5ECF6",
            "gridcolor": "white",
            "gridwidth": 2,
            "linecolor": "white",
            "showbackground": true,
            "ticks": "",
            "zerolinecolor": "white"
           },
           "yaxis": {
            "backgroundcolor": "#E5ECF6",
            "gridcolor": "white",
            "gridwidth": 2,
            "linecolor": "white",
            "showbackground": true,
            "ticks": "",
            "zerolinecolor": "white"
           },
           "zaxis": {
            "backgroundcolor": "#E5ECF6",
            "gridcolor": "white",
            "gridwidth": 2,
            "linecolor": "white",
            "showbackground": true,
            "ticks": "",
            "zerolinecolor": "white"
           }
          },
          "shapedefaults": {
           "line": {
            "color": "#2a3f5f"
           }
          },
          "ternary": {
           "aaxis": {
            "gridcolor": "white",
            "linecolor": "white",
            "ticks": ""
           },
           "baxis": {
            "gridcolor": "white",
            "linecolor": "white",
            "ticks": ""
           },
           "bgcolor": "#E5ECF6",
           "caxis": {
            "gridcolor": "white",
            "linecolor": "white",
            "ticks": ""
           }
          },
          "title": {
           "x": 0.05
          },
          "xaxis": {
           "automargin": true,
           "gridcolor": "white",
           "linecolor": "white",
           "ticks": "",
           "title": {
            "standoff": 15
           },
           "zerolinecolor": "white",
           "zerolinewidth": 2
          },
          "yaxis": {
           "automargin": true,
           "gridcolor": "white",
           "linecolor": "white",
           "ticks": "",
           "title": {
            "standoff": 15
           },
           "zerolinecolor": "white",
           "zerolinewidth": 2
          }
         }
        },
        "title": {
         "text": "Dose 3 positive",
         "x": 0.5,
         "xanchor": "left"
        },
        "width": 1000,
        "xaxis": {
         "anchor": "y",
         "autorange": true,
         "domain": [
          0,
          1
         ],
         "range": [
          0,
          0.27877109040543946
         ],
         "title": {
          "text": "feature importance (permutation)"
         },
         "type": "linear"
        },
        "yaxis": {
         "anchor": "x",
         "autorange": true,
         "categoryorder": "total ascending",
         "domain": [
          0,
          1
         ],
         "range": [
          -0.5,
          13.5
         ],
         "tickfont": {
          "color": "black",
          "family": "Arial, sans-serif",
          "size": 14
         },
         "title": {
          "text": ""
         },
         "type": "category"
        }
       }
      },
      "image/png": "[encoded data removed]",
      "text/html": [
       "<div>                            <div id=\"b5e4ab8c-661d-4cf6-b9aa-28b514c6a45d\" class=\"plotly-graph-div\" style=\"height:500px; width:1000px;\"></div>            <script type=\"text/javascript\">                require([\"plotly\"], function(Plotly) {                    window.PLOTLYENV=window.PLOTLYENV || {};                                    if (document.getElementById(\"b5e4ab8c-661d-4cf6-b9aa-28b514c6a45d\")) {                    Plotly.newPlot(                        \"b5e4ab8c-661d-4cf6-b9aa-28b514c6a45d\",                        [{\"alignmentgroup\":\"True\",\"hovertemplate\":\"feature importance (permutation)=%{x}<br>=%{y}<extra></extra>\",\"legendgroup\":\"\",\"marker\":{\"color\":\"rgba( 128,41, 185, 1.0)\",\"pattern\":{\"shape\":\"\"}},\"name\":\"\",\"offsetgroup\":\"\",\"orientation\":\"h\",\"showlegend\":false,\"textposition\":\"auto\",\"x\":[0.2648325358851675,0.22190430622009572,0.18824880382775125,0.17756459330143531,0.17190430622009564,0.1508133971291866,0.1437607655502392,0.13742583732057426,0.12758851674641153,0.11664114832535882,0.11376555023923456,0.10792344497607655,0.09060287081339716,0.07832535885167474],\"xaxis\":\"x\",\"y\":[\"CD40+ median  :in:  CD40+ Non-Switched Memory B Cells\",\"CD40+ median  :in:  CD40+ IgM+ IgD+ Memory B Cells\",\"CD38+ median  :in:  CD38+ CD16- CD56dim NK Cells\",\"CD40+ median  :in:  CD40+ IgM+ IgD+ Naive B Cells\",\"CD27+ CD16- CD56bright NK Cells :in: CD16- CD56bright NK Cells\",\"CD86+ CD16- CD56dim NK Cells :in: CD16- CD56dim NK Cells\",\"CD57+ CD27- CD4+ T Cells :in: CD27- CD4+ T Cells\",\"CD38+ NK Cells :in: NK Cells\",\"CD57+ CD27+ CD8+ T Cells :in: CD27+ CD8+ T Cells\",\"HLA-DR+ median  :in:  HLA-DR+ CD4+ T Cells\",\"Transitional B Cells :in: Naive B Cells\",\"CD94+ NKT Cells :in: NKT Cells\",\"BAFF-R+ IgMlow IgD+ Naive B Cells :in: IgMlow IgD+ Naive B Cells\",\"CD94+ CD16- CD56bright NK Cells :in: CD16- CD56bright NK Cells\"],\"yaxis\":\"y\",\"type\":\"bar\"}],                        {\"template\":{\"data\":{\"histogram2dcontour\":[{\"type\":\"histogram2dcontour\",\"colorbar\":{\"outlinewidth\":0,\"ticks\":\"\"},\"colorscale\":[[0.0,\"#0d0887\"],[0.1111111111111111,\"#46039f\"],[0.2222222222222222,\"#7201a8\"],[0.3333333333333333,\"#9c179e\"],[0.4444444444444444,\"#bd3786\"],[0.5555555555555556,\"#d8576b\"],[0.6666666666666666,\"#ed7953\"],[0.7777777777777778,\"#fb9f3a\"],[0.8888888888888888,\"#fdca26\"],[1.0,\"#f0f921\"]]}],\"choropleth\":[{\"type\":\"choropleth\",\"colorbar\":{\"outlinewidth\":0,\"ticks\":\"\"}}],\"histogram2d\":[{\"type\":\"histogram2d\",\"colorbar\":{\"outlinewidth\":0,\"ticks\":\"\"},\"colorscale\":[[0.0,\"#0d0887\"],[0.1111111111111111,\"#46039f\"],[0.2222222222222222,\"#7201a8\"],[0.3333333333333333,\"#9c179e\"],[0.4444444444444444,\"#bd3786\"],[0.5555555555555556,\"#d8576b\"],[0.6666666666666666,\"#ed7953\"],[0.7777777777777778,\"#fb9f3a\"],[0.8888888888888888,\"#fdca26\"],[1.0,\"#f0f921\"]]}],\"heatmap\":[{\"type\":\"heatmap\",\"colorbar\":{\"outlinewidth\":0,\"ticks\":\"\"},\"colorscale\":[[0.0,\"#0d0887\"],[0.1111111111111111,\"#46039f\"],[0.2222222222222222,\"#7201a8\"],[0.3333333333333333,\"#9c179e\"],[0.4444444444444444,\"#bd3786\"],[0.5555555555555556,\"#d8576b\"],[0.6666666666666666,\"#ed7953\"],[0.7777777777777778,\"#fb9f3a\"],[0.8888888888888888,\"#fdca26\"],[1.0,\"#f0f921\"]]}],\"heatmapgl\":[{\"type\":\"heatmapgl\",\"colorbar\":{\"outlinewidth\":0,\"ticks\":\"\"},\"colorscale\":[[0.0,\"#0d0887\"],[0.1111111111111111,\"#46039f\"],[0.2222222222222222,\"#7201a8\"],[0.3333333333333333,\"#9c179e\"],[0.4444444444444444,\"#bd3786\"],[0.5555555555555556,\"#d8576b\"],[0.6666666666666666,\"#ed7953\"],[0.7777777777777778,\"#fb9f3a\"],[0.8888888888888888,\"#fdca26\"],[1.0,\"#f0f921\"]]}],\"contourcarpet\":[{\"type\":\"contourcarpet\",\"colorbar\":{\"outlinewidth\":0,\"ticks\":\"\"}}],\"contour\":[{\"type\":\"contour\",\"colorbar\":{\"outlinewidth\":0,\"ticks\":\"\"},\"colorscale\":[[0.0,\"#0d0887\"],[0.1111111111111111,\"#46039f\"],[0.2222222222222222,\"#7201a8\"],[0.3333333333333333,\"#9c179e\"],[0.4444444444444444,\"#bd3786\"],[0.5555555555555556,\"#d8576b\"],[0.6666666666666666,\"#ed7953\"],[0.7777777777777778,\"#fb9f3a\"],[0.8888888888888888,\"#fdca26\"],[1.0,\"#f0f921\"]]}],\"surface\":[{\"type\":\"surface\",\"colorbar\":{\"outlinewidth\":0,\"ticks\":\"\"},\"colorscale\":[[0.0,\"#0d0887\"],[0.1111111111111111,\"#46039f\"],[0.2222222222222222,\"#7201a8\"],[0.3333333333333333,\"#9c179e\"],[0.4444444444444444,\"#bd3786\"],[0.5555555555555556,\"#d8576b\"],[0.6666666666666666,\"#ed7953\"],[0.7777777777777778,\"#fb9f3a\"],[0.8888888888888888,\"#fdca26\"],[1.0,\"#f0f921\"]]}],\"mesh3d\":[{\"type\":\"mesh3d\",\"colorbar\":{\"outlinewidth\":0,\"ticks\":\"\"}}],\"scatter\":[{\"fillpattern\":{\"fillmode\":\"overlay\",\"size\":10,\"solidity\":0.2},\"type\":\"scatter\"}],\"parcoords\":[{\"type\":\"parcoords\",\"line\":{\"colorbar\":{\"outlinewidth\":0,\"ticks\":\"\"}}}],\"scatterpolargl\":[{\"type\":\"scatterpolargl\",\"marker\":{\"colorbar\":{\"outlinewidth\":0,\"ticks\":\"\"}}}],\"bar\":[{\"error_x\":{\"color\":\"#2a3f5f\"},\"error_y\":{\"color\":\"#2a3f5f\"},\"marker\":{\"line\":{\"color\":\"#E5ECF6\",\"width\":0.5},\"pattern\":{\"fillmode\":\"overlay\",\"size\":10,\"solidity\":0.2}},\"type\":\"bar\"}],\"scattergeo\":[{\"type\":\"scattergeo\",\"marker\":{\"colorbar\":{\"outlinewidth\":0,\"ticks\":\"\"}}}],\"scatterpolar\":[{\"type\":\"scatterpolar\",\"marker\":{\"colorbar\":{\"outlinewidth\":0,\"ticks\":\"\"}}}],\"histogram\":[{\"marker\":{\"pattern\":{\"fillmode\":\"overlay\",\"size\":10,\"solidity\":0.2}},\"type\":\"histogram\"}],\"scattergl\":[{\"type\":\"scattergl\",\"marker\":{\"colorbar\":{\"outlinewidth\":0,\"ticks\":\"\"}}}],\"scatter3d\":[{\"type\":\"scatter3d\",\"line\":{\"colorbar\":{\"outlinewidth\":0,\"ticks\":\"\"}},\"marker\":{\"colorbar\":{\"outlinewidth\":0,\"ticks\":\"\"}}}],\"scattermapbox\":[{\"type\":\"scattermapbox\",\"marker\":{\"colorbar\":{\"outlinewidth\":0,\"ticks\":\"\"}}}],\"scatterternary\":[{\"type\":\"scatterternary\",\"marker\":{\"colorbar\":{\"outlinewidth\":0,\"ticks\":\"\"}}}],\"scattercarpet\":[{\"type\":\"scattercarpet\",\"marker\":{\"colorbar\":{\"outlinewidth\":0,\"ticks\":\"\"}}}],\"carpet\":[{\"aaxis\":{\"endlinecolor\":\"#2a3f5f\",\"gridcolor\":\"white\",\"linecolor\":\"white\",\"minorgridcolor\":\"white\",\"startlinecolor\":\"#2a3f5f\"},\"baxis\":{\"endlinecolor\":\"#2a3f5f\",\"gridcolor\":\"white\",\"linecolor\":\"white\",\"minorgridcolor\":\"white\",\"startlinecolor\":\"#2a3f5f\"},\"type\":\"carpet\"}],\"table\":[{\"cells\":{\"fill\":{\"color\":\"#EBF0F8\"},\"line\":{\"color\":\"white\"}},\"header\":{\"fill\":{\"color\":\"#C8D4E3\"},\"line\":{\"color\":\"white\"}},\"type\":\"table\"}],\"barpolar\":[{\"marker\":{\"line\":{\"color\":\"#E5ECF6\",\"width\":0.5},\"pattern\":{\"fillmode\":\"overlay\",\"size\":10,\"solidity\":0.2}},\"type\":\"barpolar\"}],\"pie\":[{\"automargin\":true,\"type\":\"pie\"}]},\"layout\":{\"autotypenumbers\":\"strict\",\"colorway\":[\"#636efa\",\"#EF553B\",\"#00cc96\",\"#ab63fa\",\"#FFA15A\",\"#19d3f3\",\"#FF6692\",\"#B6E880\",\"#FF97FF\",\"#FECB52\"],\"font\":{\"color\":\"#2a3f5f\"},\"hovermode\":\"closest\",\"hoverlabel\":{\"align\":\"left\"},\"paper_bgcolor\":\"white\",\"plot_bgcolor\":\"#E5ECF6\",\"polar\":{\"bgcolor\":\"#E5ECF6\",\"angularaxis\":{\"gridcolor\":\"white\",\"linecolor\":\"white\",\"ticks\":\"\"},\"radialaxis\":{\"gridcolor\":\"white\",\"linecolor\":\"white\",\"ticks\":\"\"}},\"ternary\":{\"bgcolor\":\"#E5ECF6\",\"aaxis\":{\"gridcolor\":\"white\",\"linecolor\":\"white\",\"ticks\":\"\"},\"baxis\":{\"gridcolor\":\"white\",\"linecolor\":\"white\",\"ticks\":\"\"},\"caxis\":{\"gridcolor\":\"white\",\"linecolor\":\"white\",\"ticks\":\"\"}},\"coloraxis\":{\"colorbar\":{\"outlinewidth\":0,\"ticks\":\"\"}},\"colorscale\":{\"sequential\":[[0.0,\"#0d0887\"],[0.1111111111111111,\"#46039f\"],[0.2222222222222222,\"#7201a8\"],[0.3333333333333333,\"#9c179e\"],[0.4444444444444444,\"#bd3786\"],[0.5555555555555556,\"#d8576b\"],[0.6666666666666666,\"#ed7953\"],[0.7777777777777778,\"#fb9f3a\"],[0.8888888888888888,\"#fdca26\"],[1.0,\"#f0f921\"]],\"sequentialminus\":[[0.0,\"#0d0887\"],[0.1111111111111111,\"#46039f\"],[0.2222222222222222,\"#7201a8\"],[0.3333333333333333,\"#9c179e\"],[0.4444444444444444,\"#bd3786\"],[0.5555555555555556,\"#d8576b\"],[0.6666666666666666,\"#ed7953\"],[0.7777777777777778,\"#fb9f3a\"],[0.8888888888888888,\"#fdca26\"],[1.0,\"#f0f921\"]],\"diverging\":[[0,\"#8e0152\"],[0.1,\"#c51b7d\"],[0.2,\"#de77ae\"],[0.3,\"#f1b6da\"],[0.4,\"#fde0ef\"],[0.5,\"#f7f7f7\"],[0.6,\"#e6f5d0\"],[0.7,\"#b8e186\"],[0.8,\"#7fbc41\"],[0.9,\"#4d9221\"],[1,\"#276419\"]]},\"xaxis\":{\"gridcolor\":\"white\",\"linecolor\":\"white\",\"ticks\":\"\",\"title\":{\"standoff\":15},\"zerolinecolor\":\"white\",\"automargin\":true,\"zerolinewidth\":2},\"yaxis\":{\"gridcolor\":\"white\",\"linecolor\":\"white\",\"ticks\":\"\",\"title\":{\"standoff\":15},\"zerolinecolor\":\"white\",\"automargin\":true,\"zerolinewidth\":2},\"scene\":{\"xaxis\":{\"backgroundcolor\":\"#E5ECF6\",\"gridcolor\":\"white\",\"linecolor\":\"white\",\"showbackground\":true,\"ticks\":\"\",\"zerolinecolor\":\"white\",\"gridwidth\":2},\"yaxis\":{\"backgroundcolor\":\"#E5ECF6\",\"gridcolor\":\"white\",\"linecolor\":\"white\",\"showbackground\":true,\"ticks\":\"\",\"zerolinecolor\":\"white\",\"gridwidth\":2},\"zaxis\":{\"backgroundcolor\":\"#E5ECF6\",\"gridcolor\":\"white\",\"linecolor\":\"white\",\"showbackground\":true,\"ticks\":\"\",\"zerolinecolor\":\"white\",\"gridwidth\":2}},\"shapedefaults\":{\"line\":{\"color\":\"#2a3f5f\"}},\"annotationdefaults\":{\"arrowcolor\":\"#2a3f5f\",\"arrowhead\":0,\"arrowwidth\":1},\"geo\":{\"bgcolor\":\"white\",\"landcolor\":\"#E5ECF6\",\"subunitcolor\":\"white\",\"showland\":true,\"showlakes\":true,\"lakecolor\":\"white\"},\"title\":{\"x\":0.05},\"mapbox\":{\"style\":\"light\"}}},\"xaxis\":{\"anchor\":\"y\",\"domain\":[0.0,1.0],\"title\":{\"text\":\"feature importance (permutation)\"}},\"yaxis\":{\"anchor\":\"x\",\"domain\":[0.0,1.0],\"title\":{\"text\":\"\"},\"categoryorder\":\"total ascending\",\"tickfont\":{\"color\":\"black\",\"family\":\"Arial, sans-serif\",\"size\":14}},\"legend\":{\"tracegroupgap\":0},\"margin\":{\"t\":60},\"barmode\":\"relative\",\"showlegend\":false,\"height\":500,\"width\":1000,\"title\":{\"text\":\"Dose 3 positive\",\"xanchor\":\"left\",\"x\":0.5},\"paper_bgcolor\":\"rgb(222,222,222)\",\"coloraxis\":{\"showscale\":false}},                        {\"responsive\": true}                    ).then(function(){\n",
       "                            \n",
       "var gd = document.getElementById('b5e4ab8c-661d-4cf6-b9aa-28b514c6a45d');\n",
       "var x = new MutationObserver(function (mutations, observer) {{\n",
       "        var display = window.getComputedStyle(gd).display;\n",
       "        if (!display || display === 'none') {{\n",
       "            console.log([gd, 'removed!']);\n",
       "            Plotly.purge(gd);\n",
       "            observer.disconnect();\n",
       "        }}\n",
       "}});\n",
       "\n",
       "// Listen for the removal of the full notebook cells\n",
       "var notebookContainer = gd.closest('#notebook-container');\n",
       "if (notebookContainer) {{\n",
       "    x.observe(notebookContainer, {childList: true});\n",
       "}}\n",
       "\n",
       "// Listen for the clearing of the current output cell\n",
       "var outputEl = gd.closest('.output');\n",
       "if (outputEl) {{\n",
       "    x.observe(outputEl, {childList: true});\n",
       "}}\n",
       "\n",
       "                        })                };                });            </script>        </div>"
      ]
     },
     "metadata": {},
     "output_type": "display_data"
    }
   ],
   "source": [
    "df = data[\"SVM_RFE_d3_p\"][\"df\"]\n",
    "df = df.loc[df[\"var\"]!=\"age\",:]\n",
    "df = df.loc[df[\"var\"]!=\"tx_time\",:]\n",
    "df = df.loc[df[\"var\"]!=\"type\",:]\n",
    "df = df.sort_values(by=\"impor_mean\",ascending=False)\n",
    "fig1 = px.bar(df.iloc[:40,:], x=\"impor_mean\", y=\"var\",orientation='h',labels={\"impor_mean\": \"feature importance (permutation)\",\"var\": \"\"})\n",
    "fig1.update_layout(showlegend=False,height = 500,yaxis={'categoryorder':'total ascending'},width = 1000,title = \"Dose 3 positive\")\n",
    "fig1.layout.title.xanchor = 'left'\n",
    "fig1.layout.title.x = 0.5\n",
    "fig1.update_traces(marker_color='rgba( 128,41, 185, 1.0)')\n",
    "fig1.layout.yaxis.tickfont = dict(size =14, color='black', family='Arial, sans-serif')\n",
    "fig1.layout.paper_bgcolor = 'rgb(222,222,222)'\n",
    "fig1.update(layout_coloraxis_showscale=False)\n",
    "#fig1.update_yaxes(ticklabelposition=\"inside top\", title=None)\n",
    "fig1.write_image(\"fig_ml_B.svg\")\n",
    "fig1"
   ]
  },
  {
   "cell_type": "markdown",
   "id": "5db63a04-da91-47d0-b57d-994672056475",
   "metadata": {},
   "source": [
    "### ROC ML"
   ]
  },
  {
   "cell_type": "code",
   "execution_count": 27,
   "id": "a142d8c1-cea0-4a55-8e05-581dfe7955c3",
   "metadata": {},
   "outputs": [],
   "source": [
    "fold = os.getcwd()\n",
    "file = open(fold + \"/data_aux/feature_eval.pkl\",\"rb\")\n",
    "data = pk.load(file)\n",
    "file.close()"
   ]
  },
  {
   "cell_type": "code",
   "execution_count": 28,
   "id": "c2ac59bc-c6dc-4c8a-b665-af97633227ba",
   "metadata": {},
   "outputs": [
    {
     "data": {
      "application/vnd.plotly.v1+json": {
       "config": {
        "plotlyServerURL": "https://plot.ly"
       },
       "data": [
        {
         "hoverinfo": "skip",
         "line": {
          "color": "rgba(52, 152, 219, 0.5)",
          "width": 1
         },
         "name": "SD",
         "showlegend": true,
         "type": "scatter",
         "x": [
          0,
          0.010101010101010102,
          0.020202020202020204,
          0.030303030303030304,
          0.04040404040404041,
          0.05050505050505051,
          0.06060606060606061,
          0.07070707070707072,
          0.08080808080808081,
          0.09090909090909091,
          0.10101010101010102,
          0.11111111111111112,
          0.12121212121212122,
          0.13131313131313133,
          0.14141414141414144,
          0.15151515151515152,
          0.16161616161616163,
          0.17171717171717174,
          0.18181818181818182,
          0.19191919191919193,
          0.20202020202020204,
          0.21212121212121213,
          0.22222222222222224,
          0.23232323232323235,
          0.24242424242424243,
          0.25252525252525254,
          0.26262626262626265,
          0.27272727272727276,
          0.2828282828282829,
          0.29292929292929293,
          0.30303030303030304,
          0.31313131313131315,
          0.32323232323232326,
          0.33333333333333337,
          0.3434343434343435,
          0.3535353535353536,
          0.36363636363636365,
          0.37373737373737376,
          0.38383838383838387,
          0.393939393939394,
          0.4040404040404041,
          0.4141414141414142,
          0.42424242424242425,
          0.43434343434343436,
          0.4444444444444445,
          0.4545454545454546,
          0.4646464646464647,
          0.4747474747474748,
          0.48484848484848486,
          0.494949494949495,
          0.5050505050505051,
          0.5151515151515152,
          0.5252525252525253,
          0.5353535353535354,
          0.5454545454545455,
          0.5555555555555556,
          0.5656565656565657,
          0.5757575757575758,
          0.5858585858585859,
          0.595959595959596,
          0.6060606060606061,
          0.6161616161616162,
          0.6262626262626263,
          0.6363636363636365,
          0.6464646464646465,
          0.6565656565656566,
          0.6666666666666667,
          0.6767676767676768,
          0.686868686868687,
          0.696969696969697,
          0.7070707070707072,
          0.7171717171717172,
          0.7272727272727273,
          0.7373737373737375,
          0.7474747474747475,
          0.7575757575757577,
          0.7676767676767677,
          0.7777777777777778,
          0.787878787878788,
          0.797979797979798,
          0.8080808080808082,
          0.8181818181818182,
          0.8282828282828284,
          0.8383838383838385,
          0.8484848484848485,
          0.8585858585858587,
          0.8686868686868687,
          0.8787878787878789,
          0.888888888888889,
          0.8989898989898991,
          0.9090909090909092,
          0.9191919191919192,
          0.9292929292929294,
          0.9393939393939394,
          0.9494949494949496,
          0.9595959595959597,
          0.9696969696969697,
          0.9797979797979799,
          0.98989898989899,
          1
         ],
         "y": [
          0,
          1,
          1,
          1,
          1,
          1,
          1,
          1,
          1,
          1,
          1,
          1,
          1,
          1,
          1,
          1,
          1,
          1,
          1,
          1,
          1,
          1,
          1,
          1,
          1,
          1,
          1,
          1,
          1,
          1,
          1,
          1,
          1,
          1,
          1,
          1,
          1,
          1,
          1,
          1,
          1,
          1,
          1,
          1,
          1,
          1,
          1,
          1,
          1,
          1,
          1,
          1,
          1,
          1,
          1,
          1,
          1,
          1,
          1,
          1,
          1,
          1,
          1,
          1,
          1,
          1,
          1,
          1,
          1,
          1,
          1,
          1,
          1,
          1,
          1,
          1,
          1,
          1,
          1,
          1,
          1,
          1,
          1,
          1,
          1,
          1,
          1,
          1,
          1,
          1,
          1,
          1,
          1,
          1,
          1,
          1,
          1,
          1,
          1,
          1
         ]
        },
        {
         "fill": "tonexty",
         "fillcolor": "rgba(52, 152, 219, 0.2)",
         "hoverinfo": "skip",
         "line": {
          "color": "rgba(52, 152, 219, 0.5)",
          "width": 1
         },
         "name": "lower",
         "showlegend": false,
         "type": "scatter",
         "x": [
          0,
          0.010101010101010102,
          0.020202020202020204,
          0.030303030303030304,
          0.04040404040404041,
          0.05050505050505051,
          0.06060606060606061,
          0.07070707070707072,
          0.08080808080808081,
          0.09090909090909091,
          0.10101010101010102,
          0.11111111111111112,
          0.12121212121212122,
          0.13131313131313133,
          0.14141414141414144,
          0.15151515151515152,
          0.16161616161616163,
          0.17171717171717174,
          0.18181818181818182,
          0.19191919191919193,
          0.20202020202020204,
          0.21212121212121213,
          0.22222222222222224,
          0.23232323232323235,
          0.24242424242424243,
          0.25252525252525254,
          0.26262626262626265,
          0.27272727272727276,
          0.2828282828282829,
          0.29292929292929293,
          0.30303030303030304,
          0.31313131313131315,
          0.32323232323232326,
          0.33333333333333337,
          0.3434343434343435,
          0.3535353535353536,
          0.36363636363636365,
          0.37373737373737376,
          0.38383838383838387,
          0.393939393939394,
          0.4040404040404041,
          0.4141414141414142,
          0.42424242424242425,
          0.43434343434343436,
          0.4444444444444445,
          0.4545454545454546,
          0.4646464646464647,
          0.4747474747474748,
          0.48484848484848486,
          0.494949494949495,
          0.5050505050505051,
          0.5151515151515152,
          0.5252525252525253,
          0.5353535353535354,
          0.5454545454545455,
          0.5555555555555556,
          0.5656565656565657,
          0.5757575757575758,
          0.5858585858585859,
          0.595959595959596,
          0.6060606060606061,
          0.6161616161616162,
          0.6262626262626263,
          0.6363636363636365,
          0.6464646464646465,
          0.6565656565656566,
          0.6666666666666667,
          0.6767676767676768,
          0.686868686868687,
          0.696969696969697,
          0.7070707070707072,
          0.7171717171717172,
          0.7272727272727273,
          0.7373737373737375,
          0.7474747474747475,
          0.7575757575757577,
          0.7676767676767677,
          0.7777777777777778,
          0.787878787878788,
          0.797979797979798,
          0.8080808080808082,
          0.8181818181818182,
          0.8282828282828284,
          0.8383838383838385,
          0.8484848484848485,
          0.8585858585858587,
          0.8686868686868687,
          0.8787878787878789,
          0.888888888888889,
          0.8989898989898991,
          0.9090909090909092,
          0.9191919191919192,
          0.9292929292929294,
          0.9393939393939394,
          0.9494949494949496,
          0.9595959595959597,
          0.9696969696969697,
          0.9797979797979799,
          0.98989898989899,
          1
         ],
         "y": [
          0,
          0.587975622444535,
          0.587975622444535,
          0.587975622444535,
          0.587975622444535,
          0.587975622444535,
          0.587975622444535,
          0.587975622444535,
          0.587975622444535,
          0.587975622444535,
          0.587975622444535,
          0.587975622444535,
          0.587975622444535,
          0.587975622444535,
          0.587975622444535,
          0.587975622444535,
          0.587975622444535,
          0.587975622444535,
          0.587975622444535,
          0.587975622444535,
          0.7026839553457821,
          0.7026839553457821,
          0.7026839553457821,
          0.7026839553457821,
          0.7026839553457821,
          0.7333333333333332,
          0.7333333333333332,
          0.7333333333333332,
          0.7333333333333332,
          0.7333333333333332,
          0.7333333333333332,
          0.7333333333333332,
          0.7333333333333332,
          0.7333333333333332,
          0.7333333333333332,
          0.7333333333333332,
          0.7333333333333332,
          0.7333333333333332,
          0.7333333333333332,
          0.7333333333333332,
          1,
          1,
          1,
          1,
          1,
          1,
          1,
          1,
          1,
          1,
          1,
          1,
          1,
          1,
          1,
          1,
          1,
          1,
          1,
          1,
          1,
          1,
          1,
          1,
          1,
          1,
          1,
          1,
          1,
          1,
          1,
          1,
          1,
          1,
          1,
          1,
          1,
          1,
          1,
          1,
          1,
          1,
          1,
          1,
          1,
          1,
          1,
          1,
          1,
          1,
          1,
          1,
          1,
          1,
          1,
          1,
          1,
          1,
          1,
          1
         ]
        },
        {
         "hoverinfo": "skip",
         "line": {
          "color": "rgba(41, 128, 185, 1.0)",
          "width": 2
         },
         "name": "AUC: 0.950",
         "showlegend": true,
         "type": "scatter",
         "x": [
          0,
          0.010101010101010102,
          0.020202020202020204,
          0.030303030303030304,
          0.04040404040404041,
          0.05050505050505051,
          0.06060606060606061,
          0.07070707070707072,
          0.08080808080808081,
          0.09090909090909091,
          0.10101010101010102,
          0.11111111111111112,
          0.12121212121212122,
          0.13131313131313133,
          0.14141414141414144,
          0.15151515151515152,
          0.16161616161616163,
          0.17171717171717174,
          0.18181818181818182,
          0.19191919191919193,
          0.20202020202020204,
          0.21212121212121213,
          0.22222222222222224,
          0.23232323232323235,
          0.24242424242424243,
          0.25252525252525254,
          0.26262626262626265,
          0.27272727272727276,
          0.2828282828282829,
          0.29292929292929293,
          0.30303030303030304,
          0.31313131313131315,
          0.32323232323232326,
          0.33333333333333337,
          0.3434343434343435,
          0.3535353535353536,
          0.36363636363636365,
          0.37373737373737376,
          0.38383838383838387,
          0.393939393939394,
          0.4040404040404041,
          0.4141414141414142,
          0.42424242424242425,
          0.43434343434343436,
          0.4444444444444445,
          0.4545454545454546,
          0.4646464646464647,
          0.4747474747474748,
          0.48484848484848486,
          0.494949494949495,
          0.5050505050505051,
          0.5151515151515152,
          0.5252525252525253,
          0.5353535353535354,
          0.5454545454545455,
          0.5555555555555556,
          0.5656565656565657,
          0.5757575757575758,
          0.5858585858585859,
          0.595959595959596,
          0.6060606060606061,
          0.6161616161616162,
          0.6262626262626263,
          0.6363636363636365,
          0.6464646464646465,
          0.6565656565656566,
          0.6666666666666667,
          0.6767676767676768,
          0.686868686868687,
          0.696969696969697,
          0.7070707070707072,
          0.7171717171717172,
          0.7272727272727273,
          0.7373737373737375,
          0.7474747474747475,
          0.7575757575757577,
          0.7676767676767677,
          0.7777777777777778,
          0.787878787878788,
          0.797979797979798,
          0.8080808080808082,
          0.8181818181818182,
          0.8282828282828284,
          0.8383838383838385,
          0.8484848484848485,
          0.8585858585858587,
          0.8686868686868687,
          0.8787878787878789,
          0.888888888888889,
          0.8989898989898991,
          0.9090909090909092,
          0.9191919191919192,
          0.9292929292929294,
          0.9393939393939394,
          0.9494949494949496,
          0.9595959595959597,
          0.9696969696969697,
          0.9797979797979799,
          0.98989898989899,
          1
         ],
         "y": [
          0,
          0.825,
          0.825,
          0.825,
          0.825,
          0.825,
          0.825,
          0.825,
          0.825,
          0.825,
          0.825,
          0.825,
          0.825,
          0.825,
          0.825,
          0.825,
          0.825,
          0.825,
          0.825,
          0.825,
          0.9083333333333332,
          0.9083333333333332,
          0.9083333333333332,
          0.9083333333333332,
          0.9083333333333332,
          0.9333333333333332,
          0.9333333333333332,
          0.9333333333333332,
          0.9333333333333332,
          0.9333333333333332,
          0.9333333333333332,
          0.9333333333333332,
          0.9333333333333332,
          0.9333333333333332,
          0.9333333333333332,
          0.9333333333333332,
          0.9333333333333332,
          0.9333333333333332,
          0.9333333333333332,
          0.9333333333333332,
          1,
          1,
          1,
          1,
          1,
          1,
          1,
          1,
          1,
          1,
          1,
          1,
          1,
          1,
          1,
          1,
          1,
          1,
          1,
          1,
          1,
          1,
          1,
          1,
          1,
          1,
          1,
          1,
          1,
          1,
          1,
          1,
          1,
          1,
          1,
          1,
          1,
          1,
          1,
          1,
          1,
          1,
          1,
          1,
          1,
          1,
          1,
          1,
          1,
          1,
          1,
          1,
          1,
          1,
          1,
          1,
          1,
          1,
          1,
          1
         ]
        }
       ],
       "layout": {
        "height": 500,
        "legend": {
         "x": 0.95,
         "xanchor": "right",
         "y": 0.01,
         "yanchor": "bottom"
        },
        "shapes": [
         {
          "line": {
           "dash": "dash"
          },
          "type": "line",
          "x0": 0,
          "x1": 1,
          "y0": 0,
          "y1": 1
         }
        ],
        "template": {
         "data": {
          "bar": [
           {
            "error_x": {
             "color": "#2a3f5f"
            },
            "error_y": {
             "color": "#2a3f5f"
            },
            "marker": {
             "line": {
              "color": "white",
              "width": 0.5
             },
             "pattern": {
              "fillmode": "overlay",
              "size": 10,
              "solidity": 0.2
             }
            },
            "type": "bar"
           }
          ],
          "barpolar": [
           {
            "marker": {
             "line": {
              "color": "white",
              "width": 0.5
             },
             "pattern": {
              "fillmode": "overlay",
              "size": 10,
              "solidity": 0.2
             }
            },
            "type": "barpolar"
           }
          ],
          "carpet": [
           {
            "aaxis": {
             "endlinecolor": "#2a3f5f",
             "gridcolor": "#C8D4E3",
             "linecolor": "#C8D4E3",
             "minorgridcolor": "#C8D4E3",
             "startlinecolor": "#2a3f5f"
            },
            "baxis": {
             "endlinecolor": "#2a3f5f",
             "gridcolor": "#C8D4E3",
             "linecolor": "#C8D4E3",
             "minorgridcolor": "#C8D4E3",
             "startlinecolor": "#2a3f5f"
            },
            "type": "carpet"
           }
          ],
          "choropleth": [
           {
            "colorbar": {
             "outlinewidth": 0,
             "ticks": ""
            },
            "type": "choropleth"
           }
          ],
          "contour": [
           {
            "colorbar": {
             "outlinewidth": 0,
             "ticks": ""
            },
            "colorscale": [
             [
              0,
              "#0d0887"
             ],
             [
              0.1111111111111111,
              "#46039f"
             ],
             [
              0.2222222222222222,
              "#7201a8"
             ],
             [
              0.3333333333333333,
              "#9c179e"
             ],
             [
              0.4444444444444444,
              "#bd3786"
             ],
             [
              0.5555555555555556,
              "#d8576b"
             ],
             [
              0.6666666666666666,
              "#ed7953"
             ],
             [
              0.7777777777777778,
              "#fb9f3a"
             ],
             [
              0.8888888888888888,
              "#fdca26"
             ],
             [
              1,
              "#f0f921"
             ]
            ],
            "type": "contour"
           }
          ],
          "contourcarpet": [
           {
            "colorbar": {
             "outlinewidth": 0,
             "ticks": ""
            },
            "type": "contourcarpet"
           }
          ],
          "heatmap": [
           {
            "colorbar": {
             "outlinewidth": 0,
             "ticks": ""
            },
            "colorscale": [
             [
              0,
              "#0d0887"
             ],
             [
              0.1111111111111111,
              "#46039f"
             ],
             [
              0.2222222222222222,
              "#7201a8"
             ],
             [
              0.3333333333333333,
              "#9c179e"
             ],
             [
              0.4444444444444444,
              "#bd3786"
             ],
             [
              0.5555555555555556,
              "#d8576b"
             ],
             [
              0.6666666666666666,
              "#ed7953"
             ],
             [
              0.7777777777777778,
              "#fb9f3a"
             ],
             [
              0.8888888888888888,
              "#fdca26"
             ],
             [
              1,
              "#f0f921"
             ]
            ],
            "type": "heatmap"
           }
          ],
          "heatmapgl": [
           {
            "colorbar": {
             "outlinewidth": 0,
             "ticks": ""
            },
            "colorscale": [
             [
              0,
              "#0d0887"
             ],
             [
              0.1111111111111111,
              "#46039f"
             ],
             [
              0.2222222222222222,
              "#7201a8"
             ],
             [
              0.3333333333333333,
              "#9c179e"
             ],
             [
              0.4444444444444444,
              "#bd3786"
             ],
             [
              0.5555555555555556,
              "#d8576b"
             ],
             [
              0.6666666666666666,
              "#ed7953"
             ],
             [
              0.7777777777777778,
              "#fb9f3a"
             ],
             [
              0.8888888888888888,
              "#fdca26"
             ],
             [
              1,
              "#f0f921"
             ]
            ],
            "type": "heatmapgl"
           }
          ],
          "histogram": [
           {
            "marker": {
             "pattern": {
              "fillmode": "overlay",
              "size": 10,
              "solidity": 0.2
             }
            },
            "type": "histogram"
           }
          ],
          "histogram2d": [
           {
            "colorbar": {
             "outlinewidth": 0,
             "ticks": ""
            },
            "colorscale": [
             [
              0,
              "#0d0887"
             ],
             [
              0.1111111111111111,
              "#46039f"
             ],
             [
              0.2222222222222222,
              "#7201a8"
             ],
             [
              0.3333333333333333,
              "#9c179e"
             ],
             [
              0.4444444444444444,
              "#bd3786"
             ],
             [
              0.5555555555555556,
              "#d8576b"
             ],
             [
              0.6666666666666666,
              "#ed7953"
             ],
             [
              0.7777777777777778,
              "#fb9f3a"
             ],
             [
              0.8888888888888888,
              "#fdca26"
             ],
             [
              1,
              "#f0f921"
             ]
            ],
            "type": "histogram2d"
           }
          ],
          "histogram2dcontour": [
           {
            "colorbar": {
             "outlinewidth": 0,
             "ticks": ""
            },
            "colorscale": [
             [
              0,
              "#0d0887"
             ],
             [
              0.1111111111111111,
              "#46039f"
             ],
             [
              0.2222222222222222,
              "#7201a8"
             ],
             [
              0.3333333333333333,
              "#9c179e"
             ],
             [
              0.4444444444444444,
              "#bd3786"
             ],
             [
              0.5555555555555556,
              "#d8576b"
             ],
             [
              0.6666666666666666,
              "#ed7953"
             ],
             [
              0.7777777777777778,
              "#fb9f3a"
             ],
             [
              0.8888888888888888,
              "#fdca26"
             ],
             [
              1,
              "#f0f921"
             ]
            ],
            "type": "histogram2dcontour"
           }
          ],
          "mesh3d": [
           {
            "colorbar": {
             "outlinewidth": 0,
             "ticks": ""
            },
            "type": "mesh3d"
           }
          ],
          "parcoords": [
           {
            "line": {
             "colorbar": {
              "outlinewidth": 0,
              "ticks": ""
             }
            },
            "type": "parcoords"
           }
          ],
          "pie": [
           {
            "automargin": true,
            "type": "pie"
           }
          ],
          "scatter": [
           {
            "fillpattern": {
             "fillmode": "overlay",
             "size": 10,
             "solidity": 0.2
            },
            "type": "scatter"
           }
          ],
          "scatter3d": [
           {
            "line": {
             "colorbar": {
              "outlinewidth": 0,
              "ticks": ""
             }
            },
            "marker": {
             "colorbar": {
              "outlinewidth": 0,
              "ticks": ""
             }
            },
            "type": "scatter3d"
           }
          ],
          "scattercarpet": [
           {
            "marker": {
             "colorbar": {
              "outlinewidth": 0,
              "ticks": ""
             }
            },
            "type": "scattercarpet"
           }
          ],
          "scattergeo": [
           {
            "marker": {
             "colorbar": {
              "outlinewidth": 0,
              "ticks": ""
             }
            },
            "type": "scattergeo"
           }
          ],
          "scattergl": [
           {
            "marker": {
             "colorbar": {
              "outlinewidth": 0,
              "ticks": ""
             }
            },
            "type": "scattergl"
           }
          ],
          "scattermapbox": [
           {
            "marker": {
             "colorbar": {
              "outlinewidth": 0,
              "ticks": ""
             }
            },
            "type": "scattermapbox"
           }
          ],
          "scatterpolar": [
           {
            "marker": {
             "colorbar": {
              "outlinewidth": 0,
              "ticks": ""
             }
            },
            "type": "scatterpolar"
           }
          ],
          "scatterpolargl": [
           {
            "marker": {
             "colorbar": {
              "outlinewidth": 0,
              "ticks": ""
             }
            },
            "type": "scatterpolargl"
           }
          ],
          "scatterternary": [
           {
            "marker": {
             "colorbar": {
              "outlinewidth": 0,
              "ticks": ""
             }
            },
            "type": "scatterternary"
           }
          ],
          "surface": [
           {
            "colorbar": {
             "outlinewidth": 0,
             "ticks": ""
            },
            "colorscale": [
             [
              0,
              "#0d0887"
             ],
             [
              0.1111111111111111,
              "#46039f"
             ],
             [
              0.2222222222222222,
              "#7201a8"
             ],
             [
              0.3333333333333333,
              "#9c179e"
             ],
             [
              0.4444444444444444,
              "#bd3786"
             ],
             [
              0.5555555555555556,
              "#d8576b"
             ],
             [
              0.6666666666666666,
              "#ed7953"
             ],
             [
              0.7777777777777778,
              "#fb9f3a"
             ],
             [
              0.8888888888888888,
              "#fdca26"
             ],
             [
              1,
              "#f0f921"
             ]
            ],
            "type": "surface"
           }
          ],
          "table": [
           {
            "cells": {
             "fill": {
              "color": "#EBF0F8"
             },
             "line": {
              "color": "white"
             }
            },
            "header": {
             "fill": {
              "color": "#C8D4E3"
             },
             "line": {
              "color": "white"
             }
            },
            "type": "table"
           }
          ]
         },
         "layout": {
          "annotationdefaults": {
           "arrowcolor": "#2a3f5f",
           "arrowhead": 0,
           "arrowwidth": 1
          },
          "autotypenumbers": "strict",
          "coloraxis": {
           "colorbar": {
            "outlinewidth": 0,
            "ticks": ""
           }
          },
          "colorscale": {
           "diverging": [
            [
             0,
             "#8e0152"
            ],
            [
             0.1,
             "#c51b7d"
            ],
            [
             0.2,
             "#de77ae"
            ],
            [
             0.3,
             "#f1b6da"
            ],
            [
             0.4,
             "#fde0ef"
            ],
            [
             0.5,
             "#f7f7f7"
            ],
            [
             0.6,
             "#e6f5d0"
            ],
            [
             0.7,
             "#b8e186"
            ],
            [
             0.8,
             "#7fbc41"
            ],
            [
             0.9,
             "#4d9221"
            ],
            [
             1,
             "#276419"
            ]
           ],
           "sequential": [
            [
             0,
             "#0d0887"
            ],
            [
             0.1111111111111111,
             "#46039f"
            ],
            [
             0.2222222222222222,
             "#7201a8"
            ],
            [
             0.3333333333333333,
             "#9c179e"
            ],
            [
             0.4444444444444444,
             "#bd3786"
            ],
            [
             0.5555555555555556,
             "#d8576b"
            ],
            [
             0.6666666666666666,
             "#ed7953"
            ],
            [
             0.7777777777777778,
             "#fb9f3a"
            ],
            [
             0.8888888888888888,
             "#fdca26"
            ],
            [
             1,
             "#f0f921"
            ]
           ],
           "sequentialminus": [
            [
             0,
             "#0d0887"
            ],
            [
             0.1111111111111111,
             "#46039f"
            ],
            [
             0.2222222222222222,
             "#7201a8"
            ],
            [
             0.3333333333333333,
             "#9c179e"
            ],
            [
             0.4444444444444444,
             "#bd3786"
            ],
            [
             0.5555555555555556,
             "#d8576b"
            ],
            [
             0.6666666666666666,
             "#ed7953"
            ],
            [
             0.7777777777777778,
             "#fb9f3a"
            ],
            [
             0.8888888888888888,
             "#fdca26"
            ],
            [
             1,
             "#f0f921"
            ]
           ]
          },
          "colorway": [
           "#636efa",
           "#EF553B",
           "#00cc96",
           "#ab63fa",
           "#FFA15A",
           "#19d3f3",
           "#FF6692",
           "#B6E880",
           "#FF97FF",
           "#FECB52"
          ],
          "font": {
           "color": "#2a3f5f"
          },
          "geo": {
           "bgcolor": "white",
           "lakecolor": "white",
           "landcolor": "white",
           "showlakes": true,
           "showland": true,
           "subunitcolor": "#C8D4E3"
          },
          "hoverlabel": {
           "align": "left"
          },
          "hovermode": "closest",
          "mapbox": {
           "style": "light"
          },
          "paper_bgcolor": "white",
          "plot_bgcolor": "white",
          "polar": {
           "angularaxis": {
            "gridcolor": "#EBF0F8",
            "linecolor": "#EBF0F8",
            "ticks": ""
           },
           "bgcolor": "white",
           "radialaxis": {
            "gridcolor": "#EBF0F8",
            "linecolor": "#EBF0F8",
            "ticks": ""
           }
          },
          "scene": {
           "xaxis": {
            "backgroundcolor": "white",
            "gridcolor": "#DFE8F3",
            "gridwidth": 2,
            "linecolor": "#EBF0F8",
            "showbackground": true,
            "ticks": "",
            "zerolinecolor": "#EBF0F8"
           },
           "yaxis": {
            "backgroundcolor": "white",
            "gridcolor": "#DFE8F3",
            "gridwidth": 2,
            "linecolor": "#EBF0F8",
            "showbackground": true,
            "ticks": "",
            "zerolinecolor": "#EBF0F8"
           },
           "zaxis": {
            "backgroundcolor": "white",
            "gridcolor": "#DFE8F3",
            "gridwidth": 2,
            "linecolor": "#EBF0F8",
            "showbackground": true,
            "ticks": "",
            "zerolinecolor": "#EBF0F8"
           }
          },
          "shapedefaults": {
           "line": {
            "color": "#2a3f5f"
           }
          },
          "ternary": {
           "aaxis": {
            "gridcolor": "#DFE8F3",
            "linecolor": "#A2B1C6",
            "ticks": ""
           },
           "baxis": {
            "gridcolor": "#DFE8F3",
            "linecolor": "#A2B1C6",
            "ticks": ""
           },
           "bgcolor": "white",
           "caxis": {
            "gridcolor": "#DFE8F3",
            "linecolor": "#A2B1C6",
            "ticks": ""
           }
          },
          "title": {
           "x": 0.05
          },
          "xaxis": {
           "automargin": true,
           "gridcolor": "#EBF0F8",
           "linecolor": "#EBF0F8",
           "ticks": "",
           "title": {
            "standoff": 15
           },
           "zerolinecolor": "#EBF0F8",
           "zerolinewidth": 2
          },
          "yaxis": {
           "automargin": true,
           "gridcolor": "#EBF0F8",
           "linecolor": "#EBF0F8",
           "ticks": "",
           "title": {
            "standoff": 15
           },
           "zerolinecolor": "#EBF0F8",
           "zerolinewidth": 2
          }
         }
        },
        "title": {
         "text": "Dose 2 detectable"
        },
        "width": 500,
        "xaxis": {
         "constrain": "domain",
         "domain": [
          0.02941176470588236,
          0.9705882352941176
         ],
         "linecolor": "black",
         "range": [
          0,
          1
         ],
         "title": {
          "text": "False Positive Rate"
         },
         "type": "linear"
        },
        "yaxis": {
         "domain": [
          0,
          1
         ],
         "linecolor": "black",
         "range": [
          0,
          1
         ],
         "scaleanchor": "x",
         "scaleratio": 1,
         "title": {
          "text": "True Positive Rate"
         },
         "type": "linear"
        }
       }
      },
      "image/png": "[encoded data removed]",
      "text/html": [
       "<div>                            <div id=\"a6f6b4a0-bfc9-445e-9638-c1b110112354\" class=\"plotly-graph-div\" style=\"height:500px; width:500px;\"></div>            <script type=\"text/javascript\">                require([\"plotly\"], function(Plotly) {                    window.PLOTLYENV=window.PLOTLYENV || {};                                    if (document.getElementById(\"a6f6b4a0-bfc9-445e-9638-c1b110112354\")) {                    Plotly.newPlot(                        \"a6f6b4a0-bfc9-445e-9638-c1b110112354\",                        [{\"hoverinfo\":\"skip\",\"line\":{\"color\":\"rgba(52, 152, 219, 0.5)\",\"width\":1},\"name\":\"SD\",\"showlegend\":true,\"x\":[0.0,0.010101010101010102,0.020202020202020204,0.030303030303030304,0.04040404040404041,0.05050505050505051,0.06060606060606061,0.07070707070707072,0.08080808080808081,0.09090909090909091,0.10101010101010102,0.11111111111111112,0.12121212121212122,0.13131313131313133,0.14141414141414144,0.15151515151515152,0.16161616161616163,0.17171717171717174,0.18181818181818182,0.19191919191919193,0.20202020202020204,0.21212121212121213,0.22222222222222224,0.23232323232323235,0.24242424242424243,0.25252525252525254,0.26262626262626265,0.27272727272727276,0.2828282828282829,0.29292929292929293,0.30303030303030304,0.31313131313131315,0.32323232323232326,0.33333333333333337,0.3434343434343435,0.3535353535353536,0.36363636363636365,0.37373737373737376,0.38383838383838387,0.393939393939394,0.4040404040404041,0.4141414141414142,0.42424242424242425,0.43434343434343436,0.4444444444444445,0.4545454545454546,0.4646464646464647,0.4747474747474748,0.48484848484848486,0.494949494949495,0.5050505050505051,0.5151515151515152,0.5252525252525253,0.5353535353535354,0.5454545454545455,0.5555555555555556,0.5656565656565657,0.5757575757575758,0.5858585858585859,0.595959595959596,0.6060606060606061,0.6161616161616162,0.6262626262626263,0.6363636363636365,0.6464646464646465,0.6565656565656566,0.6666666666666667,0.6767676767676768,0.686868686868687,0.696969696969697,0.7070707070707072,0.7171717171717172,0.7272727272727273,0.7373737373737375,0.7474747474747475,0.7575757575757577,0.7676767676767677,0.7777777777777778,0.787878787878788,0.797979797979798,0.8080808080808082,0.8181818181818182,0.8282828282828284,0.8383838383838385,0.8484848484848485,0.8585858585858587,0.8686868686868687,0.8787878787878789,0.888888888888889,0.8989898989898991,0.9090909090909092,0.9191919191919192,0.9292929292929294,0.9393939393939394,0.9494949494949496,0.9595959595959597,0.9696969696969697,0.9797979797979799,0.98989898989899,1.0],\"y\":[0.0,1.0,1.0,1.0,1.0,1.0,1.0,1.0,1.0,1.0,1.0,1.0,1.0,1.0,1.0,1.0,1.0,1.0,1.0,1.0,1.0,1.0,1.0,1.0,1.0,1.0,1.0,1.0,1.0,1.0,1.0,1.0,1.0,1.0,1.0,1.0,1.0,1.0,1.0,1.0,1.0,1.0,1.0,1.0,1.0,1.0,1.0,1.0,1.0,1.0,1.0,1.0,1.0,1.0,1.0,1.0,1.0,1.0,1.0,1.0,1.0,1.0,1.0,1.0,1.0,1.0,1.0,1.0,1.0,1.0,1.0,1.0,1.0,1.0,1.0,1.0,1.0,1.0,1.0,1.0,1.0,1.0,1.0,1.0,1.0,1.0,1.0,1.0,1.0,1.0,1.0,1.0,1.0,1.0,1.0,1.0,1.0,1.0,1.0,1.0],\"type\":\"scatter\"},{\"fill\":\"tonexty\",\"fillcolor\":\"rgba(52, 152, 219, 0.2)\",\"hoverinfo\":\"skip\",\"line\":{\"color\":\"rgba(52, 152, 219, 0.5)\",\"width\":1},\"name\":\"lower\",\"showlegend\":false,\"x\":[0.0,0.010101010101010102,0.020202020202020204,0.030303030303030304,0.04040404040404041,0.05050505050505051,0.06060606060606061,0.07070707070707072,0.08080808080808081,0.09090909090909091,0.10101010101010102,0.11111111111111112,0.12121212121212122,0.13131313131313133,0.14141414141414144,0.15151515151515152,0.16161616161616163,0.17171717171717174,0.18181818181818182,0.19191919191919193,0.20202020202020204,0.21212121212121213,0.22222222222222224,0.23232323232323235,0.24242424242424243,0.25252525252525254,0.26262626262626265,0.27272727272727276,0.2828282828282829,0.29292929292929293,0.30303030303030304,0.31313131313131315,0.32323232323232326,0.33333333333333337,0.3434343434343435,0.3535353535353536,0.36363636363636365,0.37373737373737376,0.38383838383838387,0.393939393939394,0.4040404040404041,0.4141414141414142,0.42424242424242425,0.43434343434343436,0.4444444444444445,0.4545454545454546,0.4646464646464647,0.4747474747474748,0.48484848484848486,0.494949494949495,0.5050505050505051,0.5151515151515152,0.5252525252525253,0.5353535353535354,0.5454545454545455,0.5555555555555556,0.5656565656565657,0.5757575757575758,0.5858585858585859,0.595959595959596,0.6060606060606061,0.6161616161616162,0.6262626262626263,0.6363636363636365,0.6464646464646465,0.6565656565656566,0.6666666666666667,0.6767676767676768,0.686868686868687,0.696969696969697,0.7070707070707072,0.7171717171717172,0.7272727272727273,0.7373737373737375,0.7474747474747475,0.7575757575757577,0.7676767676767677,0.7777777777777778,0.787878787878788,0.797979797979798,0.8080808080808082,0.8181818181818182,0.8282828282828284,0.8383838383838385,0.8484848484848485,0.8585858585858587,0.8686868686868687,0.8787878787878789,0.888888888888889,0.8989898989898991,0.9090909090909092,0.9191919191919192,0.9292929292929294,0.9393939393939394,0.9494949494949496,0.9595959595959597,0.9696969696969697,0.9797979797979799,0.98989898989899,1.0],\"y\":[0.0,0.587975622444535,0.587975622444535,0.587975622444535,0.587975622444535,0.587975622444535,0.587975622444535,0.587975622444535,0.587975622444535,0.587975622444535,0.587975622444535,0.587975622444535,0.587975622444535,0.587975622444535,0.587975622444535,0.587975622444535,0.587975622444535,0.587975622444535,0.587975622444535,0.587975622444535,0.7026839553457821,0.7026839553457821,0.7026839553457821,0.7026839553457821,0.7026839553457821,0.7333333333333332,0.7333333333333332,0.7333333333333332,0.7333333333333332,0.7333333333333332,0.7333333333333332,0.7333333333333332,0.7333333333333332,0.7333333333333332,0.7333333333333332,0.7333333333333332,0.7333333333333332,0.7333333333333332,0.7333333333333332,0.7333333333333332,1.0,1.0,1.0,1.0,1.0,1.0,1.0,1.0,1.0,1.0,1.0,1.0,1.0,1.0,1.0,1.0,1.0,1.0,1.0,1.0,1.0,1.0,1.0,1.0,1.0,1.0,1.0,1.0,1.0,1.0,1.0,1.0,1.0,1.0,1.0,1.0,1.0,1.0,1.0,1.0,1.0,1.0,1.0,1.0,1.0,1.0,1.0,1.0,1.0,1.0,1.0,1.0,1.0,1.0,1.0,1.0,1.0,1.0,1.0,1.0],\"type\":\"scatter\"},{\"hoverinfo\":\"skip\",\"line\":{\"color\":\"rgba(41, 128, 185, 1.0)\",\"width\":2},\"name\":\"AUC: 0.950\",\"showlegend\":true,\"x\":[0.0,0.010101010101010102,0.020202020202020204,0.030303030303030304,0.04040404040404041,0.05050505050505051,0.06060606060606061,0.07070707070707072,0.08080808080808081,0.09090909090909091,0.10101010101010102,0.11111111111111112,0.12121212121212122,0.13131313131313133,0.14141414141414144,0.15151515151515152,0.16161616161616163,0.17171717171717174,0.18181818181818182,0.19191919191919193,0.20202020202020204,0.21212121212121213,0.22222222222222224,0.23232323232323235,0.24242424242424243,0.25252525252525254,0.26262626262626265,0.27272727272727276,0.2828282828282829,0.29292929292929293,0.30303030303030304,0.31313131313131315,0.32323232323232326,0.33333333333333337,0.3434343434343435,0.3535353535353536,0.36363636363636365,0.37373737373737376,0.38383838383838387,0.393939393939394,0.4040404040404041,0.4141414141414142,0.42424242424242425,0.43434343434343436,0.4444444444444445,0.4545454545454546,0.4646464646464647,0.4747474747474748,0.48484848484848486,0.494949494949495,0.5050505050505051,0.5151515151515152,0.5252525252525253,0.5353535353535354,0.5454545454545455,0.5555555555555556,0.5656565656565657,0.5757575757575758,0.5858585858585859,0.595959595959596,0.6060606060606061,0.6161616161616162,0.6262626262626263,0.6363636363636365,0.6464646464646465,0.6565656565656566,0.6666666666666667,0.6767676767676768,0.686868686868687,0.696969696969697,0.7070707070707072,0.7171717171717172,0.7272727272727273,0.7373737373737375,0.7474747474747475,0.7575757575757577,0.7676767676767677,0.7777777777777778,0.787878787878788,0.797979797979798,0.8080808080808082,0.8181818181818182,0.8282828282828284,0.8383838383838385,0.8484848484848485,0.8585858585858587,0.8686868686868687,0.8787878787878789,0.888888888888889,0.8989898989898991,0.9090909090909092,0.9191919191919192,0.9292929292929294,0.9393939393939394,0.9494949494949496,0.9595959595959597,0.9696969696969697,0.9797979797979799,0.98989898989899,1.0],\"y\":[0.0,0.825,0.825,0.825,0.825,0.825,0.825,0.825,0.825,0.825,0.825,0.825,0.825,0.825,0.825,0.825,0.825,0.825,0.825,0.825,0.9083333333333332,0.9083333333333332,0.9083333333333332,0.9083333333333332,0.9083333333333332,0.9333333333333332,0.9333333333333332,0.9333333333333332,0.9333333333333332,0.9333333333333332,0.9333333333333332,0.9333333333333332,0.9333333333333332,0.9333333333333332,0.9333333333333332,0.9333333333333332,0.9333333333333332,0.9333333333333332,0.9333333333333332,0.9333333333333332,1.0,1.0,1.0,1.0,1.0,1.0,1.0,1.0,1.0,1.0,1.0,1.0,1.0,1.0,1.0,1.0,1.0,1.0,1.0,1.0,1.0,1.0,1.0,1.0,1.0,1.0,1.0,1.0,1.0,1.0,1.0,1.0,1.0,1.0,1.0,1.0,1.0,1.0,1.0,1.0,1.0,1.0,1.0,1.0,1.0,1.0,1.0,1.0,1.0,1.0,1.0,1.0,1.0,1.0,1.0,1.0,1.0,1.0,1.0,1.0],\"type\":\"scatter\"}],                        {\"template\":{\"data\":{\"barpolar\":[{\"marker\":{\"line\":{\"color\":\"white\",\"width\":0.5},\"pattern\":{\"fillmode\":\"overlay\",\"size\":10,\"solidity\":0.2}},\"type\":\"barpolar\"}],\"bar\":[{\"error_x\":{\"color\":\"#2a3f5f\"},\"error_y\":{\"color\":\"#2a3f5f\"},\"marker\":{\"line\":{\"color\":\"white\",\"width\":0.5},\"pattern\":{\"fillmode\":\"overlay\",\"size\":10,\"solidity\":0.2}},\"type\":\"bar\"}],\"carpet\":[{\"aaxis\":{\"endlinecolor\":\"#2a3f5f\",\"gridcolor\":\"#C8D4E3\",\"linecolor\":\"#C8D4E3\",\"minorgridcolor\":\"#C8D4E3\",\"startlinecolor\":\"#2a3f5f\"},\"baxis\":{\"endlinecolor\":\"#2a3f5f\",\"gridcolor\":\"#C8D4E3\",\"linecolor\":\"#C8D4E3\",\"minorgridcolor\":\"#C8D4E3\",\"startlinecolor\":\"#2a3f5f\"},\"type\":\"carpet\"}],\"choropleth\":[{\"colorbar\":{\"outlinewidth\":0,\"ticks\":\"\"},\"type\":\"choropleth\"}],\"contourcarpet\":[{\"colorbar\":{\"outlinewidth\":0,\"ticks\":\"\"},\"type\":\"contourcarpet\"}],\"contour\":[{\"colorbar\":{\"outlinewidth\":0,\"ticks\":\"\"},\"colorscale\":[[0.0,\"#0d0887\"],[0.1111111111111111,\"#46039f\"],[0.2222222222222222,\"#7201a8\"],[0.3333333333333333,\"#9c179e\"],[0.4444444444444444,\"#bd3786\"],[0.5555555555555556,\"#d8576b\"],[0.6666666666666666,\"#ed7953\"],[0.7777777777777778,\"#fb9f3a\"],[0.8888888888888888,\"#fdca26\"],[1.0,\"#f0f921\"]],\"type\":\"contour\"}],\"heatmapgl\":[{\"colorbar\":{\"outlinewidth\":0,\"ticks\":\"\"},\"colorscale\":[[0.0,\"#0d0887\"],[0.1111111111111111,\"#46039f\"],[0.2222222222222222,\"#7201a8\"],[0.3333333333333333,\"#9c179e\"],[0.4444444444444444,\"#bd3786\"],[0.5555555555555556,\"#d8576b\"],[0.6666666666666666,\"#ed7953\"],[0.7777777777777778,\"#fb9f3a\"],[0.8888888888888888,\"#fdca26\"],[1.0,\"#f0f921\"]],\"type\":\"heatmapgl\"}],\"heatmap\":[{\"colorbar\":{\"outlinewidth\":0,\"ticks\":\"\"},\"colorscale\":[[0.0,\"#0d0887\"],[0.1111111111111111,\"#46039f\"],[0.2222222222222222,\"#7201a8\"],[0.3333333333333333,\"#9c179e\"],[0.4444444444444444,\"#bd3786\"],[0.5555555555555556,\"#d8576b\"],[0.6666666666666666,\"#ed7953\"],[0.7777777777777778,\"#fb9f3a\"],[0.8888888888888888,\"#fdca26\"],[1.0,\"#f0f921\"]],\"type\":\"heatmap\"}],\"histogram2dcontour\":[{\"colorbar\":{\"outlinewidth\":0,\"ticks\":\"\"},\"colorscale\":[[0.0,\"#0d0887\"],[0.1111111111111111,\"#46039f\"],[0.2222222222222222,\"#7201a8\"],[0.3333333333333333,\"#9c179e\"],[0.4444444444444444,\"#bd3786\"],[0.5555555555555556,\"#d8576b\"],[0.6666666666666666,\"#ed7953\"],[0.7777777777777778,\"#fb9f3a\"],[0.8888888888888888,\"#fdca26\"],[1.0,\"#f0f921\"]],\"type\":\"histogram2dcontour\"}],\"histogram2d\":[{\"colorbar\":{\"outlinewidth\":0,\"ticks\":\"\"},\"colorscale\":[[0.0,\"#0d0887\"],[0.1111111111111111,\"#46039f\"],[0.2222222222222222,\"#7201a8\"],[0.3333333333333333,\"#9c179e\"],[0.4444444444444444,\"#bd3786\"],[0.5555555555555556,\"#d8576b\"],[0.6666666666666666,\"#ed7953\"],[0.7777777777777778,\"#fb9f3a\"],[0.8888888888888888,\"#fdca26\"],[1.0,\"#f0f921\"]],\"type\":\"histogram2d\"}],\"histogram\":[{\"marker\":{\"pattern\":{\"fillmode\":\"overlay\",\"size\":10,\"solidity\":0.2}},\"type\":\"histogram\"}],\"mesh3d\":[{\"colorbar\":{\"outlinewidth\":0,\"ticks\":\"\"},\"type\":\"mesh3d\"}],\"parcoords\":[{\"line\":{\"colorbar\":{\"outlinewidth\":0,\"ticks\":\"\"}},\"type\":\"parcoords\"}],\"pie\":[{\"automargin\":true,\"type\":\"pie\"}],\"scatter3d\":[{\"line\":{\"colorbar\":{\"outlinewidth\":0,\"ticks\":\"\"}},\"marker\":{\"colorbar\":{\"outlinewidth\":0,\"ticks\":\"\"}},\"type\":\"scatter3d\"}],\"scattercarpet\":[{\"marker\":{\"colorbar\":{\"outlinewidth\":0,\"ticks\":\"\"}},\"type\":\"scattercarpet\"}],\"scattergeo\":[{\"marker\":{\"colorbar\":{\"outlinewidth\":0,\"ticks\":\"\"}},\"type\":\"scattergeo\"}],\"scattergl\":[{\"marker\":{\"colorbar\":{\"outlinewidth\":0,\"ticks\":\"\"}},\"type\":\"scattergl\"}],\"scattermapbox\":[{\"marker\":{\"colorbar\":{\"outlinewidth\":0,\"ticks\":\"\"}},\"type\":\"scattermapbox\"}],\"scatterpolargl\":[{\"marker\":{\"colorbar\":{\"outlinewidth\":0,\"ticks\":\"\"}},\"type\":\"scatterpolargl\"}],\"scatterpolar\":[{\"marker\":{\"colorbar\":{\"outlinewidth\":0,\"ticks\":\"\"}},\"type\":\"scatterpolar\"}],\"scatter\":[{\"fillpattern\":{\"fillmode\":\"overlay\",\"size\":10,\"solidity\":0.2},\"type\":\"scatter\"}],\"scatterternary\":[{\"marker\":{\"colorbar\":{\"outlinewidth\":0,\"ticks\":\"\"}},\"type\":\"scatterternary\"}],\"surface\":[{\"colorbar\":{\"outlinewidth\":0,\"ticks\":\"\"},\"colorscale\":[[0.0,\"#0d0887\"],[0.1111111111111111,\"#46039f\"],[0.2222222222222222,\"#7201a8\"],[0.3333333333333333,\"#9c179e\"],[0.4444444444444444,\"#bd3786\"],[0.5555555555555556,\"#d8576b\"],[0.6666666666666666,\"#ed7953\"],[0.7777777777777778,\"#fb9f3a\"],[0.8888888888888888,\"#fdca26\"],[1.0,\"#f0f921\"]],\"type\":\"surface\"}],\"table\":[{\"cells\":{\"fill\":{\"color\":\"#EBF0F8\"},\"line\":{\"color\":\"white\"}},\"header\":{\"fill\":{\"color\":\"#C8D4E3\"},\"line\":{\"color\":\"white\"}},\"type\":\"table\"}]},\"layout\":{\"annotationdefaults\":{\"arrowcolor\":\"#2a3f5f\",\"arrowhead\":0,\"arrowwidth\":1},\"autotypenumbers\":\"strict\",\"coloraxis\":{\"colorbar\":{\"outlinewidth\":0,\"ticks\":\"\"}},\"colorscale\":{\"diverging\":[[0,\"#8e0152\"],[0.1,\"#c51b7d\"],[0.2,\"#de77ae\"],[0.3,\"#f1b6da\"],[0.4,\"#fde0ef\"],[0.5,\"#f7f7f7\"],[0.6,\"#e6f5d0\"],[0.7,\"#b8e186\"],[0.8,\"#7fbc41\"],[0.9,\"#4d9221\"],[1,\"#276419\"]],\"sequential\":[[0.0,\"#0d0887\"],[0.1111111111111111,\"#46039f\"],[0.2222222222222222,\"#7201a8\"],[0.3333333333333333,\"#9c179e\"],[0.4444444444444444,\"#bd3786\"],[0.5555555555555556,\"#d8576b\"],[0.6666666666666666,\"#ed7953\"],[0.7777777777777778,\"#fb9f3a\"],[0.8888888888888888,\"#fdca26\"],[1.0,\"#f0f921\"]],\"sequentialminus\":[[0.0,\"#0d0887\"],[0.1111111111111111,\"#46039f\"],[0.2222222222222222,\"#7201a8\"],[0.3333333333333333,\"#9c179e\"],[0.4444444444444444,\"#bd3786\"],[0.5555555555555556,\"#d8576b\"],[0.6666666666666666,\"#ed7953\"],[0.7777777777777778,\"#fb9f3a\"],[0.8888888888888888,\"#fdca26\"],[1.0,\"#f0f921\"]]},\"colorway\":[\"#636efa\",\"#EF553B\",\"#00cc96\",\"#ab63fa\",\"#FFA15A\",\"#19d3f3\",\"#FF6692\",\"#B6E880\",\"#FF97FF\",\"#FECB52\"],\"font\":{\"color\":\"#2a3f5f\"},\"geo\":{\"bgcolor\":\"white\",\"lakecolor\":\"white\",\"landcolor\":\"white\",\"showlakes\":true,\"showland\":true,\"subunitcolor\":\"#C8D4E3\"},\"hoverlabel\":{\"align\":\"left\"},\"hovermode\":\"closest\",\"mapbox\":{\"style\":\"light\"},\"paper_bgcolor\":\"white\",\"plot_bgcolor\":\"white\",\"polar\":{\"angularaxis\":{\"gridcolor\":\"#EBF0F8\",\"linecolor\":\"#EBF0F8\",\"ticks\":\"\"},\"bgcolor\":\"white\",\"radialaxis\":{\"gridcolor\":\"#EBF0F8\",\"linecolor\":\"#EBF0F8\",\"ticks\":\"\"}},\"scene\":{\"xaxis\":{\"backgroundcolor\":\"white\",\"gridcolor\":\"#DFE8F3\",\"gridwidth\":2,\"linecolor\":\"#EBF0F8\",\"showbackground\":true,\"ticks\":\"\",\"zerolinecolor\":\"#EBF0F8\"},\"yaxis\":{\"backgroundcolor\":\"white\",\"gridcolor\":\"#DFE8F3\",\"gridwidth\":2,\"linecolor\":\"#EBF0F8\",\"showbackground\":true,\"ticks\":\"\",\"zerolinecolor\":\"#EBF0F8\"},\"zaxis\":{\"backgroundcolor\":\"white\",\"gridcolor\":\"#DFE8F3\",\"gridwidth\":2,\"linecolor\":\"#EBF0F8\",\"showbackground\":true,\"ticks\":\"\",\"zerolinecolor\":\"#EBF0F8\"}},\"shapedefaults\":{\"line\":{\"color\":\"#2a3f5f\"}},\"ternary\":{\"aaxis\":{\"gridcolor\":\"#DFE8F3\",\"linecolor\":\"#A2B1C6\",\"ticks\":\"\"},\"baxis\":{\"gridcolor\":\"#DFE8F3\",\"linecolor\":\"#A2B1C6\",\"ticks\":\"\"},\"bgcolor\":\"white\",\"caxis\":{\"gridcolor\":\"#DFE8F3\",\"linecolor\":\"#A2B1C6\",\"ticks\":\"\"}},\"title\":{\"x\":0.05},\"xaxis\":{\"automargin\":true,\"gridcolor\":\"#EBF0F8\",\"linecolor\":\"#EBF0F8\",\"ticks\":\"\",\"title\":{\"standoff\":15},\"zerolinecolor\":\"#EBF0F8\",\"zerolinewidth\":2},\"yaxis\":{\"automargin\":true,\"gridcolor\":\"#EBF0F8\",\"linecolor\":\"#EBF0F8\",\"ticks\":\"\",\"title\":{\"standoff\":15},\"zerolinecolor\":\"#EBF0F8\",\"zerolinewidth\":2}}},\"shapes\":[{\"line\":{\"dash\":\"dash\"},\"type\":\"line\",\"x0\":0,\"x1\":1,\"y0\":0,\"y1\":1}],\"title\":{\"text\":\"Dose 2 detectable\"},\"legend\":{\"yanchor\":\"bottom\",\"xanchor\":\"right\",\"x\":0.95,\"y\":0.01},\"xaxis\":{\"title\":{\"text\":\"False Positive Rate\"},\"range\":[0,1],\"constrain\":\"domain\",\"linecolor\":\"black\"},\"yaxis\":{\"title\":{\"text\":\"True Positive Rate\"},\"range\":[0,1],\"scaleanchor\":\"x\",\"scaleratio\":1,\"linecolor\":\"black\"},\"width\":500,\"height\":500},                        {\"responsive\": true}                    ).then(function(){\n",
       "                            \n",
       "var gd = document.getElementById('a6f6b4a0-bfc9-445e-9638-c1b110112354');\n",
       "var x = new MutationObserver(function (mutations, observer) {{\n",
       "        var display = window.getComputedStyle(gd).display;\n",
       "        if (!display || display === 'none') {{\n",
       "            console.log([gd, 'removed!']);\n",
       "            Plotly.purge(gd);\n",
       "            observer.disconnect();\n",
       "        }}\n",
       "}});\n",
       "\n",
       "// Listen for the removal of the full notebook cells\n",
       "var notebookContainer = gd.closest('#notebook-container');\n",
       "if (notebookContainer) {{\n",
       "    x.observe(notebookContainer, {childList: true});\n",
       "}}\n",
       "\n",
       "// Listen for the clearing of the current output cell\n",
       "var outputEl = gd.closest('.output');\n",
       "if (outputEl) {{\n",
       "    x.observe(outputEl, {childList: true});\n",
       "}}\n",
       "\n",
       "                        })                };                });            </script>        </div>"
      ]
     },
     "metadata": {},
     "output_type": "display_data"
    }
   ],
   "source": [
    "y_true_d2_d  = []\n",
    "y_true_d3_p  = []\n",
    "y_score_d2_d = []\n",
    "y_score_d3_p = []\n",
    "for i in range(len(data[\"comp\"][\"SVM_RFE_d2_d\"][\"SVM_d2_d\"])):\n",
    "    y_true_d2_d.append(data[\"comp\"][\"SVM_RFE_d2_d\"][\"SVM_d2_d\"][i][\"y_true\"])\n",
    "    y_true_d3_p.append(data[\"comp\"][\"SVM_RFE_d3_p\"][\"SVM_d3_p\"][i][\"y_true\"])\n",
    "    y_score_d2_d.append(data[\"comp\"][\"SVM_RFE_d2_d\"][\"SVM_d2_d\"][i][\"z\"])\n",
    "    y_score_d3_p.append(data[\"comp\"][\"SVM_RFE_d3_p\"][\"SVM_d3_p\"][i][\"z\"])\n",
    "\n",
    "\n",
    "kind = 'val'\n",
    "c_line      = 'rgba(52, 152, 219, 0.5)'\n",
    "c_fill      = 'rgba(52, 152, 219, 0.2)'\n",
    "c_line_main = 'rgba(41, 128, 185, 1.0)'\n",
    "c_grid      = 'rgba(189, 195, 199, 0.5)'\n",
    "#c_annot     = 'rgba(149, 165, 166, 0.5)'\n",
    "#c_highlight = 'rgba(192, 57, 43, 1.0)'\n",
    "fpr_mean    = np.linspace(0, 1, 100)\n",
    "interp_tprs_d2_d = []\n",
    "interp_tprs_d3_p = []\n",
    "for i in range(len(y_true_d2_d)):\n",
    "    fpr_d2_d, tpr_d2_d, thresholds = roc_curve(y_true_d2_d[i], y_score_d2_d[i])\n",
    "    fpr_d3_p, tpr_d3_p, thresholds = roc_curve(y_true_d3_p[i], y_score_d3_p[i])\n",
    "    interp_tpr_d2_d    = np.interp(fpr_mean, fpr_d2_d, tpr_d2_d)\n",
    "    interp_tpr_d3_p    = np.interp(fpr_mean, fpr_d3_p, tpr_d3_p)\n",
    "    interp_tpr_d2_d[0] = 0.0\n",
    "    interp_tpr_d3_p[0] = 0.0\n",
    "    interp_tprs_d2_d.append(interp_tpr_d2_d)\n",
    "    interp_tprs_d3_p.append(interp_tpr_d3_p)\n",
    "tpr_mean_d2_d     = np.mean(interp_tprs_d2_d, axis=0)\n",
    "tpr_mean_d3_p     = np.mean(interp_tprs_d3_p, axis=0)\n",
    "tpr_mean_d2_d[-1] = 1.0\n",
    "tpr_mean_d3_p[-1] = 1.0\n",
    "tpr_std_d2_d      = np.std(interp_tprs_d2_d, axis=0)\n",
    "tpr_std_d3_p      = np.std(interp_tprs_d3_p, axis=0)\n",
    "tpr_upper_d2_d    = np.clip(tpr_mean_d2_d+tpr_std_d2_d, 0, 1)\n",
    "tpr_upper_d3_p    = np.clip(tpr_mean_d3_p+tpr_std_d3_p, 0, 1)\n",
    "tpr_lower_d2_d    = tpr_mean_d2_d-tpr_std_d2_d\n",
    "tpr_lower_d3_p    = tpr_mean_d3_p-tpr_std_d3_p\n",
    "\n",
    "fig3 = go.Figure([\n",
    "    go.Scatter(\n",
    "        x          = fpr_mean,\n",
    "        y          = tpr_upper_d2_d,\n",
    "        line       = dict(color=c_line, width=1),\n",
    "        hoverinfo  = \"skip\",\n",
    "        showlegend = True,\n",
    "        name       = 'SD'),\n",
    "    go.Scatter(\n",
    "        x          = fpr_mean,\n",
    "        y          = tpr_lower_d2_d,\n",
    "        fill       = 'tonexty',\n",
    "        fillcolor  = c_fill,\n",
    "        line       = dict(color=c_line, width=1),\n",
    "        hoverinfo  = \"skip\",\n",
    "        showlegend = False,\n",
    "        name       = 'lower'),\n",
    "    go.Scatter(\n",
    "        x          = fpr_mean,\n",
    "        y          = tpr_mean_d2_d,\n",
    "        line       = dict(color=c_line_main, width=2),\n",
    "        hoverinfo  = \"skip\",\n",
    "        showlegend = True,\n",
    "        name       = 'AUC: 0.950')\n",
    "]\n",
    ")\n",
    "fig3.add_shape(\n",
    "    type ='line', \n",
    "    line =dict(dash='dash'),\n",
    "    x0=0, x1=1, y0=0, y1=1\n",
    ")\n",
    "fig3.update_layout(\n",
    "    template    = 'plotly_white', \n",
    "    title_x     = 0.5,\n",
    "    title = \"Dose 2 detectable\",\n",
    "    xaxis_title = \"False Positive Rate\",\n",
    "    yaxis_title = \"True Positive Rate\",\n",
    "    width       = 500,\n",
    "    height      = 500,\n",
    "    legend      = dict(\n",
    "        yanchor=\"bottom\", \n",
    "        xanchor=\"right\", \n",
    "        x=0.95,\n",
    "        y=0.01,\n",
    "    )\n",
    ")\n",
    "fig3.update_yaxes(\n",
    "    range       = [0, 1],\n",
    "    scaleanchor = \"x\", \n",
    "    scaleratio  = 1,\n",
    "    linecolor   = 'black')\n",
    "fig3.update_xaxes(\n",
    "    range       = [0, 1],\n",
    "    constrain   = 'domain',\n",
    "    linecolor   = 'black')\n",
    "fig3.write_image(\"fig_ml_C.svg\")\n",
    "fig3"
   ]
  },
  {
   "cell_type": "code",
   "execution_count": 29,
   "id": "168d809e-37c7-474c-ad70-b2a12f168cbf",
   "metadata": {},
   "outputs": [
    {
     "data": {
      "application/vnd.plotly.v1+json": {
       "config": {
        "plotlyServerURL": "https://plot.ly"
       },
       "data": [
        {
         "hoverinfo": "skip",
         "line": {
          "color": "rgba( 152,52, 219, 0.5)",
          "width": 1
         },
         "name": "SD",
         "showlegend": true,
         "type": "scatter",
         "x": [
          0,
          0.010101010101010102,
          0.020202020202020204,
          0.030303030303030304,
          0.04040404040404041,
          0.05050505050505051,
          0.06060606060606061,
          0.07070707070707072,
          0.08080808080808081,
          0.09090909090909091,
          0.10101010101010102,
          0.11111111111111112,
          0.12121212121212122,
          0.13131313131313133,
          0.14141414141414144,
          0.15151515151515152,
          0.16161616161616163,
          0.17171717171717174,
          0.18181818181818182,
          0.19191919191919193,
          0.20202020202020204,
          0.21212121212121213,
          0.22222222222222224,
          0.23232323232323235,
          0.24242424242424243,
          0.25252525252525254,
          0.26262626262626265,
          0.27272727272727276,
          0.2828282828282829,
          0.29292929292929293,
          0.30303030303030304,
          0.31313131313131315,
          0.32323232323232326,
          0.33333333333333337,
          0.3434343434343435,
          0.3535353535353536,
          0.36363636363636365,
          0.37373737373737376,
          0.38383838383838387,
          0.393939393939394,
          0.4040404040404041,
          0.4141414141414142,
          0.42424242424242425,
          0.43434343434343436,
          0.4444444444444445,
          0.4545454545454546,
          0.4646464646464647,
          0.4747474747474748,
          0.48484848484848486,
          0.494949494949495,
          0.5050505050505051,
          0.5151515151515152,
          0.5252525252525253,
          0.5353535353535354,
          0.5454545454545455,
          0.5555555555555556,
          0.5656565656565657,
          0.5757575757575758,
          0.5858585858585859,
          0.595959595959596,
          0.6060606060606061,
          0.6161616161616162,
          0.6262626262626263,
          0.6363636363636365,
          0.6464646464646465,
          0.6565656565656566,
          0.6666666666666667,
          0.6767676767676768,
          0.686868686868687,
          0.696969696969697,
          0.7070707070707072,
          0.7171717171717172,
          0.7272727272727273,
          0.7373737373737375,
          0.7474747474747475,
          0.7575757575757577,
          0.7676767676767677,
          0.7777777777777778,
          0.787878787878788,
          0.797979797979798,
          0.8080808080808082,
          0.8181818181818182,
          0.8282828282828284,
          0.8383838383838385,
          0.8484848484848485,
          0.8585858585858587,
          0.8686868686868687,
          0.8787878787878789,
          0.888888888888889,
          0.8989898989898991,
          0.9090909090909092,
          0.9191919191919192,
          0.9292929292929294,
          0.9393939393939394,
          0.9494949494949496,
          0.9595959595959597,
          0.9696969696969697,
          0.9797979797979799,
          0.98989898989899,
          1
         ],
         "y": [
          0,
          1,
          1,
          1,
          1,
          1,
          1,
          1,
          1,
          1,
          1,
          1,
          1,
          1,
          1,
          1,
          1,
          1,
          1,
          1,
          1,
          1,
          1,
          1,
          1,
          1,
          1,
          1,
          1,
          1,
          1,
          1,
          1,
          1,
          1,
          1,
          1,
          1,
          1,
          1,
          1,
          1,
          1,
          1,
          1,
          1,
          1,
          1,
          1,
          1,
          1,
          1,
          1,
          1,
          1,
          1,
          1,
          1,
          1,
          1,
          1,
          1,
          1,
          1,
          1,
          1,
          1,
          1,
          1,
          1,
          1,
          1,
          1,
          1,
          1,
          1,
          1,
          1,
          1,
          1,
          1,
          1,
          1,
          1,
          1,
          1,
          1,
          1,
          1,
          1,
          1,
          1,
          1,
          1,
          1,
          1,
          1,
          1,
          1,
          1
         ]
        },
        {
         "fill": "tonexty",
         "fillcolor": "rgba( 152,52, 219, 0.2)",
         "hoverinfo": "skip",
         "line": {
          "color": "rgba( 152,52, 219, 0.5)",
          "width": 1
         },
         "name": "lower",
         "showlegend": false,
         "type": "scatter",
         "x": [
          0,
          0.010101010101010102,
          0.020202020202020204,
          0.030303030303030304,
          0.04040404040404041,
          0.05050505050505051,
          0.06060606060606061,
          0.07070707070707072,
          0.08080808080808081,
          0.09090909090909091,
          0.10101010101010102,
          0.11111111111111112,
          0.12121212121212122,
          0.13131313131313133,
          0.14141414141414144,
          0.15151515151515152,
          0.16161616161616163,
          0.17171717171717174,
          0.18181818181818182,
          0.19191919191919193,
          0.20202020202020204,
          0.21212121212121213,
          0.22222222222222224,
          0.23232323232323235,
          0.24242424242424243,
          0.25252525252525254,
          0.26262626262626265,
          0.27272727272727276,
          0.2828282828282829,
          0.29292929292929293,
          0.30303030303030304,
          0.31313131313131315,
          0.32323232323232326,
          0.33333333333333337,
          0.3434343434343435,
          0.3535353535353536,
          0.36363636363636365,
          0.37373737373737376,
          0.38383838383838387,
          0.393939393939394,
          0.4040404040404041,
          0.4141414141414142,
          0.42424242424242425,
          0.43434343434343436,
          0.4444444444444445,
          0.4545454545454546,
          0.4646464646464647,
          0.4747474747474748,
          0.48484848484848486,
          0.494949494949495,
          0.5050505050505051,
          0.5151515151515152,
          0.5252525252525253,
          0.5353535353535354,
          0.5454545454545455,
          0.5555555555555556,
          0.5656565656565657,
          0.5757575757575758,
          0.5858585858585859,
          0.595959595959596,
          0.6060606060606061,
          0.6161616161616162,
          0.6262626262626263,
          0.6363636363636365,
          0.6464646464646465,
          0.6565656565656566,
          0.6666666666666667,
          0.6767676767676768,
          0.686868686868687,
          0.696969696969697,
          0.7070707070707072,
          0.7171717171717172,
          0.7272727272727273,
          0.7373737373737375,
          0.7474747474747475,
          0.7575757575757577,
          0.7676767676767677,
          0.7777777777777778,
          0.787878787878788,
          0.797979797979798,
          0.8080808080808082,
          0.8181818181818182,
          0.8282828282828284,
          0.8383838383838385,
          0.8484848484848485,
          0.8585858585858587,
          0.8686868686868687,
          0.8787878787878789,
          0.888888888888889,
          0.8989898989898991,
          0.9090909090909092,
          0.9191919191919192,
          0.9292929292929294,
          0.9393939393939394,
          0.9494949494949496,
          0.9595959595959597,
          0.9696969696969697,
          0.9797979797979799,
          0.98989898989899,
          1
         ],
         "y": [
          0,
          0.41458980337503154,
          0.41458980337503154,
          0.41458980337503154,
          0.41458980337503154,
          0.41458980337503154,
          0.41458980337503154,
          0.41458980337503154,
          0.41458980337503154,
          0.41458980337503154,
          0.41458980337503154,
          0.41458980337503154,
          0.41458980337503154,
          0.41458980337503154,
          0.41458980337503154,
          0.41458980337503154,
          0.41458980337503154,
          0.5298437881283575,
          0.5298437881283575,
          0.5298437881283575,
          0.6000000000000001,
          0.6000000000000001,
          0.6000000000000001,
          0.6000000000000001,
          0.6000000000000001,
          0.6000000000000001,
          0.6000000000000001,
          0.6000000000000001,
          0.6000000000000001,
          0.6000000000000001,
          0.6000000000000001,
          0.6000000000000001,
          0.6000000000000001,
          0.6000000000000001,
          0.6000000000000001,
          0.6000000000000001,
          0.6000000000000001,
          0.6000000000000001,
          0.6000000000000001,
          0.6000000000000001,
          1,
          1,
          1,
          1,
          1,
          1,
          1,
          1,
          1,
          1,
          1,
          1,
          1,
          1,
          1,
          1,
          1,
          1,
          1,
          1,
          1,
          1,
          1,
          1,
          1,
          1,
          1,
          1,
          1,
          1,
          1,
          1,
          1,
          1,
          1,
          1,
          1,
          1,
          1,
          1,
          1,
          1,
          1,
          1,
          1,
          1,
          1,
          1,
          1,
          1,
          1,
          1,
          1,
          1,
          1,
          1,
          1,
          1,
          1,
          1
         ]
        },
        {
         "hoverinfo": "skip",
         "line": {
          "color": "rgba( 128,41, 185, 1.0)",
          "width": 2
         },
         "name": "AUC: 0.933",
         "showlegend": true,
         "type": "scatter",
         "x": [
          0,
          0.010101010101010102,
          0.020202020202020204,
          0.030303030303030304,
          0.04040404040404041,
          0.05050505050505051,
          0.06060606060606061,
          0.07070707070707072,
          0.08080808080808081,
          0.09090909090909091,
          0.10101010101010102,
          0.11111111111111112,
          0.12121212121212122,
          0.13131313131313133,
          0.14141414141414144,
          0.15151515151515152,
          0.16161616161616163,
          0.17171717171717174,
          0.18181818181818182,
          0.19191919191919193,
          0.20202020202020204,
          0.21212121212121213,
          0.22222222222222224,
          0.23232323232323235,
          0.24242424242424243,
          0.25252525252525254,
          0.26262626262626265,
          0.27272727272727276,
          0.2828282828282829,
          0.29292929292929293,
          0.30303030303030304,
          0.31313131313131315,
          0.32323232323232326,
          0.33333333333333337,
          0.3434343434343435,
          0.3535353535353536,
          0.36363636363636365,
          0.37373737373737376,
          0.38383838383838387,
          0.393939393939394,
          0.4040404040404041,
          0.4141414141414142,
          0.42424242424242425,
          0.43434343434343436,
          0.4444444444444445,
          0.4545454545454546,
          0.4646464646464647,
          0.4747474747474748,
          0.48484848484848486,
          0.494949494949495,
          0.5050505050505051,
          0.5151515151515152,
          0.5252525252525253,
          0.5353535353535354,
          0.5454545454545455,
          0.5555555555555556,
          0.5656565656565657,
          0.5757575757575758,
          0.5858585858585859,
          0.595959595959596,
          0.6060606060606061,
          0.6161616161616162,
          0.6262626262626263,
          0.6363636363636365,
          0.6464646464646465,
          0.6565656565656566,
          0.6666666666666667,
          0.6767676767676768,
          0.686868686868687,
          0.696969696969697,
          0.7070707070707072,
          0.7171717171717172,
          0.7272727272727273,
          0.7373737373737375,
          0.7474747474747475,
          0.7575757575757577,
          0.7676767676767677,
          0.7777777777777778,
          0.787878787878788,
          0.797979797979798,
          0.8080808080808082,
          0.8181818181818182,
          0.8282828282828284,
          0.8383838383838385,
          0.8484848484848485,
          0.8585858585858587,
          0.8686868686868687,
          0.8787878787878789,
          0.888888888888889,
          0.8989898989898991,
          0.9090909090909092,
          0.9191919191919192,
          0.9292929292929294,
          0.9393939393939394,
          0.9494949494949496,
          0.9595959595959597,
          0.9696969696969697,
          0.9797979797979799,
          0.98989898989899,
          1
         ],
         "y": [
          0,
          0.75,
          0.75,
          0.75,
          0.75,
          0.75,
          0.75,
          0.75,
          0.75,
          0.75,
          0.75,
          0.75,
          0.75,
          0.75,
          0.75,
          0.75,
          0.75,
          0.85,
          0.85,
          0.85,
          0.9,
          0.9,
          0.9,
          0.9,
          0.9,
          0.9,
          0.9,
          0.9,
          0.9,
          0.9,
          0.9,
          0.9,
          0.9,
          0.9,
          0.9,
          0.9,
          0.9,
          0.9,
          0.9,
          0.9,
          1,
          1,
          1,
          1,
          1,
          1,
          1,
          1,
          1,
          1,
          1,
          1,
          1,
          1,
          1,
          1,
          1,
          1,
          1,
          1,
          1,
          1,
          1,
          1,
          1,
          1,
          1,
          1,
          1,
          1,
          1,
          1,
          1,
          1,
          1,
          1,
          1,
          1,
          1,
          1,
          1,
          1,
          1,
          1,
          1,
          1,
          1,
          1,
          1,
          1,
          1,
          1,
          1,
          1,
          1,
          1,
          1,
          1,
          1,
          1
         ]
        }
       ],
       "layout": {
        "height": 500,
        "legend": {
         "x": 0.95,
         "xanchor": "right",
         "y": 0.01,
         "yanchor": "bottom"
        },
        "shapes": [
         {
          "line": {
           "dash": "dash"
          },
          "type": "line",
          "x0": 0,
          "x1": 1,
          "y0": 0,
          "y1": 1
         }
        ],
        "template": {
         "data": {
          "bar": [
           {
            "error_x": {
             "color": "#2a3f5f"
            },
            "error_y": {
             "color": "#2a3f5f"
            },
            "marker": {
             "line": {
              "color": "white",
              "width": 0.5
             },
             "pattern": {
              "fillmode": "overlay",
              "size": 10,
              "solidity": 0.2
             }
            },
            "type": "bar"
           }
          ],
          "barpolar": [
           {
            "marker": {
             "line": {
              "color": "white",
              "width": 0.5
             },
             "pattern": {
              "fillmode": "overlay",
              "size": 10,
              "solidity": 0.2
             }
            },
            "type": "barpolar"
           }
          ],
          "carpet": [
           {
            "aaxis": {
             "endlinecolor": "#2a3f5f",
             "gridcolor": "#C8D4E3",
             "linecolor": "#C8D4E3",
             "minorgridcolor": "#C8D4E3",
             "startlinecolor": "#2a3f5f"
            },
            "baxis": {
             "endlinecolor": "#2a3f5f",
             "gridcolor": "#C8D4E3",
             "linecolor": "#C8D4E3",
             "minorgridcolor": "#C8D4E3",
             "startlinecolor": "#2a3f5f"
            },
            "type": "carpet"
           }
          ],
          "choropleth": [
           {
            "colorbar": {
             "outlinewidth": 0,
             "ticks": ""
            },
            "type": "choropleth"
           }
          ],
          "contour": [
           {
            "colorbar": {
             "outlinewidth": 0,
             "ticks": ""
            },
            "colorscale": [
             [
              0,
              "#0d0887"
             ],
             [
              0.1111111111111111,
              "#46039f"
             ],
             [
              0.2222222222222222,
              "#7201a8"
             ],
             [
              0.3333333333333333,
              "#9c179e"
             ],
             [
              0.4444444444444444,
              "#bd3786"
             ],
             [
              0.5555555555555556,
              "#d8576b"
             ],
             [
              0.6666666666666666,
              "#ed7953"
             ],
             [
              0.7777777777777778,
              "#fb9f3a"
             ],
             [
              0.8888888888888888,
              "#fdca26"
             ],
             [
              1,
              "#f0f921"
             ]
            ],
            "type": "contour"
           }
          ],
          "contourcarpet": [
           {
            "colorbar": {
             "outlinewidth": 0,
             "ticks": ""
            },
            "type": "contourcarpet"
           }
          ],
          "heatmap": [
           {
            "colorbar": {
             "outlinewidth": 0,
             "ticks": ""
            },
            "colorscale": [
             [
              0,
              "#0d0887"
             ],
             [
              0.1111111111111111,
              "#46039f"
             ],
             [
              0.2222222222222222,
              "#7201a8"
             ],
             [
              0.3333333333333333,
              "#9c179e"
             ],
             [
              0.4444444444444444,
              "#bd3786"
             ],
             [
              0.5555555555555556,
              "#d8576b"
             ],
             [
              0.6666666666666666,
              "#ed7953"
             ],
             [
              0.7777777777777778,
              "#fb9f3a"
             ],
             [
              0.8888888888888888,
              "#fdca26"
             ],
             [
              1,
              "#f0f921"
             ]
            ],
            "type": "heatmap"
           }
          ],
          "heatmapgl": [
           {
            "colorbar": {
             "outlinewidth": 0,
             "ticks": ""
            },
            "colorscale": [
             [
              0,
              "#0d0887"
             ],
             [
              0.1111111111111111,
              "#46039f"
             ],
             [
              0.2222222222222222,
              "#7201a8"
             ],
             [
              0.3333333333333333,
              "#9c179e"
             ],
             [
              0.4444444444444444,
              "#bd3786"
             ],
             [
              0.5555555555555556,
              "#d8576b"
             ],
             [
              0.6666666666666666,
              "#ed7953"
             ],
             [
              0.7777777777777778,
              "#fb9f3a"
             ],
             [
              0.8888888888888888,
              "#fdca26"
             ],
             [
              1,
              "#f0f921"
             ]
            ],
            "type": "heatmapgl"
           }
          ],
          "histogram": [
           {
            "marker": {
             "pattern": {
              "fillmode": "overlay",
              "size": 10,
              "solidity": 0.2
             }
            },
            "type": "histogram"
           }
          ],
          "histogram2d": [
           {
            "colorbar": {
             "outlinewidth": 0,
             "ticks": ""
            },
            "colorscale": [
             [
              0,
              "#0d0887"
             ],
             [
              0.1111111111111111,
              "#46039f"
             ],
             [
              0.2222222222222222,
              "#7201a8"
             ],
             [
              0.3333333333333333,
              "#9c179e"
             ],
             [
              0.4444444444444444,
              "#bd3786"
             ],
             [
              0.5555555555555556,
              "#d8576b"
             ],
             [
              0.6666666666666666,
              "#ed7953"
             ],
             [
              0.7777777777777778,
              "#fb9f3a"
             ],
             [
              0.8888888888888888,
              "#fdca26"
             ],
             [
              1,
              "#f0f921"
             ]
            ],
            "type": "histogram2d"
           }
          ],
          "histogram2dcontour": [
           {
            "colorbar": {
             "outlinewidth": 0,
             "ticks": ""
            },
            "colorscale": [
             [
              0,
              "#0d0887"
             ],
             [
              0.1111111111111111,
              "#46039f"
             ],
             [
              0.2222222222222222,
              "#7201a8"
             ],
             [
              0.3333333333333333,
              "#9c179e"
             ],
             [
              0.4444444444444444,
              "#bd3786"
             ],
             [
              0.5555555555555556,
              "#d8576b"
             ],
             [
              0.6666666666666666,
              "#ed7953"
             ],
             [
              0.7777777777777778,
              "#fb9f3a"
             ],
             [
              0.8888888888888888,
              "#fdca26"
             ],
             [
              1,
              "#f0f921"
             ]
            ],
            "type": "histogram2dcontour"
           }
          ],
          "mesh3d": [
           {
            "colorbar": {
             "outlinewidth": 0,
             "ticks": ""
            },
            "type": "mesh3d"
           }
          ],
          "parcoords": [
           {
            "line": {
             "colorbar": {
              "outlinewidth": 0,
              "ticks": ""
             }
            },
            "type": "parcoords"
           }
          ],
          "pie": [
           {
            "automargin": true,
            "type": "pie"
           }
          ],
          "scatter": [
           {
            "fillpattern": {
             "fillmode": "overlay",
             "size": 10,
             "solidity": 0.2
            },
            "type": "scatter"
           }
          ],
          "scatter3d": [
           {
            "line": {
             "colorbar": {
              "outlinewidth": 0,
              "ticks": ""
             }
            },
            "marker": {
             "colorbar": {
              "outlinewidth": 0,
              "ticks": ""
             }
            },
            "type": "scatter3d"
           }
          ],
          "scattercarpet": [
           {
            "marker": {
             "colorbar": {
              "outlinewidth": 0,
              "ticks": ""
             }
            },
            "type": "scattercarpet"
           }
          ],
          "scattergeo": [
           {
            "marker": {
             "colorbar": {
              "outlinewidth": 0,
              "ticks": ""
             }
            },
            "type": "scattergeo"
           }
          ],
          "scattergl": [
           {
            "marker": {
             "colorbar": {
              "outlinewidth": 0,
              "ticks": ""
             }
            },
            "type": "scattergl"
           }
          ],
          "scattermapbox": [
           {
            "marker": {
             "colorbar": {
              "outlinewidth": 0,
              "ticks": ""
             }
            },
            "type": "scattermapbox"
           }
          ],
          "scatterpolar": [
           {
            "marker": {
             "colorbar": {
              "outlinewidth": 0,
              "ticks": ""
             }
            },
            "type": "scatterpolar"
           }
          ],
          "scatterpolargl": [
           {
            "marker": {
             "colorbar": {
              "outlinewidth": 0,
              "ticks": ""
             }
            },
            "type": "scatterpolargl"
           }
          ],
          "scatterternary": [
           {
            "marker": {
             "colorbar": {
              "outlinewidth": 0,
              "ticks": ""
             }
            },
            "type": "scatterternary"
           }
          ],
          "surface": [
           {
            "colorbar": {
             "outlinewidth": 0,
             "ticks": ""
            },
            "colorscale": [
             [
              0,
              "#0d0887"
             ],
             [
              0.1111111111111111,
              "#46039f"
             ],
             [
              0.2222222222222222,
              "#7201a8"
             ],
             [
              0.3333333333333333,
              "#9c179e"
             ],
             [
              0.4444444444444444,
              "#bd3786"
             ],
             [
              0.5555555555555556,
              "#d8576b"
             ],
             [
              0.6666666666666666,
              "#ed7953"
             ],
             [
              0.7777777777777778,
              "#fb9f3a"
             ],
             [
              0.8888888888888888,
              "#fdca26"
             ],
             [
              1,
              "#f0f921"
             ]
            ],
            "type": "surface"
           }
          ],
          "table": [
           {
            "cells": {
             "fill": {
              "color": "#EBF0F8"
             },
             "line": {
              "color": "white"
             }
            },
            "header": {
             "fill": {
              "color": "#C8D4E3"
             },
             "line": {
              "color": "white"
             }
            },
            "type": "table"
           }
          ]
         },
         "layout": {
          "annotationdefaults": {
           "arrowcolor": "#2a3f5f",
           "arrowhead": 0,
           "arrowwidth": 1
          },
          "autotypenumbers": "strict",
          "coloraxis": {
           "colorbar": {
            "outlinewidth": 0,
            "ticks": ""
           }
          },
          "colorscale": {
           "diverging": [
            [
             0,
             "#8e0152"
            ],
            [
             0.1,
             "#c51b7d"
            ],
            [
             0.2,
             "#de77ae"
            ],
            [
             0.3,
             "#f1b6da"
            ],
            [
             0.4,
             "#fde0ef"
            ],
            [
             0.5,
             "#f7f7f7"
            ],
            [
             0.6,
             "#e6f5d0"
            ],
            [
             0.7,
             "#b8e186"
            ],
            [
             0.8,
             "#7fbc41"
            ],
            [
             0.9,
             "#4d9221"
            ],
            [
             1,
             "#276419"
            ]
           ],
           "sequential": [
            [
             0,
             "#0d0887"
            ],
            [
             0.1111111111111111,
             "#46039f"
            ],
            [
             0.2222222222222222,
             "#7201a8"
            ],
            [
             0.3333333333333333,
             "#9c179e"
            ],
            [
             0.4444444444444444,
             "#bd3786"
            ],
            [
             0.5555555555555556,
             "#d8576b"
            ],
            [
             0.6666666666666666,
             "#ed7953"
            ],
            [
             0.7777777777777778,
             "#fb9f3a"
            ],
            [
             0.8888888888888888,
             "#fdca26"
            ],
            [
             1,
             "#f0f921"
            ]
           ],
           "sequentialminus": [
            [
             0,
             "#0d0887"
            ],
            [
             0.1111111111111111,
             "#46039f"
            ],
            [
             0.2222222222222222,
             "#7201a8"
            ],
            [
             0.3333333333333333,
             "#9c179e"
            ],
            [
             0.4444444444444444,
             "#bd3786"
            ],
            [
             0.5555555555555556,
             "#d8576b"
            ],
            [
             0.6666666666666666,
             "#ed7953"
            ],
            [
             0.7777777777777778,
             "#fb9f3a"
            ],
            [
             0.8888888888888888,
             "#fdca26"
            ],
            [
             1,
             "#f0f921"
            ]
           ]
          },
          "colorway": [
           "#636efa",
           "#EF553B",
           "#00cc96",
           "#ab63fa",
           "#FFA15A",
           "#19d3f3",
           "#FF6692",
           "#B6E880",
           "#FF97FF",
           "#FECB52"
          ],
          "font": {
           "color": "#2a3f5f"
          },
          "geo": {
           "bgcolor": "white",
           "lakecolor": "white",
           "landcolor": "white",
           "showlakes": true,
           "showland": true,
           "subunitcolor": "#C8D4E3"
          },
          "hoverlabel": {
           "align": "left"
          },
          "hovermode": "closest",
          "mapbox": {
           "style": "light"
          },
          "paper_bgcolor": "white",
          "plot_bgcolor": "white",
          "polar": {
           "angularaxis": {
            "gridcolor": "#EBF0F8",
            "linecolor": "#EBF0F8",
            "ticks": ""
           },
           "bgcolor": "white",
           "radialaxis": {
            "gridcolor": "#EBF0F8",
            "linecolor": "#EBF0F8",
            "ticks": ""
           }
          },
          "scene": {
           "xaxis": {
            "backgroundcolor": "white",
            "gridcolor": "#DFE8F3",
            "gridwidth": 2,
            "linecolor": "#EBF0F8",
            "showbackground": true,
            "ticks": "",
            "zerolinecolor": "#EBF0F8"
           },
           "yaxis": {
            "backgroundcolor": "white",
            "gridcolor": "#DFE8F3",
            "gridwidth": 2,
            "linecolor": "#EBF0F8",
            "showbackground": true,
            "ticks": "",
            "zerolinecolor": "#EBF0F8"
           },
           "zaxis": {
            "backgroundcolor": "white",
            "gridcolor": "#DFE8F3",
            "gridwidth": 2,
            "linecolor": "#EBF0F8",
            "showbackground": true,
            "ticks": "",
            "zerolinecolor": "#EBF0F8"
           }
          },
          "shapedefaults": {
           "line": {
            "color": "#2a3f5f"
           }
          },
          "ternary": {
           "aaxis": {
            "gridcolor": "#DFE8F3",
            "linecolor": "#A2B1C6",
            "ticks": ""
           },
           "baxis": {
            "gridcolor": "#DFE8F3",
            "linecolor": "#A2B1C6",
            "ticks": ""
           },
           "bgcolor": "white",
           "caxis": {
            "gridcolor": "#DFE8F3",
            "linecolor": "#A2B1C6",
            "ticks": ""
           }
          },
          "title": {
           "x": 0.05
          },
          "xaxis": {
           "automargin": true,
           "gridcolor": "#EBF0F8",
           "linecolor": "#EBF0F8",
           "ticks": "",
           "title": {
            "standoff": 15
           },
           "zerolinecolor": "#EBF0F8",
           "zerolinewidth": 2
          },
          "yaxis": {
           "automargin": true,
           "gridcolor": "#EBF0F8",
           "linecolor": "#EBF0F8",
           "ticks": "",
           "title": {
            "standoff": 15
           },
           "zerolinecolor": "#EBF0F8",
           "zerolinewidth": 2
          }
         }
        },
        "title": {
         "text": "Dose 3 Positive"
        },
        "width": 500,
        "xaxis": {
         "constrain": "domain",
         "domain": [
          0.02941176470588236,
          0.9705882352941176
         ],
         "linecolor": "black",
         "range": [
          0,
          1
         ],
         "title": {
          "text": "False Positive Rate"
         },
         "type": "linear"
        },
        "yaxis": {
         "domain": [
          0,
          1
         ],
         "linecolor": "black",
         "range": [
          0,
          1
         ],
         "scaleanchor": "x",
         "scaleratio": 1,
         "title": {
          "text": "True Positive Rate"
         },
         "type": "linear"
        }
       }
      },
      "image/png": "[encoded data removed]",
      "text/html": [
       "<div>                            <div id=\"f3b329f6-0e64-4436-8b00-1174a49d4996\" class=\"plotly-graph-div\" style=\"height:500px; width:500px;\"></div>            <script type=\"text/javascript\">                require([\"plotly\"], function(Plotly) {                    window.PLOTLYENV=window.PLOTLYENV || {};                                    if (document.getElementById(\"f3b329f6-0e64-4436-8b00-1174a49d4996\")) {                    Plotly.newPlot(                        \"f3b329f6-0e64-4436-8b00-1174a49d4996\",                        [{\"hoverinfo\":\"skip\",\"line\":{\"color\":\"rgba( 152,52, 219, 0.5)\",\"width\":1},\"name\":\"SD\",\"showlegend\":true,\"x\":[0.0,0.010101010101010102,0.020202020202020204,0.030303030303030304,0.04040404040404041,0.05050505050505051,0.06060606060606061,0.07070707070707072,0.08080808080808081,0.09090909090909091,0.10101010101010102,0.11111111111111112,0.12121212121212122,0.13131313131313133,0.14141414141414144,0.15151515151515152,0.16161616161616163,0.17171717171717174,0.18181818181818182,0.19191919191919193,0.20202020202020204,0.21212121212121213,0.22222222222222224,0.23232323232323235,0.24242424242424243,0.25252525252525254,0.26262626262626265,0.27272727272727276,0.2828282828282829,0.29292929292929293,0.30303030303030304,0.31313131313131315,0.32323232323232326,0.33333333333333337,0.3434343434343435,0.3535353535353536,0.36363636363636365,0.37373737373737376,0.38383838383838387,0.393939393939394,0.4040404040404041,0.4141414141414142,0.42424242424242425,0.43434343434343436,0.4444444444444445,0.4545454545454546,0.4646464646464647,0.4747474747474748,0.48484848484848486,0.494949494949495,0.5050505050505051,0.5151515151515152,0.5252525252525253,0.5353535353535354,0.5454545454545455,0.5555555555555556,0.5656565656565657,0.5757575757575758,0.5858585858585859,0.595959595959596,0.6060606060606061,0.6161616161616162,0.6262626262626263,0.6363636363636365,0.6464646464646465,0.6565656565656566,0.6666666666666667,0.6767676767676768,0.686868686868687,0.696969696969697,0.7070707070707072,0.7171717171717172,0.7272727272727273,0.7373737373737375,0.7474747474747475,0.7575757575757577,0.7676767676767677,0.7777777777777778,0.787878787878788,0.797979797979798,0.8080808080808082,0.8181818181818182,0.8282828282828284,0.8383838383838385,0.8484848484848485,0.8585858585858587,0.8686868686868687,0.8787878787878789,0.888888888888889,0.8989898989898991,0.9090909090909092,0.9191919191919192,0.9292929292929294,0.9393939393939394,0.9494949494949496,0.9595959595959597,0.9696969696969697,0.9797979797979799,0.98989898989899,1.0],\"y\":[0.0,1.0,1.0,1.0,1.0,1.0,1.0,1.0,1.0,1.0,1.0,1.0,1.0,1.0,1.0,1.0,1.0,1.0,1.0,1.0,1.0,1.0,1.0,1.0,1.0,1.0,1.0,1.0,1.0,1.0,1.0,1.0,1.0,1.0,1.0,1.0,1.0,1.0,1.0,1.0,1.0,1.0,1.0,1.0,1.0,1.0,1.0,1.0,1.0,1.0,1.0,1.0,1.0,1.0,1.0,1.0,1.0,1.0,1.0,1.0,1.0,1.0,1.0,1.0,1.0,1.0,1.0,1.0,1.0,1.0,1.0,1.0,1.0,1.0,1.0,1.0,1.0,1.0,1.0,1.0,1.0,1.0,1.0,1.0,1.0,1.0,1.0,1.0,1.0,1.0,1.0,1.0,1.0,1.0,1.0,1.0,1.0,1.0,1.0,1.0],\"type\":\"scatter\"},{\"fill\":\"tonexty\",\"fillcolor\":\"rgba( 152,52, 219, 0.2)\",\"hoverinfo\":\"skip\",\"line\":{\"color\":\"rgba( 152,52, 219, 0.5)\",\"width\":1},\"name\":\"lower\",\"showlegend\":false,\"x\":[0.0,0.010101010101010102,0.020202020202020204,0.030303030303030304,0.04040404040404041,0.05050505050505051,0.06060606060606061,0.07070707070707072,0.08080808080808081,0.09090909090909091,0.10101010101010102,0.11111111111111112,0.12121212121212122,0.13131313131313133,0.14141414141414144,0.15151515151515152,0.16161616161616163,0.17171717171717174,0.18181818181818182,0.19191919191919193,0.20202020202020204,0.21212121212121213,0.22222222222222224,0.23232323232323235,0.24242424242424243,0.25252525252525254,0.26262626262626265,0.27272727272727276,0.2828282828282829,0.29292929292929293,0.30303030303030304,0.31313131313131315,0.32323232323232326,0.33333333333333337,0.3434343434343435,0.3535353535353536,0.36363636363636365,0.37373737373737376,0.38383838383838387,0.393939393939394,0.4040404040404041,0.4141414141414142,0.42424242424242425,0.43434343434343436,0.4444444444444445,0.4545454545454546,0.4646464646464647,0.4747474747474748,0.48484848484848486,0.494949494949495,0.5050505050505051,0.5151515151515152,0.5252525252525253,0.5353535353535354,0.5454545454545455,0.5555555555555556,0.5656565656565657,0.5757575757575758,0.5858585858585859,0.595959595959596,0.6060606060606061,0.6161616161616162,0.6262626262626263,0.6363636363636365,0.6464646464646465,0.6565656565656566,0.6666666666666667,0.6767676767676768,0.686868686868687,0.696969696969697,0.7070707070707072,0.7171717171717172,0.7272727272727273,0.7373737373737375,0.7474747474747475,0.7575757575757577,0.7676767676767677,0.7777777777777778,0.787878787878788,0.797979797979798,0.8080808080808082,0.8181818181818182,0.8282828282828284,0.8383838383838385,0.8484848484848485,0.8585858585858587,0.8686868686868687,0.8787878787878789,0.888888888888889,0.8989898989898991,0.9090909090909092,0.9191919191919192,0.9292929292929294,0.9393939393939394,0.9494949494949496,0.9595959595959597,0.9696969696969697,0.9797979797979799,0.98989898989899,1.0],\"y\":[0.0,0.41458980337503154,0.41458980337503154,0.41458980337503154,0.41458980337503154,0.41458980337503154,0.41458980337503154,0.41458980337503154,0.41458980337503154,0.41458980337503154,0.41458980337503154,0.41458980337503154,0.41458980337503154,0.41458980337503154,0.41458980337503154,0.41458980337503154,0.41458980337503154,0.5298437881283575,0.5298437881283575,0.5298437881283575,0.6000000000000001,0.6000000000000001,0.6000000000000001,0.6000000000000001,0.6000000000000001,0.6000000000000001,0.6000000000000001,0.6000000000000001,0.6000000000000001,0.6000000000000001,0.6000000000000001,0.6000000000000001,0.6000000000000001,0.6000000000000001,0.6000000000000001,0.6000000000000001,0.6000000000000001,0.6000000000000001,0.6000000000000001,0.6000000000000001,1.0,1.0,1.0,1.0,1.0,1.0,1.0,1.0,1.0,1.0,1.0,1.0,1.0,1.0,1.0,1.0,1.0,1.0,1.0,1.0,1.0,1.0,1.0,1.0,1.0,1.0,1.0,1.0,1.0,1.0,1.0,1.0,1.0,1.0,1.0,1.0,1.0,1.0,1.0,1.0,1.0,1.0,1.0,1.0,1.0,1.0,1.0,1.0,1.0,1.0,1.0,1.0,1.0,1.0,1.0,1.0,1.0,1.0,1.0,1.0],\"type\":\"scatter\"},{\"hoverinfo\":\"skip\",\"line\":{\"color\":\"rgba( 128,41, 185, 1.0)\",\"width\":2},\"name\":\"AUC: 0.933\",\"showlegend\":true,\"x\":[0.0,0.010101010101010102,0.020202020202020204,0.030303030303030304,0.04040404040404041,0.05050505050505051,0.06060606060606061,0.07070707070707072,0.08080808080808081,0.09090909090909091,0.10101010101010102,0.11111111111111112,0.12121212121212122,0.13131313131313133,0.14141414141414144,0.15151515151515152,0.16161616161616163,0.17171717171717174,0.18181818181818182,0.19191919191919193,0.20202020202020204,0.21212121212121213,0.22222222222222224,0.23232323232323235,0.24242424242424243,0.25252525252525254,0.26262626262626265,0.27272727272727276,0.2828282828282829,0.29292929292929293,0.30303030303030304,0.31313131313131315,0.32323232323232326,0.33333333333333337,0.3434343434343435,0.3535353535353536,0.36363636363636365,0.37373737373737376,0.38383838383838387,0.393939393939394,0.4040404040404041,0.4141414141414142,0.42424242424242425,0.43434343434343436,0.4444444444444445,0.4545454545454546,0.4646464646464647,0.4747474747474748,0.48484848484848486,0.494949494949495,0.5050505050505051,0.5151515151515152,0.5252525252525253,0.5353535353535354,0.5454545454545455,0.5555555555555556,0.5656565656565657,0.5757575757575758,0.5858585858585859,0.595959595959596,0.6060606060606061,0.6161616161616162,0.6262626262626263,0.6363636363636365,0.6464646464646465,0.6565656565656566,0.6666666666666667,0.6767676767676768,0.686868686868687,0.696969696969697,0.7070707070707072,0.7171717171717172,0.7272727272727273,0.7373737373737375,0.7474747474747475,0.7575757575757577,0.7676767676767677,0.7777777777777778,0.787878787878788,0.797979797979798,0.8080808080808082,0.8181818181818182,0.8282828282828284,0.8383838383838385,0.8484848484848485,0.8585858585858587,0.8686868686868687,0.8787878787878789,0.888888888888889,0.8989898989898991,0.9090909090909092,0.9191919191919192,0.9292929292929294,0.9393939393939394,0.9494949494949496,0.9595959595959597,0.9696969696969697,0.9797979797979799,0.98989898989899,1.0],\"y\":[0.0,0.75,0.75,0.75,0.75,0.75,0.75,0.75,0.75,0.75,0.75,0.75,0.75,0.75,0.75,0.75,0.75,0.85,0.85,0.85,0.9,0.9,0.9,0.9,0.9,0.9,0.9,0.9,0.9,0.9,0.9,0.9,0.9,0.9,0.9,0.9,0.9,0.9,0.9,0.9,1.0,1.0,1.0,1.0,1.0,1.0,1.0,1.0,1.0,1.0,1.0,1.0,1.0,1.0,1.0,1.0,1.0,1.0,1.0,1.0,1.0,1.0,1.0,1.0,1.0,1.0,1.0,1.0,1.0,1.0,1.0,1.0,1.0,1.0,1.0,1.0,1.0,1.0,1.0,1.0,1.0,1.0,1.0,1.0,1.0,1.0,1.0,1.0,1.0,1.0,1.0,1.0,1.0,1.0,1.0,1.0,1.0,1.0,1.0,1.0],\"type\":\"scatter\"}],                        {\"template\":{\"data\":{\"barpolar\":[{\"marker\":{\"line\":{\"color\":\"white\",\"width\":0.5},\"pattern\":{\"fillmode\":\"overlay\",\"size\":10,\"solidity\":0.2}},\"type\":\"barpolar\"}],\"bar\":[{\"error_x\":{\"color\":\"#2a3f5f\"},\"error_y\":{\"color\":\"#2a3f5f\"},\"marker\":{\"line\":{\"color\":\"white\",\"width\":0.5},\"pattern\":{\"fillmode\":\"overlay\",\"size\":10,\"solidity\":0.2}},\"type\":\"bar\"}],\"carpet\":[{\"aaxis\":{\"endlinecolor\":\"#2a3f5f\",\"gridcolor\":\"#C8D4E3\",\"linecolor\":\"#C8D4E3\",\"minorgridcolor\":\"#C8D4E3\",\"startlinecolor\":\"#2a3f5f\"},\"baxis\":{\"endlinecolor\":\"#2a3f5f\",\"gridcolor\":\"#C8D4E3\",\"linecolor\":\"#C8D4E3\",\"minorgridcolor\":\"#C8D4E3\",\"startlinecolor\":\"#2a3f5f\"},\"type\":\"carpet\"}],\"choropleth\":[{\"colorbar\":{\"outlinewidth\":0,\"ticks\":\"\"},\"type\":\"choropleth\"}],\"contourcarpet\":[{\"colorbar\":{\"outlinewidth\":0,\"ticks\":\"\"},\"type\":\"contourcarpet\"}],\"contour\":[{\"colorbar\":{\"outlinewidth\":0,\"ticks\":\"\"},\"colorscale\":[[0.0,\"#0d0887\"],[0.1111111111111111,\"#46039f\"],[0.2222222222222222,\"#7201a8\"],[0.3333333333333333,\"#9c179e\"],[0.4444444444444444,\"#bd3786\"],[0.5555555555555556,\"#d8576b\"],[0.6666666666666666,\"#ed7953\"],[0.7777777777777778,\"#fb9f3a\"],[0.8888888888888888,\"#fdca26\"],[1.0,\"#f0f921\"]],\"type\":\"contour\"}],\"heatmapgl\":[{\"colorbar\":{\"outlinewidth\":0,\"ticks\":\"\"},\"colorscale\":[[0.0,\"#0d0887\"],[0.1111111111111111,\"#46039f\"],[0.2222222222222222,\"#7201a8\"],[0.3333333333333333,\"#9c179e\"],[0.4444444444444444,\"#bd3786\"],[0.5555555555555556,\"#d8576b\"],[0.6666666666666666,\"#ed7953\"],[0.7777777777777778,\"#fb9f3a\"],[0.8888888888888888,\"#fdca26\"],[1.0,\"#f0f921\"]],\"type\":\"heatmapgl\"}],\"heatmap\":[{\"colorbar\":{\"outlinewidth\":0,\"ticks\":\"\"},\"colorscale\":[[0.0,\"#0d0887\"],[0.1111111111111111,\"#46039f\"],[0.2222222222222222,\"#7201a8\"],[0.3333333333333333,\"#9c179e\"],[0.4444444444444444,\"#bd3786\"],[0.5555555555555556,\"#d8576b\"],[0.6666666666666666,\"#ed7953\"],[0.7777777777777778,\"#fb9f3a\"],[0.8888888888888888,\"#fdca26\"],[1.0,\"#f0f921\"]],\"type\":\"heatmap\"}],\"histogram2dcontour\":[{\"colorbar\":{\"outlinewidth\":0,\"ticks\":\"\"},\"colorscale\":[[0.0,\"#0d0887\"],[0.1111111111111111,\"#46039f\"],[0.2222222222222222,\"#7201a8\"],[0.3333333333333333,\"#9c179e\"],[0.4444444444444444,\"#bd3786\"],[0.5555555555555556,\"#d8576b\"],[0.6666666666666666,\"#ed7953\"],[0.7777777777777778,\"#fb9f3a\"],[0.8888888888888888,\"#fdca26\"],[1.0,\"#f0f921\"]],\"type\":\"histogram2dcontour\"}],\"histogram2d\":[{\"colorbar\":{\"outlinewidth\":0,\"ticks\":\"\"},\"colorscale\":[[0.0,\"#0d0887\"],[0.1111111111111111,\"#46039f\"],[0.2222222222222222,\"#7201a8\"],[0.3333333333333333,\"#9c179e\"],[0.4444444444444444,\"#bd3786\"],[0.5555555555555556,\"#d8576b\"],[0.6666666666666666,\"#ed7953\"],[0.7777777777777778,\"#fb9f3a\"],[0.8888888888888888,\"#fdca26\"],[1.0,\"#f0f921\"]],\"type\":\"histogram2d\"}],\"histogram\":[{\"marker\":{\"pattern\":{\"fillmode\":\"overlay\",\"size\":10,\"solidity\":0.2}},\"type\":\"histogram\"}],\"mesh3d\":[{\"colorbar\":{\"outlinewidth\":0,\"ticks\":\"\"},\"type\":\"mesh3d\"}],\"parcoords\":[{\"line\":{\"colorbar\":{\"outlinewidth\":0,\"ticks\":\"\"}},\"type\":\"parcoords\"}],\"pie\":[{\"automargin\":true,\"type\":\"pie\"}],\"scatter3d\":[{\"line\":{\"colorbar\":{\"outlinewidth\":0,\"ticks\":\"\"}},\"marker\":{\"colorbar\":{\"outlinewidth\":0,\"ticks\":\"\"}},\"type\":\"scatter3d\"}],\"scattercarpet\":[{\"marker\":{\"colorbar\":{\"outlinewidth\":0,\"ticks\":\"\"}},\"type\":\"scattercarpet\"}],\"scattergeo\":[{\"marker\":{\"colorbar\":{\"outlinewidth\":0,\"ticks\":\"\"}},\"type\":\"scattergeo\"}],\"scattergl\":[{\"marker\":{\"colorbar\":{\"outlinewidth\":0,\"ticks\":\"\"}},\"type\":\"scattergl\"}],\"scattermapbox\":[{\"marker\":{\"colorbar\":{\"outlinewidth\":0,\"ticks\":\"\"}},\"type\":\"scattermapbox\"}],\"scatterpolargl\":[{\"marker\":{\"colorbar\":{\"outlinewidth\":0,\"ticks\":\"\"}},\"type\":\"scatterpolargl\"}],\"scatterpolar\":[{\"marker\":{\"colorbar\":{\"outlinewidth\":0,\"ticks\":\"\"}},\"type\":\"scatterpolar\"}],\"scatter\":[{\"fillpattern\":{\"fillmode\":\"overlay\",\"size\":10,\"solidity\":0.2},\"type\":\"scatter\"}],\"scatterternary\":[{\"marker\":{\"colorbar\":{\"outlinewidth\":0,\"ticks\":\"\"}},\"type\":\"scatterternary\"}],\"surface\":[{\"colorbar\":{\"outlinewidth\":0,\"ticks\":\"\"},\"colorscale\":[[0.0,\"#0d0887\"],[0.1111111111111111,\"#46039f\"],[0.2222222222222222,\"#7201a8\"],[0.3333333333333333,\"#9c179e\"],[0.4444444444444444,\"#bd3786\"],[0.5555555555555556,\"#d8576b\"],[0.6666666666666666,\"#ed7953\"],[0.7777777777777778,\"#fb9f3a\"],[0.8888888888888888,\"#fdca26\"],[1.0,\"#f0f921\"]],\"type\":\"surface\"}],\"table\":[{\"cells\":{\"fill\":{\"color\":\"#EBF0F8\"},\"line\":{\"color\":\"white\"}},\"header\":{\"fill\":{\"color\":\"#C8D4E3\"},\"line\":{\"color\":\"white\"}},\"type\":\"table\"}]},\"layout\":{\"annotationdefaults\":{\"arrowcolor\":\"#2a3f5f\",\"arrowhead\":0,\"arrowwidth\":1},\"autotypenumbers\":\"strict\",\"coloraxis\":{\"colorbar\":{\"outlinewidth\":0,\"ticks\":\"\"}},\"colorscale\":{\"diverging\":[[0,\"#8e0152\"],[0.1,\"#c51b7d\"],[0.2,\"#de77ae\"],[0.3,\"#f1b6da\"],[0.4,\"#fde0ef\"],[0.5,\"#f7f7f7\"],[0.6,\"#e6f5d0\"],[0.7,\"#b8e186\"],[0.8,\"#7fbc41\"],[0.9,\"#4d9221\"],[1,\"#276419\"]],\"sequential\":[[0.0,\"#0d0887\"],[0.1111111111111111,\"#46039f\"],[0.2222222222222222,\"#7201a8\"],[0.3333333333333333,\"#9c179e\"],[0.4444444444444444,\"#bd3786\"],[0.5555555555555556,\"#d8576b\"],[0.6666666666666666,\"#ed7953\"],[0.7777777777777778,\"#fb9f3a\"],[0.8888888888888888,\"#fdca26\"],[1.0,\"#f0f921\"]],\"sequentialminus\":[[0.0,\"#0d0887\"],[0.1111111111111111,\"#46039f\"],[0.2222222222222222,\"#7201a8\"],[0.3333333333333333,\"#9c179e\"],[0.4444444444444444,\"#bd3786\"],[0.5555555555555556,\"#d8576b\"],[0.6666666666666666,\"#ed7953\"],[0.7777777777777778,\"#fb9f3a\"],[0.8888888888888888,\"#fdca26\"],[1.0,\"#f0f921\"]]},\"colorway\":[\"#636efa\",\"#EF553B\",\"#00cc96\",\"#ab63fa\",\"#FFA15A\",\"#19d3f3\",\"#FF6692\",\"#B6E880\",\"#FF97FF\",\"#FECB52\"],\"font\":{\"color\":\"#2a3f5f\"},\"geo\":{\"bgcolor\":\"white\",\"lakecolor\":\"white\",\"landcolor\":\"white\",\"showlakes\":true,\"showland\":true,\"subunitcolor\":\"#C8D4E3\"},\"hoverlabel\":{\"align\":\"left\"},\"hovermode\":\"closest\",\"mapbox\":{\"style\":\"light\"},\"paper_bgcolor\":\"white\",\"plot_bgcolor\":\"white\",\"polar\":{\"angularaxis\":{\"gridcolor\":\"#EBF0F8\",\"linecolor\":\"#EBF0F8\",\"ticks\":\"\"},\"bgcolor\":\"white\",\"radialaxis\":{\"gridcolor\":\"#EBF0F8\",\"linecolor\":\"#EBF0F8\",\"ticks\":\"\"}},\"scene\":{\"xaxis\":{\"backgroundcolor\":\"white\",\"gridcolor\":\"#DFE8F3\",\"gridwidth\":2,\"linecolor\":\"#EBF0F8\",\"showbackground\":true,\"ticks\":\"\",\"zerolinecolor\":\"#EBF0F8\"},\"yaxis\":{\"backgroundcolor\":\"white\",\"gridcolor\":\"#DFE8F3\",\"gridwidth\":2,\"linecolor\":\"#EBF0F8\",\"showbackground\":true,\"ticks\":\"\",\"zerolinecolor\":\"#EBF0F8\"},\"zaxis\":{\"backgroundcolor\":\"white\",\"gridcolor\":\"#DFE8F3\",\"gridwidth\":2,\"linecolor\":\"#EBF0F8\",\"showbackground\":true,\"ticks\":\"\",\"zerolinecolor\":\"#EBF0F8\"}},\"shapedefaults\":{\"line\":{\"color\":\"#2a3f5f\"}},\"ternary\":{\"aaxis\":{\"gridcolor\":\"#DFE8F3\",\"linecolor\":\"#A2B1C6\",\"ticks\":\"\"},\"baxis\":{\"gridcolor\":\"#DFE8F3\",\"linecolor\":\"#A2B1C6\",\"ticks\":\"\"},\"bgcolor\":\"white\",\"caxis\":{\"gridcolor\":\"#DFE8F3\",\"linecolor\":\"#A2B1C6\",\"ticks\":\"\"}},\"title\":{\"x\":0.05},\"xaxis\":{\"automargin\":true,\"gridcolor\":\"#EBF0F8\",\"linecolor\":\"#EBF0F8\",\"ticks\":\"\",\"title\":{\"standoff\":15},\"zerolinecolor\":\"#EBF0F8\",\"zerolinewidth\":2},\"yaxis\":{\"automargin\":true,\"gridcolor\":\"#EBF0F8\",\"linecolor\":\"#EBF0F8\",\"ticks\":\"\",\"title\":{\"standoff\":15},\"zerolinecolor\":\"#EBF0F8\",\"zerolinewidth\":2}}},\"shapes\":[{\"line\":{\"dash\":\"dash\"},\"type\":\"line\",\"x0\":0,\"x1\":1,\"y0\":0,\"y1\":1}],\"title\":{\"text\":\"Dose 3 Positive\"},\"legend\":{\"yanchor\":\"bottom\",\"xanchor\":\"right\",\"x\":0.95,\"y\":0.01},\"xaxis\":{\"title\":{\"text\":\"False Positive Rate\"},\"range\":[0,1],\"constrain\":\"domain\",\"linecolor\":\"black\"},\"yaxis\":{\"title\":{\"text\":\"True Positive Rate\"},\"range\":[0,1],\"scaleanchor\":\"x\",\"scaleratio\":1,\"linecolor\":\"black\"},\"width\":500,\"height\":500},                        {\"responsive\": true}                    ).then(function(){\n",
       "                            \n",
       "var gd = document.getElementById('f3b329f6-0e64-4436-8b00-1174a49d4996');\n",
       "var x = new MutationObserver(function (mutations, observer) {{\n",
       "        var display = window.getComputedStyle(gd).display;\n",
       "        if (!display || display === 'none') {{\n",
       "            console.log([gd, 'removed!']);\n",
       "            Plotly.purge(gd);\n",
       "            observer.disconnect();\n",
       "        }}\n",
       "}});\n",
       "\n",
       "// Listen for the removal of the full notebook cells\n",
       "var notebookContainer = gd.closest('#notebook-container');\n",
       "if (notebookContainer) {{\n",
       "    x.observe(notebookContainer, {childList: true});\n",
       "}}\n",
       "\n",
       "// Listen for the clearing of the current output cell\n",
       "var outputEl = gd.closest('.output');\n",
       "if (outputEl) {{\n",
       "    x.observe(outputEl, {childList: true});\n",
       "}}\n",
       "\n",
       "                        })                };                });            </script>        </div>"
      ]
     },
     "metadata": {},
     "output_type": "display_data"
    }
   ],
   "source": [
    "c_line      = 'rgba( 152,52, 219, 0.5)'\n",
    "c_fill      = 'rgba( 152,52, 219, 0.2)'\n",
    "c_line_main = 'rgba( 128,41, 185, 1.0)'\n",
    "c_grid      = 'rgba( 195,189, 199, 0.5)'\n",
    "\n",
    "fig4 = go.Figure([\n",
    "    go.Scatter(\n",
    "        x          = fpr_mean,\n",
    "        y          = tpr_upper_d3_p,\n",
    "        line       = dict(color=c_line, width=1),\n",
    "        hoverinfo  = \"skip\",\n",
    "        showlegend = True,\n",
    "        name       = 'SD'),\n",
    "    go.Scatter(\n",
    "        x          = fpr_mean,\n",
    "        y          = tpr_lower_d3_p,\n",
    "        fill       = 'tonexty',\n",
    "        fillcolor  = c_fill,\n",
    "        line       = dict(color=c_line, width=1),\n",
    "        hoverinfo  = \"skip\",\n",
    "        showlegend = False,\n",
    "        name       = 'lower'),\n",
    "    go.Scatter(\n",
    "        x          = fpr_mean,\n",
    "        y          = tpr_mean_d3_p,\n",
    "        line       = dict(color=c_line_main, width=2),\n",
    "        hoverinfo  = \"skip\",\n",
    "        showlegend = True,\n",
    "        name       = 'AUC: 0.933')\n",
    "]\n",
    ")\n",
    "fig4.add_shape(\n",
    "    type ='line', \n",
    "    line =dict(dash='dash'),\n",
    "    x0=0, x1=1, y0=0, y1=1\n",
    ")\n",
    "fig4.update_layout(\n",
    "    template    = 'plotly_white', \n",
    "    title_x     = 0.5,\n",
    "    title = \"Dose 3 Positive\",\n",
    "    xaxis_title = \"False Positive Rate\",\n",
    "    yaxis_title = \"True Positive Rate\",\n",
    "    width       = 500,\n",
    "    height      = 500,\n",
    "    legend      = dict(\n",
    "        yanchor=\"bottom\", \n",
    "        xanchor=\"right\", \n",
    "        x=0.95,\n",
    "        y=0.01,\n",
    "    )\n",
    ")\n",
    "fig4.update_yaxes(\n",
    "    range       = [0, 1],\n",
    "    scaleanchor = \"x\", \n",
    "    scaleratio  = 1,\n",
    "    linecolor   = 'black')\n",
    "fig4.update_xaxes(\n",
    "    range       = [0, 1],\n",
    "    constrain   = 'domain',\n",
    "    linecolor   = 'black')\n",
    "fig4.write_image(\"fig_ml_D.svg\")\n",
    "fig4"
   ]
  },
  {
   "cell_type": "code",
   "execution_count": 30,
   "id": "d6e466fb-cbc5-42a4-abaf-9ad9ec17ea56",
   "metadata": {},
   "outputs": [],
   "source": [
    "df =data[\"data\"]['[SVM_RFE]']\n",
    "df.to_csv(fold + \"/res/table.csv\",index=False)\n"
   ]
  }
 ],
 "metadata": {
  "kernelspec": {
   "display_name": "Python 3 (ipykernel)",
   "language": "python",
   "name": "python3"
  },
  "language_info": {
   "codemirror_mode": {
    "name": "ipython",
    "version": 3
   },
   "file_extension": ".py",
   "mimetype": "text/x-python",
   "name": "python",
   "nbconvert_exporter": "python",
   "pygments_lexer": "ipython3",
   "version": "3.9.15"
  }
 },
 "nbformat": 4,
 "nbformat_minor": 5
}
