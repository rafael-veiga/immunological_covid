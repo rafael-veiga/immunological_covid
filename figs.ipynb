{
 "cells": [
  {
   "cell_type": "code",
   "execution_count": 1,
   "id": "99141d3a-56c2-487e-87de-d63fdf8eac19",
   "metadata": {},
   "outputs": [],
   "source": [
    "import plotly.express as px\n",
    "from sklearn.preprocessing import StandardScaler\n",
    "from sklearn.decomposition import PCA\n",
    "from sklearn.discriminant_analysis import LinearDiscriminantAnalysis\n",
    "import umap\n",
    "from plotly.subplots import make_subplots\n",
    "import plotly.graph_objects as go\n",
    "import pickle as pk\n",
    "import pandas as pd\n",
    "import numpy as np\n",
    "from sklearn.metrics import roc_curve,auc\n",
    "from sklearn.decomposition import PCA\n",
    "from sklearn.manifold import TSNE\n",
    "import os\n",
    "fold = os.getcwd()"
   ]
  },
  {
   "cell_type": "markdown",
   "id": "b1bbe675-2dab-4392-98f8-2408c7737778",
   "metadata": {},
   "source": [
    "## Fig 1"
   ]
  },
  {
   "cell_type": "code",
   "execution_count": 2,
   "id": "50d86bc6-280d-4c04-971f-28a5bc054d1f",
   "metadata": {},
   "outputs": [
    {
     "name": "stderr",
     "output_type": "stream",
     "text": [
      "C:\\Users\\rafae\\AppData\\Local\\Temp\\ipykernel_19700\\4245461386.py:17: SettingWithCopyWarning: \n",
      "A value is trying to be set on a copy of a slice from a DataFrame.\n",
      "Try using .loc[row_indexer,col_indexer] = value instead\n",
      "\n",
      "See the caveats in the documentation: https://pandas.pydata.org/pandas-docs/stable/user_guide/indexing.html#returning-a-view-versus-a-copy\n",
      "  d2_d.loc[d2_d.index,\"cib\"] = d2_d.ci2 -d2_d[\"or\"]\n",
      "C:\\Users\\rafae\\AppData\\Local\\Temp\\ipykernel_19700\\4245461386.py:18: SettingWithCopyWarning: \n",
      "A value is trying to be set on a copy of a slice from a DataFrame.\n",
      "Try using .loc[row_indexer,col_indexer] = value instead\n",
      "\n",
      "See the caveats in the documentation: https://pandas.pydata.org/pandas-docs/stable/user_guide/indexing.html#returning-a-view-versus-a-copy\n",
      "  d2_d.loc[d2_d.index,\"cia\"] = d2_d[\"or\"] - d2_d.ci1\n",
      "C:\\Users\\rafae\\AppData\\Local\\Temp\\ipykernel_19700\\4245461386.py:21: SettingWithCopyWarning: \n",
      "A value is trying to be set on a copy of a slice from a DataFrame.\n",
      "Try using .loc[row_indexer,col_indexer] = value instead\n",
      "\n",
      "See the caveats in the documentation: https://pandas.pydata.org/pandas-docs/stable/user_guide/indexing.html#returning-a-view-versus-a-copy\n",
      "  d3_p.loc[d3_p.index,\"cib\"] = d3_p.ci2 -d3_p[\"or\"]\n",
      "C:\\Users\\rafae\\AppData\\Local\\Temp\\ipykernel_19700\\4245461386.py:22: SettingWithCopyWarning: \n",
      "A value is trying to be set on a copy of a slice from a DataFrame.\n",
      "Try using .loc[row_indexer,col_indexer] = value instead\n",
      "\n",
      "See the caveats in the documentation: https://pandas.pydata.org/pandas-docs/stable/user_guide/indexing.html#returning-a-view-versus-a-copy\n",
      "  d3_p.loc[d3_p.index,\"cia\"] = d3_p[\"or\"] - d3_p.ci1\n"
     ]
    },
    {
     "data": {
      "application/vnd.jupyter.widget-view+json": {
       "model_id": "5266a94922e14840b54364f5167b707c",
       "version_major": 2,
       "version_minor": 0
      },
      "text/plain": [
       "FigureWidget({\n",
       "    'data': [{'error_x': {'array': array([ 0.54973018,  0.44724618,  0.51706428,  2.53968202,  2.48960591,\n",
       "                                           2.71108199,  3.40288882,  5.87866487, 10.97859664, 10.81060984]),\n",
       "                          'arrayminus': array([0.22562748, 0.21261631, 0.23187106, 1.25166478, 1.24846582, 1.34538098,\n",
       "                                               1.50964694, 2.10482277, 2.88260254, 3.23716126]),\n",
       "                          'symmetric': False,\n",
       "                          'type': 'data'},\n",
       "              'marker': {'color': 'black', 'size': 6},\n",
       "              'mode': 'markers',\n",
       "              'type': 'scatter',\n",
       "              'uid': '5db89232-1e91-4b41-afc5-567a131bde77',\n",
       "              'x': array([0.3827004 , 0.40528441, 0.42038954, 2.46800309, 2.50430061, 2.67074426,\n",
       "                          2.71342018, 3.27876667, 3.90896166, 4.62083911]),\n",
       "              'xaxis': 'x',\n",
       "              'y': array(['MFI BAFF-R in BAFF-R+ DN1 B Cells',\n",
       "                          '% CD40+ of Non-Classical Monocytes', '% CD38+ of Monocytes',\n",
       "                          '% CD80+ of DN2 B Cells', 'MFI CD80 in CD80+ CD21- B Cells',\n",
       "                          'MFI CD80 in CD80+ CD21- CD27+ B Cells',\n",
       "                          'MFI CD38 in CD38+ CD27- CD4+ T Cells', 'MFI CD57 in CD57+ DN T Cells',\n",
       "                          'MFI CD38 in CD38+ Non-Classical Monocytes',\n",
       "                          'MFI CD80 in CD80+ DN1 B Cells'], dtype=object),\n",
       "              'yaxis': 'y'},\n",
       "             {'error_x': {'array': array([ 0.44595618,  0.56756465,  0.4334745 ,  0.57051841,  0.52478937,\n",
       "                                           0.54654843,  5.48555685,  5.19375846, 11.18658805, 11.74940247]),\n",
       "                          'arrayminus': array([0.10513582, 0.1245153 , 0.12106773, 0.14441761, 0.14780603, 0.16086518,\n",
       "                                               1.96255155, 1.94704996, 2.94409748, 3.405492  ]),\n",
       "                          'symmetric': False,\n",
       "                          'type': 'data'},\n",
       "              'marker': {'color': 'black', 'size': 6},\n",
       "              'mode': 'markers',\n",
       "              'type': 'scatter',\n",
       "              'uid': 'ef45770e-bcce-4647-bd04-94772c04ebc4',\n",
       "              'x': array([0.13756797, 0.15950929, 0.16798539, 0.19336483, 0.20575719, 0.22796067,\n",
       "                          3.05582512, 3.11469516, 3.99568618, 4.79541293]),\n",
       "              'xaxis': 'x2',\n",
       "              'y': array(['MFI HLA-DR in HLA-DR+ DN T Cells',\n",
       "                          'MFI HLA-DR in HLA-DR+ CD4+ T Cells', 'MFI CD11c in CD11c DN T Cells',\n",
       "                          'MFI CD57 in CD57+ CD27+ CD8+ T Cells', '% CD27+ of DN T Cells',\n",
       "                          'MFI HLA-DR in HLA-DR+ CD27- CD4+ T Cells',\n",
       "                          'MFI CD40 in CD40+ DN2 B Cells',\n",
       "                          'MFI CD40 in CD40+ CD11c+ CD21- B Cells', '% CD40+ of pDCs',\n",
       "                          '% Non-Classical of Monocytes'], dtype=object),\n",
       "              'yaxis': 'y2'}],\n",
       "    'layout': {'annotations': [{'font': {'size': 16},\n",
       "                                'showarrow': False,\n",
       "                                'text': 'A',\n",
       "                                'x': -0.4,\n",
       "                                'xanchor': 'center',\n",
       "                                'xref': 'paper',\n",
       "                                'y': 1.01,\n",
       "                                'yanchor': 'bottom',\n",
       "                                'yref': 'paper'},\n",
       "                               {'font': {'size': 16},\n",
       "                                'showarrow': False,\n",
       "                                'text': 'B',\n",
       "                                'x': -0.4,\n",
       "                                'xanchor': 'center',\n",
       "                                'xref': 'paper',\n",
       "                                'y': 0.5,\n",
       "                                'yanchor': 'bottom',\n",
       "                                'yref': 'paper'}],\n",
       "               'font': {'family': 'Arial', 'size': 12},\n",
       "               'height': 800,\n",
       "               'plot_bgcolor': 'white',\n",
       "               'shapes': [{'line': {'color': 'black', 'dash': 'dash'},\n",
       "                           'opacity': 1,\n",
       "                           'type': 'line',\n",
       "                           'x0': 1,\n",
       "                           'x1': 1,\n",
       "                           'xref': 'x',\n",
       "                           'y0': 0,\n",
       "                           'y1': 1,\n",
       "                           'yref': 'y domain'},\n",
       "                          {'line': {'color': 'black', 'dash': 'dash'},\n",
       "                           'opacity': 1,\n",
       "                           'type': 'line',\n",
       "                           'x0': 1,\n",
       "                           'x1': 1,\n",
       "                           'xref': 'x2',\n",
       "                           'y0': 0,\n",
       "                           'y1': 1,\n",
       "                           'yref': 'y2 domain'}],\n",
       "               'showlegend': False,\n",
       "               'template': '...',\n",
       "               'width': 1000,\n",
       "               'xaxis': {'anchor': 'y',\n",
       "                         'domain': [0.0, 1.0],\n",
       "                         'linecolor': 'black',\n",
       "                         'range': [-1, 1.3],\n",
       "                         'tickmode': 'array',\n",
       "                         'ticks': 'outside',\n",
       "                         'tickvals': array([ 0.01,  0.02,  0.03,  0.05,  0.08,  0.1 ,  0.2 ,  0.3 ,  0.6 ,  1.  ,\n",
       "                                             2.  ,  3.  ,  4.  ,  7.  , 10.  ]),\n",
       "                         'title': {'text': 'Odds ration'},\n",
       "                         'type': 'log'},\n",
       "               'xaxis2': {'anchor': 'y2',\n",
       "                          'domain': [0.0, 1.0],\n",
       "                          'linecolor': 'black',\n",
       "                          'range': [-1.5, 1.6],\n",
       "                          'tickmode': 'array',\n",
       "                          'ticks': 'outside',\n",
       "                          'tickvals': array([1.e-02, 2.e-02, 5.e-02, 1.e-01, 3.e-01, 6.e-01, 1.e+00, 3.e+00, 7.e+00,\n",
       "                                             2.e+01]),\n",
       "                          'title': {'text': 'Odds ration'},\n",
       "                          'type': 'log'},\n",
       "               'yaxis': {'anchor': 'x',\n",
       "                         'domain': [0.6, 1],\n",
       "                         'linecolor': 'black',\n",
       "                         'range': [-0.5, 9.5],\n",
       "                         'ticks': 'outside',\n",
       "                         'title': {'text': ''}},\n",
       "               'yaxis2': {'anchor': 'x2',\n",
       "                          'domain': [0.0, 0.475],\n",
       "                          'linecolor': 'black',\n",
       "                          'range': [-0.5, 9.5],\n",
       "                          'ticks': 'outside',\n",
       "                          'title': {'text': ''}}}\n",
       "})"
      ]
     },
     "execution_count": 2,
     "metadata": {},
     "output_type": "execute_result"
    }
   ],
   "source": [
    "file = open(fold + \"/data_aux/feature_a1.pkl\",\"rb\")\n",
    "data = pk.load(file)\n",
    "file.close()\n",
    "d2_d = data[\"d2_d\"]\n",
    "d3_p = data[\"d3_p\"]\n",
    "\n",
    "d2_d_lab =pd.read_csv(\"d2_d_lab.csv\",sep=\"\\t\")\n",
    "d2_d_lab = dict(zip(d2_d_lab['var'],d2_d_lab['Short name']))\n",
    "d3_p_lab =pd.read_csv(\"d3_p_lab.csv\",sep=\"\\t\")\n",
    "d3_p_lab = dict(zip(d3_p_lab['var'],d3_p_lab['Short name']))\n",
    "\n",
    "for k in d2_d_lab.keys():\n",
    "    d2_d.loc[d2_d[\"var\"]==k,\"var\"] = d2_d_lab[k]\n",
    "for k in d3_p_lab.keys():\n",
    "    d3_p.loc[d3_p[\"var\"]==k,\"var\"] = d3_p_lab[k]\n",
    "d2_d = d2_d.loc[d2_d.pvalue<=0.05]\n",
    "d2_d.loc[d2_d.index,\"cib\"] = d2_d.ci2 -d2_d[\"or\"]\n",
    "d2_d.loc[d2_d.index,\"cia\"] = d2_d[\"or\"] - d2_d.ci1\n",
    "d2_d = d2_d.sort_values(by=\"mu\",ascending=False).copy()\n",
    "d3_p = d3_p.loc[d3_p.pvalue<=0.05]\n",
    "d3_p.loc[d3_p.index,\"cib\"] = d3_p.ci2 -d3_p[\"or\"]\n",
    "d3_p.loc[d3_p.index,\"cia\"] = d3_p[\"or\"] - d3_p.ci1\n",
    "d3_p = d3_p.sort_values(by=\"mu\",ascending=False).copy()\n",
    "#10 best\n",
    "#10 best\n",
    "d2_d = d2_d.iloc[0:10,:]\n",
    "d2_d = d2_d.sort_values(by=\"or\",ascending=True).copy()\n",
    "d3_p = d3_p.iloc[0:10,:]\n",
    "d3_p = d3_p.sort_values(by=\"or\",ascending=True).copy()\n",
    "\n",
    "f = go.FigureWidget(make_subplots(rows=2,cols=1,subplot_titles=[\"A\",\"B\"],vertical_spacing=0.05))\n",
    "f.add_trace(go.Scatter(x=d2_d[\"or\"], y=d2_d[\"var\"],error_x=dict(\n",
    "            type='data',\n",
    "            symmetric=False,\n",
    "            array=d2_d.cib,\n",
    "            arrayminus=d2_d.cia),mode='markers'),row=1,col=1)\n",
    "f.update_traces(marker=dict(color=\"black\", size=6),selector=dict(type='scatter'))\n",
    "f.layout.xaxis.type=\"log\"\n",
    "f.update_xaxes(range=[-1,1.3],title=\"Odds ration\",row=1,col=1)\n",
    "f.update_yaxes(range=[-0.5, 9.5],title=\"\",row=1,col=1)\n",
    "f.layout.yaxis.domain = (0.6,1)\n",
    "\n",
    "f.add_trace(go.Scatter(x=d3_p[\"or\"], y=d3_p[\"var\"],error_x=dict(\n",
    "            type='data',\n",
    "            symmetric=False,\n",
    "            array=d3_p.cib,\n",
    "            arrayminus=d3_p.cia),mode='markers'),row=2,col=1)\n",
    "f.update_traces(marker=dict(color=\"black\", size=6),selector=dict(type='scatter'))\n",
    "f.layout.xaxis2.type=\"log\"\n",
    "f.update_xaxes(range=[-1.5,1.6],title=\"Odds ration\",row=2,col=1)\n",
    "f.update_yaxes(range=[-0.5, 9.5],title=\"\",row=2,col=1)\n",
    "#f.layout.yaxis2.domain = (0.6,1)\n",
    "\n",
    "f.update_layout(height=800,width = 1000,showlegend=False,font_size=12,font_family=\"Arial\",plot_bgcolor=\"white\",\n",
    "    xaxis=dict(linecolor=\"black\"),xaxis2=dict(linecolor=\"black\"),\n",
    "    yaxis=dict(linecolor=\"black\"),yaxis2=dict(linecolor=\"black\"))\n",
    "f.add_vline(x=1,line_dash=\"dash\",line_color = \"black\",opacity=1,row=1,col=1)\n",
    "f.add_vline(x=1,line_dash=\"dash\",line_color = \"black\",opacity=1,row=2,col=1)\n",
    "f.update_xaxes(ticks=\"outside\")\n",
    "f.update_yaxes(ticks=\"outside\")\n",
    "\n",
    "f.layout[\"annotations\"][0].x=-0.4\n",
    "f.layout[\"annotations\"][1].x=-0.4\n",
    "f.layout[\"annotations\"][0].y=1.01\n",
    "f.layout[\"annotations\"][1].y=0.5\n",
    "f.update_layout(xaxis={\"tickmode\": \"array\",\"tickvals\": pd.to_numeric([f\"{n:.1g}\" for n in np.geomspace(0.01, 12, 15)])})\n",
    "f.update_layout(xaxis2={\"tickmode\": \"array\",\"tickvals\": pd.to_numeric([f\"{n:.1g}\" for n in np.geomspace(0.01, 15, 10)])})\n",
    "f.write_image(\"fig1.svg\")\n",
    "f"
   ]
  },
  {
   "cell_type": "code",
   "execution_count": 7,
   "id": "b6f12dbc-c5bc-4378-adcc-207fb4a3f465",
   "metadata": {},
   "outputs": [
    {
     "data": {
      "text/html": [
       "<div>\n",
       "<style scoped>\n",
       "    .dataframe tbody tr th:only-of-type {\n",
       "        vertical-align: middle;\n",
       "    }\n",
       "\n",
       "    .dataframe tbody tr th {\n",
       "        vertical-align: top;\n",
       "    }\n",
       "\n",
       "    .dataframe thead th {\n",
       "        text-align: right;\n",
       "    }\n",
       "</style>\n",
       "<table border=\"1\" class=\"dataframe\">\n",
       "  <thead>\n",
       "    <tr style=\"text-align: right;\">\n",
       "      <th></th>\n",
       "      <th>Sample</th>\n",
       "      <th>batch</th>\n",
       "      <th>type</th>\n",
       "      <th>BAFF-R+ median  :in:  BAFF-R+ B Cells</th>\n",
       "      <th>CD40+ median  :in:  CD40+ B Cells</th>\n",
       "      <th>CD80+ median  :in:  CD80+ B Cells</th>\n",
       "      <th>CD86+ median  :in:  CD86+ B Cells</th>\n",
       "      <th>HLA-DR+ median  :in:  HLA-DR+ B Cells</th>\n",
       "      <th>BAFF-R+ median  :in:  BAFF-R+ Naive B Cells</th>\n",
       "      <th>CD40+ median  :in:  CD40+ Naive B Cells</th>\n",
       "      <th>...</th>\n",
       "      <th>CD80+ Type 2 Myeloid Dendritic Cells :in: mDC2</th>\n",
       "      <th>CD86+ Type 2 Myeloid Dendritic Cells :in: mDC2</th>\n",
       "      <th>CD38+ Plasmacytoid Dendritic Cells :in: Plasmacytoid Dendritic Cells</th>\n",
       "      <th>CD40+ Plasmacytoid Dendritic Cells :in: Plasmacytoid Dendritic Cells</th>\n",
       "      <th>CD80+ Plasmacytoid Dendritic Cells :in: Plasmacytoid Dendritic Cells</th>\n",
       "      <th>CD86+ Plasmacytoid Dendritic Cells :in: Plasmacytoid Dendritic Cells</th>\n",
       "      <th>age</th>\n",
       "      <th>sex</th>\n",
       "      <th>tx_time</th>\n",
       "      <th>d2_d</th>\n",
       "    </tr>\n",
       "  </thead>\n",
       "  <tbody>\n",
       "    <tr>\n",
       "      <th>0</th>\n",
       "      <td>Kidney_Tx_n_011</td>\n",
       "      <td>1</td>\n",
       "      <td>0</td>\n",
       "      <td>3190.601424</td>\n",
       "      <td>659.508384</td>\n",
       "      <td>246.139622</td>\n",
       "      <td>1219.624342</td>\n",
       "      <td>2196.263238</td>\n",
       "      <td>2605.755003</td>\n",
       "      <td>638.922220</td>\n",
       "      <td>...</td>\n",
       "      <td>NaN</td>\n",
       "      <td>NaN</td>\n",
       "      <td>NaN</td>\n",
       "      <td>NaN</td>\n",
       "      <td>NaN</td>\n",
       "      <td>NaN</td>\n",
       "      <td>62.368241</td>\n",
       "      <td>0</td>\n",
       "      <td>2.056168</td>\n",
       "      <td>0.0</td>\n",
       "    </tr>\n",
       "    <tr>\n",
       "      <th>1</th>\n",
       "      <td>Kidney_Tx_n_016</td>\n",
       "      <td>2</td>\n",
       "      <td>0</td>\n",
       "      <td>2468.889204</td>\n",
       "      <td>679.802908</td>\n",
       "      <td>223.158815</td>\n",
       "      <td>1261.714442</td>\n",
       "      <td>2278.117445</td>\n",
       "      <td>2365.757521</td>\n",
       "      <td>661.261503</td>\n",
       "      <td>...</td>\n",
       "      <td>27.560521</td>\n",
       "      <td>17.970205</td>\n",
       "      <td>98.432602</td>\n",
       "      <td>0.470219</td>\n",
       "      <td>69.278997</td>\n",
       "      <td>3.291536</td>\n",
       "      <td>52.739220</td>\n",
       "      <td>1</td>\n",
       "      <td>17.185842</td>\n",
       "      <td>0.0</td>\n",
       "    </tr>\n",
       "    <tr>\n",
       "      <th>2</th>\n",
       "      <td>Kidney_Tx_n_017</td>\n",
       "      <td>2</td>\n",
       "      <td>0</td>\n",
       "      <td>2003.263726</td>\n",
       "      <td>770.324112</td>\n",
       "      <td>262.056868</td>\n",
       "      <td>1193.315702</td>\n",
       "      <td>3913.482427</td>\n",
       "      <td>1865.614366</td>\n",
       "      <td>659.098467</td>\n",
       "      <td>...</td>\n",
       "      <td>20.977597</td>\n",
       "      <td>47.454175</td>\n",
       "      <td>99.675325</td>\n",
       "      <td>31.331169</td>\n",
       "      <td>49.188312</td>\n",
       "      <td>1.461039</td>\n",
       "      <td>71.874059</td>\n",
       "      <td>0</td>\n",
       "      <td>11.825020</td>\n",
       "      <td>1.0</td>\n",
       "    </tr>\n",
       "    <tr>\n",
       "      <th>3</th>\n",
       "      <td>Kidney_Tx_n_019</td>\n",
       "      <td>2</td>\n",
       "      <td>0</td>\n",
       "      <td>2208.026974</td>\n",
       "      <td>577.648716</td>\n",
       "      <td>234.591572</td>\n",
       "      <td>NaN</td>\n",
       "      <td>4049.729805</td>\n",
       "      <td>1985.633680</td>\n",
       "      <td>567.785994</td>\n",
       "      <td>...</td>\n",
       "      <td>43.137255</td>\n",
       "      <td>3.921569</td>\n",
       "      <td>NaN</td>\n",
       "      <td>NaN</td>\n",
       "      <td>NaN</td>\n",
       "      <td>NaN</td>\n",
       "      <td>70.045175</td>\n",
       "      <td>1</td>\n",
       "      <td>12.416408</td>\n",
       "      <td>0.0</td>\n",
       "    </tr>\n",
       "    <tr>\n",
       "      <th>4</th>\n",
       "      <td>Kidney_Tx_n_020</td>\n",
       "      <td>2</td>\n",
       "      <td>0</td>\n",
       "      <td>1825.072721</td>\n",
       "      <td>574.951229</td>\n",
       "      <td>258.413611</td>\n",
       "      <td>1288.487406</td>\n",
       "      <td>3706.865425</td>\n",
       "      <td>1814.363571</td>\n",
       "      <td>555.888429</td>\n",
       "      <td>...</td>\n",
       "      <td>46.296296</td>\n",
       "      <td>16.049383</td>\n",
       "      <td>100.000000</td>\n",
       "      <td>0.000000</td>\n",
       "      <td>86.301370</td>\n",
       "      <td>4.109589</td>\n",
       "      <td>71.912389</td>\n",
       "      <td>0</td>\n",
       "      <td>10.850325</td>\n",
       "      <td>0.0</td>\n",
       "    </tr>\n",
       "    <tr>\n",
       "      <th>...</th>\n",
       "      <td>...</td>\n",
       "      <td>...</td>\n",
       "      <td>...</td>\n",
       "      <td>...</td>\n",
       "      <td>...</td>\n",
       "      <td>...</td>\n",
       "      <td>...</td>\n",
       "      <td>...</td>\n",
       "      <td>...</td>\n",
       "      <td>...</td>\n",
       "      <td>...</td>\n",
       "      <td>...</td>\n",
       "      <td>...</td>\n",
       "      <td>...</td>\n",
       "      <td>...</td>\n",
       "      <td>...</td>\n",
       "      <td>...</td>\n",
       "      <td>...</td>\n",
       "      <td>...</td>\n",
       "      <td>...</td>\n",
       "      <td>...</td>\n",
       "    </tr>\n",
       "    <tr>\n",
       "      <th>80</th>\n",
       "      <td>Lung_055</td>\n",
       "      <td>1</td>\n",
       "      <td>1</td>\n",
       "      <td>1340.450014</td>\n",
       "      <td>803.153931</td>\n",
       "      <td>238.339110</td>\n",
       "      <td>NaN</td>\n",
       "      <td>3407.041000</td>\n",
       "      <td>1340.450014</td>\n",
       "      <td>770.630096</td>\n",
       "      <td>...</td>\n",
       "      <td>NaN</td>\n",
       "      <td>NaN</td>\n",
       "      <td>NaN</td>\n",
       "      <td>NaN</td>\n",
       "      <td>NaN</td>\n",
       "      <td>NaN</td>\n",
       "      <td>64.000000</td>\n",
       "      <td>1</td>\n",
       "      <td>3.000000</td>\n",
       "      <td>0.0</td>\n",
       "    </tr>\n",
       "    <tr>\n",
       "      <th>81</th>\n",
       "      <td>Lung_056</td>\n",
       "      <td>1</td>\n",
       "      <td>1</td>\n",
       "      <td>2432.571272</td>\n",
       "      <td>624.918583</td>\n",
       "      <td>274.398259</td>\n",
       "      <td>NaN</td>\n",
       "      <td>3478.974110</td>\n",
       "      <td>2446.967663</td>\n",
       "      <td>659.042864</td>\n",
       "      <td>...</td>\n",
       "      <td>NaN</td>\n",
       "      <td>NaN</td>\n",
       "      <td>NaN</td>\n",
       "      <td>NaN</td>\n",
       "      <td>NaN</td>\n",
       "      <td>NaN</td>\n",
       "      <td>61.000000</td>\n",
       "      <td>1</td>\n",
       "      <td>5.000000</td>\n",
       "      <td>0.0</td>\n",
       "    </tr>\n",
       "    <tr>\n",
       "      <th>82</th>\n",
       "      <td>Lung_058</td>\n",
       "      <td>1</td>\n",
       "      <td>1</td>\n",
       "      <td>2107.038041</td>\n",
       "      <td>597.733779</td>\n",
       "      <td>257.731939</td>\n",
       "      <td>1611.140164</td>\n",
       "      <td>4232.851588</td>\n",
       "      <td>1996.920077</td>\n",
       "      <td>591.234183</td>\n",
       "      <td>...</td>\n",
       "      <td>NaN</td>\n",
       "      <td>NaN</td>\n",
       "      <td>NaN</td>\n",
       "      <td>NaN</td>\n",
       "      <td>NaN</td>\n",
       "      <td>NaN</td>\n",
       "      <td>59.000000</td>\n",
       "      <td>1</td>\n",
       "      <td>22.000000</td>\n",
       "      <td>1.0</td>\n",
       "    </tr>\n",
       "    <tr>\n",
       "      <th>83</th>\n",
       "      <td>Lung_059</td>\n",
       "      <td>1</td>\n",
       "      <td>1</td>\n",
       "      <td>1520.404699</td>\n",
       "      <td>756.795038</td>\n",
       "      <td>229.981428</td>\n",
       "      <td>NaN</td>\n",
       "      <td>2587.652406</td>\n",
       "      <td>1506.993420</td>\n",
       "      <td>773.484259</td>\n",
       "      <td>...</td>\n",
       "      <td>NaN</td>\n",
       "      <td>NaN</td>\n",
       "      <td>NaN</td>\n",
       "      <td>NaN</td>\n",
       "      <td>NaN</td>\n",
       "      <td>NaN</td>\n",
       "      <td>62.000000</td>\n",
       "      <td>0</td>\n",
       "      <td>2.000000</td>\n",
       "      <td>0.0</td>\n",
       "    </tr>\n",
       "    <tr>\n",
       "      <th>84</th>\n",
       "      <td>Lung_060</td>\n",
       "      <td>1</td>\n",
       "      <td>1</td>\n",
       "      <td>2382.756726</td>\n",
       "      <td>658.662489</td>\n",
       "      <td>261.024972</td>\n",
       "      <td>1401.236426</td>\n",
       "      <td>3666.611545</td>\n",
       "      <td>2388.388596</td>\n",
       "      <td>649.981231</td>\n",
       "      <td>...</td>\n",
       "      <td>NaN</td>\n",
       "      <td>NaN</td>\n",
       "      <td>NaN</td>\n",
       "      <td>NaN</td>\n",
       "      <td>NaN</td>\n",
       "      <td>NaN</td>\n",
       "      <td>63.000000</td>\n",
       "      <td>0</td>\n",
       "      <td>4.000000</td>\n",
       "      <td>1.0</td>\n",
       "    </tr>\n",
       "  </tbody>\n",
       "</table>\n",
       "<p>84 rows × 451 columns</p>\n",
       "</div>"
      ],
      "text/plain": [
       "             Sample  batch  type  BAFF-R+ median  :in:  BAFF-R+ B Cells  \\\n",
       "0   Kidney_Tx_n_011      1     0                            3190.601424   \n",
       "1   Kidney_Tx_n_016      2     0                            2468.889204   \n",
       "2   Kidney_Tx_n_017      2     0                            2003.263726   \n",
       "3   Kidney_Tx_n_019      2     0                            2208.026974   \n",
       "4   Kidney_Tx_n_020      2     0                            1825.072721   \n",
       "..              ...    ...   ...                                    ...   \n",
       "80         Lung_055      1     1                            1340.450014   \n",
       "81         Lung_056      1     1                            2432.571272   \n",
       "82         Lung_058      1     1                            2107.038041   \n",
       "83         Lung_059      1     1                            1520.404699   \n",
       "84         Lung_060      1     1                            2382.756726   \n",
       "\n",
       "    CD40+ median  :in:  CD40+ B Cells  CD80+ median  :in:  CD80+ B Cells  \\\n",
       "0                          659.508384                         246.139622   \n",
       "1                          679.802908                         223.158815   \n",
       "2                          770.324112                         262.056868   \n",
       "3                          577.648716                         234.591572   \n",
       "4                          574.951229                         258.413611   \n",
       "..                                ...                                ...   \n",
       "80                         803.153931                         238.339110   \n",
       "81                         624.918583                         274.398259   \n",
       "82                         597.733779                         257.731939   \n",
       "83                         756.795038                         229.981428   \n",
       "84                         658.662489                         261.024972   \n",
       "\n",
       "    CD86+ median  :in:  CD86+ B Cells  HLA-DR+ median  :in:  HLA-DR+ B Cells  \\\n",
       "0                         1219.624342                            2196.263238   \n",
       "1                         1261.714442                            2278.117445   \n",
       "2                         1193.315702                            3913.482427   \n",
       "3                                 NaN                            4049.729805   \n",
       "4                         1288.487406                            3706.865425   \n",
       "..                                ...                                    ...   \n",
       "80                                NaN                            3407.041000   \n",
       "81                                NaN                            3478.974110   \n",
       "82                        1611.140164                            4232.851588   \n",
       "83                                NaN                            2587.652406   \n",
       "84                        1401.236426                            3666.611545   \n",
       "\n",
       "    BAFF-R+ median  :in:  BAFF-R+ Naive B Cells  \\\n",
       "0                                   2605.755003   \n",
       "1                                   2365.757521   \n",
       "2                                   1865.614366   \n",
       "3                                   1985.633680   \n",
       "4                                   1814.363571   \n",
       "..                                          ...   \n",
       "80                                  1340.450014   \n",
       "81                                  2446.967663   \n",
       "82                                  1996.920077   \n",
       "83                                  1506.993420   \n",
       "84                                  2388.388596   \n",
       "\n",
       "    CD40+ median  :in:  CD40+ Naive B Cells  ...  \\\n",
       "0                                638.922220  ...   \n",
       "1                                661.261503  ...   \n",
       "2                                659.098467  ...   \n",
       "3                                567.785994  ...   \n",
       "4                                555.888429  ...   \n",
       "..                                      ...  ...   \n",
       "80                               770.630096  ...   \n",
       "81                               659.042864  ...   \n",
       "82                               591.234183  ...   \n",
       "83                               773.484259  ...   \n",
       "84                               649.981231  ...   \n",
       "\n",
       "    CD80+ Type 2 Myeloid Dendritic Cells :in: mDC2  \\\n",
       "0                                              NaN   \n",
       "1                                        27.560521   \n",
       "2                                        20.977597   \n",
       "3                                        43.137255   \n",
       "4                                        46.296296   \n",
       "..                                             ...   \n",
       "80                                             NaN   \n",
       "81                                             NaN   \n",
       "82                                             NaN   \n",
       "83                                             NaN   \n",
       "84                                             NaN   \n",
       "\n",
       "    CD86+ Type 2 Myeloid Dendritic Cells :in: mDC2  \\\n",
       "0                                              NaN   \n",
       "1                                        17.970205   \n",
       "2                                        47.454175   \n",
       "3                                         3.921569   \n",
       "4                                        16.049383   \n",
       "..                                             ...   \n",
       "80                                             NaN   \n",
       "81                                             NaN   \n",
       "82                                             NaN   \n",
       "83                                             NaN   \n",
       "84                                             NaN   \n",
       "\n",
       "    CD38+ Plasmacytoid Dendritic Cells :in: Plasmacytoid Dendritic Cells  \\\n",
       "0                                                 NaN                      \n",
       "1                                           98.432602                      \n",
       "2                                           99.675325                      \n",
       "3                                                 NaN                      \n",
       "4                                          100.000000                      \n",
       "..                                                ...                      \n",
       "80                                                NaN                      \n",
       "81                                                NaN                      \n",
       "82                                                NaN                      \n",
       "83                                                NaN                      \n",
       "84                                                NaN                      \n",
       "\n",
       "    CD40+ Plasmacytoid Dendritic Cells :in: Plasmacytoid Dendritic Cells  \\\n",
       "0                                                 NaN                      \n",
       "1                                            0.470219                      \n",
       "2                                           31.331169                      \n",
       "3                                                 NaN                      \n",
       "4                                            0.000000                      \n",
       "..                                                ...                      \n",
       "80                                                NaN                      \n",
       "81                                                NaN                      \n",
       "82                                                NaN                      \n",
       "83                                                NaN                      \n",
       "84                                                NaN                      \n",
       "\n",
       "    CD80+ Plasmacytoid Dendritic Cells :in: Plasmacytoid Dendritic Cells  \\\n",
       "0                                                 NaN                      \n",
       "1                                           69.278997                      \n",
       "2                                           49.188312                      \n",
       "3                                                 NaN                      \n",
       "4                                           86.301370                      \n",
       "..                                                ...                      \n",
       "80                                                NaN                      \n",
       "81                                                NaN                      \n",
       "82                                                NaN                      \n",
       "83                                                NaN                      \n",
       "84                                                NaN                      \n",
       "\n",
       "    CD86+ Plasmacytoid Dendritic Cells :in: Plasmacytoid Dendritic Cells  \\\n",
       "0                                                 NaN                      \n",
       "1                                            3.291536                      \n",
       "2                                            1.461039                      \n",
       "3                                                 NaN                      \n",
       "4                                            4.109589                      \n",
       "..                                                ...                      \n",
       "80                                                NaN                      \n",
       "81                                                NaN                      \n",
       "82                                                NaN                      \n",
       "83                                                NaN                      \n",
       "84                                                NaN                      \n",
       "\n",
       "          age  sex    tx_time  d2_d  \n",
       "0   62.368241    0   2.056168   0.0  \n",
       "1   52.739220    1  17.185842   0.0  \n",
       "2   71.874059    0  11.825020   1.0  \n",
       "3   70.045175    1  12.416408   0.0  \n",
       "4   71.912389    0  10.850325   0.0  \n",
       "..        ...  ...        ...   ...  \n",
       "80  64.000000    1   3.000000   0.0  \n",
       "81  61.000000    1   5.000000   0.0  \n",
       "82  59.000000    1  22.000000   1.0  \n",
       "83  62.000000    0   2.000000   0.0  \n",
       "84  63.000000    0   4.000000   1.0  \n",
       "\n",
       "[84 rows x 451 columns]"
      ]
     },
     "execution_count": 7,
     "metadata": {},
     "output_type": "execute_result"
    }
   ],
   "source": [
    "df_d2_d = data[\"d2_d\"]\n",
    "df_d2_d"
   ]
  },
  {
   "cell_type": "markdown",
   "id": "18fac145-ff03-48fe-a693-3bf38a932407",
   "metadata": {},
   "source": [
    "## Fig 2"
   ]
  },
  {
   "cell_type": "code",
   "execution_count": 10,
   "id": "66696cb6-9649-4182-9c05-dadd7b88bcd0",
   "metadata": {},
   "outputs": [
    {
     "name": "stderr",
     "output_type": "stream",
     "text": [
      "C:\\Users\\rafae\\AppData\\Local\\Temp\\ipykernel_10444\\3679235101.py:33: SettingWithCopyWarning:\n",
      "\n",
      "\n",
      "A value is trying to be set on a copy of a slice from a DataFrame\n",
      "\n",
      "See the caveats in the documentation: https://pandas.pydata.org/pandas-docs/stable/user_guide/indexing.html#returning-a-view-versus-a-copy\n",
      "\n",
      "C:\\Users\\rafae\\AppData\\Local\\Temp\\ipykernel_10444\\3679235101.py:35: SettingWithCopyWarning:\n",
      "\n",
      "\n",
      "A value is trying to be set on a copy of a slice from a DataFrame\n",
      "\n",
      "See the caveats in the documentation: https://pandas.pydata.org/pandas-docs/stable/user_guide/indexing.html#returning-a-view-versus-a-copy\n",
      "\n",
      "C:\\Users\\rafae\\AppData\\Local\\Temp\\ipykernel_10444\\3679235101.py:37: SettingWithCopyWarning:\n",
      "\n",
      "\n",
      "A value is trying to be set on a copy of a slice from a DataFrame\n",
      "\n",
      "See the caveats in the documentation: https://pandas.pydata.org/pandas-docs/stable/user_guide/indexing.html#returning-a-view-versus-a-copy\n",
      "\n"
     ]
    },
    {
     "data": {
      "application/vnd.jupyter.widget-view+json": {
       "model_id": "cdb5dd2998524a4fb523d51c9c9ceea4",
       "version_major": 2,
       "version_minor": 0
      },
      "text/plain": [
       "FigureWidget({\n",
       "    'data': [{'legendgroup': '1',\n",
       "              'marker': {'color': 'green', 'symbol': 'cross'},\n",
       "              'mode': 'markers',\n",
       "              'name': 'Healthy',\n",
       "              'type': 'scatter',\n",
       "              'uid': 'af802295-2a6d-442b-9f45-099fe82ac83a',\n",
       "              'x': array([ 7.038335 ,  9.756521 ,  2.1514122, 10.104332 , 10.175222 ,  3.1151137,\n",
       "                           8.615104 , 10.260573 ,  7.2066164,  9.638369 ,  8.057305 ,  7.7770367,\n",
       "                           5.700837 ,  7.1843934,  8.042503 ,  6.2578197,  5.449605 ,  6.9472017,\n",
       "                           5.073538 ,  7.9579554], dtype=float32),\n",
       "              'xaxis': 'x',\n",
       "              'y': array([11.021692 ,  7.6366534,  7.6852007,  9.717069 ,  8.457506 ,  8.096388 ,\n",
       "                          10.716621 ,  9.037695 ,  9.44904  ,  9.13718  , 10.756619 , 10.220728 ,\n",
       "                           7.684464 ,  6.933465 ,  7.496608 ,  7.026817 ,  6.7484126,  7.5999713,\n",
       "                           7.040559 ,  8.721241 ], dtype=float32),\n",
       "              'yaxis': 'y'},\n",
       "             {'legendgroup': '1',\n",
       "              'marker': {'color': 'coral', 'symbol': 'star'},\n",
       "              'mode': 'markers',\n",
       "              'name': 'Dose 2 non-responders',\n",
       "              'type': 'scatter',\n",
       "              'uid': '45c44692-4860-49c3-b40b-1925a2a57ca8',\n",
       "              'x': array([6.3918467, 8.075076 , 6.7424307, 3.396641 , 2.6086147, 8.519377 ,\n",
       "                          4.0823054, 9.533951 , 3.1880493, 3.3778934, 6.0650754, 7.4921637,\n",
       "                          6.413764 , 4.83569  , 3.9708161, 8.542207 , 4.2529078, 6.1875644,\n",
       "                          8.396376 , 4.3062224, 4.651609 , 3.4224536, 2.7334914, 6.7376494,\n",
       "                          2.876584 , 7.053445 , 5.9430027, 9.15833  , 3.6947682, 7.466554 ,\n",
       "                          8.509554 , 6.592735 , 7.6789284, 8.913483 , 5.34096  , 7.97115  ,\n",
       "                          8.287537 , 5.384578 , 8.563386 , 7.8380055, 6.6665816, 4.465304 ,\n",
       "                          9.190513 , 7.517239 , 6.2771516, 8.658413 , 5.374824 , 5.771691 ,\n",
       "                          6.432552 ], dtype=float32),\n",
       "              'xaxis': 'x',\n",
       "              'y': array([ 8.590202 ,  9.078295 ,  3.1968203, 10.456469 ,  7.469758 ,  9.899713 ,\n",
       "                           9.788352 , 10.427482 ,  7.4763894,  9.479488 ,  5.97617  ,  8.041612 ,\n",
       "                           8.252737 ,  5.130819 ,  6.424686 , 11.297304 ,  6.359146 ,  5.8998775,\n",
       "                           7.244538 ,  9.598639 ,  7.561511 ,  6.570064 ,  8.795018 , 10.538297 ,\n",
       "                           6.6040864, 10.240337 ,  3.9063966,  6.912363 ,  8.2783985,  3.9908078,\n",
       "                           3.9311557,  3.9857333,  4.7307353,  4.9476295,  3.5391457,  3.5393023,\n",
       "                           4.7270317, 10.299571 ,  6.221991 ,  5.2393904,  6.121539 ,  5.7434835,\n",
       "                           9.5574465,  4.5600014,  3.2222254,  8.572859 ,  8.59335  ,  8.01613  ,\n",
       "                           7.4088154], dtype=float32),\n",
       "              'yaxis': 'y'},\n",
       "             {'legendgroup': '1',\n",
       "              'marker': {'color': 'rgba(41, 128, 185, 1.0)'},\n",
       "              'mode': 'markers',\n",
       "              'name': 'Dose 2 detectable',\n",
       "              'type': 'scatter',\n",
       "              'uid': 'dfc0f5e4-2640-441c-a8b9-244888bdf6d6',\n",
       "              'x': array([2.7699487, 5.5920796, 2.126581 , 2.5880175, 3.8133981, 3.4697645,\n",
       "                          6.7422104, 4.4729695, 6.1630177, 7.216335 , 5.6913357, 4.858055 ,\n",
       "                          7.294626 , 5.630037 , 6.507798 , 3.3907146, 7.501719 , 8.097646 ,\n",
       "                          5.6390634, 3.6573756, 4.2031665, 4.808219 , 2.1415105, 6.4531436,\n",
       "                          5.5284657, 7.148906 , 6.380347 , 7.642281 , 7.932803 , 5.99337  ,\n",
       "                          4.3242803, 4.7036057, 8.98477  , 4.745572 , 5.0068536], dtype=float32),\n",
       "              'xaxis': 'x',\n",
       "              'y': array([ 6.823934 , 10.892003 ,  9.2964   ,  9.802348 , 10.699375 , 10.541216 ,\n",
       "                           4.73416  , 11.052336 ,  9.623686 ,  7.929207 ,  9.212465 ,  7.730158 ,\n",
       "                           8.634754 ,  9.299264 ,  6.781435 ,  7.23246  , 10.937908 ,  8.413416 ,\n",
       "                           6.2846303,  9.039509 ,  7.3916764,  7.4898214,  8.466464 ,  5.068758 ,\n",
       "                           4.930877 ,  4.176286 ,  4.173234 ,  6.0008283,  6.87059  ,  6.8110733,\n",
       "                           8.625801 ,  8.884417 ,  7.78903  ,  8.1112795,  9.371023 ],\n",
       "                         dtype=float32),\n",
       "              'yaxis': 'y'},\n",
       "             {'legendgroup': '1',\n",
       "              'marker': {'color': 'green', 'symbol': 'cross'},\n",
       "              'mode': 'markers',\n",
       "              'name': 'Healthy',\n",
       "              'showlegend': False,\n",
       "              'type': 'scatter',\n",
       "              'uid': '228d2964-6653-4fc0-8beb-efb3e5306944',\n",
       "              'x': array([12.3848095, 10.037155 ,  5.93926  , 10.864267 ,  8.588508 , 12.639676 ,\n",
       "                          10.583292 , 10.027207 , 12.020387 ,  7.9830704, 11.553756 , 11.320472 ,\n",
       "                          11.205724 , 11.508293 , 10.44407  ,  6.194803 , 11.105677 ,  1.4358184,\n",
       "                           7.1278434,  9.318258 ], dtype=float32),\n",
       "              'xaxis': 'x2',\n",
       "              'y': array([10.227576 , 12.982458 , 13.9953165,  9.6655245,  9.380165 , 12.148539 ,\n",
       "                          11.396443 , 12.126959 , 10.96659  ,  8.968621 , 10.008848 , 10.680219 ,\n",
       "                          11.471009 , 14.004988 , 11.8556   , 16.327003 , 12.186746 , 15.175945 ,\n",
       "                          16.136913 , 15.592759 ], dtype=float32),\n",
       "              'yaxis': 'y2'},\n",
       "             {'legendgroup': '1',\n",
       "              'marker': {'color': 'coral', 'symbol': 'star'},\n",
       "              'mode': 'markers',\n",
       "              'name': 'Dose 2 non-responders',\n",
       "              'showlegend': False,\n",
       "              'type': 'scatter',\n",
       "              'uid': '71305281-0a41-4043-9b87-583612ad3adc',\n",
       "              'x': array([10.991326 ,  7.1207604,  9.130294 ,  8.375377 ,  4.901367 , 10.625739 ,\n",
       "                           5.539454 , 10.482638 , 11.930568 ,  9.436186 ,  7.2767043,  1.4166148,\n",
       "                          10.29876  ,  7.392899 , 11.746707 ,  4.722498 ,  9.857016 ,  7.872924 ,\n",
       "                           6.334519 ,  6.708045 ,  8.775256 ,  1.9341733,  7.742937 ,  7.3290296,\n",
       "                           8.122794 , 12.849714 ,  9.102815 ,  8.179323 ,  9.705596 ,  7.028227 ,\n",
       "                          10.076969 ,  8.93893  ,  7.268626 ,  9.512648 ,  8.933698 ,  8.940448 ,\n",
       "                           8.452038 , 10.687519 ,  6.9520483,  7.887382 ,  6.7119846,  5.8843307,\n",
       "                           9.964189 ,  8.7150545,  8.693347 ,  8.569996 ,  3.3058903,  1.0831643,\n",
       "                          12.084456 ], dtype=float32),\n",
       "              'xaxis': 'x2',\n",
       "              'y': array([14.955216 , 10.41098  , 10.283196 , 13.5693245, 14.873125 , 10.406277 ,\n",
       "                          14.51004  , 12.516736 , 13.332222 , 14.1821785, 14.925783 , 13.332323 ,\n",
       "                          15.251299 , 10.699673 , 12.556667 , 15.624465 , 15.897452 , 11.174678 ,\n",
       "                          16.629257 , 10.8389635,  9.633757 , 12.349894 , 13.132326 , 14.043597 ,\n",
       "                          14.782252 , 10.768371 , 11.019806 , 10.0022335, 10.777105 ,  8.330188 ,\n",
       "                          13.242031 , 11.909562 ,  9.4416065, 12.875033 , 14.396583 , 12.6225605,\n",
       "                          10.913741 , 12.990788 ,  9.175003 ,  9.278671 , 12.950955 , 15.078504 ,\n",
       "                           9.482928 , 12.050798 , 12.96512  , 16.061348 , 13.607376 , 14.766918 ,\n",
       "                          12.493382 ], dtype=float32),\n",
       "              'yaxis': 'y2'},\n",
       "             {'legendgroup': '1',\n",
       "              'marker': {'color': 'rgba(41, 128, 185, 1.0)'},\n",
       "              'mode': 'markers',\n",
       "              'name': 'Dose 2 detectable',\n",
       "              'showlegend': False,\n",
       "              'type': 'scatter',\n",
       "              'uid': '5a9770b4-d06b-4d9a-8a77-7c34c5030490',\n",
       "              'x': array([ 7.914065 ,  5.2651744,  4.194453 ,  4.542597 ,  5.526599 ,  4.639599 ,\n",
       "                           8.402237 ,  4.151576 ,  5.2529507,  0.8525892,  2.8649173,  1.389258 ,\n",
       "                           3.488168 ,  6.2322025,  2.981795 ,  2.0733287, 12.809016 ,  7.4230514,\n",
       "                           1.0113305,  5.7326736,  9.407683 ,  2.0966809,  6.851999 ,  6.8585215,\n",
       "                           6.0996385,  7.675506 ,  6.3470435,  7.7953277,  8.28349  ,  2.7505095,\n",
       "                           1.2648227,  3.0529518, 11.355178 ,  3.380496 ,  1.9725437],\n",
       "                         dtype=float32),\n",
       "              'xaxis': 'x2',\n",
       "              'y': array([15.26623  , 13.572411 , 14.166583 , 13.327214 , 15.553958 , 12.647785 ,\n",
       "                          11.62384  , 14.795741 , 15.416544 , 13.647638 , 11.810601 , 12.227436 ,\n",
       "                          13.10118  , 12.976592 , 15.593607 , 11.793621 , 11.471753 , 16.670416 ,\n",
       "                          14.362775 , 12.569461 , 15.494745 , 15.151792 , 14.283397 , 11.793166 ,\n",
       "                          12.213119 ,  8.669491 , 13.463887 , 12.328004 , 14.237918 , 12.244983 ,\n",
       "                          12.772463 , 12.853063 , 12.6922035, 11.944181 , 15.057868 ],\n",
       "                         dtype=float32),\n",
       "              'yaxis': 'y2'},\n",
       "             {'legendgroup': '2',\n",
       "              'marker': {'color': 'green', 'symbol': 'cross'},\n",
       "              'mode': 'markers',\n",
       "              'name': 'Healthy',\n",
       "              'type': 'scatter',\n",
       "              'uid': 'a6bc196c-0e6d-4f4e-b775-ec699b15935e',\n",
       "              'x': array([15.64047 ,  9.619848, 16.98654 ,  9.033668,  9.076847, 16.08251 ,\n",
       "                          14.793376,  8.737003, 13.600143,  9.899349, 15.218142, 14.331083,\n",
       "                          13.744396, 12.335236, 12.042603, 12.810929, 13.226536, 12.45451 ,\n",
       "                          13.771869, 11.514461], dtype=float32),\n",
       "              'xaxis': 'x3',\n",
       "              'y': array([ 2.7769544 ,  0.62328213, -1.6057686 ,  1.2049577 , -0.21943736,\n",
       "                          -1.5653259 ,  3.1881998 ,  0.08341394,  2.4602823 , -0.31853053,\n",
       "                           3.6164775 ,  3.14364   ,  1.2262388 , -1.4180975 , -1.0534098 ,\n",
       "                          -2.4706092 , -1.8014143 , -1.4933848 , -1.2279491 , -1.2660167 ],\n",
       "                         dtype=float32),\n",
       "              'yaxis': 'y3'},\n",
       "             {'legendgroup': '2',\n",
       "              'marker': {'color': 'orange', 'symbol': 'star'},\n",
       "              'mode': 'markers',\n",
       "              'name': 'Dose 3 non-positives',\n",
       "              'type': 'scatter',\n",
       "              'uid': '36ebdc14-c69b-4a46-8bd7-a3a9f35e653a',\n",
       "              'x': array([13.126131, 13.513101, 13.302322, 17.563004, 15.35226 , 15.970376,\n",
       "                          16.855776, 10.020236, 16.723162, 16.893791, 17.411633, 17.20435 ,\n",
       "                          16.786747, 13.283242, 12.459647,  8.919627, 13.090246, 15.255939,\n",
       "                          13.937972, 10.617658, 14.838301, 11.954549, 16.400103, 14.814223,\n",
       "                          14.146095, 16.053274, 14.461446, 11.590898, 15.794569, 11.638893,\n",
       "                          11.802272, 12.748848, 11.490785, 11.01787 , 13.362515, 12.089957,\n",
       "                          13.22907 , 10.701087, 15.528044, 10.444004, 10.943024, 11.613378,\n",
       "                          14.940902,  9.543681, 12.149345, 11.438774, 13.046522, 10.698312,\n",
       "                          15.270308, 14.395019, 13.926514, 13.765251, 14.663734, 13.086103,\n",
       "                          14.838699], dtype=float32),\n",
       "              'xaxis': 'x3',\n",
       "              'y': array([-1.0610639e+00, -5.4103178e-01,  3.3836174e+00,  9.5415878e-01,\n",
       "                          -3.4829125e+00,  1.6888385e+00, -1.2196321e-03,  9.0936261e-01,\n",
       "                          -3.2701423e+00, -2.9628882e+00,  5.9095591e-01,  1.5222001e-01,\n",
       "                           1.2375228e+00,  1.7417430e+00,  4.8004845e-03,  9.3778026e-01,\n",
       "                           2.7234256e-01, -2.6085250e+00, -2.6415708e+00,  6.0346496e-01,\n",
       "                          -2.1239345e+00, -6.0641265e-01,  4.1011104e-01, -1.2057590e+00,\n",
       "                          -3.0755138e+00, -2.5655019e+00, -1.9761738e+00,  7.9058123e-01,\n",
       "                          -7.4396491e-01,  3.9070289e+00,  2.0250752e+00,  3.4863493e+00,\n",
       "                           4.3020654e+00,  1.9656126e+00,  4.4162946e+00,  3.0235870e+00,\n",
       "                           2.6794770e+00,  3.9949722e+00,  1.0998656e+00,  2.5800145e+00,\n",
       "                           3.3685393e+00,  2.5511718e+00, -1.7170066e+00,  1.7236910e+00,\n",
       "                           1.7202913e+00,  3.1403837e+00,  4.0613518e+00, -1.0196639e+00,\n",
       "                           2.0851247e-01,  3.7799674e-01,  7.7525955e-01,  6.6983801e-01,\n",
       "                          -1.9553632e-01, -6.7949098e-01,  7.5297433e-01], dtype=float32),\n",
       "              'yaxis': 'y3'},\n",
       "             {'legendgroup': '2',\n",
       "              'marker': {'color': 'gray'},\n",
       "              'mode': 'markers',\n",
       "              'name': 'Dose 3 positives',\n",
       "              'type': 'scatter',\n",
       "              'uid': 'eec7e290-c6e4-48a9-8ee7-79e85103f837',\n",
       "              'x': array([14.780845, 16.31739 , 14.071467, 12.634823, 11.91969 , 14.526099,\n",
       "                          14.738087, 12.449061, 14.583198, 15.295465, 11.461893, 15.74166 ,\n",
       "                          13.983949, 16.552576, 14.834459, 12.602904, 12.217958, 12.185396,\n",
       "                          11.087308], dtype=float32),\n",
       "              'xaxis': 'x3',\n",
       "              'y': array([-2.7887974 , -0.78677994, -1.3819568 ,  0.62843573,  0.25050122,\n",
       "                          -0.6477863 ,  1.293562  , -2.3621666 ,  2.2163563 , -1.1487902 ,\n",
       "                          -0.31456387,  0.10985509, -0.2963118 , -2.059629  ,  2.567316  ,\n",
       "                           2.8923035 ,  4.03521   ,  1.289036  ,  0.19068173], dtype=float32),\n",
       "              'yaxis': 'y3'},\n",
       "             {'legendgroup': '2',\n",
       "              'marker': {'color': 'green', 'symbol': 'cross'},\n",
       "              'mode': 'markers',\n",
       "              'name': 'Healthy',\n",
       "              'showlegend': False,\n",
       "              'type': 'scatter',\n",
       "              'uid': '24e0fa7c-a526-4623-8025-ec4dd521963c',\n",
       "              'x': array([11.443526 , 14.523294 ,  9.712982 ,  9.372246 , 11.220376 ,  7.864437 ,\n",
       "                          11.534352 , 10.0302515, 12.828054 , 11.029533 ,  9.566323 ,  9.764929 ,\n",
       "                           7.228659 ,  6.69518  ,  4.741574 , 14.770313 , 14.11654  , 12.917742 ,\n",
       "                           5.1981397,  8.7958555], dtype=float32),\n",
       "              'xaxis': 'x4',\n",
       "              'y': array([ 6.166262  ,  2.8551548 , -0.33840317, -0.38412404,  5.9723825 ,\n",
       "                          10.23916   ,  5.295344  ,  5.3638463 ,  1.1190209 ,  6.6915503 ,\n",
       "                           9.713072  ,  6.022104  ,  5.817378  ,  5.486119  ,  7.448209  ,\n",
       "                           6.9498987 ,  6.520398  ,  5.667973  ,  7.016584  ,  5.7923636 ],\n",
       "                         dtype=float32),\n",
       "              'yaxis': 'y4'},\n",
       "             {'legendgroup': '2',\n",
       "              'marker': {'color': 'orange', 'symbol': 'star'},\n",
       "              'mode': 'markers',\n",
       "              'name': 'Dose 3 non-positives',\n",
       "              'showlegend': False,\n",
       "              'type': 'scatter',\n",
       "              'uid': 'f204ce8d-4eaf-4632-91cf-a6c1b1416484',\n",
       "              'x': array([ 4.928369 , 10.854069 , 10.275693 , 14.755075 ,  9.764018 , 11.512632 ,\n",
       "                           8.992301 ,  8.5760765, 12.172753 ,  9.387844 , 10.211753 ,  9.368597 ,\n",
       "                          13.200812 , 10.756264 , 12.738742 ,  8.82839  , 13.987021 , 13.694581 ,\n",
       "                           5.2574515,  8.442647 , 11.677175 , 12.19768  , 10.177017 ,  8.819779 ,\n",
       "                           5.7149706,  9.560251 , 14.208926 , 11.219035 ,  9.333396 , 10.0353985,\n",
       "                          10.50757  , 11.503294 ,  9.615776 , 10.40311  , 11.839025 , 11.482568 ,\n",
       "                          14.822704 , 12.904512 , 14.026415 , 12.348535 , 11.114571 ,  9.960705 ,\n",
       "                           9.014165 ,  8.825813 ,  7.983828 , 11.987294 , 11.746811 ,  6.416928 ,\n",
       "                           9.003593 , 12.894814 , 13.695937 ,  5.3181305, 14.452943 ,  6.877033 ,\n",
       "                          14.131734 ], dtype=float32),\n",
       "              'xaxis': 'x4',\n",
       "              'y': array([ 6.204801  ,  1.57046   ,  9.512091  ,  3.6166577 ,  4.6427517 ,\n",
       "                           3.4958405 ,  5.055396  ,  0.3574951 ,  2.5664225 ,  0.85849845,\n",
       "                           1.0134618 ,  7.6403933 ,  1.9419897 ,  2.971135  ,  4.2441483 ,\n",
       "                           0.03679879,  4.2346935 ,  3.4812343 ,  5.843377  , -0.45934635,\n",
       "                           4.2778754 ,  3.6661956 ,  4.0145283 ,  8.191401  ,  6.3644433 ,\n",
       "                           1.6096038 ,  3.7832174 ,  1.8852029 ,  8.959219  ,  1.9902769 ,\n",
       "                          10.191074  , 10.384781  ,  2.8207343 ,  3.7103183 ,  8.0243845 ,\n",
       "                           9.742456  ,  4.218722  ,  2.1042652 ,  2.2117112 ,  2.062246  ,\n",
       "                           7.8716087 ,  3.0409358 ,  8.977005  , -0.8736052 ,  6.7703233 ,\n",
       "                           6.968603  , 10.016379  ,  6.1738963 ,  6.633343  ,  6.7894015 ,\n",
       "                           7.036348  ,  7.423027  ,  7.1848774 ,  6.506916  ,  7.6305227 ],\n",
       "                         dtype=float32),\n",
       "              'yaxis': 'y4'},\n",
       "             {'legendgroup': '2',\n",
       "              'marker': {'color': 'gray'},\n",
       "              'mode': 'markers',\n",
       "              'name': 'Dose 3 positives',\n",
       "              'showlegend': False,\n",
       "              'type': 'scatter',\n",
       "              'uid': 'c85fe7a2-7f0f-4b23-bf55-3a87175ad2e7',\n",
       "              'x': array([11.194534 , 10.406235 , 13.735853 ,  5.780678 ,  8.195158 , 13.089345 ,\n",
       "                           9.386063 , 12.34148  ,  8.301137 , 10.839138 ,  8.342235 ,  8.656286 ,\n",
       "                          13.604343 , 11.588783 ,  8.5152235, 12.266469 , 10.802691 , 11.71046  ,\n",
       "                           8.359964 ], dtype=float32),\n",
       "              'xaxis': 'x4',\n",
       "              'y': array([ 5.4636045,  4.5814857,  2.9987266,  5.8299694,  5.6981587,  6.212796 ,\n",
       "                          10.565201 ,  5.005187 ,  9.773667 ,  9.980256 ,  6.4313254, 10.226309 ,\n",
       "                           7.768248 ,  2.3933501, 10.820568 ,  7.959348 ,  8.995962 ,  8.743855 ,\n",
       "                           7.074949 ], dtype=float32),\n",
       "              'yaxis': 'y4'}],\n",
       "    'layout': {'annotations': [{'font': {'size': 16},\n",
       "                                'showarrow': False,\n",
       "                                'text': 'All Dose 2',\n",
       "                                'x': 0.2375,\n",
       "                                'xanchor': 'center',\n",
       "                                'xref': 'paper',\n",
       "                                'y': 1.0,\n",
       "                                'yanchor': 'bottom',\n",
       "                                'yref': 'paper'},\n",
       "                               {'font': {'size': 16},\n",
       "                                'showarrow': False,\n",
       "                                'text': 'Best 10 Dose 2',\n",
       "                                'x': 0.7625,\n",
       "                                'xanchor': 'center',\n",
       "                                'xref': 'paper',\n",
       "                                'y': 1.0,\n",
       "                                'yanchor': 'bottom',\n",
       "                                'yref': 'paper'},\n",
       "                               {'font': {'size': 16},\n",
       "                                'showarrow': False,\n",
       "                                'text': 'All Dose 3',\n",
       "                                'x': 0.2375,\n",
       "                                'xanchor': 'center',\n",
       "                                'xref': 'paper',\n",
       "                                'y': 0.45,\n",
       "                                'yanchor': 'bottom',\n",
       "                                'yref': 'paper'},\n",
       "                               {'font': {'size': 16},\n",
       "                                'showarrow': False,\n",
       "                                'text': 'Best 10 Dose 3',\n",
       "                                'x': 0.7625,\n",
       "                                'xanchor': 'center',\n",
       "                                'xref': 'paper',\n",
       "                                'y': 0.45,\n",
       "                                'yanchor': 'bottom',\n",
       "                                'yref': 'paper'}],\n",
       "               'height': 600,\n",
       "               'legend': {'tracegroupgap': 180},\n",
       "               'showlegend': True,\n",
       "               'template': '...',\n",
       "               'width': 800,\n",
       "               'xaxis': {'anchor': 'y', 'domain': [0.0, 0.475]},\n",
       "               'xaxis2': {'anchor': 'y2', 'domain': [0.525, 1.0]},\n",
       "               'xaxis3': {'anchor': 'y3', 'domain': [0.0, 0.475]},\n",
       "               'xaxis4': {'anchor': 'y4', 'domain': [0.525, 1.0]},\n",
       "               'yaxis': {'anchor': 'x', 'domain': [0.55, 1.0]},\n",
       "               'yaxis2': {'anchor': 'x2', 'domain': [0.55, 1.0]},\n",
       "               'yaxis3': {'anchor': 'x3', 'domain': [0.0, 0.45]},\n",
       "               'yaxis4': {'anchor': 'x4', 'domain': [0.0, 0.45]}}\n",
       "})"
      ]
     },
     "execution_count": 10,
     "metadata": {},
     "output_type": "execute_result"
    }
   ],
   "source": [
    "file = open(fold + \"/data_aux/immune_clean_a2.pkl\",\"rb\")\n",
    "data = pk.load(file)\n",
    "file.close()\n",
    "data.keys()\n",
    "all_x_d2_d = data[\"x_d2_d\"]\n",
    "all_x_d3_d = data[\"x_d3_d\"]\n",
    "all_x_d3_p = data[\"x_d3_p\"]\n",
    "\n",
    "y_d2_d = data[\"y_d2_d\"]\n",
    "y2_d2_d = data[\"y2_d2_d\"]\n",
    "y3_d2_d = data[\"y3_d2_d\"]\n",
    "#y_d3_d = data[\"y_d3_d\"]\n",
    "y_d3_p = data[\"y_d3_p\"]\n",
    "y2_d3_p = data[\"y2_d3_p\"]\n",
    "y3_d3_p = data[\"y3_d3_p\"]\n",
    "\n",
    "file = open(fold + \"/data_aux/feature_a1.pkl\",\"rb\")\n",
    "data = pk.load(file)\n",
    "file.close()\n",
    "\n",
    "d2_d = data[\"d2_d\"]\n",
    "d3_d = data[\"d3_d\"]\n",
    "d3_p = data[\"d3_p\"]\n",
    "d2_d = d2_d.loc[d2_d[\"pvalue\"]<=0.05,:]\n",
    "d3_d = d3_d.loc[d3_d[\"pvalue\"]<=0.05,:]\n",
    "d3_p = d3_p.loc[d3_p[\"pvalue\"]<=0.05,:]\n",
    "\n",
    "\n",
    "p_x_d2_d = all_x_d2_d.loc[:,list(d2_d[\"var\"])].copy()\n",
    "p_x_d3_d = all_x_d3_d.loc[:,list(d3_d[\"var\"])].copy()\n",
    "p_x_d3_p = all_x_d3_p.loc[:,list(d3_p[\"var\"])].copy()\n",
    "\n",
    "d2_d.sort_values(by=\"mu\",ascending=False,inplace=True)\n",
    "d2_d = d2_d.iloc[0:10,:]\n",
    "d3_d.sort_values(by=\"mu\",ascending=False,inplace=True)\n",
    "d3_d = d3_d.iloc[0:10,:]\n",
    "d3_p.sort_values(by=\"mu\",ascending=False,inplace=True)\n",
    "d3_p = d3_p.iloc[0:10,:]\n",
    "\n",
    "\n",
    "f_d2_d = list(d2_d[\"var\"])\n",
    "f_d3_d = list(d3_d[\"var\"])\n",
    "f_d3_p = list(d3_p[\"var\"])\n",
    "\n",
    "x_d2_d = all_x_d2_d.loc[:,list(d2_d[\"var\"])].copy()\n",
    "x_d3_d = all_x_d3_d.loc[:,list(d3_d[\"var\"])].copy()\n",
    "x_d3_p = all_x_d3_p.loc[:,list(d3_p[\"var\"])].copy()\n",
    "\n",
    "\n",
    "np.random.seed(42)\n",
    "re = umap.UMAP(n_neighbors=6,min_dist=0.8)\n",
    "re.fit(all_x_d2_d)\n",
    "trans = re.transform(all_x_d2_d)\n",
    "x1 = [c[0]  for c in trans ]\n",
    "x2 = [c[1]  for c in trans ]\n",
    "df = pd.DataFrame({\"x1\":x1,\"x2\":x2, \"y\":list(y_d2_d),\"y2\":list(y2_d2_d),\"y3\":list(y3_d2_d)})\n",
    "\n",
    "np.random.seed(42)\n",
    "re.fit(p_x_d2_d)\n",
    "trans = re.transform(p_x_d2_d)\n",
    "x1 = [c[0]  for c in trans ]\n",
    "x2 = [c[1]  for c in trans ]\n",
    "df2 = pd.DataFrame({\"x1\":x1,\"x2\":x2, \"y\":list(y_d2_d),\"y2\":list(y2_d2_d),\"y3\":list(y3_d2_d)})\n",
    "\n",
    "np.random.seed(42)\n",
    "re.fit(x_d2_d)\n",
    "trans = re.transform(x_d2_d)\n",
    "x1 = [c[0]  for c in trans ]\n",
    "x2 = [c[1]  for c in trans ]\n",
    "df3 = pd.DataFrame({\"x1\":x1,\"x2\":x2, \"y\":list(y_d2_d),\"y2\":list(y2_d2_d),\"y3\":list(y3_d2_d)})\n",
    "\n",
    "#re.fit(all_x_d3_d)\n",
    "#trans = re.transform(all_x_d3_d)\n",
    "#x1 = [c[0]  for c in trans ]\n",
    "#x2 = [c[1]  for c in trans ]\n",
    "#df4 = pd.DataFrame({\"x1\":x1,\"x2\":x2, \"y\":list(y_d3_d)})\n",
    "\n",
    "\n",
    "#re.fit(p_x_d3_d)\n",
    "#trans = re.transform(p_x_d3_d)\n",
    "#x1 = [c[0]  for c in trans ]\n",
    "#x2 = [c[1]  for c in trans ]\n",
    "#df5 = pd.DataFrame({\"x1\":x1,\"x2\":x2, \"y\":list(y_d3_d)})\n",
    "\n",
    "#re.fit(x_d3_d)\n",
    "#trans = re.transform(x_d3_d)\n",
    "#x1 = [c[0]  for c in trans ]\n",
    "#x2 = [c[1]  for c in trans ]\n",
    "#df6 = pd.DataFrame({\"x1\":x1,\"x2\":x2, \"y\":list(y_d3_d)})\n",
    "\n",
    "np.random.seed(42)\n",
    "re.fit(all_x_d3_p)\n",
    "trans = re.transform(all_x_d3_p)\n",
    "x1 = [c[0]  for c in trans ]\n",
    "x2 = [c[1]  for c in trans ]\n",
    "df7 = pd.DataFrame({\"x1\":x1,\"x2\":x2, \"y\":list(y_d3_p),\"y2\":list(y2_d3_p),\"y3\":list(y3_d3_p)})\n",
    "\n",
    "np.random.seed(42)\n",
    "re.fit(p_x_d3_p)\n",
    "trans = re.transform(p_x_d3_p)\n",
    "x1 = [c[0]  for c in trans ]\n",
    "x2 = [c[1]  for c in trans ]\n",
    "df8 = pd.DataFrame({\"x1\":x1,\"x2\":x2, \"y\":list(y_d3_p),\"y2\":list(y2_d3_p),\"y3\":list(y3_d3_p)})\n",
    "\n",
    "np.random.seed(42)\n",
    "re.fit(x_d3_p)\n",
    "trans = re.transform(x_d3_p)\n",
    "x1 = [c[0]  for c in trans ]\n",
    "x2 = [c[1]  for c in trans ]\n",
    "df9 = pd.DataFrame({\"x1\":x1,\"x2\":x2, \"y\":list(y_d3_p),\"y2\":list(y2_d3_p),\"y3\":list(y3_d3_p)})\n",
    "\n",
    "#figure\n",
    "f = go.FigureWidget(make_subplots(rows=2,cols=2,subplot_titles=[\"All Dose 2\",\"Best 10 Dose 2\",\"All Dose 3\",\"Best 10 Dose 3\"],vertical_spacing=0.10,horizontal_spacing=0.05))\n",
    "f.add_trace(go.Scatter(x=df.loc[df.y==\"h\",\"x1\"],y=df.loc[df.y==\"h\",\"x2\"],mode='markers',marker=dict(color=\"green\",symbol=\"cross\"),name = \"Healthy\",legendgroup='1'),row=1,col=1)\n",
    "f.add_trace(go.Scatter(x=df.loc[df.y==\"n\",\"x1\"],y=df.loc[df.y==\"n\",\"x2\"],mode='markers',marker=dict(color=\"coral\",symbol=\"star\"),name = \"Dose 2 non-responders\",legendgroup='1'),row=1,col=1)\n",
    "f.add_trace(go.Scatter(x=df.loc[df.y==\"d\",\"x1\"],y=df.loc[df.y==\"d\",\"x2\"],mode='markers',marker=dict(color=\"rgba(41, 128, 185, 1.0)\"),name = \"Dose 2 detectable\",legendgroup='1'),row=1,col=1)\n",
    "\n",
    "\n",
    "#f.add_trace(go.Scatter(x=df2.loc[df2.y==\"h\",\"x1\"],y=df2.loc[df2.y==\"h\",\"x2\"],mode='markers',marker=dict(color=\"green\",symbol=\"cross\"),name = \"healthy\",legendgroup='1',showlegend=False),row=1,col=2)\n",
    "#f.add_trace(go.Scatter(x=df2.loc[df2.y==\"n\",\"x1\"],y=df2.loc[df2.y==\"n\",\"x2\"],mode='markers',marker=dict(color=\"coral\",symbol=\"star\"),name = \"dose 2 non-responders\",legendgroup='2',showlegend=False),row=1,col=2)\n",
    "#f.add_trace(go.Scatter(x=df2.loc[df2.y==\"d\",\"x1\"],y=df2.loc[df2.y==\"d\",\"x2\"],mode='markers',marker=dict(color=\"rgba(41, 128, 185, 1.0)\"),name = \"dose 2 detectable\",legendgroup='3',showlegend=False),row=1,col=2)\n",
    "\n",
    "f.add_trace(go.Scatter(x=df3.loc[df3.y==\"h\",\"x1\"],y=df3.loc[df2.y==\"h\",\"x2\"],mode='markers',marker=dict(color=\"green\",symbol=\"cross\"),name = \"Healthy\",legendgroup='1',showlegend=False),row=1,col=2)\n",
    "f.add_trace(go.Scatter(x=df3.loc[df3.y==\"n\",\"x1\"],y=df3.loc[df2.y==\"n\",\"x2\"],mode='markers',marker=dict(color=\"coral\",symbol=\"star\"),name = \"Dose 2 non-responders\",legendgroup='1',showlegend=False),row=1,col=2)\n",
    "f.add_trace(go.Scatter(x=df3.loc[df3.y==\"d\",\"x1\"],y=df3.loc[df2.y==\"d\",\"x2\"],mode='markers',marker=dict(color=\"rgba(41, 128, 185, 1.0)\"),name = \"Dose 2 detectable\",legendgroup='1',showlegend=False),row=1,col=2)\n",
    "\n",
    "#f.add_trace(go.Scatter(x=df4.loc[df4.y==\"h\",\"x1\"],y=df4.loc[df4.y==\"h\",\"x2\"],mode='markers',marker=dict(color=\"green\",symbol=\"cross\"),name = \"healthy\",legendgroup='1',showlegend=False),row=2,col=1)\n",
    "#f.add_trace(go.Scatter(x=df4.loc[df4.y==\"n\",\"x1\"],y=df4.loc[df4.y==\"n\",\"x2\"],mode='markers',marker=dict(color=\"red\",symbol=\"star\"),name = \"dose 3 non-responders\",legendgroup='4'),row=2,col=1)\n",
    "#f.add_trace(go.Scatter(x=df4.loc[df4.y==\"d\",\"x1\"],y=df4.loc[df4.y==\"d\",\"x2\"],mode='markers',marker=dict(color=\"rgba( 128,41, 185, 1.0)\"),name = \"dose 3 detectable\",legendgroup='5'),row=2,col=1)\n",
    "\n",
    "#f.add_trace(go.Scatter(x=df5.loc[df5.y==\"h\",\"x1\"],y=df5.loc[df5.y==\"h\",\"x2\"],mode='markers',marker=dict(color=\"green\",symbol=\"cross\"),name = \"healthy\",legendgroup='1',showlegend=False),row=2,col=2)\n",
    "#f.add_trace(go.Scatter(x=df5.loc[df5.y==\"n\",\"x1\"],y=df5.loc[df5.y==\"n\",\"x2\"],mode='markers',marker=dict(color=\"red\",symbol=\"star\"),name = \"dose 3 non-responders\",legendgroup='4',showlegend=False),row=2,col=2)\n",
    "#f.add_trace(go.Scatter(x=df5.loc[df5.y==\"d\",\"x1\"],y=df5.loc[df5.y==\"d\",\"x2\"],mode='markers',marker=dict(color=\"rgba( 128,41, 185, 1.0)\"),name = \"dose 3 detectable\",legendgroup='5',showlegend=False),row=2,col=2)\n",
    "\n",
    "#f.add_trace(go.Scatter(x=df6.loc[df6.y==\"h\",\"x1\"],y=df6.loc[df6.y==\"h\",\"x2\"],mode='markers',marker=dict(color=\"green\",symbol=\"cross\"),name = \"healthy\",legendgroup='1',showlegend=False),row=2,col=3)\n",
    "#f.add_trace(go.Scatter(x=df6.loc[df6.y==\"n\",\"x1\"],y=df6.loc[df6.y==\"n\",\"x2\"],mode='markers',marker=dict(color=\"red\",symbol=\"star\"),name = \"dose 3 non-responders\",legendgroup='4',showlegend=False),row=2,col=3)\n",
    "#f.add_trace(go.Scatter(x=df6.loc[df6.y==\"d\",\"x1\"],y=df6.loc[df6.y==\"d\",\"x2\"],mode='markers',marker=dict(color=\"rgba( 128,41, 185, 1.0)\"),name = \"dose 3 detectable\",legendgroup='5',showlegend=False),row=2,col=3)\n",
    "\n",
    "f.add_trace(go.Scatter(x=df7.loc[df7.y==\"h\",\"x1\"],y=df7.loc[df7.y==\"h\",\"x2\"],mode='markers',marker=dict(color=\"green\",symbol=\"cross\"),name = \"Healthy\",legendgroup='2'),row=2,col=1)\n",
    "f.add_trace(go.Scatter(x=df7.loc[df7.y==\"n\",\"x1\"],y=df7.loc[df7.y==\"n\",\"x2\"],mode='markers',marker=dict(color=\"orange\",symbol=\"star\"),name = \"Dose 3 non-positives\",legendgroup='2'),row=2,col=1)\n",
    "f.add_trace(go.Scatter(x=df7.loc[df7.y==\"d\",\"x1\"],y=df7.loc[df7.y==\"d\",\"x2\"],mode='markers',marker=dict(color=\"gray\"),name = \"Dose 3 positives\",legendgroup='2'),row=2,col=1)\n",
    "\n",
    "#f.add_trace(go.Scatter(x=df8.loc[df8.y==\"h\",\"x1\"],y=df8.loc[df6.y==\"h\",\"x2\"],mode='markers',marker=dict(color=\"green\",symbol=\"cross\"),name = \"healthy\",legendgroup='1',showlegend=False),row=2,col=2)\n",
    "#f.add_trace(go.Scatter(x=df8.loc[df8.y==\"n\",\"x1\"],y=df8.loc[df6.y==\"n\",\"x2\"],mode='markers',marker=dict(color=\"orange\",symbol=\"star\"),name = \"dose 3 non-positives\",legendgroup='6',showlegend=False),row=2,col=2)\n",
    "#f.add_trace(go.Scatter(x=df8.loc[df8.y==\"d\",\"x1\"],y=df8.loc[df6.y==\"d\",\"x2\"],mode='markers',marker=dict(color=\"gray\"),name = \"dose 3 positives\",legendgroup='7',showlegend=False),row=2,col=2)\n",
    "\n",
    "f.add_trace(go.Scatter(x=df9.loc[df9.y==\"h\",\"x1\"],y=df9.loc[df9.y==\"h\",\"x2\"],mode='markers',marker=dict(color=\"green\",symbol=\"cross\"),name = \"Healthy\",legendgroup='2',showlegend=False),row=2,col=2)\n",
    "f.add_trace(go.Scatter(x=df9.loc[df9.y==\"n\",\"x1\"],y=df9.loc[df9.y==\"n\",\"x2\"],mode='markers',marker=dict(color=\"orange\",symbol=\"star\"),name = \"Dose 3 non-positives\",legendgroup='2',showlegend=False),row=2,col=2)\n",
    "f.add_trace(go.Scatter(x=df9.loc[df9.y==\"d\",\"x1\"],y=df9.loc[df9.y==\"d\",\"x2\"],mode='markers',marker=dict(color=\"gray\"),name = \"Dose 3 positives\",legendgroup='2',showlegend=False),row=2,col=2)\n",
    "f.update_layout(legend_tracegroupgap=180)\n",
    "\n",
    "f.update_layout(height = 600,width=800,template= \"plotly_white\",showlegend=True)\n",
    "\n",
    "f.write_image(\"fig2.svg\")\n",
    "f"
   ]
  },
  {
   "cell_type": "markdown",
   "id": "56725fab-0ac0-4d11-937e-b747169d6500",
   "metadata": {},
   "source": [
    "### send to R for fig 4"
   ]
  },
  {
   "cell_type": "code",
   "execution_count": 9,
   "id": "5e160290-8cf5-4d0d-8201-f2ee553f0dac",
   "metadata": {},
   "outputs": [],
   "source": [
    "file = open(fold + \"/data_aux/immune_clean_a3.pkl\",\"rb\")\n",
    "data = pk.load(file)\n",
    "file.close()\n",
    "d2_d = data[\"d2_d\"]\n",
    "d2_d = d2_d[[\"Sample\",\"batch\",\"type\",\"gr_d2_d\"]+ f_d2_d]\n",
    "d3_d = data[\"d3_d\"]\n",
    "d3_d = d3_d[[\"Sample\",\"batch\",\"type\",\"gr_d3_d\"]+ f_d3_d]\n",
    "d3_p = data[\"d3_p\"]\n",
    "d3_p = d3_p[[\"Sample\",\"batch\",\"type\",\"gr_d3_p\"]+ f_d3_p]\n",
    "d2_d.to_csv(fold + \"/data_aux/heat_d2_d.csv\",index=False)\n",
    "#d3_d.to_csv(fold + \"/data_aux/heat_d3_d.csv\",index=False)\n",
    "d3_p.to_csv(fold + \"/data_aux/heat_d3_p.csv\",index=False)"
   ]
  },
  {
   "cell_type": "markdown",
   "id": "c47bc67c-11eb-45cf-ab99-68855f690052",
   "metadata": {},
   "source": [
    "## Fig 5 "
   ]
  },
  {
   "cell_type": "code",
   "execution_count": 32,
   "id": "fe8332af-48e6-41c7-bd94-b106587d70c5",
   "metadata": {},
   "outputs": [],
   "source": [
    "fold = os.getcwd()\n",
    "file = open(fold + \"/data_aux/feature.dat\",\"rb\")\n",
    "data = pk.load(file)\n",
    "file.close()"
   ]
  },
  {
   "cell_type": "markdown",
   "id": "0b7ec2a6-f136-4fb0-b963-13bcafad26f9",
   "metadata": {},
   "source": [
    "### Best features"
   ]
  },
  {
   "cell_type": "code",
   "execution_count": 33,
   "id": "e1682431-b453-4468-a024-5b836c691e20",
   "metadata": {},
   "outputs": [
    {
     "data": {
      "application/vnd.plotly.v1+json": {
       "config": {
        "plotlyServerURL": "https://plot.ly"
       },
       "data": [
        {
         "alignmentgroup": "True",
         "hovertemplate": "feature importance (permutation)=%{x}<br>=%{y}<extra></extra>",
         "legendgroup": "",
         "marker": {
          "color": "rgba(41, 128, 185, 1.0)",
          "pattern": {
           "shape": ""
          }
         },
         "name": "",
         "offsetgroup": "",
         "orientation": "h",
         "showlegend": false,
         "textposition": "auto",
         "type": "bar",
         "x": [
          0.02484548104956271,
          0.023819241982507226,
          0.021364431486880414,
          0.020524781341107814,
          0.01961516034985417,
          0.017854227405247745,
          0.017224489795918313,
          0.017189504373177792,
          0.016897959183673504,
          0.014728862973760864,
          0.012874635568513102,
          0.011189504373177775,
          0.010816326530612201,
          0.00811661807580173,
          0.007282798833819162,
          0.006588921282798762,
          0.005247813411078729,
          0.004157434402332293,
          0.004128279883381861,
          0.003947521865889151,
          0.003661807580174881,
          0.0033411078717200536,
          0.002658892128279813,
          0.002460641399416833,
          0.002186588921282745,
          0.002163265306122394,
          0.0013061224489796198,
          0.0012069970845480582,
          0.00111953352769674,
          0.0007930029154518281
         ],
         "xaxis": "x",
         "y": [
          "CD40+ B Cells :in: B Cells",
          "CD38+ median  :in:  CD38+ NKT Cells",
          "CD94+ median  :in:  CD94+ NK Cells",
          "CD80+ median  :in:  CD80+ Switched Memory B Cells",
          "CD94+ median  :in:  CD94+ NKT Cells",
          "CD57+ NK Cells :in: NK Cells",
          "CD38+ median  :in:  CD38+ CD27+ CD4+ T Cells",
          "CD11c+ CD27+ CD8+ T Cells :in: CD27+ CD8+ T Cells",
          "CD94+ median  :in:  CD94+ CD16+ NK Cells",
          "CD40+ IgMlow IgD+ Naive B Cells :in: IgMlow IgD+ Naive B Cells",
          "CD86+ CD16- CD56dim NK Cells :in: CD16- CD56dim NK Cells",
          "CD57+ CD16+ NK Cells :in: CD16+ NK Cells",
          "Double Negative B Cells :in: B Cells",
          "CD94+ CD16- CD56bright NK Cells :in: CD16- CD56bright NK Cells",
          "Transitional B Cells :in: Naive B Cells",
          "CD11c+ median  :in:  CD11c+ CD16+ NK Cells",
          "HLA-DR+ IgM+ IgD+ Naive B Cells :in: IgM+ IgD+ Naive B Cells",
          "HLA-DR+ median  :in:  HLA-DR+ CD27- CD4+ T Cells",
          "CD38+ CD27+ CD8+ T Cells :in: CD27+ CD8+ T Cells",
          "HLA-DR+ median  :in:  HLA-DR+ CD4+ T Cells",
          "CD94+ median  :in:  CD94+ CD16- CD56bright NK Cells",
          "CD11c+ median  :in:  CD11c+ CD16- CD56dim NK Cells",
          "CD80+ Memory B Cells :in: Memory B Cells",
          "CD86+ IgMlow IgD+ Naive B Cells :in: IgMlow IgD+ Naive B Cells",
          "Memory B Cells :in: B Cells",
          "Naive B Cells :in: B Cells",
          "CD16+ CD56bright NK Cells :in: NK Cells",
          "CD80+ Double Negative B Cells :in: Double Negative B Cells",
          "CD27+ median  :in:  CD27+ CD4+ T Cells",
          "CD57+ CD27+ CD4+ T Cells :in: CD27+ CD4+ T Cells"
         ],
         "yaxis": "y"
        }
       ],
       "layout": {
        "barmode": "relative",
        "coloraxis": {
         "showscale": false
        },
        "height": 800,
        "legend": {
         "tracegroupgap": 0
        },
        "margin": {
         "t": 60
        },
        "paper_bgcolor": "rgb(222,222,222)",
        "showlegend": false,
        "template": {
         "data": {
          "bar": [
           {
            "error_x": {
             "color": "#2a3f5f"
            },
            "error_y": {
             "color": "#2a3f5f"
            },
            "marker": {
             "line": {
              "color": "#E5ECF6",
              "width": 0.5
             },
             "pattern": {
              "fillmode": "overlay",
              "size": 10,
              "solidity": 0.2
             }
            },
            "type": "bar"
           }
          ],
          "barpolar": [
           {
            "marker": {
             "line": {
              "color": "#E5ECF6",
              "width": 0.5
             },
             "pattern": {
              "fillmode": "overlay",
              "size": 10,
              "solidity": 0.2
             }
            },
            "type": "barpolar"
           }
          ],
          "carpet": [
           {
            "aaxis": {
             "endlinecolor": "#2a3f5f",
             "gridcolor": "white",
             "linecolor": "white",
             "minorgridcolor": "white",
             "startlinecolor": "#2a3f5f"
            },
            "baxis": {
             "endlinecolor": "#2a3f5f",
             "gridcolor": "white",
             "linecolor": "white",
             "minorgridcolor": "white",
             "startlinecolor": "#2a3f5f"
            },
            "type": "carpet"
           }
          ],
          "choropleth": [
           {
            "colorbar": {
             "outlinewidth": 0,
             "ticks": ""
            },
            "type": "choropleth"
           }
          ],
          "contour": [
           {
            "colorbar": {
             "outlinewidth": 0,
             "ticks": ""
            },
            "colorscale": [
             [
              0,
              "#0d0887"
             ],
             [
              0.1111111111111111,
              "#46039f"
             ],
             [
              0.2222222222222222,
              "#7201a8"
             ],
             [
              0.3333333333333333,
              "#9c179e"
             ],
             [
              0.4444444444444444,
              "#bd3786"
             ],
             [
              0.5555555555555556,
              "#d8576b"
             ],
             [
              0.6666666666666666,
              "#ed7953"
             ],
             [
              0.7777777777777778,
              "#fb9f3a"
             ],
             [
              0.8888888888888888,
              "#fdca26"
             ],
             [
              1,
              "#f0f921"
             ]
            ],
            "type": "contour"
           }
          ],
          "contourcarpet": [
           {
            "colorbar": {
             "outlinewidth": 0,
             "ticks": ""
            },
            "type": "contourcarpet"
           }
          ],
          "heatmap": [
           {
            "colorbar": {
             "outlinewidth": 0,
             "ticks": ""
            },
            "colorscale": [
             [
              0,
              "#0d0887"
             ],
             [
              0.1111111111111111,
              "#46039f"
             ],
             [
              0.2222222222222222,
              "#7201a8"
             ],
             [
              0.3333333333333333,
              "#9c179e"
             ],
             [
              0.4444444444444444,
              "#bd3786"
             ],
             [
              0.5555555555555556,
              "#d8576b"
             ],
             [
              0.6666666666666666,
              "#ed7953"
             ],
             [
              0.7777777777777778,
              "#fb9f3a"
             ],
             [
              0.8888888888888888,
              "#fdca26"
             ],
             [
              1,
              "#f0f921"
             ]
            ],
            "type": "heatmap"
           }
          ],
          "heatmapgl": [
           {
            "colorbar": {
             "outlinewidth": 0,
             "ticks": ""
            },
            "colorscale": [
             [
              0,
              "#0d0887"
             ],
             [
              0.1111111111111111,
              "#46039f"
             ],
             [
              0.2222222222222222,
              "#7201a8"
             ],
             [
              0.3333333333333333,
              "#9c179e"
             ],
             [
              0.4444444444444444,
              "#bd3786"
             ],
             [
              0.5555555555555556,
              "#d8576b"
             ],
             [
              0.6666666666666666,
              "#ed7953"
             ],
             [
              0.7777777777777778,
              "#fb9f3a"
             ],
             [
              0.8888888888888888,
              "#fdca26"
             ],
             [
              1,
              "#f0f921"
             ]
            ],
            "type": "heatmapgl"
           }
          ],
          "histogram": [
           {
            "marker": {
             "pattern": {
              "fillmode": "overlay",
              "size": 10,
              "solidity": 0.2
             }
            },
            "type": "histogram"
           }
          ],
          "histogram2d": [
           {
            "colorbar": {
             "outlinewidth": 0,
             "ticks": ""
            },
            "colorscale": [
             [
              0,
              "#0d0887"
             ],
             [
              0.1111111111111111,
              "#46039f"
             ],
             [
              0.2222222222222222,
              "#7201a8"
             ],
             [
              0.3333333333333333,
              "#9c179e"
             ],
             [
              0.4444444444444444,
              "#bd3786"
             ],
             [
              0.5555555555555556,
              "#d8576b"
             ],
             [
              0.6666666666666666,
              "#ed7953"
             ],
             [
              0.7777777777777778,
              "#fb9f3a"
             ],
             [
              0.8888888888888888,
              "#fdca26"
             ],
             [
              1,
              "#f0f921"
             ]
            ],
            "type": "histogram2d"
           }
          ],
          "histogram2dcontour": [
           {
            "colorbar": {
             "outlinewidth": 0,
             "ticks": ""
            },
            "colorscale": [
             [
              0,
              "#0d0887"
             ],
             [
              0.1111111111111111,
              "#46039f"
             ],
             [
              0.2222222222222222,
              "#7201a8"
             ],
             [
              0.3333333333333333,
              "#9c179e"
             ],
             [
              0.4444444444444444,
              "#bd3786"
             ],
             [
              0.5555555555555556,
              "#d8576b"
             ],
             [
              0.6666666666666666,
              "#ed7953"
             ],
             [
              0.7777777777777778,
              "#fb9f3a"
             ],
             [
              0.8888888888888888,
              "#fdca26"
             ],
             [
              1,
              "#f0f921"
             ]
            ],
            "type": "histogram2dcontour"
           }
          ],
          "mesh3d": [
           {
            "colorbar": {
             "outlinewidth": 0,
             "ticks": ""
            },
            "type": "mesh3d"
           }
          ],
          "parcoords": [
           {
            "line": {
             "colorbar": {
              "outlinewidth": 0,
              "ticks": ""
             }
            },
            "type": "parcoords"
           }
          ],
          "pie": [
           {
            "automargin": true,
            "type": "pie"
           }
          ],
          "scatter": [
           {
            "fillpattern": {
             "fillmode": "overlay",
             "size": 10,
             "solidity": 0.2
            },
            "type": "scatter"
           }
          ],
          "scatter3d": [
           {
            "line": {
             "colorbar": {
              "outlinewidth": 0,
              "ticks": ""
             }
            },
            "marker": {
             "colorbar": {
              "outlinewidth": 0,
              "ticks": ""
             }
            },
            "type": "scatter3d"
           }
          ],
          "scattercarpet": [
           {
            "marker": {
             "colorbar": {
              "outlinewidth": 0,
              "ticks": ""
             }
            },
            "type": "scattercarpet"
           }
          ],
          "scattergeo": [
           {
            "marker": {
             "colorbar": {
              "outlinewidth": 0,
              "ticks": ""
             }
            },
            "type": "scattergeo"
           }
          ],
          "scattergl": [
           {
            "marker": {
             "colorbar": {
              "outlinewidth": 0,
              "ticks": ""
             }
            },
            "type": "scattergl"
           }
          ],
          "scattermapbox": [
           {
            "marker": {
             "colorbar": {
              "outlinewidth": 0,
              "ticks": ""
             }
            },
            "type": "scattermapbox"
           }
          ],
          "scatterpolar": [
           {
            "marker": {
             "colorbar": {
              "outlinewidth": 0,
              "ticks": ""
             }
            },
            "type": "scatterpolar"
           }
          ],
          "scatterpolargl": [
           {
            "marker": {
             "colorbar": {
              "outlinewidth": 0,
              "ticks": ""
             }
            },
            "type": "scatterpolargl"
           }
          ],
          "scatterternary": [
           {
            "marker": {
             "colorbar": {
              "outlinewidth": 0,
              "ticks": ""
             }
            },
            "type": "scatterternary"
           }
          ],
          "surface": [
           {
            "colorbar": {
             "outlinewidth": 0,
             "ticks": ""
            },
            "colorscale": [
             [
              0,
              "#0d0887"
             ],
             [
              0.1111111111111111,
              "#46039f"
             ],
             [
              0.2222222222222222,
              "#7201a8"
             ],
             [
              0.3333333333333333,
              "#9c179e"
             ],
             [
              0.4444444444444444,
              "#bd3786"
             ],
             [
              0.5555555555555556,
              "#d8576b"
             ],
             [
              0.6666666666666666,
              "#ed7953"
             ],
             [
              0.7777777777777778,
              "#fb9f3a"
             ],
             [
              0.8888888888888888,
              "#fdca26"
             ],
             [
              1,
              "#f0f921"
             ]
            ],
            "type": "surface"
           }
          ],
          "table": [
           {
            "cells": {
             "fill": {
              "color": "#EBF0F8"
             },
             "line": {
              "color": "white"
             }
            },
            "header": {
             "fill": {
              "color": "#C8D4E3"
             },
             "line": {
              "color": "white"
             }
            },
            "type": "table"
           }
          ]
         },
         "layout": {
          "annotationdefaults": {
           "arrowcolor": "#2a3f5f",
           "arrowhead": 0,
           "arrowwidth": 1
          },
          "autotypenumbers": "strict",
          "coloraxis": {
           "colorbar": {
            "outlinewidth": 0,
            "ticks": ""
           }
          },
          "colorscale": {
           "diverging": [
            [
             0,
             "#8e0152"
            ],
            [
             0.1,
             "#c51b7d"
            ],
            [
             0.2,
             "#de77ae"
            ],
            [
             0.3,
             "#f1b6da"
            ],
            [
             0.4,
             "#fde0ef"
            ],
            [
             0.5,
             "#f7f7f7"
            ],
            [
             0.6,
             "#e6f5d0"
            ],
            [
             0.7,
             "#b8e186"
            ],
            [
             0.8,
             "#7fbc41"
            ],
            [
             0.9,
             "#4d9221"
            ],
            [
             1,
             "#276419"
            ]
           ],
           "sequential": [
            [
             0,
             "#0d0887"
            ],
            [
             0.1111111111111111,
             "#46039f"
            ],
            [
             0.2222222222222222,
             "#7201a8"
            ],
            [
             0.3333333333333333,
             "#9c179e"
            ],
            [
             0.4444444444444444,
             "#bd3786"
            ],
            [
             0.5555555555555556,
             "#d8576b"
            ],
            [
             0.6666666666666666,
             "#ed7953"
            ],
            [
             0.7777777777777778,
             "#fb9f3a"
            ],
            [
             0.8888888888888888,
             "#fdca26"
            ],
            [
             1,
             "#f0f921"
            ]
           ],
           "sequentialminus": [
            [
             0,
             "#0d0887"
            ],
            [
             0.1111111111111111,
             "#46039f"
            ],
            [
             0.2222222222222222,
             "#7201a8"
            ],
            [
             0.3333333333333333,
             "#9c179e"
            ],
            [
             0.4444444444444444,
             "#bd3786"
            ],
            [
             0.5555555555555556,
             "#d8576b"
            ],
            [
             0.6666666666666666,
             "#ed7953"
            ],
            [
             0.7777777777777778,
             "#fb9f3a"
            ],
            [
             0.8888888888888888,
             "#fdca26"
            ],
            [
             1,
             "#f0f921"
            ]
           ]
          },
          "colorway": [
           "#636efa",
           "#EF553B",
           "#00cc96",
           "#ab63fa",
           "#FFA15A",
           "#19d3f3",
           "#FF6692",
           "#B6E880",
           "#FF97FF",
           "#FECB52"
          ],
          "font": {
           "color": "#2a3f5f"
          },
          "geo": {
           "bgcolor": "white",
           "lakecolor": "white",
           "landcolor": "#E5ECF6",
           "showlakes": true,
           "showland": true,
           "subunitcolor": "white"
          },
          "hoverlabel": {
           "align": "left"
          },
          "hovermode": "closest",
          "mapbox": {
           "style": "light"
          },
          "paper_bgcolor": "white",
          "plot_bgcolor": "#E5ECF6",
          "polar": {
           "angularaxis": {
            "gridcolor": "white",
            "linecolor": "white",
            "ticks": ""
           },
           "bgcolor": "#E5ECF6",
           "radialaxis": {
            "gridcolor": "white",
            "linecolor": "white",
            "ticks": ""
           }
          },
          "scene": {
           "xaxis": {
            "backgroundcolor": "#E5ECF6",
            "gridcolor": "white",
            "gridwidth": 2,
            "linecolor": "white",
            "showbackground": true,
            "ticks": "",
            "zerolinecolor": "white"
           },
           "yaxis": {
            "backgroundcolor": "#E5ECF6",
            "gridcolor": "white",
            "gridwidth": 2,
            "linecolor": "white",
            "showbackground": true,
            "ticks": "",
            "zerolinecolor": "white"
           },
           "zaxis": {
            "backgroundcolor": "#E5ECF6",
            "gridcolor": "white",
            "gridwidth": 2,
            "linecolor": "white",
            "showbackground": true,
            "ticks": "",
            "zerolinecolor": "white"
           }
          },
          "shapedefaults": {
           "line": {
            "color": "#2a3f5f"
           }
          },
          "ternary": {
           "aaxis": {
            "gridcolor": "white",
            "linecolor": "white",
            "ticks": ""
           },
           "baxis": {
            "gridcolor": "white",
            "linecolor": "white",
            "ticks": ""
           },
           "bgcolor": "#E5ECF6",
           "caxis": {
            "gridcolor": "white",
            "linecolor": "white",
            "ticks": ""
           }
          },
          "title": {
           "x": 0.05
          },
          "xaxis": {
           "automargin": true,
           "gridcolor": "white",
           "linecolor": "white",
           "ticks": "",
           "title": {
            "standoff": 15
           },
           "zerolinecolor": "white",
           "zerolinewidth": 2
          },
          "yaxis": {
           "automargin": true,
           "gridcolor": "white",
           "linecolor": "white",
           "ticks": "",
           "title": {
            "standoff": 15
           },
           "zerolinecolor": "white",
           "zerolinewidth": 2
          }
         }
        },
        "title": {
         "text": "Dose 2 detectable",
         "x": 0.5,
         "xanchor": "left"
        },
        "width": 1000,
        "xaxis": {
         "anchor": "y",
         "autorange": true,
         "domain": [
          0,
          1
         ],
         "range": [
          0,
          0.026153137946908118
         ],
         "title": {
          "text": "feature importance (permutation)"
         },
         "type": "linear"
        },
        "yaxis": {
         "anchor": "x",
         "autorange": true,
         "categoryorder": "total ascending",
         "domain": [
          0,
          1
         ],
         "range": [
          -0.5,
          29.5
         ],
         "tickfont": {
          "color": "black",
          "family": "Arial, sans-serif",
          "size": 14
         },
         "title": {
          "text": ""
         },
         "type": "category"
        }
       }
      },
      "image/png": "[encoded data removed]",
      "text/html": [
       "<div>                            <div id=\"ed4d093c-2229-4c24-986b-0d188cf86ef5\" class=\"plotly-graph-div\" style=\"height:800px; width:1000px;\"></div>            <script type=\"text/javascript\">                require([\"plotly\"], function(Plotly) {                    window.PLOTLYENV=window.PLOTLYENV || {};                                    if (document.getElementById(\"ed4d093c-2229-4c24-986b-0d188cf86ef5\")) {                    Plotly.newPlot(                        \"ed4d093c-2229-4c24-986b-0d188cf86ef5\",                        [{\"alignmentgroup\":\"True\",\"hovertemplate\":\"feature importance (permutation)=%{x}<br>=%{y}<extra></extra>\",\"legendgroup\":\"\",\"marker\":{\"color\":\"rgba(41, 128, 185, 1.0)\",\"pattern\":{\"shape\":\"\"}},\"name\":\"\",\"offsetgroup\":\"\",\"orientation\":\"h\",\"showlegend\":false,\"textposition\":\"auto\",\"x\":[0.02484548104956271,0.023819241982507226,0.021364431486880414,0.020524781341107814,0.01961516034985417,0.017854227405247745,0.017224489795918313,0.017189504373177792,0.016897959183673504,0.014728862973760864,0.012874635568513102,0.011189504373177775,0.010816326530612201,0.00811661807580173,0.007282798833819162,0.006588921282798762,0.005247813411078729,0.004157434402332293,0.004128279883381861,0.003947521865889151,0.003661807580174881,0.0033411078717200536,0.002658892128279813,0.002460641399416833,0.002186588921282745,0.002163265306122394,0.0013061224489796198,0.0012069970845480582,0.00111953352769674,0.0007930029154518281],\"xaxis\":\"x\",\"y\":[\"CD40+ B Cells :in: B Cells\",\"CD38+ median  :in:  CD38+ NKT Cells\",\"CD94+ median  :in:  CD94+ NK Cells\",\"CD80+ median  :in:  CD80+ Switched Memory B Cells\",\"CD94+ median  :in:  CD94+ NKT Cells\",\"CD57+ NK Cells :in: NK Cells\",\"CD38+ median  :in:  CD38+ CD27+ CD4+ T Cells\",\"CD11c+ CD27+ CD8+ T Cells :in: CD27+ CD8+ T Cells\",\"CD94+ median  :in:  CD94+ CD16+ NK Cells\",\"CD40+ IgMlow IgD+ Naive B Cells :in: IgMlow IgD+ Naive B Cells\",\"CD86+ CD16- CD56dim NK Cells :in: CD16- CD56dim NK Cells\",\"CD57+ CD16+ NK Cells :in: CD16+ NK Cells\",\"Double Negative B Cells :in: B Cells\",\"CD94+ CD16- CD56bright NK Cells :in: CD16- CD56bright NK Cells\",\"Transitional B Cells :in: Naive B Cells\",\"CD11c+ median  :in:  CD11c+ CD16+ NK Cells\",\"HLA-DR+ IgM+ IgD+ Naive B Cells :in: IgM+ IgD+ Naive B Cells\",\"HLA-DR+ median  :in:  HLA-DR+ CD27- CD4+ T Cells\",\"CD38+ CD27+ CD8+ T Cells :in: CD27+ CD8+ T Cells\",\"HLA-DR+ median  :in:  HLA-DR+ CD4+ T Cells\",\"CD94+ median  :in:  CD94+ CD16- CD56bright NK Cells\",\"CD11c+ median  :in:  CD11c+ CD16- CD56dim NK Cells\",\"CD80+ Memory B Cells :in: Memory B Cells\",\"CD86+ IgMlow IgD+ Naive B Cells :in: IgMlow IgD+ Naive B Cells\",\"Memory B Cells :in: B Cells\",\"Naive B Cells :in: B Cells\",\"CD16+ CD56bright NK Cells :in: NK Cells\",\"CD80+ Double Negative B Cells :in: Double Negative B Cells\",\"CD27+ median  :in:  CD27+ CD4+ T Cells\",\"CD57+ CD27+ CD4+ T Cells :in: CD27+ CD4+ T Cells\"],\"yaxis\":\"y\",\"type\":\"bar\"}],                        {\"template\":{\"data\":{\"histogram2dcontour\":[{\"type\":\"histogram2dcontour\",\"colorbar\":{\"outlinewidth\":0,\"ticks\":\"\"},\"colorscale\":[[0.0,\"#0d0887\"],[0.1111111111111111,\"#46039f\"],[0.2222222222222222,\"#7201a8\"],[0.3333333333333333,\"#9c179e\"],[0.4444444444444444,\"#bd3786\"],[0.5555555555555556,\"#d8576b\"],[0.6666666666666666,\"#ed7953\"],[0.7777777777777778,\"#fb9f3a\"],[0.8888888888888888,\"#fdca26\"],[1.0,\"#f0f921\"]]}],\"choropleth\":[{\"type\":\"choropleth\",\"colorbar\":{\"outlinewidth\":0,\"ticks\":\"\"}}],\"histogram2d\":[{\"type\":\"histogram2d\",\"colorbar\":{\"outlinewidth\":0,\"ticks\":\"\"},\"colorscale\":[[0.0,\"#0d0887\"],[0.1111111111111111,\"#46039f\"],[0.2222222222222222,\"#7201a8\"],[0.3333333333333333,\"#9c179e\"],[0.4444444444444444,\"#bd3786\"],[0.5555555555555556,\"#d8576b\"],[0.6666666666666666,\"#ed7953\"],[0.7777777777777778,\"#fb9f3a\"],[0.8888888888888888,\"#fdca26\"],[1.0,\"#f0f921\"]]}],\"heatmap\":[{\"type\":\"heatmap\",\"colorbar\":{\"outlinewidth\":0,\"ticks\":\"\"},\"colorscale\":[[0.0,\"#0d0887\"],[0.1111111111111111,\"#46039f\"],[0.2222222222222222,\"#7201a8\"],[0.3333333333333333,\"#9c179e\"],[0.4444444444444444,\"#bd3786\"],[0.5555555555555556,\"#d8576b\"],[0.6666666666666666,\"#ed7953\"],[0.7777777777777778,\"#fb9f3a\"],[0.8888888888888888,\"#fdca26\"],[1.0,\"#f0f921\"]]}],\"heatmapgl\":[{\"type\":\"heatmapgl\",\"colorbar\":{\"outlinewidth\":0,\"ticks\":\"\"},\"colorscale\":[[0.0,\"#0d0887\"],[0.1111111111111111,\"#46039f\"],[0.2222222222222222,\"#7201a8\"],[0.3333333333333333,\"#9c179e\"],[0.4444444444444444,\"#bd3786\"],[0.5555555555555556,\"#d8576b\"],[0.6666666666666666,\"#ed7953\"],[0.7777777777777778,\"#fb9f3a\"],[0.8888888888888888,\"#fdca26\"],[1.0,\"#f0f921\"]]}],\"contourcarpet\":[{\"type\":\"contourcarpet\",\"colorbar\":{\"outlinewidth\":0,\"ticks\":\"\"}}],\"contour\":[{\"type\":\"contour\",\"colorbar\":{\"outlinewidth\":0,\"ticks\":\"\"},\"colorscale\":[[0.0,\"#0d0887\"],[0.1111111111111111,\"#46039f\"],[0.2222222222222222,\"#7201a8\"],[0.3333333333333333,\"#9c179e\"],[0.4444444444444444,\"#bd3786\"],[0.5555555555555556,\"#d8576b\"],[0.6666666666666666,\"#ed7953\"],[0.7777777777777778,\"#fb9f3a\"],[0.8888888888888888,\"#fdca26\"],[1.0,\"#f0f921\"]]}],\"surface\":[{\"type\":\"surface\",\"colorbar\":{\"outlinewidth\":0,\"ticks\":\"\"},\"colorscale\":[[0.0,\"#0d0887\"],[0.1111111111111111,\"#46039f\"],[0.2222222222222222,\"#7201a8\"],[0.3333333333333333,\"#9c179e\"],[0.4444444444444444,\"#bd3786\"],[0.5555555555555556,\"#d8576b\"],[0.6666666666666666,\"#ed7953\"],[0.7777777777777778,\"#fb9f3a\"],[0.8888888888888888,\"#fdca26\"],[1.0,\"#f0f921\"]]}],\"mesh3d\":[{\"type\":\"mesh3d\",\"colorbar\":{\"outlinewidth\":0,\"ticks\":\"\"}}],\"scatter\":[{\"fillpattern\":{\"fillmode\":\"overlay\",\"size\":10,\"solidity\":0.2},\"type\":\"scatter\"}],\"parcoords\":[{\"type\":\"parcoords\",\"line\":{\"colorbar\":{\"outlinewidth\":0,\"ticks\":\"\"}}}],\"scatterpolargl\":[{\"type\":\"scatterpolargl\",\"marker\":{\"colorbar\":{\"outlinewidth\":0,\"ticks\":\"\"}}}],\"bar\":[{\"error_x\":{\"color\":\"#2a3f5f\"},\"error_y\":{\"color\":\"#2a3f5f\"},\"marker\":{\"line\":{\"color\":\"#E5ECF6\",\"width\":0.5},\"pattern\":{\"fillmode\":\"overlay\",\"size\":10,\"solidity\":0.2}},\"type\":\"bar\"}],\"scattergeo\":[{\"type\":\"scattergeo\",\"marker\":{\"colorbar\":{\"outlinewidth\":0,\"ticks\":\"\"}}}],\"scatterpolar\":[{\"type\":\"scatterpolar\",\"marker\":{\"colorbar\":{\"outlinewidth\":0,\"ticks\":\"\"}}}],\"histogram\":[{\"marker\":{\"pattern\":{\"fillmode\":\"overlay\",\"size\":10,\"solidity\":0.2}},\"type\":\"histogram\"}],\"scattergl\":[{\"type\":\"scattergl\",\"marker\":{\"colorbar\":{\"outlinewidth\":0,\"ticks\":\"\"}}}],\"scatter3d\":[{\"type\":\"scatter3d\",\"line\":{\"colorbar\":{\"outlinewidth\":0,\"ticks\":\"\"}},\"marker\":{\"colorbar\":{\"outlinewidth\":0,\"ticks\":\"\"}}}],\"scattermapbox\":[{\"type\":\"scattermapbox\",\"marker\":{\"colorbar\":{\"outlinewidth\":0,\"ticks\":\"\"}}}],\"scatterternary\":[{\"type\":\"scatterternary\",\"marker\":{\"colorbar\":{\"outlinewidth\":0,\"ticks\":\"\"}}}],\"scattercarpet\":[{\"type\":\"scattercarpet\",\"marker\":{\"colorbar\":{\"outlinewidth\":0,\"ticks\":\"\"}}}],\"carpet\":[{\"aaxis\":{\"endlinecolor\":\"#2a3f5f\",\"gridcolor\":\"white\",\"linecolor\":\"white\",\"minorgridcolor\":\"white\",\"startlinecolor\":\"#2a3f5f\"},\"baxis\":{\"endlinecolor\":\"#2a3f5f\",\"gridcolor\":\"white\",\"linecolor\":\"white\",\"minorgridcolor\":\"white\",\"startlinecolor\":\"#2a3f5f\"},\"type\":\"carpet\"}],\"table\":[{\"cells\":{\"fill\":{\"color\":\"#EBF0F8\"},\"line\":{\"color\":\"white\"}},\"header\":{\"fill\":{\"color\":\"#C8D4E3\"},\"line\":{\"color\":\"white\"}},\"type\":\"table\"}],\"barpolar\":[{\"marker\":{\"line\":{\"color\":\"#E5ECF6\",\"width\":0.5},\"pattern\":{\"fillmode\":\"overlay\",\"size\":10,\"solidity\":0.2}},\"type\":\"barpolar\"}],\"pie\":[{\"automargin\":true,\"type\":\"pie\"}]},\"layout\":{\"autotypenumbers\":\"strict\",\"colorway\":[\"#636efa\",\"#EF553B\",\"#00cc96\",\"#ab63fa\",\"#FFA15A\",\"#19d3f3\",\"#FF6692\",\"#B6E880\",\"#FF97FF\",\"#FECB52\"],\"font\":{\"color\":\"#2a3f5f\"},\"hovermode\":\"closest\",\"hoverlabel\":{\"align\":\"left\"},\"paper_bgcolor\":\"white\",\"plot_bgcolor\":\"#E5ECF6\",\"polar\":{\"bgcolor\":\"#E5ECF6\",\"angularaxis\":{\"gridcolor\":\"white\",\"linecolor\":\"white\",\"ticks\":\"\"},\"radialaxis\":{\"gridcolor\":\"white\",\"linecolor\":\"white\",\"ticks\":\"\"}},\"ternary\":{\"bgcolor\":\"#E5ECF6\",\"aaxis\":{\"gridcolor\":\"white\",\"linecolor\":\"white\",\"ticks\":\"\"},\"baxis\":{\"gridcolor\":\"white\",\"linecolor\":\"white\",\"ticks\":\"\"},\"caxis\":{\"gridcolor\":\"white\",\"linecolor\":\"white\",\"ticks\":\"\"}},\"coloraxis\":{\"colorbar\":{\"outlinewidth\":0,\"ticks\":\"\"}},\"colorscale\":{\"sequential\":[[0.0,\"#0d0887\"],[0.1111111111111111,\"#46039f\"],[0.2222222222222222,\"#7201a8\"],[0.3333333333333333,\"#9c179e\"],[0.4444444444444444,\"#bd3786\"],[0.5555555555555556,\"#d8576b\"],[0.6666666666666666,\"#ed7953\"],[0.7777777777777778,\"#fb9f3a\"],[0.8888888888888888,\"#fdca26\"],[1.0,\"#f0f921\"]],\"sequentialminus\":[[0.0,\"#0d0887\"],[0.1111111111111111,\"#46039f\"],[0.2222222222222222,\"#7201a8\"],[0.3333333333333333,\"#9c179e\"],[0.4444444444444444,\"#bd3786\"],[0.5555555555555556,\"#d8576b\"],[0.6666666666666666,\"#ed7953\"],[0.7777777777777778,\"#fb9f3a\"],[0.8888888888888888,\"#fdca26\"],[1.0,\"#f0f921\"]],\"diverging\":[[0,\"#8e0152\"],[0.1,\"#c51b7d\"],[0.2,\"#de77ae\"],[0.3,\"#f1b6da\"],[0.4,\"#fde0ef\"],[0.5,\"#f7f7f7\"],[0.6,\"#e6f5d0\"],[0.7,\"#b8e186\"],[0.8,\"#7fbc41\"],[0.9,\"#4d9221\"],[1,\"#276419\"]]},\"xaxis\":{\"gridcolor\":\"white\",\"linecolor\":\"white\",\"ticks\":\"\",\"title\":{\"standoff\":15},\"zerolinecolor\":\"white\",\"automargin\":true,\"zerolinewidth\":2},\"yaxis\":{\"gridcolor\":\"white\",\"linecolor\":\"white\",\"ticks\":\"\",\"title\":{\"standoff\":15},\"zerolinecolor\":\"white\",\"automargin\":true,\"zerolinewidth\":2},\"scene\":{\"xaxis\":{\"backgroundcolor\":\"#E5ECF6\",\"gridcolor\":\"white\",\"linecolor\":\"white\",\"showbackground\":true,\"ticks\":\"\",\"zerolinecolor\":\"white\",\"gridwidth\":2},\"yaxis\":{\"backgroundcolor\":\"#E5ECF6\",\"gridcolor\":\"white\",\"linecolor\":\"white\",\"showbackground\":true,\"ticks\":\"\",\"zerolinecolor\":\"white\",\"gridwidth\":2},\"zaxis\":{\"backgroundcolor\":\"#E5ECF6\",\"gridcolor\":\"white\",\"linecolor\":\"white\",\"showbackground\":true,\"ticks\":\"\",\"zerolinecolor\":\"white\",\"gridwidth\":2}},\"shapedefaults\":{\"line\":{\"color\":\"#2a3f5f\"}},\"annotationdefaults\":{\"arrowcolor\":\"#2a3f5f\",\"arrowhead\":0,\"arrowwidth\":1},\"geo\":{\"bgcolor\":\"white\",\"landcolor\":\"#E5ECF6\",\"subunitcolor\":\"white\",\"showland\":true,\"showlakes\":true,\"lakecolor\":\"white\"},\"title\":{\"x\":0.05},\"mapbox\":{\"style\":\"light\"}}},\"xaxis\":{\"anchor\":\"y\",\"domain\":[0.0,1.0],\"title\":{\"text\":\"feature importance (permutation)\"}},\"yaxis\":{\"anchor\":\"x\",\"domain\":[0.0,1.0],\"title\":{\"text\":\"\"},\"categoryorder\":\"total ascending\",\"tickfont\":{\"color\":\"black\",\"family\":\"Arial, sans-serif\",\"size\":14}},\"legend\":{\"tracegroupgap\":0},\"margin\":{\"t\":60},\"barmode\":\"relative\",\"showlegend\":false,\"height\":800,\"width\":1000,\"title\":{\"text\":\"Dose 2 detectable\",\"xanchor\":\"left\",\"x\":0.5},\"paper_bgcolor\":\"rgb(222,222,222)\",\"coloraxis\":{\"showscale\":false}},                        {\"responsive\": true}                    ).then(function(){\n",
       "                            \n",
       "var gd = document.getElementById('ed4d093c-2229-4c24-986b-0d188cf86ef5');\n",
       "var x = new MutationObserver(function (mutations, observer) {{\n",
       "        var display = window.getComputedStyle(gd).display;\n",
       "        if (!display || display === 'none') {{\n",
       "            console.log([gd, 'removed!']);\n",
       "            Plotly.purge(gd);\n",
       "            observer.disconnect();\n",
       "        }}\n",
       "}});\n",
       "\n",
       "// Listen for the removal of the full notebook cells\n",
       "var notebookContainer = gd.closest('#notebook-container');\n",
       "if (notebookContainer) {{\n",
       "    x.observe(notebookContainer, {childList: true});\n",
       "}}\n",
       "\n",
       "// Listen for the clearing of the current output cell\n",
       "var outputEl = gd.closest('.output');\n",
       "if (outputEl) {{\n",
       "    x.observe(outputEl, {childList: true});\n",
       "}}\n",
       "\n",
       "                        })                };                });            </script>        </div>"
      ]
     },
     "metadata": {},
     "output_type": "display_data"
    }
   ],
   "source": [
    "df = data[\"SVM_RFE_d2_d\"][\"df\"]\n",
    "df = df.loc[df[\"var\"]!=\"age\",:]\n",
    "df = df.sort_values(by=\"impor_mean\",ascending=False)\n",
    "fig1 = px.bar(df.iloc[:30,:], x=\"impor_mean\", y=\"var\",orientation='h',labels={\"impor_mean\": \"feature importance (permutation)\",\"var\": \"\"})\n",
    "fig1.update_layout(showlegend=False,height = 800,yaxis={'categoryorder':'total ascending'},width = 1000,title = \"Dose 2 detectable\")\n",
    "fig1.layout.title.xanchor = 'left'\n",
    "fig1.layout.title.x = 0.5\n",
    "fig1.update_traces(marker_color='rgba(41, 128, 185, 1.0)')\n",
    "fig1.layout.yaxis.tickfont = dict(size =14, color='black', family='Arial, sans-serif')\n",
    "fig1.layout.paper_bgcolor = 'rgb(222,222,222)'\n",
    "fig1.update(layout_coloraxis_showscale=False)\n",
    "#fig1.update_yaxes(ticklabelposition=\"inside top\", title=None)\n",
    "fig1.write_image(\"fig_ml_A.svg\")\n",
    "fig1"
   ]
  },
  {
   "cell_type": "code",
   "execution_count": 34,
   "id": "32e6fdd9-e984-4029-aa6e-44559ca417f4",
   "metadata": {},
   "outputs": [
    {
     "data": {
      "application/vnd.plotly.v1+json": {
       "config": {
        "plotlyServerURL": "https://plot.ly"
       },
       "data": [
        {
         "alignmentgroup": "True",
         "hovertemplate": "feature importance (permutation)=%{x}<br>=%{y}<extra></extra>",
         "legendgroup": "",
         "marker": {
          "color": "rgba( 128,41, 185, 1.0)",
          "pattern": {
           "shape": ""
          }
         },
         "name": "",
         "offsetgroup": "",
         "orientation": "h",
         "showlegend": false,
         "textposition": "auto",
         "type": "bar",
         "x": [
          0.2648325358851675,
          0.22190430622009572,
          0.18824880382775125,
          0.17756459330143531,
          0.17190430622009564,
          0.1508133971291866,
          0.1437607655502392,
          0.13742583732057426,
          0.12758851674641153,
          0.11664114832535882,
          0.11376555023923456,
          0.10792344497607655,
          0.09060287081339716,
          0.07832535885167474
         ],
         "xaxis": "x",
         "y": [
          "CD40+ median  :in:  CD40+ Non-Switched Memory B Cells",
          "CD40+ median  :in:  CD40+ IgM+ IgD+ Memory B Cells",
          "CD38+ median  :in:  CD38+ CD16- CD56dim NK Cells",
          "CD40+ median  :in:  CD40+ IgM+ IgD+ Naive B Cells",
          "CD27+ CD16- CD56bright NK Cells :in: CD16- CD56bright NK Cells",
          "CD86+ CD16- CD56dim NK Cells :in: CD16- CD56dim NK Cells",
          "CD57+ CD27- CD4+ T Cells :in: CD27- CD4+ T Cells",
          "CD38+ NK Cells :in: NK Cells",
          "CD57+ CD27+ CD8+ T Cells :in: CD27+ CD8+ T Cells",
          "HLA-DR+ median  :in:  HLA-DR+ CD4+ T Cells",
          "Transitional B Cells :in: Naive B Cells",
          "CD94+ NKT Cells :in: NKT Cells",
          "BAFF-R+ IgMlow IgD+ Naive B Cells :in: IgMlow IgD+ Naive B Cells",
          "CD94+ CD16- CD56bright NK Cells :in: CD16- CD56bright NK Cells"
         ],
         "yaxis": "y"
        }
       ],
       "layout": {
        "barmode": "relative",
        "coloraxis": {
         "showscale": false
        },
        "height": 500,
        "legend": {
         "tracegroupgap": 0
        },
        "margin": {
         "t": 60
        },
        "paper_bgcolor": "rgb(222,222,222)",
        "showlegend": false,
        "template": {
         "data": {
          "bar": [
           {
            "error_x": {
             "color": "#2a3f5f"
            },
            "error_y": {
             "color": "#2a3f5f"
            },
            "marker": {
             "line": {
              "color": "#E5ECF6",
              "width": 0.5
             },
             "pattern": {
              "fillmode": "overlay",
              "size": 10,
              "solidity": 0.2
             }
            },
            "type": "bar"
           }
          ],
          "barpolar": [
           {
            "marker": {
             "line": {
              "color": "#E5ECF6",
              "width": 0.5
             },
             "pattern": {
              "fillmode": "overlay",
              "size": 10,
              "solidity": 0.2
             }
            },
            "type": "barpolar"
           }
          ],
          "carpet": [
           {
            "aaxis": {
             "endlinecolor": "#2a3f5f",
             "gridcolor": "white",
             "linecolor": "white",
             "minorgridcolor": "white",
             "startlinecolor": "#2a3f5f"
            },
            "baxis": {
             "endlinecolor": "#2a3f5f",
             "gridcolor": "white",
             "linecolor": "white",
             "minorgridcolor": "white",
             "startlinecolor": "#2a3f5f"
            },
            "type": "carpet"
           }
          ],
          "choropleth": [
           {
            "colorbar": {
             "outlinewidth": 0,
             "ticks": ""
            },
            "type": "choropleth"
           }
          ],
          "contour": [
           {
            "colorbar": {
             "outlinewidth": 0,
             "ticks": ""
            },
            "colorscale": [
             [
              0,
              "#0d0887"
             ],
             [
              0.1111111111111111,
              "#46039f"
             ],
             [
              0.2222222222222222,
              "#7201a8"
             ],
             [
              0.3333333333333333,
              "#9c179e"
             ],
             [
              0.4444444444444444,
              "#bd3786"
             ],
             [
              0.5555555555555556,
              "#d8576b"
             ],
             [
              0.6666666666666666,
              "#ed7953"
             ],
             [
              0.7777777777777778,
              "#fb9f3a"
             ],
             [
              0.8888888888888888,
              "#fdca26"
             ],
             [
              1,
              "#f0f921"
             ]
            ],
            "type": "contour"
           }
          ],
          "contourcarpet": [
           {
            "colorbar": {
             "outlinewidth": 0,
             "ticks": ""
            },
            "type": "contourcarpet"
           }
          ],
          "heatmap": [
           {
            "colorbar": {
             "outlinewidth": 0,
             "ticks": ""
            },
            "colorscale": [
             [
              0,
              "#0d0887"
             ],
             [
              0.1111111111111111,
              "#46039f"
             ],
             [
              0.2222222222222222,
              "#7201a8"
             ],
             [
              0.3333333333333333,
              "#9c179e"
             ],
             [
              0.4444444444444444,
              "#bd3786"
             ],
             [
              0.5555555555555556,
              "#d8576b"
             ],
             [
              0.6666666666666666,
              "#ed7953"
             ],
             [
              0.7777777777777778,
              "#fb9f3a"
             ],
             [
              0.8888888888888888,
              "#fdca26"
             ],
             [
              1,
              "#f0f921"
             ]
            ],
            "type": "heatmap"
           }
          ],
          "heatmapgl": [
           {
            "colorbar": {
             "outlinewidth": 0,
             "ticks": ""
            },
            "colorscale": [
             [
              0,
              "#0d0887"
             ],
             [
              0.1111111111111111,
              "#46039f"
             ],
             [
              0.2222222222222222,
              "#7201a8"
             ],
             [
              0.3333333333333333,
              "#9c179e"
             ],
             [
              0.4444444444444444,
              "#bd3786"
             ],
             [
              0.5555555555555556,
              "#d8576b"
             ],
             [
              0.6666666666666666,
              "#ed7953"
             ],
             [
              0.7777777777777778,
              "#fb9f3a"
             ],
             [
              0.8888888888888888,
              "#fdca26"
             ],
             [
              1,
              "#f0f921"
             ]
            ],
            "type": "heatmapgl"
           }
          ],
          "histogram": [
           {
            "marker": {
             "pattern": {
              "fillmode": "overlay",
              "size": 10,
              "solidity": 0.2
             }
            },
            "type": "histogram"
           }
          ],
          "histogram2d": [
           {
            "colorbar": {
             "outlinewidth": 0,
             "ticks": ""
            },
            "colorscale": [
             [
              0,
              "#0d0887"
             ],
             [
              0.1111111111111111,
              "#46039f"
             ],
             [
              0.2222222222222222,
              "#7201a8"
             ],
             [
              0.3333333333333333,
              "#9c179e"
             ],
             [
              0.4444444444444444,
              "#bd3786"
             ],
             [
              0.5555555555555556,
              "#d8576b"
             ],
             [
              0.6666666666666666,
              "#ed7953"
             ],
             [
              0.7777777777777778,
              "#fb9f3a"
             ],
             [
              0.8888888888888888,
              "#fdca26"
             ],
             [
              1,
              "#f0f921"
             ]
            ],
            "type": "histogram2d"
           }
          ],
          "histogram2dcontour": [
           {
            "colorbar": {
             "outlinewidth": 0,
             "ticks": ""
            },
            "colorscale": [
             [
              0,
              "#0d0887"
             ],
             [
              0.1111111111111111,
              "#46039f"
             ],
             [
              0.2222222222222222,
              "#7201a8"
             ],
             [
              0.3333333333333333,
              "#9c179e"
             ],
             [
              0.4444444444444444,
              "#bd3786"
             ],
             [
              0.5555555555555556,
              "#d8576b"
             ],
             [
              0.6666666666666666,
              "#ed7953"
             ],
             [
              0.7777777777777778,
              "#fb9f3a"
             ],
             [
              0.8888888888888888,
              "#fdca26"
             ],
             [
              1,
              "#f0f921"
             ]
            ],
            "type": "histogram2dcontour"
           }
          ],
          "mesh3d": [
           {
            "colorbar": {
             "outlinewidth": 0,
             "ticks": ""
            },
            "type": "mesh3d"
           }
          ],
          "parcoords": [
           {
            "line": {
             "colorbar": {
              "outlinewidth": 0,
              "ticks": ""
             }
            },
            "type": "parcoords"
           }
          ],
          "pie": [
           {
            "automargin": true,
            "type": "pie"
           }
          ],
          "scatter": [
           {
            "fillpattern": {
             "fillmode": "overlay",
             "size": 10,
             "solidity": 0.2
            },
            "type": "scatter"
           }
          ],
          "scatter3d": [
           {
            "line": {
             "colorbar": {
              "outlinewidth": 0,
              "ticks": ""
             }
            },
            "marker": {
             "colorbar": {
              "outlinewidth": 0,
              "ticks": ""
             }
            },
            "type": "scatter3d"
           }
          ],
          "scattercarpet": [
           {
            "marker": {
             "colorbar": {
              "outlinewidth": 0,
              "ticks": ""
             }
            },
            "type": "scattercarpet"
           }
          ],
          "scattergeo": [
           {
            "marker": {
             "colorbar": {
              "outlinewidth": 0,
              "ticks": ""
             }
            },
            "type": "scattergeo"
           }
          ],
          "scattergl": [
           {
            "marker": {
             "colorbar": {
              "outlinewidth": 0,
              "ticks": ""
             }
            },
            "type": "scattergl"
           }
          ],
          "scattermapbox": [
           {
            "marker": {
             "colorbar": {
              "outlinewidth": 0,
              "ticks": ""
             }
            },
            "type": "scattermapbox"
           }
          ],
          "scatterpolar": [
           {
            "marker": {
             "colorbar": {
              "outlinewidth": 0,
              "ticks": ""
             }
            },
            "type": "scatterpolar"
           }
          ],
          "scatterpolargl": [
           {
            "marker": {
             "colorbar": {
              "outlinewidth": 0,
              "ticks": ""
             }
            },
            "type": "scatterpolargl"
           }
          ],
          "scatterternary": [
           {
            "marker": {
             "colorbar": {
              "outlinewidth": 0,
              "ticks": ""
             }
            },
            "type": "scatterternary"
           }
          ],
          "surface": [
           {
            "colorbar": {
             "outlinewidth": 0,
             "ticks": ""
            },
            "colorscale": [
             [
              0,
              "#0d0887"
             ],
             [
              0.1111111111111111,
              "#46039f"
             ],
             [
              0.2222222222222222,
              "#7201a8"
             ],
             [
              0.3333333333333333,
              "#9c179e"
             ],
             [
              0.4444444444444444,
              "#bd3786"
             ],
             [
              0.5555555555555556,
              "#d8576b"
             ],
             [
              0.6666666666666666,
              "#ed7953"
             ],
             [
              0.7777777777777778,
              "#fb9f3a"
             ],
             [
              0.8888888888888888,
              "#fdca26"
             ],
             [
              1,
              "#f0f921"
             ]
            ],
            "type": "surface"
           }
          ],
          "table": [
           {
            "cells": {
             "fill": {
              "color": "#EBF0F8"
             },
             "line": {
              "color": "white"
             }
            },
            "header": {
             "fill": {
              "color": "#C8D4E3"
             },
             "line": {
              "color": "white"
             }
            },
            "type": "table"
           }
          ]
         },
         "layout": {
          "annotationdefaults": {
           "arrowcolor": "#2a3f5f",
           "arrowhead": 0,
           "arrowwidth": 1
          },
          "autotypenumbers": "strict",
          "coloraxis": {
           "colorbar": {
            "outlinewidth": 0,
            "ticks": ""
           }
          },
          "colorscale": {
           "diverging": [
            [
             0,
             "#8e0152"
            ],
            [
             0.1,
             "#c51b7d"
            ],
            [
             0.2,
             "#de77ae"
            ],
            [
             0.3,
             "#f1b6da"
            ],
            [
             0.4,
             "#fde0ef"
            ],
            [
             0.5,
             "#f7f7f7"
            ],
            [
             0.6,
             "#e6f5d0"
            ],
            [
             0.7,
             "#b8e186"
            ],
            [
             0.8,
             "#7fbc41"
            ],
            [
             0.9,
             "#4d9221"
            ],
            [
             1,
             "#276419"
            ]
           ],
           "sequential": [
            [
             0,
             "#0d0887"
            ],
            [
             0.1111111111111111,
             "#46039f"
            ],
            [
             0.2222222222222222,
             "#7201a8"
            ],
            [
             0.3333333333333333,
             "#9c179e"
            ],
            [
             0.4444444444444444,
             "#bd3786"
            ],
            [
             0.5555555555555556,
             "#d8576b"
            ],
            [
             0.6666666666666666,
             "#ed7953"
            ],
            [
             0.7777777777777778,
             "#fb9f3a"
            ],
            [
             0.8888888888888888,
             "#fdca26"
            ],
            [
             1,
             "#f0f921"
            ]
           ],
           "sequentialminus": [
            [
             0,
             "#0d0887"
            ],
            [
             0.1111111111111111,
             "#46039f"
            ],
            [
             0.2222222222222222,
             "#7201a8"
            ],
            [
             0.3333333333333333,
             "#9c179e"
            ],
            [
             0.4444444444444444,
             "#bd3786"
            ],
            [
             0.5555555555555556,
             "#d8576b"
            ],
            [
             0.6666666666666666,
             "#ed7953"
            ],
            [
             0.7777777777777778,
             "#fb9f3a"
            ],
            [
             0.8888888888888888,
             "#fdca26"
            ],
            [
             1,
             "#f0f921"
            ]
           ]
          },
          "colorway": [
           "#636efa",
           "#EF553B",
           "#00cc96",
           "#ab63fa",
           "#FFA15A",
           "#19d3f3",
           "#FF6692",
           "#B6E880",
           "#FF97FF",
           "#FECB52"
          ],
          "font": {
           "color": "#2a3f5f"
          },
          "geo": {
           "bgcolor": "white",
           "lakecolor": "white",
           "landcolor": "#E5ECF6",
           "showlakes": true,
           "showland": true,
           "subunitcolor": "white"
          },
          "hoverlabel": {
           "align": "left"
          },
          "hovermode": "closest",
          "mapbox": {
           "style": "light"
          },
          "paper_bgcolor": "white",
          "plot_bgcolor": "#E5ECF6",
          "polar": {
           "angularaxis": {
            "gridcolor": "white",
            "linecolor": "white",
            "ticks": ""
           },
           "bgcolor": "#E5ECF6",
           "radialaxis": {
            "gridcolor": "white",
            "linecolor": "white",
            "ticks": ""
           }
          },
          "scene": {
           "xaxis": {
            "backgroundcolor": "#E5ECF6",
            "gridcolor": "white",
            "gridwidth": 2,
            "linecolor": "white",
            "showbackground": true,
            "ticks": "",
            "zerolinecolor": "white"
           },
           "yaxis": {
            "backgroundcolor": "#E5ECF6",
            "gridcolor": "white",
            "gridwidth": 2,
            "linecolor": "white",
            "showbackground": true,
            "ticks": "",
            "zerolinecolor": "white"
           },
           "zaxis": {
            "backgroundcolor": "#E5ECF6",
            "gridcolor": "white",
            "gridwidth": 2,
            "linecolor": "white",
            "showbackground": true,
            "ticks": "",
            "zerolinecolor": "white"
           }
          },
          "shapedefaults": {
           "line": {
            "color": "#2a3f5f"
           }
          },
          "ternary": {
           "aaxis": {
            "gridcolor": "white",
            "linecolor": "white",
            "ticks": ""
           },
           "baxis": {
            "gridcolor": "white",
            "linecolor": "white",
            "ticks": ""
           },
           "bgcolor": "#E5ECF6",
           "caxis": {
            "gridcolor": "white",
            "linecolor": "white",
            "ticks": ""
           }
          },
          "title": {
           "x": 0.05
          },
          "xaxis": {
           "automargin": true,
           "gridcolor": "white",
           "linecolor": "white",
           "ticks": "",
           "title": {
            "standoff": 15
           },
           "zerolinecolor": "white",
           "zerolinewidth": 2
          },
          "yaxis": {
           "automargin": true,
           "gridcolor": "white",
           "linecolor": "white",
           "ticks": "",
           "title": {
            "standoff": 15
           },
           "zerolinecolor": "white",
           "zerolinewidth": 2
          }
         }
        },
        "title": {
         "text": "Dose 3 positive",
         "x": 0.5,
         "xanchor": "left"
        },
        "width": 1000,
        "xaxis": {
         "anchor": "y",
         "autorange": true,
         "domain": [
          0,
          1
         ],
         "range": [
          0,
          0.27877109040543946
         ],
         "title": {
          "text": "feature importance (permutation)"
         },
         "type": "linear"
        },
        "yaxis": {
         "anchor": "x",
         "autorange": true,
         "categoryorder": "total ascending",
         "domain": [
          0,
          1
         ],
         "range": [
          -0.5,
          13.5
         ],
         "tickfont": {
          "color": "black",
          "family": "Arial, sans-serif",
          "size": 14
         },
         "title": {
          "text": ""
         },
         "type": "category"
        }
       }
      },
      "image/png": "[encoded data removed]",
      "text/html": [
       "<div>                            <div id=\"b5e4ab8c-661d-4cf6-b9aa-28b514c6a45d\" class=\"plotly-graph-div\" style=\"height:500px; width:1000px;\"></div>            <script type=\"text/javascript\">                require([\"plotly\"], function(Plotly) {                    window.PLOTLYENV=window.PLOTLYENV || {};                                    if (document.getElementById(\"b5e4ab8c-661d-4cf6-b9aa-28b514c6a45d\")) {                    Plotly.newPlot(                        \"b5e4ab8c-661d-4cf6-b9aa-28b514c6a45d\",                        [{\"alignmentgroup\":\"True\",\"hovertemplate\":\"feature importance (permutation)=%{x}<br>=%{y}<extra></extra>\",\"legendgroup\":\"\",\"marker\":{\"color\":\"rgba( 128,41, 185, 1.0)\",\"pattern\":{\"shape\":\"\"}},\"name\":\"\",\"offsetgroup\":\"\",\"orientation\":\"h\",\"showlegend\":false,\"textposition\":\"auto\",\"x\":[0.2648325358851675,0.22190430622009572,0.18824880382775125,0.17756459330143531,0.17190430622009564,0.1508133971291866,0.1437607655502392,0.13742583732057426,0.12758851674641153,0.11664114832535882,0.11376555023923456,0.10792344497607655,0.09060287081339716,0.07832535885167474],\"xaxis\":\"x\",\"y\":[\"CD40+ median  :in:  CD40+ Non-Switched Memory B Cells\",\"CD40+ median  :in:  CD40+ IgM+ IgD+ Memory B Cells\",\"CD38+ median  :in:  CD38+ CD16- CD56dim NK Cells\",\"CD40+ median  :in:  CD40+ IgM+ IgD+ Naive B Cells\",\"CD27+ CD16- CD56bright NK Cells :in: CD16- CD56bright NK Cells\",\"CD86+ CD16- CD56dim NK Cells :in: CD16- CD56dim NK Cells\",\"CD57+ CD27- CD4+ T Cells :in: CD27- CD4+ T Cells\",\"CD38+ NK Cells :in: NK Cells\",\"CD57+ CD27+ CD8+ T Cells :in: CD27+ CD8+ T Cells\",\"HLA-DR+ median  :in:  HLA-DR+ CD4+ T Cells\",\"Transitional B Cells :in: Naive B Cells\",\"CD94+ NKT Cells :in: NKT Cells\",\"BAFF-R+ IgMlow IgD+ Naive B Cells :in: IgMlow IgD+ Naive B Cells\",\"CD94+ CD16- CD56bright NK Cells :in: CD16- CD56bright NK Cells\"],\"yaxis\":\"y\",\"type\":\"bar\"}],                        {\"template\":{\"data\":{\"histogram2dcontour\":[{\"type\":\"histogram2dcontour\",\"colorbar\":{\"outlinewidth\":0,\"ticks\":\"\"},\"colorscale\":[[0.0,\"#0d0887\"],[0.1111111111111111,\"#46039f\"],[0.2222222222222222,\"#7201a8\"],[0.3333333333333333,\"#9c179e\"],[0.4444444444444444,\"#bd3786\"],[0.5555555555555556,\"#d8576b\"],[0.6666666666666666,\"#ed7953\"],[0.7777777777777778,\"#fb9f3a\"],[0.8888888888888888,\"#fdca26\"],[1.0,\"#f0f921\"]]}],\"choropleth\":[{\"type\":\"choropleth\",\"colorbar\":{\"outlinewidth\":0,\"ticks\":\"\"}}],\"histogram2d\":[{\"type\":\"histogram2d\",\"colorbar\":{\"outlinewidth\":0,\"ticks\":\"\"},\"colorscale\":[[0.0,\"#0d0887\"],[0.1111111111111111,\"#46039f\"],[0.2222222222222222,\"#7201a8\"],[0.3333333333333333,\"#9c179e\"],[0.4444444444444444,\"#bd3786\"],[0.5555555555555556,\"#d8576b\"],[0.6666666666666666,\"#ed7953\"],[0.7777777777777778,\"#fb9f3a\"],[0.8888888888888888,\"#fdca26\"],[1.0,\"#f0f921\"]]}],\"heatmap\":[{\"type\":\"heatmap\",\"colorbar\":{\"outlinewidth\":0,\"ticks\":\"\"},\"colorscale\":[[0.0,\"#0d0887\"],[0.1111111111111111,\"#46039f\"],[0.2222222222222222,\"#7201a8\"],[0.3333333333333333,\"#9c179e\"],[0.4444444444444444,\"#bd3786\"],[0.5555555555555556,\"#d8576b\"],[0.6666666666666666,\"#ed7953\"],[0.7777777777777778,\"#fb9f3a\"],[0.8888888888888888,\"#fdca26\"],[1.0,\"#f0f921\"]]}],\"heatmapgl\":[{\"type\":\"heatmapgl\",\"colorbar\":{\"outlinewidth\":0,\"ticks\":\"\"},\"colorscale\":[[0.0,\"#0d0887\"],[0.1111111111111111,\"#46039f\"],[0.2222222222222222,\"#7201a8\"],[0.3333333333333333,\"#9c179e\"],[0.4444444444444444,\"#bd3786\"],[0.5555555555555556,\"#d8576b\"],[0.6666666666666666,\"#ed7953\"],[0.7777777777777778,\"#fb9f3a\"],[0.8888888888888888,\"#fdca26\"],[1.0,\"#f0f921\"]]}],\"contourcarpet\":[{\"type\":\"contourcarpet\",\"colorbar\":{\"outlinewidth\":0,\"ticks\":\"\"}}],\"contour\":[{\"type\":\"contour\",\"colorbar\":{\"outlinewidth\":0,\"ticks\":\"\"},\"colorscale\":[[0.0,\"#0d0887\"],[0.1111111111111111,\"#46039f\"],[0.2222222222222222,\"#7201a8\"],[0.3333333333333333,\"#9c179e\"],[0.4444444444444444,\"#bd3786\"],[0.5555555555555556,\"#d8576b\"],[0.6666666666666666,\"#ed7953\"],[0.7777777777777778,\"#fb9f3a\"],[0.8888888888888888,\"#fdca26\"],[1.0,\"#f0f921\"]]}],\"surface\":[{\"type\":\"surface\",\"colorbar\":{\"outlinewidth\":0,\"ticks\":\"\"},\"colorscale\":[[0.0,\"#0d0887\"],[0.1111111111111111,\"#46039f\"],[0.2222222222222222,\"#7201a8\"],[0.3333333333333333,\"#9c179e\"],[0.4444444444444444,\"#bd3786\"],[0.5555555555555556,\"#d8576b\"],[0.6666666666666666,\"#ed7953\"],[0.7777777777777778,\"#fb9f3a\"],[0.8888888888888888,\"#fdca26\"],[1.0,\"#f0f921\"]]}],\"mesh3d\":[{\"type\":\"mesh3d\",\"colorbar\":{\"outlinewidth\":0,\"ticks\":\"\"}}],\"scatter\":[{\"fillpattern\":{\"fillmode\":\"overlay\",\"size\":10,\"solidity\":0.2},\"type\":\"scatter\"}],\"parcoords\":[{\"type\":\"parcoords\",\"line\":{\"colorbar\":{\"outlinewidth\":0,\"ticks\":\"\"}}}],\"scatterpolargl\":[{\"type\":\"scatterpolargl\",\"marker\":{\"colorbar\":{\"outlinewidth\":0,\"ticks\":\"\"}}}],\"bar\":[{\"error_x\":{\"color\":\"#2a3f5f\"},\"error_y\":{\"color\":\"#2a3f5f\"},\"marker\":{\"line\":{\"color\":\"#E5ECF6\",\"width\":0.5},\"pattern\":{\"fillmode\":\"overlay\",\"size\":10,\"solidity\":0.2}},\"type\":\"bar\"}],\"scattergeo\":[{\"type\":\"scattergeo\",\"marker\":{\"colorbar\":{\"outlinewidth\":0,\"ticks\":\"\"}}}],\"scatterpolar\":[{\"type\":\"scatterpolar\",\"marker\":{\"colorbar\":{\"outlinewidth\":0,\"ticks\":\"\"}}}],\"histogram\":[{\"marker\":{\"pattern\":{\"fillmode\":\"overlay\",\"size\":10,\"solidity\":0.2}},\"type\":\"histogram\"}],\"scattergl\":[{\"type\":\"scattergl\",\"marker\":{\"colorbar\":{\"outlinewidth\":0,\"ticks\":\"\"}}}],\"scatter3d\":[{\"type\":\"scatter3d\",\"line\":{\"colorbar\":{\"outlinewidth\":0,\"ticks\":\"\"}},\"marker\":{\"colorbar\":{\"outlinewidth\":0,\"ticks\":\"\"}}}],\"scattermapbox\":[{\"type\":\"scattermapbox\",\"marker\":{\"colorbar\":{\"outlinewidth\":0,\"ticks\":\"\"}}}],\"scatterternary\":[{\"type\":\"scatterternary\",\"marker\":{\"colorbar\":{\"outlinewidth\":0,\"ticks\":\"\"}}}],\"scattercarpet\":[{\"type\":\"scattercarpet\",\"marker\":{\"colorbar\":{\"outlinewidth\":0,\"ticks\":\"\"}}}],\"carpet\":[{\"aaxis\":{\"endlinecolor\":\"#2a3f5f\",\"gridcolor\":\"white\",\"linecolor\":\"white\",\"minorgridcolor\":\"white\",\"startlinecolor\":\"#2a3f5f\"},\"baxis\":{\"endlinecolor\":\"#2a3f5f\",\"gridcolor\":\"white\",\"linecolor\":\"white\",\"minorgridcolor\":\"white\",\"startlinecolor\":\"#2a3f5f\"},\"type\":\"carpet\"}],\"table\":[{\"cells\":{\"fill\":{\"color\":\"#EBF0F8\"},\"line\":{\"color\":\"white\"}},\"header\":{\"fill\":{\"color\":\"#C8D4E3\"},\"line\":{\"color\":\"white\"}},\"type\":\"table\"}],\"barpolar\":[{\"marker\":{\"line\":{\"color\":\"#E5ECF6\",\"width\":0.5},\"pattern\":{\"fillmode\":\"overlay\",\"size\":10,\"solidity\":0.2}},\"type\":\"barpolar\"}],\"pie\":[{\"automargin\":true,\"type\":\"pie\"}]},\"layout\":{\"autotypenumbers\":\"strict\",\"colorway\":[\"#636efa\",\"#EF553B\",\"#00cc96\",\"#ab63fa\",\"#FFA15A\",\"#19d3f3\",\"#FF6692\",\"#B6E880\",\"#FF97FF\",\"#FECB52\"],\"font\":{\"color\":\"#2a3f5f\"},\"hovermode\":\"closest\",\"hoverlabel\":{\"align\":\"left\"},\"paper_bgcolor\":\"white\",\"plot_bgcolor\":\"#E5ECF6\",\"polar\":{\"bgcolor\":\"#E5ECF6\",\"angularaxis\":{\"gridcolor\":\"white\",\"linecolor\":\"white\",\"ticks\":\"\"},\"radialaxis\":{\"gridcolor\":\"white\",\"linecolor\":\"white\",\"ticks\":\"\"}},\"ternary\":{\"bgcolor\":\"#E5ECF6\",\"aaxis\":{\"gridcolor\":\"white\",\"linecolor\":\"white\",\"ticks\":\"\"},\"baxis\":{\"gridcolor\":\"white\",\"linecolor\":\"white\",\"ticks\":\"\"},\"caxis\":{\"gridcolor\":\"white\",\"linecolor\":\"white\",\"ticks\":\"\"}},\"coloraxis\":{\"colorbar\":{\"outlinewidth\":0,\"ticks\":\"\"}},\"colorscale\":{\"sequential\":[[0.0,\"#0d0887\"],[0.1111111111111111,\"#46039f\"],[0.2222222222222222,\"#7201a8\"],[0.3333333333333333,\"#9c179e\"],[0.4444444444444444,\"#bd3786\"],[0.5555555555555556,\"#d8576b\"],[0.6666666666666666,\"#ed7953\"],[0.7777777777777778,\"#fb9f3a\"],[0.8888888888888888,\"#fdca26\"],[1.0,\"#f0f921\"]],\"sequentialminus\":[[0.0,\"#0d0887\"],[0.1111111111111111,\"#46039f\"],[0.2222222222222222,\"#7201a8\"],[0.3333333333333333,\"#9c179e\"],[0.4444444444444444,\"#bd3786\"],[0.5555555555555556,\"#d8576b\"],[0.6666666666666666,\"#ed7953\"],[0.7777777777777778,\"#fb9f3a\"],[0.8888888888888888,\"#fdca26\"],[1.0,\"#f0f921\"]],\"diverging\":[[0,\"#8e0152\"],[0.1,\"#c51b7d\"],[0.2,\"#de77ae\"],[0.3,\"#f1b6da\"],[0.4,\"#fde0ef\"],[0.5,\"#f7f7f7\"],[0.6,\"#e6f5d0\"],[0.7,\"#b8e186\"],[0.8,\"#7fbc41\"],[0.9,\"#4d9221\"],[1,\"#276419\"]]},\"xaxis\":{\"gridcolor\":\"white\",\"linecolor\":\"white\",\"ticks\":\"\",\"title\":{\"standoff\":15},\"zerolinecolor\":\"white\",\"automargin\":true,\"zerolinewidth\":2},\"yaxis\":{\"gridcolor\":\"white\",\"linecolor\":\"white\",\"ticks\":\"\",\"title\":{\"standoff\":15},\"zerolinecolor\":\"white\",\"automargin\":true,\"zerolinewidth\":2},\"scene\":{\"xaxis\":{\"backgroundcolor\":\"#E5ECF6\",\"gridcolor\":\"white\",\"linecolor\":\"white\",\"showbackground\":true,\"ticks\":\"\",\"zerolinecolor\":\"white\",\"gridwidth\":2},\"yaxis\":{\"backgroundcolor\":\"#E5ECF6\",\"gridcolor\":\"white\",\"linecolor\":\"white\",\"showbackground\":true,\"ticks\":\"\",\"zerolinecolor\":\"white\",\"gridwidth\":2},\"zaxis\":{\"backgroundcolor\":\"#E5ECF6\",\"gridcolor\":\"white\",\"linecolor\":\"white\",\"showbackground\":true,\"ticks\":\"\",\"zerolinecolor\":\"white\",\"gridwidth\":2}},\"shapedefaults\":{\"line\":{\"color\":\"#2a3f5f\"}},\"annotationdefaults\":{\"arrowcolor\":\"#2a3f5f\",\"arrowhead\":0,\"arrowwidth\":1},\"geo\":{\"bgcolor\":\"white\",\"landcolor\":\"#E5ECF6\",\"subunitcolor\":\"white\",\"showland\":true,\"showlakes\":true,\"lakecolor\":\"white\"},\"title\":{\"x\":0.05},\"mapbox\":{\"style\":\"light\"}}},\"xaxis\":{\"anchor\":\"y\",\"domain\":[0.0,1.0],\"title\":{\"text\":\"feature importance (permutation)\"}},\"yaxis\":{\"anchor\":\"x\",\"domain\":[0.0,1.0],\"title\":{\"text\":\"\"},\"categoryorder\":\"total ascending\",\"tickfont\":{\"color\":\"black\",\"family\":\"Arial, sans-serif\",\"size\":14}},\"legend\":{\"tracegroupgap\":0},\"margin\":{\"t\":60},\"barmode\":\"relative\",\"showlegend\":false,\"height\":500,\"width\":1000,\"title\":{\"text\":\"Dose 3 positive\",\"xanchor\":\"left\",\"x\":0.5},\"paper_bgcolor\":\"rgb(222,222,222)\",\"coloraxis\":{\"showscale\":false}},                        {\"responsive\": true}                    ).then(function(){\n",
       "                            \n",
       "var gd = document.getElementById('b5e4ab8c-661d-4cf6-b9aa-28b514c6a45d');\n",
       "var x = new MutationObserver(function (mutations, observer) {{\n",
       "        var display = window.getComputedStyle(gd).display;\n",
       "        if (!display || display === 'none') {{\n",
       "            console.log([gd, 'removed!']);\n",
       "            Plotly.purge(gd);\n",
       "            observer.disconnect();\n",
       "        }}\n",
       "}});\n",
       "\n",
       "// Listen for the removal of the full notebook cells\n",
       "var notebookContainer = gd.closest('#notebook-container');\n",
       "if (notebookContainer) {{\n",
       "    x.observe(notebookContainer, {childList: true});\n",
       "}}\n",
       "\n",
       "// Listen for the clearing of the current output cell\n",
       "var outputEl = gd.closest('.output');\n",
       "if (outputEl) {{\n",
       "    x.observe(outputEl, {childList: true});\n",
       "}}\n",
       "\n",
       "                        })                };                });            </script>        </div>"
      ]
     },
     "metadata": {},
     "output_type": "display_data"
    }
   ],
   "source": [
    "df = data[\"SVM_RFE_d3_p\"][\"df\"]\n",
    "df = df.loc[df[\"var\"]!=\"age\",:]\n",
    "df = df.loc[df[\"var\"]!=\"tx_time\",:]\n",
    "df = df.loc[df[\"var\"]!=\"type\",:]\n",
    "df = df.sort_values(by=\"impor_mean\",ascending=False)\n",
    "fig1 = px.bar(df.iloc[:40,:], x=\"impor_mean\", y=\"var\",orientation='h',labels={\"impor_mean\": \"feature importance (permutation)\",\"var\": \"\"})\n",
    "fig1.update_layout(showlegend=False,height = 500,yaxis={'categoryorder':'total ascending'},width = 1000,title = \"Dose 3 positive\")\n",
    "fig1.layout.title.xanchor = 'left'\n",
    "fig1.layout.title.x = 0.5\n",
    "fig1.update_traces(marker_color='rgba( 128,41, 185, 1.0)')\n",
    "fig1.layout.yaxis.tickfont = dict(size =14, color='black', family='Arial, sans-serif')\n",
    "fig1.layout.paper_bgcolor = 'rgb(222,222,222)'\n",
    "fig1.update(layout_coloraxis_showscale=False)\n",
    "#fig1.update_yaxes(ticklabelposition=\"inside top\", title=None)\n",
    "fig1.write_image(\"fig_ml_B.svg\")\n",
    "fig1"
   ]
  },
  {
   "cell_type": "markdown",
   "id": "5db63a04-da91-47d0-b57d-994672056475",
   "metadata": {},
   "source": [
    "### ROC ML"
   ]
  },
  {
   "cell_type": "code",
   "execution_count": 27,
   "id": "a142d8c1-cea0-4a55-8e05-581dfe7955c3",
   "metadata": {},
   "outputs": [],
   "source": [
    "fold = os.getcwd()\n",
    "file = open(fold + \"/data_aux/feature_eval.pkl\",\"rb\")\n",
    "data = pk.load(file)\n",
    "file.close()"
   ]
  },
  {
   "cell_type": "code",
   "execution_count": 28,
   "id": "c2ac59bc-c6dc-4c8a-b665-af97633227ba",
   "metadata": {},
   "outputs": [
    {
     "data": {
      "application/vnd.plotly.v1+json": {
       "config": {
        "plotlyServerURL": "https://plot.ly"
       },
       "data": [
        {
         "hoverinfo": "skip",
         "line": {
          "color": "rgba(52, 152, 219, 0.5)",
          "width": 1
         },
         "name": "SD",
         "showlegend": true,
         "type": "scatter",
         "x": [
          0,
          0.010101010101010102,
          0.020202020202020204,
          0.030303030303030304,
          0.04040404040404041,
          0.05050505050505051,
          0.06060606060606061,
          0.07070707070707072,
          0.08080808080808081,
          0.09090909090909091,
          0.10101010101010102,
          0.11111111111111112,
          0.12121212121212122,
          0.13131313131313133,
          0.14141414141414144,
          0.15151515151515152,
          0.16161616161616163,
          0.17171717171717174,
          0.18181818181818182,
          0.19191919191919193,
          0.20202020202020204,
          0.21212121212121213,
          0.22222222222222224,
          0.23232323232323235,
          0.24242424242424243,
          0.25252525252525254,
          0.26262626262626265,
          0.27272727272727276,
          0.2828282828282829,
          0.29292929292929293,
          0.30303030303030304,
          0.31313131313131315,
          0.32323232323232326,
          0.33333333333333337,
          0.3434343434343435,
          0.3535353535353536,
          0.36363636363636365,
          0.37373737373737376,
          0.38383838383838387,
          0.393939393939394,
          0.4040404040404041,
          0.4141414141414142,
          0.42424242424242425,
          0.43434343434343436,
          0.4444444444444445,
          0.4545454545454546,
          0.4646464646464647,
          0.4747474747474748,
          0.48484848484848486,
          0.494949494949495,
          0.5050505050505051,
          0.5151515151515152,
          0.5252525252525253,
          0.5353535353535354,
          0.5454545454545455,
          0.5555555555555556,
          0.5656565656565657,
          0.5757575757575758,
          0.5858585858585859,
          0.595959595959596,
          0.6060606060606061,
          0.6161616161616162,
          0.6262626262626263,
          0.6363636363636365,
          0.6464646464646465,
          0.6565656565656566,
          0.6666666666666667,
          0.6767676767676768,
          0.686868686868687,
          0.696969696969697,
          0.7070707070707072,
          0.7171717171717172,
          0.7272727272727273,
          0.7373737373737375,
          0.7474747474747475,
          0.7575757575757577,
          0.7676767676767677,
          0.7777777777777778,
          0.787878787878788,
          0.797979797979798,
          0.8080808080808082,
          0.8181818181818182,
          0.8282828282828284,
          0.8383838383838385,
          0.8484848484848485,
          0.8585858585858587,
          0.8686868686868687,
          0.8787878787878789,
          0.888888888888889,
          0.8989898989898991,
          0.9090909090909092,
          0.9191919191919192,
          0.9292929292929294,
          0.9393939393939394,
          0.9494949494949496,
          0.9595959595959597,
          0.9696969696969697,
          0.9797979797979799,
          0.98989898989899,
          1
         ],
         "y": [
          0,
          1,
          1,
          1,
          1,
          1,
          1,
          1,
          1,
          1,
          1,
          1,
          1,
          1,
          1,
          1,
          1,
          1,
          1,
          1,
          1,
          1,
          1,
          1,
          1,
          1,
          1,
          1,
          1,
          1,
          1,
          1,
          1,
          1,
          1,
          1,
          1,
          1,
          1,
          1,
          1,
          1,
          1,
          1,
          1,
          1,
          1,
          1,
          1,
          1,
          1,
          1,
          1,
          1,
          1,
          1,
          1,
          1,
          1,
          1,
          1,
          1,
          1,
          1,
          1,
          1,
          1,
          1,
          1,
          1,
          1,
          1,
          1,
          1,
          1,
          1,
          1,
          1,
          1,
          1,
          1,
          1,
          1,
          1,
          1,
          1,
          1,
          1,
          1,
          1,
          1,
          1,
          1,
          1,
          1,
          1,
          1,
          1,
          1,
          1
         ]
        },
        {
         "fill": "tonexty",
         "fillcolor": "rgba(52, 152, 219, 0.2)",
         "hoverinfo": "skip",
         "line": {
          "color": "rgba(52, 152, 219, 0.5)",
          "width": 1
         },
         "name": "lower",
         "showlegend": false,
         "type": "scatter",
         "x": [
          0,
          0.010101010101010102,
          0.020202020202020204,
          0.030303030303030304,
          0.04040404040404041,
          0.05050505050505051,
          0.06060606060606061,
          0.07070707070707072,
          0.08080808080808081,
          0.09090909090909091,
          0.10101010101010102,
          0.11111111111111112,
          0.12121212121212122,
          0.13131313131313133,
          0.14141414141414144,
          0.15151515151515152,
          0.16161616161616163,
          0.17171717171717174,
          0.18181818181818182,
          0.19191919191919193,
          0.20202020202020204,
          0.21212121212121213,
          0.22222222222222224,
          0.23232323232323235,
          0.24242424242424243,
          0.25252525252525254,
          0.26262626262626265,
          0.27272727272727276,
          0.2828282828282829,
          0.29292929292929293,
          0.30303030303030304,
          0.31313131313131315,
          0.32323232323232326,
          0.33333333333333337,
          0.3434343434343435,
          0.3535353535353536,
          0.36363636363636365,
          0.37373737373737376,
          0.38383838383838387,
          0.393939393939394,
          0.4040404040404041,
          0.4141414141414142,
          0.42424242424242425,
          0.43434343434343436,
          0.4444444444444445,
          0.4545454545454546,
          0.4646464646464647,
          0.4747474747474748,
          0.48484848484848486,
          0.494949494949495,
          0.5050505050505051,
          0.5151515151515152,
          0.5252525252525253,
          0.5353535353535354,
          0.5454545454545455,
          0.5555555555555556,
          0.5656565656565657,
          0.5757575757575758,
          0.5858585858585859,
          0.595959595959596,
          0.6060606060606061,
          0.6161616161616162,
          0.6262626262626263,
          0.6363636363636365,
          0.6464646464646465,
          0.6565656565656566,
          0.6666666666666667,
          0.6767676767676768,
          0.686868686868687,
          0.696969696969697,
          0.7070707070707072,
          0.7171717171717172,
          0.7272727272727273,
          0.7373737373737375,
          0.7474747474747475,
          0.7575757575757577,
          0.7676767676767677,
          0.7777777777777778,
          0.787878787878788,
          0.797979797979798,
          0.8080808080808082,
          0.8181818181818182,
          0.8282828282828284,
          0.8383838383838385,
          0.8484848484848485,
          0.8585858585858587,
          0.8686868686868687,
          0.8787878787878789,
          0.888888888888889,
          0.8989898989898991,
          0.9090909090909092,
          0.9191919191919192,
          0.9292929292929294,
          0.9393939393939394,
          0.9494949494949496,
          0.9595959595959597,
          0.9696969696969697,
          0.9797979797979799,
          0.98989898989899,
          1
         ],
         "y": [
          0,
          0.587975622444535,
          0.587975622444535,
          0.587975622444535,
          0.587975622444535,
          0.587975622444535,
          0.587975622444535,
          0.587975622444535,
          0.587975622444535,
          0.587975622444535,
          0.587975622444535,
          0.587975622444535,
          0.587975622444535,
          0.587975622444535,
          0.587975622444535,
          0.587975622444535,
          0.587975622444535,
          0.587975622444535,
          0.587975622444535,
          0.587975622444535,
          0.7026839553457821,
          0.7026839553457821,
          0.7026839553457821,
          0.7026839553457821,
          0.7026839553457821,
          0.7333333333333332,
          0.7333333333333332,
          0.7333333333333332,
          0.7333333333333332,
          0.7333333333333332,
          0.7333333333333332,
          0.7333333333333332,
          0.7333333333333332,
          0.7333333333333332,
          0.7333333333333332,
          0.7333333333333332,
          0.7333333333333332,
          0.7333333333333332,
          0.7333333333333332,
          0.7333333333333332,
          1,
          1,
          1,
          1,
          1,
          1,
          1,
          1,
          1,
          1,
          1,
          1,
          1,
          1,
          1,
          1,
          1,
          1,
          1,
          1,
          1,
          1,
          1,
          1,
          1,
          1,
          1,
          1,
          1,
          1,
          1,
          1,
          1,
          1,
          1,
          1,
          1,
          1,
          1,
          1,
          1,
          1,
          1,
          1,
          1,
          1,
          1,
          1,
          1,
          1,
          1,
          1,
          1,
          1,
          1,
          1,
          1,
          1,
          1,
          1
         ]
        },
        {
         "hoverinfo": "skip",
         "line": {
          "color": "rgba(41, 128, 185, 1.0)",
          "width": 2
         },
         "name": "AUC: 0.950",
         "showlegend": true,
         "type": "scatter",
         "x": [
          0,
          0.010101010101010102,
          0.020202020202020204,
          0.030303030303030304,
          0.04040404040404041,
          0.05050505050505051,
          0.06060606060606061,
          0.07070707070707072,
          0.08080808080808081,
          0.09090909090909091,
          0.10101010101010102,
          0.11111111111111112,
          0.12121212121212122,
          0.13131313131313133,
          0.14141414141414144,
          0.15151515151515152,
          0.16161616161616163,
          0.17171717171717174,
          0.18181818181818182,
          0.19191919191919193,
          0.20202020202020204,
          0.21212121212121213,
          0.22222222222222224,
          0.23232323232323235,
          0.24242424242424243,
          0.25252525252525254,
          0.26262626262626265,
          0.27272727272727276,
          0.2828282828282829,
          0.29292929292929293,
          0.30303030303030304,
          0.31313131313131315,
          0.32323232323232326,
          0.33333333333333337,
          0.3434343434343435,
          0.3535353535353536,
          0.36363636363636365,
          0.37373737373737376,
          0.38383838383838387,
          0.393939393939394,
          0.4040404040404041,
          0.4141414141414142,
          0.42424242424242425,
          0.43434343434343436,
          0.4444444444444445,
          0.4545454545454546,
          0.4646464646464647,
          0.4747474747474748,
          0.48484848484848486,
          0.494949494949495,
          0.5050505050505051,
          0.5151515151515152,
          0.5252525252525253,
          0.5353535353535354,
          0.5454545454545455,
          0.5555555555555556,
          0.5656565656565657,
          0.5757575757575758,
          0.5858585858585859,
          0.595959595959596,
          0.6060606060606061,
          0.6161616161616162,
          0.6262626262626263,
          0.6363636363636365,
          0.6464646464646465,
          0.6565656565656566,
          0.6666666666666667,
          0.6767676767676768,
          0.686868686868687,
          0.696969696969697,
          0.7070707070707072,
          0.7171717171717172,
          0.7272727272727273,
          0.7373737373737375,
          0.7474747474747475,
          0.7575757575757577,
          0.7676767676767677,
          0.7777777777777778,
          0.787878787878788,
          0.797979797979798,
          0.8080808080808082,
          0.8181818181818182,
          0.8282828282828284,
          0.8383838383838385,
          0.8484848484848485,
          0.8585858585858587,
          0.8686868686868687,
          0.8787878787878789,
          0.888888888888889,
          0.8989898989898991,
          0.9090909090909092,
          0.9191919191919192,
          0.9292929292929294,
          0.9393939393939394,
          0.9494949494949496,
          0.9595959595959597,
          0.9696969696969697,
          0.9797979797979799,
          0.98989898989899,
          1
         ],
         "y": [
          0,
          0.825,
          0.825,
          0.825,
          0.825,
          0.825,
          0.825,
          0.825,
          0.825,
          0.825,
          0.825,
          0.825,
          0.825,
          0.825,
          0.825,
          0.825,
          0.825,
          0.825,
          0.825,
          0.825,
          0.9083333333333332,
          0.9083333333333332,
          0.9083333333333332,
          0.9083333333333332,
          0.9083333333333332,
          0.9333333333333332,
          0.9333333333333332,
          0.9333333333333332,
          0.9333333333333332,
          0.9333333333333332,
          0.9333333333333332,
          0.9333333333333332,
          0.9333333333333332,
          0.9333333333333332,
          0.9333333333333332,
          0.9333333333333332,
          0.9333333333333332,
          0.9333333333333332,
          0.9333333333333332,
          0.9333333333333332,
          1,
          1,
          1,
          1,
          1,
          1,
          1,
          1,
          1,
          1,
          1,
          1,
          1,
          1,
          1,
          1,
          1,
          1,
          1,
          1,
          1,
          1,
          1,
          1,
          1,
          1,
          1,
          1,
          1,
          1,
          1,
          1,
          1,
          1,
          1,
          1,
          1,
          1,
          1,
          1,
          1,
          1,
          1,
          1,
          1,
          1,
          1,
          1,
          1,
          1,
          1,
          1,
          1,
          1,
          1,
          1,
          1,
          1,
          1,
          1
         ]
        }
       ],
       "layout": {
        "height": 500,
        "legend": {
         "x": 0.95,
         "xanchor": "right",
         "y": 0.01,
         "yanchor": "bottom"
        },
        "shapes": [
         {
          "line": {
           "dash": "dash"
          },
          "type": "line",
          "x0": 0,
          "x1": 1,
          "y0": 0,
          "y1": 1
         }
        ],
        "template": {
         "data": {
          "bar": [
           {
            "error_x": {
             "color": "#2a3f5f"
            },
            "error_y": {
             "color": "#2a3f5f"
            },
            "marker": {
             "line": {
              "color": "white",
              "width": 0.5
             },
             "pattern": {
              "fillmode": "overlay",
              "size": 10,
              "solidity": 0.2
             }
            },
            "type": "bar"
           }
          ],
          "barpolar": [
           {
            "marker": {
             "line": {
              "color": "white",
              "width": 0.5
             },
             "pattern": {
              "fillmode": "overlay",
              "size": 10,
              "solidity": 0.2
             }
            },
            "type": "barpolar"
           }
          ],
          "carpet": [
           {
            "aaxis": {
             "endlinecolor": "#2a3f5f",
             "gridcolor": "#C8D4E3",
             "linecolor": "#C8D4E3",
             "minorgridcolor": "#C8D4E3",
             "startlinecolor": "#2a3f5f"
            },
            "baxis": {
             "endlinecolor": "#2a3f5f",
             "gridcolor": "#C8D4E3",
             "linecolor": "#C8D4E3",
             "minorgridcolor": "#C8D4E3",
             "startlinecolor": "#2a3f5f"
            },
            "type": "carpet"
           }
          ],
          "choropleth": [
           {
            "colorbar": {
             "outlinewidth": 0,
             "ticks": ""
            },
            "type": "choropleth"
           }
          ],
          "contour": [
           {
            "colorbar": {
             "outlinewidth": 0,
             "ticks": ""
            },
            "colorscale": [
             [
              0,
              "#0d0887"
             ],
             [
              0.1111111111111111,
              "#46039f"
             ],
             [
              0.2222222222222222,
              "#7201a8"
             ],
             [
              0.3333333333333333,
              "#9c179e"
             ],
             [
              0.4444444444444444,
              "#bd3786"
             ],
             [
              0.5555555555555556,
              "#d8576b"
             ],
             [
              0.6666666666666666,
              "#ed7953"
             ],
             [
              0.7777777777777778,
              "#fb9f3a"
             ],
             [
              0.8888888888888888,
              "#fdca26"
             ],
             [
              1,
              "#f0f921"
             ]
            ],
            "type": "contour"
           }
          ],
          "contourcarpet": [
           {
            "colorbar": {
             "outlinewidth": 0,
             "ticks": ""
            },
            "type": "contourcarpet"
           }
          ],
          "heatmap": [
           {
            "colorbar": {
             "outlinewidth": 0,
             "ticks": ""
            },
            "colorscale": [
             [
              0,
              "#0d0887"
             ],
             [
              0.1111111111111111,
              "#46039f"
             ],
             [
              0.2222222222222222,
              "#7201a8"
             ],
             [
              0.3333333333333333,
              "#9c179e"
             ],
             [
              0.4444444444444444,
              "#bd3786"
             ],
             [
              0.5555555555555556,
              "#d8576b"
             ],
             [
              0.6666666666666666,
              "#ed7953"
             ],
             [
              0.7777777777777778,
              "#fb9f3a"
             ],
             [
              0.8888888888888888,
              "#fdca26"
             ],
             [
              1,
              "#f0f921"
             ]
            ],
            "type": "heatmap"
           }
          ],
          "heatmapgl": [
           {
            "colorbar": {
             "outlinewidth": 0,
             "ticks": ""
            },
            "colorscale": [
             [
              0,
              "#0d0887"
             ],
             [
              0.1111111111111111,
              "#46039f"
             ],
             [
              0.2222222222222222,
              "#7201a8"
             ],
             [
              0.3333333333333333,
              "#9c179e"
             ],
             [
              0.4444444444444444,
              "#bd3786"
             ],
             [
              0.5555555555555556,
              "#d8576b"
             ],
             [
              0.6666666666666666,
              "#ed7953"
             ],
             [
              0.7777777777777778,
              "#fb9f3a"
             ],
             [
              0.8888888888888888,
              "#fdca26"
             ],
             [
              1,
              "#f0f921"
             ]
            ],
            "type": "heatmapgl"
           }
          ],
          "histogram": [
           {
            "marker": {
             "pattern": {
              "fillmode": "overlay",
              "size": 10,
              "solidity": 0.2
             }
            },
            "type": "histogram"
           }
          ],
          "histogram2d": [
           {
            "colorbar": {
             "outlinewidth": 0,
             "ticks": ""
            },
            "colorscale": [
             [
              0,
              "#0d0887"
             ],
             [
              0.1111111111111111,
              "#46039f"
             ],
             [
              0.2222222222222222,
              "#7201a8"
             ],
             [
              0.3333333333333333,
              "#9c179e"
             ],
             [
              0.4444444444444444,
              "#bd3786"
             ],
             [
              0.5555555555555556,
              "#d8576b"
             ],
             [
              0.6666666666666666,
              "#ed7953"
             ],
             [
              0.7777777777777778,
              "#fb9f3a"
             ],
             [
              0.8888888888888888,
              "#fdca26"
             ],
             [
              1,
              "#f0f921"
             ]
            ],
            "type": "histogram2d"
           }
          ],
          "histogram2dcontour": [
           {
            "colorbar": {
             "outlinewidth": 0,
             "ticks": ""
            },
            "colorscale": [
             [
              0,
              "#0d0887"
             ],
             [
              0.1111111111111111,
              "#46039f"
             ],
             [
              0.2222222222222222,
              "#7201a8"
             ],
             [
              0.3333333333333333,
              "#9c179e"
             ],
             [
              0.4444444444444444,
              "#bd3786"
             ],
             [
              0.5555555555555556,
              "#d8576b"
             ],
             [
              0.6666666666666666,
              "#ed7953"
             ],
             [
              0.7777777777777778,
              "#fb9f3a"
             ],
             [
              0.8888888888888888,
              "#fdca26"
             ],
             [
              1,
              "#f0f921"
             ]
            ],
            "type": "histogram2dcontour"
           }
          ],
          "mesh3d": [
           {
            "colorbar": {
             "outlinewidth": 0,
             "ticks": ""
            },
            "type": "mesh3d"
           }
          ],
          "parcoords": [
           {
            "line": {
             "colorbar": {
              "outlinewidth": 0,
              "ticks": ""
             }
            },
            "type": "parcoords"
           }
          ],
          "pie": [
           {
            "automargin": true,
            "type": "pie"
           }
          ],
          "scatter": [
           {
            "fillpattern": {
             "fillmode": "overlay",
             "size": 10,
             "solidity": 0.2
            },
            "type": "scatter"
           }
          ],
          "scatter3d": [
           {
            "line": {
             "colorbar": {
              "outlinewidth": 0,
              "ticks": ""
             }
            },
            "marker": {
             "colorbar": {
              "outlinewidth": 0,
              "ticks": ""
             }
            },
            "type": "scatter3d"
           }
          ],
          "scattercarpet": [
           {
            "marker": {
             "colorbar": {
              "outlinewidth": 0,
              "ticks": ""
             }
            },
            "type": "scattercarpet"
           }
          ],
          "scattergeo": [
           {
            "marker": {
             "colorbar": {
              "outlinewidth": 0,
              "ticks": ""
             }
            },
            "type": "scattergeo"
           }
          ],
          "scattergl": [
           {
            "marker": {
             "colorbar": {
              "outlinewidth": 0,
              "ticks": ""
             }
            },
            "type": "scattergl"
           }
          ],
          "scattermapbox": [
           {
            "marker": {
             "colorbar": {
              "outlinewidth": 0,
              "ticks": ""
             }
            },
            "type": "scattermapbox"
           }
          ],
          "scatterpolar": [
           {
            "marker": {
             "colorbar": {
              "outlinewidth": 0,
              "ticks": ""
             }
            },
            "type": "scatterpolar"
           }
          ],
          "scatterpolargl": [
           {
            "marker": {
             "colorbar": {
              "outlinewidth": 0,
              "ticks": ""
             }
            },
            "type": "scatterpolargl"
           }
          ],
          "scatterternary": [
           {
            "marker": {
             "colorbar": {
              "outlinewidth": 0,
              "ticks": ""
             }
            },
            "type": "scatterternary"
           }
          ],
          "surface": [
           {
            "colorbar": {
             "outlinewidth": 0,
             "ticks": ""
            },
            "colorscale": [
             [
              0,
              "#0d0887"
             ],
             [
              0.1111111111111111,
              "#46039f"
             ],
             [
              0.2222222222222222,
              "#7201a8"
             ],
             [
              0.3333333333333333,
              "#9c179e"
             ],
             [
              0.4444444444444444,
              "#bd3786"
             ],
             [
              0.5555555555555556,
              "#d8576b"
             ],
             [
              0.6666666666666666,
              "#ed7953"
             ],
             [
              0.7777777777777778,
              "#fb9f3a"
             ],
             [
              0.8888888888888888,
              "#fdca26"
             ],
             [
              1,
              "#f0f921"
             ]
            ],
            "type": "surface"
           }
          ],
          "table": [
           {
            "cells": {
             "fill": {
              "color": "#EBF0F8"
             },
             "line": {
              "color": "white"
             }
            },
            "header": {
             "fill": {
              "color": "#C8D4E3"
             },
             "line": {
              "color": "white"
             }
            },
            "type": "table"
           }
          ]
         },
         "layout": {
          "annotationdefaults": {
           "arrowcolor": "#2a3f5f",
           "arrowhead": 0,
           "arrowwidth": 1
          },
          "autotypenumbers": "strict",
          "coloraxis": {
           "colorbar": {
            "outlinewidth": 0,
            "ticks": ""
           }
          },
          "colorscale": {
           "diverging": [
            [
             0,
             "#8e0152"
            ],
            [
             0.1,
             "#c51b7d"
            ],
            [
             0.2,
             "#de77ae"
            ],
            [
             0.3,
             "#f1b6da"
            ],
            [
             0.4,
             "#fde0ef"
            ],
            [
             0.5,
             "#f7f7f7"
            ],
            [
             0.6,
             "#e6f5d0"
            ],
            [
             0.7,
             "#b8e186"
            ],
            [
             0.8,
             "#7fbc41"
            ],
            [
             0.9,
             "#4d9221"
            ],
            [
             1,
             "#276419"
            ]
           ],
           "sequential": [
            [
             0,
             "#0d0887"
            ],
            [
             0.1111111111111111,
             "#46039f"
            ],
            [
             0.2222222222222222,
             "#7201a8"
            ],
            [
             0.3333333333333333,
             "#9c179e"
            ],
            [
             0.4444444444444444,
             "#bd3786"
            ],
            [
             0.5555555555555556,
             "#d8576b"
            ],
            [
             0.6666666666666666,
             "#ed7953"
            ],
            [
             0.7777777777777778,
             "#fb9f3a"
            ],
            [
             0.8888888888888888,
             "#fdca26"
            ],
            [
             1,
             "#f0f921"
            ]
           ],
           "sequentialminus": [
            [
             0,
             "#0d0887"
            ],
            [
             0.1111111111111111,
             "#46039f"
            ],
            [
             0.2222222222222222,
             "#7201a8"
            ],
            [
             0.3333333333333333,
             "#9c179e"
            ],
            [
             0.4444444444444444,
             "#bd3786"
            ],
            [
             0.5555555555555556,
             "#d8576b"
            ],
            [
             0.6666666666666666,
             "#ed7953"
            ],
            [
             0.7777777777777778,
             "#fb9f3a"
            ],
            [
             0.8888888888888888,
             "#fdca26"
            ],
            [
             1,
             "#f0f921"
            ]
           ]
          },
          "colorway": [
           "#636efa",
           "#EF553B",
           "#00cc96",
           "#ab63fa",
           "#FFA15A",
           "#19d3f3",
           "#FF6692",
           "#B6E880",
           "#FF97FF",
           "#FECB52"
          ],
          "font": {
           "color": "#2a3f5f"
          },
          "geo": {
           "bgcolor": "white",
           "lakecolor": "white",
           "landcolor": "white",
           "showlakes": true,
           "showland": true,
           "subunitcolor": "#C8D4E3"
          },
          "hoverlabel": {
           "align": "left"
          },
          "hovermode": "closest",
          "mapbox": {
           "style": "light"
          },
          "paper_bgcolor": "white",
          "plot_bgcolor": "white",
          "polar": {
           "angularaxis": {
            "gridcolor": "#EBF0F8",
            "linecolor": "#EBF0F8",
            "ticks": ""
           },
           "bgcolor": "white",
           "radialaxis": {
            "gridcolor": "#EBF0F8",
            "linecolor": "#EBF0F8",
            "ticks": ""
           }
          },
          "scene": {
           "xaxis": {
            "backgroundcolor": "white",
            "gridcolor": "#DFE8F3",
            "gridwidth": 2,
            "linecolor": "#EBF0F8",
            "showbackground": true,
            "ticks": "",
            "zerolinecolor": "#EBF0F8"
           },
           "yaxis": {
            "backgroundcolor": "white",
            "gridcolor": "#DFE8F3",
            "gridwidth": 2,
            "linecolor": "#EBF0F8",
            "showbackground": true,
            "ticks": "",
            "zerolinecolor": "#EBF0F8"
           },
           "zaxis": {
            "backgroundcolor": "white",
            "gridcolor": "#DFE8F3",
            "gridwidth": 2,
            "linecolor": "#EBF0F8",
            "showbackground": true,
            "ticks": "",
            "zerolinecolor": "#EBF0F8"
           }
          },
          "shapedefaults": {
           "line": {
            "color": "#2a3f5f"
           }
          },
          "ternary": {
           "aaxis": {
            "gridcolor": "#DFE8F3",
            "linecolor": "#A2B1C6",
            "ticks": ""
           },
           "baxis": {
            "gridcolor": "#DFE8F3",
            "linecolor": "#A2B1C6",
            "ticks": ""
           },
           "bgcolor": "white",
           "caxis": {
            "gridcolor": "#DFE8F3",
            "linecolor": "#A2B1C6",
            "ticks": ""
           }
          },
          "title": {
           "x": 0.05
          },
          "xaxis": {
           "automargin": true,
           "gridcolor": "#EBF0F8",
           "linecolor": "#EBF0F8",
           "ticks": "",
           "title": {
            "standoff": 15
           },
           "zerolinecolor": "#EBF0F8",
           "zerolinewidth": 2
          },
          "yaxis": {
           "automargin": true,
           "gridcolor": "#EBF0F8",
           "linecolor": "#EBF0F8",
           "ticks": "",
           "title": {
            "standoff": 15
           },
           "zerolinecolor": "#EBF0F8",
           "zerolinewidth": 2
          }
         }
        },
        "title": {
         "text": "Dose 2 detectable"
        },
        "width": 500,
        "xaxis": {
         "constrain": "domain",
         "domain": [
          0.02941176470588236,
          0.9705882352941176
         ],
         "linecolor": "black",
         "range": [
          0,
          1
         ],
         "title": {
          "text": "False Positive Rate"
         },
         "type": "linear"
        },
        "yaxis": {
         "domain": [
          0,
          1
         ],
         "linecolor": "black",
         "range": [
          0,
          1
         ],
         "scaleanchor": "x",
         "scaleratio": 1,
         "title": {
          "text": "True Positive Rate"
         },
         "type": "linear"
        }
       }
      },
      "image/png": "[encoded data removed]",
      "text/html": [
       "<div>                            <div id=\"a6f6b4a0-bfc9-445e-9638-c1b110112354\" class=\"plotly-graph-div\" style=\"height:500px; width:500px;\"></div>            <script type=\"text/javascript\">                require([\"plotly\"], function(Plotly) {                    window.PLOTLYENV=window.PLOTLYENV || {};                                    if (document.getElementById(\"a6f6b4a0-bfc9-445e-9638-c1b110112354\")) {                    Plotly.newPlot(                        \"a6f6b4a0-bfc9-445e-9638-c1b110112354\",                        [{\"hoverinfo\":\"skip\",\"line\":{\"color\":\"rgba(52, 152, 219, 0.5)\",\"width\":1},\"name\":\"SD\",\"showlegend\":true,\"x\":[0.0,0.010101010101010102,0.020202020202020204,0.030303030303030304,0.04040404040404041,0.05050505050505051,0.06060606060606061,0.07070707070707072,0.08080808080808081,0.09090909090909091,0.10101010101010102,0.11111111111111112,0.12121212121212122,0.13131313131313133,0.14141414141414144,0.15151515151515152,0.16161616161616163,0.17171717171717174,0.18181818181818182,0.19191919191919193,0.20202020202020204,0.21212121212121213,0.22222222222222224,0.23232323232323235,0.24242424242424243,0.25252525252525254,0.26262626262626265,0.27272727272727276,0.2828282828282829,0.29292929292929293,0.30303030303030304,0.31313131313131315,0.32323232323232326,0.33333333333333337,0.3434343434343435,0.3535353535353536,0.36363636363636365,0.37373737373737376,0.38383838383838387,0.393939393939394,0.4040404040404041,0.4141414141414142,0.42424242424242425,0.43434343434343436,0.4444444444444445,0.4545454545454546,0.4646464646464647,0.4747474747474748,0.48484848484848486,0.494949494949495,0.5050505050505051,0.5151515151515152,0.5252525252525253,0.5353535353535354,0.5454545454545455,0.5555555555555556,0.5656565656565657,0.5757575757575758,0.5858585858585859,0.595959595959596,0.6060606060606061,0.6161616161616162,0.6262626262626263,0.6363636363636365,0.6464646464646465,0.6565656565656566,0.6666666666666667,0.6767676767676768,0.686868686868687,0.696969696969697,0.7070707070707072,0.7171717171717172,0.7272727272727273,0.7373737373737375,0.7474747474747475,0.7575757575757577,0.7676767676767677,0.7777777777777778,0.787878787878788,0.797979797979798,0.8080808080808082,0.8181818181818182,0.8282828282828284,0.8383838383838385,0.8484848484848485,0.8585858585858587,0.8686868686868687,0.8787878787878789,0.888888888888889,0.8989898989898991,0.9090909090909092,0.9191919191919192,0.9292929292929294,0.9393939393939394,0.9494949494949496,0.9595959595959597,0.9696969696969697,0.9797979797979799,0.98989898989899,1.0],\"y\":[0.0,1.0,1.0,1.0,1.0,1.0,1.0,1.0,1.0,1.0,1.0,1.0,1.0,1.0,1.0,1.0,1.0,1.0,1.0,1.0,1.0,1.0,1.0,1.0,1.0,1.0,1.0,1.0,1.0,1.0,1.0,1.0,1.0,1.0,1.0,1.0,1.0,1.0,1.0,1.0,1.0,1.0,1.0,1.0,1.0,1.0,1.0,1.0,1.0,1.0,1.0,1.0,1.0,1.0,1.0,1.0,1.0,1.0,1.0,1.0,1.0,1.0,1.0,1.0,1.0,1.0,1.0,1.0,1.0,1.0,1.0,1.0,1.0,1.0,1.0,1.0,1.0,1.0,1.0,1.0,1.0,1.0,1.0,1.0,1.0,1.0,1.0,1.0,1.0,1.0,1.0,1.0,1.0,1.0,1.0,1.0,1.0,1.0,1.0,1.0],\"type\":\"scatter\"},{\"fill\":\"tonexty\",\"fillcolor\":\"rgba(52, 152, 219, 0.2)\",\"hoverinfo\":\"skip\",\"line\":{\"color\":\"rgba(52, 152, 219, 0.5)\",\"width\":1},\"name\":\"lower\",\"showlegend\":false,\"x\":[0.0,0.010101010101010102,0.020202020202020204,0.030303030303030304,0.04040404040404041,0.05050505050505051,0.06060606060606061,0.07070707070707072,0.08080808080808081,0.09090909090909091,0.10101010101010102,0.11111111111111112,0.12121212121212122,0.13131313131313133,0.14141414141414144,0.15151515151515152,0.16161616161616163,0.17171717171717174,0.18181818181818182,0.19191919191919193,0.20202020202020204,0.21212121212121213,0.22222222222222224,0.23232323232323235,0.24242424242424243,0.25252525252525254,0.26262626262626265,0.27272727272727276,0.2828282828282829,0.29292929292929293,0.30303030303030304,0.31313131313131315,0.32323232323232326,0.33333333333333337,0.3434343434343435,0.3535353535353536,0.36363636363636365,0.37373737373737376,0.38383838383838387,0.393939393939394,0.4040404040404041,0.4141414141414142,0.42424242424242425,0.43434343434343436,0.4444444444444445,0.4545454545454546,0.4646464646464647,0.4747474747474748,0.48484848484848486,0.494949494949495,0.5050505050505051,0.5151515151515152,0.5252525252525253,0.5353535353535354,0.5454545454545455,0.5555555555555556,0.5656565656565657,0.5757575757575758,0.5858585858585859,0.595959595959596,0.6060606060606061,0.6161616161616162,0.6262626262626263,0.6363636363636365,0.6464646464646465,0.6565656565656566,0.6666666666666667,0.6767676767676768,0.686868686868687,0.696969696969697,0.7070707070707072,0.7171717171717172,0.7272727272727273,0.7373737373737375,0.7474747474747475,0.7575757575757577,0.7676767676767677,0.7777777777777778,0.787878787878788,0.797979797979798,0.8080808080808082,0.8181818181818182,0.8282828282828284,0.8383838383838385,0.8484848484848485,0.8585858585858587,0.8686868686868687,0.8787878787878789,0.888888888888889,0.8989898989898991,0.9090909090909092,0.9191919191919192,0.9292929292929294,0.9393939393939394,0.9494949494949496,0.9595959595959597,0.9696969696969697,0.9797979797979799,0.98989898989899,1.0],\"y\":[0.0,0.587975622444535,0.587975622444535,0.587975622444535,0.587975622444535,0.587975622444535,0.587975622444535,0.587975622444535,0.587975622444535,0.587975622444535,0.587975622444535,0.587975622444535,0.587975622444535,0.587975622444535,0.587975622444535,0.587975622444535,0.587975622444535,0.587975622444535,0.587975622444535,0.587975622444535,0.7026839553457821,0.7026839553457821,0.7026839553457821,0.7026839553457821,0.7026839553457821,0.7333333333333332,0.7333333333333332,0.7333333333333332,0.7333333333333332,0.7333333333333332,0.7333333333333332,0.7333333333333332,0.7333333333333332,0.7333333333333332,0.7333333333333332,0.7333333333333332,0.7333333333333332,0.7333333333333332,0.7333333333333332,0.7333333333333332,1.0,1.0,1.0,1.0,1.0,1.0,1.0,1.0,1.0,1.0,1.0,1.0,1.0,1.0,1.0,1.0,1.0,1.0,1.0,1.0,1.0,1.0,1.0,1.0,1.0,1.0,1.0,1.0,1.0,1.0,1.0,1.0,1.0,1.0,1.0,1.0,1.0,1.0,1.0,1.0,1.0,1.0,1.0,1.0,1.0,1.0,1.0,1.0,1.0,1.0,1.0,1.0,1.0,1.0,1.0,1.0,1.0,1.0,1.0,1.0],\"type\":\"scatter\"},{\"hoverinfo\":\"skip\",\"line\":{\"color\":\"rgba(41, 128, 185, 1.0)\",\"width\":2},\"name\":\"AUC: 0.950\",\"showlegend\":true,\"x\":[0.0,0.010101010101010102,0.020202020202020204,0.030303030303030304,0.04040404040404041,0.05050505050505051,0.06060606060606061,0.07070707070707072,0.08080808080808081,0.09090909090909091,0.10101010101010102,0.11111111111111112,0.12121212121212122,0.13131313131313133,0.14141414141414144,0.15151515151515152,0.16161616161616163,0.17171717171717174,0.18181818181818182,0.19191919191919193,0.20202020202020204,0.21212121212121213,0.22222222222222224,0.23232323232323235,0.24242424242424243,0.25252525252525254,0.26262626262626265,0.27272727272727276,0.2828282828282829,0.29292929292929293,0.30303030303030304,0.31313131313131315,0.32323232323232326,0.33333333333333337,0.3434343434343435,0.3535353535353536,0.36363636363636365,0.37373737373737376,0.38383838383838387,0.393939393939394,0.4040404040404041,0.4141414141414142,0.42424242424242425,0.43434343434343436,0.4444444444444445,0.4545454545454546,0.4646464646464647,0.4747474747474748,0.48484848484848486,0.494949494949495,0.5050505050505051,0.5151515151515152,0.5252525252525253,0.5353535353535354,0.5454545454545455,0.5555555555555556,0.5656565656565657,0.5757575757575758,0.5858585858585859,0.595959595959596,0.6060606060606061,0.6161616161616162,0.6262626262626263,0.6363636363636365,0.6464646464646465,0.6565656565656566,0.6666666666666667,0.6767676767676768,0.686868686868687,0.696969696969697,0.7070707070707072,0.7171717171717172,0.7272727272727273,0.7373737373737375,0.7474747474747475,0.7575757575757577,0.7676767676767677,0.7777777777777778,0.787878787878788,0.797979797979798,0.8080808080808082,0.8181818181818182,0.8282828282828284,0.8383838383838385,0.8484848484848485,0.8585858585858587,0.8686868686868687,0.8787878787878789,0.888888888888889,0.8989898989898991,0.9090909090909092,0.9191919191919192,0.9292929292929294,0.9393939393939394,0.9494949494949496,0.9595959595959597,0.9696969696969697,0.9797979797979799,0.98989898989899,1.0],\"y\":[0.0,0.825,0.825,0.825,0.825,0.825,0.825,0.825,0.825,0.825,0.825,0.825,0.825,0.825,0.825,0.825,0.825,0.825,0.825,0.825,0.9083333333333332,0.9083333333333332,0.9083333333333332,0.9083333333333332,0.9083333333333332,0.9333333333333332,0.9333333333333332,0.9333333333333332,0.9333333333333332,0.9333333333333332,0.9333333333333332,0.9333333333333332,0.9333333333333332,0.9333333333333332,0.9333333333333332,0.9333333333333332,0.9333333333333332,0.9333333333333332,0.9333333333333332,0.9333333333333332,1.0,1.0,1.0,1.0,1.0,1.0,1.0,1.0,1.0,1.0,1.0,1.0,1.0,1.0,1.0,1.0,1.0,1.0,1.0,1.0,1.0,1.0,1.0,1.0,1.0,1.0,1.0,1.0,1.0,1.0,1.0,1.0,1.0,1.0,1.0,1.0,1.0,1.0,1.0,1.0,1.0,1.0,1.0,1.0,1.0,1.0,1.0,1.0,1.0,1.0,1.0,1.0,1.0,1.0,1.0,1.0,1.0,1.0,1.0,1.0],\"type\":\"scatter\"}],                        {\"template\":{\"data\":{\"barpolar\":[{\"marker\":{\"line\":{\"color\":\"white\",\"width\":0.5},\"pattern\":{\"fillmode\":\"overlay\",\"size\":10,\"solidity\":0.2}},\"type\":\"barpolar\"}],\"bar\":[{\"error_x\":{\"color\":\"#2a3f5f\"},\"error_y\":{\"color\":\"#2a3f5f\"},\"marker\":{\"line\":{\"color\":\"white\",\"width\":0.5},\"pattern\":{\"fillmode\":\"overlay\",\"size\":10,\"solidity\":0.2}},\"type\":\"bar\"}],\"carpet\":[{\"aaxis\":{\"endlinecolor\":\"#2a3f5f\",\"gridcolor\":\"#C8D4E3\",\"linecolor\":\"#C8D4E3\",\"minorgridcolor\":\"#C8D4E3\",\"startlinecolor\":\"#2a3f5f\"},\"baxis\":{\"endlinecolor\":\"#2a3f5f\",\"gridcolor\":\"#C8D4E3\",\"linecolor\":\"#C8D4E3\",\"minorgridcolor\":\"#C8D4E3\",\"startlinecolor\":\"#2a3f5f\"},\"type\":\"carpet\"}],\"choropleth\":[{\"colorbar\":{\"outlinewidth\":0,\"ticks\":\"\"},\"type\":\"choropleth\"}],\"contourcarpet\":[{\"colorbar\":{\"outlinewidth\":0,\"ticks\":\"\"},\"type\":\"contourcarpet\"}],\"contour\":[{\"colorbar\":{\"outlinewidth\":0,\"ticks\":\"\"},\"colorscale\":[[0.0,\"#0d0887\"],[0.1111111111111111,\"#46039f\"],[0.2222222222222222,\"#7201a8\"],[0.3333333333333333,\"#9c179e\"],[0.4444444444444444,\"#bd3786\"],[0.5555555555555556,\"#d8576b\"],[0.6666666666666666,\"#ed7953\"],[0.7777777777777778,\"#fb9f3a\"],[0.8888888888888888,\"#fdca26\"],[1.0,\"#f0f921\"]],\"type\":\"contour\"}],\"heatmapgl\":[{\"colorbar\":{\"outlinewidth\":0,\"ticks\":\"\"},\"colorscale\":[[0.0,\"#0d0887\"],[0.1111111111111111,\"#46039f\"],[0.2222222222222222,\"#7201a8\"],[0.3333333333333333,\"#9c179e\"],[0.4444444444444444,\"#bd3786\"],[0.5555555555555556,\"#d8576b\"],[0.6666666666666666,\"#ed7953\"],[0.7777777777777778,\"#fb9f3a\"],[0.8888888888888888,\"#fdca26\"],[1.0,\"#f0f921\"]],\"type\":\"heatmapgl\"}],\"heatmap\":[{\"colorbar\":{\"outlinewidth\":0,\"ticks\":\"\"},\"colorscale\":[[0.0,\"#0d0887\"],[0.1111111111111111,\"#46039f\"],[0.2222222222222222,\"#7201a8\"],[0.3333333333333333,\"#9c179e\"],[0.4444444444444444,\"#bd3786\"],[0.5555555555555556,\"#d8576b\"],[0.6666666666666666,\"#ed7953\"],[0.7777777777777778,\"#fb9f3a\"],[0.8888888888888888,\"#fdca26\"],[1.0,\"#f0f921\"]],\"type\":\"heatmap\"}],\"histogram2dcontour\":[{\"colorbar\":{\"outlinewidth\":0,\"ticks\":\"\"},\"colorscale\":[[0.0,\"#0d0887\"],[0.1111111111111111,\"#46039f\"],[0.2222222222222222,\"#7201a8\"],[0.3333333333333333,\"#9c179e\"],[0.4444444444444444,\"#bd3786\"],[0.5555555555555556,\"#d8576b\"],[0.6666666666666666,\"#ed7953\"],[0.7777777777777778,\"#fb9f3a\"],[0.8888888888888888,\"#fdca26\"],[1.0,\"#f0f921\"]],\"type\":\"histogram2dcontour\"}],\"histogram2d\":[{\"colorbar\":{\"outlinewidth\":0,\"ticks\":\"\"},\"colorscale\":[[0.0,\"#0d0887\"],[0.1111111111111111,\"#46039f\"],[0.2222222222222222,\"#7201a8\"],[0.3333333333333333,\"#9c179e\"],[0.4444444444444444,\"#bd3786\"],[0.5555555555555556,\"#d8576b\"],[0.6666666666666666,\"#ed7953\"],[0.7777777777777778,\"#fb9f3a\"],[0.8888888888888888,\"#fdca26\"],[1.0,\"#f0f921\"]],\"type\":\"histogram2d\"}],\"histogram\":[{\"marker\":{\"pattern\":{\"fillmode\":\"overlay\",\"size\":10,\"solidity\":0.2}},\"type\":\"histogram\"}],\"mesh3d\":[{\"colorbar\":{\"outlinewidth\":0,\"ticks\":\"\"},\"type\":\"mesh3d\"}],\"parcoords\":[{\"line\":{\"colorbar\":{\"outlinewidth\":0,\"ticks\":\"\"}},\"type\":\"parcoords\"}],\"pie\":[{\"automargin\":true,\"type\":\"pie\"}],\"scatter3d\":[{\"line\":{\"colorbar\":{\"outlinewidth\":0,\"ticks\":\"\"}},\"marker\":{\"colorbar\":{\"outlinewidth\":0,\"ticks\":\"\"}},\"type\":\"scatter3d\"}],\"scattercarpet\":[{\"marker\":{\"colorbar\":{\"outlinewidth\":0,\"ticks\":\"\"}},\"type\":\"scattercarpet\"}],\"scattergeo\":[{\"marker\":{\"colorbar\":{\"outlinewidth\":0,\"ticks\":\"\"}},\"type\":\"scattergeo\"}],\"scattergl\":[{\"marker\":{\"colorbar\":{\"outlinewidth\":0,\"ticks\":\"\"}},\"type\":\"scattergl\"}],\"scattermapbox\":[{\"marker\":{\"colorbar\":{\"outlinewidth\":0,\"ticks\":\"\"}},\"type\":\"scattermapbox\"}],\"scatterpolargl\":[{\"marker\":{\"colorbar\":{\"outlinewidth\":0,\"ticks\":\"\"}},\"type\":\"scatterpolargl\"}],\"scatterpolar\":[{\"marker\":{\"colorbar\":{\"outlinewidth\":0,\"ticks\":\"\"}},\"type\":\"scatterpolar\"}],\"scatter\":[{\"fillpattern\":{\"fillmode\":\"overlay\",\"size\":10,\"solidity\":0.2},\"type\":\"scatter\"}],\"scatterternary\":[{\"marker\":{\"colorbar\":{\"outlinewidth\":0,\"ticks\":\"\"}},\"type\":\"scatterternary\"}],\"surface\":[{\"colorbar\":{\"outlinewidth\":0,\"ticks\":\"\"},\"colorscale\":[[0.0,\"#0d0887\"],[0.1111111111111111,\"#46039f\"],[0.2222222222222222,\"#7201a8\"],[0.3333333333333333,\"#9c179e\"],[0.4444444444444444,\"#bd3786\"],[0.5555555555555556,\"#d8576b\"],[0.6666666666666666,\"#ed7953\"],[0.7777777777777778,\"#fb9f3a\"],[0.8888888888888888,\"#fdca26\"],[1.0,\"#f0f921\"]],\"type\":\"surface\"}],\"table\":[{\"cells\":{\"fill\":{\"color\":\"#EBF0F8\"},\"line\":{\"color\":\"white\"}},\"header\":{\"fill\":{\"color\":\"#C8D4E3\"},\"line\":{\"color\":\"white\"}},\"type\":\"table\"}]},\"layout\":{\"annotationdefaults\":{\"arrowcolor\":\"#2a3f5f\",\"arrowhead\":0,\"arrowwidth\":1},\"autotypenumbers\":\"strict\",\"coloraxis\":{\"colorbar\":{\"outlinewidth\":0,\"ticks\":\"\"}},\"colorscale\":{\"diverging\":[[0,\"#8e0152\"],[0.1,\"#c51b7d\"],[0.2,\"#de77ae\"],[0.3,\"#f1b6da\"],[0.4,\"#fde0ef\"],[0.5,\"#f7f7f7\"],[0.6,\"#e6f5d0\"],[0.7,\"#b8e186\"],[0.8,\"#7fbc41\"],[0.9,\"#4d9221\"],[1,\"#276419\"]],\"sequential\":[[0.0,\"#0d0887\"],[0.1111111111111111,\"#46039f\"],[0.2222222222222222,\"#7201a8\"],[0.3333333333333333,\"#9c179e\"],[0.4444444444444444,\"#bd3786\"],[0.5555555555555556,\"#d8576b\"],[0.6666666666666666,\"#ed7953\"],[0.7777777777777778,\"#fb9f3a\"],[0.8888888888888888,\"#fdca26\"],[1.0,\"#f0f921\"]],\"sequentialminus\":[[0.0,\"#0d0887\"],[0.1111111111111111,\"#46039f\"],[0.2222222222222222,\"#7201a8\"],[0.3333333333333333,\"#9c179e\"],[0.4444444444444444,\"#bd3786\"],[0.5555555555555556,\"#d8576b\"],[0.6666666666666666,\"#ed7953\"],[0.7777777777777778,\"#fb9f3a\"],[0.8888888888888888,\"#fdca26\"],[1.0,\"#f0f921\"]]},\"colorway\":[\"#636efa\",\"#EF553B\",\"#00cc96\",\"#ab63fa\",\"#FFA15A\",\"#19d3f3\",\"#FF6692\",\"#B6E880\",\"#FF97FF\",\"#FECB52\"],\"font\":{\"color\":\"#2a3f5f\"},\"geo\":{\"bgcolor\":\"white\",\"lakecolor\":\"white\",\"landcolor\":\"white\",\"showlakes\":true,\"showland\":true,\"subunitcolor\":\"#C8D4E3\"},\"hoverlabel\":{\"align\":\"left\"},\"hovermode\":\"closest\",\"mapbox\":{\"style\":\"light\"},\"paper_bgcolor\":\"white\",\"plot_bgcolor\":\"white\",\"polar\":{\"angularaxis\":{\"gridcolor\":\"#EBF0F8\",\"linecolor\":\"#EBF0F8\",\"ticks\":\"\"},\"bgcolor\":\"white\",\"radialaxis\":{\"gridcolor\":\"#EBF0F8\",\"linecolor\":\"#EBF0F8\",\"ticks\":\"\"}},\"scene\":{\"xaxis\":{\"backgroundcolor\":\"white\",\"gridcolor\":\"#DFE8F3\",\"gridwidth\":2,\"linecolor\":\"#EBF0F8\",\"showbackground\":true,\"ticks\":\"\",\"zerolinecolor\":\"#EBF0F8\"},\"yaxis\":{\"backgroundcolor\":\"white\",\"gridcolor\":\"#DFE8F3\",\"gridwidth\":2,\"linecolor\":\"#EBF0F8\",\"showbackground\":true,\"ticks\":\"\",\"zerolinecolor\":\"#EBF0F8\"},\"zaxis\":{\"backgroundcolor\":\"white\",\"gridcolor\":\"#DFE8F3\",\"gridwidth\":2,\"linecolor\":\"#EBF0F8\",\"showbackground\":true,\"ticks\":\"\",\"zerolinecolor\":\"#EBF0F8\"}},\"shapedefaults\":{\"line\":{\"color\":\"#2a3f5f\"}},\"ternary\":{\"aaxis\":{\"gridcolor\":\"#DFE8F3\",\"linecolor\":\"#A2B1C6\",\"ticks\":\"\"},\"baxis\":{\"gridcolor\":\"#DFE8F3\",\"linecolor\":\"#A2B1C6\",\"ticks\":\"\"},\"bgcolor\":\"white\",\"caxis\":{\"gridcolor\":\"#DFE8F3\",\"linecolor\":\"#A2B1C6\",\"ticks\":\"\"}},\"title\":{\"x\":0.05},\"xaxis\":{\"automargin\":true,\"gridcolor\":\"#EBF0F8\",\"linecolor\":\"#EBF0F8\",\"ticks\":\"\",\"title\":{\"standoff\":15},\"zerolinecolor\":\"#EBF0F8\",\"zerolinewidth\":2},\"yaxis\":{\"automargin\":true,\"gridcolor\":\"#EBF0F8\",\"linecolor\":\"#EBF0F8\",\"ticks\":\"\",\"title\":{\"standoff\":15},\"zerolinecolor\":\"#EBF0F8\",\"zerolinewidth\":2}}},\"shapes\":[{\"line\":{\"dash\":\"dash\"},\"type\":\"line\",\"x0\":0,\"x1\":1,\"y0\":0,\"y1\":1}],\"title\":{\"text\":\"Dose 2 detectable\"},\"legend\":{\"yanchor\":\"bottom\",\"xanchor\":\"right\",\"x\":0.95,\"y\":0.01},\"xaxis\":{\"title\":{\"text\":\"False Positive Rate\"},\"range\":[0,1],\"constrain\":\"domain\",\"linecolor\":\"black\"},\"yaxis\":{\"title\":{\"text\":\"True Positive Rate\"},\"range\":[0,1],\"scaleanchor\":\"x\",\"scaleratio\":1,\"linecolor\":\"black\"},\"width\":500,\"height\":500},                        {\"responsive\": true}                    ).then(function(){\n",
       "                            \n",
       "var gd = document.getElementById('a6f6b4a0-bfc9-445e-9638-c1b110112354');\n",
       "var x = new MutationObserver(function (mutations, observer) {{\n",
       "        var display = window.getComputedStyle(gd).display;\n",
       "        if (!display || display === 'none') {{\n",
       "            console.log([gd, 'removed!']);\n",
       "            Plotly.purge(gd);\n",
       "            observer.disconnect();\n",
       "        }}\n",
       "}});\n",
       "\n",
       "// Listen for the removal of the full notebook cells\n",
       "var notebookContainer = gd.closest('#notebook-container');\n",
       "if (notebookContainer) {{\n",
       "    x.observe(notebookContainer, {childList: true});\n",
       "}}\n",
       "\n",
       "// Listen for the clearing of the current output cell\n",
       "var outputEl = gd.closest('.output');\n",
       "if (outputEl) {{\n",
       "    x.observe(outputEl, {childList: true});\n",
       "}}\n",
       "\n",
       "                        })                };                });            </script>        </div>"
      ]
     },
     "metadata": {},
     "output_type": "display_data"
    }
   ],
   "source": [
    "y_true_d2_d  = []\n",
    "y_true_d3_p  = []\n",
    "y_score_d2_d = []\n",
    "y_score_d3_p = []\n",
    "for i in range(len(data[\"comp\"][\"SVM_RFE_d2_d\"][\"SVM_d2_d\"])):\n",
    "    y_true_d2_d.append(data[\"comp\"][\"SVM_RFE_d2_d\"][\"SVM_d2_d\"][i][\"y_true\"])\n",
    "    y_true_d3_p.append(data[\"comp\"][\"SVM_RFE_d3_p\"][\"SVM_d3_p\"][i][\"y_true\"])\n",
    "    y_score_d2_d.append(data[\"comp\"][\"SVM_RFE_d2_d\"][\"SVM_d2_d\"][i][\"z\"])\n",
    "    y_score_d3_p.append(data[\"comp\"][\"SVM_RFE_d3_p\"][\"SVM_d3_p\"][i][\"z\"])\n",
    "\n",
    "\n",
    "kind = 'val'\n",
    "c_line      = 'rgba(52, 152, 219, 0.5)'\n",
    "c_fill      = 'rgba(52, 152, 219, 0.2)'\n",
    "c_line_main = 'rgba(41, 128, 185, 1.0)'\n",
    "c_grid      = 'rgba(189, 195, 199, 0.5)'\n",
    "#c_annot     = 'rgba(149, 165, 166, 0.5)'\n",
    "#c_highlight = 'rgba(192, 57, 43, 1.0)'\n",
    "fpr_mean    = np.linspace(0, 1, 100)\n",
    "interp_tprs_d2_d = []\n",
    "interp_tprs_d3_p = []\n",
    "for i in range(len(y_true_d2_d)):\n",
    "    fpr_d2_d, tpr_d2_d, thresholds = roc_curve(y_true_d2_d[i], y_score_d2_d[i])\n",
    "    fpr_d3_p, tpr_d3_p, thresholds = roc_curve(y_true_d3_p[i], y_score_d3_p[i])\n",
    "    interp_tpr_d2_d    = np.interp(fpr_mean, fpr_d2_d, tpr_d2_d)\n",
    "    interp_tpr_d3_p    = np.interp(fpr_mean, fpr_d3_p, tpr_d3_p)\n",
    "    interp_tpr_d2_d[0] = 0.0\n",
    "    interp_tpr_d3_p[0] = 0.0\n",
    "    interp_tprs_d2_d.append(interp_tpr_d2_d)\n",
    "    interp_tprs_d3_p.append(interp_tpr_d3_p)\n",
    "tpr_mean_d2_d     = np.mean(interp_tprs_d2_d, axis=0)\n",
    "tpr_mean_d3_p     = np.mean(interp_tprs_d3_p, axis=0)\n",
    "tpr_mean_d2_d[-1] = 1.0\n",
    "tpr_mean_d3_p[-1] = 1.0\n",
    "tpr_std_d2_d      = np.std(interp_tprs_d2_d, axis=0)\n",
    "tpr_std_d3_p      = np.std(interp_tprs_d3_p, axis=0)\n",
    "tpr_upper_d2_d    = np.clip(tpr_mean_d2_d+tpr_std_d2_d, 0, 1)\n",
    "tpr_upper_d3_p    = np.clip(tpr_mean_d3_p+tpr_std_d3_p, 0, 1)\n",
    "tpr_lower_d2_d    = tpr_mean_d2_d-tpr_std_d2_d\n",
    "tpr_lower_d3_p    = tpr_mean_d3_p-tpr_std_d3_p\n",
    "\n",
    "fig3 = go.Figure([\n",
    "    go.Scatter(\n",
    "        x          = fpr_mean,\n",
    "        y          = tpr_upper_d2_d,\n",
    "        line       = dict(color=c_line, width=1),\n",
    "        hoverinfo  = \"skip\",\n",
    "        showlegend = True,\n",
    "        name       = 'SD'),\n",
    "    go.Scatter(\n",
    "        x          = fpr_mean,\n",
    "        y          = tpr_lower_d2_d,\n",
    "        fill       = 'tonexty',\n",
    "        fillcolor  = c_fill,\n",
    "        line       = dict(color=c_line, width=1),\n",
    "        hoverinfo  = \"skip\",\n",
    "        showlegend = False,\n",
    "        name       = 'lower'),\n",
    "    go.Scatter(\n",
    "        x          = fpr_mean,\n",
    "        y          = tpr_mean_d2_d,\n",
    "        line       = dict(color=c_line_main, width=2),\n",
    "        hoverinfo  = \"skip\",\n",
    "        showlegend = True,\n",
    "        name       = 'AUC: 0.950')\n",
    "]\n",
    ")\n",
    "fig3.add_shape(\n",
    "    type ='line', \n",
    "    line =dict(dash='dash'),\n",
    "    x0=0, x1=1, y0=0, y1=1\n",
    ")\n",
    "fig3.update_layout(\n",
    "    template    = 'plotly_white', \n",
    "    title_x     = 0.5,\n",
    "    title = \"Dose 2 detectable\",\n",
    "    xaxis_title = \"False Positive Rate\",\n",
    "    yaxis_title = \"True Positive Rate\",\n",
    "    width       = 500,\n",
    "    height      = 500,\n",
    "    legend      = dict(\n",
    "        yanchor=\"bottom\", \n",
    "        xanchor=\"right\", \n",
    "        x=0.95,\n",
    "        y=0.01,\n",
    "    )\n",
    ")\n",
    "fig3.update_yaxes(\n",
    "    range       = [0, 1],\n",
    "    scaleanchor = \"x\", \n",
    "    scaleratio  = 1,\n",
    "    linecolor   = 'black')\n",
    "fig3.update_xaxes(\n",
    "    range       = [0, 1],\n",
    "    constrain   = 'domain',\n",
    "    linecolor   = 'black')\n",
    "fig3.write_image(\"fig_ml_C.svg\")\n",
    "fig3"
   ]
  },
  {
   "cell_type": "code",
   "execution_count": 29,
   "id": "168d809e-37c7-474c-ad70-b2a12f168cbf",
   "metadata": {},
   "outputs": [
    {
     "data": {
      "application/vnd.plotly.v1+json": {
       "config": {
        "plotlyServerURL": "https://plot.ly"
       },
       "data": [
        {
         "hoverinfo": "skip",
         "line": {
          "color": "rgba( 152,52, 219, 0.5)",
          "width": 1
         },
         "name": "SD",
         "showlegend": true,
         "type": "scatter",
         "x": [
          0,
          0.010101010101010102,
          0.020202020202020204,
          0.030303030303030304,
          0.04040404040404041,
          0.05050505050505051,
          0.06060606060606061,
          0.07070707070707072,
          0.08080808080808081,
          0.09090909090909091,
          0.10101010101010102,
          0.11111111111111112,
          0.12121212121212122,
          0.13131313131313133,
          0.14141414141414144,
          0.15151515151515152,
          0.16161616161616163,
          0.17171717171717174,
          0.18181818181818182,
          0.19191919191919193,
          0.20202020202020204,
          0.21212121212121213,
          0.22222222222222224,
          0.23232323232323235,
          0.24242424242424243,
          0.25252525252525254,
          0.26262626262626265,
          0.27272727272727276,
          0.2828282828282829,
          0.29292929292929293,
          0.30303030303030304,
          0.31313131313131315,
          0.32323232323232326,
          0.33333333333333337,
          0.3434343434343435,
          0.3535353535353536,
          0.36363636363636365,
          0.37373737373737376,
          0.38383838383838387,
          0.393939393939394,
          0.4040404040404041,
          0.4141414141414142,
          0.42424242424242425,
          0.43434343434343436,
          0.4444444444444445,
          0.4545454545454546,
          0.4646464646464647,
          0.4747474747474748,
          0.48484848484848486,
          0.494949494949495,
          0.5050505050505051,
          0.5151515151515152,
          0.5252525252525253,
          0.5353535353535354,
          0.5454545454545455,
          0.5555555555555556,
          0.5656565656565657,
          0.5757575757575758,
          0.5858585858585859,
          0.595959595959596,
          0.6060606060606061,
          0.6161616161616162,
          0.6262626262626263,
          0.6363636363636365,
          0.6464646464646465,
          0.6565656565656566,
          0.6666666666666667,
          0.6767676767676768,
          0.686868686868687,
          0.696969696969697,
          0.7070707070707072,
          0.7171717171717172,
          0.7272727272727273,
          0.7373737373737375,
          0.7474747474747475,
          0.7575757575757577,
          0.7676767676767677,
          0.7777777777777778,
          0.787878787878788,
          0.797979797979798,
          0.8080808080808082,
          0.8181818181818182,
          0.8282828282828284,
          0.8383838383838385,
          0.8484848484848485,
          0.8585858585858587,
          0.8686868686868687,
          0.8787878787878789,
          0.888888888888889,
          0.8989898989898991,
          0.9090909090909092,
          0.9191919191919192,
          0.9292929292929294,
          0.9393939393939394,
          0.9494949494949496,
          0.9595959595959597,
          0.9696969696969697,
          0.9797979797979799,
          0.98989898989899,
          1
         ],
         "y": [
          0,
          1,
          1,
          1,
          1,
          1,
          1,
          1,
          1,
          1,
          1,
          1,
          1,
          1,
          1,
          1,
          1,
          1,
          1,
          1,
          1,
          1,
          1,
          1,
          1,
          1,
          1,
          1,
          1,
          1,
          1,
          1,
          1,
          1,
          1,
          1,
          1,
          1,
          1,
          1,
          1,
          1,
          1,
          1,
          1,
          1,
          1,
          1,
          1,
          1,
          1,
          1,
          1,
          1,
          1,
          1,
          1,
          1,
          1,
          1,
          1,
          1,
          1,
          1,
          1,
          1,
          1,
          1,
          1,
          1,
          1,
          1,
          1,
          1,
          1,
          1,
          1,
          1,
          1,
          1,
          1,
          1,
          1,
          1,
          1,
          1,
          1,
          1,
          1,
          1,
          1,
          1,
          1,
          1,
          1,
          1,
          1,
          1,
          1,
          1
         ]
        },
        {
         "fill": "tonexty",
         "fillcolor": "rgba( 152,52, 219, 0.2)",
         "hoverinfo": "skip",
         "line": {
          "color": "rgba( 152,52, 219, 0.5)",
          "width": 1
         },
         "name": "lower",
         "showlegend": false,
         "type": "scatter",
         "x": [
          0,
          0.010101010101010102,
          0.020202020202020204,
          0.030303030303030304,
          0.04040404040404041,
          0.05050505050505051,
          0.06060606060606061,
          0.07070707070707072,
          0.08080808080808081,
          0.09090909090909091,
          0.10101010101010102,
          0.11111111111111112,
          0.12121212121212122,
          0.13131313131313133,
          0.14141414141414144,
          0.15151515151515152,
          0.16161616161616163,
          0.17171717171717174,
          0.18181818181818182,
          0.19191919191919193,
          0.20202020202020204,
          0.21212121212121213,
          0.22222222222222224,
          0.23232323232323235,
          0.24242424242424243,
          0.25252525252525254,
          0.26262626262626265,
          0.27272727272727276,
          0.2828282828282829,
          0.29292929292929293,
          0.30303030303030304,
          0.31313131313131315,
          0.32323232323232326,
          0.33333333333333337,
          0.3434343434343435,
          0.3535353535353536,
          0.36363636363636365,
          0.37373737373737376,
          0.38383838383838387,
          0.393939393939394,
          0.4040404040404041,
          0.4141414141414142,
          0.42424242424242425,
          0.43434343434343436,
          0.4444444444444445,
          0.4545454545454546,
          0.4646464646464647,
          0.4747474747474748,
          0.48484848484848486,
          0.494949494949495,
          0.5050505050505051,
          0.5151515151515152,
          0.5252525252525253,
          0.5353535353535354,
          0.5454545454545455,
          0.5555555555555556,
          0.5656565656565657,
          0.5757575757575758,
          0.5858585858585859,
          0.595959595959596,
          0.6060606060606061,
          0.6161616161616162,
          0.6262626262626263,
          0.6363636363636365,
          0.6464646464646465,
          0.6565656565656566,
          0.6666666666666667,
          0.6767676767676768,
          0.686868686868687,
          0.696969696969697,
          0.7070707070707072,
          0.7171717171717172,
          0.7272727272727273,
          0.7373737373737375,
          0.7474747474747475,
          0.7575757575757577,
          0.7676767676767677,
          0.7777777777777778,
          0.787878787878788,
          0.797979797979798,
          0.8080808080808082,
          0.8181818181818182,
          0.8282828282828284,
          0.8383838383838385,
          0.8484848484848485,
          0.8585858585858587,
          0.8686868686868687,
          0.8787878787878789,
          0.888888888888889,
          0.8989898989898991,
          0.9090909090909092,
          0.9191919191919192,
          0.9292929292929294,
          0.9393939393939394,
          0.9494949494949496,
          0.9595959595959597,
          0.9696969696969697,
          0.9797979797979799,
          0.98989898989899,
          1
         ],
         "y": [
          0,
          0.41458980337503154,
          0.41458980337503154,
          0.41458980337503154,
          0.41458980337503154,
          0.41458980337503154,
          0.41458980337503154,
          0.41458980337503154,
          0.41458980337503154,
          0.41458980337503154,
          0.41458980337503154,
          0.41458980337503154,
          0.41458980337503154,
          0.41458980337503154,
          0.41458980337503154,
          0.41458980337503154,
          0.41458980337503154,
          0.5298437881283575,
          0.5298437881283575,
          0.5298437881283575,
          0.6000000000000001,
          0.6000000000000001,
          0.6000000000000001,
          0.6000000000000001,
          0.6000000000000001,
          0.6000000000000001,
          0.6000000000000001,
          0.6000000000000001,
          0.6000000000000001,
          0.6000000000000001,
          0.6000000000000001,
          0.6000000000000001,
          0.6000000000000001,
          0.6000000000000001,
          0.6000000000000001,
          0.6000000000000001,
          0.6000000000000001,
          0.6000000000000001,
          0.6000000000000001,
          0.6000000000000001,
          1,
          1,
          1,
          1,
          1,
          1,
          1,
          1,
          1,
          1,
          1,
          1,
          1,
          1,
          1,
          1,
          1,
          1,
          1,
          1,
          1,
          1,
          1,
          1,
          1,
          1,
          1,
          1,
          1,
          1,
          1,
          1,
          1,
          1,
          1,
          1,
          1,
          1,
          1,
          1,
          1,
          1,
          1,
          1,
          1,
          1,
          1,
          1,
          1,
          1,
          1,
          1,
          1,
          1,
          1,
          1,
          1,
          1,
          1,
          1
         ]
        },
        {
         "hoverinfo": "skip",
         "line": {
          "color": "rgba( 128,41, 185, 1.0)",
          "width": 2
         },
         "name": "AUC: 0.933",
         "showlegend": true,
         "type": "scatter",
         "x": [
          0,
          0.010101010101010102,
          0.020202020202020204,
          0.030303030303030304,
          0.04040404040404041,
          0.05050505050505051,
          0.06060606060606061,
          0.07070707070707072,
          0.08080808080808081,
          0.09090909090909091,
          0.10101010101010102,
          0.11111111111111112,
          0.12121212121212122,
          0.13131313131313133,
          0.14141414141414144,
          0.15151515151515152,
          0.16161616161616163,
          0.17171717171717174,
          0.18181818181818182,
          0.19191919191919193,
          0.20202020202020204,
          0.21212121212121213,
          0.22222222222222224,
          0.23232323232323235,
          0.24242424242424243,
          0.25252525252525254,
          0.26262626262626265,
          0.27272727272727276,
          0.2828282828282829,
          0.29292929292929293,
          0.30303030303030304,
          0.31313131313131315,
          0.32323232323232326,
          0.33333333333333337,
          0.3434343434343435,
          0.3535353535353536,
          0.36363636363636365,
          0.37373737373737376,
          0.38383838383838387,
          0.393939393939394,
          0.4040404040404041,
          0.4141414141414142,
          0.42424242424242425,
          0.43434343434343436,
          0.4444444444444445,
          0.4545454545454546,
          0.4646464646464647,
          0.4747474747474748,
          0.48484848484848486,
          0.494949494949495,
          0.5050505050505051,
          0.5151515151515152,
          0.5252525252525253,
          0.5353535353535354,
          0.5454545454545455,
          0.5555555555555556,
          0.5656565656565657,
          0.5757575757575758,
          0.5858585858585859,
          0.595959595959596,
          0.6060606060606061,
          0.6161616161616162,
          0.6262626262626263,
          0.6363636363636365,
          0.6464646464646465,
          0.6565656565656566,
          0.6666666666666667,
          0.6767676767676768,
          0.686868686868687,
          0.696969696969697,
          0.7070707070707072,
          0.7171717171717172,
          0.7272727272727273,
          0.7373737373737375,
          0.7474747474747475,
          0.7575757575757577,
          0.7676767676767677,
          0.7777777777777778,
          0.787878787878788,
          0.797979797979798,
          0.8080808080808082,
          0.8181818181818182,
          0.8282828282828284,
          0.8383838383838385,
          0.8484848484848485,
          0.8585858585858587,
          0.8686868686868687,
          0.8787878787878789,
          0.888888888888889,
          0.8989898989898991,
          0.9090909090909092,
          0.9191919191919192,
          0.9292929292929294,
          0.9393939393939394,
          0.9494949494949496,
          0.9595959595959597,
          0.9696969696969697,
          0.9797979797979799,
          0.98989898989899,
          1
         ],
         "y": [
          0,
          0.75,
          0.75,
          0.75,
          0.75,
          0.75,
          0.75,
          0.75,
          0.75,
          0.75,
          0.75,
          0.75,
          0.75,
          0.75,
          0.75,
          0.75,
          0.75,
          0.85,
          0.85,
          0.85,
          0.9,
          0.9,
          0.9,
          0.9,
          0.9,
          0.9,
          0.9,
          0.9,
          0.9,
          0.9,
          0.9,
          0.9,
          0.9,
          0.9,
          0.9,
          0.9,
          0.9,
          0.9,
          0.9,
          0.9,
          1,
          1,
          1,
          1,
          1,
          1,
          1,
          1,
          1,
          1,
          1,
          1,
          1,
          1,
          1,
          1,
          1,
          1,
          1,
          1,
          1,
          1,
          1,
          1,
          1,
          1,
          1,
          1,
          1,
          1,
          1,
          1,
          1,
          1,
          1,
          1,
          1,
          1,
          1,
          1,
          1,
          1,
          1,
          1,
          1,
          1,
          1,
          1,
          1,
          1,
          1,
          1,
          1,
          1,
          1,
          1,
          1,
          1,
          1,
          1
         ]
        }
       ],
       "layout": {
        "height": 500,
        "legend": {
         "x": 0.95,
         "xanchor": "right",
         "y": 0.01,
         "yanchor": "bottom"
        },
        "shapes": [
         {
          "line": {
           "dash": "dash"
          },
          "type": "line",
          "x0": 0,
          "x1": 1,
          "y0": 0,
          "y1": 1
         }
        ],
        "template": {
         "data": {
          "bar": [
           {
            "error_x": {
             "color": "#2a3f5f"
            },
            "error_y": {
             "color": "#2a3f5f"
            },
            "marker": {
             "line": {
              "color": "white",
              "width": 0.5
             },
             "pattern": {
              "fillmode": "overlay",
              "size": 10,
              "solidity": 0.2
             }
            },
            "type": "bar"
           }
          ],
          "barpolar": [
           {
            "marker": {
             "line": {
              "color": "white",
              "width": 0.5
             },
             "pattern": {
              "fillmode": "overlay",
              "size": 10,
              "solidity": 0.2
             }
            },
            "type": "barpolar"
           }
          ],
          "carpet": [
           {
            "aaxis": {
             "endlinecolor": "#2a3f5f",
             "gridcolor": "#C8D4E3",
             "linecolor": "#C8D4E3",
             "minorgridcolor": "#C8D4E3",
             "startlinecolor": "#2a3f5f"
            },
            "baxis": {
             "endlinecolor": "#2a3f5f",
             "gridcolor": "#C8D4E3",
             "linecolor": "#C8D4E3",
             "minorgridcolor": "#C8D4E3",
             "startlinecolor": "#2a3f5f"
            },
            "type": "carpet"
           }
          ],
          "choropleth": [
           {
            "colorbar": {
             "outlinewidth": 0,
             "ticks": ""
            },
            "type": "choropleth"
           }
          ],
          "contour": [
           {
            "colorbar": {
             "outlinewidth": 0,
             "ticks": ""
            },
            "colorscale": [
             [
              0,
              "#0d0887"
             ],
             [
              0.1111111111111111,
              "#46039f"
             ],
             [
              0.2222222222222222,
              "#7201a8"
             ],
             [
              0.3333333333333333,
              "#9c179e"
             ],
             [
              0.4444444444444444,
              "#bd3786"
             ],
             [
              0.5555555555555556,
              "#d8576b"
             ],
             [
              0.6666666666666666,
              "#ed7953"
             ],
             [
              0.7777777777777778,
              "#fb9f3a"
             ],
             [
              0.8888888888888888,
              "#fdca26"
             ],
             [
              1,
              "#f0f921"
             ]
            ],
            "type": "contour"
           }
          ],
          "contourcarpet": [
           {
            "colorbar": {
             "outlinewidth": 0,
             "ticks": ""
            },
            "type": "contourcarpet"
           }
          ],
          "heatmap": [
           {
            "colorbar": {
             "outlinewidth": 0,
             "ticks": ""
            },
            "colorscale": [
             [
              0,
              "#0d0887"
             ],
             [
              0.1111111111111111,
              "#46039f"
             ],
             [
              0.2222222222222222,
              "#7201a8"
             ],
             [
              0.3333333333333333,
              "#9c179e"
             ],
             [
              0.4444444444444444,
              "#bd3786"
             ],
             [
              0.5555555555555556,
              "#d8576b"
             ],
             [
              0.6666666666666666,
              "#ed7953"
             ],
             [
              0.7777777777777778,
              "#fb9f3a"
             ],
             [
              0.8888888888888888,
              "#fdca26"
             ],
             [
              1,
              "#f0f921"
             ]
            ],
            "type": "heatmap"
           }
          ],
          "heatmapgl": [
           {
            "colorbar": {
             "outlinewidth": 0,
             "ticks": ""
            },
            "colorscale": [
             [
              0,
              "#0d0887"
             ],
             [
              0.1111111111111111,
              "#46039f"
             ],
             [
              0.2222222222222222,
              "#7201a8"
             ],
             [
              0.3333333333333333,
              "#9c179e"
             ],
             [
              0.4444444444444444,
              "#bd3786"
             ],
             [
              0.5555555555555556,
              "#d8576b"
             ],
             [
              0.6666666666666666,
              "#ed7953"
             ],
             [
              0.7777777777777778,
              "#fb9f3a"
             ],
             [
              0.8888888888888888,
              "#fdca26"
             ],
             [
              1,
              "#f0f921"
             ]
            ],
            "type": "heatmapgl"
           }
          ],
          "histogram": [
           {
            "marker": {
             "pattern": {
              "fillmode": "overlay",
              "size": 10,
              "solidity": 0.2
             }
            },
            "type": "histogram"
           }
          ],
          "histogram2d": [
           {
            "colorbar": {
             "outlinewidth": 0,
             "ticks": ""
            },
            "colorscale": [
             [
              0,
              "#0d0887"
             ],
             [
              0.1111111111111111,
              "#46039f"
             ],
             [
              0.2222222222222222,
              "#7201a8"
             ],
             [
              0.3333333333333333,
              "#9c179e"
             ],
             [
              0.4444444444444444,
              "#bd3786"
             ],
             [
              0.5555555555555556,
              "#d8576b"
             ],
             [
              0.6666666666666666,
              "#ed7953"
             ],
             [
              0.7777777777777778,
              "#fb9f3a"
             ],
             [
              0.8888888888888888,
              "#fdca26"
             ],
             [
              1,
              "#f0f921"
             ]
            ],
            "type": "histogram2d"
           }
          ],
          "histogram2dcontour": [
           {
            "colorbar": {
             "outlinewidth": 0,
             "ticks": ""
            },
            "colorscale": [
             [
              0,
              "#0d0887"
             ],
             [
              0.1111111111111111,
              "#46039f"
             ],
             [
              0.2222222222222222,
              "#7201a8"
             ],
             [
              0.3333333333333333,
              "#9c179e"
             ],
             [
              0.4444444444444444,
              "#bd3786"
             ],
             [
              0.5555555555555556,
              "#d8576b"
             ],
             [
              0.6666666666666666,
              "#ed7953"
             ],
             [
              0.7777777777777778,
              "#fb9f3a"
             ],
             [
              0.8888888888888888,
              "#fdca26"
             ],
             [
              1,
              "#f0f921"
             ]
            ],
            "type": "histogram2dcontour"
           }
          ],
          "mesh3d": [
           {
            "colorbar": {
             "outlinewidth": 0,
             "ticks": ""
            },
            "type": "mesh3d"
           }
          ],
          "parcoords": [
           {
            "line": {
             "colorbar": {
              "outlinewidth": 0,
              "ticks": ""
             }
            },
            "type": "parcoords"
           }
          ],
          "pie": [
           {
            "automargin": true,
            "type": "pie"
           }
          ],
          "scatter": [
           {
            "fillpattern": {
             "fillmode": "overlay",
             "size": 10,
             "solidity": 0.2
            },
            "type": "scatter"
           }
          ],
          "scatter3d": [
           {
            "line": {
             "colorbar": {
              "outlinewidth": 0,
              "ticks": ""
             }
            },
            "marker": {
             "colorbar": {
              "outlinewidth": 0,
              "ticks": ""
             }
            },
            "type": "scatter3d"
           }
          ],
          "scattercarpet": [
           {
            "marker": {
             "colorbar": {
              "outlinewidth": 0,
              "ticks": ""
             }
            },
            "type": "scattercarpet"
           }
          ],
          "scattergeo": [
           {
            "marker": {
             "colorbar": {
              "outlinewidth": 0,
              "ticks": ""
             }
            },
            "type": "scattergeo"
           }
          ],
          "scattergl": [
           {
            "marker": {
             "colorbar": {
              "outlinewidth": 0,
              "ticks": ""
             }
            },
            "type": "scattergl"
           }
          ],
          "scattermapbox": [
           {
            "marker": {
             "colorbar": {
              "outlinewidth": 0,
              "ticks": ""
             }
            },
            "type": "scattermapbox"
           }
          ],
          "scatterpolar": [
           {
            "marker": {
             "colorbar": {
              "outlinewidth": 0,
              "ticks": ""
             }
            },
            "type": "scatterpolar"
           }
          ],
          "scatterpolargl": [
           {
            "marker": {
             "colorbar": {
              "outlinewidth": 0,
              "ticks": ""
             }
            },
            "type": "scatterpolargl"
           }
          ],
          "scatterternary": [
           {
            "marker": {
             "colorbar": {
              "outlinewidth": 0,
              "ticks": ""
             }
            },
            "type": "scatterternary"
           }
          ],
          "surface": [
           {
            "colorbar": {
             "outlinewidth": 0,
             "ticks": ""
            },
            "colorscale": [
             [
              0,
              "#0d0887"
             ],
             [
              0.1111111111111111,
              "#46039f"
             ],
             [
              0.2222222222222222,
              "#7201a8"
             ],
             [
              0.3333333333333333,
              "#9c179e"
             ],
             [
              0.4444444444444444,
              "#bd3786"
             ],
             [
              0.5555555555555556,
              "#d8576b"
             ],
             [
              0.6666666666666666,
              "#ed7953"
             ],
             [
              0.7777777777777778,
              "#fb9f3a"
             ],
             [
              0.8888888888888888,
              "#fdca26"
             ],
             [
              1,
              "#f0f921"
             ]
            ],
            "type": "surface"
           }
          ],
          "table": [
           {
            "cells": {
             "fill": {
              "color": "#EBF0F8"
             },
             "line": {
              "color": "white"
             }
            },
            "header": {
             "fill": {
              "color": "#C8D4E3"
             },
             "line": {
              "color": "white"
             }
            },
            "type": "table"
           }
          ]
         },
         "layout": {
          "annotationdefaults": {
           "arrowcolor": "#2a3f5f",
           "arrowhead": 0,
           "arrowwidth": 1
          },
          "autotypenumbers": "strict",
          "coloraxis": {
           "colorbar": {
            "outlinewidth": 0,
            "ticks": ""
           }
          },
          "colorscale": {
           "diverging": [
            [
             0,
             "#8e0152"
            ],
            [
             0.1,
             "#c51b7d"
            ],
            [
             0.2,
             "#de77ae"
            ],
            [
             0.3,
             "#f1b6da"
            ],
            [
             0.4,
             "#fde0ef"
            ],
            [
             0.5,
             "#f7f7f7"
            ],
            [
             0.6,
             "#e6f5d0"
            ],
            [
             0.7,
             "#b8e186"
            ],
            [
             0.8,
             "#7fbc41"
            ],
            [
             0.9,
             "#4d9221"
            ],
            [
             1,
             "#276419"
            ]
           ],
           "sequential": [
            [
             0,
             "#0d0887"
            ],
            [
             0.1111111111111111,
             "#46039f"
            ],
            [
             0.2222222222222222,
             "#7201a8"
            ],
            [
             0.3333333333333333,
             "#9c179e"
            ],
            [
             0.4444444444444444,
             "#bd3786"
            ],
            [
             0.5555555555555556,
             "#d8576b"
            ],
            [
             0.6666666666666666,
             "#ed7953"
            ],
            [
             0.7777777777777778,
             "#fb9f3a"
            ],
            [
             0.8888888888888888,
             "#fdca26"
            ],
            [
             1,
             "#f0f921"
            ]
           ],
           "sequentialminus": [
            [
             0,
             "#0d0887"
            ],
            [
             0.1111111111111111,
             "#46039f"
            ],
            [
             0.2222222222222222,
             "#7201a8"
            ],
            [
             0.3333333333333333,
             "#9c179e"
            ],
            [
             0.4444444444444444,
             "#bd3786"
            ],
            [
             0.5555555555555556,
             "#d8576b"
            ],
            [
             0.6666666666666666,
             "#ed7953"
            ],
            [
             0.7777777777777778,
             "#fb9f3a"
            ],
            [
             0.8888888888888888,
             "#fdca26"
            ],
            [
             1,
             "#f0f921"
            ]
           ]
          },
          "colorway": [
           "#636efa",
           "#EF553B",
           "#00cc96",
           "#ab63fa",
           "#FFA15A",
           "#19d3f3",
           "#FF6692",
           "#B6E880",
           "#FF97FF",
           "#FECB52"
          ],
          "font": {
           "color": "#2a3f5f"
          },
          "geo": {
           "bgcolor": "white",
           "lakecolor": "white",
           "landcolor": "white",
           "showlakes": true,
           "showland": true,
           "subunitcolor": "#C8D4E3"
          },
          "hoverlabel": {
           "align": "left"
          },
          "hovermode": "closest",
          "mapbox": {
           "style": "light"
          },
          "paper_bgcolor": "white",
          "plot_bgcolor": "white",
          "polar": {
           "angularaxis": {
            "gridcolor": "#EBF0F8",
            "linecolor": "#EBF0F8",
            "ticks": ""
           },
           "bgcolor": "white",
           "radialaxis": {
            "gridcolor": "#EBF0F8",
            "linecolor": "#EBF0F8",
            "ticks": ""
           }
          },
          "scene": {
           "xaxis": {
            "backgroundcolor": "white",
            "gridcolor": "#DFE8F3",
            "gridwidth": 2,
            "linecolor": "#EBF0F8",
            "showbackground": true,
            "ticks": "",
            "zerolinecolor": "#EBF0F8"
           },
           "yaxis": {
            "backgroundcolor": "white",
            "gridcolor": "#DFE8F3",
            "gridwidth": 2,
            "linecolor": "#EBF0F8",
            "showbackground": true,
            "ticks": "",
            "zerolinecolor": "#EBF0F8"
           },
           "zaxis": {
            "backgroundcolor": "white",
            "gridcolor": "#DFE8F3",
            "gridwidth": 2,
            "linecolor": "#EBF0F8",
            "showbackground": true,
            "ticks": "",
            "zerolinecolor": "#EBF0F8"
           }
          },
          "shapedefaults": {
           "line": {
            "color": "#2a3f5f"
           }
          },
          "ternary": {
           "aaxis": {
            "gridcolor": "#DFE8F3",
            "linecolor": "#A2B1C6",
            "ticks": ""
           },
           "baxis": {
            "gridcolor": "#DFE8F3",
            "linecolor": "#A2B1C6",
            "ticks": ""
           },
           "bgcolor": "white",
           "caxis": {
            "gridcolor": "#DFE8F3",
            "linecolor": "#A2B1C6",
            "ticks": ""
           }
          },
          "title": {
           "x": 0.05
          },
          "xaxis": {
           "automargin": true,
           "gridcolor": "#EBF0F8",
           "linecolor": "#EBF0F8",
           "ticks": "",
           "title": {
            "standoff": 15
           },
           "zerolinecolor": "#EBF0F8",
           "zerolinewidth": 2
          },
          "yaxis": {
           "automargin": true,
           "gridcolor": "#EBF0F8",
           "linecolor": "#EBF0F8",
           "ticks": "",
           "title": {
            "standoff": 15
           },
           "zerolinecolor": "#EBF0F8",
           "zerolinewidth": 2
          }
         }
        },
        "title": {
         "text": "Dose 3 Positive"
        },
        "width": 500,
        "xaxis": {
         "constrain": "domain",
         "domain": [
          0.02941176470588236,
          0.9705882352941176
         ],
         "linecolor": "black",
         "range": [
          0,
          1
         ],
         "title": {
          "text": "False Positive Rate"
         },
         "type": "linear"
        },
        "yaxis": {
         "domain": [
          0,
          1
         ],
         "linecolor": "black",
         "range": [
          0,
          1
         ],
         "scaleanchor": "x",
         "scaleratio": 1,
         "title": {
          "text": "True Positive Rate"
         },
         "type": "linear"
        }
       }
      },
      "image/png": "[encoded data removed]",
      "text/html": [
       "<div>                            <div id=\"f3b329f6-0e64-4436-8b00-1174a49d4996\" class=\"plotly-graph-div\" style=\"height:500px; width:500px;\"></div>            <script type=\"text/javascript\">                require([\"plotly\"], function(Plotly) {                    window.PLOTLYENV=window.PLOTLYENV || {};                                    if (document.getElementById(\"f3b329f6-0e64-4436-8b00-1174a49d4996\")) {                    Plotly.newPlot(                        \"f3b329f6-0e64-4436-8b00-1174a49d4996\",                        [{\"hoverinfo\":\"skip\",\"line\":{\"color\":\"rgba( 152,52, 219, 0.5)\",\"width\":1},\"name\":\"SD\",\"showlegend\":true,\"x\":[0.0,0.010101010101010102,0.020202020202020204,0.030303030303030304,0.04040404040404041,0.05050505050505051,0.06060606060606061,0.07070707070707072,0.08080808080808081,0.09090909090909091,0.10101010101010102,0.11111111111111112,0.12121212121212122,0.13131313131313133,0.14141414141414144,0.15151515151515152,0.16161616161616163,0.17171717171717174,0.18181818181818182,0.19191919191919193,0.20202020202020204,0.21212121212121213,0.22222222222222224,0.23232323232323235,0.24242424242424243,0.25252525252525254,0.26262626262626265,0.27272727272727276,0.2828282828282829,0.29292929292929293,0.30303030303030304,0.31313131313131315,0.32323232323232326,0.33333333333333337,0.3434343434343435,0.3535353535353536,0.36363636363636365,0.37373737373737376,0.38383838383838387,0.393939393939394,0.4040404040404041,0.4141414141414142,0.42424242424242425,0.43434343434343436,0.4444444444444445,0.4545454545454546,0.4646464646464647,0.4747474747474748,0.48484848484848486,0.494949494949495,0.5050505050505051,0.5151515151515152,0.5252525252525253,0.5353535353535354,0.5454545454545455,0.5555555555555556,0.5656565656565657,0.5757575757575758,0.5858585858585859,0.595959595959596,0.6060606060606061,0.6161616161616162,0.6262626262626263,0.6363636363636365,0.6464646464646465,0.6565656565656566,0.6666666666666667,0.6767676767676768,0.686868686868687,0.696969696969697,0.7070707070707072,0.7171717171717172,0.7272727272727273,0.7373737373737375,0.7474747474747475,0.7575757575757577,0.7676767676767677,0.7777777777777778,0.787878787878788,0.797979797979798,0.8080808080808082,0.8181818181818182,0.8282828282828284,0.8383838383838385,0.8484848484848485,0.8585858585858587,0.8686868686868687,0.8787878787878789,0.888888888888889,0.8989898989898991,0.9090909090909092,0.9191919191919192,0.9292929292929294,0.9393939393939394,0.9494949494949496,0.9595959595959597,0.9696969696969697,0.9797979797979799,0.98989898989899,1.0],\"y\":[0.0,1.0,1.0,1.0,1.0,1.0,1.0,1.0,1.0,1.0,1.0,1.0,1.0,1.0,1.0,1.0,1.0,1.0,1.0,1.0,1.0,1.0,1.0,1.0,1.0,1.0,1.0,1.0,1.0,1.0,1.0,1.0,1.0,1.0,1.0,1.0,1.0,1.0,1.0,1.0,1.0,1.0,1.0,1.0,1.0,1.0,1.0,1.0,1.0,1.0,1.0,1.0,1.0,1.0,1.0,1.0,1.0,1.0,1.0,1.0,1.0,1.0,1.0,1.0,1.0,1.0,1.0,1.0,1.0,1.0,1.0,1.0,1.0,1.0,1.0,1.0,1.0,1.0,1.0,1.0,1.0,1.0,1.0,1.0,1.0,1.0,1.0,1.0,1.0,1.0,1.0,1.0,1.0,1.0,1.0,1.0,1.0,1.0,1.0,1.0],\"type\":\"scatter\"},{\"fill\":\"tonexty\",\"fillcolor\":\"rgba( 152,52, 219, 0.2)\",\"hoverinfo\":\"skip\",\"line\":{\"color\":\"rgba( 152,52, 219, 0.5)\",\"width\":1},\"name\":\"lower\",\"showlegend\":false,\"x\":[0.0,0.010101010101010102,0.020202020202020204,0.030303030303030304,0.04040404040404041,0.05050505050505051,0.06060606060606061,0.07070707070707072,0.08080808080808081,0.09090909090909091,0.10101010101010102,0.11111111111111112,0.12121212121212122,0.13131313131313133,0.14141414141414144,0.15151515151515152,0.16161616161616163,0.17171717171717174,0.18181818181818182,0.19191919191919193,0.20202020202020204,0.21212121212121213,0.22222222222222224,0.23232323232323235,0.24242424242424243,0.25252525252525254,0.26262626262626265,0.27272727272727276,0.2828282828282829,0.29292929292929293,0.30303030303030304,0.31313131313131315,0.32323232323232326,0.33333333333333337,0.3434343434343435,0.3535353535353536,0.36363636363636365,0.37373737373737376,0.38383838383838387,0.393939393939394,0.4040404040404041,0.4141414141414142,0.42424242424242425,0.43434343434343436,0.4444444444444445,0.4545454545454546,0.4646464646464647,0.4747474747474748,0.48484848484848486,0.494949494949495,0.5050505050505051,0.5151515151515152,0.5252525252525253,0.5353535353535354,0.5454545454545455,0.5555555555555556,0.5656565656565657,0.5757575757575758,0.5858585858585859,0.595959595959596,0.6060606060606061,0.6161616161616162,0.6262626262626263,0.6363636363636365,0.6464646464646465,0.6565656565656566,0.6666666666666667,0.6767676767676768,0.686868686868687,0.696969696969697,0.7070707070707072,0.7171717171717172,0.7272727272727273,0.7373737373737375,0.7474747474747475,0.7575757575757577,0.7676767676767677,0.7777777777777778,0.787878787878788,0.797979797979798,0.8080808080808082,0.8181818181818182,0.8282828282828284,0.8383838383838385,0.8484848484848485,0.8585858585858587,0.8686868686868687,0.8787878787878789,0.888888888888889,0.8989898989898991,0.9090909090909092,0.9191919191919192,0.9292929292929294,0.9393939393939394,0.9494949494949496,0.9595959595959597,0.9696969696969697,0.9797979797979799,0.98989898989899,1.0],\"y\":[0.0,0.41458980337503154,0.41458980337503154,0.41458980337503154,0.41458980337503154,0.41458980337503154,0.41458980337503154,0.41458980337503154,0.41458980337503154,0.41458980337503154,0.41458980337503154,0.41458980337503154,0.41458980337503154,0.41458980337503154,0.41458980337503154,0.41458980337503154,0.41458980337503154,0.5298437881283575,0.5298437881283575,0.5298437881283575,0.6000000000000001,0.6000000000000001,0.6000000000000001,0.6000000000000001,0.6000000000000001,0.6000000000000001,0.6000000000000001,0.6000000000000001,0.6000000000000001,0.6000000000000001,0.6000000000000001,0.6000000000000001,0.6000000000000001,0.6000000000000001,0.6000000000000001,0.6000000000000001,0.6000000000000001,0.6000000000000001,0.6000000000000001,0.6000000000000001,1.0,1.0,1.0,1.0,1.0,1.0,1.0,1.0,1.0,1.0,1.0,1.0,1.0,1.0,1.0,1.0,1.0,1.0,1.0,1.0,1.0,1.0,1.0,1.0,1.0,1.0,1.0,1.0,1.0,1.0,1.0,1.0,1.0,1.0,1.0,1.0,1.0,1.0,1.0,1.0,1.0,1.0,1.0,1.0,1.0,1.0,1.0,1.0,1.0,1.0,1.0,1.0,1.0,1.0,1.0,1.0,1.0,1.0,1.0,1.0],\"type\":\"scatter\"},{\"hoverinfo\":\"skip\",\"line\":{\"color\":\"rgba( 128,41, 185, 1.0)\",\"width\":2},\"name\":\"AUC: 0.933\",\"showlegend\":true,\"x\":[0.0,0.010101010101010102,0.020202020202020204,0.030303030303030304,0.04040404040404041,0.05050505050505051,0.06060606060606061,0.07070707070707072,0.08080808080808081,0.09090909090909091,0.10101010101010102,0.11111111111111112,0.12121212121212122,0.13131313131313133,0.14141414141414144,0.15151515151515152,0.16161616161616163,0.17171717171717174,0.18181818181818182,0.19191919191919193,0.20202020202020204,0.21212121212121213,0.22222222222222224,0.23232323232323235,0.24242424242424243,0.25252525252525254,0.26262626262626265,0.27272727272727276,0.2828282828282829,0.29292929292929293,0.30303030303030304,0.31313131313131315,0.32323232323232326,0.33333333333333337,0.3434343434343435,0.3535353535353536,0.36363636363636365,0.37373737373737376,0.38383838383838387,0.393939393939394,0.4040404040404041,0.4141414141414142,0.42424242424242425,0.43434343434343436,0.4444444444444445,0.4545454545454546,0.4646464646464647,0.4747474747474748,0.48484848484848486,0.494949494949495,0.5050505050505051,0.5151515151515152,0.5252525252525253,0.5353535353535354,0.5454545454545455,0.5555555555555556,0.5656565656565657,0.5757575757575758,0.5858585858585859,0.595959595959596,0.6060606060606061,0.6161616161616162,0.6262626262626263,0.6363636363636365,0.6464646464646465,0.6565656565656566,0.6666666666666667,0.6767676767676768,0.686868686868687,0.696969696969697,0.7070707070707072,0.7171717171717172,0.7272727272727273,0.7373737373737375,0.7474747474747475,0.7575757575757577,0.7676767676767677,0.7777777777777778,0.787878787878788,0.797979797979798,0.8080808080808082,0.8181818181818182,0.8282828282828284,0.8383838383838385,0.8484848484848485,0.8585858585858587,0.8686868686868687,0.8787878787878789,0.888888888888889,0.8989898989898991,0.9090909090909092,0.9191919191919192,0.9292929292929294,0.9393939393939394,0.9494949494949496,0.9595959595959597,0.9696969696969697,0.9797979797979799,0.98989898989899,1.0],\"y\":[0.0,0.75,0.75,0.75,0.75,0.75,0.75,0.75,0.75,0.75,0.75,0.75,0.75,0.75,0.75,0.75,0.75,0.85,0.85,0.85,0.9,0.9,0.9,0.9,0.9,0.9,0.9,0.9,0.9,0.9,0.9,0.9,0.9,0.9,0.9,0.9,0.9,0.9,0.9,0.9,1.0,1.0,1.0,1.0,1.0,1.0,1.0,1.0,1.0,1.0,1.0,1.0,1.0,1.0,1.0,1.0,1.0,1.0,1.0,1.0,1.0,1.0,1.0,1.0,1.0,1.0,1.0,1.0,1.0,1.0,1.0,1.0,1.0,1.0,1.0,1.0,1.0,1.0,1.0,1.0,1.0,1.0,1.0,1.0,1.0,1.0,1.0,1.0,1.0,1.0,1.0,1.0,1.0,1.0,1.0,1.0,1.0,1.0,1.0,1.0],\"type\":\"scatter\"}],                        {\"template\":{\"data\":{\"barpolar\":[{\"marker\":{\"line\":{\"color\":\"white\",\"width\":0.5},\"pattern\":{\"fillmode\":\"overlay\",\"size\":10,\"solidity\":0.2}},\"type\":\"barpolar\"}],\"bar\":[{\"error_x\":{\"color\":\"#2a3f5f\"},\"error_y\":{\"color\":\"#2a3f5f\"},\"marker\":{\"line\":{\"color\":\"white\",\"width\":0.5},\"pattern\":{\"fillmode\":\"overlay\",\"size\":10,\"solidity\":0.2}},\"type\":\"bar\"}],\"carpet\":[{\"aaxis\":{\"endlinecolor\":\"#2a3f5f\",\"gridcolor\":\"#C8D4E3\",\"linecolor\":\"#C8D4E3\",\"minorgridcolor\":\"#C8D4E3\",\"startlinecolor\":\"#2a3f5f\"},\"baxis\":{\"endlinecolor\":\"#2a3f5f\",\"gridcolor\":\"#C8D4E3\",\"linecolor\":\"#C8D4E3\",\"minorgridcolor\":\"#C8D4E3\",\"startlinecolor\":\"#2a3f5f\"},\"type\":\"carpet\"}],\"choropleth\":[{\"colorbar\":{\"outlinewidth\":0,\"ticks\":\"\"},\"type\":\"choropleth\"}],\"contourcarpet\":[{\"colorbar\":{\"outlinewidth\":0,\"ticks\":\"\"},\"type\":\"contourcarpet\"}],\"contour\":[{\"colorbar\":{\"outlinewidth\":0,\"ticks\":\"\"},\"colorscale\":[[0.0,\"#0d0887\"],[0.1111111111111111,\"#46039f\"],[0.2222222222222222,\"#7201a8\"],[0.3333333333333333,\"#9c179e\"],[0.4444444444444444,\"#bd3786\"],[0.5555555555555556,\"#d8576b\"],[0.6666666666666666,\"#ed7953\"],[0.7777777777777778,\"#fb9f3a\"],[0.8888888888888888,\"#fdca26\"],[1.0,\"#f0f921\"]],\"type\":\"contour\"}],\"heatmapgl\":[{\"colorbar\":{\"outlinewidth\":0,\"ticks\":\"\"},\"colorscale\":[[0.0,\"#0d0887\"],[0.1111111111111111,\"#46039f\"],[0.2222222222222222,\"#7201a8\"],[0.3333333333333333,\"#9c179e\"],[0.4444444444444444,\"#bd3786\"],[0.5555555555555556,\"#d8576b\"],[0.6666666666666666,\"#ed7953\"],[0.7777777777777778,\"#fb9f3a\"],[0.8888888888888888,\"#fdca26\"],[1.0,\"#f0f921\"]],\"type\":\"heatmapgl\"}],\"heatmap\":[{\"colorbar\":{\"outlinewidth\":0,\"ticks\":\"\"},\"colorscale\":[[0.0,\"#0d0887\"],[0.1111111111111111,\"#46039f\"],[0.2222222222222222,\"#7201a8\"],[0.3333333333333333,\"#9c179e\"],[0.4444444444444444,\"#bd3786\"],[0.5555555555555556,\"#d8576b\"],[0.6666666666666666,\"#ed7953\"],[0.7777777777777778,\"#fb9f3a\"],[0.8888888888888888,\"#fdca26\"],[1.0,\"#f0f921\"]],\"type\":\"heatmap\"}],\"histogram2dcontour\":[{\"colorbar\":{\"outlinewidth\":0,\"ticks\":\"\"},\"colorscale\":[[0.0,\"#0d0887\"],[0.1111111111111111,\"#46039f\"],[0.2222222222222222,\"#7201a8\"],[0.3333333333333333,\"#9c179e\"],[0.4444444444444444,\"#bd3786\"],[0.5555555555555556,\"#d8576b\"],[0.6666666666666666,\"#ed7953\"],[0.7777777777777778,\"#fb9f3a\"],[0.8888888888888888,\"#fdca26\"],[1.0,\"#f0f921\"]],\"type\":\"histogram2dcontour\"}],\"histogram2d\":[{\"colorbar\":{\"outlinewidth\":0,\"ticks\":\"\"},\"colorscale\":[[0.0,\"#0d0887\"],[0.1111111111111111,\"#46039f\"],[0.2222222222222222,\"#7201a8\"],[0.3333333333333333,\"#9c179e\"],[0.4444444444444444,\"#bd3786\"],[0.5555555555555556,\"#d8576b\"],[0.6666666666666666,\"#ed7953\"],[0.7777777777777778,\"#fb9f3a\"],[0.8888888888888888,\"#fdca26\"],[1.0,\"#f0f921\"]],\"type\":\"histogram2d\"}],\"histogram\":[{\"marker\":{\"pattern\":{\"fillmode\":\"overlay\",\"size\":10,\"solidity\":0.2}},\"type\":\"histogram\"}],\"mesh3d\":[{\"colorbar\":{\"outlinewidth\":0,\"ticks\":\"\"},\"type\":\"mesh3d\"}],\"parcoords\":[{\"line\":{\"colorbar\":{\"outlinewidth\":0,\"ticks\":\"\"}},\"type\":\"parcoords\"}],\"pie\":[{\"automargin\":true,\"type\":\"pie\"}],\"scatter3d\":[{\"line\":{\"colorbar\":{\"outlinewidth\":0,\"ticks\":\"\"}},\"marker\":{\"colorbar\":{\"outlinewidth\":0,\"ticks\":\"\"}},\"type\":\"scatter3d\"}],\"scattercarpet\":[{\"marker\":{\"colorbar\":{\"outlinewidth\":0,\"ticks\":\"\"}},\"type\":\"scattercarpet\"}],\"scattergeo\":[{\"marker\":{\"colorbar\":{\"outlinewidth\":0,\"ticks\":\"\"}},\"type\":\"scattergeo\"}],\"scattergl\":[{\"marker\":{\"colorbar\":{\"outlinewidth\":0,\"ticks\":\"\"}},\"type\":\"scattergl\"}],\"scattermapbox\":[{\"marker\":{\"colorbar\":{\"outlinewidth\":0,\"ticks\":\"\"}},\"type\":\"scattermapbox\"}],\"scatterpolargl\":[{\"marker\":{\"colorbar\":{\"outlinewidth\":0,\"ticks\":\"\"}},\"type\":\"scatterpolargl\"}],\"scatterpolar\":[{\"marker\":{\"colorbar\":{\"outlinewidth\":0,\"ticks\":\"\"}},\"type\":\"scatterpolar\"}],\"scatter\":[{\"fillpattern\":{\"fillmode\":\"overlay\",\"size\":10,\"solidity\":0.2},\"type\":\"scatter\"}],\"scatterternary\":[{\"marker\":{\"colorbar\":{\"outlinewidth\":0,\"ticks\":\"\"}},\"type\":\"scatterternary\"}],\"surface\":[{\"colorbar\":{\"outlinewidth\":0,\"ticks\":\"\"},\"colorscale\":[[0.0,\"#0d0887\"],[0.1111111111111111,\"#46039f\"],[0.2222222222222222,\"#7201a8\"],[0.3333333333333333,\"#9c179e\"],[0.4444444444444444,\"#bd3786\"],[0.5555555555555556,\"#d8576b\"],[0.6666666666666666,\"#ed7953\"],[0.7777777777777778,\"#fb9f3a\"],[0.8888888888888888,\"#fdca26\"],[1.0,\"#f0f921\"]],\"type\":\"surface\"}],\"table\":[{\"cells\":{\"fill\":{\"color\":\"#EBF0F8\"},\"line\":{\"color\":\"white\"}},\"header\":{\"fill\":{\"color\":\"#C8D4E3\"},\"line\":{\"color\":\"white\"}},\"type\":\"table\"}]},\"layout\":{\"annotationdefaults\":{\"arrowcolor\":\"#2a3f5f\",\"arrowhead\":0,\"arrowwidth\":1},\"autotypenumbers\":\"strict\",\"coloraxis\":{\"colorbar\":{\"outlinewidth\":0,\"ticks\":\"\"}},\"colorscale\":{\"diverging\":[[0,\"#8e0152\"],[0.1,\"#c51b7d\"],[0.2,\"#de77ae\"],[0.3,\"#f1b6da\"],[0.4,\"#fde0ef\"],[0.5,\"#f7f7f7\"],[0.6,\"#e6f5d0\"],[0.7,\"#b8e186\"],[0.8,\"#7fbc41\"],[0.9,\"#4d9221\"],[1,\"#276419\"]],\"sequential\":[[0.0,\"#0d0887\"],[0.1111111111111111,\"#46039f\"],[0.2222222222222222,\"#7201a8\"],[0.3333333333333333,\"#9c179e\"],[0.4444444444444444,\"#bd3786\"],[0.5555555555555556,\"#d8576b\"],[0.6666666666666666,\"#ed7953\"],[0.7777777777777778,\"#fb9f3a\"],[0.8888888888888888,\"#fdca26\"],[1.0,\"#f0f921\"]],\"sequentialminus\":[[0.0,\"#0d0887\"],[0.1111111111111111,\"#46039f\"],[0.2222222222222222,\"#7201a8\"],[0.3333333333333333,\"#9c179e\"],[0.4444444444444444,\"#bd3786\"],[0.5555555555555556,\"#d8576b\"],[0.6666666666666666,\"#ed7953\"],[0.7777777777777778,\"#fb9f3a\"],[0.8888888888888888,\"#fdca26\"],[1.0,\"#f0f921\"]]},\"colorway\":[\"#636efa\",\"#EF553B\",\"#00cc96\",\"#ab63fa\",\"#FFA15A\",\"#19d3f3\",\"#FF6692\",\"#B6E880\",\"#FF97FF\",\"#FECB52\"],\"font\":{\"color\":\"#2a3f5f\"},\"geo\":{\"bgcolor\":\"white\",\"lakecolor\":\"white\",\"landcolor\":\"white\",\"showlakes\":true,\"showland\":true,\"subunitcolor\":\"#C8D4E3\"},\"hoverlabel\":{\"align\":\"left\"},\"hovermode\":\"closest\",\"mapbox\":{\"style\":\"light\"},\"paper_bgcolor\":\"white\",\"plot_bgcolor\":\"white\",\"polar\":{\"angularaxis\":{\"gridcolor\":\"#EBF0F8\",\"linecolor\":\"#EBF0F8\",\"ticks\":\"\"},\"bgcolor\":\"white\",\"radialaxis\":{\"gridcolor\":\"#EBF0F8\",\"linecolor\":\"#EBF0F8\",\"ticks\":\"\"}},\"scene\":{\"xaxis\":{\"backgroundcolor\":\"white\",\"gridcolor\":\"#DFE8F3\",\"gridwidth\":2,\"linecolor\":\"#EBF0F8\",\"showbackground\":true,\"ticks\":\"\",\"zerolinecolor\":\"#EBF0F8\"},\"yaxis\":{\"backgroundcolor\":\"white\",\"gridcolor\":\"#DFE8F3\",\"gridwidth\":2,\"linecolor\":\"#EBF0F8\",\"showbackground\":true,\"ticks\":\"\",\"zerolinecolor\":\"#EBF0F8\"},\"zaxis\":{\"backgroundcolor\":\"white\",\"gridcolor\":\"#DFE8F3\",\"gridwidth\":2,\"linecolor\":\"#EBF0F8\",\"showbackground\":true,\"ticks\":\"\",\"zerolinecolor\":\"#EBF0F8\"}},\"shapedefaults\":{\"line\":{\"color\":\"#2a3f5f\"}},\"ternary\":{\"aaxis\":{\"gridcolor\":\"#DFE8F3\",\"linecolor\":\"#A2B1C6\",\"ticks\":\"\"},\"baxis\":{\"gridcolor\":\"#DFE8F3\",\"linecolor\":\"#A2B1C6\",\"ticks\":\"\"},\"bgcolor\":\"white\",\"caxis\":{\"gridcolor\":\"#DFE8F3\",\"linecolor\":\"#A2B1C6\",\"ticks\":\"\"}},\"title\":{\"x\":0.05},\"xaxis\":{\"automargin\":true,\"gridcolor\":\"#EBF0F8\",\"linecolor\":\"#EBF0F8\",\"ticks\":\"\",\"title\":{\"standoff\":15},\"zerolinecolor\":\"#EBF0F8\",\"zerolinewidth\":2},\"yaxis\":{\"automargin\":true,\"gridcolor\":\"#EBF0F8\",\"linecolor\":\"#EBF0F8\",\"ticks\":\"\",\"title\":{\"standoff\":15},\"zerolinecolor\":\"#EBF0F8\",\"zerolinewidth\":2}}},\"shapes\":[{\"line\":{\"dash\":\"dash\"},\"type\":\"line\",\"x0\":0,\"x1\":1,\"y0\":0,\"y1\":1}],\"title\":{\"text\":\"Dose 3 Positive\"},\"legend\":{\"yanchor\":\"bottom\",\"xanchor\":\"right\",\"x\":0.95,\"y\":0.01},\"xaxis\":{\"title\":{\"text\":\"False Positive Rate\"},\"range\":[0,1],\"constrain\":\"domain\",\"linecolor\":\"black\"},\"yaxis\":{\"title\":{\"text\":\"True Positive Rate\"},\"range\":[0,1],\"scaleanchor\":\"x\",\"scaleratio\":1,\"linecolor\":\"black\"},\"width\":500,\"height\":500},                        {\"responsive\": true}                    ).then(function(){\n",
       "                            \n",
       "var gd = document.getElementById('f3b329f6-0e64-4436-8b00-1174a49d4996');\n",
       "var x = new MutationObserver(function (mutations, observer) {{\n",
       "        var display = window.getComputedStyle(gd).display;\n",
       "        if (!display || display === 'none') {{\n",
       "            console.log([gd, 'removed!']);\n",
       "            Plotly.purge(gd);\n",
       "            observer.disconnect();\n",
       "        }}\n",
       "}});\n",
       "\n",
       "// Listen for the removal of the full notebook cells\n",
       "var notebookContainer = gd.closest('#notebook-container');\n",
       "if (notebookContainer) {{\n",
       "    x.observe(notebookContainer, {childList: true});\n",
       "}}\n",
       "\n",
       "// Listen for the clearing of the current output cell\n",
       "var outputEl = gd.closest('.output');\n",
       "if (outputEl) {{\n",
       "    x.observe(outputEl, {childList: true});\n",
       "}}\n",
       "\n",
       "                        })                };                });            </script>        </div>"
      ]
     },
     "metadata": {},
     "output_type": "display_data"
    }
   ],
   "source": [
    "c_line      = 'rgba( 152,52, 219, 0.5)'\n",
    "c_fill      = 'rgba( 152,52, 219, 0.2)'\n",
    "c_line_main = 'rgba( 128,41, 185, 1.0)'\n",
    "c_grid      = 'rgba( 195,189, 199, 0.5)'\n",
    "\n",
    "fig4 = go.Figure([\n",
    "    go.Scatter(\n",
    "        x          = fpr_mean,\n",
    "        y          = tpr_upper_d3_p,\n",
    "        line       = dict(color=c_line, width=1),\n",
    "        hoverinfo  = \"skip\",\n",
    "        showlegend = True,\n",
    "        name       = 'SD'),\n",
    "    go.Scatter(\n",
    "        x          = fpr_mean,\n",
    "        y          = tpr_lower_d3_p,\n",
    "        fill       = 'tonexty',\n",
    "        fillcolor  = c_fill,\n",
    "        line       = dict(color=c_line, width=1),\n",
    "        hoverinfo  = \"skip\",\n",
    "        showlegend = False,\n",
    "        name       = 'lower'),\n",
    "    go.Scatter(\n",
    "        x          = fpr_mean,\n",
    "        y          = tpr_mean_d3_p,\n",
    "        line       = dict(color=c_line_main, width=2),\n",
    "        hoverinfo  = \"skip\",\n",
    "        showlegend = True,\n",
    "        name       = 'AUC: 0.933')\n",
    "]\n",
    ")\n",
    "fig4.add_shape(\n",
    "    type ='line', \n",
    "    line =dict(dash='dash'),\n",
    "    x0=0, x1=1, y0=0, y1=1\n",
    ")\n",
    "fig4.update_layout(\n",
    "    template    = 'plotly_white', \n",
    "    title_x     = 0.5,\n",
    "    title = \"Dose 3 Positive\",\n",
    "    xaxis_title = \"False Positive Rate\",\n",
    "    yaxis_title = \"True Positive Rate\",\n",
    "    width       = 500,\n",
    "    height      = 500,\n",
    "    legend      = dict(\n",
    "        yanchor=\"bottom\", \n",
    "        xanchor=\"right\", \n",
    "        x=0.95,\n",
    "        y=0.01,\n",
    "    )\n",
    ")\n",
    "fig4.update_yaxes(\n",
    "    range       = [0, 1],\n",
    "    scaleanchor = \"x\", \n",
    "    scaleratio  = 1,\n",
    "    linecolor   = 'black')\n",
    "fig4.update_xaxes(\n",
    "    range       = [0, 1],\n",
    "    constrain   = 'domain',\n",
    "    linecolor   = 'black')\n",
    "fig4.write_image(\"fig_ml_D.svg\")\n",
    "fig4"
   ]
  },
  {
   "cell_type": "code",
   "execution_count": 30,
   "id": "d6e466fb-cbc5-42a4-abaf-9ad9ec17ea56",
   "metadata": {},
   "outputs": [],
   "source": [
    "df =data[\"data\"]['[SVM_RFE]']\n",
    "df.to_csv(fold + \"/res/table.csv\",index=False)\n"
   ]
  }
 ],
 "metadata": {
  "kernelspec": {
   "display_name": "Python 3 (ipykernel)",
   "language": "python",
   "name": "python3"
  },
  "language_info": {
   "codemirror_mode": {
    "name": "ipython",
    "version": 3
   },
   "file_extension": ".py",
   "mimetype": "text/x-python",
   "name": "python",
   "nbconvert_exporter": "python",
   "pygments_lexer": "ipython3",
   "version": "3.9.16"
  }
 },
 "nbformat": 4,
 "nbformat_minor": 5
}
